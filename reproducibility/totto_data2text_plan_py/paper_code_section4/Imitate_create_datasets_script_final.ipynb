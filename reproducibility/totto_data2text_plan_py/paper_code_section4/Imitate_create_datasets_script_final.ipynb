{
 "cells": [
  {
   "cell_type": "code",
   "execution_count": 1,
   "metadata": {},
   "outputs": [],
   "source": [
    "import pickle\n",
    "import numpy as np\n",
    "import codecs\n",
    "import random\n",
    "\n",
    "from nltk.tokenize import wordpunct_tokenize"
   ]
  },
  {
   "cell_type": "code",
   "execution_count": 2,
   "metadata": {},
   "outputs": [],
   "source": [
    "# load array of objects, where object - class Leaflet\n",
    "with open(\"/home/ruslan_yermakov/nlg-ra/datasets/LEAFLET_TRAIN_DATASET.pickle\", \"rb\") as f:\n",
    "    train_dataset = pickle.load(f)"
   ]
  },
  {
   "cell_type": "code",
   "execution_count": 3,
   "metadata": {},
   "outputs": [],
   "source": [
    "# load array of objects, where object - class Leaflet\n",
    "with open(\"/home/ruslan_yermakov/nlg-ra/datasets/LEAFLET_VALID_DATASET.pickle\", \"rb\") as f:\n",
    "    valid_dataset = pickle.load(f)"
   ]
  },
  {
   "cell_type": "code",
   "execution_count": 4,
   "metadata": {},
   "outputs": [],
   "source": [
    "# load array of objects, where object - class Leaflet\n",
    "with open(\"/home/ruslan_yermakov/nlg-ra/datasets/LEAFLET_TEST_DATASET.pickle\", \"rb\") as f:\n",
    "    test_dataset = pickle.load(f)"
   ]
  },
  {
   "cell_type": "code",
   "execution_count": 5,
   "metadata": {},
   "outputs": [
    {
     "data": {
      "text/plain": [
       "1068"
      ]
     },
     "execution_count": 5,
     "metadata": {},
     "output_type": "execute_result"
    }
   ],
   "source": [
    "len(train_dataset)"
   ]
  },
  {
   "cell_type": "code",
   "execution_count": 6,
   "metadata": {},
   "outputs": [
    {
     "data": {
      "text/plain": [
       "134"
      ]
     },
     "execution_count": 6,
     "metadata": {},
     "output_type": "execute_result"
    }
   ],
   "source": [
    "len(valid_dataset)"
   ]
  },
  {
   "cell_type": "code",
   "execution_count": 7,
   "metadata": {},
   "outputs": [
    {
     "data": {
      "text/plain": [
       "134"
      ]
     },
     "execution_count": 7,
     "metadata": {},
     "output_type": "execute_result"
    }
   ],
   "source": [
    "len(test_dataset)"
   ]
  },
  {
   "cell_type": "markdown",
   "metadata": {},
   "source": [
    "------------------------------------------------------------------------------------------------------"
   ]
  },
  {
   "cell_type": "markdown",
   "metadata": {},
   "source": [
    "## Produce same output as the script *create_dataset* from data2text-plain"
   ]
  },
  {
   "cell_type": "markdown",
   "metadata": {},
   "source": [
    "### Plan\n",
    "\n",
    "section_content -------- true text   \n",
    "\n",
    "entity_recognition  ------- actually input - set of records   \n",
    "\n",
    "Set of records in order they appear in section_content    -------- content plan "
   ]
  },
  {
   "cell_type": "code",
   "execution_count": 8,
   "metadata": {},
   "outputs": [],
   "source": [
    "RECORD_DELIM = \" \"\n",
    "DELIM = u\"￨\"\n",
    "\n",
    "HOME = \"HOME\"\n",
    "AWAY = \"AWAY\"\n",
    "\n",
    "# ENTITY = \"Indication\"\n",
    "ENTITY = \"Section4\"\n",
    "\n",
    "PAD_WORD = '<blank>'\n",
    "UNK_WORD = '<unk>'\n",
    "UNK = 0\n",
    "BOS_WORD = '<s>'\n",
    "EOS_WORD = '</s>'"
   ]
  },
  {
   "cell_type": "code",
   "execution_count": 9,
   "metadata": {},
   "outputs": [],
   "source": [
    "# make sure - sorted entities\n",
    "def _sort_key(entity):\n",
    "    return entity['BeginOffset']\n",
    "\n",
    "def test_order_entities(section_entities):\n",
    "    \n",
    "    sorted_entities = sorted(section_entities, key=_sort_key)\n",
    "    \n",
    "    if sorted_entities == section_entities: return True\n",
    "    \n",
    "    return False\n",
    "\n",
    "\n",
    "def test_order_dataset(dataset):\n",
    "    for leaflet in dataset:\n",
    "\n",
    "        current_leaflet_sections = [leaflet.section1, leaflet.section2, \n",
    "                                    leaflet.section3, leaflet.section4, \n",
    "                                    leaflet.section5, leaflet.section6]\n",
    "\n",
    "        for current_section in current_leaflet_sections:\n",
    "\n",
    "            if current_section.entity_recognition is None:\n",
    "                continue\n",
    "\n",
    "            assert test_order_entities(current_section.entity_recognition) == True\n",
    "\n",
    "            \n",
    "test_order_dataset(train_dataset)\n",
    "test_order_dataset(valid_dataset)\n",
    "test_order_dataset(test_dataset)"
   ]
  },
  {
   "cell_type": "code",
   "execution_count": 10,
   "metadata": {},
   "outputs": [],
   "source": [
    "def create_summary_contentplan(dataset):\n",
    "    \"\"\"\n",
    "    Transform dataset to be a suitable format for model data2text-plan\n",
    "    \"\"\"\n",
    "    \n",
    "    # array to store section1 of each leaflet\n",
    "    summaries_leaflets = []\n",
    "    \n",
    "    # array to store content plan of each leaflet\n",
    "    content_plan_leaflets = []\n",
    "    \n",
    "    for leaflet in dataset:\n",
    "        \n",
    "        # extract section1 content\n",
    "        section1_content = leaflet.section4.section_content\n",
    "        # extract results of NER\n",
    "        section1_entity_recognition = leaflet.section4.entity_recognition\n",
    "        \n",
    "        # skip if either input or output is None\n",
    "        if section1_content is None or section1_entity_recognition is None:\n",
    "            continue\n",
    "        \n",
    "        # get the content plan of each section\n",
    "        content_plan_section1 = ''\n",
    "\n",
    "        for entity in section1_entity_recognition:\n",
    "            entity_value = entity['Text'] if len(entity['Text'].split(\" \")) == 0 else (\"_\").join(entity['Text'].split(\" \"))\n",
    "            entity_type = entity['Type'] if entity['Type'] is not None and len(entity['Type']) > 0 else entity['Category']\n",
    "            \n",
    "            # randomly choose HOME or AWAY\n",
    "            if random.randint(1,2) == 1:\n",
    "                content_plan_section1 += entity_value + DELIM + ENTITY + DELIM + entity_type + DELIM + HOME\n",
    "            else:\n",
    "                content_plan_section1 += entity_value + DELIM + ENTITY + DELIM + entity_type + DELIM + AWAY\n",
    "            \n",
    "            if section1_entity_recognition.index(entity) != len(section1_entity_recognition) - 1:\n",
    "                content_plan_section1 += \" \"\n",
    "            else:\n",
    "                content_plan_section1 += \" \" + \"\\n\"\n",
    "\n",
    "\n",
    "        content_plan_leaflets.append(content_plan_section1)\n",
    "\n",
    "        # get the section1 content\n",
    "        # make sure to have punctuations as a separate token\n",
    "        section1_content = wordpunct_tokenize(section1_content)\n",
    "        \n",
    "        # back to string\n",
    "        section1_content = \" \".join(section1_content)\n",
    "        \n",
    "        # add \"\\n\" at the end\n",
    "        section1_content = section1_content + \"\\n\"\n",
    "        \n",
    "        summaries_leaflets.append(section1_content)\n",
    "    \n",
    "    return (content_plan_leaflets, summaries_leaflets)"
   ]
  },
  {
   "cell_type": "code",
   "execution_count": 11,
   "metadata": {},
   "outputs": [],
   "source": [
    "def add_special_records(records):\n",
    "    \"\"\"\n",
    "    To src_train.txt and src_valid.txt pre-append these special characters, according to data2text-plan project\n",
    "    \"\"\"\n",
    "    \n",
    "    record = []\n",
    "    record.append(UNK_WORD)\n",
    "    record.append(PAD_WORD)\n",
    "    record.append(PAD_WORD)\n",
    "    record.append(PAD_WORD)\n",
    "    records.append(DELIM.join(record))\n",
    "    record = []\n",
    "    record.append(PAD_WORD)\n",
    "    record.append(PAD_WORD)\n",
    "    record.append(PAD_WORD)\n",
    "    record.append(PAD_WORD)\n",
    "    records.append(DELIM.join(record))\n",
    "    record = []\n",
    "    record.append(BOS_WORD)\n",
    "    record.append(PAD_WORD)\n",
    "    record.append(PAD_WORD)\n",
    "    record.append(PAD_WORD)\n",
    "    records.append(DELIM.join(record))\n",
    "    record = []\n",
    "    record.append(EOS_WORD)\n",
    "    record.append(PAD_WORD)\n",
    "    record.append(PAD_WORD)\n",
    "    record.append(PAD_WORD)\n",
    "    records.append(DELIM.join(record))\n",
    "    \n",
    "    return records"
   ]
  },
  {
   "cell_type": "code",
   "execution_count": 12,
   "metadata": {},
   "outputs": [],
   "source": [
    "# get the src_train - training data to be input to the model\n",
    "\n",
    "def create_src_table(content_plan_leaflets):\n",
    "    \"\"\"\n",
    "    Create src_train - input \"table\" to the model\n",
    "    \n",
    "    Idea: - we do not have a table, so randomized the records in content plan\n",
    "    \n",
    "    Update: - do not randomize - make it easier for the model to learn\n",
    "    \"\"\"\n",
    "    \n",
    "    # store input \"table\" of each leaflet in array\n",
    "    src_leaflets = []\n",
    "    \n",
    "    for leaflet_content_plan in content_plan_leaflets:\n",
    "        # remove the end symbol ('\\n') of the string\n",
    "        leaflet_content_plan = leaflet_content_plan[:-2]\n",
    "\n",
    "        # split string into a list of records\n",
    "        leaflet_content_plan_collection = leaflet_content_plan.split(\" \")\n",
    "        \n",
    "        # do not do\n",
    "        # randomly shuffle records in a list\n",
    "        # random.shuffle(leaflet_content_plan_collection)\n",
    "        \n",
    "        # add special symbols to the begining\n",
    "        special_symbols = []\n",
    "        special_symbols = add_special_records(special_symbols)\n",
    "        \n",
    "        # create a string containing all the records and special_symbols in the begining\n",
    "        src_leaflet_section1 = ''\n",
    "\n",
    "        src_leaflet_section1 += \" \".join(special_symbols)\n",
    "        src_leaflet_section1 += \" \"\n",
    "\n",
    "        src_leaflet_section1 += \" \".join(leaflet_content_plan_collection)\n",
    "        src_leaflet_section1 += '\\n'\n",
    "\n",
    "\n",
    "        src_leaflets.append(src_leaflet_section1)\n",
    "    \n",
    "    return src_leaflets"
   ]
  },
  {
   "cell_type": "code",
   "execution_count": 13,
   "metadata": {},
   "outputs": [],
   "source": [
    "def create_training_sets(dataset):\n",
    "    \n",
    "    # Output files\n",
    "    INTER_CONTENT_PLAN = 'inter/train_content_plan.txt'  # intermediate content plan input to second stage\n",
    "    SRC_FILE = 'src_train.txt'  # src file input to first stage\n",
    "    TRAIN_TGT_FILE = \"tgt_train.txt\"  # tgt file of second stage\n",
    "    CONTENT_PLAN_OUT = 'train_content_plan.txt'  # content plan output of first stage\n",
    "    \n",
    "    # Create src - content_plan - summary\n",
    "    content_plan_leaflets, summaries_leaflets = create_summary_contentplan(dataset)\n",
    "    src_leaflets = create_src_table(content_plan_leaflets)\n",
    "    \n",
    "    # save to corresponding files\n",
    "    output_file = open(INTER_CONTENT_PLAN, 'w')\n",
    "    for content_plan in content_plan_leaflets:\n",
    "        output_file.write(content_plan)\n",
    "    output_file.close()\n",
    "    \n",
    "    summary_file = open(TRAIN_TGT_FILE, 'w')\n",
    "    for summary_leaflet in summaries_leaflets:\n",
    "        summary_file.write(summary_leaflet)\n",
    "    summary_file.close()\n",
    "    \n",
    "    src_file = open(SRC_FILE, 'w')\n",
    "    for src_instance in src_leaflets:\n",
    "        src_file.write(src_instance)\n",
    "    src_file.close()\n",
    "    \n",
    "    ### create last file needed - e.g (rotowire/train_content_plan.txt)\n",
    "    inputs = []\n",
    "    content_plans = []\n",
    "    with codecs.open(INTER_CONTENT_PLAN, \"r\", \"utf-8\") as corpus_file:\n",
    "        for i, line in enumerate(corpus_file):\n",
    "            content_plans.append(line.split())\n",
    "\n",
    "    with codecs.open(SRC_FILE, \"r\", \"utf-8\") as corpus_file:\n",
    "        for i, line in enumerate(corpus_file):\n",
    "            inputs.append(line.split())\n",
    "    \n",
    "    # basically - now content plan POINTs to index in the training dataset\n",
    "    # content_plan - collection of indexes where each index points to record in training dataset - training_dataset[index]\n",
    "    \n",
    "    outputs = []\n",
    "\n",
    "    for i, training_sample in enumerate(inputs):\n",
    "        content_plan = content_plans[i]\n",
    "        output = []\n",
    "        for record in content_plan:\n",
    "            output.append(str(training_sample.index(record)))\n",
    "        outputs.append(\" \".join(output))\n",
    "        \n",
    "    # write to a file\n",
    "\n",
    "    output_file = open(CONTENT_PLAN_OUT, 'w')\n",
    "\n",
    "    # add \\n to the end of the string\n",
    "    output_file.write(\"\\n\".join(outputs))\n",
    "    # add \\n between content plans\n",
    "    output_file.write(\"\\n\")\n",
    "\n",
    "    output_file.close()\n",
    "    \n",
    "    return src_leaflets, content_plan_leaflets, summaries_leaflets"
   ]
  },
  {
   "cell_type": "code",
   "execution_count": 14,
   "metadata": {},
   "outputs": [],
   "source": [
    "leaflets_src_train, leaflets_inter_contentplan_train, leaflets_tgt_train = create_training_sets(train_dataset)"
   ]
  },
  {
   "cell_type": "code",
   "execution_count": 15,
   "metadata": {},
   "outputs": [],
   "source": [
    "with open('src_train.txt') as reader:\n",
    "    # This reads the remaining lines from the file object and returns them as a list.\n",
    "    src_train = reader.readlines()"
   ]
  },
  {
   "cell_type": "code",
   "execution_count": 16,
   "metadata": {},
   "outputs": [],
   "source": [
    "with open('tgt_train.txt') as reader:\n",
    "    # This reads the remaining lines from the file object and returns them as a list.\n",
    "    tgt_train = reader.readlines()"
   ]
  },
  {
   "cell_type": "code",
   "execution_count": 17,
   "metadata": {},
   "outputs": [],
   "source": [
    "with open('train_content_plan.txt') as reader:\n",
    "    # This reads the remaining lines from the file object and returns them as a list.\n",
    "    train_content_plan = reader.readlines()"
   ]
  },
  {
   "cell_type": "code",
   "execution_count": 18,
   "metadata": {},
   "outputs": [],
   "source": [
    "with open('inter/train_content_plan.txt') as reader:\n",
    "    # This reads the remaining lines from the file object and returns them as a list.\n",
    "    inter_train_content_plan = reader.readlines()"
   ]
  },
  {
   "cell_type": "markdown",
   "metadata": {},
   "source": [
    "======================================================================================================================\n",
    "## Validation dataset "
   ]
  },
  {
   "cell_type": "code",
   "execution_count": 26,
   "metadata": {},
   "outputs": [],
   "source": [
    "def create_validation_sets(dataset):\n",
    "    \n",
    "    # Output files    \n",
    "    INTER_CONTENT_PLAN_VALID = 'inter/valid_content_plan.txt'  # intermediate content plan input to second stage\n",
    "    SRC_FILE_VALID = 'src_valid.txt'  # src file input to first stage\n",
    "    TRAIN_TGT_FILE_VALID = \"tgt_valid.txt\"  # tgt file of second stage\n",
    "    CONTENT_PLAN_OUT_VALID = 'valid_content_plan.txt'  # content plan output of first stage\n",
    "    \n",
    "    # Create src - content_plan - summary\n",
    "    content_plan_leaflets, summaries_leaflets = create_summary_contentplan(dataset)\n",
    "    src_leaflets = create_src_table(content_plan_leaflets)\n",
    "    \n",
    "    # save to corresponding files\n",
    "    output_file = open(INTER_CONTENT_PLAN_VALID, 'w')\n",
    "    for content_plan in content_plan_leaflets:\n",
    "        output_file.write(content_plan)\n",
    "    output_file.close()\n",
    "    \n",
    "    summary_file = open(TRAIN_TGT_FILE_VALID, 'w')\n",
    "    for summary_leaflet in summaries_leaflets:\n",
    "        summary_file.write(summary_leaflet)\n",
    "    summary_file.close()\n",
    "    \n",
    "    src_file = open(SRC_FILE_VALID, 'w')\n",
    "    for src_instance in src_leaflets:\n",
    "        src_file.write(src_instance)\n",
    "    src_file.close()\n",
    "    \n",
    "    ### create last file needed - e.g (rotowire/train_content_plan.txt)\n",
    "    inputs = []\n",
    "    content_plans = []\n",
    "    with codecs.open(INTER_CONTENT_PLAN_VALID, \"r\", \"utf-8\") as corpus_file:\n",
    "        for i, line in enumerate(corpus_file):\n",
    "            content_plans.append(line.split())\n",
    "\n",
    "    with codecs.open(SRC_FILE_VALID, \"r\", \"utf-8\") as corpus_file:\n",
    "        for i, line in enumerate(corpus_file):\n",
    "            inputs.append(line.split())\n",
    "    \n",
    "    # basically - now content plan POINTs to index in the training dataset\n",
    "    # content_plan - collection of indexes where each index points to record in training dataset - training_dataset[index]\n",
    "    \n",
    "    outputs = []\n",
    "\n",
    "    for i, training_sample in enumerate(inputs):\n",
    "        content_plan = content_plans[i]\n",
    "        output = []\n",
    "        for record in content_plan:\n",
    "            output.append(str(training_sample.index(record)))\n",
    "        outputs.append(\" \".join(output))\n",
    "        \n",
    "    # write to a file\n",
    "\n",
    "    output_file = open(CONTENT_PLAN_OUT_VALID, 'w')\n",
    "\n",
    "    # add \\n to the end of the string\n",
    "    output_file.write(\"\\n\".join(outputs))\n",
    "    # add \\n between content plans\n",
    "    output_file.write(\"\\n\")\n",
    "\n",
    "    output_file.close()\n",
    "    \n",
    "    return src_leaflets, content_plan_leaflets, summaries_leaflets"
   ]
  },
  {
   "cell_type": "code",
   "execution_count": 27,
   "metadata": {},
   "outputs": [],
   "source": [
    "leaflets_src_valid, leaflets_inter_contentplan_valid, leaflets_tgt_valid = create_validation_sets(valid_dataset)"
   ]
  },
  {
   "cell_type": "code",
   "execution_count": null,
   "metadata": {},
   "outputs": [],
   "source": []
  },
  {
   "cell_type": "code",
   "execution_count": 37,
   "metadata": {},
   "outputs": [],
   "source": [
    "with open('inter/valid_content_plan.txt') as reader:\n",
    "    # This reads the remaining lines from the file object and returns them as a list.\n",
    "    contentplan_valid = reader.readlines()"
   ]
  },
  {
   "cell_type": "markdown",
   "metadata": {},
   "source": [
    "INTER_CONTENT_PLAN_VALID = 'inter/valid_content_plan.txt'  # intermediate content plan input to second stage\n",
    "    SRC_FILE_VALID = 'src_valid.txt'  # src file input to first stage\n",
    "    TRAIN_TGT_FILE_VALID = \"tgt_valid.txt\"  # tgt file of second stage\n",
    "    CONTENT_PLAN_OUT_VALID = 'valid_content_plan.txt'  # content plan output of first stage"
   ]
  },
  {
   "cell_type": "markdown",
   "metadata": {},
   "source": [
    "================================================================================================================================\n",
    "## Test dataset "
   ]
  },
  {
   "cell_type": "code",
   "execution_count": 28,
   "metadata": {},
   "outputs": [],
   "source": [
    "def create_test_sets(dataset):\n",
    "    \n",
    "    # Output files\n",
    "    SRC_FILE_TEST = 'test/src_test.txt'  # src file input to first stage\n",
    "    TRAIN_TGT_FILE_TEST = \"test/tgt_test.txt\"  # tgt file of second stage \n",
    "    \n",
    "    \n",
    "    # Create src - content_plan - summary\n",
    "    content_plan_leaflets, summaries_leaflets = create_summary_contentplan(dataset)\n",
    "    src_leaflets = create_src_table(content_plan_leaflets)\n",
    "    \n",
    "    # save to just summary and src data\n",
    "    \n",
    "    summary_file = open(TRAIN_TGT_FILE_TEST, 'w')\n",
    "    for summary_leaflet in summaries_leaflets:\n",
    "        summary_file.write(summary_leaflet)\n",
    "    summary_file.close()\n",
    "    \n",
    "    src_file = open(SRC_FILE_TEST, 'w')\n",
    "    for src_instance in src_leaflets:\n",
    "        src_file.write(src_instance)\n",
    "    src_file.close()\n",
    "\n",
    "    return src_leaflets, summaries_leaflets"
   ]
  },
  {
   "cell_type": "code",
   "execution_count": 29,
   "metadata": {},
   "outputs": [],
   "source": [
    "leaflets_src_test, leaflets_tgt_test = create_test_sets(test_dataset)"
   ]
  },
  {
   "cell_type": "markdown",
   "metadata": {},
   "source": [
    "=======================================================================================================================\n",
    "## Creating *train-roto-ptrs.txt*"
   ]
  },
  {
   "cell_type": "code",
   "execution_count": 30,
   "metadata": {},
   "outputs": [],
   "source": [
    "# Output files\n",
    "INTER_CONTENT_PLAN = 'inter/train_content_plan.txt'  # intermediate content plan input to second stage\n",
    "TRAIN_TGT_FILE = \"tgt_train.txt\"  # tgt file of second stage\n",
    "OUTPUT_FILE = \"train-roto-ptrs.txt\""
   ]
  },
  {
   "cell_type": "code",
   "execution_count": 31,
   "metadata": {},
   "outputs": [],
   "source": [
    "with open(TRAIN_TGT_FILE) as reader:\n",
    "    leaflet_tgt_train = reader.readlines()"
   ]
  },
  {
   "cell_type": "code",
   "execution_count": 32,
   "metadata": {},
   "outputs": [],
   "source": [
    "with open(INTER_CONTENT_PLAN) as reader:\n",
    "    leaflets_inter_content_plan = reader.readlines()"
   ]
  },
  {
   "cell_type": "markdown",
   "metadata": {},
   "source": [
    "For eg: the last entry 245,39 in train_roto_ptrs[1] indicates that the 245th token in summary matches with 39th content plan entry.  \n",
    "\n",
    "Phoenix ----> Phoenix￨Suns￨TEAM-CITY￨HOME  \n",
    "Suns ----> Suns￨Suns￨TEAM-NAME￨HOME  \n",
    "39 ----> 39￨Suns￨TEAM-WINS￨HOME  \n",
    "38 ----> 38￨Suns￨TEAM-LOSSES￨HOME  \n",
    "87 ----> 87￨Suns￨TEAM-PTS￨HOME  \n",
    "85 ----> 85￨Jazz￨TEAM-PTS￨AWAY  \n",
    "Utah ----> Utah￨Jazz￨TEAM-CITY￨AWAY  "
   ]
  },
  {
   "cell_type": "code",
   "execution_count": 33,
   "metadata": {},
   "outputs": [
    {
     "data": {
      "text/plain": [
       "\"like all medicines , cystagon can cause side effects , although not everybody gets them . cystagon may cause some people to become drowsy or less vigilant than they are normally . make sure you know how you or your child reacts to this medicine before doing anything that could be dangerous if not alert . the following side effects were reported as follows : very common ( occurring in at least one in 10 patients ), common ( occurring in at least one in 100 patients ), uncommon ( occurring in at least one in1 , 000 patients ), rare ( occurring in at least one in 10 , 000 patients ), very rare ( occurring in at least one in 100 , 000 patients ). - very common : vomiting , nausea , diarrhoea , loss of appetite , fever and sensation of sleep - common : abdominal pain or discomfort , unpleasant breath and body odour , skin eruption , gastroenteritis , fatigue , headache , encephalopathy ( brain disorder ) and liver function test abnormalities . - uncommon : skin striae , skin lesion ( little - hard lumps on elbows ), joint laxity , leg pain , bone fracture , scoliosis ( deviation of the vertebral column ), bone deformity and fragility , hair discoloration , severe allergic reaction , somnolence , fits , nervousness , hallucination , decrease in white blood cells , gastrointestinal ulcer manifested by bleeding in the digestive tract and effect on the kidney manifested by swelling of the extremities and weight gain . since some of these side effects are serious , ask your or your child ' s doctor to explain their warning signs . reporting of side effects if you get any side effects , talk to your doctor or pharmacist . this includes any possible side effects not listed in this leaflet . you can also report side effects directly via the national reporting system listed in appendix v . by reporting side effects you can help provide more information on the safety of this medicine .\\n\""
      ]
     },
     "execution_count": 33,
     "metadata": {},
     "output_type": "execute_result"
    }
   ],
   "source": [
    "leaflet_tgt_train[0]"
   ]
  },
  {
   "cell_type": "code",
   "execution_count": 34,
   "metadata": {},
   "outputs": [
    {
     "data": {
      "text/plain": [
       "'cystagon￨Section4￨PRODUCT_NAME￨AWAY all_medicines￨Section4￨TREATMENT￨HOME cystagon￨Section4￨GENERIC_NAME￨HOME side_effects￨Section4￨DX_NAME￨AWAY cystagon￨Section4￨GENERIC_NAME￨AWAY drowsy￨Section4￨DX_NAME￨HOME alert￨Section4￨DX_NAME￨HOME side_effects￨Section4￨DX_NAME￨HOME 10￨Section4￨NUMBER￨HOME 100￨Section4￨NUMBER￨HOME 10,000￨Section4￨NUMBER￨AWAY 100,000￨Section4￨NUMBER￨AWAY vomiting￨Section4￨DX_NAME￨AWAY nausea￨Section4￨DX_NAME￨AWAY diarrhoea￨Section4￨DX_NAME￨AWAY loss_of_appetite￨Section4￨DX_NAME￨AWAY fever￨Section4￨DX_NAME￨HOME sensation_of_sleep￨Section4￨DX_NAME￨AWAY abdominal_pain￨Section4￨DX_NAME￨AWAY discomfort￨Section4￨DX_NAME￨HOME unpleasant_breath￨Section4￨DX_NAME￨HOME body_odour￨Section4￨DX_NAME￨AWAY skin_eruption￨Section4￨DX_NAME￨AWAY gastroenteritis￨Section4￨DX_NAME￨HOME fatigue￨Section4￨DX_NAME￨AWAY headache￨Section4￨DX_NAME￨AWAY encephalopathy_(brain_disorder￨Section4￨PROBLEM￨AWAY liver_function_test_abnormalities￨Section4￨DX_NAME￨AWAY skin_striae￨Section4￨DX_NAME￨HOME skin_lesion￨Section4￨DX_NAME￨HOME hard_lumps_on_elbows￨Section4￨PROBLEM￨HOME joint_laxity￨Section4￨DX_NAME￨HOME leg_pain￨Section4￨DX_NAME￨HOME bone_fracture￨Section4￨DX_NAME￨HOME scoliosis_(deviation_of_the_vertebral_column￨Section4￨PROBLEM￨HOME bone_deformity￨Section4￨DX_NAME￨HOME fragility￨Section4￨DX_NAME￨AWAY hair_discoloration￨Section4￨DX_NAME￨AWAY severe_allergic_reaction￨Section4￨PROBLEM￨AWAY somnolence￨Section4￨DX_NAME￨HOME nervousness￨Section4￨DX_NAME￨AWAY hallucination￨Section4￨DX_NAME￨AWAY decrease_in_white_blood_cells￨Section4￨DX_NAME￨HOME gastrointestinal_ulcer￨Section4￨DX_NAME￨HOME bleeding_in_the_digestive_tract￨Section4￨PROBLEM￨HOME the_kidney￨Section4￨PROBLEM￨HOME swelling_of_the_extremities￨Section4￨PROBLEM￨HOME weight_gain￨Section4￨DX_NAME￨HOME side_effects￨Section4￨DX_NAME￨AWAY side_effects￨Section4￨DX_NAME￨AWAY side_effects￨Section4￨DX_NAME￨HOME side_effects￨Section4￨DX_NAME￨AWAY side_effects￨Section4￨DX_NAME￨HOME appendix_v.￨Section4￨DX_NAME￨HOME side_effects￨Section4￨DX_NAME￨HOME this_medicine￨Section4￨TREATMENT￨AWAY \\n'"
      ]
     },
     "execution_count": 34,
     "metadata": {},
     "output_type": "execute_result"
    }
   ],
   "source": [
    "leaflets_inter_content_plan[0]"
   ]
  },
  {
   "cell_type": "code",
   "execution_count": 35,
   "metadata": {},
   "outputs": [],
   "source": [
    "roto_pts_content = []\n",
    "\n",
    "# for each leaflet\n",
    "for leflet_num in range(len(leaflet_tgt_train)):\n",
    "    \n",
    "    # get current leaflet and content plan\n",
    "    current_leaflet = leaflet_tgt_train[leflet_num].split()\n",
    "    current_content_plan = leaflets_inter_content_plan[leflet_num].split()\n",
    "    \n",
    "    # get the values of content plan\n",
    "    instances = []\n",
    "    for entry in current_content_plan:\n",
    "        record_values = entry.split(DELIM)[0]\n",
    "        instances.append(record_values)\n",
    "    \n",
    "    # pairs (index_tgt, index_contentplan) for each leaflet\n",
    "    current_str = []\n",
    "    \n",
    "    # for each token in current summary\n",
    "    for token_pos in range(len(current_leaflet)):\n",
    "        \n",
    "        # get token\n",
    "        token = current_leaflet[token_pos]\n",
    "        \n",
    "        # possible tokens if 2 words in content plan like 'immunodeficiency_syndrome'\n",
    "        if token_pos < (len(current_leaflet)-1):\n",
    "            token_2words = current_leaflet[token_pos] + \"_\" + current_leaflet[token_pos+1]\n",
    "        else:\n",
    "            token_2words = 'something that would never be in the section content'\n",
    "        \n",
    "        ### my-new-change\n",
    "        # possible tokens if 3 words in content plan\n",
    "        if token_pos < (len(current_leaflet)-2):\n",
    "            token_3words = current_leaflet[token_pos] + \"_\" + current_leaflet[token_pos+1] + \"_\" + current_leaflet[token_pos+2]\n",
    "        else:\n",
    "            token_3words = 'something that would never be in the section content'\n",
    "        \n",
    "        # possible tokens if 4 words in content plan\n",
    "        if token_pos < (len(current_leaflet)-3):\n",
    "            token_4words = current_leaflet[token_pos] + \"_\" + current_leaflet[token_pos+1] + \"_\" + current_leaflet[token_pos+2] + \"_\" + current_leaflet[token_pos+3]\n",
    "        else:\n",
    "            token_4words = 'something that would never be in the section content'\n",
    "        \n",
    "        \n",
    "        for content_plan_index in range(len(instances)):\n",
    "                \n",
    "            if token_4words == instances[content_plan_index]:\n",
    "                # mask the corresponding position in content plan\n",
    "                instances[content_plan_index] = \"MASKED\"\n",
    "                pair = str(token_pos) + \",\" + str(content_plan_index)\n",
    "                current_str.append(pair)\n",
    "\n",
    "                # find just one match\n",
    "                break\n",
    "            \n",
    "            if token_3words == instances[content_plan_index]:\n",
    "                # mask the corresponding position in content plan\n",
    "                instances[content_plan_index] = \"MASKED\"\n",
    "                pair = str(token_pos) + \",\" + str(content_plan_index)\n",
    "                current_str.append(pair)\n",
    "                # find just one match\n",
    "                break\n",
    "            \n",
    "            if token_2words == instances[content_plan_index]:\n",
    "                # mask the corresponding position in content plan\n",
    "                instances[content_plan_index] = \"MASKED\"\n",
    "                pair = str(token_pos) + \",\" + str(content_plan_index)\n",
    "                current_str.append(pair)\n",
    "                # find just one match\n",
    "                break\n",
    "            \n",
    "            if token == instances[content_plan_index]:\n",
    "                # mask the corresponding position in content plan\n",
    "                instances[content_plan_index] = \"MASKED\"\n",
    "                pair = str(token_pos) + \",\" + str(content_plan_index)\n",
    "                current_str.append(pair)\n",
    "                # find just one match\n",
    "                break\n",
    "    \n",
    "    # join pairs into string with \" \" between pairs\n",
    "    current_str = \" \".join(current_str)\n",
    "    \n",
    "    # add \"\\n\" at the end\n",
    "    current_str += \"\\n\"\n",
    "    \n",
    "    roto_pts_content.append(current_str)"
   ]
  },
  {
   "cell_type": "code",
   "execution_count": 36,
   "metadata": {},
   "outputs": [],
   "source": [
    "OUTPUT_FILE = \"train-roto-ptrs.txt\"\n",
    "\n",
    "src_file = open(OUTPUT_FILE, 'w')\n",
    "for src_instance in roto_pts_content:\n",
    "    src_file.write(src_instance)\n",
    "src_file.close()"
   ]
  },
  {
   "cell_type": "code",
   "execution_count": 37,
   "metadata": {},
   "outputs": [
    {
     "data": {
      "text/plain": [
       "1028"
      ]
     },
     "execution_count": 37,
     "metadata": {},
     "output_type": "execute_result"
    }
   ],
   "source": [
    "len(roto_pts_content)"
   ]
  },
  {
   "cell_type": "code",
   "execution_count": 38,
   "metadata": {},
   "outputs": [],
   "source": [
    "index = 500"
   ]
  },
  {
   "cell_type": "code",
   "execution_count": 39,
   "metadata": {},
   "outputs": [
    {
     "data": {
      "text/plain": [
       "'1,1 4,2 8,3 19,4 24,5 27,6 28,31 33,7 36,8 38,9 41,10 42,11 53,0 58,13 63,14 65,15 67,16 72,17 81,18 84,19 92,20 94,21 99,22 103,23 107,24 109,25 112,26 115,27 118,54 123,28 133,29 147,32 152,92 166,93 172,33 175,34 177,35 180,36 183,38 185,37 191,88 198,12 205,40 207,41 209,42 214,44 228,47 230,48 240,49 242,50 249,51 273,39 281,55 285,56 287,57 289,58 293,59 298,60 301,61 308,62 311,63 313,64 316,65 318,66 320,67 322,68 326,69 329,70 330,90 333,71 336,72 338,73 367,77 383,80 387,81 396,82 401,84 408,85 428,89 437,91 443,94 449,95 463,97 485,96 502,98\\n'"
      ]
     },
     "execution_count": 39,
     "metadata": {},
     "output_type": "execute_result"
    }
   ],
   "source": [
    "roto_pts_content[index]"
   ]
  },
  {
   "cell_type": "code",
   "execution_count": 40,
   "metadata": {},
   "outputs": [
    {
     "data": {
      "text/plain": [
       "85"
      ]
     },
     "execution_count": 40,
     "metadata": {},
     "output_type": "execute_result"
    }
   ],
   "source": [
    "len(roto_pts_content[index].split())"
   ]
  },
  {
   "cell_type": "code",
   "execution_count": 41,
   "metadata": {},
   "outputs": [
    {
     "data": {
      "text/plain": [
       "99"
      ]
     },
     "execution_count": 41,
     "metadata": {},
     "output_type": "execute_result"
    }
   ],
   "source": [
    "len(leaflets_inter_content_plan[index].split())"
   ]
  },
  {
   "cell_type": "markdown",
   "metadata": {},
   "source": [
    "### Check whether correct"
   ]
  },
  {
   "cell_type": "code",
   "execution_count": 42,
   "metadata": {},
   "outputs": [
    {
     "name": "stdout",
     "output_type": "stream",
     "text": [
      "['all', 'medicines', ',', 'this'] ----> all_medicines￨Section4￨TREATMENT￨HOME\n",
      "['this', 'medicine', 'can', 'cause'] ----> this_medicine￨Section4￨TREATMENT￨AWAY\n",
      "['side', 'effects', ',', 'although'] ----> side_effects￨Section4￨DX_NAME￨HOME\n",
      "['side', 'effects', 'may', 'happen'] ----> side_effects￨Section4￨DX_NAME￨AWAY\n",
      "['this', 'medicine', ':', 'serious'] ----> this_medicine￨Section4￨TREATMENT￨HOME\n",
      "['serious', 'side', 'effects', 'uncommon'] ----> serious_side_effects￨Section4￨PROBLEM￨AWAY\n",
      "['side', 'effects', 'uncommon', '('] ----> side_effects￨Section4￨DX_NAME￨HOME\n",
      "['affect', 'up', 'to', '1'] ----> affect￨Section4￨DX_NAME￨AWAY\n",
      "['1', 'in', '100', 'people'] ----> 1￨Section4￨NUMBER￨AWAY\n",
      "['100', 'people', ')', 'immediate'] ----> 100￨Section4￨NUMBER￨AWAY\n",
      "['immediate', 'breathing', 'difficulties', ':'] ----> immediate_breathing_difficulties￨Section4￨PROBLEM￨AWAY\n",
      "['breathing', 'difficulties', ':', 'if'] ----> breathing_difficulties￨Section4￨DX_NAME￨AWAY\n",
      "['trixeo', 'aerosphere', ',', 'such'] ----> trixeo_aerosphere￨Section4￨PRODUCT_NAME￨AWAY\n",
      "['tightness', 'of', 'the', 'chest'] ----> tightness_of_the_chest￨Section4￨PROBLEM￨AWAY\n",
      "['coughing', ',', 'wheezing', 'or'] ----> coughing￨Section4￨DX_NAME￨AWAY\n",
      "['wheezing', 'or', 'feeling', 'breathless'] ----> wheezing￨Section4￨DX_NAME￨HOME\n",
      "['feeling', 'breathless', ',', 'stop'] ----> feeling_breathless￨Section4￨DX_NAME￨HOME\n",
      "['this', 'medicine', 'and', 'tell'] ----> this_medicine￨Section4￨TREATMENT￨AWAY\n",
      "['allergic', 'reactions', ':', 'swelling'] ----> allergic_reactions￨Section4￨DX_NAME￨HOME\n",
      "['swelling', 'of', 'your', 'face'] ----> swelling_of_your_face￨Section4￨PROBLEM￨AWAY\n",
      "['mouth', '(', 'swelling', 'of'] ----> mouth￨Section4￨SYSTEM_ORGAN_SITE￨AWAY\n",
      "['swelling', 'of', 'your', 'tongue'] ----> swelling_of_your_tongue￨Section4￨PROBLEM￨HOME\n",
      "['throat', 'may', 'make', 'it'] ----> throat￨Section4￨SYSTEM_ORGAN_SITE￨HOME\n",
      "['difficult', 'to', 'swallow', ')'] ----> difficult_to_swallow￨Section4￨DX_NAME￨HOME\n",
      "['rash', 'or', 'hives', 'together'] ----> rash￨Section4￨DX_NAME￨AWAY\n",
      "['hives', 'together', 'with', 'difficulty'] ----> hives￨Section4￨DX_NAME￨AWAY\n",
      "['difficulty', 'breathing', 'suddenly', 'feeling'] ----> difficulty_breathing￨Section4￨DX_NAME￨HOME\n",
      "['feeling', 'faint', 'these', 'symptoms'] ----> feeling_faint￨Section4￨DX_NAME￨HOME\n",
      "['symptoms', 'may', 'be', 'signs'] ----> symptoms￨Section4￨PROBLEM￨AWAY\n",
      "['an', 'allergic', 'reaction', 'which'] ----> an_allergic_reaction￨Section4￨PROBLEM￨AWAY\n",
      "['this', 'medicine', 'and', 'call'] ----> this_medicine￨Section4￨TREATMENT￨HOME\n",
      "['side', 'effects', 'above', '.'] ----> side_effects￨Section4￨DX_NAME￨AWAY\n",
      "['side', 'effects', 'tell', 'your'] ----> side_effects￨Section4￨DX_NAME￨AWAY\n",
      "['side', 'effects', ':', 'common'] ----> side_effects￨Section4￨DX_NAME￨HOME\n",
      "['affect', 'up', 'to', '1'] ----> affect￨Section4￨DX_NAME￨HOME\n",
      "['1', 'in', '10', 'people'] ----> 1￨Section4￨NUMBER￨HOME\n",
      "['10', 'people', ')', 'thrush'] ----> 10￨Section4￨NUMBER￨AWAY\n",
      "['thrush', 'in', 'the', 'mouth'] ----> thrush_in_the_mouth￨Section4￨PROBLEM￨AWAY\n",
      "['mouth', '(', 'a', 'fungal'] ----> mouth￨Section4￨SYSTEM_ORGAN_SITE￨HOME\n",
      "['a', 'fungal', 'infection', ').'] ----> a_fungal_infection￨Section4￨PROBLEM￨AWAY\n",
      "['mouth', 'out', 'with', 'water'] ----> mouth￨Section4￨SYSTEM_ORGAN_SITE￨AWAY\n",
      "['trixeo', 'aerosphere', 'may', 'help'] ----> trixeo_aerosphere￨Section4￨TREATMENT￨AWAY\n",
      "['feeling', 'anxious', 'difficulty', 'sleeping'] ----> feeling_anxious￨Section4￨DX_NAME￨AWAY\n",
      "['difficulty', 'sleeping', 'feeling', 'sick'] ----> difficulty_sleeping￨Section4￨DX_NAME￨AWAY\n",
      "['feeling', 'sick', '(', 'nausea'] ----> feeling_sick￨Section4￨DX_NAME￨HOME\n",
      "['headache', 'coughing', 'or', 'a'] ----> headache_coughing￨Section4￨PROBLEM￨AWAY\n",
      "['palpitations', ')', 'high', 'blood'] ----> palpitations￨Section4￨DX_NAME￨AWAY\n",
      "['high', 'blood', 'sugar', 'levels'] ----> high_blood_sugar_levels￨Section4￨DX_NAME￨HOME\n",
      "['painful', 'and', 'frequent', 'urination'] ----> painful￨Section4￨DX_NAME￨AWAY\n",
      "['frequent', 'urination', '(', 'may'] ----> frequent_urination￨Section4￨DX_NAME￨HOME\n",
      "['a', 'urinary', 'tract', 'infection'] ----> a_urinary_tract_infection￨Section4￨PROBLEM￨AWAY\n",
      "['trixeo', 'aerosphere', ',', 'they'] ----> trixeo_aerosphere￨Section4￨TREATMENT￨HOME\n",
      "['a', 'lung', 'infection', ':'] ----> a_lung_infection￨Section4￨PROBLEM￨HOME\n",
      "['fever', 'or', 'chills', ','] ----> fever￨Section4￨DX_NAME￨HOME\n",
      "['chills', ',', 'increased', 'mucus'] ----> chills￨Section4￨DX_NAME￨HOME\n",
      "['increased', 'mucus', 'production', ','] ----> increased_mucus_production￨Section4￨PROBLEM￨HOME\n",
      "['change', 'in', 'mucus', 'colour'] ----> change_in_mucus_colour￨Section4￨DX_NAME￨AWAY\n",
      "['increased', 'cough', 'or', 'increased'] ----> increased_cough￨Section4￨PROBLEM￨HOME\n",
      "['increased', 'breathing', 'difficulties', '.'] ----> increased_breathing_difficulties￨Section4￨PROBLEM￨HOME\n",
      "['affect', 'up', 'to', '1'] ----> affect￨Section4￨DX_NAME￨AWAY\n",
      "['1', 'in', '100', 'people'] ----> 1￨Section4￨NUMBER￨HOME\n",
      "['100', 'people', ')', 'shaking'] ----> 100￨Section4￨NUMBER￨HOME\n",
      "['shaking', ',', 'tremor', 'or'] ----> shaking￨Section4￨DX_NAME￨HOME\n",
      "['tremor', 'or', 'feeling', 'dizzy'] ----> tremor￨Section4￨DX_NAME￨HOME\n",
      "['feeling', 'dizzy', 'dry', 'mouth'] ----> feeling_dizzy￨Section4￨DX_NAME￨AWAY\n",
      "['dry', 'mouth', ',', 'or'] ----> dry_mouth￨Section4￨DX_NAME￨HOME\n",
      "['mild', 'irritation', 'in', 'the'] ----> mild_irritation￨Section4￨PROBLEM￨AWAY\n",
      "['the', 'throat', 'bruising', 'of'] ----> the_throat_bruising￨Section4￨PROBLEM￨AWAY\n",
      "['throat', 'bruising', 'of', 'the'] ----> throat￨Section4￨SYSTEM_ORGAN_SITE￨AWAY\n",
      "['the', 'skin', 'feeling', 'restless'] ----> the_skin￨Section4￨PROBLEM￨HOME\n",
      "['restless', ',', 'nervous', 'or'] ----> restless￨Section4￨DX_NAME￨AWAY\n",
      "['nervous', 'or', 'agitated', 'depression'] ----> nervous￨Section4￨DX_NAME￨HOME\n",
      "['1', 'in', '10', ','] ----> 1￨Section4￨NUMBER￨HOME\n",
      "['35', 'not', 'known', '('] ----> 35￨Section4￨NUMBER￨AWAY\n",
      "['frequency', 'cannot', 'be', 'estimated'] ----> frequency￨Section4￨DX_NAME￨AWAY\n",
      "['blurred', 'vision', 'clouding', 'of'] ----> blurred_vision￨Section4￨DX_NAME￨AWAY\n",
      "['lens', 'of', 'your', 'eyes'] ----> lens￨Section4￨SYSTEM_ORGAN_SITE￨HOME\n",
      "['cataract', ')', 'increased', 'pressure'] ----> cataract￨Section4￨DX_NAME￨HOME\n",
      "['swelling', 'of', 'your', 'tongue'] ----> swelling_of_your_tongue￨Section4￨PROBLEM￨HOME\n",
      "['difficult', 'to', 'swallow', ')'] ----> difficult_to_swallow￨Section4￨DX_NAME￨AWAY\n",
      "['side', 'effects', 'if', 'you'] ----> side_effects￨Section4￨DX_NAME￨AWAY\n",
      "['side', 'effects', ',', 'talk'] ----> side_effects￨Section4￨DX_NAME￨HOME\n",
      "['side', 'effects', 'not', 'listed'] ----> side_effects￨Section4￨DX_NAME￨AWAY\n",
      "['appendix', 'v', '.', 'by'] ----> appendix￨Section4￨SYSTEM_ORGAN_SITE￨HOME\n",
      "['this', 'medicine', '.'] ----> this_medicine￨Section4￨TREATMENT￨HOME\n"
     ]
    }
   ],
   "source": [
    "content_plan_indeces = []\n",
    "\n",
    "for pair in roto_pts_content[index].split():\n",
    "    pair = pair.split(\",\")\n",
    "    \n",
    "    a = int(pair[0])\n",
    "    b = int(pair[1])\n",
    "    \n",
    "    content_plan_indeces.append(b)\n",
    "    \n",
    "    print(leaflet_tgt_train[index].split()[a:a+4], end=\" ----> \")\n",
    "    print(leaflets_inter_content_plan[index].split()[b])\n",
    "    "
   ]
  },
  {
   "cell_type": "code",
   "execution_count": 43,
   "metadata": {},
   "outputs": [
    {
     "name": "stdout",
     "output_type": "stream",
     "text": [
      "the_serious_side_effects_above￨Section4￨PROBLEM￨HOME\n",
      "nausea)￨Section4￨PROBLEM￨HOME\n",
      "a_hoarse_voice_muscle_cramps￨Section4￨PROBLEM￨AWAY\n",
      "awareness_of_your_heart_beating￨Section4￨DX_NAME￨AWAY\n",
      "pneumonia_(infection_of_the_lung￨Section4￨PROBLEM￨AWAY\n",
      "trixeo_aerosphere￨Section4￨TREATMENT￨AWAY\n",
      "agitated_depression_fast_heart_beat￨Section4￨PROBLEM￨AWAY\n",
      "uneven_heart_beat_chest_pain￨Section4￨PROBLEM￨AWAY\n",
      "tightening_in_the_chest_(angina_pectoris)￨Section4￨PROBLEM￨AWAY\n",
      "10,000￨Section4￨NUMBER￨AWAY\n",
      "changes_in_behaviour_an_effect￨Section4￨DX_NAME￨AWAY\n",
      "clouding_of_the_lens_of_your_eyes￨Section4￨DX_NAME￨AWAY\n",
      "increased_pressure_in_the_eye￨Section4￨PROBLEM￨AWAY\n",
      "glaucoma)_swelling_of_your_face￨Section4￨PROBLEM￨AWAY\n"
     ]
    }
   ],
   "source": [
    "# check out pairs missed\n",
    "for i in range(0, len(leaflets_inter_content_plan[index].split()), 1):\n",
    "    if i not in content_plan_indeces:\n",
    "        print(leaflets_inter_content_plan[index].split()[i])\n",
    "        \n",
    "# explanation - 3-word long token\n",
    "# explanation - hiv_infection ---> bc NER outputs - 'hiv', 'hiv_infection' - in content plan I have 2 tokens starting with 'hiv'"
   ]
  },
  {
   "cell_type": "code",
   "execution_count": 44,
   "metadata": {},
   "outputs": [
    {
     "data": {
      "text/plain": [
       "'like all medicines , this medicine can cause side effects , although not everybody gets them . the following side effects may happen with this medicine : serious side effects uncommon ( may affect up to 1 in 100 people ) immediate breathing difficulties : if you get breathing difficulties straight after using trixeo aerosphere , such as tightness of the chest , coughing , wheezing or feeling breathless , stop using this medicine and tell your doctor straight away . allergic reactions : swelling of your face , particularly around your mouth ( swelling of your tongue or throat may make it difficult to swallow ) rash or hives together with difficulty breathing suddenly feeling faint these symptoms may be signs of an allergic reaction which may become serious . stop using this medicine and call for medical help straight away if you notice the serious side effects above . other side effects tell your doctor or pharmacist if you notice any of the following side effects : common ( may affect up to 1 in 10 people ) thrush in the mouth ( a fungal infection ). rinsing your mouth out with water immediately after using trixeo aerosphere may help prevent this . feeling anxious difficulty sleeping feeling sick ( nausea ) headache coughing or a hoarse voice muscle cramps awareness of your heart beating ( palpitations ) high blood sugar levels ( as shown in tests ) painful and frequent urination ( may be signs of a urinary tract infection ) pneumonia ( infection of the lung ). tell your doctor if you have any of the following while using trixeo aerosphere , they could be symptoms of a lung infection : fever or chills , increased mucus production , change in mucus colour , increased cough or increased breathing difficulties . uncommon ( may affect up to 1 in 100 people ) shaking , tremor or feeling dizzy dry mouth , or mild irritation in the throat bruising of the skin feeling restless , nervous or agitated depression fast heart beat or uneven heart beat chest pain or tightening in the chest ( angina pectoris ) very rare ( may affect up to 1 in 10 , 000 people ) changes in behaviour an effect on the adrenal gland 35 not known ( frequency cannot be estimated from the available data ): blurred vision clouding of the lens of your eyes ( signs of cataract ) increased pressure in the eye ( glaucoma ) swelling of your face , particularly around your mouth ( swelling of your tongue or throat may make it difficult to swallow ) reporting of side effects if you get any side effects , talk to your doctor or pharmacist . this includes any possible side effects not listed in this leaflet . you can also report side effects directly via the national reporting system listed in appendix v . by reporting side effects you can help provide more information on the safety of this medicine .\\n'"
      ]
     },
     "execution_count": 44,
     "metadata": {},
     "output_type": "execute_result"
    }
   ],
   "source": [
    "leaflet_tgt_train[500]"
   ]
  },
  {
   "cell_type": "code",
   "execution_count": 45,
   "metadata": {},
   "outputs": [
    {
     "data": {
      "text/plain": [
       "'trixeo_aerosphere￨Section4￨PRODUCT_NAME￨AWAY all_medicines￨Section4￨TREATMENT￨HOME this_medicine￨Section4￨TREATMENT￨AWAY side_effects￨Section4￨DX_NAME￨HOME side_effects￨Section4￨DX_NAME￨AWAY this_medicine￨Section4￨TREATMENT￨HOME serious_side_effects￨Section4￨PROBLEM￨AWAY affect￨Section4￨DX_NAME￨AWAY 1￨Section4￨NUMBER￨AWAY 100￨Section4￨NUMBER￨AWAY immediate_breathing_difficulties￨Section4￨PROBLEM￨AWAY breathing_difficulties￨Section4￨DX_NAME￨AWAY trixeo_aerosphere￨Section4￨TREATMENT￨AWAY tightness_of_the_chest￨Section4￨PROBLEM￨AWAY coughing￨Section4￨DX_NAME￨AWAY wheezing￨Section4￨DX_NAME￨HOME feeling_breathless￨Section4￨DX_NAME￨HOME this_medicine￨Section4￨TREATMENT￨AWAY allergic_reactions￨Section4￨DX_NAME￨HOME swelling_of_your_face￨Section4￨PROBLEM￨AWAY mouth￨Section4￨SYSTEM_ORGAN_SITE￨AWAY swelling_of_your_tongue￨Section4￨PROBLEM￨HOME throat￨Section4￨SYSTEM_ORGAN_SITE￨HOME difficult_to_swallow￨Section4￨DX_NAME￨HOME rash￨Section4￨DX_NAME￨AWAY hives￨Section4￨DX_NAME￨AWAY difficulty_breathing￨Section4￨DX_NAME￨HOME feeling_faint￨Section4￨DX_NAME￨HOME an_allergic_reaction￨Section4￨PROBLEM￨AWAY this_medicine￨Section4￨TREATMENT￨HOME the_serious_side_effects_above￨Section4￨PROBLEM￨HOME side_effects￨Section4￨DX_NAME￨HOME side_effects￨Section4￨DX_NAME￨AWAY affect￨Section4￨DX_NAME￨HOME 1￨Section4￨NUMBER￨HOME 10￨Section4￨NUMBER￨AWAY thrush_in_the_mouth￨Section4￨PROBLEM￨AWAY a_fungal_infection￨Section4￨PROBLEM￨AWAY mouth￨Section4￨SYSTEM_ORGAN_SITE￨HOME trixeo_aerosphere￨Section4￨TREATMENT￨HOME feeling_anxious￨Section4￨DX_NAME￨AWAY difficulty_sleeping￨Section4￨DX_NAME￨AWAY feeling_sick￨Section4￨DX_NAME￨HOME nausea)￨Section4￨PROBLEM￨HOME headache_coughing￨Section4￨PROBLEM￨AWAY a_hoarse_voice_muscle_cramps￨Section4￨PROBLEM￨AWAY awareness_of_your_heart_beating￨Section4￨DX_NAME￨AWAY palpitations￨Section4￨DX_NAME￨AWAY high_blood_sugar_levels￨Section4￨DX_NAME￨HOME painful￨Section4￨DX_NAME￨AWAY frequent_urination￨Section4￨DX_NAME￨HOME a_urinary_tract_infection￨Section4￨PROBLEM￨AWAY pneumonia_(infection_of_the_lung￨Section4￨PROBLEM￨AWAY trixeo_aerosphere￨Section4￨TREATMENT￨AWAY symptoms￨Section4￨PROBLEM￨AWAY a_lung_infection￨Section4￨PROBLEM￨HOME fever￨Section4￨DX_NAME￨HOME chills￨Section4￨DX_NAME￨HOME increased_mucus_production￨Section4￨PROBLEM￨HOME change_in_mucus_colour￨Section4￨DX_NAME￨AWAY increased_cough￨Section4￨PROBLEM￨HOME increased_breathing_difficulties￨Section4￨PROBLEM￨HOME affect￨Section4￨DX_NAME￨AWAY 1￨Section4￨NUMBER￨HOME 100￨Section4￨NUMBER￨HOME shaking￨Section4￨DX_NAME￨HOME tremor￨Section4￨DX_NAME￨HOME feeling_dizzy￨Section4￨DX_NAME￨AWAY dry_mouth￨Section4￨DX_NAME￨HOME mild_irritation￨Section4￨PROBLEM￨AWAY the_throat_bruising￨Section4￨PROBLEM￨AWAY the_skin￨Section4￨PROBLEM￨HOME restless￨Section4￨DX_NAME￨AWAY nervous￨Section4￨DX_NAME￨HOME agitated_depression_fast_heart_beat￨Section4￨PROBLEM￨AWAY uneven_heart_beat_chest_pain￨Section4￨PROBLEM￨AWAY tightening_in_the_chest_(angina_pectoris)￨Section4￨PROBLEM￨AWAY 1￨Section4￨NUMBER￨HOME 10,000￨Section4￨NUMBER￨AWAY changes_in_behaviour_an_effect￨Section4￨DX_NAME￨AWAY 35￨Section4￨NUMBER￨AWAY frequency￨Section4￨DX_NAME￨AWAY blurred_vision￨Section4￨DX_NAME￨AWAY clouding_of_the_lens_of_your_eyes￨Section4￨DX_NAME￨AWAY lens￨Section4￨SYSTEM_ORGAN_SITE￨HOME cataract￨Section4￨DX_NAME￨HOME increased_pressure_in_the_eye￨Section4￨PROBLEM￨AWAY glaucoma)_swelling_of_your_face￨Section4￨PROBLEM￨AWAY mouth￨Section4￨SYSTEM_ORGAN_SITE￨AWAY swelling_of_your_tongue￨Section4￨PROBLEM￨HOME throat￨Section4￨SYSTEM_ORGAN_SITE￨AWAY difficult_to_swallow￨Section4￨DX_NAME￨AWAY side_effects￨Section4￨DX_NAME￨AWAY side_effects￨Section4￨DX_NAME￨HOME side_effects￨Section4￨DX_NAME￨AWAY side_effects￨Section4￨DX_NAME￨HOME appendix￨Section4￨SYSTEM_ORGAN_SITE￨HOME side_effects￨Section4￨DX_NAME￨AWAY this_medicine￨Section4￨TREATMENT￨HOME \\n'"
      ]
     },
     "execution_count": 45,
     "metadata": {},
     "output_type": "execute_result"
    }
   ],
   "source": [
    "leaflets_inter_content_plan[500]"
   ]
  },
  {
   "cell_type": "code",
   "execution_count": null,
   "metadata": {},
   "outputs": [],
   "source": []
  }
 ],
 "metadata": {
  "kernelspec": {
   "display_name": "Python 3",
   "language": "python",
   "name": "python3"
  },
  "language_info": {
   "codemirror_mode": {
    "name": "ipython",
    "version": 3
   },
   "file_extension": ".py",
   "mimetype": "text/x-python",
   "name": "python",
   "nbconvert_exporter": "python",
   "pygments_lexer": "ipython3",
   "version": "3.6.10"
  }
 },
 "nbformat": 4,
 "nbformat_minor": 2
}
