{
 "cells": [
  {
   "cell_type": "markdown",
   "metadata": {},
   "source": [
    "If you are using your own data, it must be formatted as one directory with 6 files:\n",
    "----------------------------------------------------------------------------\n",
    "\n",
    "test.source   \n",
    "test.target   \n",
    "train.source   \n",
    "train.target   \n",
    "val.source   \n",
    "val.target   \n",
    "\n",
    "\n",
    "The .source files are the input, the .target files are the desired output."
   ]
  },
  {
   "cell_type": "code",
   "execution_count": 1,
   "metadata": {},
   "outputs": [],
   "source": [
    "import pickle\n",
    "from nltk.tokenize import wordpunct_tokenize"
   ]
  },
  {
   "cell_type": "code",
   "execution_count": 2,
   "metadata": {},
   "outputs": [],
   "source": [
    "# load array of objects, where object - class Leaflet\n",
    "with open(\"datasets/LEAFLET_TRAIN_DATASET.pickle\", \"rb\") as f:\n",
    "    train_dataset = pickle.load(f)"
   ]
  },
  {
   "cell_type": "code",
   "execution_count": 3,
   "metadata": {},
   "outputs": [],
   "source": [
    "# load array of objects, where object - class Leaflet\n",
    "with open(\"datasets/LEAFLET_VALID_DATASET.pickle\", \"rb\") as f:\n",
    "    valid_dataset = pickle.load(f)"
   ]
  },
  {
   "cell_type": "code",
   "execution_count": 4,
   "metadata": {},
   "outputs": [],
   "source": [
    "# load array of objects, where object - class Leaflet\n",
    "with open(\"datasets/LEAFLET_TEST_DATASET.pickle\", \"rb\") as f:\n",
    "    test_dataset = pickle.load(f)"
   ]
  },
  {
   "cell_type": "code",
   "execution_count": 5,
   "metadata": {},
   "outputs": [],
   "source": [
    "def create_source_target(dataset, section_conditiong=False):\n",
    "    \"\"\"\n",
    "    Create input files for T5 fine-tuning.\n",
    "    \n",
    "    The .source files are the input, the .target files are the desired output.\n",
    "    \"\"\"\n",
    "    \n",
    "    # array to store source data of each leaflet\n",
    "    source_data_array = []\n",
    "    \n",
    "    # array to store target data of each leaflet\n",
    "    target_data_array = []\n",
    "    \n",
    "    \n",
    "    for leaflet in dataset:\n",
    "    \n",
    "        current_leaflet_sections = [leaflet.section1, leaflet.section2, \n",
    "                                    leaflet.section3, leaflet.section4, \n",
    "                                    leaflet.section5, leaflet.section6]\n",
    "    \n",
    "        for section_index, current_section in enumerate(current_leaflet_sections):\n",
    "            \n",
    "            # skip if either input or output is None\n",
    "            if current_section.section_content is None or current_section.entity_recognition is None:\n",
    "                continue\n",
    "            \n",
    "            # extract section content\n",
    "            section_content = current_section.section_content\n",
    "            \n",
    "            # extract results of NER\n",
    "            section_entity_recognition = current_section.entity_recognition\n",
    "            \n",
    "            # if add conditioning on a section_type (section title)  \n",
    "            # depending on the Section index, add corresponding tag - section_title\n",
    "            #\n",
    "            \n",
    "            if section_conditiong:\n",
    "            \n",
    "                if (section_index+1) == 1: source_leaflet_str = 'What the medicine is and what it is used for: '.lower()\n",
    "                elif (section_index+1) == 2: source_leaflet_str = 'What you need to know before you take the medicine: '.lower()\n",
    "                elif (section_index+1) == 3: source_leaflet_str = 'How to take the medicine: '.lower()\n",
    "                elif (section_index+1) == 4: source_leaflet_str = 'Possible side effects: '.lower()\n",
    "                elif (section_index+1) == 5: source_leaflet_str = 'How to store the medicine: '.lower()\n",
    "                elif (section_index+1) == 6: source_leaflet_str = 'Contents of the pack and other information: '.lower()\n",
    "            else:\n",
    "                # start with empty string\n",
    "                source_leaflet_str = ''\n",
    "            \n",
    "            for entity in section_entity_recognition:\n",
    "                \n",
    "                entity_value = entity['Text'] if len(entity['Text'].split(\" \")) == 0 else (\"_\").join(entity['Text'].split(\" \"))\n",
    "                entity_type = entity['Type'] if entity['Type'] is not None and len(entity['Type']) > 0 else entity['Category']\n",
    "\n",
    "                # create source data in special format\n",
    "                source_leaflet_str += \"<\" + str(entity_type) + \"> \" + str(entity_value) + \" </\" + str(entity_type) + \">\"\n",
    "\n",
    "                if section_entity_recognition.index(entity) != len(section_entity_recognition) - 1:\n",
    "                    # 1 space - delimiter between entities\n",
    "                    source_leaflet_str += \" \"\n",
    "                else:\n",
    "                    source_leaflet_str += \"\\n\"\n",
    "            \n",
    "            \n",
    "            source_data_array.append(source_leaflet_str)\n",
    "\n",
    "            # get the section content\n",
    "            # make sure to have punctuations as a separate token\n",
    "            section_content = wordpunct_tokenize(section_content)\n",
    "\n",
    "            # back to string\n",
    "            section_content = \" \".join(section_content)\n",
    "\n",
    "            # add \"\\n\" at the end\n",
    "            section_content = section_content + \"\\n\"\n",
    "\n",
    "            target_data_array.append(section_content)\n",
    "\n",
    "    return (source_data_array, target_data_array)"
   ]
  },
  {
   "cell_type": "code",
   "execution_count": 6,
   "metadata": {},
   "outputs": [
    {
     "data": {
      "text/plain": [
       "([\"<PRODUCT_NAME> cystagon </PRODUCT_NAME> <DX_NAME> cystinosis </DX_NAME> <PROBLEM> a_metabolic_disease </PROBLEM> <PROBLEM> 'nephropathic_cystinosis' </PROBLEM> <PROBLEM> an_abnormal_accumulation_of_the_amino_acid_cystine_in_various_organs_of_the_body_such_as_the_kidney,_eye,_muscle,_pancreas,_and_brain </PROBLEM> <PROBLEM> cystine_build </PROBLEM> <DX_NAME> kidney_damage </DX_NAME> <PROBLEM> excess_amounts_of_glucose </PROBLEM> <TEST_NAME> proteins </TEST_NAME> <TEST_NAME> electrolytes </TEST_NAME> <TREATMENT> cystagon </TREATMENT> <PROBLEM> this_rare_inherited_disorder </PROBLEM> <TREATMENT> a_medicine </TREATMENT> <TREATMENT> cystine </TREATMENT>\\n\",\n",
       "  \"<PRODUCT_NAME> cystagon </PRODUCT_NAME> <GENERIC_NAME> cystagon </GENERIC_NAME> <PROBLEM> allergic </PROBLEM> <DX_NAME> hypersensitive </DX_NAME> <GENERIC_NAME> cysteamine_bitartrate </GENERIC_NAME> <GENERIC_NAME> penicillamine </GENERIC_NAME> <GENERIC_NAME> cystagon </GENERIC_NAME> <DX_NAME> pregnant </DX_NAME> <TREATMENT> cystagon </TREATMENT> <PROBLEM> your_child's_disorder </PROBLEM> <TEST> leucocyte_cystine_measurements </TEST> <TREATMENT> the_therapy </TREATMENT> <GENERIC_NAME> cystagon </GENERIC_NAME> <PROBLEM> skin_lesions_on_elbows </PROBLEM> <PROBLEM> little_hard_lumps </PROBLEM> <TREATMENT> different_cysteamine_preparations </TREATMENT> <PROBLEM> these_lesions </PROBLEM> <DX_NAME> skin_striae </DX_NAME> <DX_NAME> bone_lesions </DX_NAME> <DX_NAME> fracture </DX_NAME> <DX_NAME> bone_deformities </DX_NAME> <PROBLEM> laxity_of_joints </PROBLEM> <TEST> a_regular_physical_and_x-ray_examination </TEST> <PROBLEM> the_skin_and_the_bones </PROBLEM> <TREATMENT> the_medicinal_product </TREATMENT> <TEST> self_examination </TEST> <SYSTEM_ORGAN_SITE> skin </SYSTEM_ORGAN_SITE> <PROBLEM> any_skin_or_bone_abnormalities </PROBLEM> <TIME_TO_DX_NAME> immediately </TIME_TO_DX_NAME> <TEST> the_blood_cell_count </TEST> <GENERIC_NAME> cystagon </GENERIC_NAME> <PROBLEM> cystine_crystals_accumulating_in_the_eye </PROBLEM> <TREATMENT> cysteamine_ophthalmic_solution </TREATMENT> <GENERIC_NAME> contrast </GENERIC_NAME> <GENERIC_NAME> phosphocysteamine </GENERIC_NAME> <GENERIC_NAME> cysteamine_bitartrate </GENERIC_NAME> <GENERIC_NAME> cystagon </GENERIC_NAME> <TREATMENT> phosphate </TREATMENT> <TREATMENT_NAME> phosphate_supplements </TREATMENT_NAME> <GENERIC_NAME> cystagon </GENERIC_NAME> <GENERIC_NAME> phosphocysteamine </GENERIC_NAME> <PROBLEM> aspiration_in_the_lungs </PROBLEM> <TREATMENT> the_capsules </TREATMENT> <NUMBER> 6 </NUMBER> <TREATMENT> other_medicines </TREATMENT> <TREATMENT> any_other_medicines </TREATMENT> <GENERIC_NAME> cystagon </GENERIC_NAME> <TREATMENT> the_hard_capsule </TREATMENT> <TREATMENT> starch_based_foods </TREATMENT> <DX_NAME> pregnancy </DX_NAME> <GENERIC_NAME> cystagon </GENERIC_NAME> <DX_NAME> pregnant </DX_NAME> <DX_NAME> pregnant </DX_NAME> <TREATMENT> breast-feeding_cystagon </TREATMENT> <TREATMENT> machines_cystagon </TREATMENT> <PROBLEM> some_drowsiness </PROBLEM> <TREATMENT> therapy </TREATMENT>\\n\",\n",
       "  \"<PRODUCT_NAME> cystagon </PRODUCT_NAME> <GENERIC_NAME> cystagon </GENERIC_NAME> <AGE> 12 </AGE> <NUMBER> 1.30 </NUMBER> <NUMBER> 12 </NUMBER> <NUMBER> 50 </NUMBER> <NUMBER> 1.95 </NUMBER> <GENERIC_NAME> cystagon </GENERIC_NAME> <SYSTEM_ORGAN_SITE> mouth </SYSTEM_ORGAN_SITE> <GENERIC_NAME> cystagon </GENERIC_NAME> <TREATMENT> hard_capsules </TREATMENT> <TREATMENT> starch_based_foods </TREATMENT> <TREATMENT> your_child's_medical_treatment </TREATMENT> <GENERIC_NAME> cystagon </GENERIC_NAME> <TEST> important_electrolytes </TEST> <SYSTEM_ORGAN_SITE> kidneys </SYSTEM_ORGAN_SITE> <TREATMENT> these_supplements </TREATMENT> <TREATMENT> the_supplements </TREATMENT> <DX_NAME> weakness </DX_NAME> <DX_NAME> drowsiness </DX_NAME> <TEST> regular_blood_tests </TEST> <TREATMENT> cystine_inside_white_blood_cells </TREATMENT> <GENERIC_NAME> cystagon </GENERIC_NAME> <TEST> the_blood_tests </TEST> <TEST> regular_blood_and_urine_tests </TEST> <TREATMENT> these_supplements </TREATMENT> <TREATMENT_NAME> cystagon </TREATMENT_NAME> <NUMBER> 4 </NUMBER> <NUMBER> 6 </NUMBER> <NUMBER> 6 </NUMBER> <TREATMENT> treatment </TREATMENT> <GENERIC_NAME> cystagon </GENERIC_NAME> <GENERIC_NAME> cystagon </GENERIC_NAME> <ADDRESS> emergency_department </ADDRESS> <DX_NAME> drowsiness </DX_NAME> <GENERIC_NAME> cystagon </GENERIC_NAME> <TREATMENT> medicine </TREATMENT> <TREATMENT> the_regular_dosing_schedule </TREATMENT> <TREATMENT> a_double_dose </TREATMENT>\\n\",\n",
       "  '<PRODUCT_NAME> cystagon </PRODUCT_NAME> <TREATMENT> all_medicines </TREATMENT> <GENERIC_NAME> cystagon </GENERIC_NAME> <DX_NAME> side_effects </DX_NAME> <GENERIC_NAME> cystagon </GENERIC_NAME> <DX_NAME> drowsy </DX_NAME> <DX_NAME> alert </DX_NAME> <DX_NAME> side_effects </DX_NAME> <NUMBER> 10 </NUMBER> <NUMBER> 100 </NUMBER> <NUMBER> 10,000 </NUMBER> <NUMBER> 100,000 </NUMBER> <DX_NAME> vomiting </DX_NAME> <DX_NAME> nausea </DX_NAME> <DX_NAME> diarrhoea </DX_NAME> <DX_NAME> loss_of_appetite </DX_NAME> <DX_NAME> fever </DX_NAME> <DX_NAME> sensation_of_sleep </DX_NAME> <DX_NAME> abdominal_pain </DX_NAME> <DX_NAME> discomfort </DX_NAME> <DX_NAME> unpleasant_breath </DX_NAME> <DX_NAME> body_odour </DX_NAME> <DX_NAME> skin_eruption </DX_NAME> <DX_NAME> gastroenteritis </DX_NAME> <DX_NAME> fatigue </DX_NAME> <DX_NAME> headache </DX_NAME> <PROBLEM> encephalopathy_(brain_disorder </PROBLEM> <DX_NAME> liver_function_test_abnormalities </DX_NAME> <DX_NAME> skin_striae </DX_NAME> <DX_NAME> skin_lesion </DX_NAME> <PROBLEM> hard_lumps_on_elbows </PROBLEM> <DX_NAME> joint_laxity </DX_NAME> <DX_NAME> leg_pain </DX_NAME> <DX_NAME> bone_fracture </DX_NAME> <PROBLEM> scoliosis_(deviation_of_the_vertebral_column </PROBLEM> <DX_NAME> bone_deformity </DX_NAME> <DX_NAME> fragility </DX_NAME> <DX_NAME> hair_discoloration </DX_NAME> <PROBLEM> severe_allergic_reaction </PROBLEM> <DX_NAME> somnolence </DX_NAME> <DX_NAME> nervousness </DX_NAME> <DX_NAME> hallucination </DX_NAME> <DX_NAME> decrease_in_white_blood_cells </DX_NAME> <DX_NAME> gastrointestinal_ulcer </DX_NAME> <PROBLEM> bleeding_in_the_digestive_tract </PROBLEM> <PROBLEM> the_kidney </PROBLEM> <PROBLEM> swelling_of_the_extremities </PROBLEM> <DX_NAME> weight_gain </DX_NAME> <DX_NAME> side_effects </DX_NAME> <DX_NAME> side_effects </DX_NAME> <DX_NAME> side_effects </DX_NAME> <DX_NAME> side_effects </DX_NAME> <DX_NAME> side_effects </DX_NAME> <DX_NAME> appendix_v. </DX_NAME> <DX_NAME> side_effects </DX_NAME> <TREATMENT> this_medicine </TREATMENT>\\n',\n",
       "  '<PRODUCT_NAME> cystagon </PRODUCT_NAME> <NUMBER> 25 </NUMBER>\\n',\n",
       "  '<PRODUCT_NAME> cystagon </PRODUCT_NAME> <TREATMENT> cysteamine_bitartrate_(mercaptamine_bitartrate </TREATMENT> <GENERIC_NAME> cystagon </GENERIC_NAME> <NUMBER> 50 </NUMBER> <NUMBER> 50 </NUMBER> <TREATMENT> cysteamine_(as_mercaptamine_bitartrate) </TREATMENT> <GENERIC_NAME> cystagon </GENERIC_NAME> <NUMBER> 150 </NUMBER> <NUMBER> 150 </NUMBER> <TREATMENT> cysteamine_(as_mercaptamine_bitartrate) </TREATMENT> <GENERIC_NAME> microcrystalline_cellulose </GENERIC_NAME> <GENERIC_NAME> starch </GENERIC_NAME> <TREATMENT> pregelatinized </TREATMENT> <GENERIC_NAME> magnesium_stearate </GENERIC_NAME> <GENERIC_NAME> sodium_lauryl_sulphate </GENERIC_NAME> <GENERIC_NAME> colloidal_silicon_dioxide </GENERIC_NAME> <GENERIC_NAME> croscarmellose_sodium </GENERIC_NAME> <TREATMENT> capsule_shells </TREATMENT> <TREATMENT> gelatin,_titanium_dioxide </TREATMENT> <GENERIC_NAME> black_ink </GENERIC_NAME> <GENERIC_NAME> cystagon </GENERIC_NAME> <TREATMENT> the_pack_hard_capsules </TREATMENT> <GENERIC_NAME> cystagon </GENERIC_NAME> <NUMBER> 50 </NUMBER> <TREATMENT> white,_opaque_hard_capsules </TREATMENT> <TREATMENT> cysta </TREATMENT> <NUMBER> 50 </NUMBER> <BRAND_NAME> mylan </BRAND_NAME> <NUMBER> 100 </NUMBER> <NUMBER> 500 </NUMBER> <TREATMENT> all_pack_sizes </TREATMENT> <GENERIC_NAME> cystagon </GENERIC_NAME> <NUMBER> 150 </NUMBER> <GENERIC_NAME> cystagon </GENERIC_NAME> <NUMBER> 150 </NUMBER> <BRAND_NAME> mylan </BRAND_NAME> <NUMBER> 100 </NUMBER> <NUMBER> 500 </NUMBER> <TREATMENT> all_pack_sizes </TREATMENT>\\n',\n",
       "  '<PRODUCT_NAME> tachosil </PRODUCT_NAME> <GENERIC_NAME> tachosil </GENERIC_NAME> <PROCEDURE_NAME> surgery </PROCEDURE_NAME> <GENERIC_NAME> tachosil </GENERIC_NAME> <PROBLEM> the_wound </PROBLEM> <TREATMENT> tachosil </TREATMENT> <SYSTEM_ORGAN_SITE> internal_organ </SYSTEM_ORGAN_SITE> <PROBLEM> the_bleeding </PROBLEM> <SYSTEM_ORGAN_SITE> tissue </SYSTEM_ORGAN_SITE> <GENERIC_NAME> tachosil </GENERIC_NAME>\\n',\n",
       "  '<PRODUCT_NAME> tachosil </PRODUCT_NAME> <TREATMENT> all_medicines </TREATMENT> <TREATMENT> this_medicine </TREATMENT> <DX_NAME> side_effects </DX_NAME> <GENERIC_NAME> tachosil </GENERIC_NAME> <TREATMENT> protein-containing_components </TREATMENT> <TEST> human_blood </TEST> <TREATMENT> all_medicines </TREATMENT> <TEST> human_blood </TEST> <DX_NAME> allergic_reactions </DX_NAME> <PROBLEM> these_allergic_reactions </PROBLEM> <DX_NAME> anaphylactic_shock </DX_NAME> <PROBLEM> these_allergic_reactions </PROBLEM> <GENERIC_NAME> tachosil </GENERIC_NAME> <PROBLEM> allergic </PROBLEM> <GENERIC_NAME> tachosil </GENERIC_NAME> <TEST> a_clinical_study </TEST> <TREATMENT> tachosil </TREATMENT> <DX_NAME> side_effects </DX_NAME> <PROBLEM> these_antibodies </PROBLEM> <PROBLEM> scar_tissues </PROBLEM> <PROCEDURE_NAME> surgery </PROCEDURE_NAME> <GENERIC_NAME> tachosil </GENERIC_NAME> <DX_NAME> bowel_obstruction </DX_NAME> <DX_NAME> pain </DX_NAME> <PROCEDURE_NAME> abdominal_surgeries </PROCEDURE_NAME> <DX_NAME> frequency </DX_NAME> <GENERIC_NAME> tachosil </GENERIC_NAME> <DX_NAME> side_effects </DX_NAME> <DX_NAME> side_effects </DX_NAME> <DX_NAME> side_effects </DX_NAME> <DX_NAME> side_effects </DX_NAME> <DX_NAME> appendix_v. </DX_NAME> <DX_NAME> side_effects </DX_NAME> <TREATMENT> this_medicine </TREATMENT>\\n',\n",
       "  '<PRODUCT_NAME> tachosil </PRODUCT_NAME> <TREATMENT> this_medicine </TREATMENT> <NUMBER> 25 </NUMBER> <TREATMENT> these_measures </TREATMENT>\\n',\n",
       "  '<PRODUCT_NAME> tachosil </PRODUCT_NAME> <TREATMENT> tachosil </TREATMENT> <TREATMENT> human_fibrinogen </TREATMENT> <NUMBER> 5 </NUMBER> <NUMBER> 5 </NUMBER> <TREATMENT> human_thrombin </TREATMENT> <NUMBER> 2 </NUMBER> <TREATMENT> equine_collagen </TREATMENT> <GENERIC_NAME> human_albumin </GENERIC_NAME> <GENERIC_NAME> riboflavin </GENERIC_NAME> <GENERIC_NAME> sodium_chloride </GENERIC_NAME> <GENERIC_NAME> sodium_citrate </GENERIC_NAME> <GENERIC_NAME> l-arginine-hydrochloride </GENERIC_NAME> <TREATMENT> tachosil </TREATMENT> <TREATMENT> the_pack_tachosil </TREATMENT> <TREATMENT> a_sealant_matrix </TREATMENT> <TREATMENT> human_fibrinogen </TREATMENT> <GENERIC_NAME> human_thrombin </GENERIC_NAME> <NUMBER> 5 </NUMBER> <TREATMENT> package </TREATMENT> <NUMBER> 1 </NUMBER> <NUMBER> 9.5 </NUMBER> <NUMBER> 4.8 </NUMBER> <NUMBER> 2 </NUMBER> <NUMBER> 4.8 </NUMBER> <NUMBER> 4.8 </NUMBER> <NUMBER> 1 </NUMBER> <NUMBER> 3.0 </NUMBER> <NUMBER> 2.5 </NUMBER> <NUMBER> 5 </NUMBER> <NUMBER> 3.0 </NUMBER> <NUMBER> 2.5 </NUMBER> <TREATMENT> 1_pre-rolled_matrix </TREATMENT> <NUMBER> 4.8 </NUMBER> <NUMBER> 4.8 </NUMBER>\\n'],\n",
       " [\"cystinosis is a metabolic disease called ' nephropathic cystinosis ' which is characterized by an abnormal accumulation of the amino acid cystine in various organs of the body such as the kidney , eye , muscle , pancreas , and brain . cystine build up causes kidney damage and excretion of excess amounts of glucose , proteins and electrolytes . different organs are affected at different ages . cystagon is prescribed to manage this rare inherited disorder . cystagon is a medicine that reacts with cystine to decrease its level within the cells .\\n\",\n",
       "  \"do not use cystagon - if you - or your child - are allergic ( hypersensitive ) to cysteamine bitartrate or penicillamine or any of the other ingredients of cystagon . - if you are pregnant , this is particularly relevant during the first trimester - if you are breast - feeding . take special care with cystagon - when your or your child ' s disorder has been confirmed by leucocyte cystine measurements , the therapy with cystagon must be started as soon as possible . - a few cases of skin lesions on elbows like little hard lumps have been reported in children treated with high doses of different cysteamine preparations . these lesions were associated with skin striae and bone lesions such as fracture and bone deformities , and with laxity of joints . your doctor could require a regular physical and x - ray examination for the skin and the bones to control the effects of the medicinal product . self examination of your or your child ' s skin is recommended . if any skin or bone abnormalities appear , please inform your doctor immediately . - your doctor could require controlling the blood cell count on a regular basis . - cystagon has not been shown to prevent cystine crystals accumulating in the eye . where cysteamine ophthalmic solution has been used for that purpose , its usage should continue . - in contrast to phosphocysteamine , another active substance close to cysteamine bitartrate , cystagon does not contain phosphate . you may already be receiving phosphate supplements and the dose of these may need to be changed when cystagon is substituted for phosphocysteamine . - to avoid any risk of aspiration in the lungs , the capsules should not be given to children under the age of approximately 6 years . using other medicines please inform your doctor or pharmacist if you are taking or have recently taken any other medicines , even those not prescribed . using cystagon with food and drink for children under approximately six years of age , the hard capsule may be opened and the contents sprinkled on food ( e . g . milk , potatoes or starch based foods ) or mixed in formula . do not add to acidic drinks e . g . orange juice . consult the doctor for complete directions . pregnancy you should not use cystagon if you are pregnant . please consult your doctor if you plan to become pregnant . breast - feeding cystagon must not be used during breast - feeding . driving and using machines cystagon may cause some drowsiness . when starting therapy , you or your child should not engage in potentially hazardous activities until the effects of the drug are well known .\\n\",\n",
       "  \"always use cystagon exactly as your doctor or your child ' s doctor has told you . you should check with your doctor if you are not sure . the dose of cystagon prescribed for you or your child will depend on your or your child ' s age and weight . for children up to age 12 years , the dose will be based on the body size ( surface area ), the usual dose being 1 . 30 g / m2 of body surface area per day . for patients over age 12 and over 50 kg weight , the usual dose is 2g / day . in any case the usual dose should not exceed 1 . 95 g / m2 / day . cystagon should be taken or given only by mouth and exactly as your or your child ' s doctor directs . in order for cystagon to work correctly , you must do the following : - follow your doctor ' s directions exactly . do not increase or decrease the amount of medicine without your doctor ' s approval . - hard capsules should not be given to children under approximately six years of age because they may not be able to swallow them and they may choke . for children under approximately six years of age , the hard capsule may be opened and the contents sprinkled on food ( e . g . milk , potatoes or starch based foods ) or mixed in formula . do not add to acidic drinks e . g . orange juice . consult the doctor for complete directions . - your or your child ' s medical treatment may include , in addition to cystagon , one or more supplements to replace important electrolytes lost through the kidneys . it is important to take or give these supplements exactly as instructed . if several doses of the supplements are missed or weakness or drowsiness develops , call the doctor for instructions . - regular blood tests to measure the amount of cystine inside white blood cells are necessary to help determine the correct dose of cystagon . your or your child ' s doctor will arrange for the blood tests to be done . regular blood and urine tests to measure the levels of the body ' s important electrolytes are also necessary to help your or your child ' s doctor correctly adjust the doses of these supplements . cystagon should be taken 4 times a day , every 6 hours , preferably just after or with food . it is important to take the dose as close to every 6 hours as possible . treatment with cystagon should continue indefinitely , as instructed by your doctor . if you use more cystagon than you should : you should contact your or your child ' s doctor or the hospital emergency department immediately if more medicine has been taken than has been prescribed , drowsiness develops . if you forget to take cystagon : if a dose of medicine is missed , it should be taken as soon as possible . however if it is within two hours of the next dose , skip the missed dose and go back to the regular dosing schedule . do not take a double dose to make up for a forgotten dose .\\n\",\n",
       "  \"like all medicines , cystagon can cause side effects , although not everybody gets them . cystagon may cause some people to become drowsy or less vigilant than they are normally . make sure you know how you or your child reacts to this medicine before doing anything that could be dangerous if not alert . the following side effects were reported as follows : very common ( occurring in at least one in 10 patients ), common ( occurring in at least one in 100 patients ), uncommon ( occurring in at least one in1 , 000 patients ), rare ( occurring in at least one in 10 , 000 patients ), very rare ( occurring in at least one in 100 , 000 patients ). - very common : vomiting , nausea , diarrhoea , loss of appetite , fever and sensation of sleep - common : abdominal pain or discomfort , unpleasant breath and body odour , skin eruption , gastroenteritis , fatigue , headache , encephalopathy ( brain disorder ) and liver function test abnormalities . - uncommon : skin striae , skin lesion ( little - hard lumps on elbows ), joint laxity , leg pain , bone fracture , scoliosis ( deviation of the vertebral column ), bone deformity and fragility , hair discoloration , severe allergic reaction , somnolence , fits , nervousness , hallucination , decrease in white blood cells , gastrointestinal ulcer manifested by bleeding in the digestive tract and effect on the kidney manifested by swelling of the extremities and weight gain . since some of these side effects are serious , ask your or your child ' s doctor to explain their warning signs . reporting of side effects if you get any side effects , talk to your doctor or pharmacist . this includes any possible side effects not listed in this leaflet . you can also report side effects directly via the national reporting system listed in appendix v . by reporting side effects you can help provide more information on the safety of this medicine .\\n\",\n",
       "  'keep out of the reach and sight of children . do not use after the expiry date which is stated on the label . the expiry date refers to the last day of that month . do not store above 25 and keep the container tightly closed in order to protect from light and moisture .\\n',\n",
       "  'what cystagon contains - the active substance is cysteamine bitartrate ( mercaptamine bitartrate ). each hard capsule of cystagon 50 mg contains 50 mg of cysteamine ( as mercaptamine bitartrate ) each hard capsule of cystagon 150 mg contains 150 mg of cysteamine ( as mercaptamine bitartrate ) - the other ingredients are microcrystalline cellulose , starch , pregelatinized , magnesium stearate / sodium lauryl sulphate , colloidal silicon dioxide , croscarmellose sodium , capsule shells : gelatin , titanium dioxide , black ink on hard capsules ( e172 ). what cystagon looks like and contents of the pack hard capsules - cystagon 50 mg : white , opaque hard capsules with cysta 50 on the body and mylan on the cap . bottles of 100 or 500 hard capsules . all pack sizes may be not marketed . - cystagon 150 mg : white , opaque hard capsules with cystagon 150 on the body and mylan on the cap . bottles of 100 or 500 hard capsules . all pack sizes may be not marketed .\\n',\n",
       "  'the doctor treating you will apply tachosil during surgery . the quantity of tachosil used depends on the size of the wound . the doctor will place tachosil on the internal organ to stop the bleeding or to seal the tissue . during the following time tachosil will dissolve and disappear .\\n',\n",
       "  'like all medicines , this medicine can cause side effects although not everybody gets them . tachosil is made of protein - containing components . the active components are made from human blood . all medicines based on human blood may uncommonly cause allergic reactions . in isolated cases these allergic reactions may progress to anaphylactic shock . these allergic reactions may occur especially if tachosil is used repeatedly or if you are allergic to any of the ingredients in tachosil . a clinical study has shown that some patients produced antibodies against the components of tachosil , however , no side effects were reported resulting from the development of these antibodies . scar tissues may develop in some patients after surgery and use of tachosil . bowel obstruction and pain following abdominal surgeries can also occur . the frequency of these types of events is not known ( cannot be estimated from available data ). your surgeon will make sure to clean the operating area when applying tachosil to reduce this risk . reporting of side effects if you get any side effects , talk to your doctor . this includes any possible side effects not listed in this leaflet . you can also report side effects directly via the national reporting system listed in appendix v . by reporting side effects you can help provide more information on the safety of this medicine .\\n',\n",
       "  'keep this medicine out of the sight and reach of children . do not use this medicine after the expiry date which is stated on the label after \" exp \". the expiry date refers to the last day of that month . do not store above 25 . do not throw away any medicines via wastewater or household waste . ask your pharmacist how to throw away medicines you no longer use . these measures will help to protect the environment .\\n',\n",
       "  'what tachosil contains - the active substances are human fibrinogen ( 5 . 5 mg per cm2 ) and human thrombin ( 2 . 0 iu per cm2 ). - the other ingredients are equine collagen , human albumin , riboflavin ( e101 ), sodium chloride , sodium citrate ( e331 ) and l - arginine - hydrochloride . what tachosil looks like and contents of the pack tachosil is a sealant matrix made of collagen , which is coated on the yellow side with human fibrinogen and human thrombin . the product is available in different sizes and comes in packages with up to 5 units : package with 1 matrix of 9 . 5 cm x 4 . 8 cm package with 2 matrices of 4 . 8 cm x 4 . 8 cm package with 1 matrix of 3 . 0 cm x 2 . 5 cm package with 5 matrices of 3 . 0 cm x 2 . 5 cm package with 1 pre - rolled matrix of 4 . 8 cm x 4 . 8 cm not all pack sizes may be marketed .\\n'])"
      ]
     },
     "execution_count": 6,
     "metadata": {},
     "output_type": "execute_result"
    }
   ],
   "source": [
    "# example how the input and corresponding output look like\n",
    "create_source_target(train_dataset[:2])"
   ]
  },
  {
   "cell_type": "code",
   "execution_count": 7,
   "metadata": {},
   "outputs": [],
   "source": [
    "source_train, target_train = create_source_target(train_dataset)"
   ]
  },
  {
   "cell_type": "code",
   "execution_count": 8,
   "metadata": {},
   "outputs": [],
   "source": [
    "source_valid, target_valid = create_source_target(valid_dataset)"
   ]
  },
  {
   "cell_type": "code",
   "execution_count": 9,
   "metadata": {},
   "outputs": [],
   "source": [
    "source_test, target_test = create_source_target(test_dataset)"
   ]
  },
  {
   "cell_type": "markdown",
   "metadata": {},
   "source": [
    "### Write to files"
   ]
  },
  {
   "cell_type": "code",
   "execution_count": 10,
   "metadata": {},
   "outputs": [],
   "source": [
    "def save_data_file(data, filename):\n",
    "    \"\"\"\n",
    "    Save data to the file\n",
    "    \"\"\"\n",
    "    \n",
    "    FILE_PATH = filename\n",
    "    \n",
    "    # save to corresponding file\n",
    "    output_file = open(FILE_PATH, 'w')\n",
    "    for leaflet_data in data:\n",
    "        output_file.write(leaflet_data)\n",
    "    output_file.close()\n",
    "    \n",
    "    print(\"Data saved successfully to \", filename)    \n",
    "    print(\"=====================================\")"
   ]
  },
  {
   "cell_type": "code",
   "execution_count": 11,
   "metadata": {},
   "outputs": [
    {
     "name": "stdout",
     "output_type": "stream",
     "text": [
      "Data saved successfully to  /home/ruslan_yermakov/nlg-ra/T5_experiments/T5_plain/input_data/train.source\n",
      "=====================================\n",
      "Data saved successfully to  /home/ruslan_yermakov/nlg-ra/T5_experiments/T5_plain/input_data/train.target\n",
      "=====================================\n",
      "Data saved successfully to  /home/ruslan_yermakov/nlg-ra/T5_experiments/T5_plain/input_data/val.source\n",
      "=====================================\n",
      "Data saved successfully to  /home/ruslan_yermakov/nlg-ra/T5_experiments/T5_plain/input_data/val.target\n",
      "=====================================\n",
      "Data saved successfully to  /home/ruslan_yermakov/nlg-ra/T5_experiments/T5_plain/input_data/test.source\n",
      "=====================================\n",
      "Data saved successfully to  /home/ruslan_yermakov/nlg-ra/T5_experiments/T5_plain/input_data/test.target\n",
      "=====================================\n"
     ]
    }
   ],
   "source": [
    "\n",
    "# Train\n",
    "\n",
    "TRAIN_SOURCE='/home/ruslan_yermakov/nlg-ra/T5_experiments/T5_plain/input_data/train.source'\n",
    "save_data_file(source_train, TRAIN_SOURCE)\n",
    "\n",
    "TRAIN_TARGET='/home/ruslan_yermakov/nlg-ra/T5_experiments/T5_plain/input_data/train.target'\n",
    "save_data_file(target_train, TRAIN_TARGET)\n",
    "\n",
    "# Validation\n",
    "\n",
    "VAL_SOURCE='/home/ruslan_yermakov/nlg-ra/T5_experiments/T5_plain/input_data/val.source'\n",
    "save_data_file(source_valid, VAL_SOURCE)\n",
    "\n",
    "VAL_TARGET='/home/ruslan_yermakov/nlg-ra/T5_experiments/T5_plain/input_data/val.target'\n",
    "save_data_file(target_valid, VAL_TARGET)\n",
    "\n",
    "# Test\n",
    "\n",
    "TEST_SOURCE='/home/ruslan_yermakov/nlg-ra/T5_experiments/T5_plain/input_data/test.source'\n",
    "save_data_file(source_test, TEST_SOURCE)\n",
    "\n",
    "TEST_TARGET='/home/ruslan_yermakov/nlg-ra/T5_experiments/T5_plain/input_data/test.target'\n",
    "save_data_file(target_test, TEST_TARGET)"
   ]
  },
  {
   "cell_type": "code",
   "execution_count": null,
   "metadata": {},
   "outputs": [],
   "source": []
  }
 ],
 "metadata": {
  "kernelspec": {
   "display_name": "Python 3",
   "language": "python",
   "name": "python3"
  },
  "language_info": {
   "codemirror_mode": {
    "name": "ipython",
    "version": 3
   },
   "file_extension": ".py",
   "mimetype": "text/x-python",
   "name": "python",
   "nbconvert_exporter": "python",
   "pygments_lexer": "ipython3",
   "version": "3.6.10"
  }
 },
 "nbformat": 4,
 "nbformat_minor": 2
}
