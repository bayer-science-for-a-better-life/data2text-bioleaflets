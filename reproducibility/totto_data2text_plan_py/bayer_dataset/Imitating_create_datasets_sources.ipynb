{
 "cells": [
  {
   "cell_type": "code",
   "execution_count": 2,
   "metadata": {},
   "outputs": [],
   "source": [
    "import pickle\n",
    "import numpy as np\n",
    "import matplotlib.pyplot as plt\n",
    "import random\n",
    "import codecs\n",
    "import json\n",
    "\n",
    "from sklearn.model_selection import train_test_split\n",
    "from nltk import sent_tokenize, word_tokenize\n",
    "\n",
    "from data_preparation.EMA_documents import SectionLeaflet, Leaflet"
   ]
  },
  {
   "cell_type": "code",
   "execution_count": 17,
   "metadata": {},
   "outputs": [],
   "source": [
    "# load array of objects, where object - class Leaflet\n",
    "with open(\"LeafletsDataset_section1_NER_outputs.dat\", \"rb\") as f:\n",
    "    loaded_package_leaflets = pickle.load(f)"
   ]
  },
  {
   "cell_type": "code",
   "execution_count": 18,
   "metadata": {},
   "outputs": [
    {
     "data": {
      "text/plain": [
       "1250"
      ]
     },
     "execution_count": 18,
     "metadata": {},
     "output_type": "execute_result"
    }
   ],
   "source": [
    "len(loaded_package_leaflets)"
   ]
  },
  {
   "cell_type": "markdown",
   "metadata": {},
   "source": [
    "### Clean dataset"
   ]
  },
  {
   "cell_type": "code",
   "execution_count": 19,
   "metadata": {},
   "outputs": [
    {
     "data": {
      "text/plain": [
       "'trydonis is a medicine to help breathing that contains the three active substances: beclometasone dipropionate, formoterol fumarate dihydrate and glycopyrronium. beclometasone dipropionate belongs to a group of medicines called corticosteroids which act to reduce the swelling and irritation in your lungs. formoterol and glycopyrronium are medicines called longacting bronchodilators. they act in different ways to relax the muscles in your airways, helping to open the airways wider and allowing you to breathe more easily. regular treatment with these three active substances helps to relieve and prevent symptoms such as shortness of breath, wheezing and cough in adult patients with chronic obstructive pulmonary disease (copd). trydonis can reduce exacerbations (flareups) of copd symptoms. copd is a serious long term disease in which the airways become blocked and air sacs inside the lungs become damaged, leading to difficulty breathing.'"
      ]
     },
     "execution_count": 19,
     "metadata": {},
     "output_type": "execute_result"
    }
   ],
   "source": [
    "loaded_package_leaflets[0].section1.section_content"
   ]
  },
  {
   "cell_type": "code",
   "execution_count": 20,
   "metadata": {},
   "outputs": [],
   "source": [
    "leaflets_length = []\n",
    "\n",
    "for leaflet in loaded_package_leaflets:\n",
    "    section1_content = leaflet.section1.section_content\n",
    "    \n",
    "    # remove None or empty section content\n",
    "    if section1_content is None or len(section1_content) == 0:\n",
    "        # loaded_package_leaflets.remove(leaflet)\n",
    "        print(section1_content)\n",
    "    \n",
    "    # calc the length of section1 content and add to list\n",
    "    leaflets_length.append(len(section1_content))"
   ]
  },
  {
   "cell_type": "code",
   "execution_count": 21,
   "metadata": {},
   "outputs": [
    {
     "data": {
      "text/plain": [
       "1250"
      ]
     },
     "execution_count": 21,
     "metadata": {},
     "output_type": "execute_result"
    }
   ],
   "source": [
    "len(loaded_package_leaflets)"
   ]
  },
  {
   "cell_type": "code",
   "execution_count": 22,
   "metadata": {},
   "outputs": [
    {
     "data": {
      "text/plain": [
       "1070.3224"
      ]
     },
     "execution_count": 22,
     "metadata": {},
     "output_type": "execute_result"
    }
   ],
   "source": [
    "np.mean(leaflets_length)"
   ]
  },
  {
   "cell_type": "code",
   "execution_count": 23,
   "metadata": {},
   "outputs": [
    {
     "data": {
      "text/plain": [
       "(array([324., 570., 213.,  74.,  30.,  19.,   4.,   4.,   0.,   1.,   4.,\n",
       "          2.,   1.,   0.,   0.,   0.,   0.,   0.,   0.,   0.,   0.,   1.,\n",
       "          0.,   2.,   0.,   0.,   0.,   0.,   0.,   1.]),\n",
       " array([   65.        ,   613.13333333,  1161.26666667,  1709.4       ,\n",
       "         2257.53333333,  2805.66666667,  3353.8       ,  3901.93333333,\n",
       "         4450.06666667,  4998.2       ,  5546.33333333,  6094.46666667,\n",
       "         6642.6       ,  7190.73333333,  7738.86666667,  8287.        ,\n",
       "         8835.13333333,  9383.26666667,  9931.4       , 10479.53333333,\n",
       "        11027.66666667, 11575.8       , 12123.93333333, 12672.06666667,\n",
       "        13220.2       , 13768.33333333, 14316.46666667, 14864.6       ,\n",
       "        15412.73333333, 15960.86666667, 16509.        ]),\n",
       " <a list of 30 Patch objects>)"
      ]
     },
     "execution_count": 23,
     "metadata": {},
     "output_type": "execute_result"
    },
    {
     "data": {
      "image/png": "[encoded data removed]",
      "text/plain": [
       "<Figure size 432x288 with 1 Axes>"
      ]
     },
     "metadata": {},
     "output_type": "display_data"
    }
   ],
   "source": [
    "plt.hist(leaflets_length, bins=30)"
   ]
  },
  {
   "cell_type": "code",
   "execution_count": 25,
   "metadata": {},
   "outputs": [
    {
     "name": "stdout",
     "output_type": "stream",
     "text": [
      "1\n"
     ]
    }
   ],
   "source": [
    "# remove \"outliers\" - just make a better content extraction system! \n",
    "\n",
    "count_large_content = 0\n",
    "\n",
    "for leaflet in loaded_package_leaflets:\n",
    "    section1_content = leaflet.section1.section_content\n",
    "    \n",
    "    if len(section1_content) >= 3000:\n",
    "        count_large_content += 1\n",
    "        loaded_package_leaflets.remove(leaflet)\n",
    "\n",
    "print(count_large_content)"
   ]
  },
  {
   "cell_type": "code",
   "execution_count": 26,
   "metadata": {},
   "outputs": [],
   "source": [
    "leaflets_length = []\n",
    "\n",
    "for leaflet in loaded_package_leaflets:\n",
    "    leaflets_length.append(len(leaflet.section1.section_content))"
   ]
  },
  {
   "cell_type": "code",
   "execution_count": 27,
   "metadata": {},
   "outputs": [
    {
     "data": {
      "text/plain": [
       "1220"
      ]
     },
     "execution_count": 27,
     "metadata": {},
     "output_type": "execute_result"
    }
   ],
   "source": [
    "len(loaded_package_leaflets)"
   ]
  },
  {
   "cell_type": "code",
   "execution_count": 28,
   "metadata": {},
   "outputs": [
    {
     "data": {
      "text/plain": [
       "961.7909836065573"
      ]
     },
     "execution_count": 28,
     "metadata": {},
     "output_type": "execute_result"
    }
   ],
   "source": [
    "np.mean(leaflets_length)"
   ]
  },
  {
   "cell_type": "code",
   "execution_count": 29,
   "metadata": {},
   "outputs": [
    {
     "data": {
      "text/plain": [
       "(array([ 1.,  0.,  0.,  2.,  3.,  4.,  4., 12., 16., 16., 25., 23., 29.,\n",
       "        29., 30., 33., 36., 40., 28., 36., 40., 38., 37., 32., 59., 32.,\n",
       "        21., 36., 36., 29., 26., 29., 23., 21., 22., 26., 15., 19., 26.,\n",
       "        18., 21., 10.,  9., 11.,  8., 11.,  7., 11., 13.,  4., 12.,  8.,\n",
       "         9.,  5.,  8.,  6.,  8.,  5.,  2.,  2.,  3.,  6.,  7., 11.,  2.,\n",
       "         4.,  5.,  3.,  3.,  4.,  5.,  2.,  1.,  1.,  2.,  0.,  1.,  1.,\n",
       "         2.,  2.,  3.,  2.,  0.,  4.,  1.,  1.,  1.,  1.,  4.,  2.,  2.,\n",
       "         1.,  2.,  2.,  3.,  0.,  1.,  1.,  0.,  2.]),\n",
       " array([  65.  ,   94.29,  123.58,  152.87,  182.16,  211.45,  240.74,\n",
       "         270.03,  299.32,  328.61,  357.9 ,  387.19,  416.48,  445.77,\n",
       "         475.06,  504.35,  533.64,  562.93,  592.22,  621.51,  650.8 ,\n",
       "         680.09,  709.38,  738.67,  767.96,  797.25,  826.54,  855.83,\n",
       "         885.12,  914.41,  943.7 ,  972.99, 1002.28, 1031.57, 1060.86,\n",
       "        1090.15, 1119.44, 1148.73, 1178.02, 1207.31, 1236.6 , 1265.89,\n",
       "        1295.18, 1324.47, 1353.76, 1383.05, 1412.34, 1441.63, 1470.92,\n",
       "        1500.21, 1529.5 , 1558.79, 1588.08, 1617.37, 1646.66, 1675.95,\n",
       "        1705.24, 1734.53, 1763.82, 1793.11, 1822.4 , 1851.69, 1880.98,\n",
       "        1910.27, 1939.56, 1968.85, 1998.14, 2027.43, 2056.72, 2086.01,\n",
       "        2115.3 , 2144.59, 2173.88, 2203.17, 2232.46, 2261.75, 2291.04,\n",
       "        2320.33, 2349.62, 2378.91, 2408.2 , 2437.49, 2466.78, 2496.07,\n",
       "        2525.36, 2554.65, 2583.94, 2613.23, 2642.52, 2671.81, 2701.1 ,\n",
       "        2730.39, 2759.68, 2788.97, 2818.26, 2847.55, 2876.84, 2906.13,\n",
       "        2935.42, 2964.71, 2994.  ]),\n",
       " <a list of 100 Patch objects>)"
      ]
     },
     "execution_count": 29,
     "metadata": {},
     "output_type": "execute_result"
    },
    {
     "data": {
      "image/png": "[encoded data removed]",
      "text/plain": [
       "<Figure size 432x288 with 1 Axes>"
      ]
     },
     "metadata": {},
     "output_type": "display_data"
    }
   ],
   "source": [
    "plt.hist(leaflets_length, bins=100)"
   ]
  },
  {
   "cell_type": "code",
   "execution_count": 30,
   "metadata": {},
   "outputs": [],
   "source": [
    "# split dataset into train-valid-test (1000-120-100) and shuffle \n",
    "\n",
    "# train - test\n",
    "train_leaflets, test_leaflets = train_test_split(loaded_package_leaflets, test_size=100, random_state=42, shuffle=True)\n",
    "\n",
    "# train - valid \n",
    "train_leaflets, valid_leaflets = train_test_split(train_leaflets, test_size=120, random_state=42, shuffle=True)"
   ]
  },
  {
   "cell_type": "markdown",
   "metadata": {},
   "source": [
    "## Produce same output as the script *create_dataset* from data2text-plain"
   ]
  },
  {
   "cell_type": "markdown",
   "metadata": {},
   "source": [
    "### Plan\n",
    "\n",
    "section_content -------- true text   \n",
    "\n",
    "entity_recognition  ------- actually input - set of records   \n",
    "\n",
    "Set of records in order they appear in section_content    -------- content plan "
   ]
  },
  {
   "cell_type": "code",
   "execution_count": 31,
   "metadata": {},
   "outputs": [],
   "source": [
    "RECORD_DELIM = \" \"\n",
    "DELIM = u\"￨\"\n",
    "\n",
    "HOMEAWAY = \"HOME\"\n",
    "ENTITY = \"Indication\"\n",
    "\n",
    "PAD_WORD = '<blank>'\n",
    "UNK_WORD = '<unk>'\n",
    "UNK = 0\n",
    "BOS_WORD = '<s>'\n",
    "EOS_WORD = '</s>'"
   ]
  },
  {
   "cell_type": "code",
   "execution_count": 32,
   "metadata": {},
   "outputs": [],
   "source": [
    "summaries_leaflets = []\n",
    "src_leaflets = []\n",
    "content_plan_leaflets = []"
   ]
  },
  {
   "cell_type": "code",
   "execution_count": 33,
   "metadata": {},
   "outputs": [],
   "source": [
    "# Transform training data to be a suitable format for model data2text-plan\n",
    "\n",
    "for leaflet in train_leaflets:\n",
    "    section1_content = leaflet.section1.section_content\n",
    "    section1_entity_recognition = leaflet.section1.entity_recognition\n",
    "    \n",
    "    # get content plan\n",
    "    content_plan_section1 = ''\n",
    "    \n",
    "    for entity in section1_entity_recognition:\n",
    "        entity_value = entity['Text'] if len(entity['Text'].split(\" \")) == 0 else (\"_\").join(entity['Text'].split(\" \"))\n",
    "        entity_type = entity['Type'] if entity['Type'] is not None and len(entity['Type']) > 0 else entity['Category']\n",
    "        \n",
    "        content_plan_section1 += entity_value + DELIM + ENTITY + DELIM + entity_type + DELIM + HOMEAWAY\n",
    "        \n",
    "        if section1_entity_recognition.index(entity) != len(section1_entity_recognition) - 1:\n",
    "            content_plan_section1 += \" \"\n",
    "        else:\n",
    "            content_plan_section1 += \" \" + \"\\n\"\n",
    "        \n",
    "    \n",
    "    content_plan_leaflets.append(content_plan_section1)\n",
    "    \n",
    "    # get the section1 content\n",
    "    section1_content = section1_content + \"\\n\"\n",
    "    summaries_leaflets.append(section1_content)\n",
    "    "
   ]
  },
  {
   "cell_type": "code",
   "execution_count": 34,
   "metadata": {},
   "outputs": [],
   "source": [
    "def add_special_records(records):\n",
    "    record = []\n",
    "    record.append(UNK_WORD)\n",
    "    record.append(PAD_WORD)\n",
    "    record.append(PAD_WORD)\n",
    "    record.append(PAD_WORD)\n",
    "    records.append(DELIM.join(record))\n",
    "    record = []\n",
    "    record.append(PAD_WORD)\n",
    "    record.append(PAD_WORD)\n",
    "    record.append(PAD_WORD)\n",
    "    record.append(PAD_WORD)\n",
    "    records.append(DELIM.join(record))\n",
    "    record = []\n",
    "    record.append(BOS_WORD)\n",
    "    record.append(PAD_WORD)\n",
    "    record.append(PAD_WORD)\n",
    "    record.append(PAD_WORD)\n",
    "    records.append(DELIM.join(record))\n",
    "    record = []\n",
    "    record.append(EOS_WORD)\n",
    "    record.append(PAD_WORD)\n",
    "    record.append(PAD_WORD)\n",
    "    record.append(PAD_WORD)\n",
    "    records.append(DELIM.join(record))\n",
    "    \n",
    "    return records"
   ]
  },
  {
   "cell_type": "code",
   "execution_count": 35,
   "metadata": {},
   "outputs": [],
   "source": [
    "# get the src_train - training data to be input to the model\n",
    "\n",
    "for leaflet_content_plan in content_plan_leaflets:\n",
    "    # remove the end symbol ('n') of the string\n",
    "    leaflet_content_plan = leaflet_content_plan[:-2]\n",
    "    \n",
    "    # spli string into a list of records\n",
    "    leaflet_content_plan_collection = leaflet_content_plan.split(\" \")\n",
    "    \n",
    "    # randomly shuffle records in a list\n",
    "    random.shuffle(leaflet_content_plan_collection)\n",
    "    \n",
    "    # add special symbols to the begining\n",
    "    special_symbols = []\n",
    "    special_symbols = add_special_records(special_symbols)\n",
    "    \n",
    "    # create a string containing all the records and special_symbols in the begining\n",
    "    src_leaflet_section1 = ''\n",
    "    \n",
    "    src_leaflet_section1 += \" \".join(special_symbols)\n",
    "    src_leaflet_section1 += \" \"\n",
    "    \n",
    "    src_leaflet_section1 += \" \".join(leaflet_content_plan_collection)\n",
    "    src_leaflet_section1 += '\\n'\n",
    "    \n",
    "    \n",
    "    src_leaflets.append(src_leaflet_section1)"
   ]
  },
  {
   "cell_type": "code",
   "execution_count": 36,
   "metadata": {},
   "outputs": [
    {
     "data": {
      "text/plain": [
       "1000"
      ]
     },
     "execution_count": 36,
     "metadata": {},
     "output_type": "execute_result"
    }
   ],
   "source": [
    "len(src_leaflets)"
   ]
  },
  {
   "cell_type": "code",
   "execution_count": 37,
   "metadata": {},
   "outputs": [
    {
     "data": {
      "text/plain": [
       "1000"
      ]
     },
     "execution_count": 37,
     "metadata": {},
     "output_type": "execute_result"
    }
   ],
   "source": [
    "len(content_plan_leaflets)"
   ]
  },
  {
   "cell_type": "code",
   "execution_count": 38,
   "metadata": {},
   "outputs": [
    {
     "data": {
      "text/plain": [
       "1000"
      ]
     },
     "execution_count": 38,
     "metadata": {},
     "output_type": "execute_result"
    }
   ],
   "source": [
    "len(summaries_leaflets)"
   ]
  },
  {
   "cell_type": "code",
   "execution_count": 55,
   "metadata": {},
   "outputs": [
    {
     "data": {
      "text/plain": [
       "'<unk>￨<blank>￨<blank>￨<blank> <blank>￨<blank>￨<blank>￨<blank> <s>￨<blank>￨<blank>￨<blank> </s>￨<blank>￨<blank>￨<blank> atazanavir￨Indication￨GENERIC_NAME￨HOME infection￨Indication￨DX_NAME￨HOME protease_inhibitors￨Indication￨TREATMENT_NAME￨HOME illnesses￨Indication￨DX_NAME￨HOME atazanavir￨Indication￨GENERIC_NAME￨HOME atazanavir￨Indication￨GENERIC_NAME￨HOME atazanavir￨Indication￨GENERIC_NAME￨HOME evotaz￨Indication￨BRAND_NAME￨HOME hiv￨Indication￨DX_NAME￨HOME hiv￨Indication￨DX_NAME￨HOME immunodeficiency_syndrome￨Indication￨DX_NAME￨HOME hiv￨Indication￨DX_NAME￨HOME hiv￨Indication￨DX_NAME￨HOME cobicistat￨Indication￨GENERIC_NAME￨HOME evotaz￨Indication￨BRAND_NAME￨HOME 18￨Indication￨AGE￨HOME human_immunodeficiency_virus￨Indication￨DX_NAME￨HOME atazanavir￨Indication￨GENERIC_NAME￨HOME infected￨Indication￨DX_NAME￨HOME evotaz￨Indication￨BRAND_NAME￨HOME hiv_infection￨Indication￨DX_NAME￨HOME cobicistat￨Indication￨GENERIC_NAME￨HOME hiv_infection￨Indication￨DX_NAME￨HOME immune_system￨Indication￨SYSTEM_ORGAN_SITE￨HOME\\n'"
      ]
     },
     "execution_count": 55,
     "metadata": {},
     "output_type": "execute_result"
    }
   ],
   "source": [
    "src_leaflets[1]"
   ]
  },
  {
   "cell_type": "code",
   "execution_count": 31,
   "metadata": {},
   "outputs": [
    {
     "data": {
      "text/plain": [
       "'evotaz￨Indication￨BRAND_NAME￨HOME atazanavir￨Indication￨GENERIC_NAME￨HOME protease_inhibitors￨Indication￨TREATMENT_NAME￨HOME human_immunodeficiency_virus￨Indication￨DX_NAME￨HOME hiv￨Indication￨DX_NAME￨HOME infection￨Indication￨DX_NAME￨HOME hiv￨Indication￨DX_NAME￨HOME immune_system￨Indication￨SYSTEM_ORGAN_SITE￨HOME atazanavir￨Indication￨GENERIC_NAME￨HOME illnesses￨Indication￨DX_NAME￨HOME hiv_infection￨Indication￨DX_NAME￨HOME cobicistat￨Indication￨GENERIC_NAME￨HOME atazanavir￨Indication￨GENERIC_NAME￨HOME cobicistat￨Indication￨GENERIC_NAME￨HOME hiv￨Indication￨DX_NAME￨HOME atazanavir￨Indication￨GENERIC_NAME￨HOME atazanavir￨Indication￨GENERIC_NAME￨HOME evotaz￨Indication￨BRAND_NAME￨HOME 18￨Indication￨AGE￨HOME infected￨Indication￨DX_NAME￨HOME hiv￨Indication￨DX_NAME￨HOME immunodeficiency_syndrome￨Indication￨DX_NAME￨HOME hiv_infection￨Indication￨DX_NAME￨HOME evotaz￨Indication￨BRAND_NAME￨HOME \\n'"
      ]
     },
     "execution_count": 31,
     "metadata": {},
     "output_type": "execute_result"
    }
   ],
   "source": [
    "content_plan_leaflets[1]"
   ]
  },
  {
   "cell_type": "code",
   "execution_count": 32,
   "metadata": {},
   "outputs": [
    {
     "data": {
      "text/plain": [
       "'evotaz contains two active substances: \\uf0a7 atazanavir, an antiviral (or antiretroviral) medicine. it is one of a group called protease inhibitors. these medicines control human immunodeficiency virus (hiv) infection by stopping production of a protein that hiv needs for its multiplication. they work by reducing the amount of hiv in your body and this in turn, strengthens your immune system. in this way atazanavir reduces the risk of developing illnesses linked to hiv infection. \\uf0a7 cobicistat, a booster (pharmacokinetic enhancer) to help improve the effects of atazanavir. cobicistat, does not directly treat your hiv, but boosts the levels of atazanavir in the blood. it does this by slowing down the breakdown of atazanavir which will make it stay in the body for longer. evotaz may be used by adults aged 18 years of age and older who are infected with hiv, the virus that causes acquired immunodeficiency syndrome (aids). it is used in combination with other antihiv medicines to help control your hiv infection. your doctor will discuss with you which combination of these medicines with evotaz is best for you.\\n'"
      ]
     },
     "execution_count": 32,
     "metadata": {},
     "output_type": "execute_result"
    }
   ],
   "source": [
    "summaries_leaflets[1]"
   ]
  },
  {
   "cell_type": "code",
   "execution_count": 33,
   "metadata": {},
   "outputs": [],
   "source": [
    "# Output files\n",
    "\n",
    "INTER_CONTENT_PLAN = 'inter/train_content_plan.txt'  # intermediate content plan input to second stage\n",
    "SRC_FILE = 'src_train.txt'  # src file input to first stage\n",
    "TRAIN_TGT_FILE = \"tgt_train.txt\"  # tgt file of second stage\n",
    "CONTENT_PLAN_OUT = 'train_content_plan.txt'  # content plan output of first stage"
   ]
  },
  {
   "cell_type": "code",
   "execution_count": 34,
   "metadata": {},
   "outputs": [],
   "source": [
    "output_file = open(INTER_CONTENT_PLAN, 'w')\n",
    "for content_plan in content_plan_leaflets:\n",
    "    output_file.write(content_plan) #.encode(\"utf-8\"))\n",
    "    # output_file.write('\\n')\n",
    "output_file.close()"
   ]
  },
  {
   "cell_type": "code",
   "execution_count": 35,
   "metadata": {},
   "outputs": [],
   "source": [
    "summary_file = open(TRAIN_TGT_FILE, 'w')\n",
    "for summary_leaflet in summaries_leaflets:\n",
    "    # summary = [word.encode(\"utf-8\") for word in summary_leaflet.split()]\n",
    "    # summary_file.write(\" \".join(summary))\n",
    "    summary_file.write(summary_leaflet)\n",
    "    # summary_file.write(\"\\n\")\n",
    "summary_file.close()"
   ]
  },
  {
   "cell_type": "code",
   "execution_count": 36,
   "metadata": {},
   "outputs": [],
   "source": [
    "src_file = open(SRC_FILE, 'w')\n",
    "for src_instance in src_leaflets:\n",
    "    # src_file.write(src_instance.encode(\"utf-8\"))\n",
    "    src_file.write(src_instance)\n",
    "    # src_file.write(\"\\n\")\n",
    "src_file.close()"
   ]
  },
  {
   "cell_type": "markdown",
   "metadata": {},
   "source": [
    "### Finally, the last file needed - *rotowire/train_content_plan.txt*"
   ]
  },
  {
   "cell_type": "code",
   "execution_count": 37,
   "metadata": {},
   "outputs": [],
   "source": [
    "# read files with training data and content plan\n",
    "\n",
    "inputs = []\n",
    "content_plans = []\n",
    "with codecs.open(INTER_CONTENT_PLAN, \"r\", \"utf-8\") as corpus_file:\n",
    "    for i, line in enumerate(corpus_file):\n",
    "        content_plans.append(line.split())\n",
    "\n",
    "with codecs.open(SRC_FILE, \"r\", \"utf-8\") as corpus_file:\n",
    "    for i, line in enumerate(corpus_file):\n",
    "        inputs.append(line.split())"
   ]
  },
  {
   "cell_type": "code",
   "execution_count": 38,
   "metadata": {},
   "outputs": [
    {
     "data": {
      "text/plain": [
       "1000"
      ]
     },
     "execution_count": 38,
     "metadata": {},
     "output_type": "execute_result"
    }
   ],
   "source": [
    "len(inputs)"
   ]
  },
  {
   "cell_type": "code",
   "execution_count": 39,
   "metadata": {},
   "outputs": [
    {
     "data": {
      "text/plain": [
       "1000"
      ]
     },
     "execution_count": 39,
     "metadata": {},
     "output_type": "execute_result"
    }
   ],
   "source": [
    "len(content_plans)"
   ]
  },
  {
   "cell_type": "code",
   "execution_count": 40,
   "metadata": {},
   "outputs": [],
   "source": [
    "# basically - now content plan POINTs to index in the training dataset\n",
    "# content_plan - collection of indexes where each index points to record in training dataset - training_dataset[index]\n",
    "\n",
    "outputs = []\n",
    "\n",
    "for i, training_sample in enumerate(inputs):\n",
    "    \n",
    "    content_plan = content_plans[i]\n",
    "    output = []\n",
    "    \n",
    "    for record in content_plan:\n",
    "        output.append(str(training_sample.index(record)))\n",
    "        \n",
    "    outputs.append(\" \".join(output))"
   ]
  },
  {
   "cell_type": "code",
   "execution_count": 41,
   "metadata": {},
   "outputs": [
    {
     "data": {
      "text/plain": [
       "'4 18 7 26 4 28 10 14 24 4 4 29 27 13 4 13 7 5 30 32 13 7 5 9 31 17 22 12 6'"
      ]
     },
     "execution_count": 41,
     "metadata": {},
     "output_type": "execute_result"
    }
   ],
   "source": [
    "outputs[5]"
   ]
  },
  {
   "cell_type": "code",
   "execution_count": 42,
   "metadata": {},
   "outputs": [],
   "source": [
    "# write to a file\n",
    "\n",
    "output_file = open(CONTENT_PLAN_OUT, 'w')\n",
    "\n",
    "# add \\n to the end of the string\n",
    "output_file.write(\"\\n\".join(outputs))\n",
    "# add \\n between content plans\n",
    "output_file.write(\"\\n\")\n",
    "\n",
    "output_file.close()"
   ]
  },
  {
   "cell_type": "markdown",
   "metadata": {},
   "source": [
    "## Check the *leaflets* training input files and *NBA* input files"
   ]
  },
  {
   "cell_type": "code",
   "execution_count": 40,
   "metadata": {},
   "outputs": [],
   "source": [
    "with open('rotowire/inter/train_content_plan.txt') as reader:\n",
    "    # This reads the remaining lines from the file object and returns them as a list.\n",
    "    nba_inter_train_content_plan = reader.readlines()"
   ]
  },
  {
   "cell_type": "code",
   "execution_count": 41,
   "metadata": {},
   "outputs": [
    {
     "ename": "FileNotFoundError",
     "evalue": "[Errno 2] No such file or directory: 'inter/train_content_plan.txt'",
     "output_type": "error",
     "traceback": [
      "\u001b[0;31m---------------------------------------------------------------------------\u001b[0m",
      "\u001b[0;31mFileNotFoundError\u001b[0m                         Traceback (most recent call last)",
      "\u001b[0;32m<ipython-input-41-aa9698019339>\u001b[0m in \u001b[0;36m<module>\u001b[0;34m()\u001b[0m\n\u001b[0;32m----> 1\u001b[0;31m \u001b[0;32mwith\u001b[0m \u001b[0mopen\u001b[0m\u001b[0;34m(\u001b[0m\u001b[0;34m'inter/train_content_plan.txt'\u001b[0m\u001b[0;34m)\u001b[0m \u001b[0;32mas\u001b[0m \u001b[0mreader\u001b[0m\u001b[0;34m:\u001b[0m\u001b[0;34m\u001b[0m\u001b[0;34m\u001b[0m\u001b[0m\n\u001b[0m\u001b[1;32m      2\u001b[0m     \u001b[0;31m# This reads the remaining lines from the file object and returns them as a list.\u001b[0m\u001b[0;34m\u001b[0m\u001b[0;34m\u001b[0m\u001b[0;34m\u001b[0m\u001b[0m\n\u001b[1;32m      3\u001b[0m     \u001b[0mleaflet_inter_train_content_plan\u001b[0m \u001b[0;34m=\u001b[0m \u001b[0mreader\u001b[0m\u001b[0;34m.\u001b[0m\u001b[0mreadlines\u001b[0m\u001b[0;34m(\u001b[0m\u001b[0;34m)\u001b[0m\u001b[0;34m\u001b[0m\u001b[0;34m\u001b[0m\u001b[0m\n",
      "\u001b[0;31mFileNotFoundError\u001b[0m: [Errno 2] No such file or directory: 'inter/train_content_plan.txt'"
     ]
    }
   ],
   "source": [
    "with open('inter/train_content_plan.txt') as reader:\n",
    "    # This reads the remaining lines from the file object and returns them as a list.\n",
    "    leaflet_inter_train_content_plan = reader.readlines()"
   ]
  },
  {
   "cell_type": "code",
   "execution_count": 42,
   "metadata": {},
   "outputs": [
    {
     "data": {
      "text/plain": [
       "'Atlanta￨Hawks￨TEAM-CITY￨HOME Hawks￨Hawks￨TEAM-NAME￨HOME 36￨Hawks￨TEAM-WINS￨HOME 8￨Hawks￨TEAM-LOSSES￨HOME 103￨Hawks￨TEAM-PTS￨HOME 48￨Hawks￨TEAM-FG_PCT￨HOME Paul￨Paul_Millsap￨FIRST_NAME￨HOME Millsap￨Paul_Millsap￨SECOND_NAME￨HOME 22￨Paul_Millsap￨PTS￨HOME 10￨Paul_Millsap￨REB￨HOME Al￨Al_Horford￨FIRST_NAME￨HOME Horford￨Al_Horford￨SECOND_NAME￨HOME 14￨Al_Horford￨PTS￨HOME 12￨Al_Horford￨REB￨HOME Jeff￨Jeff_Teague￨FIRST_NAME￨HOME Teague￨Jeff_Teague￨SECOND_NAME￨HOME 17￨Jeff_Teague￨PTS￨HOME 9￨Jeff_Teague￨AST￨HOME DeMarre￨DeMarre_Carroll￨FIRST_NAME￨HOME Carroll￨DeMarre_Carroll￨SECOND_NAME￨HOME 13￨DeMarre_Carroll￨PTS￨HOME Dennis￨Dennis_Schroder￨FIRST_NAME￨HOME Schroder￨Dennis_Schroder￨SECOND_NAME￨HOME 13￨Dennis_Schroder￨PTS￨HOME 27￨Hawks￨TEAM-AST￨HOME Russell￨Russell_Westbrook￨FIRST_NAME￨AWAY Westbrook￨Russell_Westbrook￨SECOND_NAME￨AWAY 22￨Russell_Westbrook￨PTS￨AWAY Kevin￨Kevin_Durant￨FIRST_NAME￨AWAY Durant￨Kevin_Durant￨SECOND_NAME￨AWAY 21￨Kevin_Durant￨PTS￨AWAY Serge￨Serge_Ibaka￨FIRST_NAME￨AWAY Ibaka￨Serge_Ibaka￨SECOND_NAME￨AWAY 13￨Serge_Ibaka￨PTS￨AWAY Oklahoma_City￨Thunder￨TEAM-CITY￨AWAY Thunder￨Thunder￨TEAM-NAME￨AWAY 11￨Thunder￨TEAM-TOV￨AWAY \\n'"
      ]
     },
     "execution_count": 42,
     "metadata": {},
     "output_type": "execute_result"
    }
   ],
   "source": [
    "nba_inter_train_content_plan[22]"
   ]
  },
  {
   "cell_type": "code",
   "execution_count": 48,
   "metadata": {},
   "outputs": [
    {
     "data": {
      "text/plain": [
       "'bimatoprost￨Indication￨GENERIC_NAME￨HOME timolol￨Indication￨GENERIC_NAME￨HOME eye￨Indication￨SYSTEM_ORGAN_SITE￨HOME bimatoprost￨Indication￨GENERIC_NAME￨HOME prostaglandin￨Indication￨GENERIC_NAME￨HOME timolol￨Indication￨GENERIC_NAME￨HOME eye￨Indication￨SYSTEM_ORGAN_SITE￨HOME eye￨Indication￨SYSTEM_ORGAN_SITE￨HOME eye￨Indication￨SYSTEM_ORGAN_SITE￨HOME eye￨Indication￨SYSTEM_ORGAN_SITE￨HOME glaucoma￨Indication￨DX_NAME￨HOME eye￨Indication￨SYSTEM_ORGAN_SITE￨HOME eye￨Indication￨SYSTEM_ORGAN_SITE￨HOME eye￨Indication￨SYSTEM_ORGAN_SITE￨HOME glaucoma￨Indication￨DX_NAME￨HOME eye￨Indication￨SYSTEM_ORGAN_SITE￨HOME eye_drops￨Indication￨TREATMENT_NAME￨HOME prostaglandin_analogues￨Indication￨GENERIC_NAME￨HOME \\n'"
      ]
     },
     "execution_count": 48,
     "metadata": {},
     "output_type": "execute_result"
    }
   ],
   "source": [
    "leaflet_inter_train_content_plan[22]"
   ]
  },
  {
   "cell_type": "code",
   "execution_count": 49,
   "metadata": {},
   "outputs": [
    {
     "data": {
      "text/plain": [
       "1000"
      ]
     },
     "execution_count": 49,
     "metadata": {},
     "output_type": "execute_result"
    }
   ],
   "source": [
    "len(leaflet_inter_train_content_plan)"
   ]
  },
  {
   "cell_type": "code",
   "execution_count": null,
   "metadata": {},
   "outputs": [],
   "source": []
  },
  {
   "cell_type": "code",
   "execution_count": 47,
   "metadata": {},
   "outputs": [],
   "source": [
    "with open('rotowire/src_train.txt') as reader:\n",
    "    # This reads the remaining lines from the file object and returns them as a list.\n",
    "    nba_src_train = reader.readlines()"
   ]
  },
  {
   "cell_type": "code",
   "execution_count": 51,
   "metadata": {},
   "outputs": [],
   "source": [
    "with open('src_train.txt') as reader:\n",
    "    # This reads the remaining lines from the file object and returns them as a list.\n",
    "    leaflet_src_train = reader.readlines()"
   ]
  },
  {
   "cell_type": "code",
   "execution_count": 50,
   "metadata": {},
   "outputs": [
    {
     "data": {
      "text/plain": [
       "'<unk>￨<blank>￨<blank>￨<blank> <blank>￨<blank>￨<blank>￨<blank> <s>￨<blank>￨<blank>￨<blank> </s>￨<blank>￨<blank>￨<blank> F￨Wilson_Chandler￨START_POSITION￨HOME 28￨Wilson_Chandler￨MIN￨HOME 9￨Wilson_Chandler￨PTS￨HOME 2￨Wilson_Chandler￨FGM￨HOME 7￨Wilson_Chandler￨FGA￨HOME 29￨Wilson_Chandler￨FG_PCT￨HOME 0￨Wilson_Chandler￨FG3M￨HOME 0￨Wilson_Chandler￨FG3A￨HOME 0￨Wilson_Chandler￨FG3_PCT￨HOME 5￨Wilson_Chandler￨FTM￨HOME 8￨Wilson_Chandler￨FTA￨HOME 63￨Wilson_Chandler￨FT_PCT￨HOME 2￨Wilson_Chandler￨OREB￨HOME 6￨Wilson_Chandler￨DREB￨HOME 8￨Wilson_Chandler￨REB￨HOME 3￨Wilson_Chandler￨AST￨HOME 0￨Wilson_Chandler￨TO￨HOME 0￨Wilson_Chandler￨STL￨HOME 0￨Wilson_Chandler￨BLK￨HOME 1￨Wilson_Chandler￨PF￨HOME Wilson￨Wilson_Chandler￨FIRST_NAME￨HOME Chandler￨Wilson_Chandler￨SECOND_NAME￨HOME F￨Danilo_Gallinari￨START_POSITION￨HOME 36￨Danilo_Gallinari￨MIN￨HOME 27￨Danilo_Gallinari￨PTS￨HOME 9￨Danilo_Gallinari￨FGM￨HOME 19￨Danilo_Gallinari￨FGA￨HOME 47￨Danilo_Gallinari￨FG_PCT￨HOME 7￨Danilo_Gallinari￨FG3M￨HOME 14￨Danilo_Gallinari￨FG3A￨HOME 50￨Danilo_Gallinari￨FG3_PCT￨HOME 2￨Danilo_Gallinari￨FTM￨HOME 4￨Danilo_Gallinari￨FTA￨HOME 50￨Danilo_Gallinari￨FT_PCT￨HOME 1￨Danilo_Gallinari￨OREB￨HOME 6￨Danilo_Gallinari￨DREB￨HOME 7￨Danilo_Gallinari￨REB￨HOME 4￨Danilo_Gallinari￨AST￨HOME 2￨Danilo_Gallinari￨TO￨HOME 0￨Danilo_Gallinari￨STL￨HOME 2￨Danilo_Gallinari￨BLK￨HOME 3￨Danilo_Gallinari￨PF￨HOME Danilo￨Danilo_Gallinari￨FIRST_NAME￨HOME Gallinari￨Danilo_Gallinari￨SECOND_NAME￨HOME C￨Kenneth_Faried￨START_POSITION￨HOME 29￨Kenneth_Faried￨MIN￨HOME 29￨Kenneth_Faried￨PTS￨HOME 10￨Kenneth_Faried￨FGM￨HOME 14￨Kenneth_Faried￨FGA￨HOME 71￨Kenneth_Faried￨FG_PCT￨HOME 0￨Kenneth_Faried￨FG3M￨HOME 0￨Kenneth_Faried￨FG3A￨HOME 0￨Kenneth_Faried￨FG3_PCT￨HOME 9￨Kenneth_Faried￨FTM￨HOME 9￨Kenneth_Faried￨FTA￨HOME 100￨Kenneth_Faried￨FT_PCT￨HOME 5￨Kenneth_Faried￨OREB￨HOME 6￨Kenneth_Faried￨DREB￨HOME 11￨Kenneth_Faried￨REB￨HOME 0￨Kenneth_Faried￨AST￨HOME 0￨Kenneth_Faried￨TO￨HOME 2￨Kenneth_Faried￨STL￨HOME 2￨Kenneth_Faried￨BLK￨HOME 5￨Kenneth_Faried￨PF￨HOME Kenneth￨Kenneth_Faried￨FIRST_NAME￨HOME Faried￨Kenneth_Faried￨SECOND_NAME￨HOME G￨Randy_Foye￨START_POSITION￨HOME 28￨Randy_Foye￨MIN￨HOME 12￨Randy_Foye￨PTS￨HOME 4￨Randy_Foye￨FGM￨HOME 6￨Randy_Foye￨FGA￨HOME 67￨Randy_Foye￨FG_PCT￨HOME 4￨Randy_Foye￨FG3M￨HOME 6￨Randy_Foye￨FG3A￨HOME 67￨Randy_Foye￨FG3_PCT￨HOME 0￨Randy_Foye￨FTM￨HOME 0￨Randy_Foye￨FTA￨HOME 0￨Randy_Foye￨FT_PCT￨HOME 0￨Randy_Foye￨OREB￨HOME 6￨Randy_Foye￨DREB￨HOME 6￨Randy_Foye￨REB￨HOME 7￨Randy_Foye￨AST￨HOME 1￨Randy_Foye￨TO￨HOME 0￨Randy_Foye￨STL￨HOME 0￨Randy_Foye￨BLK￨HOME 3￨Randy_Foye￨PF￨HOME Randy￨Randy_Foye￨FIRST_NAME￨HOME Foye￨Randy_Foye￨SECOND_NAME￨HOME G￨Ty_Lawson￨START_POSITION￨HOME 39￨Ty_Lawson￨MIN￨HOME 16￨Ty_Lawson￨PTS￨HOME 7￨Ty_Lawson￨FGM￨HOME 13￨Ty_Lawson￨FGA￨HOME 54￨Ty_Lawson￨FG_PCT￨HOME 0￨Ty_Lawson￨FG3M￨HOME 2￨Ty_Lawson￨FG3A￨HOME 0￨Ty_Lawson￨FG3_PCT￨HOME 2￨Ty_Lawson￨FTM￨HOME 3￨Ty_Lawson￨FTA￨HOME 67￨Ty_Lawson￨FT_PCT￨HOME 1￨Ty_Lawson￨OREB￨HOME 2￨Ty_Lawson￨DREB￨HOME 3￨Ty_Lawson￨REB￨HOME 8￨Ty_Lawson￨AST￨HOME 2￨Ty_Lawson￨TO￨HOME 1￨Ty_Lawson￨STL￨HOME 0￨Ty_Lawson￨BLK￨HOME 3￨Ty_Lawson￨PF￨HOME Ty￨Ty_Lawson￨FIRST_NAME￨HOME Lawson￨Ty_Lawson￨SECOND_NAME￨HOME N/A￨JJ_Hickson￨START_POSITION￨HOME 16￨JJ_Hickson￨MIN￨HOME 6￨JJ_Hickson￨PTS￨HOME 3￨JJ_Hickson￨FGM￨HOME 4￨JJ_Hickson￨FGA￨HOME 75￨JJ_Hickson￨FG_PCT￨HOME 0￨JJ_Hickson￨FG3M￨HOME 0￨JJ_Hickson￨FG3A￨HOME 0￨JJ_Hickson￨FG3_PCT￨HOME 0￨JJ_Hickson￨FTM￨HOME 0￨JJ_Hickson￨FTA￨HOME 0￨JJ_Hickson￨FT_PCT￨HOME 0￨JJ_Hickson￨OREB￨HOME 1￨JJ_Hickson￨DREB￨HOME 1￨JJ_Hickson￨REB￨HOME 1￨JJ_Hickson￨AST￨HOME 0￨JJ_Hickson￨TO￨HOME 2￨JJ_Hickson￨STL￨HOME 0￨JJ_Hickson￨BLK￨HOME 2￨JJ_Hickson￨PF￨HOME JJ￨JJ_Hickson￨FIRST_NAME￨HOME Hickson￨JJ_Hickson￨SECOND_NAME￨HOME N/A￨Will_Barton￨START_POSITION￨HOME 22￨Will_Barton￨MIN￨HOME 4￨Will_Barton￨PTS￨HOME 2￨Will_Barton￨FGM￨HOME 8￨Will_Barton￨FGA￨HOME 25￨Will_Barton￨FG_PCT￨HOME 0￨Will_Barton￨FG3M￨HOME 2￨Will_Barton￨FG3A￨HOME 0￨Will_Barton￨FG3_PCT￨HOME 0￨Will_Barton￨FTM￨HOME 0￨Will_Barton￨FTA￨HOME 0￨Will_Barton￨FT_PCT￨HOME 0￨Will_Barton￨OREB￨HOME 3￨Will_Barton￨DREB￨HOME 3￨Will_Barton￨REB￨HOME 0￨Will_Barton￨AST￨HOME 3￨Will_Barton￨TO￨HOME 2￨Will_Barton￨STL￨HOME 1￨Will_Barton￨BLK￨HOME 2￨Will_Barton￨PF￨HOME Will￨Will_Barton￨FIRST_NAME￨HOME Barton￨Will_Barton￨SECOND_NAME￨HOME N/A￨Jusuf_Nurkic￨START_POSITION￨HOME 8￨Jusuf_Nurkic￨MIN￨HOME 0￨Jusuf_Nurkic￨PTS￨HOME 0￨Jusuf_Nurkic￨FGM￨HOME 3￨Jusuf_Nurkic￨FGA￨HOME 0￨Jusuf_Nurkic￨FG_PCT￨HOME 0￨Jusuf_Nurkic￨FG3M￨HOME 0￨Jusuf_Nurkic￨FG3A￨HOME 0￨Jusuf_Nurkic￨FG3_PCT￨HOME 0￨Jusuf_Nurkic￨FTM￨HOME 0￨Jusuf_Nurkic￨FTA￨HOME 0￨Jusuf_Nurkic￨FT_PCT￨HOME 1￨Jusuf_Nurkic￨OREB￨HOME 1￨Jusuf_Nurkic￨DREB￨HOME 2￨Jusuf_Nurkic￨REB￨HOME 0￨Jusuf_Nurkic￨AST￨HOME 0￨Jusuf_Nurkic￨TO￨HOME 0￨Jusuf_Nurkic￨STL￨HOME 0￨Jusuf_Nurkic￨BLK￨HOME 1￨Jusuf_Nurkic￨PF￨HOME Jusuf￨Jusuf_Nurkic￨FIRST_NAME￨HOME Nurkic￨Jusuf_Nurkic￨SECOND_NAME￨HOME N/A￨Erick_Green￨START_POSITION￨HOME 9￨Erick_Green￨MIN￨HOME 2￨Erick_Green￨PTS￨HOME 1￨Erick_Green￨FGM￨HOME 3￨Erick_Green￨FGA￨HOME 33￨Erick_Green￨FG_PCT￨HOME 0￨Erick_Green￨FG3M￨HOME 0￨Erick_Green￨FG3A￨HOME 0￨Erick_Green￨FG3_PCT￨HOME 0￨Erick_Green￨FTM￨HOME 0￨Erick_Green￨FTA￨HOME 0￨Erick_Green￨FT_PCT￨HOME 0￨Erick_Green￨OREB￨HOME 1￨Erick_Green￨DREB￨HOME 1￨Erick_Green￨REB￨HOME 2￨Erick_Green￨AST￨HOME 1￨Erick_Green￨TO￨HOME 0￨Erick_Green￨STL￨HOME 0￨Erick_Green￨BLK￨HOME 0￨Erick_Green￨PF￨HOME Erick￨Erick_Green￨FIRST_NAME￨HOME Green￨Erick_Green￨SECOND_NAME￨HOME N/A￨Gary_Harris￨START_POSITION￨HOME 18￨Gary_Harris￨MIN￨HOME 9￨Gary_Harris￨PTS￨HOME 4￨Gary_Harris￨FGM￨HOME 6￨Gary_Harris￨FGA￨HOME 67￨Gary_Harris￨FG_PCT￨HOME 1￨Gary_Harris￨FG3M￨HOME 3￨Gary_Harris￨FG3A￨HOME 33￨Gary_Harris￨FG3_PCT￨HOME 0￨Gary_Harris￨FTM￨HOME 0￨Gary_Harris￨FTA￨HOME 0￨Gary_Harris￨FT_PCT￨HOME 0￨Gary_Harris￨OREB￨HOME 1￨Gary_Harris￨DREB￨HOME 1￨Gary_Harris￨REB￨HOME 0￨Gary_Harris￨AST￨HOME 0￨Gary_Harris￨TO￨HOME 0￨Gary_Harris￨STL￨HOME 1￨Gary_Harris￨BLK￨HOME 1￨Gary_Harris￨PF￨HOME Gary￨Gary_Harris￨FIRST_NAME￨HOME Harris￨Gary_Harris￨SECOND_NAME￨HOME N/A￨Joffrey_Lauvergne￨START_POSITION￨HOME 5￨Joffrey_Lauvergne￨MIN￨HOME 5￨Joffrey_Lauvergne￨PTS￨HOME 2￨Joffrey_Lauvergne￨FGM￨HOME 2￨Joffrey_Lauvergne￨FGA￨HOME 100￨Joffrey_Lauvergne￨FG_PCT￨HOME 1￨Joffrey_Lauvergne￨FG3M￨HOME 1￨Joffrey_Lauvergne￨FG3A￨HOME 100￨Joffrey_Lauvergne￨FG3_PCT￨HOME 0￨Joffrey_Lauvergne￨FTM￨HOME 0￨Joffrey_Lauvergne￨FTA￨HOME 0￨Joffrey_Lauvergne￨FT_PCT￨HOME 1￨Joffrey_Lauvergne￨OREB￨HOME 1￨Joffrey_Lauvergne￨DREB￨HOME 2￨Joffrey_Lauvergne￨REB￨HOME 1￨Joffrey_Lauvergne￨AST￨HOME 0￨Joffrey_Lauvergne￨TO￨HOME 0￨Joffrey_Lauvergne￨STL￨HOME 0￨Joffrey_Lauvergne￨BLK￨HOME 0￨Joffrey_Lauvergne￨PF￨HOME Joffrey￨Joffrey_Lauvergne￨FIRST_NAME￨HOME Lauvergne￨Joffrey_Lauvergne￨SECOND_NAME￨HOME N/A￨Ian_Clark￨START_POSITION￨HOME 2￨Ian_Clark￨MIN￨HOME 0￨Ian_Clark￨PTS￨HOME 0￨Ian_Clark￨FGM￨HOME 3￨Ian_Clark￨FGA￨HOME 0￨Ian_Clark￨FG_PCT￨HOME 0￨Ian_Clark￨FG3M￨HOME 2￨Ian_Clark￨FG3A￨HOME 0￨Ian_Clark￨FG3_PCT￨HOME 0￨Ian_Clark￨FTM￨HOME 0￨Ian_Clark￨FTA￨HOME 0￨Ian_Clark￨FT_PCT￨HOME 0￨Ian_Clark￨OREB￨HOME 0￨Ian_Clark￨DREB￨HOME 0￨Ian_Clark￨REB￨HOME 0￨Ian_Clark￨AST￨HOME 0￨Ian_Clark￨TO￨HOME 0￨Ian_Clark￨STL￨HOME 0￨Ian_Clark￨BLK￨HOME 1￨Ian_Clark￨PF￨HOME Ian￨Ian_Clark￨FIRST_NAME￨HOME Clark￨Ian_Clark￨SECOND_NAME￨HOME N/A￨Darrell_Arthur￨START_POSITION￨HOME N/A￨Darrell_Arthur￨MIN￨HOME N/A￨Darrell_Arthur￨PTS￨HOME N/A￨Darrell_Arthur￨FGM￨HOME N/A￨Darrell_Arthur￨FGA￨HOME N/A￨Darrell_Arthur￨FG_PCT￨HOME N/A￨Darrell_Arthur￨FG3M￨HOME N/A￨Darrell_Arthur￨FG3A￨HOME N/A￨Darrell_Arthur￨FG3_PCT￨HOME N/A￨Darrell_Arthur￨FTM￨HOME N/A￨Darrell_Arthur￨FTA￨HOME N/A￨Darrell_Arthur￨FT_PCT￨HOME N/A￨Darrell_Arthur￨OREB￨HOME N/A￨Darrell_Arthur￨DREB￨HOME N/A￨Darrell_Arthur￨REB￨HOME N/A￨Darrell_Arthur￨AST￨HOME N/A￨Darrell_Arthur￨TO￨HOME N/A￨Darrell_Arthur￨STL￨HOME N/A￨Darrell_Arthur￨BLK￨HOME N/A￨Darrell_Arthur￨PF￨HOME Darrell￨Darrell_Arthur￨FIRST_NAME￨HOME Arthur￨Darrell_Arthur￨SECOND_NAME￨HOME F￨Wesley_Johnson￨START_POSITION￨AWAY 30￨Wesley_Johnson￨MIN￨AWAY 7￨Wesley_Johnson￨PTS￨AWAY 3￨Wesley_Johnson￨FGM￨AWAY 10￨Wesley_Johnson￨FGA￨AWAY 30￨Wesley_Johnson￨FG_PCT￨AWAY 1￨Wesley_Johnson￨FG3M￨AWAY 4￨Wesley_Johnson￨FG3A￨AWAY 25￨Wesley_Johnson￨FG3_PCT￨AWAY 0￨Wesley_Johnson￨FTM￨AWAY 0￨Wesley_Johnson￨FTA￨AWAY 0￨Wesley_Johnson￨FT_PCT￨AWAY 0￨Wesley_Johnson￨OREB￨AWAY 3￨Wesley_Johnson￨DREB￨AWAY 3￨Wesley_Johnson￨REB￨AWAY 0￨Wesley_Johnson￨AST￨AWAY 0￨Wesley_Johnson￨TO￨AWAY 1￨Wesley_Johnson￨STL￨AWAY 0￨Wesley_Johnson￨BLK￨AWAY 5￨Wesley_Johnson￨PF￨AWAY Wesley￨Wesley_Johnson￨FIRST_NAME￨AWAY Johnson￨Wesley_Johnson￨SECOND_NAME￨AWAY F￨Ryan_Kelly￨START_POSITION￨AWAY 33￨Ryan_Kelly￨MIN￨AWAY 17￨Ryan_Kelly￨PTS￨AWAY 6￨Ryan_Kelly￨FGM￨AWAY 8￨Ryan_Kelly￨FGA￨AWAY 75￨Ryan_Kelly￨FG_PCT￨AWAY 2￨Ryan_Kelly￨FG3M￨AWAY 3￨Ryan_Kelly￨FG3A￨AWAY 67￨Ryan_Kelly￨FG3_PCT￨AWAY 3￨Ryan_Kelly￨FTM￨AWAY 4￨Ryan_Kelly￨FTA￨AWAY 75￨Ryan_Kelly￨FT_PCT￨AWAY 0￨Ryan_Kelly￨OREB￨AWAY 1￨Ryan_Kelly￨DREB￨AWAY 1￨Ryan_Kelly￨REB￨AWAY 2￨Ryan_Kelly￨AST￨AWAY 0￨Ryan_Kelly￨TO￨AWAY 1￨Ryan_Kelly￨STL￨AWAY 2￨Ryan_Kelly￨BLK￨AWAY 3￨Ryan_Kelly￨PF￨AWAY Ryan￨Ryan_Kelly￨FIRST_NAME￨AWAY Kelly￨Ryan_Kelly￨SECOND_NAME￨AWAY C￨Tarik_Black￨START_POSITION￨AWAY 17￨Tarik_Black￨MIN￨AWAY 5￨Tarik_Black￨PTS￨AWAY 2￨Tarik_Black￨FGM￨AWAY 3￨Tarik_Black￨FGA￨AWAY 67￨Tarik_Black￨FG_PCT￨AWAY 0￨Tarik_Black￨FG3M￨AWAY 0￨Tarik_Black￨FG3A￨AWAY 0￨Tarik_Black￨FG3_PCT￨AWAY 1￨Tarik_Black￨FTM￨AWAY 4￨Tarik_Black￨FTA￨AWAY 25￨Tarik_Black￨FT_PCT￨AWAY 0￨Tarik_Black￨OREB￨AWAY 2￨Tarik_Black￨DREB￨AWAY 2￨Tarik_Black￨REB￨AWAY 0￨Tarik_Black￨AST￨AWAY 0￨Tarik_Black￨TO￨AWAY 1￨Tarik_Black￨STL￨AWAY 0￨Tarik_Black￨BLK￨AWAY 2￨Tarik_Black￨PF￨AWAY Tarik￨Tarik_Black￨FIRST_NAME￨AWAY Black￨Tarik_Black￨SECOND_NAME￨AWAY G￨Jabari_Brown￨START_POSITION￨AWAY 34￨Jabari_Brown￨MIN￨AWAY 11￨Jabari_Brown￨PTS￨AWAY 3￨Jabari_Brown￨FGM￨AWAY 12￨Jabari_Brown￨FGA￨AWAY 25￨Jabari_Brown￨FG_PCT￨AWAY 1￨Jabari_Brown￨FG3M￨AWAY 4￨Jabari_Brown￨FG3A￨AWAY 25￨Jabari_Brown￨FG3_PCT￨AWAY 4￨Jabari_Brown￨FTM￨AWAY 5￨Jabari_Brown￨FTA￨AWAY 80￨Jabari_Brown￨FT_PCT￨AWAY 1￨Jabari_Brown￨OREB￨AWAY 3￨Jabari_Brown￨DREB￨AWAY 4￨Jabari_Brown￨REB￨AWAY 0￨Jabari_Brown￨AST￨AWAY 1￨Jabari_Brown￨TO￨AWAY 0￨Jabari_Brown￨STL￨AWAY 0￨Jabari_Brown￨BLK￨AWAY 1￨Jabari_Brown￨PF￨AWAY Jabari￨Jabari_Brown￨FIRST_NAME￨AWAY Brown￨Jabari_Brown￨SECOND_NAME￨AWAY G￨Jordan_Clarkson￨START_POSITION￨AWAY 35￨Jordan_Clarkson￨MIN￨AWAY 21￨Jordan_Clarkson￨PTS￨AWAY 7￨Jordan_Clarkson￨FGM￨AWAY 18￨Jordan_Clarkson￨FGA￨AWAY 39￨Jordan_Clarkson￨FG_PCT￨AWAY 0￨Jordan_Clarkson￨FG3M￨AWAY 3￨Jordan_Clarkson￨FG3A￨AWAY 0￨Jordan_Clarkson￨FG3_PCT￨AWAY 7￨Jordan_Clarkson￨FTM￨AWAY 7￨Jordan_Clarkson￨FTA￨AWAY 100￨Jordan_Clarkson￨FT_PCT￨AWAY 0￨Jordan_Clarkson￨OREB￨AWAY 3￨Jordan_Clarkson￨DREB￨AWAY 3￨Jordan_Clarkson￨REB￨AWAY 9￨Jordan_Clarkson￨AST￨AWAY 4￨Jordan_Clarkson￨TO￨AWAY 2￨Jordan_Clarkson￨STL￨AWAY 0￨Jordan_Clarkson￨BLK￨AWAY 4￨Jordan_Clarkson￨PF￨AWAY Jordan￨Jordan_Clarkson￨FIRST_NAME￨AWAY Clarkson￨Jordan_Clarkson￨SECOND_NAME￨AWAY N/A￨Ed_Davis￨START_POSITION￨AWAY 31￨Ed_Davis￨MIN￨AWAY 15￨Ed_Davis￨PTS￨AWAY 6￨Ed_Davis￨FGM￨AWAY 9￨Ed_Davis￨FGA￨AWAY 67￨Ed_Davis￨FG_PCT￨AWAY 0￨Ed_Davis￨FG3M￨AWAY 0￨Ed_Davis￨FG3A￨AWAY 0￨Ed_Davis￨FG3_PCT￨AWAY 3￨Ed_Davis￨FTM￨AWAY 8￨Ed_Davis￨FTA￨AWAY 38￨Ed_Davis￨FT_PCT￨AWAY 5￨Ed_Davis￨OREB￨AWAY 7￨Ed_Davis￨DREB￨AWAY 12￨Ed_Davis￨REB￨AWAY 0￨Ed_Davis￨AST￨AWAY 2￨Ed_Davis￨TO￨AWAY 1￨Ed_Davis￨STL￨AWAY 0￨Ed_Davis￨BLK￨AWAY 3￨Ed_Davis￨PF￨AWAY Ed￨Ed_Davis￨FIRST_NAME￨AWAY Davis￨Ed_Davis￨SECOND_NAME￨AWAY N/A￨Dwight_Buycks￨START_POSITION￨AWAY 33￨Dwight_Buycks￨MIN￨AWAY 15￨Dwight_Buycks￨PTS￨AWAY 5￨Dwight_Buycks￨FGM￨AWAY 8￨Dwight_Buycks￨FGA￨AWAY 63￨Dwight_Buycks￨FG_PCT￨AWAY 1￨Dwight_Buycks￨FG3M￨AWAY 2￨Dwight_Buycks￨FG3A￨AWAY 50￨Dwight_Buycks￨FG3_PCT￨AWAY 4￨Dwight_Buycks￨FTM￨AWAY 5￨Dwight_Buycks￨FTA￨AWAY 80￨Dwight_Buycks￨FT_PCT￨AWAY 1￨Dwight_Buycks￨OREB￨AWAY 4￨Dwight_Buycks￨DREB￨AWAY 5￨Dwight_Buycks￨REB￨AWAY 3￨Dwight_Buycks￨AST￨AWAY 4￨Dwight_Buycks￨TO￨AWAY 1￨Dwight_Buycks￨STL￨AWAY 0￨Dwight_Buycks￨BLK￨AWAY 0￨Dwight_Buycks￨PF￨AWAY Dwight￨Dwight_Buycks￨FIRST_NAME￨AWAY Buycks￨Dwight_Buycks￨SECOND_NAME￨AWAY N/A￨Robert_Sacre￨START_POSITION￨AWAY 26￨Robert_Sacre￨MIN￨AWAY 10￨Robert_Sacre￨PTS￨AWAY 4￨Robert_Sacre￨FGM￨AWAY 7￨Robert_Sacre￨FGA￨AWAY 57￨Robert_Sacre￨FG_PCT￨AWAY 0￨Robert_Sacre￨FG3M￨AWAY 0￨Robert_Sacre￨FG3A￨AWAY 0￨Robert_Sacre￨FG3_PCT￨AWAY 2￨Robert_Sacre￨FTM￨AWAY 2￨Robert_Sacre￨FTA￨AWAY 100￨Robert_Sacre￨FT_PCT￨AWAY 2￨Robert_Sacre￨OREB￨AWAY 7￨Robert_Sacre￨DREB￨AWAY 9￨Robert_Sacre￨REB￨AWAY 1￨Robert_Sacre￨AST￨AWAY 3￨Robert_Sacre￨TO￨AWAY 0￨Robert_Sacre￨STL￨AWAY 0￨Robert_Sacre￨BLK￨AWAY 2￨Robert_Sacre￨PF￨AWAY Robert￨Robert_Sacre￨FIRST_NAME￨AWAY Sacre￨Robert_Sacre￨SECOND_NAME￨AWAY N/A￨Carlos_Boozer￨START_POSITION￨AWAY N/A￨Carlos_Boozer￨MIN￨AWAY N/A￨Carlos_Boozer￨PTS￨AWAY N/A￨Carlos_Boozer￨FGM￨AWAY N/A￨Carlos_Boozer￨FGA￨AWAY N/A￨Carlos_Boozer￨FG_PCT￨AWAY N/A￨Carlos_Boozer￨FG3M￨AWAY N/A￨Carlos_Boozer￨FG3A￨AWAY N/A￨Carlos_Boozer￨FG3_PCT￨AWAY N/A￨Carlos_Boozer￨FTM￨AWAY N/A￨Carlos_Boozer￨FTA￨AWAY N/A￨Carlos_Boozer￨FT_PCT￨AWAY N/A￨Carlos_Boozer￨OREB￨AWAY N/A￨Carlos_Boozer￨DREB￨AWAY N/A￨Carlos_Boozer￨REB￨AWAY N/A￨Carlos_Boozer￨AST￨AWAY N/A￨Carlos_Boozer￨TO￨AWAY N/A￨Carlos_Boozer￨STL￨AWAY N/A￨Carlos_Boozer￨BLK￨AWAY N/A￨Carlos_Boozer￨PF￨AWAY Carlos￨Carlos_Boozer￨FIRST_NAME￨AWAY Boozer￨Carlos_Boozer￨SECOND_NAME￨AWAY N/A￨Wayne_Ellington￨START_POSITION￨AWAY N/A￨Wayne_Ellington￨MIN￨AWAY N/A￨Wayne_Ellington￨PTS￨AWAY N/A￨Wayne_Ellington￨FGM￨AWAY N/A￨Wayne_Ellington￨FGA￨AWAY N/A￨Wayne_Ellington￨FG_PCT￨AWAY N/A￨Wayne_Ellington￨FG3M￨AWAY N/A￨Wayne_Ellington￨FG3A￨AWAY N/A￨Wayne_Ellington￨FG3_PCT￨AWAY N/A￨Wayne_Ellington￨FTM￨AWAY N/A￨Wayne_Ellington￨FTA￨AWAY N/A￨Wayne_Ellington￨FT_PCT￨AWAY N/A￨Wayne_Ellington￨OREB￨AWAY N/A￨Wayne_Ellington￨DREB￨AWAY N/A￨Wayne_Ellington￨REB￨AWAY N/A￨Wayne_Ellington￨AST￨AWAY N/A￨Wayne_Ellington￨TO￨AWAY N/A￨Wayne_Ellington￨STL￨AWAY N/A￨Wayne_Ellington￨BLK￨AWAY N/A￨Wayne_Ellington￨PF￨AWAY Wayne￨Wayne_Ellington￨FIRST_NAME￨AWAY Ellington￨Wayne_Ellington￨SECOND_NAME￨AWAY N/A￨Jordan_Hill￨START_POSITION￨AWAY N/A￨Jordan_Hill￨MIN￨AWAY N/A￨Jordan_Hill￨PTS￨AWAY N/A￨Jordan_Hill￨FGM￨AWAY N/A￨Jordan_Hill￨FGA￨AWAY N/A￨Jordan_Hill￨FG_PCT￨AWAY N/A￨Jordan_Hill￨FG3M￨AWAY N/A￨Jordan_Hill￨FG3A￨AWAY N/A￨Jordan_Hill￨FG3_PCT￨AWAY N/A￨Jordan_Hill￨FTM￨AWAY N/A￨Jordan_Hill￨FTA￨AWAY N/A￨Jordan_Hill￨FT_PCT￨AWAY N/A￨Jordan_Hill￨OREB￨AWAY N/A￨Jordan_Hill￨DREB￨AWAY N/A￨Jordan_Hill￨REB￨AWAY N/A￨Jordan_Hill￨AST￨AWAY N/A￨Jordan_Hill￨TO￨AWAY N/A￨Jordan_Hill￨STL￨AWAY N/A￨Jordan_Hill￨BLK￨AWAY N/A￨Jordan_Hill￨PF￨AWAY Jordan￨Jordan_Hill￨FIRST_NAME￨AWAY Hill￨Jordan_Hill￨SECOND_NAME￨AWAY N/A￨Jeremy_Lin￨START_POSITION￨AWAY N/A￨Jeremy_Lin￨MIN￨AWAY N/A￨Jeremy_Lin￨PTS￨AWAY N/A￨Jeremy_Lin￨FGM￨AWAY N/A￨Jeremy_Lin￨FGA￨AWAY N/A￨Jeremy_Lin￨FG_PCT￨AWAY N/A￨Jeremy_Lin￨FG3M￨AWAY N/A￨Jeremy_Lin￨FG3A￨AWAY N/A￨Jeremy_Lin￨FG3_PCT￨AWAY N/A￨Jeremy_Lin￨FTM￨AWAY N/A￨Jeremy_Lin￨FTA￨AWAY N/A￨Jeremy_Lin￨FT_PCT￨AWAY N/A￨Jeremy_Lin￨OREB￨AWAY N/A￨Jeremy_Lin￨DREB￨AWAY N/A￨Jeremy_Lin￨REB￨AWAY N/A￨Jeremy_Lin￨AST￨AWAY N/A￨Jeremy_Lin￨TO￨AWAY N/A￨Jeremy_Lin￨STL￨AWAY N/A￨Jeremy_Lin￨BLK￨AWAY N/A￨Jeremy_Lin￨PF￨AWAY Jeremy￨Jeremy_Lin￨FIRST_NAME￨AWAY Lin￨Jeremy_Lin￨SECOND_NAME￨AWAY N/A￨Nick_Young￨START_POSITION￨AWAY N/A￨Nick_Young￨MIN￨AWAY N/A￨Nick_Young￨PTS￨AWAY N/A￨Nick_Young￨FGM￨AWAY N/A￨Nick_Young￨FGA￨AWAY N/A￨Nick_Young￨FG_PCT￨AWAY N/A￨Nick_Young￨FG3M￨AWAY N/A￨Nick_Young￨FG3A￨AWAY N/A￨Nick_Young￨FG3_PCT￨AWAY N/A￨Nick_Young￨FTM￨AWAY N/A￨Nick_Young￨FTA￨AWAY N/A￨Nick_Young￨FT_PCT￨AWAY N/A￨Nick_Young￨OREB￨AWAY N/A￨Nick_Young￨DREB￨AWAY N/A￨Nick_Young￨REB￨AWAY N/A￨Nick_Young￨AST￨AWAY N/A￨Nick_Young￨TO￨AWAY N/A￨Nick_Young￨STL￨AWAY N/A￨Nick_Young￨BLK￨AWAY N/A￨Nick_Young￨PF￨AWAY Nick￨Nick_Young￨FIRST_NAME￨AWAY Young￨Nick_Young￨SECOND_NAME￨AWAY 35￨Nuggets￨TEAM-PTS_QTR1￨HOME 23￨Nuggets￨TEAM-PTS_QTR2￨HOME 35￨Nuggets￨TEAM-PTS_QTR3￨HOME 26￨Nuggets￨TEAM-PTS_QTR4￨HOME 119￨Nuggets￨TEAM-PTS￨HOME 50￨Nuggets￨TEAM-FG_PCT￨HOME 43￨Nuggets￨TEAM-FG3_PCT￨HOME 75￨Nuggets￨TEAM-FT_PCT￨HOME 45￨Nuggets￨TEAM-REB￨HOME 26￨Nuggets￨TEAM-AST￨HOME 9￨Nuggets￨TEAM-TOV￨HOME 29￨Nuggets￨TEAM-WINS￨HOME 49￨Nuggets￨TEAM-LOSSES￨HOME Denver￨Nuggets￨TEAM-CITY￨HOME Nuggets￨Nuggets￨TEAM-NAME￨HOME 33￨Lakers￨TEAM-PTS_QTR1￨AWAY 21￨Lakers￨TEAM-PTS_QTR2￨AWAY 17￨Lakers￨TEAM-PTS_QTR3￨AWAY 30￨Lakers￨TEAM-PTS_QTR4￨AWAY 101￨Lakers￨TEAM-PTS￨AWAY 48￨Lakers￨TEAM-FG_PCT￨AWAY 31￨Lakers￨TEAM-FG3_PCT￨AWAY 69￨Lakers￨TEAM-FT_PCT￨AWAY 39￨Lakers￨TEAM-REB￨AWAY 15￨Lakers￨TEAM-AST￨AWAY 14￨Lakers￨TEAM-TOV￨AWAY 20￨Lakers￨TEAM-WINS￨AWAY 58￨Lakers￨TEAM-LOSSES￨AWAY Los_Angeles￨Lakers￨TEAM-CITY￨AWAY Lakers￨Lakers￨TEAM-NAME￨AWAY\\n'"
      ]
     },
     "execution_count": 50,
     "metadata": {},
     "output_type": "execute_result"
    }
   ],
   "source": [
    "nba_src_train[45]"
   ]
  },
  {
   "cell_type": "code",
   "execution_count": 57,
   "metadata": {},
   "outputs": [
    {
     "data": {
      "text/plain": [
       "'<unk>￨<blank>￨<blank>￨<blank> <blank>￨<blank>￨<blank>￨<blank> <s>￨<blank>￨<blank>￨<blank> </s>￨<blank>￨<blank>￨<blank> tadalafil￨Indication￨GENERIC_NAME￨HOME lungs￨Indication￨SYSTEM_ORGAN_SITE￨HOME phosphodiesterase_type_5_(pde5)_inhibitors￨Indication￨TREATMENT_NAME￨HOME adcirca￨Indication￨BRAND_NAME￨HOME pulmonary_arterial_hypertension￨Indication￨DX_NAME￨HOME adcirca￨Indication￨BRAND_NAME￨HOME lungs￨Indication￨SYSTEM_ORGAN_SITE￨HOME\\n'"
      ]
     },
     "execution_count": 57,
     "metadata": {},
     "output_type": "execute_result"
    }
   ],
   "source": [
    "leaflet_src_train[45]"
   ]
  },
  {
   "cell_type": "code",
   "execution_count": 58,
   "metadata": {},
   "outputs": [],
   "source": [
    "with open('rotowire/tgt_train.txt') as reader:\n",
    "    # This reads the remaining lines from the file object and returns them as a list.\n",
    "    nba_tgt_train = reader.readlines()"
   ]
  },
  {
   "cell_type": "code",
   "execution_count": 59,
   "metadata": {},
   "outputs": [],
   "source": [
    "with open('tgt_train.txt') as reader:\n",
    "    # This reads the remaining lines from the file object and returns them as a list.\n",
    "    leaflet_tgt_train = reader.readlines()"
   ]
  },
  {
   "cell_type": "code",
   "execution_count": 62,
   "metadata": {},
   "outputs": [
    {
     "data": {
      "text/plain": [
       "'Pemetrexed Sandoz is a medicine used in the treatment of cancer. Pemetrexed Sandoz is given in combination with cisplatin, another anti-cancer medicine, as treatment for malignant pleural mesothelioma, a form of cancer that affects the lining of the lung, to patients who have not received prior chemotherapy. Pemetrexed Sandoz is also given in combination with cisplatin for the initial treatment of patients with advanced stage of lung cancer. Pemetrexed Sandoz can be prescribed to you if you have lung cancer at an advanced stage if your disease has responded to treatment or it remains largely unchanged after initial chemotherapy. Pemetrexed Sandoz is also a treatment for patients with advanced stage of lung cancer whose disease has progressed after other initial chemotherapy has been used.\\n'"
      ]
     },
     "execution_count": 62,
     "metadata": {},
     "output_type": "execute_result"
    }
   ],
   "source": [
    "leaflet_tgt_train[21]"
   ]
  },
  {
   "cell_type": "code",
   "execution_count": 63,
   "metadata": {},
   "outputs": [
    {
     "data": {
      "text/plain": [
       "\"The Atlanta Hawks defeated the Miami Heat , 103 - 95 , at Philips Arena on Wednesday . Atlanta was in desperate need of a win and they were able to take care of a shorthanded Miami team here . Defense was key for the Hawks , as they held the Heat to 42 percent shooting and forced them to commit 16 turnovers . Atlanta also dominated in the paint , winning the rebounding battle , 47 - 34 , and outscoring them in the paint 58 - 26.The Hawks shot 49 percent from the field and assisted on 27 of their 43 made baskets . This was a near wire - to - wire win for the Hawks , as Miami held just one lead in the first five minutes . Miami ( 7 - 15 ) are as beat - up as anyone right now and it 's taking a toll on the heavily used starters . Hassan Whiteside really struggled in this game , as he amassed eight points , 12 rebounds and one blocks on 4 - of - 12 shooting . Tyler Johnson was the team 's best player , as he tallied 27 points and five assists off the bench . Goran Dragic continued his good form , scoring 21 points and handing out four assists . Rodney McGruder got the start for Justise Winslow and finished with 11 points , five rebounds and five assists . It does n't get any easier for the Heat , as they play the Cleveland Cavaliers on the road for their next game . Atlanta ( 11 - 12 ) had lost seven - straight headed into this game , so to say this win was needed would be a drastic understatement . Dwight Howard took a lot of the load on his broad shoulders , as he tallied 23 points , 17 rebounds and four assists . It was n't just offense though , as he held the dominant Hassan Whiteside in check . Paul Millsap also played great , accumulating 21 points , nine rebounds , four steals and three blocks in the victory . Dennis Schroeder was the only other player in double figures , accruing 17 points , four rebounds and seven assists . Atlanta will look to build off this win on Friday , when they play the Milwaukee Bucks on the road .\\n\""
      ]
     },
     "execution_count": 63,
     "metadata": {},
     "output_type": "execute_result"
    }
   ],
   "source": [
    "nba_tgt_train[21]"
   ]
  },
  {
   "cell_type": "markdown",
   "metadata": {},
   "source": [
    "==============================================================================================================================\n",
    "## Validation dataset "
   ]
  },
  {
   "cell_type": "code",
   "execution_count": 64,
   "metadata": {},
   "outputs": [
    {
     "data": {
      "text/plain": [
       "120"
      ]
     },
     "execution_count": 64,
     "metadata": {},
     "output_type": "execute_result"
    }
   ],
   "source": [
    "len(valid_leaflets)"
   ]
  },
  {
   "cell_type": "code",
   "execution_count": 65,
   "metadata": {},
   "outputs": [],
   "source": [
    "summaries_leaflets_valid = []\n",
    "src_leaflets_valid = []\n",
    "content_plan_leaflets_valid = []"
   ]
  },
  {
   "cell_type": "code",
   "execution_count": 66,
   "metadata": {},
   "outputs": [],
   "source": [
    "# Transform *validation* data to be a suitable format for model data2text-plan\n",
    "\n",
    "for leaflet in valid_leaflets:\n",
    "    section1_content = leaflet.section1.section_content\n",
    "    section1_entity_recognition = leaflet.section1.entity_recognition\n",
    "    \n",
    "    # get content plan\n",
    "    content_plan_section1 = ''\n",
    "    \n",
    "    for entity in section1_entity_recognition:\n",
    "        entity_value = entity['Text'] if len(entity['Text'].split(\" \")) == 0 else (\"_\").join(entity['Text'].split(\" \"))\n",
    "        entity_type = entity['Type'] if entity['Type'] is not None and len(entity['Type']) > 0 else entity['Category']\n",
    "        \n",
    "        content_plan_section1 += entity_value + DELIM + ENTITY + DELIM + entity_type + DELIM + HOMEAWAY\n",
    "        \n",
    "        if section1_entity_recognition.index(entity) != len(section1_entity_recognition) - 1:\n",
    "            content_plan_section1 += \" \"\n",
    "        else:\n",
    "            content_plan_section1 += \" \" + \"\\n\"\n",
    "        \n",
    "    \n",
    "    content_plan_leaflets_valid.append(content_plan_section1)\n",
    "    \n",
    "    # get the section1 content\n",
    "    section1_content = section1_content + \"\\n\"\n",
    "    summaries_leaflets_valid.append(section1_content)"
   ]
  },
  {
   "cell_type": "code",
   "execution_count": 69,
   "metadata": {},
   "outputs": [
    {
     "data": {
      "text/plain": [
       "120"
      ]
     },
     "execution_count": 69,
     "metadata": {},
     "output_type": "execute_result"
    }
   ],
   "source": [
    "len(content_plan_leaflets_valid)"
   ]
  },
  {
   "cell_type": "code",
   "execution_count": 70,
   "metadata": {},
   "outputs": [
    {
     "data": {
      "text/plain": [
       "120"
      ]
     },
     "execution_count": 70,
     "metadata": {},
     "output_type": "execute_result"
    }
   ],
   "source": [
    "len(summaries_leaflets_valid)"
   ]
  },
  {
   "cell_type": "code",
   "execution_count": 71,
   "metadata": {},
   "outputs": [],
   "source": [
    "# get the src_train - training data to be input to the model\n",
    "\n",
    "for leaflet_content_plan in content_plan_leaflets_valid:\n",
    "    # remove the end symbol ('n') of the string\n",
    "    leaflet_content_plan = leaflet_content_plan[:-2]\n",
    "    \n",
    "    # spli string into a list of records\n",
    "    leaflet_content_plan_collection = leaflet_content_plan.split(\" \")\n",
    "    \n",
    "    # randomly shuffle records in a list\n",
    "    random.shuffle(leaflet_content_plan_collection)\n",
    "    \n",
    "    # add special symbols to the begining\n",
    "    special_symbols = []\n",
    "    special_symbols = add_special_records(special_symbols)\n",
    "    \n",
    "    # create a string containing all the records and special_symbols in the begining\n",
    "    src_leaflet_section1 = ''\n",
    "    \n",
    "    src_leaflet_section1 += \" \".join(special_symbols)\n",
    "    src_leaflet_section1 += \" \"\n",
    "    \n",
    "    src_leaflet_section1 += \" \".join(leaflet_content_plan_collection)\n",
    "    src_leaflet_section1 += '\\n'\n",
    "    \n",
    "    \n",
    "    src_leaflets_valid.append(src_leaflet_section1)"
   ]
  },
  {
   "cell_type": "code",
   "execution_count": 72,
   "metadata": {},
   "outputs": [
    {
     "data": {
      "text/plain": [
       "120"
      ]
     },
     "execution_count": 72,
     "metadata": {},
     "output_type": "execute_result"
    }
   ],
   "source": [
    "len(src_leaflets_valid)"
   ]
  },
  {
   "cell_type": "code",
   "execution_count": 73,
   "metadata": {},
   "outputs": [],
   "source": [
    "# Output files\n",
    "\n",
    "INTER_CONTENT_PLAN_VALID = 'inter/valid_content_plan.txt'  # intermediate content plan input to second stage\n",
    "SRC_FILE_VALID = 'src_valid.txt'  # src file input to first stage\n",
    "TRAIN_TGT_FILE_VALID = \"tgt_valid.txt\"  # tgt file of second stage\n",
    "CONTENT_PLAN_OUT_VALID = 'valid_content_plan.txt'  # content plan output of first stage"
   ]
  },
  {
   "cell_type": "code",
   "execution_count": 74,
   "metadata": {},
   "outputs": [],
   "source": [
    "output_file = open(INTER_CONTENT_PLAN_VALID, 'w')\n",
    "for content_plan in content_plan_leaflets_valid:\n",
    "    output_file.write(content_plan) #.encode(\"utf-8\"))\n",
    "    # output_file.write('\\n')\n",
    "output_file.close()"
   ]
  },
  {
   "cell_type": "code",
   "execution_count": 75,
   "metadata": {},
   "outputs": [],
   "source": [
    "summary_file = open(TRAIN_TGT_FILE_VALID, 'w')\n",
    "for summary_leaflet in summaries_leaflets_valid:\n",
    "    # summary = [word.encode(\"utf-8\") for word in summary_leaflet.split()]\n",
    "    # summary_file.write(\" \".join(summary))\n",
    "    summary_file.write(summary_leaflet)\n",
    "    # summary_file.write(\"\\n\")\n",
    "summary_file.close()"
   ]
  },
  {
   "cell_type": "code",
   "execution_count": 76,
   "metadata": {},
   "outputs": [],
   "source": [
    "src_file = open(SRC_FILE_VALID, 'w')\n",
    "for src_instance in src_leaflets_valid:\n",
    "    # src_file.write(src_instance.encode(\"utf-8\"))\n",
    "    src_file.write(src_instance)\n",
    "    # src_file.write(\"\\n\")\n",
    "src_file.close()"
   ]
  },
  {
   "cell_type": "code",
   "execution_count": 77,
   "metadata": {},
   "outputs": [],
   "source": [
    "# read files with training data and content plan\n",
    "\n",
    "inputs = []\n",
    "content_plans = []\n",
    "with codecs.open(INTER_CONTENT_PLAN_VALID, \"r\", \"utf-8\") as corpus_file:\n",
    "    for i, line in enumerate(corpus_file):\n",
    "        content_plans.append(line.split())\n",
    "\n",
    "with codecs.open(SRC_FILE_VALID, \"r\", \"utf-8\") as corpus_file:\n",
    "    for i, line in enumerate(corpus_file):\n",
    "        inputs.append(line.split())"
   ]
  },
  {
   "cell_type": "code",
   "execution_count": 78,
   "metadata": {},
   "outputs": [],
   "source": [
    "# basically - now content plan POINTs to index in the training dataset\n",
    "# content_plan - collection of indexes where each index points to record in training dataset - training_dataset[index]\n",
    "\n",
    "outputs = []\n",
    "\n",
    "for i, training_sample in enumerate(inputs):\n",
    "    \n",
    "    content_plan = content_plans[i]\n",
    "    output = []\n",
    "    \n",
    "    for record in content_plan:\n",
    "        output.append(str(training_sample.index(record)))\n",
    "        \n",
    "    outputs.append(\" \".join(output))"
   ]
  },
  {
   "cell_type": "code",
   "execution_count": 80,
   "metadata": {},
   "outputs": [],
   "source": [
    "# write to a file\n",
    "\n",
    "output_file = open(CONTENT_PLAN_OUT_VALID, 'w')\n",
    "\n",
    "# add \\n to the end of the string\n",
    "output_file.write(\"\\n\".join(outputs))\n",
    "# add \\n between content plans\n",
    "output_file.write(\"\\n\")\n",
    "\n",
    "output_file.close()"
   ]
  },
  {
   "cell_type": "markdown",
   "metadata": {},
   "source": [
    "=======================================================================================\n",
    "## Test dataset "
   ]
  },
  {
   "cell_type": "code",
   "execution_count": 84,
   "metadata": {},
   "outputs": [
    {
     "data": {
      "text/plain": [
       "100"
      ]
     },
     "execution_count": 84,
     "metadata": {},
     "output_type": "execute_result"
    }
   ],
   "source": [
    "len(test_leaflets)"
   ]
  },
  {
   "cell_type": "code",
   "execution_count": 85,
   "metadata": {},
   "outputs": [],
   "source": [
    "# Output files\n",
    "\n",
    "SRC_FILE_TEST = 'test/src_test.txt'  # src file input to first stage\n",
    "TRAIN_TGT_FILE_TEST = \"test/tgt_test.txt\"  # tgt file of second stage"
   ]
  },
  {
   "cell_type": "code",
   "execution_count": 86,
   "metadata": {},
   "outputs": [],
   "source": [
    "summaries_leaflets_test = []\n",
    "src_leaflets_test = []\n",
    "content_plan_leaflets_test = []"
   ]
  },
  {
   "cell_type": "code",
   "execution_count": 87,
   "metadata": {},
   "outputs": [],
   "source": [
    "# Transform training data to be a suitable format for model data2text-plan\n",
    "\n",
    "for leaflet in test_leaflets:\n",
    "    section1_content = leaflet.section1.section_content\n",
    "    section1_entity_recognition = leaflet.section1.entity_recognition\n",
    "    \n",
    "    # get content plan\n",
    "    content_plan_section1 = ''\n",
    "    \n",
    "    for entity in section1_entity_recognition:\n",
    "        entity_value = entity['Text'] if len(entity['Text'].split(\" \")) == 0 else (\"_\").join(entity['Text'].split(\" \"))\n",
    "        entity_type = entity['Type'] if entity['Type'] is not None and len(entity['Type']) > 0 else entity['Category']\n",
    "        \n",
    "        content_plan_section1 += entity_value + DELIM + ENTITY + DELIM + entity_type + DELIM + HOMEAWAY\n",
    "        \n",
    "        if section1_entity_recognition.index(entity) != len(section1_entity_recognition) - 1:\n",
    "            content_plan_section1 += \" \"\n",
    "        else:\n",
    "            content_plan_section1 += \" \" + \"\\n\"\n",
    "        \n",
    "    \n",
    "    content_plan_leaflets_test.append(content_plan_section1)\n",
    "    \n",
    "    # get the section1 content\n",
    "    section1_content = section1_content + \"\\n\"\n",
    "    summaries_leaflets_test.append(section1_content)"
   ]
  },
  {
   "cell_type": "code",
   "execution_count": 90,
   "metadata": {},
   "outputs": [
    {
     "data": {
      "text/plain": [
       "100"
      ]
     },
     "execution_count": 90,
     "metadata": {},
     "output_type": "execute_result"
    }
   ],
   "source": [
    "len(summaries_leaflets_test)"
   ]
  },
  {
   "cell_type": "code",
   "execution_count": 91,
   "metadata": {},
   "outputs": [
    {
     "data": {
      "text/plain": [
       "100"
      ]
     },
     "execution_count": 91,
     "metadata": {},
     "output_type": "execute_result"
    }
   ],
   "source": [
    "len(content_plan_leaflets_test)"
   ]
  },
  {
   "cell_type": "code",
   "execution_count": 92,
   "metadata": {},
   "outputs": [],
   "source": [
    "# get the src_train - training data to be input to the model\n",
    "\n",
    "for leaflet_content_plan in content_plan_leaflets_test:\n",
    "    # remove the end symbol ('n') of the string\n",
    "    leaflet_content_plan = leaflet_content_plan[:-2]\n",
    "    \n",
    "    # split string into a list of records\n",
    "    leaflet_content_plan_collection = leaflet_content_plan.split(\" \")\n",
    "    \n",
    "    # randomly shuffle records in a list\n",
    "    random.shuffle(leaflet_content_plan_collection)\n",
    "    \n",
    "    # add special symbols to the begining\n",
    "    special_symbols = []\n",
    "    special_symbols = add_special_records(special_symbols)\n",
    "    \n",
    "    # create a string containing all the records and special_symbols in the begining\n",
    "    src_leaflet_section1 = ''\n",
    "    \n",
    "    src_leaflet_section1 += \" \".join(special_symbols)\n",
    "    src_leaflet_section1 += \" \"\n",
    "    \n",
    "    src_leaflet_section1 += \" \".join(leaflet_content_plan_collection)\n",
    "    src_leaflet_section1 += '\\n'\n",
    "    \n",
    "    \n",
    "    src_leaflets_test.append(src_leaflet_section1)"
   ]
  },
  {
   "cell_type": "code",
   "execution_count": 93,
   "metadata": {},
   "outputs": [
    {
     "data": {
      "text/plain": [
       "100"
      ]
     },
     "execution_count": 93,
     "metadata": {},
     "output_type": "execute_result"
    }
   ],
   "source": [
    "len(src_leaflets_test)"
   ]
  },
  {
   "cell_type": "code",
   "execution_count": 94,
   "metadata": {},
   "outputs": [],
   "source": [
    "summary_file = open(TRAIN_TGT_FILE_TEST, 'w')\n",
    "for summary_leaflet in summaries_leaflets_test:\n",
    "    # summary = [word.encode(\"utf-8\") for word in summary_leaflet.split()]\n",
    "    # summary_file.write(\" \".join(summary))\n",
    "    summary_file.write(summary_leaflet)\n",
    "    # summary_file.write(\"\\n\")\n",
    "summary_file.close()"
   ]
  },
  {
   "cell_type": "code",
   "execution_count": 95,
   "metadata": {},
   "outputs": [],
   "source": [
    "src_file = open(SRC_FILE_TEST, 'w')\n",
    "for src_instance in src_leaflets_test:\n",
    "    # src_file.write(src_instance.encode(\"utf-8\"))\n",
    "    src_file.write(src_instance)\n",
    "    # src_file.write(\"\\n\")\n",
    "src_file.close()"
   ]
  },
  {
   "cell_type": "code",
   "execution_count": 96,
   "metadata": {},
   "outputs": [
    {
     "data": {
      "text/plain": [
       "'trizivir is used to treat hiv (human immunodeficiency virus) infection in adults. trizivir contains three active ingredients that are used to treat hiv infection: abacavir, lamivudine and zidovudine. all of these belong to a group of antiretroviral medicines called nucleoside analogue reverse transcriptase inhibitors (nrtis). trizivir helps to control your condition. trizivir does not cure hiv infection; it reduces the amount of virus in your body, and keeps it at a low level. this helps your body to increase the cd4 cell count in your blood. cd4 cells are a type of white blood cell that are important in helping your body to fight infection. not everyone responds to treatment with trizivir in the same way. your doctor will monitor the effectiveness of your treatment. 41\\n'"
      ]
     },
     "execution_count": 96,
     "metadata": {},
     "output_type": "execute_result"
    }
   ],
   "source": [
    "summaries_leaflets_test[77]"
   ]
  },
  {
   "cell_type": "code",
   "execution_count": 97,
   "metadata": {},
   "outputs": [
    {
     "data": {
      "text/plain": [
       "'<unk>￨<blank>￨<blank>￨<blank> <blank>￨<blank>￨<blank>￨<blank> <s>￨<blank>￨<blank>￨<blank> </s>￨<blank>￨<blank>￨<blank> trizivir￨Indication￨TREATMENT_NAME￨HOME hiv_infection￨Indication￨DX_NAME￨HOME trizivir￨Indication￨GENERIC_NAME￨HOME zidovudine￨Indication￨GENERIC_NAME￨HOME trizivir￨Indication￨GENERIC_NAME￨HOME infection￨Indication￨DX_NAME￨HOME hiv_infection￨Indication￨DX_NAME￨HOME trizivir￨Indication￨GENERIC_NAME￨HOME nucleoside_analogue_reverse_transcriptase_inhibitors￨Indication￨GENERIC_NAME￨HOME antiretroviral_medicines￨Indication￨TREATMENT_NAME￨HOME nucleoside_analogue_reverse_transcriptase_inhibitors￨Indication￨TREATMENT_NAME￨HOME human_immunodeficiency_virus￨Indication￨DX_NAME￨HOME abacavir￨Indication￨GENERIC_NAME￨HOME cd4_cells￨Indication￨TREATMENT_NAME￨HOME lamivudine￨Indication￨GENERIC_NAME￨HOME trizivir￨Indication￨GENERIC_NAME￨HOME trizivir￨Indication￨GENERIC_NAME￨HOME hiv￨Indication￨DX_NAME￨HOME infection￨Indication￨DX_NAME￨HOME\\n'"
      ]
     },
     "execution_count": 97,
     "metadata": {},
     "output_type": "execute_result"
    }
   ],
   "source": [
    "src_leaflets_test[77]"
   ]
  },
  {
   "cell_type": "markdown",
   "metadata": {},
   "source": []
  },
  {
   "cell_type": "markdown",
   "metadata": {},
   "source": [
    "## Creating *train-roto-ptrs.txt*"
   ]
  },
  {
   "cell_type": "markdown",
   "metadata": {},
   "source": [
    "The train-roto-ptrs.txt file is available along with the dataset and can also be created by the following command.  "
   ]
  },
  {
   "cell_type": "code",
   "execution_count": 99,
   "metadata": {},
   "outputs": [],
   "source": [
    "# python data_utils.py -mode ptrs -input_path $BASE/rotowire/train.json -train_content_plan $BASE/rotowire/inter/train_content_plan.txt -output_fi $BASE/rotowire/train-roto-ptrs.txt\n"
   ]
  },
  {
   "cell_type": "code",
   "execution_count": 191,
   "metadata": {},
   "outputs": [],
   "source": [
    "inp_file = \"tgt_train.txt\"\n",
    "content_plan_inp = \"inter/train_content_plan.txt\"\n",
    "\n",
    "output_file = \"train-roto-ptrs.txt\""
   ]
  },
  {
   "cell_type": "code",
   "execution_count": 192,
   "metadata": {},
   "outputs": [],
   "source": [
    "with open('tgt_train.txt') as reader:\n",
    "    # This reads the remaining lines from the file object and returns them as a list.\n",
    "    leaflet_tgt_train = reader.readlines()"
   ]
  },
  {
   "cell_type": "code",
   "execution_count": 196,
   "metadata": {},
   "outputs": [
    {
     "data": {
      "text/plain": [
       "1000"
      ]
     },
     "execution_count": 196,
     "metadata": {},
     "output_type": "execute_result"
    }
   ],
   "source": [
    "len(leaflet_tgt_train)"
   ]
  },
  {
   "cell_type": "code",
   "execution_count": 194,
   "metadata": {},
   "outputs": [],
   "source": [
    "with open('inter/train_content_plan.txt') as reader:\n",
    "    # This reads the remaining lines from the file object and returns them as a list.\n",
    "    leaflets_inter_content_plan = reader.readlines()"
   ]
  },
  {
   "cell_type": "code",
   "execution_count": 195,
   "metadata": {},
   "outputs": [
    {
     "data": {
      "text/plain": [
       "1000"
      ]
     },
     "execution_count": 195,
     "metadata": {},
     "output_type": "execute_result"
    }
   ],
   "source": [
    "len(leaflets_inter_content_plan)"
   ]
  },
  {
   "cell_type": "code",
   "execution_count": 197,
   "metadata": {},
   "outputs": [
    {
     "data": {
      "text/plain": [
       "'evotaz￨Indication￨BRAND_NAME￨HOME atazanavir￨Indication￨GENERIC_NAME￨HOME protease_inhibitors￨Indication￨TREATMENT_NAME￨HOME human_immunodeficiency_virus￨Indication￨DX_NAME￨HOME hiv￨Indication￨DX_NAME￨HOME infection￨Indication￨DX_NAME￨HOME hiv￨Indication￨DX_NAME￨HOME immune_system￨Indication￨SYSTEM_ORGAN_SITE￨HOME atazanavir￨Indication￨GENERIC_NAME￨HOME illnesses￨Indication￨DX_NAME￨HOME hiv_infection￨Indication￨DX_NAME￨HOME cobicistat￨Indication￨GENERIC_NAME￨HOME atazanavir￨Indication￨GENERIC_NAME￨HOME cobicistat￨Indication￨GENERIC_NAME￨HOME hiv￨Indication￨DX_NAME￨HOME atazanavir￨Indication￨GENERIC_NAME￨HOME atazanavir￨Indication￨GENERIC_NAME￨HOME evotaz￨Indication￨BRAND_NAME￨HOME 18￨Indication￨AGE￨HOME infected￨Indication￨DX_NAME￨HOME hiv￨Indication￨DX_NAME￨HOME immunodeficiency_syndrome￨Indication￨DX_NAME￨HOME hiv_infection￨Indication￨DX_NAME￨HOME evotaz￨Indication￨BRAND_NAME￨HOME \\n'"
      ]
     },
     "execution_count": 197,
     "metadata": {},
     "output_type": "execute_result"
    }
   ],
   "source": [
    "leaflets_inter_content_plan[1]"
   ]
  },
  {
   "cell_type": "code",
   "execution_count": 198,
   "metadata": {},
   "outputs": [
    {
     "data": {
      "text/plain": [
       "'evotaz contains two active substances: \\uf0a7 atazanavir, an antiviral (or antiretroviral) medicine. it is one of a group called protease inhibitors. these medicines control human immunodeficiency virus (hiv) infection by stopping production of a protein that hiv needs for its multiplication. they work by reducing the amount of hiv in your body and this in turn, strengthens your immune system. in this way atazanavir reduces the risk of developing illnesses linked to hiv infection. \\uf0a7 cobicistat, a booster (pharmacokinetic enhancer) to help improve the effects of atazanavir. cobicistat, does not directly treat your hiv, but boosts the levels of atazanavir in the blood. it does this by slowing down the breakdown of atazanavir which will make it stay in the body for longer. evotaz may be used by adults aged 18 years of age and older who are infected with hiv, the virus that causes acquired immunodeficiency syndrome (aids). it is used in combination with other antihiv medicines to help control your hiv infection. your doctor will discuss with you which combination of these medicines with evotaz is best for you.\\n'"
      ]
     },
     "execution_count": 198,
     "metadata": {},
     "output_type": "execute_result"
    }
   ],
   "source": [
    "leaflet_tgt_train[1]"
   ]
  },
  {
   "cell_type": "code",
   "execution_count": null,
   "metadata": {},
   "outputs": [],
   "source": []
  },
  {
   "cell_type": "markdown",
   "metadata": {},
   "source": [
    "['evotaz￨Indication￨BRAND_NAME￨HOME', 'atazanavir￨Indication￨GENERIC_NAME￨HOME', 'protease_inhibitors￨Indication￨TREATMENT_NAME￨HOME', 'human_immunodeficiency_virus￨Indication￨DX_NAME￨HOME', 'hiv￨Indication￨DX_NAME￨HOME', 'infection￨Indication￨DX_NAME￨HOME', 'hiv￨Indication￨DX_NAME￨HOME', 'immune_system￨Indication￨SYSTEM_ORGAN_SITE￨HOME', 'atazanavir￨Indication￨GENERIC_NAME￨HOME', 'illnesses￨Indication￨DX_NAME￨HOME', 'hiv_infection￨Indication￨DX_NAME￨HOME', 'cobicistat￨Indication￨GENERIC_NAME￨HOME', 'atazanavir￨Indication￨GENERIC_NAME￨HOME', 'cobicistat￨Indication￨GENERIC_NAME￨HOME', 'hiv￨Indication￨DX_NAME￨HOME', 'atazanavir￨Indication￨GENERIC_NAME￨HOME', 'atazanavir￨Indication￨GENERIC_NAME￨HOME', 'evotaz￨Indication￨BRAND_NAME￨HOME', '18￨Indication￨AGE￨HOME', 'infected￨Indication￨DX_NAME￨HOME', 'hiv￨Indication￨DX_NAME￨HOME', 'immunodeficiency_syndrome￨Indication￨DX_NAME￨HOME', 'hiv_infection￨Indication￨DX_NAME￨HOME', 'evotaz￨Indication￨BRAND_NAME￨HOME']"
   ]
  },
  {
   "cell_type": "code",
   "execution_count": 263,
   "metadata": {},
   "outputs": [
    {
     "data": {
      "text/plain": [
       "'1,0 2,1 4,2 6,3 11,4 13,7 17,5 18,6 20,8 22,9 74,10 75,11 77,12 81,13 102,15 109,11 115,17 116,18 127,19 142,24 182,26 192,27 210,28 211,29 213,30 216,31 219,32 220,33 233,35 245,39\\n'"
      ]
     },
     "execution_count": 263,
     "metadata": {},
     "output_type": "execute_result"
    }
   ],
   "source": [
    "'1,0 2,1 4,2 6,3 11,4 13,7 17,5 18,6 20,8 22,9 74,10 75,11 77,12 81,13 102,15 109,11 115,17 116,18 127,19 142,24 182,26 192,27 210,28 211,29 213,30 216,31 219,32 220,33 233,35 245,39\\n'"
   ]
  },
  {
   "cell_type": "code",
   "execution_count": 326,
   "metadata": {},
   "outputs": [],
   "source": [
    "roto_pts_content = []\n",
    "\n",
    "\n",
    "for leflet_num in range(len(leaflet_tgt_train)):\n",
    "    \n",
    "    current_leaflet = leaflet_tgt_train[leflet_num].split()\n",
    "    current_content_plan = leaflets_inter_content_plan[leflet_num].split()\n",
    "    \n",
    "    instances = []\n",
    "    for entry in current_content_plan:\n",
    "        record_values = entry.split(DELIM)[0]\n",
    "        instances.append(record_values)\n",
    "    \n",
    "    # print(instances)\n",
    "    \n",
    "    # pairs for each file\n",
    "    current_str = []\n",
    "    \n",
    "    for token_pos in range(len(current_leaflet)):\n",
    "        \n",
    "        # get token\n",
    "        token = current_leaflet[token_pos]\n",
    "        \n",
    "        # possible tokens with removed punctuation from left or right\n",
    "        left_token = token[1:]\n",
    "        right_token = token[:-1]\n",
    "        \n",
    "        # possible tokens if 2 words in content plan like 'immunodeficiency_syndrome'\n",
    "        if token_pos != (len(current_leaflet)-1):\n",
    "            token_2words = current_leaflet[token_pos] + \"_\" + current_leaflet[token_pos+1]\n",
    "        # do not need to consider left_token and right_token since punctuation means there is not consecutive word\n",
    "        # but still punctuation might be at the end\n",
    "        \n",
    "        left_token_2words = token_2words[1:]\n",
    "        right_token_2words = token_2words[:-1]\n",
    "        \n",
    "        \n",
    "        # print(token_2words)\n",
    "        \n",
    "        for content_plan_index in range(len(instances)):\n",
    "            \n",
    "            if token == instances[content_plan_index]:\n",
    "                # mask the corresponding position in content plan\n",
    "                instances[content_plan_index] = \"MASKED\"\n",
    "                pair = str(token_pos) + \",\" + str(content_plan_index)\n",
    "                current_str.append(pair)\n",
    "                # find just one match\n",
    "                break\n",
    "                \n",
    "            elif left_token == instances[content_plan_index]:\n",
    "                # mask the corresponding position in content plan\n",
    "                instances[content_plan_index] = \"MASKED\"\n",
    "                pair = str(token_pos) + \",\" + str(content_plan_index)\n",
    "                current_str.append(pair)\n",
    "                # find just one match\n",
    "                break\n",
    "                \n",
    "            elif right_token == instances[content_plan_index]:\n",
    "                # mask the corresponding position in content plan\n",
    "                instances[content_plan_index] = \"MASKED\"\n",
    "                pair = str(token_pos) + \",\" + str(content_plan_index)\n",
    "                current_str.append(pair)\n",
    "\n",
    "                # find just one match\n",
    "                break\n",
    "                \n",
    "            elif token_2words == instances[content_plan_index]:\n",
    "                # mask the corresponding position in content plan\n",
    "                instances[content_plan_index] = \"MASKED\"\n",
    "                pair = str(token_pos) + \",\" + str(content_plan_index)\n",
    "                current_str.append(pair)\n",
    "\n",
    "                # find just one match\n",
    "                break\n",
    "                \n",
    "            elif left_token_2words == instances[content_plan_index]:\n",
    "                # mask the corresponding position in content plan\n",
    "                instances[content_plan_index] = \"MASKED\"\n",
    "                pair = str(token_pos) + \",\" + str(content_plan_index)\n",
    "                current_str.append(pair)\n",
    "\n",
    "                # find just one match\n",
    "                break\n",
    "            \n",
    "            elif right_token_2words == instances[content_plan_index]:\n",
    "                # mask the corresponding position in content plan\n",
    "                instances[content_plan_index] = \"MASKED\"\n",
    "                pair = str(token_pos) + \",\" + str(content_plan_index)\n",
    "                current_str.append(pair)\n",
    "\n",
    "                # find just one match\n",
    "                break\n",
    "                \n",
    "    current_str = \" \".join(current_str)\n",
    "    current_str += \"\\n\"\n",
    "    \n",
    "    \n",
    "    roto_pts_content.append(current_str)"
   ]
  },
  {
   "cell_type": "code",
   "execution_count": 327,
   "metadata": {},
   "outputs": [
    {
     "data": {
      "text/plain": [
       "1000"
      ]
     },
     "execution_count": 327,
     "metadata": {},
     "output_type": "execute_result"
    }
   ],
   "source": [
    "len(roto_pts_content)"
   ]
  },
  {
   "cell_type": "code",
   "execution_count": 336,
   "metadata": {},
   "outputs": [
    {
     "data": {
      "text/plain": [
       "'0,0 5,1 6,2 13,3 40,4 42,5 59,7 60,11 83,8 99,9 121,10 128,12\\n'"
      ]
     },
     "execution_count": 336,
     "metadata": {},
     "output_type": "execute_result"
    }
   ],
   "source": [
    "roto_pts_content[222]"
   ]
  },
  {
   "cell_type": "code",
   "execution_count": 333,
   "metadata": {},
   "outputs": [
    {
     "data": {
      "text/plain": [
       "18"
      ]
     },
     "execution_count": 333,
     "metadata": {},
     "output_type": "execute_result"
    }
   ],
   "source": [
    "len(roto_pts_content[123].split())"
   ]
  },
  {
   "cell_type": "code",
   "execution_count": 334,
   "metadata": {},
   "outputs": [
    {
     "data": {
      "text/plain": [
       "23"
      ]
     },
     "execution_count": 334,
     "metadata": {},
     "output_type": "execute_result"
    }
   ],
   "source": [
    "len(leaflets_inter_content_plan[123].split())"
   ]
  },
  {
   "cell_type": "code",
   "execution_count": null,
   "metadata": {},
   "outputs": [],
   "source": [
    "# save to file\n",
    "roto_pts_content\n",
    "\n",
    "with open(outfi, \"w+\") as f:\n",
    "    "
   ]
  },
  {
   "cell_type": "code",
   "execution_count": 337,
   "metadata": {},
   "outputs": [],
   "source": [
    "output_file_roto = \"train-roto-ptrs.txt\"\n",
    "\n",
    "src_file = open(output_file_roto, 'w')\n",
    "for src_instance in roto_pts_content:\n",
    "    # src_file.write(src_instance.encode(\"utf-8\"))\n",
    "    src_file.write(src_instance)\n",
    "    # src_file.write(\"\\n\")\n",
    "src_file.close()"
   ]
  },
  {
   "cell_type": "code",
   "execution_count": null,
   "metadata": {},
   "outputs": [],
   "source": []
  },
  {
   "cell_type": "code",
   "execution_count": null,
   "metadata": {},
   "outputs": [],
   "source": []
  },
  {
   "cell_type": "markdown",
   "metadata": {},
   "source": [
    "### Check whether correct"
   ]
  },
  {
   "cell_type": "code",
   "execution_count": 318,
   "metadata": {},
   "outputs": [
    {
     "name": "stdout",
     "output_type": "stream",
     "text": [
      "alendronic ----> alendronic_acid￨Indication￨GENERIC_NAME￨HOME\n",
      "alendronate) ----> alendronate￨Indication￨GENERIC_NAME￨HOME\n",
      "colecalciferol ----> colecalciferol￨Indication￨GENERIC_NAME￨HOME\n",
      "vitamin ----> vitamin_d3￨Indication￨GENERIC_NAME￨HOME\n",
      "alendronate? ----> alendronate￨Indication￨GENERIC_NAME￨HOME\n",
      "alendronate ----> alendronate￨Indication￨GENERIC_NAME￨HOME\n",
      "alendronate ----> alendronate￨Indication￨GENERIC_NAME￨HOME\n",
      "bone ----> bone￨Indication￨SYSTEM_ORGAN_SITE￨HOME\n",
      "menopause, ----> menopause￨Indication￨DX_NAME￨HOME\n",
      "bone. ----> bone￨Indication￨SYSTEM_ORGAN_SITE￨HOME\n",
      "spine ----> spine￨Indication￨SYSTEM_ORGAN_SITE￨HOME\n",
      "hip ----> hip￨Indication￨SYSTEM_ORGAN_SITE￨HOME\n",
      "fractures. ----> fractures￨Indication￨DX_NAME￨HOME\n",
      "vitamin ----> vitamin_d￨Indication￨GENERIC_NAME￨HOME\n",
      "bones. ----> bones￨Indication￨SYSTEM_ORGAN_SITE￨HOME\n",
      "body ----> body￨Indication￨SYSTEM_ORGAN_SITE￨HOME\n",
      "skin. ----> skin￨Indication￨SYSTEM_ORGAN_SITE￨HOME\n",
      "skin ----> skin￨Indication￨SYSTEM_ORGAN_SITE￨HOME\n",
      "bone ----> bone￨Indication￨SYSTEM_ORGAN_SITE￨HOME\n",
      "osteoporosis. ----> osteoporosis￨Indication￨DX_NAME￨HOME\n",
      "muscle ----> muscle￨Indication￨SYSTEM_ORGAN_SITE￨HOME\n",
      "falls ----> falls￨Indication￨DX_NAME￨HOME\n",
      "osteoporosis ----> osteoporosis￨Indication￨DX_NAME￨HOME\n",
      "spine ----> spine￨Indication￨SYSTEM_ORGAN_SITE￨HOME\n",
      "hip ----> hip_fractures￨Indication￨DX_NAME￨HOME\n",
      "menopause. ----> menopause￨Indication￨DX_NAME￨HOME\n",
      "osteoporosis? ----> osteoporosis￨Indication￨DX_NAME￨HOME\n",
      "osteoporosis ----> osteoporosis￨Indication￨DX_NAME￨HOME\n",
      "thinning ----> thinning￨Indication￨DX_NAME￨HOME\n",
      "weakening ----> weakening￨Indication￨DX_NAME￨HOME\n",
      "bones. ----> bones￨Indication￨SYSTEM_ORGAN_SITE￨HOME\n",
      "menopause. ----> menopause￨Indication￨DX_NAME￨HOME\n",
      "menopause, ----> menopause￨Indication￨DX_NAME￨HOME\n",
      "ovaries ----> ovaries￨Indication￨SYSTEM_ORGAN_SITE￨HOME\n",
      "skeleton ----> skeleton￨Indication￨SYSTEM_ORGAN_SITE￨HOME\n",
      "bone ----> bone_loss￨Indication￨DX_NAME￨HOME\n",
      "bones ----> bone￨Indication￨SYSTEM_ORGAN_SITE￨HOME\n",
      "weaker. ----> weaker￨Indication￨DX_NAME￨HOME\n",
      "menopause, ----> menopause￨Indication￨DX_NAME￨HOME\n",
      "osteoporosis. ----> osteoporosis￨Indication￨DX_NAME￨HOME\n",
      "osteoporosis ----> osteoporosis￨Indication￨DX_NAME￨HOME\n",
      "broken ----> broken_bones￨Indication￨DX_NAME￨HOME\n",
      "bones. ----> bones￨Indication￨SYSTEM_ORGAN_SITE￨HOME\n",
      "hurt, ----> hurt￨Indication￨DX_NAME￨HOME\n",
      "breaks ----> breaks￨Indication￨DX_NAME￨HOME\n",
      "bones ----> bones￨Indication￨SYSTEM_ORGAN_SITE￨HOME\n",
      "spine ----> spine￨Indication￨SYSTEM_ORGAN_SITE￨HOME\n",
      "height ----> height_loss￨Indication￨DX_NAME￨HOME\n",
      "broken ----> broken_bones￨Indication￨DX_NAME￨HOME\n",
      "bones ----> bones￨Indication￨SYSTEM_ORGAN_SITE￨HOME\n",
      "injury ----> injury￨Indication￨DX_NAME￨HOME\n",
      "bone. ----> bone￨Indication￨SYSTEM_ORGAN_SITE￨HOME\n",
      "broken ----> broken_bones￨Indication￨DX_NAME￨HOME\n",
      "bones ----> bones￨Indication￨SYSTEM_ORGAN_SITE￨HOME\n",
      "hip, ----> hip￨Indication￨SYSTEM_ORGAN_SITE￨HOME\n",
      "spine, ----> spine￨Indication￨SYSTEM_ORGAN_SITE￨HOME\n",
      "wrist ----> wrist￨Indication￨SYSTEM_ORGAN_SITE￨HOME\n",
      "pain ----> pain￨Indication￨DX_NAME￨HOME\n",
      "stooped ----> stooped_posture￨Indication￨DX_NAME￨HOME\n",
      "osteoporosis ----> osteoporosis￨Indication￨DX_NAME￨HOME\n",
      "bone ----> bone￨Indication￨SYSTEM_ORGAN_SITE￨HOME\n",
      "broken ----> broken_bones￨Indication￨DX_NAME￨HOME\n",
      "bones. ----> bones￨Indication￨SYSTEM_ORGAN_SITE￨HOME\n",
      "muscles, ----> muscles￨Indication￨SYSTEM_ORGAN_SITE￨HOME\n",
      "bones ----> bones￨Indication￨SYSTEM_ORGAN_SITE￨HOME\n",
      "exercise ----> exercise_programme￨Indication￨TREATMENT_NAME￨HOME\n",
      "balanced ----> balanced_diet￨Indication￨TREATMENT_NAME￨HOME\n",
      "dietary ----> dietary_supplements￨Indication￨TREATMENT_NAME￨HOME\n"
     ]
    }
   ],
   "source": [
    "content_plan_indeces = []\n",
    "\n",
    "for pair in roto_pts_content[0].split():\n",
    "    pair = pair.split(\",\")\n",
    "    \n",
    "    a = int(pair[0])\n",
    "    b = int(pair[1])\n",
    "    \n",
    "    content_plan_indeces.append(b)\n",
    "    \n",
    "    print(leaflet_tgt_train[0].split()[a], end=\" ----> \")\n",
    "    print(leaflets_inter_content_plan[0].split()[b])\n",
    "    "
   ]
  },
  {
   "cell_type": "code",
   "execution_count": 319,
   "metadata": {},
   "outputs": [
    {
     "data": {
      "text/plain": [
       "78"
      ]
     },
     "execution_count": 319,
     "metadata": {},
     "output_type": "execute_result"
    }
   ],
   "source": [
    "len(leaflets_inter_content_plan[0].split())"
   ]
  },
  {
   "cell_type": "code",
   "execution_count": 320,
   "metadata": {},
   "outputs": [
    {
     "data": {
      "text/plain": [
       "'12,0 16,1 18,2 21,3 25,4 26,5 36,6 41,8 52,9 57,10 63,11 65,12 66,26 69,16 83,14 85,15 121,17 127,18 139,19 142,21 149,23 155,25 175,27 191,29 193,13 198,32 201,33 202,34 205,35 207,36 210,37 218,38 221,39 223,40 236,41 241,20 245,43 247,46 254,47 260,48 264,49 277,50 278,45 282,52 283,53 286,51 289,55 296,56 298,57 299,54 312,59 319,60 320,61 321,58 326,30 327,64 329,65 336,66 343,67 353,69 391,70 399,71 400,62 403,73 404,72 419,75 423,76 439,77\\n'"
      ]
     },
     "execution_count": 320,
     "metadata": {},
     "output_type": "execute_result"
    }
   ],
   "source": [
    "roto_pts_content[0]"
   ]
  },
  {
   "cell_type": "code",
   "execution_count": 321,
   "metadata": {},
   "outputs": [
    {
     "data": {
      "text/plain": [
       "68"
      ]
     },
     "execution_count": 321,
     "metadata": {},
     "output_type": "execute_result"
    }
   ],
   "source": [
    "len(roto_pts_content[0].split())"
   ]
  },
  {
   "cell_type": "code",
   "execution_count": 323,
   "metadata": {},
   "outputs": [
    {
     "name": "stdout",
     "output_type": "stream",
     "text": [
      "loss_of_bone￨Indication￨DX_NAME￨HOME\n",
      "vitamin_d_deficiency￨Indication￨DX_NAME￨HOME\n",
      "muscle_weakness￨Indication￨DX_NAME￨HOME\n",
      "vitamin_d_insufficiency￨Indication￨DX_NAME￨HOME\n",
      "hip_fractures￨Indication￨DX_NAME￨HOME\n",
      "skeleton_healthy￨Indication￨DX_NAME￨HOME\n",
      "bone_loss￨Indication￨DX_NAME￨HOME\n",
      "hip￨Indication￨SYSTEM_ORGAN_SITE￨HOME\n",
      "loss_of_mobility￨Indication￨DX_NAME￨HOME\n",
      "bones￨Indication￨SYSTEM_ORGAN_SITE￨HOME\n"
     ]
    }
   ],
   "source": [
    "for i in range(0, len(leaflets_inter_content_plan[0].split()), 1):\n",
    "    if i not in content_plan_indeces:\n",
    "        print(leaflets_inter_content_plan[0].split()[i])"
   ]
  },
  {
   "cell_type": "code",
   "execution_count": 324,
   "metadata": {},
   "outputs": [
    {
     "data": {
      "text/plain": [
       "'what is fosavance? fosavance is a tablet containing the two active substances, alendronic acid (commonly called alendronate) and colecalciferol known as vitamin d3. what is alendronate? alendronate belongs to a group of nonhormonal medicines called bisphosphonates. alendronate prevents the loss of bone that occurs in women after they have been through the menopause, and helps to rebuild bone. it reduces the risk of spine and hip fractures. what is vitamin d? vitamin d is an essential nutrient, required for calcium absorption and healthy bones. the body can only absorb calcium properly from our food if it has enough vitamin d. very few foods contain vitamin d. the main source is through exposure to summer sunlight, which makes vitamin d in our skin. as we get older our skin makes less vitamin d. too little vitamin d may lead to bone loss and osteoporosis. severe vitamin d deficiency may cause muscle weakness which can lead to falls and a greater risk of fractures. what is fosavance used for? your doctor has prescribed fosavance to treat your osteoporosis and because you are at risk of vitamin d insufficiency. it reduces the risk of spine and hip fractures in women after menopause. what is osteoporosis? osteoporosis is a thinning and weakening of the bones. it is common in women after the menopause. at the menopause, the ovaries stop producing the female hormone, oestrogen, which helps to keep a woman’s skeleton healthy. as a result, bone loss occurs and bones become weaker. the earlier a woman reaches the menopause, the greater the risk of osteoporosis. 30 early on, osteoporosis usually has no symptoms. if left untreated, however, it can result in broken bones. although these usually hurt, breaks in the bones of the spine may go unnoticed until they cause height loss. broken bones can happen during normal, everyday activity, such as lifting, or from minor injury that would not generally break normal bone. broken bones usually occur at the hip, spine, or wrist and can lead not only to pain but also to considerable problems like stooped posture (‘dowager’s hump’) and loss of mobility. how can osteoporosis be treated? as well as your treatment with fosavance, your doctor may suggest you make changes to your lifestyle to help your condition, such as: stopping smoking smoking appears to increase the rate at which you lose bone and, therefore, may increase your risk of broken bones. exercise like muscles, bones need exercise to stay strong and healthy. consult your doctor before you begin any exercise programme. eating a balanced diet your doctor can advise you about your diet or whether you should take any dietary supplements.\\n'"
      ]
     },
     "execution_count": 324,
     "metadata": {},
     "output_type": "execute_result"
    }
   ],
   "source": [
    "leaflet_tgt_train[0]"
   ]
  },
  {
   "cell_type": "markdown",
   "metadata": {},
   "source": [
    "Remark - Consider changing the order: 1st check whether token_2word in summary, and only then consider other tokens."
   ]
  },
  {
   "cell_type": "code",
   "execution_count": null,
   "metadata": {},
   "outputs": [],
   "source": []
  },
  {
   "cell_type": "code",
   "execution_count": null,
   "metadata": {},
   "outputs": [],
   "source": []
  },
  {
   "cell_type": "code",
   "execution_count": null,
   "metadata": {},
   "outputs": [],
   "source": []
  },
  {
   "cell_type": "code",
   "execution_count": null,
   "metadata": {},
   "outputs": [],
   "source": []
  },
  {
   "cell_type": "code",
   "execution_count": 294,
   "metadata": {},
   "outputs": [
    {
     "data": {
      "text/plain": [
       "24"
      ]
     },
     "execution_count": 294,
     "metadata": {},
     "output_type": "execute_result"
    }
   ],
   "source": [
    "len(leaflets_inter_content_plan[1].split())"
   ]
  },
  {
   "cell_type": "code",
   "execution_count": 295,
   "metadata": {},
   "outputs": [
    {
     "data": {
      "text/plain": [
       "['evotaz￨Indication￨BRAND_NAME￨HOME',\n",
       " 'atazanavir￨Indication￨GENERIC_NAME￨HOME',\n",
       " 'protease_inhibitors￨Indication￨TREATMENT_NAME￨HOME',\n",
       " 'human_immunodeficiency_virus￨Indication￨DX_NAME￨HOME',\n",
       " 'hiv￨Indication￨DX_NAME￨HOME',\n",
       " 'infection￨Indication￨DX_NAME￨HOME',\n",
       " 'hiv￨Indication￨DX_NAME￨HOME',\n",
       " 'immune_system￨Indication￨SYSTEM_ORGAN_SITE￨HOME',\n",
       " 'atazanavir￨Indication￨GENERIC_NAME￨HOME',\n",
       " 'illnesses￨Indication￨DX_NAME￨HOME',\n",
       " 'hiv_infection￨Indication￨DX_NAME￨HOME',\n",
       " 'cobicistat￨Indication￨GENERIC_NAME￨HOME',\n",
       " 'atazanavir￨Indication￨GENERIC_NAME￨HOME',\n",
       " 'cobicistat￨Indication￨GENERIC_NAME￨HOME',\n",
       " 'hiv￨Indication￨DX_NAME￨HOME',\n",
       " 'atazanavir￨Indication￨GENERIC_NAME￨HOME',\n",
       " 'atazanavir￨Indication￨GENERIC_NAME￨HOME',\n",
       " 'evotaz￨Indication￨BRAND_NAME￨HOME',\n",
       " '18￨Indication￨AGE￨HOME',\n",
       " 'infected￨Indication￨DX_NAME￨HOME',\n",
       " 'hiv￨Indication￨DX_NAME￨HOME',\n",
       " 'immunodeficiency_syndrome￨Indication￨DX_NAME￨HOME',\n",
       " 'hiv_infection￨Indication￨DX_NAME￨HOME',\n",
       " 'evotaz￨Indication￨BRAND_NAME￨HOME']"
      ]
     },
     "execution_count": 295,
     "metadata": {},
     "output_type": "execute_result"
    }
   ],
   "source": [
    "leaflets_inter_content_plan[1].split()"
   ]
  },
  {
   "cell_type": "code",
   "execution_count": null,
   "metadata": {},
   "outputs": [],
   "source": []
  },
  {
   "cell_type": "code",
   "execution_count": null,
   "metadata": {},
   "outputs": [],
   "source": []
  },
  {
   "cell_type": "code",
   "execution_count": null,
   "metadata": {},
   "outputs": [],
   "source": []
  },
  {
   "cell_type": "code",
   "execution_count": null,
   "metadata": {},
   "outputs": [],
   "source": [
    "a"
   ]
  },
  {
   "cell_type": "markdown",
   "metadata": {},
   "source": [
    "For eg: the last entry 245,39 in train_roto_ptrs[1] indicates that the 245th token in summary matches with 39th content plan entry.    \n",
    "\n",
    "Phoenix ----> Phoenix￨Suns￨TEAM-CITY￨HOME  \n",
    "Suns ----> Suns￨Suns￨TEAM-NAME￨HOME  \n",
    "39 ----> 39￨Suns￨TEAM-WINS￨HOME  \n",
    "38 ----> 38￨Suns￨TEAM-LOSSES￨HOME  \n",
    "87 ----> 87￨Suns￨TEAM-PTS￨HOME  \n",
    "85 ----> 85￨Jazz￨TEAM-PTS￨AWAY  \n",
    "Utah ----> Utah￨Jazz￨TEAM-CITY￨AWAY  \n",
    "Jazz ----> Jazz￨Jazz￨TEAM-NAME￨AWAY  \n",
    "34 ----> 34￨Jazz￨TEAM-WINS￨AWAY  \n",
    "42 ----> 42￨Jazz￨TEAM-LOSSES￨AWAY  \n",
    "Gerald ----> Gerald￨Gerald_Green￨FIRST_NAME￨HOME  \n",
    "Green ----> Green￨Gerald_Green￨SECOND_NAME￨HOME  \n",
    "24 ----> 24￨Gerald_Green￨PTS￨HOME  \n",
    "22 ----> 22￨Gerald_Green￨MIN￨HOME   \n",
    "Warren ----> Warren￨TJ_Warren￨SECOND_NAME￨HOME  \n",
    "Green ----> Green￨Gerald_Green￨SECOND_NAME￨HOME  \n",
    "Brandan ----> Brandan￨Brandan_Wright￨FIRST_NAME￨HOME  \n",
    "Wright ----> Wright￨Brandan_Wright￨SECOND_NAME￨HOME   \n",
    "14 ----> 14￨Brandan_Wright￨PTS￨HOME   \n",
    "33 ----> 33￨Brandan_Wright￨MIN￨HOME   \n",
    "Hood ----> Hood￨Rodney_Hood￨SECOND_NAME￨AWAY   \n",
    "17 ----> 17￨Rodney_Hood￨PTS￨AWAY   \n",
    "Gordon ----> Gordon￨Gordon_Hayward￨FIRST_NAME￨AWAY   \n",
    "Hayward ----> Hayward￨Gordon_Hayward￨SECOND_NAME￨AWAY   \n",
    "21 ----> 21￨Gordon_Hayward￨PTS￨AWAY   \n",
    "18 ----> 18￨Gordon_Hayward￨FGA￨AWAY    \n",
    "Rudy ----> Rudy￨Rudy_Gobert￨FIRST_NAME￨AWAY   \n",
    "Gobert ----> Gobert￨Rudy_Gobert￨SECOND_NAME￨AWAY    \n",
    "15 ----> 15￨Rudy_Gobert￨REB￨AWAY    \n",
    "38 ----> 38￨Rudy_Gobert￨MIN￨AWAY   "
   ]
  },
  {
   "cell_type": "code",
   "execution_count": null,
   "metadata": {},
   "outputs": [],
   "source": []
  },
  {
   "cell_type": "code",
   "execution_count": null,
   "metadata": {},
   "outputs": [],
   "source": []
  },
  {
   "cell_type": "code",
   "execution_count": null,
   "metadata": {},
   "outputs": [],
   "source": []
  },
  {
   "cell_type": "code",
   "execution_count": null,
   "metadata": {},
   "outputs": [],
   "source": []
  },
  {
   "cell_type": "code",
   "execution_count": null,
   "metadata": {},
   "outputs": [],
   "source": []
  },
  {
   "cell_type": "code",
   "execution_count": null,
   "metadata": {},
   "outputs": [],
   "source": []
  },
  {
   "cell_type": "code",
   "execution_count": null,
   "metadata": {},
   "outputs": [],
   "source": []
  },
  {
   "cell_type": "code",
   "execution_count": null,
   "metadata": {},
   "outputs": [],
   "source": []
  },
  {
   "cell_type": "code",
   "execution_count": null,
   "metadata": {},
   "outputs": [],
   "source": []
  },
  {
   "cell_type": "code",
   "execution_count": null,
   "metadata": {},
   "outputs": [],
   "source": []
  },
  {
   "cell_type": "code",
   "execution_count": null,
   "metadata": {},
   "outputs": [],
   "source": []
  },
  {
   "cell_type": "code",
   "execution_count": null,
   "metadata": {},
   "outputs": [],
   "source": []
  },
  {
   "cell_type": "code",
   "execution_count": null,
   "metadata": {},
   "outputs": [],
   "source": []
  },
  {
   "cell_type": "code",
   "execution_count": null,
   "metadata": {},
   "outputs": [],
   "source": []
  },
  {
   "cell_type": "code",
   "execution_count": null,
   "metadata": {},
   "outputs": [],
   "source": []
  },
  {
   "cell_type": "code",
   "execution_count": null,
   "metadata": {},
   "outputs": [],
   "source": []
  },
  {
   "cell_type": "code",
   "execution_count": 107,
   "metadata": {},
   "outputs": [],
   "source": [
    "inp_file = \"rotowire/train.json\"\n",
    "content_plan_inp = \"rotowire/inter/train_content_plan.txt\"\n",
    "\n",
    "output_file = \"/rotowire/train-roto-ptrs.txt\""
   ]
  },
  {
   "cell_type": "code",
   "execution_count": 101,
   "metadata": {},
   "outputs": [],
   "source": [
    "# for each target word want to know where it could've been copied from"
   ]
  },
  {
   "cell_type": "code",
   "execution_count": 111,
   "metadata": {},
   "outputs": [],
   "source": [
    "# Main function start\n",
    "with codecs.open(inp_file, \"r\", \"utf-8\") as f:\n",
    "    trdata = json.load(f)"
   ]
  },
  {
   "cell_type": "code",
   "execution_count": 112,
   "metadata": {},
   "outputs": [
    {
     "data": {
      "text/plain": [
       "3398"
      ]
     },
     "execution_count": 112,
     "metadata": {},
     "output_type": "execute_result"
    }
   ],
   "source": [
    "len(trdata)"
   ]
  },
  {
   "cell_type": "code",
   "execution_count": 137,
   "metadata": {},
   "outputs": [],
   "source": [
    "with codecs.open(content_plan_inp, \"r\", \"utf-8\") as f:\n",
    "    content_plan = f.readlines()"
   ]
  },
  {
   "cell_type": "code",
   "execution_count": 138,
   "metadata": {},
   "outputs": [
    {
     "data": {
      "text/plain": [
       "3371"
      ]
     },
     "execution_count": 138,
     "metadata": {},
     "output_type": "execute_result"
    }
   ],
   "source": [
    "len(content_plan)"
   ]
  },
  {
   "cell_type": "code",
   "execution_count": 139,
   "metadata": {},
   "outputs": [
    {
     "data": {
      "text/plain": [
       "'Boston￨Celtics￨TEAM-CITY￨AWAY Celtics￨Celtics￨TEAM-NAME￨AWAY 25￨Celtics￨TEAM-AST￨AWAY Isaiah￨Isaiah_Thomas￨FIRST_NAME￨AWAY Thomas￨Isaiah_Thomas￨SECOND_NAME￨AWAY 27￨Isaiah_Thomas￨PTS￨AWAY Al￨Al_Horford￨FIRST_NAME￨AWAY Horford￨Al_Horford￨SECOND_NAME￨AWAY 15￨Al_Horford￨PTS￨AWAY 7￨Al_Horford￨REB￨AWAY 5￨Al_Horford￨AST￨AWAY 3￨Al_Horford￨STL￨AWAY Marcus￨Marcus_Smart￨FIRST_NAME￨AWAY Smart￨Marcus_Smart￨SECOND_NAME￨AWAY 7￨Marcus_Smart￨AST￨AWAY 15￨Marcus_Smart￨PTS￨AWAY Kristaps￨Kristaps_Porzingis￨FIRST_NAME￨HOME Porzingis￨Kristaps_Porzingis￨SECOND_NAME￨HOME 22￨Kristaps_Porzingis￨PTS￨HOME 12￨Kristaps_Porzingis￨REB￨HOME Carmelo￨Carmelo_Anthony￨FIRST_NAME￨HOME Anthony￨Carmelo_Anthony￨SECOND_NAME￨HOME 29￨Carmelo_Anthony￨PTS￨HOME Derrick￨Derrick_Rose￨FIRST_NAME￨HOME Rose￨Derrick_Rose￨SECOND_NAME￨HOME 25￨Derrick_Rose￨PTS￨HOME \\n'"
      ]
     },
     "execution_count": 139,
     "metadata": {},
     "output_type": "execute_result"
    }
   ],
   "source": [
    "content_plan[0]"
   ]
  },
  {
   "cell_type": "code",
   "execution_count": 140,
   "metadata": {},
   "outputs": [],
   "source": [
    "content_plan = [[record.replace(u\"￨\",\"|\") for record in x.strip().split()] for x in content_plan]"
   ]
  },
  {
   "cell_type": "code",
   "execution_count": 141,
   "metadata": {},
   "outputs": [
    {
     "data": {
      "text/plain": [
       "['Boston|Celtics|TEAM-CITY|AWAY',\n",
       " 'Celtics|Celtics|TEAM-NAME|AWAY',\n",
       " '25|Celtics|TEAM-AST|AWAY',\n",
       " 'Isaiah|Isaiah_Thomas|FIRST_NAME|AWAY',\n",
       " 'Thomas|Isaiah_Thomas|SECOND_NAME|AWAY',\n",
       " '27|Isaiah_Thomas|PTS|AWAY',\n",
       " 'Al|Al_Horford|FIRST_NAME|AWAY',\n",
       " 'Horford|Al_Horford|SECOND_NAME|AWAY',\n",
       " '15|Al_Horford|PTS|AWAY',\n",
       " '7|Al_Horford|REB|AWAY',\n",
       " '5|Al_Horford|AST|AWAY',\n",
       " '3|Al_Horford|STL|AWAY',\n",
       " 'Marcus|Marcus_Smart|FIRST_NAME|AWAY',\n",
       " 'Smart|Marcus_Smart|SECOND_NAME|AWAY',\n",
       " '7|Marcus_Smart|AST|AWAY',\n",
       " '15|Marcus_Smart|PTS|AWAY',\n",
       " 'Kristaps|Kristaps_Porzingis|FIRST_NAME|HOME',\n",
       " 'Porzingis|Kristaps_Porzingis|SECOND_NAME|HOME',\n",
       " '22|Kristaps_Porzingis|PTS|HOME',\n",
       " '12|Kristaps_Porzingis|REB|HOME',\n",
       " 'Carmelo|Carmelo_Anthony|FIRST_NAME|HOME',\n",
       " 'Anthony|Carmelo_Anthony|SECOND_NAME|HOME',\n",
       " '29|Carmelo_Anthony|PTS|HOME',\n",
       " 'Derrick|Derrick_Rose|FIRST_NAME|HOME',\n",
       " 'Rose|Derrick_Rose|SECOND_NAME|HOME',\n",
       " '25|Derrick_Rose|PTS|HOME']"
      ]
     },
     "execution_count": 141,
     "metadata": {},
     "output_type": "execute_result"
    }
   ],
   "source": [
    "content_plan[0]"
   ]
  },
  {
   "cell_type": "code",
   "execution_count": 142,
   "metadata": {},
   "outputs": [],
   "source": [
    "def box_preproc2(content_plan_inp):\n",
    "    \"\"\"\n",
    "    R: I think it is just to get VALUES from each record in content plan\n",
    "    (I changed .split(DELIM) to .split(\"|\")) to get the expected behaviour\n",
    "    \"\"\"\n",
    "    \n",
    "    instances = []\n",
    "    for entry in content_plan_inp:\n",
    "        record_values = [record.split(\"|\")[0] for record in entry]\n",
    "        instances.append(record_values)\n",
    "    return instances"
   ]
  },
  {
   "cell_type": "code",
   "execution_count": 145,
   "metadata": {},
   "outputs": [],
   "source": [
    "rulsrcs = box_preproc2(content_plan)"
   ]
  },
  {
   "cell_type": "code",
   "execution_count": 146,
   "metadata": {},
   "outputs": [
    {
     "data": {
      "text/plain": [
       "3371"
      ]
     },
     "execution_count": 146,
     "metadata": {},
     "output_type": "execute_result"
    }
   ],
   "source": [
    "len(rulsrcs)"
   ]
  },
  {
   "cell_type": "code",
   "execution_count": 147,
   "metadata": {},
   "outputs": [
    {
     "data": {
      "text/plain": [
       "['Boston',\n",
       " 'Celtics',\n",
       " '25',\n",
       " 'Isaiah',\n",
       " 'Thomas',\n",
       " '27',\n",
       " 'Al',\n",
       " 'Horford',\n",
       " '15',\n",
       " '7',\n",
       " '5',\n",
       " '3',\n",
       " 'Marcus',\n",
       " 'Smart',\n",
       " '7',\n",
       " '15',\n",
       " 'Kristaps',\n",
       " 'Porzingis',\n",
       " '22',\n",
       " '12',\n",
       " 'Carmelo',\n",
       " 'Anthony',\n",
       " '29',\n",
       " 'Derrick',\n",
       " 'Rose',\n",
       " '25']"
      ]
     },
     "execution_count": 147,
     "metadata": {},
     "output_type": "execute_result"
    }
   ],
   "source": [
    "rulsrcs[0]"
   ]
  },
  {
   "cell_type": "code",
   "execution_count": 157,
   "metadata": {},
   "outputs": [],
   "source": [
    "all_ents, players, teams, cities = get_ents(trdata)"
   ]
  },
  {
   "cell_type": "code",
   "execution_count": 156,
   "metadata": {},
   "outputs": [],
   "source": [
    "def get_ents(dat):\n",
    "    \"\"\" Get all players, teams name, and cities in sets\"\"\"\n",
    "    \n",
    "    players = set()\n",
    "    teams = set()\n",
    "    cities = set()\n",
    "    for thing in dat:\n",
    "        teams.add(thing[\"vis_name\"])\n",
    "        teams.add(thing[\"vis_line\"][\"TEAM-NAME\"])\n",
    "        teams.add(thing[\"vis_city\"] + \" \" + thing[\"vis_name\"])\n",
    "        teams.add(thing[\"vis_city\"] + \" \" + thing[\"vis_line\"][\"TEAM-NAME\"])\n",
    "        teams.add(thing[\"home_name\"])\n",
    "        teams.add(thing[\"home_line\"][\"TEAM-NAME\"])\n",
    "        teams.add(thing[\"home_city\"] + \" \" + thing[\"home_name\"])\n",
    "        teams.add(thing[\"home_city\"] + \" \" + thing[\"home_line\"][\"TEAM-NAME\"])\n",
    "        # special case for this\n",
    "        if thing[\"vis_city\"] == \"Los Angeles\":\n",
    "            teams.add(\"LA\" + thing[\"vis_name\"])\n",
    "        if thing[\"home_city\"] == \"Los Angeles\":\n",
    "            teams.add(\"LA\" + thing[\"home_name\"])\n",
    "        # sometimes team_city is different\n",
    "        cities.add(thing[\"home_city\"])\n",
    "        cities.add(thing[\"vis_city\"])\n",
    "        players.update(thing[\"box_score\"][\"PLAYER_NAME\"].values())\n",
    "        cities.update(thing[\"box_score\"][\"TEAM_CITY\"].values())\n",
    "\n",
    "    for entset in [players, teams, cities]:\n",
    "        for k in list(entset):\n",
    "            pieces = k.split()\n",
    "            if len(pieces) > 1:\n",
    "                for piece in pieces:\n",
    "                    if len(piece) > 1 and piece not in [\"II\", \"III\", \"Jr.\", \"Jr\"]:\n",
    "                        entset.add(piece)\n",
    "\n",
    "    all_ents = players | teams | cities\n",
    "\n",
    "    return all_ents, players, teams, cities"
   ]
  },
  {
   "cell_type": "code",
   "execution_count": 166,
   "metadata": {},
   "outputs": [
    {
     "data": {
      "text/plain": [
       "True"
      ]
     },
     "execution_count": 166,
     "metadata": {},
     "output_type": "execute_result"
    }
   ],
   "source": [
    "# len(cities.intersection(teams))\n",
    "\n",
    "len(players) + len(teams) + len(cities) - 36 == len(all_ents)"
   ]
  },
  {
   "cell_type": "code",
   "execution_count": 187,
   "metadata": {},
   "outputs": [
    {
     "name": "stdout",
     "output_type": "stream",
     "text": [
      "['The Celtics saw great team play in their Christmas Day win , and it translated to the box score .', 'Boston had 25 assists to just 11 for New York , and the team committed just six turnovers on the night .', 'All-Star Isaiah Thomas once again led Boston with 27 points , while star center Al Horford scored 15 points and stuffed the stat sheet with seven rebounds , five assists , three steals , and two blocks .', 'Third-year point guard Marcus Smart impressed off the bench , dishing seven assists and scoring 15 points including the game - winning three - pointer .', 'New York , meanwhile , saw solid play from its stars .', 'Sophomore big man Kristaps Porzingis had 22 points and 12 rebounds as well as four blocks .', 'All-Star Carmelo Anthony had 29 points , 22 of which came in the second half .', 'Point guard Derrick Rose also had 25 points in one of his highest - scoring outings of the season .']\n"
     ]
    }
   ],
   "source": [
    "skipped = 0\n",
    "train_links = []\n",
    "\n",
    "for i, entry in enumerate(trdata):\n",
    "    # i - index in trdata\n",
    "    # entry - table-info about a game\n",
    "    \n",
    "    # list of records from content plan about a game\n",
    "    content_plan_entry = [content_plan_record for content_plan_record in content_plan[i]]\n",
    "    \n",
    "    # list of values from content plan about a game\n",
    "    content_plan_values = rulsrcs[i]\n",
    "    \n",
    "    # each player is assigned a number\n",
    "    # 2 lists - 1 collection of players(numbers) form home team, 1 collection of players(numbers) from vis team\n",
    "    home_players, vis_players = get_player_idxs(entry)\n",
    "    \n",
    "    # dictionary: key - true number of a player -- val - its index from home_players ??\n",
    "    inv_home_players = {pkey: jj for jj, pkey in enumerate(home_players)}\n",
    "    \n",
    "    # dictionary: key - true number of a player -- val - its index from home_players + NUM_PLAYERS  ??\n",
    "    inv_vis_players  = {pkey: (jj + NUM_PLAYERS) for jj, pkey in enumerate(vis_players)}\n",
    "    \n",
    "    # split game summary into sentences\n",
    "    summ = \" \".join(entry['summary'])\n",
    "    \n",
    "    # list of strings, each string - sentence\n",
    "    sents = sent_tokenize(summ)\n",
    "    \n",
    "    words_so_far = 0\n",
    "    links = []\n",
    "    prev_ents = []\n",
    "    \n",
    "    # for j, sent in enumerate(sents):\n",
    "    \n",
    "    \n",
    "    \n",
    "    break"
   ]
  },
  {
   "cell_type": "code",
   "execution_count": null,
   "metadata": {},
   "outputs": [],
   "source": []
  },
  {
   "cell_type": "code",
   "execution_count": null,
   "metadata": {},
   "outputs": [],
   "source": []
  },
  {
   "cell_type": "code",
   "execution_count": null,
   "metadata": {},
   "outputs": [],
   "source": []
  },
  {
   "cell_type": "code",
   "execution_count": null,
   "metadata": {},
   "outputs": [],
   "source": []
  },
  {
   "cell_type": "code",
   "execution_count": null,
   "metadata": {},
   "outputs": [],
   "source": []
  },
  {
   "cell_type": "code",
   "execution_count": null,
   "metadata": {},
   "outputs": [],
   "source": []
  },
  {
   "cell_type": "code",
   "execution_count": null,
   "metadata": {},
   "outputs": [],
   "source": []
  },
  {
   "cell_type": "code",
   "execution_count": null,
   "metadata": {},
   "outputs": [],
   "source": []
  },
  {
   "cell_type": "code",
   "execution_count": null,
   "metadata": {},
   "outputs": [],
   "source": []
  },
  {
   "cell_type": "code",
   "execution_count": 178,
   "metadata": {},
   "outputs": [],
   "source": [
    "NUM_PLAYERS = 13\n",
    "\n",
    "def get_player_idxs(entry):\n",
    "    \n",
    "    nplayers = 0\n",
    "    home_players, vis_players = [], []\n",
    "    \n",
    "    for k,v in entry[\"box_score\"][\"PTS\"].items():\n",
    "        nplayers += 1\n",
    "\n",
    "    num_home, num_vis = 0, 0\n",
    "    \n",
    "    for i in range(nplayers):\n",
    "        player_city = entry[\"box_score\"][\"TEAM_CITY\"][str(i)]\n",
    "        if player_city == entry[\"home_city\"]:\n",
    "            if len(home_players) < NUM_PLAYERS:\n",
    "                home_players.append(str(i))\n",
    "                num_home += 1\n",
    "        else:\n",
    "            if len(vis_players) < NUM_PLAYERS:\n",
    "                vis_players.append(str(i))\n",
    "                num_vis += 1\n",
    "\n",
    "    if entry[\"home_city\"] == entry[\"vis_city\"] and entry[\"home_city\"] == \"Los Angeles\":\n",
    "        print(\"LA teams\")\n",
    "        home_players, vis_players = [], []\n",
    "        num_home, num_vis = 0, 0\n",
    "        for i in xrange(nplayers):\n",
    "            if len(vis_players) < NUM_PLAYERS:\n",
    "                vis_players.append(str(i))\n",
    "                num_vis += 1\n",
    "            elif len(home_players) < NUM_PLAYERS:\n",
    "                home_players.append(str(i))\n",
    "                num_home += 1\n",
    "\n",
    "    return home_players, vis_players"
   ]
  },
  {
   "cell_type": "code",
   "execution_count": null,
   "metadata": {},
   "outputs": [],
   "source": []
  },
  {
   "cell_type": "code",
   "execution_count": null,
   "metadata": {},
   "outputs": [],
   "source": []
  },
  {
   "cell_type": "code",
   "execution_count": null,
   "metadata": {},
   "outputs": [],
   "source": []
  },
  {
   "cell_type": "code",
   "execution_count": null,
   "metadata": {},
   "outputs": [],
   "source": []
  },
  {
   "cell_type": "code",
   "execution_count": null,
   "metadata": {},
   "outputs": [],
   "source": []
  },
  {
   "cell_type": "code",
   "execution_count": null,
   "metadata": {},
   "outputs": [],
   "source": [
    "# for each target word want to know where it could've been copied from\n",
    "def make_pointerfi(outfi, inp_file=\"rotowire/train.json\", content_plan_inp=\"rotowire/inter/train_content_plan\", resolve_prons=False):\n",
    "    \"\"\"\n",
    "    N.B. this function only looks at string equality in determining pointerness.\n",
    "    this means that if we sneak in pronoun strings as their referents, we won't point to the\n",
    "    pronoun if the referent appears in the table; we may use this tho to point to the correct number\n",
    "    \"\"\"\n",
    "    with codecs.open(inp_file, \"r\", \"utf-8\") as f:\n",
    "        trdata = json.load(f)\n",
    "\n",
    "    with codecs.open(content_plan_inp, \"r\", \"utf-8\") as f:\n",
    "        content_plan = f.readlines()\n",
    "    content_plan = [[record.replace(u\"￨\",\"|\") for record in x.strip().split()] for x in content_plan]\n",
    "    rulsrcs = box_preproc2(content_plan)\n",
    "\n",
    "    all_ents, players, teams, cities = get_ents(trdata)\n",
    "\n",
    "    skipped = 0\n",
    "    train_links = []\n",
    "    for i, entry in enumerate(trdata):\n",
    "        content_plan_entry = [content_plan_record for content_plan_record in content_plan[i]]\n",
    "        content_plan_values = rulsrcs[i]\n",
    "        home_players, vis_players = get_player_idxs(entry)\n",
    "        inv_home_players = {pkey: jj for jj, pkey in enumerate(home_players)}\n",
    "        inv_vis_players  = {pkey: (jj + NUM_PLAYERS) for jj, pkey in enumerate(vis_players)}\n",
    "        summ = \" \".join(entry['summary'])\n",
    "        sents = sent_tokenize(summ)\n",
    "        words_so_far = 0\n",
    "        links = []\n",
    "        prev_ents = []\n",
    "        for j, sent in enumerate(sents):\n",
    "            tokes = word_tokenize(sent) # just assuming this gives me back original tokenization\n",
    "            #tokes = sent.split()\n",
    "            ents = extract_entities(tokes, all_ents, prons, prev_ents, resolve_prons,\n",
    "                players, teams, cities)\n",
    "            if resolve_prons:\n",
    "                prev_ents.append(ents)\n",
    "            nums = extract_numbers(tokes)\n",
    "            # should return a list of (enttup, numtup, rel-name, identifier) for each rel licensed by the table\n",
    "            rels = get_rels(entry, ents, nums, players, teams, cities)\n",
    "            for (enttup, numtup, label, idthing) in rels:\n",
    "                if label != 'NONE':\n",
    "                    # try to find corresponding words (for both ents and nums)\n",
    "                    ent_start, ent_end, entspan, _ = enttup\n",
    "                    num_start, num_end, numspan = numtup\n",
    "                    if isinstance(idthing, bool): # city or team\n",
    "                        # get entity indices if any\n",
    "                        for k, word in enumerate(tokes[ent_start:ent_end]):\n",
    "                            src_idx = None\n",
    "                            if word in (entry[\"home_name\"], entry[\"home_city\"], entry[\"vis_name\"], entry[\"vis_city\"]):\n",
    "                                src_idx = content_plan_values.index(word) if word in content_plan_values else -1\n",
    "                            if src_idx is not None and src_idx != -1:\n",
    "                                targ_idx = words_so_far + ent_start + k\n",
    "                                if targ_idx >= len(entry[\"summary\"]) or entry[\"summary\"][targ_idx] != word:\n",
    "                                    targ_idx = fix_target_idx(entry[\"summary\"], targ_idx, word)\n",
    "                                if targ_idx is None:\n",
    "                                    skipped += 1\n",
    "                                else:\n",
    "                                    assert rulsrcs[i][src_idx] == word and entry[\"summary\"][targ_idx] == word\n",
    "                                    links.append((src_idx, targ_idx))  # src_idx, target_idx\n",
    "\n",
    "                        # get num indices if any\n",
    "                        for k, word in enumerate(tokes[num_start:num_end]):\n",
    "                            src_idx = None\n",
    "                            if idthing: # home, so look in the home row\n",
    "                                if entry[\"home_line\"][label] == word:\n",
    "                                    lookup_record = create_lookup_record(word,\n",
    "                                                                         entry[\"home_line\"][\"TEAM-NAME\"].replace(\" \",\"_\"),\n",
    "                                                                         label,\n",
    "                                                                         HOME)\n",
    "                                    src_idx = content_plan_entry.index(lookup_record) if lookup_record in content_plan_entry else -1\n",
    "                            else:\n",
    "                                if entry[\"vis_line\"][label] == word:\n",
    "                                    lookup_record = create_lookup_record(word,\n",
    "                                                                         entry[\"vis_line\"][\"TEAM-NAME\"].replace(\" \",\"_\"),\n",
    "                                                                         label,\n",
    "                                                                         AWAY)\n",
    "                                    src_idx = content_plan_entry.index(lookup_record) if lookup_record in content_plan_entry else -1\n",
    "                            if src_idx is not None and src_idx != -1:\n",
    "                                targ_idx = words_so_far + num_start + k\n",
    "                                if targ_idx >= len(entry[\"summary\"]) or entry[\"summary\"][targ_idx] != word:\n",
    "                                    targ_idx = fix_target_idx(entry[\"summary\"], targ_idx, word)\n",
    "                                if targ_idx is None:\n",
    "                                    skipped += 1\n",
    "                                else:\n",
    "                                    assert rulsrcs[i][src_idx] == word and entry[\"summary\"][targ_idx] == word\n",
    "                                    links.append((src_idx, targ_idx))\n",
    "                    else: # players\n",
    "                        # get row corresponding to this player\n",
    "                        player_row = None\n",
    "                        is_home = False\n",
    "                        is_vis = False\n",
    "                        if idthing in inv_home_players:\n",
    "                            player_row = inv_home_players[idthing]\n",
    "                            is_home = True\n",
    "                        elif idthing in inv_vis_players:\n",
    "                            player_row = inv_vis_players[idthing]\n",
    "                            is_vis = True\n",
    "                        if player_row is not None:\n",
    "                            player_identity = entry[\"box_score\"]['PLAYER_NAME'][idthing].replace(\" \", \"_\")\n",
    "                            for k, word in enumerate(tokes[ent_start:ent_end]):\n",
    "                                src_idx = None\n",
    "                                if word == entry[\"box_score\"][\"FIRST_NAME\"][idthing]:\n",
    "                                    lookup_record = create_lookup_record(word,\n",
    "                                                                         player_identity,\n",
    "                                                                         \"FIRST_NAME\",\n",
    "                                                                         HOME if is_home else AWAY)\n",
    "                                    src_idx = content_plan_entry.index(lookup_record) if lookup_record in content_plan_entry else -1\n",
    "                                elif word == entry[\"box_score\"][\"SECOND_NAME\"][idthing]:\n",
    "                                    lookup_record = create_lookup_record(word,\n",
    "                                                                         player_identity,\n",
    "                                                                         \"SECOND_NAME\",\n",
    "                                                                         HOME if is_home else AWAY)\n",
    "                                    src_idx = content_plan_entry.index(lookup_record) if lookup_record in content_plan_entry else -1\n",
    "                                if src_idx is not None and src_idx != -1:\n",
    "                                    targ_idx = words_so_far + ent_start + k\n",
    "                                    if entry[\"summary\"][targ_idx] != word:\n",
    "                                        targ_idx = fix_target_idx(entry[\"summary\"], targ_idx, word)\n",
    "                                    if targ_idx is None:\n",
    "                                        skipped += 1\n",
    "                                    else:\n",
    "                                        assert rulsrcs[i][src_idx] == word and entry[\"summary\"][targ_idx] == word\n",
    "                                        links.append((src_idx, targ_idx))  # src_idx, target_idx\n",
    "                            # num links\n",
    "                            for k, word in enumerate(tokes[num_start:num_end]):\n",
    "                                src_idx = None\n",
    "                                if word == entry[\"box_score\"][label.split('-')[1]][idthing]:\n",
    "                                    lookup_record = create_lookup_record(word,\n",
    "                                                                         player_identity,\n",
    "                                                                         label.split('-')[1],\n",
    "                                                                         HOME if is_home else AWAY)\n",
    "                                    src_idx = content_plan_entry.index(lookup_record) if lookup_record in content_plan_entry else -1\n",
    "\n",
    "                                if src_idx is not None and src_idx != -1:\n",
    "                                    targ_idx = words_so_far + num_start + k\n",
    "                                    if targ_idx >= len(entry[\"summary\"]) or entry[\"summary\"][targ_idx] != word:\n",
    "                                        targ_idx = fix_target_idx(entry[\"summary\"], targ_idx, word)\n",
    "                                    if targ_idx is None:\n",
    "                                        skipped += 1\n",
    "                                    else:\n",
    "                                        assert rulsrcs[i][src_idx] == word and entry[\"summary\"][targ_idx] == word\n",
    "                                        links.append((src_idx, targ_idx))\n",
    "\n",
    "            words_so_far += len(tokes)\n",
    "        train_links.append(links)\n",
    "    print \"SKIPPED\", skipped\n",
    "\n",
    "    # collapse multiple links\n",
    "    trlink_dicts = []\n",
    "    for links in train_links:\n",
    "        links_dict = defaultdict(list)\n",
    "        [links_dict[targ_idx].append(src_idx) for src_idx, targ_idx in links]\n",
    "        trlink_dicts.append(links_dict)\n",
    "\n",
    "    # write in fmt:\n",
    "    # targ_idx,src_idx1[,src_idx...]\n",
    "    with open(outfi, \"w+\") as f:\n",
    "        for links_dict in trlink_dicts:\n",
    "            targ_idxs = sorted(links_dict.keys())\n",
    "            fmtd = [\",\".join([str(targ_idx)]+[str(thing) for thing in set(links_dict[targ_idx])])\n",
    "                       for targ_idx in targ_idxs]\n",
    "            f.write(\"%s\\n\" % \" \".join(fmtd))"
   ]
  },
  {
   "cell_type": "code",
   "execution_count": null,
   "metadata": {},
   "outputs": [],
   "source": []
  },
  {
   "cell_type": "code",
   "execution_count": null,
   "metadata": {},
   "outputs": [],
   "source": []
  },
  {
   "cell_type": "code",
   "execution_count": null,
   "metadata": {},
   "outputs": [],
   "source": []
  },
  {
   "cell_type": "markdown",
   "metadata": {},
   "source": [
    "To-Do   \n",
    "- check whether content plan starts with PRODUCT_NAME - if not - ADD PRODUCT_NAME to be 1st record\n",
    "- add assert statements to make sure everything is ok\n",
    "- syntax chars are not separate tokens in tgt_train.txt\n",
    "- how to handle 2-word tokens? after NER I have e.g. 'immunodeficiency_syndrome' or 'hiv_infection, soooo should in target (tgt_train.txt) also be 'immunodeficiency syndrome' -----> 'immunodeficiency_syndrome' \n",
    "\n",
    "\n",
    "in text:   \n",
    "\\uf0a7"
   ]
  },
  {
   "cell_type": "code",
   "execution_count": null,
   "metadata": {},
   "outputs": [],
   "source": []
  },
  {
   "cell_type": "code",
   "execution_count": null,
   "metadata": {},
   "outputs": [],
   "source": []
  },
  {
   "cell_type": "code",
   "execution_count": null,
   "metadata": {},
   "outputs": [],
   "source": []
  },
  {
   "cell_type": "code",
   "execution_count": null,
   "metadata": {},
   "outputs": [],
   "source": []
  },
  {
   "cell_type": "code",
   "execution_count": null,
   "metadata": {},
   "outputs": [],
   "source": []
  },
  {
   "cell_type": "code",
   "execution_count": 66,
   "metadata": {},
   "outputs": [
    {
     "data": {
      "text/plain": [
       "'The Celtics saw great team play in their Christmas Day win , and it translated to the box score . Boston had 25 assists to just 11 for New York , and the team committed just six turnovers on the night . All-Star Isaiah Thomas once again led Boston with 27 points , while star center Al Horford scored 15 points and stuffed the stat sheet with seven rebounds , five assists , three steals , and two blocks . Third-year point guard Marcus Smart impressed off the bench , dishing seven assists and scoring 15 points including the game - winning three - pointer . New York , meanwhile , saw solid play from its stars . Sophomore big man Kristaps Porzingis had 22 points and 12 rebounds as well as four blocks . All-Star Carmelo Anthony had 29 points , 22 of which came in the second half . Point guard Derrick Rose also had 25 points in one of his highest - scoring outings of the season .\\n'"
      ]
     },
     "execution_count": 66,
     "metadata": {},
     "output_type": "execute_result"
    }
   ],
   "source": [
    "'The Celtics saw great team play in their Christmas Day win , and it translated to the box score . Boston had 25 assists to just 11 for New York , and the team committed just six turnovers on the night . All-Star Isaiah Thomas once again led Boston with 27 points , while star center Al Horford scored 15 points and stuffed the stat sheet with seven rebounds , five assists , three steals , and two blocks . Third-year point guard Marcus Smart impressed off the bench , dishing seven assists and scoring 15 points including the game - winning three - pointer . New York , meanwhile , saw solid play from its stars . Sophomore big man Kristaps Porzingis had 22 points and 12 rebounds as well as four blocks . All-Star Carmelo Anthony had 29 points , 22 of which came in the second half . Point guard Derrick Rose also had 25 points in one of his highest - scoring outings of the season .\\n'"
   ]
  },
  {
   "cell_type": "code",
   "execution_count": null,
   "metadata": {},
   "outputs": [],
   "source": []
  },
  {
   "cell_type": "code",
   "execution_count": null,
   "metadata": {},
   "outputs": [],
   "source": [
    "class SectionLeaflet:\n",
    "    def __init__(self, title, section_content, entity_recognition):\n",
    "        self.title = title\n",
    "        self.section_content = section_content\n",
    "        self.entity_recognition = entity_recognition\n",
    "\n",
    "    def get_info(self):\n",
    "        print(\"The name of the section: \\n\", self.title, \"\\n===================\\n\")\n",
    "        print(\"The content of the section: \\n\", self.section_content, \"\\n===================\\n\")\n",
    "        print(\"Named entity recognition: \\n\", self.entity_recognition, \"\\n===================\\n\")\n",
    "\n",
    "\n",
    "class Leaflet:\n",
    "    def __init__(self, product_name, product_url, product_id, product_content, section1_obj=None):\n",
    "        self.product_name = product_name\n",
    "        self.url = product_url\n",
    "        self.id = product_id\n",
    "        self.content = product_content\n",
    "\n",
    "        # extract sections later\n",
    "        self.section1 = section1_obj\n",
    "\n",
    "    def display_info(self):\n",
    "        print(\"Product Name: \\n\", self.product_name, \"\\n===================\\n\")\n",
    "        print(\"Url: \\n\", self.url, \"\\n===================\\n\")\n",
    "        print(\"Product ID: \\n\", self.id, \"\\n===================\\n\")\n",
    "        print(\"Content: \\n\", self.content, \"\\n===================\\n\")\n",
    "\n",
    "    def print_section1(self):\n",
    "        if self.section1 is not None:\n",
    "            self.section1.get_info()\n",
    "        else:\n",
    "            print(\"No section1 in the current leaflet\")"
   ]
  },
  {
   "cell_type": "code",
   "execution_count": null,
   "metadata": {},
   "outputs": [],
   "source": []
  },
  {
   "cell_type": "code",
   "execution_count": null,
   "metadata": {},
   "outputs": [],
   "source": []
  },
  {
   "cell_type": "code",
   "execution_count": null,
   "metadata": {},
   "outputs": [],
   "source": []
  },
  {
   "cell_type": "code",
   "execution_count": null,
   "metadata": {},
   "outputs": [],
   "source": []
  },
  {
   "cell_type": "code",
   "execution_count": null,
   "metadata": {},
   "outputs": [],
   "source": []
  },
  {
   "cell_type": "code",
   "execution_count": null,
   "metadata": {},
   "outputs": [],
   "source": []
  },
  {
   "cell_type": "code",
   "execution_count": null,
   "metadata": {},
   "outputs": [],
   "source": []
  },
  {
   "cell_type": "code",
   "execution_count": null,
   "metadata": {},
   "outputs": [],
   "source": []
  },
  {
   "cell_type": "code",
   "execution_count": null,
   "metadata": {},
   "outputs": [],
   "source": []
  },
  {
   "cell_type": "code",
   "execution_count": null,
   "metadata": {},
   "outputs": [],
   "source": [
    "output_instances = []\n",
    "instance_count = -1 #exclude the first blank line of output\n",
    "output = []\n",
    "outputs =[]\n",
    "exists = set()\n",
    "name_exists = set()\n",
    "summaries = []\n",
    "src_instances = []\n",
    "src_instance = ''\n",
    "summary = ''\n",
    "\n",
    "output_file = open(INTER_CONTENT_PLAN, 'w')\n",
    "for output in outputs:\n",
    "    output_file.write(output.encode(\"utf-8\"))\n",
    "    output_file.write('\\n')\n",
    "output_file.close()\n",
    "\n",
    "summary_file = open(TRAIN_TGT_FILE,'w')\n",
    "for summary in summaries:\n",
    "    summary = [word.encode(\"utf-8\") for word in summary]\n",
    "    summary_file.write(\" \".join(summary))\n",
    "    summary_file.write(\"\\n\")\n",
    "summary_file.close()\n",
    "\n",
    "src_file = open(SRC_FILE, 'w')\n",
    "for src_instance in src_instances:\n",
    "    src_file.write(src_instance.encode(\"utf-8\"))\n",
    "    src_file.write(\"\\n\")\n",
    "src_file.close()"
   ]
  },
  {
   "cell_type": "code",
   "execution_count": null,
   "metadata": {},
   "outputs": [],
   "source": []
  },
  {
   "cell_type": "markdown",
   "metadata": {},
   "source": [
    "### Total number of records\n",
    "\n",
    "\n",
    "In my data2text project, the dataset RotoWire has total of 606 records. That is the reason I set the TGT_VOCAB_SIZE as 606. The Pointer Network points to one of the 606 input records.   \n",
    "In the second stage of summary generation, the weight is set to the output vocabulary of summary text.   \n",
    "Assuming you too have a two stage setup, you may need to change the weight in the NLLLoss criterion accordingly.   "
   ]
  },
  {
   "cell_type": "code",
   "execution_count": 3,
   "metadata": {},
   "outputs": [],
   "source": [
    "with open('rotowire/src_train.txt') as reader:\n",
    "    # This reads the remaining lines from the file object and returns them as a list.\n",
    "    nba_src_train = reader.readlines()"
   ]
  },
  {
   "cell_type": "code",
   "execution_count": 4,
   "metadata": {},
   "outputs": [
    {
     "data": {
      "text/plain": [
       "3371"
      ]
     },
     "execution_count": 4,
     "metadata": {},
     "output_type": "execute_result"
    }
   ],
   "source": [
    "len(nba_src_train)"
   ]
  },
  {
   "cell_type": "code",
   "execution_count": 9,
   "metadata": {},
   "outputs": [],
   "source": [
    "number_NBA_records = 0\n",
    "\n",
    "unique_NBA_records = set()\n",
    "\n",
    "for nba_game in nba_src_train:\n",
    "    \n",
    "    collection_records = nba_game.split()\n",
    "    \n",
    "    for record in collection_records:\n",
    "        number_NBA_records += 1\n",
    "        unique_NBA_records.add(record)"
   ]
  },
  {
   "cell_type": "code",
   "execution_count": 11,
   "metadata": {},
   "outputs": [
    {
     "data": {
      "text/plain": [
       "243613"
      ]
     },
     "execution_count": 11,
     "metadata": {},
     "output_type": "execute_result"
    }
   ],
   "source": [
    "len(unique_NBA_records)"
   ]
  },
  {
   "cell_type": "code",
   "execution_count": 12,
   "metadata": {},
   "outputs": [
    {
     "data": {
      "text/plain": [
       "2042826"
      ]
     },
     "execution_count": 12,
     "metadata": {},
     "output_type": "execute_result"
    }
   ],
   "source": [
    "number_NBA_records"
   ]
  },
  {
   "cell_type": "markdown",
   "metadata": {},
   "source": [
    "Maybe unique Values?"
   ]
  },
  {
   "cell_type": "code",
   "execution_count": 72,
   "metadata": {},
   "outputs": [],
   "source": [
    "num_val_records = 0\n",
    "\n",
    "unique_val_records = set()\n",
    "\n",
    "\n",
    "for nba_game in nba_src_train:\n",
    "    \n",
    "    collection_records = nba_game.split()\n",
    "    \n",
    "    for record in collection_records:\n",
    "        \n",
    "        # USE SPECIAL DELIM\n",
    "        record_value = record.split('￨')[0]\n",
    "        \n",
    "        # verify splitting works properly\n",
    "        assert len(record.split('￨')) == 4\n",
    "        \n",
    "        num_val_records += 1\n",
    "        unique_val_records.add(record_value)"
   ]
  },
  {
   "cell_type": "code",
   "execution_count": 74,
   "metadata": {},
   "outputs": [
    {
     "data": {
      "text/plain": [
       "1164"
      ]
     },
     "execution_count": 74,
     "metadata": {},
     "output_type": "execute_result"
    }
   ],
   "source": [
    "len(unique_val_records)"
   ]
  },
  {
   "cell_type": "code",
   "execution_count": null,
   "metadata": {},
   "outputs": [],
   "source": [
    "### DELIM is DIFFERENT !!!"
   ]
  },
  {
   "cell_type": "code",
   "execution_count": 55,
   "metadata": {},
   "outputs": [],
   "source": [
    "DELIM = '￨'"
   ]
  },
  {
   "cell_type": "code",
   "execution_count": 36,
   "metadata": {},
   "outputs": [],
   "source": [
    "record = nba_src_train[0].split()[245]"
   ]
  },
  {
   "cell_type": "code",
   "execution_count": 37,
   "metadata": {},
   "outputs": [
    {
     "data": {
      "text/plain": [
       "'Kuzminskas￨Mindaugas_Kuzminskas￨SECOND_NAME￨HOME'"
      ]
     },
     "execution_count": 37,
     "metadata": {},
     "output_type": "execute_result"
    }
   ],
   "source": [
    "record"
   ]
  },
  {
   "cell_type": "code",
   "execution_count": 38,
   "metadata": {},
   "outputs": [
    {
     "data": {
      "text/plain": [
       "'Kuzminskas|Mindaugas_Kuzminskas|SECOND_NAME|HOME'"
      ]
     },
     "execution_count": 38,
     "metadata": {},
     "output_type": "execute_result"
    }
   ],
   "source": [
    "# BUT!!!! Here we are replacing the DELIM with a Normal (my) one\n",
    "\n",
    "record.replace(u\"￨\",\"|\")"
   ]
  },
  {
   "cell_type": "code",
   "execution_count": 51,
   "metadata": {},
   "outputs": [
    {
     "data": {
      "text/plain": [
       "'￨'"
      ]
     },
     "execution_count": 51,
     "metadata": {},
     "output_type": "execute_result"
    }
   ],
   "source": [
    "record[10]"
   ]
  },
  {
   "cell_type": "code",
   "execution_count": 53,
   "metadata": {},
   "outputs": [
    {
     "data": {
      "text/plain": [
       "['Kuzminskas', 'Mindaugas_Kuzminskas', 'SECOND_NAME', 'HOME']"
      ]
     },
     "execution_count": 53,
     "metadata": {},
     "output_type": "execute_result"
    }
   ],
   "source": [
    "record.split('￨')"
   ]
  },
  {
   "cell_type": "code",
   "execution_count": null,
   "metadata": {},
   "outputs": [],
   "source": [
    "instances = []\n",
    "for entry in content_plan_inp:\n",
    "    record_values = [record.split(DELIM)[0] for record in entry]\n",
    "    instances.append(record_values)"
   ]
  },
  {
   "cell_type": "markdown",
   "metadata": {},
   "source": [
    "OH MY GOD!!!!\n",
    "\n",
    "what is the difference between '￨' and \"|\" ????????????????????\n",
    "\n",
    "in NBA and LEAFLETS - diffetent DELIM ??????????????"
   ]
  },
  {
   "cell_type": "code",
   "execution_count": 60,
   "metadata": {},
   "outputs": [],
   "source": [
    "special_symbol_pudupully = '￨'\n",
    "\n",
    "special_symbol_my = '|'"
   ]
  },
  {
   "cell_type": "code",
   "execution_count": 64,
   "metadata": {},
   "outputs": [
    {
     "name": "stdout",
     "output_type": "stream",
     "text": [
      "The special_symbol_pudupully:  ￨ is 65512\n",
      "The special_symbol_my:  | is 124\n"
     ]
    }
   ],
   "source": [
    "# Given a string representing one Unicode character, return an integer representing the Unicode code point of that character\n",
    "\n",
    "print(\"The special_symbol_pudupully: \", special_symbol_pudupully, \"is\", ord(special_symbol_pudupully))\n",
    "\n",
    "print(\"The special_symbol_my: \", special_symbol_my, \"is\", ord(special_symbol_my))"
   ]
  },
  {
   "cell_type": "code",
   "execution_count": 68,
   "metadata": {},
   "outputs": [
    {
     "data": {
      "text/plain": [
       "'|'"
      ]
     },
     "execution_count": 68,
     "metadata": {},
     "output_type": "execute_result"
    }
   ],
   "source": [
    "chr(124)"
   ]
  },
  {
   "cell_type": "code",
   "execution_count": 69,
   "metadata": {},
   "outputs": [
    {
     "data": {
      "text/plain": [
       "'￨'"
      ]
     },
     "execution_count": 69,
     "metadata": {},
     "output_type": "execute_result"
    }
   ],
   "source": [
    "chr(65512)"
   ]
  },
  {
   "cell_type": "markdown",
   "metadata": {},
   "source": [
    "##### WHAT??????????????????????\n",
    "\n",
    "DELIM is different"
   ]
  },
  {
   "cell_type": "code",
   "execution_count": null,
   "metadata": {},
   "outputs": [],
   "source": []
  },
  {
   "cell_type": "code",
   "execution_count": null,
   "metadata": {},
   "outputs": [],
   "source": []
  },
  {
   "cell_type": "code",
   "execution_count": null,
   "metadata": {},
   "outputs": [],
   "source": []
  },
  {
   "cell_type": "code",
   "execution_count": null,
   "metadata": {},
   "outputs": [],
   "source": []
  },
  {
   "cell_type": "code",
   "execution_count": null,
   "metadata": {},
   "outputs": [],
   "source": []
  },
  {
   "cell_type": "code",
   "execution_count": null,
   "metadata": {},
   "outputs": [],
   "source": []
  },
  {
   "cell_type": "code",
   "execution_count": null,
   "metadata": {},
   "outputs": [],
   "source": []
  },
  {
   "cell_type": "markdown",
   "metadata": {},
   "source": [
    "### Check !inter! content plan"
   ]
  },
  {
   "cell_type": "code",
   "execution_count": 2,
   "metadata": {},
   "outputs": [],
   "source": [
    "with open('rotowire/inter/train_content_plan.txt') as reader:\n",
    "    # This reads the remaining lines from the file object and returns them as a list.\n",
    "    nba_contentplan_train = reader.readlines()"
   ]
  },
  {
   "cell_type": "code",
   "execution_count": 3,
   "metadata": {},
   "outputs": [
    {
     "data": {
      "text/plain": [
       "'Boston￨Celtics￨TEAM-CITY￨AWAY Celtics￨Celtics￨TEAM-NAME￨AWAY 25￨Celtics￨TEAM-AST￨AWAY Isaiah￨Isaiah_Thomas￨FIRST_NAME￨AWAY Thomas￨Isaiah_Thomas￨SECOND_NAME￨AWAY 27￨Isaiah_Thomas￨PTS￨AWAY Al￨Al_Horford￨FIRST_NAME￨AWAY Horford￨Al_Horford￨SECOND_NAME￨AWAY 15￨Al_Horford￨PTS￨AWAY 7￨Al_Horford￨REB￨AWAY 5￨Al_Horford￨AST￨AWAY 3￨Al_Horford￨STL￨AWAY Marcus￨Marcus_Smart￨FIRST_NAME￨AWAY Smart￨Marcus_Smart￨SECOND_NAME￨AWAY 7￨Marcus_Smart￨AST￨AWAY 15￨Marcus_Smart￨PTS￨AWAY Kristaps￨Kristaps_Porzingis￨FIRST_NAME￨HOME Porzingis￨Kristaps_Porzingis￨SECOND_NAME￨HOME 22￨Kristaps_Porzingis￨PTS￨HOME 12￨Kristaps_Porzingis￨REB￨HOME Carmelo￨Carmelo_Anthony￨FIRST_NAME￨HOME Anthony￨Carmelo_Anthony￨SECOND_NAME￨HOME 29￨Carmelo_Anthony￨PTS￨HOME Derrick￨Derrick_Rose￨FIRST_NAME￨HOME Rose￨Derrick_Rose￨SECOND_NAME￨HOME 25￨Derrick_Rose￨PTS￨HOME \\n'"
      ]
     },
     "execution_count": 3,
     "metadata": {},
     "output_type": "execute_result"
    }
   ],
   "source": [
    "nba_contentplan_train[0]"
   ]
  },
  {
   "cell_type": "code",
   "execution_count": 4,
   "metadata": {},
   "outputs": [
    {
     "data": {
      "text/plain": [
       "3371"
      ]
     },
     "execution_count": 4,
     "metadata": {},
     "output_type": "execute_result"
    }
   ],
   "source": [
    "len(nba_contentplan_train)"
   ]
  },
  {
   "cell_type": "code",
   "execution_count": 5,
   "metadata": {},
   "outputs": [],
   "source": [
    "number_NBA_records_plan = 0\n",
    "\n",
    "unique_NBA_records_plan = set()\n",
    "\n",
    "for nba_game in nba_contentplan_train:\n",
    "    \n",
    "    collection_records = nba_game.split()\n",
    "    \n",
    "    for record in collection_records:\n",
    "        number_NBA_records_plan += 1\n",
    "        unique_NBA_records_plan.add(record)"
   ]
  },
  {
   "cell_type": "code",
   "execution_count": 6,
   "metadata": {},
   "outputs": [
    {
     "data": {
      "text/plain": [
       "43418"
      ]
     },
     "execution_count": 6,
     "metadata": {},
     "output_type": "execute_result"
    }
   ],
   "source": [
    "len(unique_NBA_records_plan)"
   ]
  },
  {
   "cell_type": "code",
   "execution_count": 7,
   "metadata": {},
   "outputs": [
    {
     "data": {
      "text/plain": [
       "128268"
      ]
     },
     "execution_count": 7,
     "metadata": {},
     "output_type": "execute_result"
    }
   ],
   "source": [
    "number_NBA_records_plan"
   ]
  },
  {
   "cell_type": "markdown",
   "metadata": {},
   "source": [
    "Maybe in Unique Values in content plan?"
   ]
  },
  {
   "cell_type": "code",
   "execution_count": 8,
   "metadata": {},
   "outputs": [],
   "source": [
    "num_val_records_plan = 0\n",
    "\n",
    "unique_val_records_plan = set()\n",
    "\n",
    "\n",
    "for nba_game in nba_contentplan_train:\n",
    "    \n",
    "    collection_records = nba_game.split()\n",
    "    \n",
    "    for record in collection_records:\n",
    "        \n",
    "        # USE SPECIAL DELIM\n",
    "        record_value = record.split('￨')[0]\n",
    "        \n",
    "        # verify splitting works properly\n",
    "        assert len(record.split('￨')) == 4\n",
    "        \n",
    "        num_val_records_plan += 1\n",
    "        unique_val_records_plan.add(record_value)"
   ]
  },
  {
   "cell_type": "code",
   "execution_count": 9,
   "metadata": {},
   "outputs": [
    {
     "data": {
      "text/plain": [
       "954"
      ]
     },
     "execution_count": 9,
     "metadata": {},
     "output_type": "execute_result"
    }
   ],
   "source": [
    "len(unique_val_records_plan)"
   ]
  },
  {
   "cell_type": "code",
   "execution_count": 10,
   "metadata": {},
   "outputs": [
    {
     "data": {
      "text/plain": [
       "128268"
      ]
     },
     "execution_count": 10,
     "metadata": {},
     "output_type": "execute_result"
    }
   ],
   "source": [
    "num_val_records_plan"
   ]
  },
  {
   "cell_type": "markdown",
   "metadata": {},
   "source": [
    "### Check just content plan"
   ]
  },
  {
   "cell_type": "code",
   "execution_count": 30,
   "metadata": {},
   "outputs": [],
   "source": [
    "with open('rotowire/train_content_plan.txt') as reader:\n",
    "    # This reads the remaining lines from the file object and returns them as a list.\n",
    "    nba_pointerplan_train = reader.readlines()"
   ]
  },
  {
   "cell_type": "code",
   "execution_count": 31,
   "metadata": {},
   "outputs": [],
   "source": [
    "a = 0\n",
    "for i in nba_pointerplan_train:\n",
    "    collection_records = i.split()\n",
    "    \n",
    "    for record in collection_records:\n",
    "        if int(record) >= maxy:\n",
    "            a = int(record)"
   ]
  },
  {
   "cell_type": "code",
   "execution_count": 32,
   "metadata": {},
   "outputs": [
    {
     "data": {
      "text/plain": [
       "605"
      ]
     },
     "execution_count": 32,
     "metadata": {},
     "output_type": "execute_result"
    }
   ],
   "source": [
    "a"
   ]
  },
  {
   "cell_type": "code",
   "execution_count": null,
   "metadata": {},
   "outputs": [],
   "source": []
  },
  {
   "cell_type": "code",
   "execution_count": 12,
   "metadata": {},
   "outputs": [
    {
     "data": {
      "text/plain": [
       "3371"
      ]
     },
     "execution_count": 12,
     "metadata": {},
     "output_type": "execute_result"
    }
   ],
   "source": [
    "len(nba_pointerplan_train)"
   ]
  },
  {
   "cell_type": "code",
   "execution_count": 27,
   "metadata": {},
   "outputs": [
    {
     "data": {
      "text/plain": [
       "'604 605 600 398 399 380 354 355 336 348 349 351 442 443 437 424 46 47 28 40 24 25 6 112 113 94\\n'"
      ]
     },
     "execution_count": 27,
     "metadata": {},
     "output_type": "execute_result"
    }
   ],
   "source": [
    "nba_pointerplan_train[0]"
   ]
  },
  {
   "cell_type": "code",
   "execution_count": 14,
   "metadata": {},
   "outputs": [
    {
     "data": {
      "text/plain": [
       "'Boston￨Celtics￨TEAM-CITY￨AWAY Celtics￨Celtics￨TEAM-NAME￨AWAY 25￨Celtics￨TEAM-AST￨AWAY Isaiah￨Isaiah_Thomas￨FIRST_NAME￨AWAY Thomas￨Isaiah_Thomas￨SECOND_NAME￨AWAY 27￨Isaiah_Thomas￨PTS￨AWAY Al￨Al_Horford￨FIRST_NAME￨AWAY Horford￨Al_Horford￨SECOND_NAME￨AWAY 15￨Al_Horford￨PTS￨AWAY 7￨Al_Horford￨REB￨AWAY 5￨Al_Horford￨AST￨AWAY 3￨Al_Horford￨STL￨AWAY Marcus￨Marcus_Smart￨FIRST_NAME￨AWAY Smart￨Marcus_Smart￨SECOND_NAME￨AWAY 7￨Marcus_Smart￨AST￨AWAY 15￨Marcus_Smart￨PTS￨AWAY Kristaps￨Kristaps_Porzingis￨FIRST_NAME￨HOME Porzingis￨Kristaps_Porzingis￨SECOND_NAME￨HOME 22￨Kristaps_Porzingis￨PTS￨HOME 12￨Kristaps_Porzingis￨REB￨HOME Carmelo￨Carmelo_Anthony￨FIRST_NAME￨HOME Anthony￨Carmelo_Anthony￨SECOND_NAME￨HOME 29￨Carmelo_Anthony￨PTS￨HOME Derrick￨Derrick_Rose￨FIRST_NAME￨HOME Rose￨Derrick_Rose￨SECOND_NAME￨HOME 25￨Derrick_Rose￨PTS￨HOME \\n'"
      ]
     },
     "execution_count": 14,
     "metadata": {},
     "output_type": "execute_result"
    }
   ],
   "source": [
    "nba_contentplan_train[0]"
   ]
  },
  {
   "cell_type": "code",
   "execution_count": 18,
   "metadata": {},
   "outputs": [],
   "source": [
    "# basically - now content plan POINTs to index in the training dataset\n",
    "# content_plan - collection of indexes where each index points to record in training dataset - training_dataset[index]    \n",
    "\n",
    "\n",
    "outputs = []\n",
    "\n",
    "for i, training_sample in enumerate(nba_src_train):\n",
    "    \n",
    "    training_sample = training_sample.split()\n",
    "    \n",
    "    content_plan = nba_contentplan_train[i]\n",
    "    content_plan = content_plan.split()\n",
    "    \n",
    "    output = []\n",
    "    for record in content_plan:\n",
    "        output.append(str(training_sample.index(record)))\n",
    "    outputs.append(\" \".join(output))"
   ]
  },
  {
   "cell_type": "code",
   "execution_count": 19,
   "metadata": {},
   "outputs": [
    {
     "data": {
      "text/plain": [
       "'604 605 603 595 589 590 587 580 594 376 377 358 359 360 370 373 357 398 399 381 382 380 393 396 90 91 72 84 87'"
      ]
     },
     "execution_count": 19,
     "metadata": {},
     "output_type": "execute_result"
    }
   ],
   "source": [
    "outputs[100]"
   ]
  },
  {
   "cell_type": "code",
   "execution_count": 20,
   "metadata": {},
   "outputs": [
    {
     "data": {
      "text/plain": [
       "'604 605 603 595 589 590 587 580 594 376 377 358 359 360 370 373 357 398 399 381 382 380 393 396 90 91 72 84 87\\n'"
      ]
     },
     "execution_count": 20,
     "metadata": {},
     "output_type": "execute_result"
    }
   ],
   "source": [
    "nba_pointerplan_train[100]"
   ]
  },
  {
   "cell_type": "markdown",
   "metadata": {},
   "source": []
  },
  {
   "cell_type": "code",
   "execution_count": 21,
   "metadata": {},
   "outputs": [],
   "source": [
    "number_NBA_pointer_plan = 0\n",
    "\n",
    "unique_NBA_pointer_plan = set()\n",
    "\n",
    "for nba_game in nba_pointerplan_train:\n",
    "    \n",
    "    collection_records = nba_game.split()\n",
    "    \n",
    "    for record in collection_records:\n",
    "        number_NBA_pointer_plan += 1\n",
    "        unique_NBA_pointer_plan.add(record)"
   ]
  },
  {
   "cell_type": "code",
   "execution_count": 22,
   "metadata": {},
   "outputs": [
    {
     "data": {
      "text/plain": [
       "387"
      ]
     },
     "execution_count": 22,
     "metadata": {},
     "output_type": "execute_result"
    }
   ],
   "source": [
    "len(unique_NBA_pointer_plan)"
   ]
  },
  {
   "cell_type": "code",
   "execution_count": 23,
   "metadata": {},
   "outputs": [
    {
     "data": {
      "text/plain": [
       "128268"
      ]
     },
     "execution_count": 23,
     "metadata": {},
     "output_type": "execute_result"
    }
   ],
   "source": [
    "number_NBA_pointer_plan"
   ]
  },
  {
   "cell_type": "code",
   "execution_count": 28,
   "metadata": {},
   "outputs": [],
   "source": [
    "maxy = 0\n",
    "\n",
    "for i in unique_NBA_pointer_plan:\n",
    "    if int(i) >= maxy:\n",
    "        maxy = int(i)"
   ]
  },
  {
   "cell_type": "code",
   "execution_count": 29,
   "metadata": {},
   "outputs": [
    {
     "data": {
      "text/plain": [
       "605"
      ]
     },
     "execution_count": 29,
     "metadata": {},
     "output_type": "execute_result"
    }
   ],
   "source": [
    "maxy"
   ]
  },
  {
   "cell_type": "markdown",
   "metadata": {},
   "source": [
    "### Find such number for LEAFLET in same way "
   ]
  },
  {
   "cell_type": "code",
   "execution_count": 33,
   "metadata": {},
   "outputs": [],
   "source": [
    "with open('train_content_plan.txt') as reader:\n",
    "    # This reads the remaining lines from the file object and returns them as a list.\n",
    "    leaflets_pointerplan_train = reader.readlines()                               "
   ]
  },
  {
   "cell_type": "code",
   "execution_count": 34,
   "metadata": {},
   "outputs": [
    {
     "data": {
      "text/plain": [
       "1000"
      ]
     },
     "execution_count": 34,
     "metadata": {},
     "output_type": "execute_result"
    }
   ],
   "source": [
    "len(leaflets_pointerplan_train)"
   ]
  },
  {
   "cell_type": "code",
   "execution_count": 35,
   "metadata": {},
   "outputs": [],
   "source": [
    "with open('src_train.txt') as reader:\n",
    "    # This reads the remaining lines from the file object and returns them as a list.\n",
    "    leaflets_src_train = reader.readlines()"
   ]
  },
  {
   "cell_type": "code",
   "execution_count": 36,
   "metadata": {},
   "outputs": [],
   "source": [
    "with open('inter/train_content_plan.txt') as reader:\n",
    "    # This reads the remaining lines from the file object and returns them as a list.\n",
    "    leaflets_contentplan_train = reader.readlines()"
   ]
  },
  {
   "cell_type": "code",
   "execution_count": 37,
   "metadata": {},
   "outputs": [],
   "source": [
    "tmp_pointers = []\n",
    "\n",
    "for i, training_sample in enumerate(nba_src_train):\n",
    "    \n",
    "    training_sample = training_sample.split()\n",
    "    \n",
    "    content_plan = nba_contentplan_train[i]\n",
    "    content_plan = content_plan.split()\n",
    "    \n",
    "    output = []\n",
    "    for record in content_plan:\n",
    "        output.append(str(training_sample.index(record)))\n",
    "    \n",
    "    tmp_pointers.append(\" \".join(output))"
   ]
  },
  {
   "cell_type": "code",
   "execution_count": 38,
   "metadata": {},
   "outputs": [
    {
     "data": {
      "text/plain": [
       "3371"
      ]
     },
     "execution_count": 38,
     "metadata": {},
     "output_type": "execute_result"
    }
   ],
   "source": [
    "len(tmp_pointers)"
   ]
  },
  {
   "cell_type": "code",
   "execution_count": 39,
   "metadata": {},
   "outputs": [
    {
     "data": {
      "text/plain": [
       "'11 42 39 23 12 12 12 67 6 37 6 49 4 51 9 62 24 38 74 5 71 19 7 36 13 43 79 19 66 49 4 48 37 19 19 35 53 9 10 10 50 32 18 6 40 9 59 10 19 19 22 29 80 8 29 49 55 22 29 16 6 52 9 78 28 64 25 57 65 19 5 52 29 33 9 61 69 15\\n'"
      ]
     },
     "execution_count": 39,
     "metadata": {},
     "output_type": "execute_result"
    }
   ],
   "source": [
    "leaflets_pointerplan_train[0]"
   ]
  },
  {
   "cell_type": "code",
   "execution_count": 40,
   "metadata": {},
   "outputs": [
    {
     "data": {
      "text/plain": [
       "'604 605 600 398 399 380 354 355 336 348 349 351 442 443 437 424 46 47 28 40 24 25 6 112 113 94'"
      ]
     },
     "execution_count": 40,
     "metadata": {},
     "output_type": "execute_result"
    }
   ],
   "source": [
    "tmp_pointers[0]"
   ]
  },
  {
   "cell_type": "code",
   "execution_count": 41,
   "metadata": {},
   "outputs": [],
   "source": [
    "number_leaflet_pointer_plan = 0\n",
    "\n",
    "unique_leaflet_pointer_plan = set()\n",
    "\n",
    "for leaflet in leaflets_pointerplan_train:\n",
    "    \n",
    "    collection_records = leaflet.split()\n",
    "    \n",
    "    for record in collection_records:\n",
    "        number_leaflet_pointer_plan += 1\n",
    "        unique_leaflet_pointer_plan.add(record)"
   ]
  },
  {
   "cell_type": "code",
   "execution_count": 42,
   "metadata": {},
   "outputs": [
    {
     "data": {
      "text/plain": [
       "103"
      ]
     },
     "execution_count": 42,
     "metadata": {},
     "output_type": "execute_result"
    }
   ],
   "source": [
    "len(unique_leaflet_pointer_plan)"
   ]
  },
  {
   "cell_type": "code",
   "execution_count": 43,
   "metadata": {},
   "outputs": [],
   "source": [
    "maxy = 0\n",
    "\n",
    "for i in unique_leaflet_pointer_plan:\n",
    "    if int(i) >= maxy:\n",
    "        maxy = int(i)"
   ]
  },
  {
   "cell_type": "code",
   "execution_count": 44,
   "metadata": {},
   "outputs": [
    {
     "data": {
      "text/plain": [
       "106"
      ]
     },
     "execution_count": 44,
     "metadata": {},
     "output_type": "execute_result"
    }
   ],
   "source": [
    "maxy"
   ]
  },
  {
   "cell_type": "code",
   "execution_count": null,
   "metadata": {},
   "outputs": [],
   "source": []
  },
  {
   "cell_type": "code",
   "execution_count": null,
   "metadata": {},
   "outputs": [],
   "source": []
  },
  {
   "cell_type": "code",
   "execution_count": null,
   "metadata": {},
   "outputs": [],
   "source": []
  },
  {
   "cell_type": "code",
   "execution_count": 17,
   "metadata": {},
   "outputs": [],
   "source": [
    "# NBA\n",
    "with open('rotowire/src_train.txt') as reader:\n",
    "    # This reads the remaining lines from the file object and returns them as a list.\n",
    "    nba_src_train = reader.readlines()"
   ]
  },
  {
   "cell_type": "code",
   "execution_count": 127,
   "metadata": {},
   "outputs": [
    {
     "data": {
      "text/plain": [
       "\"<unk>￨<blank>￨<blank>￨<blank> <blank>￨<blank>￨<blank>￨<blank> <s>￨<blank>￨<blank>￨<blank> </s>￨<blank>￨<blank>￨<blank> F￨Carmelo_Anthony￨START_POSITION￨HOME 39￨Carmelo_Anthony￨MIN￨HOME 29￨Carmelo_Anthony￨PTS￨HOME 9￨Carmelo_Anthony￨FGM￨HOME 24￨Carmelo_Anthony￨FGA￨HOME 38￨Carmelo_Anthony￨FG_PCT￨HOME 2￨Carmelo_Anthony￨FG3M￨HOME 7￨Carmelo_Anthony￨FG3A￨HOME 29￨Carmelo_Anthony￨FG3_PCT￨HOME 9￨Carmelo_Anthony￨FTM￨HOME 9￨Carmelo_Anthony￨FTA￨HOME 100￨Carmelo_Anthony￨FT_PCT￨HOME 2￨Carmelo_Anthony￨OREB￨HOME 5￨Carmelo_Anthony￨DREB￨HOME 7￨Carmelo_Anthony￨REB￨HOME 2￨Carmelo_Anthony￨AST￨HOME 2￨Carmelo_Anthony￨TO￨HOME 1￨Carmelo_Anthony￨STL￨HOME 1￨Carmelo_Anthony￨BLK￨HOME 2￨Carmelo_Anthony￨PF￨HOME Carmelo￨Carmelo_Anthony￨FIRST_NAME￨HOME Anthony￨Carmelo_Anthony￨SECOND_NAME￨HOME F￨Kristaps_Porzingis￨START_POSITION￨HOME 37￨Kristaps_Porzingis￨MIN￨HOME 22￨Kristaps_Porzingis￨PTS￨HOME 9￨Kristaps_Porzingis￨FGM￨HOME 16￨Kristaps_Porzingis￨FGA￨HOME 56￨Kristaps_Porzingis￨FG_PCT￨HOME 2￨Kristaps_Porzingis￨FG3M￨HOME 4￨Kristaps_Porzingis￨FG3A￨HOME 50￨Kristaps_Porzingis￨FG3_PCT￨HOME 2￨Kristaps_Porzingis￨FTM￨HOME 2￨Kristaps_Porzingis￨FTA￨HOME 100￨Kristaps_Porzingis￨FT_PCT￨HOME 2￨Kristaps_Porzingis￨OREB￨HOME 10￨Kristaps_Porzingis￨DREB￨HOME 12￨Kristaps_Porzingis￨REB￨HOME 1￨Kristaps_Porzingis￨AST￨HOME 5￨Kristaps_Porzingis￨TO￨HOME 2￨Kristaps_Porzingis￨STL￨HOME 3￨Kristaps_Porzingis￨BLK￨HOME 4￨Kristaps_Porzingis￨PF￨HOME Kristaps￨Kristaps_Porzingis￨FIRST_NAME￨HOME Porzingis￨Kristaps_Porzingis￨SECOND_NAME￨HOME C￨Joakim_Noah￨START_POSITION￨HOME 28￨Joakim_Noah￨MIN￨HOME 8￨Joakim_Noah￨PTS￨HOME 3￨Joakim_Noah￨FGM￨HOME 4￨Joakim_Noah￨FGA￨HOME 75￨Joakim_Noah￨FG_PCT￨HOME 0￨Joakim_Noah￨FG3M￨HOME 0￨Joakim_Noah￨FG3A￨HOME 0￨Joakim_Noah￨FG3_PCT￨HOME 2￨Joakim_Noah￨FTM￨HOME 3￨Joakim_Noah￨FTA￨HOME 67￨Joakim_Noah￨FT_PCT￨HOME 5￨Joakim_Noah￨OREB￨HOME 7￨Joakim_Noah￨DREB￨HOME 12￨Joakim_Noah￨REB￨HOME 2￨Joakim_Noah￨AST￨HOME 0￨Joakim_Noah￨TO￨HOME 0￨Joakim_Noah￨STL￨HOME 0￨Joakim_Noah￨BLK￨HOME 4￨Joakim_Noah￨PF￨HOME Joakim￨Joakim_Noah￨FIRST_NAME￨HOME Noah￨Joakim_Noah￨SECOND_NAME￨HOME G￨Courtney_Lee￨START_POSITION￨HOME 34￨Courtney_Lee￨MIN￨HOME 11￨Courtney_Lee￨PTS￨HOME 4￨Courtney_Lee￨FGM￨HOME 9￨Courtney_Lee￨FGA￨HOME 44￨Courtney_Lee￨FG_PCT￨HOME 2￨Courtney_Lee￨FG3M￨HOME 6￨Courtney_Lee￨FG3A￨HOME 33￨Courtney_Lee￨FG3_PCT￨HOME 1￨Courtney_Lee￨FTM￨HOME 2￨Courtney_Lee￨FTA￨HOME 50￨Courtney_Lee￨FT_PCT￨HOME 1￨Courtney_Lee￨OREB￨HOME 2￨Courtney_Lee￨DREB￨HOME 3￨Courtney_Lee￨REB￨HOME 0￨Courtney_Lee￨AST￨HOME 0￨Courtney_Lee￨TO￨HOME 0￨Courtney_Lee￨STL￨HOME 2￨Courtney_Lee￨BLK￨HOME 3￨Courtney_Lee￨PF￨HOME Courtney￨Courtney_Lee￨FIRST_NAME￨HOME Lee￨Courtney_Lee￨SECOND_NAME￨HOME G￨Derrick_Rose￨START_POSITION￨HOME 38￨Derrick_Rose￨MIN￨HOME 25￨Derrick_Rose￨PTS￨HOME 10￨Derrick_Rose￨FGM￨HOME 19￨Derrick_Rose￨FGA￨HOME 53￨Derrick_Rose￨FG_PCT￨HOME 0￨Derrick_Rose￨FG3M￨HOME 0￨Derrick_Rose￨FG3A￨HOME 0￨Derrick_Rose￨FG3_PCT￨HOME 5￨Derrick_Rose￨FTM￨HOME 6￨Derrick_Rose￨FTA￨HOME 83￨Derrick_Rose￨FT_PCT￨HOME 3￨Derrick_Rose￨OREB￨HOME 2￨Derrick_Rose￨DREB￨HOME 5￨Derrick_Rose￨REB￨HOME 3￨Derrick_Rose￨AST￨HOME 3￨Derrick_Rose￨TO￨HOME 0￨Derrick_Rose￨STL￨HOME 0￨Derrick_Rose￨BLK￨HOME 3￨Derrick_Rose￨PF￨HOME Derrick￨Derrick_Rose￨FIRST_NAME￨HOME Rose￨Derrick_Rose￨SECOND_NAME￨HOME N/A￨Kyle_O'Quinn￨START_POSITION￨HOME 13￨Kyle_O'Quinn￨MIN￨HOME 6￨Kyle_O'Quinn￨PTS￨HOME 3￨Kyle_O'Quinn￨FGM￨HOME 4￨Kyle_O'Quinn￨FGA￨HOME 75￨Kyle_O'Quinn￨FG_PCT￨HOME 0￨Kyle_O'Quinn￨FG3M￨HOME 0￨Kyle_O'Quinn￨FG3A￨HOME 0￨Kyle_O'Quinn￨FG3_PCT￨HOME 0￨Kyle_O'Quinn￨FTM￨HOME 0￨Kyle_O'Quinn￨FTA￨HOME 0￨Kyle_O'Quinn￨FT_PCT￨HOME 1￨Kyle_O'Quinn￨OREB￨HOME 3￨Kyle_O'Quinn￨DREB￨HOME 4￨Kyle_O'Quinn￨REB￨HOME 0￨Kyle_O'Quinn￨AST￨HOME 4￨Kyle_O'Quinn￨TO￨HOME 0￨Kyle_O'Quinn￨STL￨HOME 0￨Kyle_O'Quinn￨BLK￨HOME 3￨Kyle_O'Quinn￨PF￨HOME Kyle￨Kyle_O'Quinn￨FIRST_NAME￨HOME O'Quinn￨Kyle_O'Quinn￨SECOND_NAME￨HOME N/A￨Lance_Thomas￨START_POSITION￨HOME 9￨Lance_Thomas￨MIN￨HOME 3￨Lance_Thomas￨PTS￨HOME 1￨Lance_Thomas￨FGM￨HOME 3￨Lance_Thomas￨FGA￨HOME 33￨Lance_Thomas￨FG_PCT￨HOME 0￨Lance_Thomas￨FG3M￨HOME 1￨Lance_Thomas￨FG3A￨HOME 0￨Lance_Thomas￨FG3_PCT￨HOME 1￨Lance_Thomas￨FTM￨HOME 1￨Lance_Thomas￨FTA￨HOME 100￨Lance_Thomas￨FT_PCT￨HOME 2￨Lance_Thomas￨OREB￨HOME 0￨Lance_Thomas￨DREB￨HOME 2￨Lance_Thomas￨REB￨HOME 1￨Lance_Thomas￨AST￨HOME 0￨Lance_Thomas￨TO￨HOME 0￨Lance_Thomas￨STL￨HOME 0￨Lance_Thomas￨BLK￨HOME 2￨Lance_Thomas￨PF￨HOME Lance￨Lance_Thomas￨FIRST_NAME￨HOME Thomas￨Lance_Thomas￨SECOND_NAME￨HOME N/A￨Justin_Holiday￨START_POSITION￨HOME 14￨Justin_Holiday￨MIN￨HOME 7￨Justin_Holiday￨PTS￨HOME 1￨Justin_Holiday￨FGM￨HOME 3￨Justin_Holiday￨FGA￨HOME 33￨Justin_Holiday￨FG_PCT￨HOME 1￨Justin_Holiday￨FG3M￨HOME 2￨Justin_Holiday￨FG3A￨HOME 50￨Justin_Holiday￨FG3_PCT￨HOME 4￨Justin_Holiday￨FTM￨HOME 4￨Justin_Holiday￨FTA￨HOME 100￨Justin_Holiday￨FT_PCT￨HOME 0￨Justin_Holiday￨OREB￨HOME 1￨Justin_Holiday￨DREB￨HOME 1￨Justin_Holiday￨REB￨HOME 0￨Justin_Holiday￨AST￨HOME 2￨Justin_Holiday￨TO￨HOME 0￨Justin_Holiday￨STL￨HOME 0￨Justin_Holiday￨BLK￨HOME 1￨Justin_Holiday￨PF￨HOME Justin￨Justin_Holiday￨FIRST_NAME￨HOME Holiday￨Justin_Holiday￨SECOND_NAME￨HOME N/A￨Brandon_Jennings￨START_POSITION￨HOME 16￨Brandon_Jennings￨MIN￨HOME 0￨Brandon_Jennings￨PTS￨HOME 0￨Brandon_Jennings￨FGM￨HOME 2￨Brandon_Jennings￨FGA￨HOME 0￨Brandon_Jennings￨FG_PCT￨HOME 0￨Brandon_Jennings￨FG3M￨HOME 1￨Brandon_Jennings￨FG3A￨HOME 0￨Brandon_Jennings￨FG3_PCT￨HOME 0￨Brandon_Jennings￨FTM￨HOME 0￨Brandon_Jennings￨FTA￨HOME 0￨Brandon_Jennings￨FT_PCT￨HOME 0￨Brandon_Jennings￨OREB￨HOME 2￨Brandon_Jennings￨DREB￨HOME 2￨Brandon_Jennings￨REB￨HOME 2￨Brandon_Jennings￨AST￨HOME 1￨Brandon_Jennings￨TO￨HOME 2￨Brandon_Jennings￨STL￨HOME 0￨Brandon_Jennings￨BLK￨HOME 1￨Brandon_Jennings￨PF￨HOME Brandon￨Brandon_Jennings￨FIRST_NAME￨HOME Jennings￨Brandon_Jennings￨SECOND_NAME￨HOME N/A￨Willy_Hernangomez￨START_POSITION￨HOME 3￨Willy_Hernangomez￨MIN￨HOME 0￨Willy_Hernangomez￨PTS￨HOME 0￨Willy_Hernangomez￨FGM￨HOME 0￨Willy_Hernangomez￨FGA￨HOME 0￨Willy_Hernangomez￨FG_PCT￨HOME 0￨Willy_Hernangomez￨FG3M￨HOME 0￨Willy_Hernangomez￨FG3A￨HOME 0￨Willy_Hernangomez￨FG3_PCT￨HOME 0￨Willy_Hernangomez￨FTM￨HOME 0￨Willy_Hernangomez￨FTA￨HOME 0￨Willy_Hernangomez￨FT_PCT￨HOME 0￨Willy_Hernangomez￨OREB￨HOME 0￨Willy_Hernangomez￨DREB￨HOME 0￨Willy_Hernangomez￨REB￨HOME 0￨Willy_Hernangomez￨AST￨HOME 0￨Willy_Hernangomez￨TO￨HOME 0￨Willy_Hernangomez￨STL￨HOME 0￨Willy_Hernangomez￨BLK￨HOME 0￨Willy_Hernangomez￨PF￨HOME Willy￨Willy_Hernangomez￨FIRST_NAME￨HOME Hernangomez￨Willy_Hernangomez￨SECOND_NAME￨HOME N/A￨Mindaugas_Kuzminskas￨START_POSITION￨HOME 9￨Mindaugas_Kuzminskas￨MIN￨HOME 3￨Mindaugas_Kuzminskas￨PTS￨HOME 1￨Mindaugas_Kuzminskas￨FGM￨HOME 3￨Mindaugas_Kuzminskas￨FGA￨HOME 33￨Mindaugas_Kuzminskas￨FG_PCT￨HOME 1￨Mindaugas_Kuzminskas￨FG3M￨HOME 2￨Mindaugas_Kuzminskas￨FG3A￨HOME 50￨Mindaugas_Kuzminskas￨FG3_PCT￨HOME 0￨Mindaugas_Kuzminskas￨FTM￨HOME 0￨Mindaugas_Kuzminskas￨FTA￨HOME 0￨Mindaugas_Kuzminskas￨FT_PCT￨HOME 1￨Mindaugas_Kuzminskas￨OREB￨HOME 0￨Mindaugas_Kuzminskas￨DREB￨HOME 1￨Mindaugas_Kuzminskas￨REB￨HOME 0￨Mindaugas_Kuzminskas￨AST￨HOME 0￨Mindaugas_Kuzminskas￨TO￨HOME 0￨Mindaugas_Kuzminskas￨STL￨HOME 0￨Mindaugas_Kuzminskas￨BLK￨HOME 0￨Mindaugas_Kuzminskas￨PF￨HOME Mindaugas￨Mindaugas_Kuzminskas￨FIRST_NAME￨HOME Kuzminskas￨Mindaugas_Kuzminskas￨SECOND_NAME￨HOME N/A￨Ron_Baker￨START_POSITION￨HOME N/A￨Ron_Baker￨MIN￨HOME N/A￨Ron_Baker￨PTS￨HOME N/A￨Ron_Baker￨FGM￨HOME N/A￨Ron_Baker￨FGA￨HOME N/A￨Ron_Baker￨FG_PCT￨HOME N/A￨Ron_Baker￨FG3M￨HOME N/A￨Ron_Baker￨FG3A￨HOME N/A￨Ron_Baker￨FG3_PCT￨HOME N/A￨Ron_Baker￨FTM￨HOME N/A￨Ron_Baker￨FTA￨HOME N/A￨Ron_Baker￨FT_PCT￨HOME N/A￨Ron_Baker￨OREB￨HOME N/A￨Ron_Baker￨DREB￨HOME N/A￨Ron_Baker￨REB￨HOME N/A￨Ron_Baker￨AST￨HOME N/A￨Ron_Baker￨TO￨HOME N/A￨Ron_Baker￨STL￨HOME N/A￨Ron_Baker￨BLK￨HOME N/A￨Ron_Baker￨PF￨HOME Ron￨Ron_Baker￨FIRST_NAME￨HOME Baker￨Ron_Baker￨SECOND_NAME￨HOME N/A￨Sasha_Vujacic￨START_POSITION￨HOME N/A￨Sasha_Vujacic￨MIN￨HOME N/A￨Sasha_Vujacic￨PTS￨HOME N/A￨Sasha_Vujacic￨FGM￨HOME N/A￨Sasha_Vujacic￨FGA￨HOME N/A￨Sasha_Vujacic￨FG_PCT￨HOME N/A￨Sasha_Vujacic￨FG3M￨HOME N/A￨Sasha_Vujacic￨FG3A￨HOME N/A￨Sasha_Vujacic￨FG3_PCT￨HOME N/A￨Sasha_Vujacic￨FTM￨HOME N/A￨Sasha_Vujacic￨FTA￨HOME N/A￨Sasha_Vujacic￨FT_PCT￨HOME N/A￨Sasha_Vujacic￨OREB￨HOME N/A￨Sasha_Vujacic￨DREB￨HOME N/A￨Sasha_Vujacic￨REB￨HOME N/A￨Sasha_Vujacic￨AST￨HOME N/A￨Sasha_Vujacic￨TO￨HOME N/A￨Sasha_Vujacic￨STL￨HOME N/A￨Sasha_Vujacic￨BLK￨HOME N/A￨Sasha_Vujacic￨PF￨HOME Sasha￨Sasha_Vujacic￨FIRST_NAME￨HOME Vujacic￨Sasha_Vujacic￨SECOND_NAME￨HOME F￨Jae_Crowder￨START_POSITION￨AWAY 34￨Jae_Crowder￨MIN￨AWAY 16￨Jae_Crowder￨PTS￨AWAY 5￨Jae_Crowder￨FGM￨AWAY 9￨Jae_Crowder￨FGA￨AWAY 56￨Jae_Crowder￨FG_PCT￨AWAY 3￨Jae_Crowder￨FG3M￨AWAY 6￨Jae_Crowder￨FG3A￨AWAY 50￨Jae_Crowder￨FG3_PCT￨AWAY 3￨Jae_Crowder￨FTM￨AWAY 4￨Jae_Crowder￨FTA￨AWAY 75￨Jae_Crowder￨FT_PCT￨AWAY 1￨Jae_Crowder￨OREB￨AWAY 5￨Jae_Crowder￨DREB￨AWAY 6￨Jae_Crowder￨REB￨AWAY 1￨Jae_Crowder￨AST￨AWAY 0￨Jae_Crowder￨TO￨AWAY 0￨Jae_Crowder￨STL￨AWAY 0￨Jae_Crowder￨BLK￨AWAY 3￨Jae_Crowder￨PF￨AWAY Jae￨Jae_Crowder￨FIRST_NAME￨AWAY Crowder￨Jae_Crowder￨SECOND_NAME￨AWAY F￨Amir_Johnson￨START_POSITION￨AWAY 24￨Amir_Johnson￨MIN￨AWAY 9￨Amir_Johnson￨PTS￨AWAY 3￨Amir_Johnson￨FGM￨AWAY 6￨Amir_Johnson￨FGA￨AWAY 50￨Amir_Johnson￨FG_PCT￨AWAY 0￨Amir_Johnson￨FG3M￨AWAY 0￨Amir_Johnson￨FG3A￨AWAY 0￨Amir_Johnson￨FG3_PCT￨AWAY 3￨Amir_Johnson￨FTM￨AWAY 4￨Amir_Johnson￨FTA￨AWAY 75￨Amir_Johnson￨FT_PCT￨AWAY 5￨Amir_Johnson￨OREB￨AWAY 1￨Amir_Johnson￨DREB￨AWAY 6￨Amir_Johnson￨REB￨AWAY 3￨Amir_Johnson￨AST￨AWAY 0￨Amir_Johnson￨TO￨AWAY 1￨Amir_Johnson￨STL￨AWAY 0￨Amir_Johnson￨BLK￨AWAY 4￨Amir_Johnson￨PF￨AWAY Amir￨Amir_Johnson￨FIRST_NAME￨AWAY Johnson￨Amir_Johnson￨SECOND_NAME￨AWAY C￨Al_Horford￨START_POSITION￨AWAY 35￨Al_Horford￨MIN￨AWAY 15￨Al_Horford￨PTS￨AWAY 7￨Al_Horford￨FGM￨AWAY 13￨Al_Horford￨FGA￨AWAY 54￨Al_Horford￨FG_PCT￨AWAY 1￨Al_Horford￨FG3M￨AWAY 3￨Al_Horford￨FG3A￨AWAY 33￨Al_Horford￨FG3_PCT￨AWAY 0￨Al_Horford￨FTM￨AWAY 0￨Al_Horford￨FTA￨AWAY 0￨Al_Horford￨FT_PCT￨AWAY 3￨Al_Horford￨OREB￨AWAY 4￨Al_Horford￨DREB￨AWAY 7￨Al_Horford￨REB￨AWAY 5￨Al_Horford￨AST￨AWAY 0￨Al_Horford￨TO￨AWAY 3￨Al_Horford￨STL￨AWAY 1￨Al_Horford￨BLK￨AWAY 0￨Al_Horford￨PF￨AWAY Al￨Al_Horford￨FIRST_NAME￨AWAY Horford￨Al_Horford￨SECOND_NAME￨AWAY G￨Avery_Bradley￨START_POSITION￨AWAY 32￨Avery_Bradley￨MIN￨AWAY 11￨Avery_Bradley￨PTS￨AWAY 5￨Avery_Bradley￨FGM￨AWAY 12￨Avery_Bradley￨FGA￨AWAY 42￨Avery_Bradley￨FG_PCT￨AWAY 1￨Avery_Bradley￨FG3M￨AWAY 1￨Avery_Bradley￨FG3A￨AWAY 100￨Avery_Bradley￨FG3_PCT￨AWAY 0￨Avery_Bradley￨FTM￨AWAY 0￨Avery_Bradley￨FTA￨AWAY 0￨Avery_Bradley￨FT_PCT￨AWAY 0￨Avery_Bradley￨OREB￨AWAY 6￨Avery_Bradley￨DREB￨AWAY 6￨Avery_Bradley￨REB￨AWAY 3￨Avery_Bradley￨AST￨AWAY 1￨Avery_Bradley￨TO￨AWAY 3￨Avery_Bradley￨STL￨AWAY 0￨Avery_Bradley￨BLK￨AWAY 2￨Avery_Bradley￨PF￨AWAY Avery￨Avery_Bradley￨FIRST_NAME￨AWAY Bradley￨Avery_Bradley￨SECOND_NAME￨AWAY G￨Isaiah_Thomas￨START_POSITION￨AWAY 33￨Isaiah_Thomas￨MIN￨AWAY 27￨Isaiah_Thomas￨PTS￨AWAY 9￨Isaiah_Thomas￨FGM￨AWAY 23￨Isaiah_Thomas￨FGA￨AWAY 39￨Isaiah_Thomas￨FG_PCT￨AWAY 3￨Isaiah_Thomas￨FG3M￨AWAY 13￨Isaiah_Thomas￨FG3A￨AWAY 23￨Isaiah_Thomas￨FG3_PCT￨AWAY 6￨Isaiah_Thomas￨FTM￨AWAY 8￨Isaiah_Thomas￨FTA￨AWAY 75￨Isaiah_Thomas￨FT_PCT￨AWAY 0￨Isaiah_Thomas￨OREB￨AWAY 3￨Isaiah_Thomas￨DREB￨AWAY 3￨Isaiah_Thomas￨REB￨AWAY 3￨Isaiah_Thomas￨AST￨AWAY 2￨Isaiah_Thomas￨TO￨AWAY 0￨Isaiah_Thomas￨STL￨AWAY 0￨Isaiah_Thomas￨BLK￨AWAY 3￨Isaiah_Thomas￨PF￨AWAY Isaiah￨Isaiah_Thomas￨FIRST_NAME￨AWAY Thomas￨Isaiah_Thomas￨SECOND_NAME￨AWAY N/A￨Jonas_Jerebko￨START_POSITION￨AWAY 13￨Jonas_Jerebko￨MIN￨AWAY 2￨Jonas_Jerebko￨PTS￨AWAY 1￨Jonas_Jerebko￨FGM￨AWAY 5￨Jonas_Jerebko￨FGA￨AWAY 20￨Jonas_Jerebko￨FG_PCT￨AWAY 0￨Jonas_Jerebko￨FG3M￨AWAY 3￨Jonas_Jerebko￨FG3A￨AWAY 0￨Jonas_Jerebko￨FG3_PCT￨AWAY 0￨Jonas_Jerebko￨FTM￨AWAY 0￨Jonas_Jerebko￨FTA￨AWAY 0￨Jonas_Jerebko￨FT_PCT￨AWAY 1￨Jonas_Jerebko￨OREB￨AWAY 1￨Jonas_Jerebko￨DREB￨AWAY 2￨Jonas_Jerebko￨REB￨AWAY 0￨Jonas_Jerebko￨AST￨AWAY 0￨Jonas_Jerebko￨TO￨AWAY 1￨Jonas_Jerebko￨STL￨AWAY 0￨Jonas_Jerebko￨BLK￨AWAY 3￨Jonas_Jerebko￨PF￨AWAY Jonas￨Jonas_Jerebko￨FIRST_NAME￨AWAY Jerebko￨Jonas_Jerebko￨SECOND_NAME￨AWAY N/A￨Marcus_Smart￨START_POSITION￨AWAY 28￨Marcus_Smart￨MIN￨AWAY 15￨Marcus_Smart￨PTS￨AWAY 5￨Marcus_Smart￨FGM￨AWAY 9￨Marcus_Smart￨FGA￨AWAY 56￨Marcus_Smart￨FG_PCT￨AWAY 2￨Marcus_Smart￨FG3M￨AWAY 4￨Marcus_Smart￨FG3A￨AWAY 50￨Marcus_Smart￨FG3_PCT￨AWAY 3￨Marcus_Smart￨FTM￨AWAY 4￨Marcus_Smart￨FTA￨AWAY 75￨Marcus_Smart￨FT_PCT￨AWAY 1￨Marcus_Smart￨OREB￨AWAY 1￨Marcus_Smart￨DREB￨AWAY 2￨Marcus_Smart￨REB￨AWAY 7￨Marcus_Smart￨AST￨AWAY 1￨Marcus_Smart￨TO￨AWAY 1￨Marcus_Smart￨STL￨AWAY 0￨Marcus_Smart￨BLK￨AWAY 2￨Marcus_Smart￨PF￨AWAY Marcus￨Marcus_Smart￨FIRST_NAME￨AWAY Smart￨Marcus_Smart￨SECOND_NAME￨AWAY N/A￨Jaylen_Brown￨START_POSITION￨AWAY 6￨Jaylen_Brown￨MIN￨AWAY 0￨Jaylen_Brown￨PTS￨AWAY 0￨Jaylen_Brown￨FGM￨AWAY 1￨Jaylen_Brown￨FGA￨AWAY 0￨Jaylen_Brown￨FG_PCT￨AWAY 0￨Jaylen_Brown￨FG3M￨AWAY 0￨Jaylen_Brown￨FG3A￨AWAY 0￨Jaylen_Brown￨FG3_PCT￨AWAY 0￨Jaylen_Brown￨FTM￨AWAY 0￨Jaylen_Brown￨FTA￨AWAY 0￨Jaylen_Brown￨FT_PCT￨AWAY 0￨Jaylen_Brown￨OREB￨AWAY 2￨Jaylen_Brown￨DREB￨AWAY 2￨Jaylen_Brown￨REB￨AWAY 0￨Jaylen_Brown￨AST￨AWAY 0￨Jaylen_Brown￨TO￨AWAY 0￨Jaylen_Brown￨STL￨AWAY 0￨Jaylen_Brown￨BLK￨AWAY 0￨Jaylen_Brown￨PF￨AWAY Jaylen￨Jaylen_Brown￨FIRST_NAME￨AWAY Brown￨Jaylen_Brown￨SECOND_NAME￨AWAY N/A￨Kelly_Olynyk￨START_POSITION￨AWAY 23￨Kelly_Olynyk￨MIN￨AWAY 16￨Kelly_Olynyk￨PTS￨AWAY 7￨Kelly_Olynyk￨FGM￨AWAY 9￨Kelly_Olynyk￨FGA￨AWAY 78￨Kelly_Olynyk￨FG_PCT￨AWAY 2￨Kelly_Olynyk￨FG3M￨AWAY 3￨Kelly_Olynyk￨FG3A￨AWAY 67￨Kelly_Olynyk￨FG3_PCT￨AWAY 0￨Kelly_Olynyk￨FTM￨AWAY 0￨Kelly_Olynyk￨FTA￨AWAY 0￨Kelly_Olynyk￨FT_PCT￨AWAY 0￨Kelly_Olynyk￨OREB￨AWAY 2￨Kelly_Olynyk￨DREB￨AWAY 2￨Kelly_Olynyk￨REB￨AWAY 2￨Kelly_Olynyk￨AST￨AWAY 1￨Kelly_Olynyk￨TO￨AWAY 0￨Kelly_Olynyk￨STL￨AWAY 0￨Kelly_Olynyk￨BLK￨AWAY 3￨Kelly_Olynyk￨PF￨AWAY Kelly￨Kelly_Olynyk￨FIRST_NAME￨AWAY Olynyk￨Kelly_Olynyk￨SECOND_NAME￨AWAY N/A￨Gerald_Green￨START_POSITION￨AWAY 12￨Gerald_Green￨MIN￨AWAY 8￨Gerald_Green￨PTS￨AWAY 3￨Gerald_Green￨FGM￨AWAY 6￨Gerald_Green￨FGA￨AWAY 50￨Gerald_Green￨FG_PCT￨AWAY 2￨Gerald_Green￨FG3M￨AWAY 3￨Gerald_Green￨FG3A￨AWAY 67￨Gerald_Green￨FG3_PCT￨AWAY 0￨Gerald_Green￨FTM￨AWAY 0￨Gerald_Green￨FTA￨AWAY 0￨Gerald_Green￨FT_PCT￨AWAY 1￨Gerald_Green￨OREB￨AWAY 2￨Gerald_Green￨DREB￨AWAY 3￨Gerald_Green￨REB￨AWAY 1￨Gerald_Green￨AST￨AWAY 0￨Gerald_Green￨TO￨AWAY 1￨Gerald_Green￨STL￨AWAY 1￨Gerald_Green￨BLK￨AWAY 0￨Gerald_Green￨PF￨AWAY Gerald￨Gerald_Green￨FIRST_NAME￨AWAY Green￨Gerald_Green￨SECOND_NAME￨AWAY N/A￨Terry_Rozier￨START_POSITION￨AWAY N/A￨Terry_Rozier￨MIN￨AWAY N/A￨Terry_Rozier￨PTS￨AWAY N/A￨Terry_Rozier￨FGM￨AWAY N/A￨Terry_Rozier￨FGA￨AWAY N/A￨Terry_Rozier￨FG_PCT￨AWAY N/A￨Terry_Rozier￨FG3M￨AWAY N/A￨Terry_Rozier￨FG3A￨AWAY N/A￨Terry_Rozier￨FG3_PCT￨AWAY N/A￨Terry_Rozier￨FTM￨AWAY N/A￨Terry_Rozier￨FTA￨AWAY N/A￨Terry_Rozier￨FT_PCT￨AWAY N/A￨Terry_Rozier￨OREB￨AWAY N/A￨Terry_Rozier￨DREB￨AWAY N/A￨Terry_Rozier￨REB￨AWAY N/A￨Terry_Rozier￨AST￨AWAY N/A￨Terry_Rozier￨TO￨AWAY N/A￨Terry_Rozier￨STL￨AWAY N/A￨Terry_Rozier￨BLK￨AWAY N/A￨Terry_Rozier￨PF￨AWAY Terry￨Terry_Rozier￨FIRST_NAME￨AWAY Rozier￨Terry_Rozier￨SECOND_NAME￨AWAY N/A￨James_Young￨START_POSITION￨AWAY N/A￨James_Young￨MIN￨AWAY N/A￨James_Young￨PTS￨AWAY N/A￨James_Young￨FGM￨AWAY N/A￨James_Young￨FGA￨AWAY N/A￨James_Young￨FG_PCT￨AWAY N/A￨James_Young￨FG3M￨AWAY N/A￨James_Young￨FG3A￨AWAY N/A￨James_Young￨FG3_PCT￨AWAY N/A￨James_Young￨FTM￨AWAY N/A￨James_Young￨FTA￨AWAY N/A￨James_Young￨FT_PCT￨AWAY N/A￨James_Young￨OREB￨AWAY N/A￨James_Young￨DREB￨AWAY N/A￨James_Young￨REB￨AWAY N/A￨James_Young￨AST￨AWAY N/A￨James_Young￨TO￨AWAY N/A￨James_Young￨STL￨AWAY N/A￨James_Young￨BLK￨AWAY N/A￨James_Young￨PF￨AWAY James￨James_Young￨FIRST_NAME￨AWAY Young￨James_Young￨SECOND_NAME￨AWAY N/A￨Tyler_Zeller￨START_POSITION￨AWAY N/A￨Tyler_Zeller￨MIN￨AWAY N/A￨Tyler_Zeller￨PTS￨AWAY N/A￨Tyler_Zeller￨FGM￨AWAY N/A￨Tyler_Zeller￨FGA￨AWAY N/A￨Tyler_Zeller￨FG_PCT￨AWAY N/A￨Tyler_Zeller￨FG3M￨AWAY N/A￨Tyler_Zeller￨FG3A￨AWAY N/A￨Tyler_Zeller￨FG3_PCT￨AWAY N/A￨Tyler_Zeller￨FTM￨AWAY N/A￨Tyler_Zeller￨FTA￨AWAY N/A￨Tyler_Zeller￨FT_PCT￨AWAY N/A￨Tyler_Zeller￨OREB￨AWAY N/A￨Tyler_Zeller￨DREB￨AWAY N/A￨Tyler_Zeller￨REB￨AWAY N/A￨Tyler_Zeller￨AST￨AWAY N/A￨Tyler_Zeller￨TO￨AWAY N/A￨Tyler_Zeller￨STL￨AWAY N/A￨Tyler_Zeller￨BLK￨AWAY N/A￨Tyler_Zeller￨PF￨AWAY Tyler￨Tyler_Zeller￨FIRST_NAME￨AWAY Zeller￨Tyler_Zeller￨SECOND_NAME￨AWAY 28￨Knicks￨TEAM-PTS_QTR1￨HOME 20￨Knicks￨TEAM-PTS_QTR2￨HOME 34￨Knicks￨TEAM-PTS_QTR3￨HOME 32￨Knicks￨TEAM-PTS_QTR4￨HOME 114￨Knicks￨TEAM-PTS￨HOME 47￨Knicks￨TEAM-FG_PCT￨HOME 35￨Knicks￨TEAM-FG3_PCT￨HOME 89￨Knicks￨TEAM-FT_PCT￨HOME 49￨Knicks￨TEAM-REB￨HOME 11￨Knicks￨TEAM-AST￨HOME 17￨Knicks￨TEAM-TOV￨HOME 16￨Knicks￨TEAM-WINS￨HOME 14￨Knicks￨TEAM-LOSSES￨HOME New_York￨Knicks￨TEAM-CITY￨HOME Knicks￨Knicks￨TEAM-NAME￨HOME 22￨Celtics￨TEAM-PTS_QTR1￨AWAY 34￨Celtics￨TEAM-PTS_QTR2￨AWAY 32￨Celtics￨TEAM-PTS_QTR3￨AWAY 31￨Celtics￨TEAM-PTS_QTR4￨AWAY 119￨Celtics￨TEAM-PTS￨AWAY 48￨Celtics￨TEAM-FG_PCT￨AWAY 39￨Celtics￨TEAM-FG3_PCT￨AWAY 75￨Celtics￨TEAM-FT_PCT￨AWAY 39￨Celtics￨TEAM-REB￨AWAY 25￨Celtics￨TEAM-AST￨AWAY 5￨Celtics￨TEAM-TOV￨AWAY 18￨Celtics￨TEAM-WINS￨AWAY 13￨Celtics￨TEAM-LOSSES￨AWAY Boston￨Celtics￨TEAM-CITY￨AWAY Celtics￨Celtics￨TEAM-NAME￨AWAY\\n\""
      ]
     },
     "execution_count": 127,
     "metadata": {},
     "output_type": "execute_result"
    }
   ],
   "source": [
    "nba_src_train[0]"
   ]
  },
  {
   "cell_type": "code",
   "execution_count": null,
   "metadata": {},
   "outputs": [],
   "source": []
  },
  {
   "cell_type": "code",
   "execution_count": null,
   "metadata": {},
   "outputs": [],
   "source": []
  },
  {
   "cell_type": "code",
   "execution_count": 128,
   "metadata": {},
   "outputs": [],
   "source": [
    "# Leaflets\n",
    "with open('src_train.txt') as reader:\n",
    "    # This reads the remaining lines from the file object and returns them as a list.\n",
    "    leaflets_src_train = reader.readlines()"
   ]
  },
  {
   "cell_type": "code",
   "execution_count": 129,
   "metadata": {},
   "outputs": [
    {
     "data": {
      "text/plain": [
       "'<unk>￨<blank>￨<blank>￨<blank> <blank>￨<blank>￨<blank>￨<blank> <s>￨<blank>￨<blank>￨<blank> </s>￨<blank>￨<blank>￨<blank> fractures￨Indication￨DX_NAME￨AWAY breaks￨Indication￨DX_NAME￨AWAY bone_loss￨Indication￨DX_NAME￨AWAY dietary_supplements￨Indication￨TREATMENT_NAME￨AWAY muscle_weakness￨Indication￨DX_NAME￨HOME broken_bones￨Indication￨DX_NAME￨AWAY muscles￨Indication￨SYSTEM_ORGAN_SITE￨AWAY skeleton￨Indication￨SYSTEM_ORGAN_SITE￨AWAY alendronate￨Indication￨GENERIC_NAME￨HOME menopause￨Indication￨DX_NAME￨AWAY weakening￨Indication￨DX_NAME￨HOME hip￨Indication￨SYSTEM_ORGAN_SITE￨AWAY skin￨Indication￨SYSTEM_ORGAN_SITE￨AWAY weaker￨Indication￨DX_NAME￨HOME vitamin_d3￨Indication￨GENERIC_NAME￨AWAY alendronic_acid￨Indication￨GENERIC_NAME￨HOME stooped_posture￨Indication￨DX_NAME￨HOME falls￨Indication￨DX_NAME￨HOME muscle￨Indication￨SYSTEM_ORGAN_SITE￨AWAY osteoporosis￨Indication￨DX_NAME￨AWAY menopause￨Indication￨DX_NAME￨AWAY osteoporosis￨Indication￨DX_NAME￨HOME bone￨Indication￨SYSTEM_ORGAN_SITE￨AWAY hip￨Indication￨SYSTEM_ORGAN_SITE￨AWAY osteoporosis￨Indication￨DX_NAME￨AWAY bones￨Indication￨SYSTEM_ORGAN_SITE￨AWAY menopause￨Indication￨DX_NAME￨HOME skin￨Indication￨SYSTEM_ORGAN_SITE￨AWAY vitamin_d_deficiency￨Indication￨DX_NAME￨HOME osteoporosis￨Indication￨DX_NAME￨HOME hip￨Indication￨SYSTEM_ORGAN_SITE￨AWAY colecalciferol￨Indication￨GENERIC_NAME￨AWAY bone￨Indication￨SYSTEM_ORGAN_SITE￨AWAY vitamin_d_insufficiency￨Indication￨DX_NAME￨AWAY ovaries￨Indication￨SYSTEM_ORGAN_SITE￨HOME broken_bones￨Indication￨DX_NAME￨AWAY loss_of_mobility￨Indication￨DX_NAME￨AWAY broken_bones￨Indication￨DX_NAME￨HOME bones￨Indication￨SYSTEM_ORGAN_SITE￨AWAY vitamin_d￨Indication￨GENERIC_NAME￨AWAY exercise_programme￨Indication￨TREATMENT_NAME￨AWAY injury￨Indication￨DX_NAME￨HOME balanced_diet￨Indication￨TREATMENT_NAME￨AWAY bone￨Indication￨SYSTEM_ORGAN_SITE￨HOME height_loss￨Indication￨DX_NAME￨HOME bones￨Indication￨SYSTEM_ORGAN_SITE￨AWAY alendronate￨Indication￨GENERIC_NAME￨HOME bones￨Indication￨SYSTEM_ORGAN_SITE￨AWAY bones￨Indication￨SYSTEM_ORGAN_SITE￨AWAY loss_of_bone￨Indication￨DX_NAME￨HOME pain￨Indication￨DX_NAME￨AWAY menopause￨Indication￨DX_NAME￨AWAY hip_fractures￨Indication￨DX_NAME￨AWAY broken_bones￨Indication￨DX_NAME￨AWAY hip_fractures￨Indication￨DX_NAME￨HOME osteoporosis￨Indication￨DX_NAME￨AWAY spine￨Indication￨SYSTEM_ORGAN_SITE￨AWAY bone￨Indication￨SYSTEM_ORGAN_SITE￨AWAY wrist￨Indication￨SYSTEM_ORGAN_SITE￨HOME bone_loss￨Indication￨DX_NAME￨HOME body￨Indication￨SYSTEM_ORGAN_SITE￨AWAY spine￨Indication￨SYSTEM_ORGAN_SITE￨HOME alendronate￨Indication￨GENERIC_NAME￨HOME thinning￨Indication￨DX_NAME￨HOME spine￨Indication￨SYSTEM_ORGAN_SITE￨AWAY bones￨Indication￨SYSTEM_ORGAN_SITE￨HOME bones￨Indication￨SYSTEM_ORGAN_SITE￨AWAY osteoporosis￨Indication￨DX_NAME￨HOME bone￨Indication￨SYSTEM_ORGAN_SITE￨AWAY hurt￨Indication￨DX_NAME￨HOME spine￨Indication￨SYSTEM_ORGAN_SITE￨AWAY alendronate￨Indication￨GENERIC_NAME￨AWAY bones￨Indication￨SYSTEM_ORGAN_SITE￨AWAY skeleton_healthy￨Indication￨DX_NAME￨HOME menopause￨Indication￨DX_NAME￨AWAY osteoporosis￨Indication￨DX_NAME￨HOME bone￨Indication￨SYSTEM_ORGAN_SITE￨HOME bones￨Indication￨SYSTEM_ORGAN_SITE￨HOME\\n'"
      ]
     },
     "execution_count": 129,
     "metadata": {},
     "output_type": "execute_result"
    }
   ],
   "source": [
    "leaflets_src_train[0]"
   ]
  },
  {
   "cell_type": "code",
   "execution_count": null,
   "metadata": {},
   "outputs": [],
   "source": []
  },
  {
   "cell_type": "markdown",
   "metadata": {},
   "source": [
    "### March Work - imitating create_content_plan at inference time"
   ]
  },
  {
   "cell_type": "code",
   "execution_count": 53,
   "metadata": {},
   "outputs": [],
   "source": [
    "# Remark\n",
    "# Content plan learned - is very bad!!\n",
    "# compare original - valid_content_plan.txt with generated - 'gen/roto_stage1_cc-beam5_gens.txt"
   ]
  },
  {
   "cell_type": "code",
   "execution_count": 46,
   "metadata": {},
   "outputs": [],
   "source": [
    "with open('valid_content_plan.txt') as reader:\n",
    "    # This reads the remaining lines from the file object and returns them as a list.\n",
    "    true_content_plan = reader.readlines()"
   ]
  },
  {
   "cell_type": "code",
   "execution_count": 47,
   "metadata": {},
   "outputs": [],
   "source": [
    "with open('inter/valid_content_plan.txt') as reader:\n",
    "    # This reads the remaining lines from the file object and returns them as a list.\n",
    "    true_inter_content_plan = reader.readlines()"
   ]
  },
  {
   "cell_type": "code",
   "execution_count": null,
   "metadata": {},
   "outputs": [],
   "source": []
  },
  {
   "cell_type": "code",
   "execution_count": 9,
   "metadata": {},
   "outputs": [],
   "source": [
    "SRC_FILE = 'src_valid.txt'\n",
    "CONTENT_PLAN = 'gen/roto_stage1_cc-beam5_gens_val.txt'\n",
    "# EVAL_OUTPUT = '/transform_gen/roto_stage1_$IDENTIFIER-beam5_gens.h5-tuples.txt'\n",
    "\n",
    "CONTENT_PLAN_INTER = 'gen/roto_stage1_inter_$IDENTIFIER-beam5_gens.txt'\n",
    "\n",
    "\n",
    "inputs = []\n",
    "content_plans = []\n",
    "\n",
    "with codecs.open(CONTENT_PLAN, \"r\", \"utf-8\") as corpus_file:\n",
    "    for _, line in enumerate(corpus_file):\n",
    "        content_plans.append(line.split())\n",
    "\n",
    "with codecs.open(SRC_FILE, \"r\", \"utf-8\") as corpus_file:\n",
    "    for _, line in enumerate(corpus_file):\n",
    "        inputs.append(line.split())"
   ]
  },
  {
   "cell_type": "code",
   "execution_count": 10,
   "metadata": {},
   "outputs": [],
   "source": [
    "# important shit\n",
    "\n",
    "outputs = []\n",
    "\n",
    "for i, source_input in enumerate(inputs):\n",
    "    content_plan = content_plans[i]\n",
    "    output = []\n",
    "    \n",
    "    for record in content_plan:\n",
    "        record = int(record)\n",
    "        \n",
    "        if record <= len(source_input)-1:\n",
    "            output.append(source_input[record])\n",
    "            # output.append(input[int(record)].encode(\"utf-8\"))\n",
    "    outputs.append(\" \".join(output))"
   ]
  },
  {
   "cell_type": "code",
   "execution_count": null,
   "metadata": {},
   "outputs": [],
   "source": []
  },
  {
   "cell_type": "code",
   "execution_count": null,
   "metadata": {},
   "outputs": [],
   "source": [
    "# save inter content plan to a file\n",
    "\n",
    "output_file = open(CONTENT_PLAN_INTER, 'w')\n",
    "output_file.write(\"\\n\".join(outputs))\n",
    "output_file.write(\"\\n\")\n",
    "output_file.close()"
   ]
  },
  {
   "cell_type": "markdown",
   "metadata": {},
   "source": [
    "## Check whether modifying the scrip worked correctly "
   ]
  },
  {
   "cell_type": "code",
   "execution_count": 4,
   "metadata": {},
   "outputs": [],
   "source": [
    "with open('gen/roto_stage1_inter_cc-beam5_gens_val.txt') as reader:\n",
    "    # This reads the remaining lines from the file object and returns them as a list.\n",
    "    inter_content_plan_generated = reader.readlines()"
   ]
  },
  {
   "cell_type": "code",
   "execution_count": 5,
   "metadata": {},
   "outputs": [
    {
     "data": {
      "text/plain": [
       "120"
      ]
     },
     "execution_count": 5,
     "metadata": {},
     "output_type": "execute_result"
    }
   ],
   "source": [
    "len(inter_content_plan_generated)"
   ]
  },
  {
   "cell_type": "code",
   "execution_count": 7,
   "metadata": {},
   "outputs": [],
   "source": [
    "with open('src_valid.txt') as reader:\n",
    "    # This reads the remaining lines from the file object and returns them as a list.\n",
    "    src_valid = reader.readlines()"
   ]
  },
  {
   "cell_type": "code",
   "execution_count": 25,
   "metadata": {},
   "outputs": [],
   "source": [
    "# for plan in inter_content_plan_generated:\n",
    "#     plan = plan.split()\n",
    "    \n",
    "#     for record in plan:\n",
    "#         record = record.split(\"￨\")\n",
    "        \n",
    "#         for entity in record:\n",
    "#             if entity == 'BRAND_NAME' or entity == 'GENERIC_NAME':\n",
    "#                 medicine_name = record[0]\n",
    "    \n",
    "#     print(medicine_name)"
   ]
  },
  {
   "cell_type": "markdown",
   "metadata": {},
   "source": [
    "### Check results"
   ]
  },
  {
   "cell_type": "code",
   "execution_count": 39,
   "metadata": {},
   "outputs": [],
   "source": [
    "with open('gen/roto_stage2_cc-beam5_gens_val.txt') as reader:\n",
    "    # This reads the remaining lines from the file object and returns them as a list.\n",
    "    generated_leaflets = reader.readlines()"
   ]
  },
  {
   "cell_type": "code",
   "execution_count": 41,
   "metadata": {},
   "outputs": [],
   "source": [
    "with open('tgt_valid.txt') as reader:\n",
    "    # This reads the remaining lines from the file object and returns them as a list.\n",
    "    original_leaflets = reader.readlines()"
   ]
  },
  {
   "cell_type": "code",
   "execution_count": 49,
   "metadata": {},
   "outputs": [
    {
     "data": {
      "text/plain": [
       "'vitekta contains the active substance elvitegravir . vitekta is a treatment for human immunodeficiency virus ( hiv ) infection in adults aged 18 years and over . vitekta must always be taken with certain other hiv medicines . see section 3 , how to take vitekta . the hiv virus produces an enzyme called hiv integrase . this enzyme helps the virus to multiply in the cells in your body . vitekta stops this enzyme working and reduces the amount of hiv in your body . this will improve your immune system and reduce the risk of developing illnesses linked to hiv infection . this medicine is not a cure for hiv infection . while taking vitekta you may still develop infections or other illnesses associated with hiv infection .\\n'"
      ]
     },
     "execution_count": 49,
     "metadata": {},
     "output_type": "execute_result"
    }
   ],
   "source": [
    "original_leaflets[24]"
   ]
  },
  {
   "cell_type": "code",
   "execution_count": 50,
   "metadata": {},
   "outputs": [
    {
     "data": {
      "text/plain": [
       "'what elvitegravir is elvitegravir contains two active substances , elvitegravir and elvitegravir . elvitegravir belongs to a group of medicines called hiv inhibitors . it is used to treat adults and adolescents aged 18 years and older who have already been treated with other antiretroviral medicines . your doctor will discuss with you which combination of medicines is best for you . if you have any questions about your medicines , please ask your doctor or pharmacist . if you have any questions about your medicines , please ask your doctor or pharmacist . if you have any questions about your medicines , please ask your doctor or pharmacist . if you have any questions about your medicines , please ask your doctor or pharmacist . if you have any questions about your medicines , please ask your doctor or pharmacist . if you have any questions about your medicines , please ask your doctor or pharmacist .\\n'"
      ]
     },
     "execution_count": 50,
     "metadata": {},
     "output_type": "execute_result"
    }
   ],
   "source": [
    "generated_leaflets[24]"
   ]
  },
  {
   "cell_type": "code",
   "execution_count": null,
   "metadata": {},
   "outputs": [],
   "source": []
  }
 ],
 "metadata": {
  "kernelspec": {
   "display_name": "Python 3",
   "language": "python",
   "name": "python3"
  },
  "language_info": {
   "codemirror_mode": {
    "name": "ipython",
    "version": 3
   },
   "file_extension": ".py",
   "mimetype": "text/x-python",
   "name": "python",
   "nbconvert_exporter": "python",
   "pygments_lexer": "ipython3",
   "version": "3.6.10"
  }
 },
 "nbformat": 4,
 "nbformat_minor": 2
}
