{
 "cells": [
  {
   "cell_type": "code",
   "execution_count": 1,
   "metadata": {},
   "outputs": [],
   "source": [
    "import json"
   ]
  },
  {
   "cell_type": "code",
   "execution_count": 2,
   "metadata": {},
   "outputs": [],
   "source": [
    "with open('rotowire_original_dataset/train.json') as json_file:\n",
    "    train_data = json.load(json_file)"
   ]
  },
  {
   "cell_type": "markdown",
   "metadata": {},
   "source": [
    "Dataset of basketball game summaries,\n",
    "paired with corresponding box- and line-score tables.  \n",
    "\n",
    "The summaries are professionally written, relatively\n",
    "well structured and long (337 words on average). The number\n",
    "of record types is 39, the average number of records\n",
    "is 628, the vocabulary size is 11.3K words and token count is\n",
    "1.6M. The dataset is ideally suited for document-scale generation.  \n",
    "\n",
    "We followed the data partitions introduced in Wiseman\n",
    "et al. (2017): we trained on 3,398 summaries, tested on\n",
    "728, and used 727 for validation."
   ]
  },
  {
   "cell_type": "code",
   "execution_count": 3,
   "metadata": {},
   "outputs": [],
   "source": [
    "training_sample = train_data[123]"
   ]
  },
  {
   "cell_type": "code",
   "execution_count": 4,
   "metadata": {},
   "outputs": [
    {
     "data": {
      "text/plain": [
       "dict_keys(['home_name', 'box_score', 'home_city', 'vis_name', 'summary', 'vis_line', 'vis_city', 'day', 'home_line'])"
      ]
     },
     "execution_count": 4,
     "metadata": {},
     "output_type": "execute_result"
    }
   ],
   "source": [
    "training_sample.keys()"
   ]
  },
  {
   "cell_type": "code",
   "execution_count": 5,
   "metadata": {
    "scrolled": false
   },
   "outputs": [
    {
     "data": {
      "text/plain": [
       "dict_keys(['FIRST_NAME', 'MIN', 'FGM', 'REB', 'FG3A', 'PLAYER_NAME', 'AST', 'FG3M', 'OREB', 'TO', 'START_POSITION', 'PF', 'PTS', 'FGA', 'STL', 'FTA', 'BLK', 'DREB', 'FTM', 'FT_PCT', 'FG_PCT', 'FG3_PCT', 'SECOND_NAME', 'TEAM_CITY'])"
      ]
     },
     "execution_count": 5,
     "metadata": {},
     "output_type": "execute_result"
    }
   ],
   "source": [
    "training_sample['box_score'].keys()"
   ]
  },
  {
   "cell_type": "code",
   "execution_count": 6,
   "metadata": {},
   "outputs": [
    {
     "name": "stdout",
     "output_type": "stream",
     "text": [
      "26\n",
      "26\n",
      "26\n",
      "26\n",
      "26\n",
      "26\n",
      "26\n",
      "26\n",
      "26\n",
      "26\n",
      "26\n",
      "26\n",
      "26\n",
      "26\n",
      "26\n",
      "26\n",
      "26\n",
      "26\n",
      "26\n",
      "26\n",
      "26\n",
      "26\n",
      "26\n",
      "26\n"
     ]
    }
   ],
   "source": [
    "for type in training_sample['box_score'].keys():\n",
    "    print(len(training_sample['box_score'][type]))"
   ]
  },
  {
   "cell_type": "markdown",
   "metadata": {},
   "source": [
    "Conslusion: each player is assigned a number, this number is a **key** in different dictionaries. "
   ]
  },
  {
   "cell_type": "code",
   "execution_count": 7,
   "metadata": {},
   "outputs": [
    {
     "data": {
      "text/plain": [
       "{'FIRST_NAME': {'24': 'Jordan',\n",
       "  '25': 'James',\n",
       "  '20': 'Jonas',\n",
       "  '21': 'Gerald',\n",
       "  '22': 'Tyler',\n",
       "  '23': 'Demetrius',\n",
       "  '1': 'Trevor',\n",
       "  '0': 'Rondae',\n",
       "  '3': 'Bojan',\n",
       "  '2': 'Brook',\n",
       "  '5': 'Joe',\n",
       "  '4': 'Jeremy',\n",
       "  '7': 'Greivis',\n",
       "  '6': 'Luis',\n",
       "  '9': 'Sean',\n",
       "  '8': 'Justin',\n",
       "  '11': 'Isaiah',\n",
       "  '10': 'Chris',\n",
       "  '13': 'Jae',\n",
       "  '12': 'Anthony',\n",
       "  '15': 'Al',\n",
       "  '14': 'Amir',\n",
       "  '17': 'Isaiah',\n",
       "  '16': 'Avery',\n",
       "  '19': 'Terry',\n",
       "  '18': 'Jaylen'},\n",
       " 'MIN': {'24': 'N/A',\n",
       "  '25': 'N/A',\n",
       "  '20': '19',\n",
       "  '21': '15',\n",
       "  '22': '16',\n",
       "  '23': 'N/A',\n",
       "  '1': '24',\n",
       "  '0': '24',\n",
       "  '3': '23',\n",
       "  '2': '21',\n",
       "  '5': '25',\n",
       "  '4': '28',\n",
       "  '7': '18',\n",
       "  '6': '22',\n",
       "  '9': '22',\n",
       "  '8': '25',\n",
       "  '11': '4',\n",
       "  '10': '4',\n",
       "  '13': '29',\n",
       "  '12': 'N/A',\n",
       "  '15': '27',\n",
       "  '14': '20',\n",
       "  '17': '33',\n",
       "  '16': '34',\n",
       "  '19': '28',\n",
       "  '18': '19'},\n",
       " 'FGM': {'24': 'N/A',\n",
       "  '25': 'N/A',\n",
       "  '20': '1',\n",
       "  '21': '4',\n",
       "  '22': '6',\n",
       "  '23': 'N/A',\n",
       "  '1': '4',\n",
       "  '0': '1',\n",
       "  '3': '9',\n",
       "  '2': '1',\n",
       "  '5': '6',\n",
       "  '4': '6',\n",
       "  '7': '0',\n",
       "  '6': '3',\n",
       "  '9': '5',\n",
       "  '8': '7',\n",
       "  '11': '0',\n",
       "  '10': '1',\n",
       "  '13': '9',\n",
       "  '12': 'N/A',\n",
       "  '15': '5',\n",
       "  '14': '4',\n",
       "  '17': '7',\n",
       "  '16': '7',\n",
       "  '19': '2',\n",
       "  '18': '3'},\n",
       " 'REB': {'24': 'N/A',\n",
       "  '25': 'N/A',\n",
       "  '20': '1',\n",
       "  '21': '5',\n",
       "  '22': '4',\n",
       "  '23': 'N/A',\n",
       "  '1': '7',\n",
       "  '0': '2',\n",
       "  '3': '5',\n",
       "  '2': '5',\n",
       "  '5': '4',\n",
       "  '4': '3',\n",
       "  '7': '0',\n",
       "  '6': '1',\n",
       "  '9': '4',\n",
       "  '8': '10',\n",
       "  '11': '1',\n",
       "  '10': '2',\n",
       "  '13': '5',\n",
       "  '12': 'N/A',\n",
       "  '15': '5',\n",
       "  '14': '7',\n",
       "  '17': '6',\n",
       "  '16': '9',\n",
       "  '19': '3',\n",
       "  '18': '2'},\n",
       " 'FG3A': {'24': 'N/A',\n",
       "  '25': 'N/A',\n",
       "  '20': '5',\n",
       "  '21': '2',\n",
       "  '22': '0',\n",
       "  '23': 'N/A',\n",
       "  '1': '1',\n",
       "  '0': '1',\n",
       "  '3': '8',\n",
       "  '2': '2',\n",
       "  '5': '9',\n",
       "  '4': '5',\n",
       "  '7': '1',\n",
       "  '6': '5',\n",
       "  '9': '6',\n",
       "  '8': '6',\n",
       "  '11': '0',\n",
       "  '10': '0',\n",
       "  '13': '8',\n",
       "  '12': 'N/A',\n",
       "  '15': '4',\n",
       "  '14': '0',\n",
       "  '17': '7',\n",
       "  '16': '4',\n",
       "  '19': '2',\n",
       "  '18': '0'},\n",
       " 'PLAYER_NAME': {'24': 'Jordan Mickey',\n",
       "  '25': 'James Young',\n",
       "  '20': 'Jonas Jerebko',\n",
       "  '21': 'Gerald Green',\n",
       "  '22': 'Tyler Zeller',\n",
       "  '23': 'Demetrius Jackson',\n",
       "  '1': 'Trevor Booker',\n",
       "  '0': 'Rondae Hollis-Jefferson',\n",
       "  '3': 'Bojan Bogdanovic',\n",
       "  '2': 'Brook Lopez',\n",
       "  '5': 'Joe Harris',\n",
       "  '4': 'Jeremy Lin',\n",
       "  '7': 'Greivis Vasquez',\n",
       "  '6': 'Luis Scola',\n",
       "  '9': 'Sean Kilpatrick',\n",
       "  '8': 'Justin Hamilton',\n",
       "  '11': 'Isaiah Whitehead',\n",
       "  '10': 'Chris McCullough',\n",
       "  '13': 'Jae Crowder',\n",
       "  '12': 'Anthony Bennett',\n",
       "  '15': 'Al Horford',\n",
       "  '14': 'Amir Johnson',\n",
       "  '17': 'Isaiah Thomas',\n",
       "  '16': 'Avery Bradley',\n",
       "  '19': 'Terry Rozier',\n",
       "  '18': 'Jaylen Brown'},\n",
       " 'AST': {'24': 'N/A',\n",
       "  '25': 'N/A',\n",
       "  '20': '3',\n",
       "  '21': '2',\n",
       "  '22': '3',\n",
       "  '23': 'N/A',\n",
       "  '1': '5',\n",
       "  '0': '0',\n",
       "  '3': '0',\n",
       "  '2': '0',\n",
       "  '5': '3',\n",
       "  '4': '3',\n",
       "  '7': '3',\n",
       "  '6': '3',\n",
       "  '9': '2',\n",
       "  '8': '2',\n",
       "  '11': '1',\n",
       "  '10': '0',\n",
       "  '13': '2',\n",
       "  '12': 'N/A',\n",
       "  '15': '6',\n",
       "  '14': '2',\n",
       "  '17': '8',\n",
       "  '16': '6',\n",
       "  '19': '3',\n",
       "  '18': '1'},\n",
       " 'FG3M': {'24': 'N/A',\n",
       "  '25': 'N/A',\n",
       "  '20': '0',\n",
       "  '21': '1',\n",
       "  '22': '0',\n",
       "  '23': 'N/A',\n",
       "  '1': '0',\n",
       "  '0': '0',\n",
       "  '3': '3',\n",
       "  '2': '1',\n",
       "  '5': '4',\n",
       "  '4': '2',\n",
       "  '7': '0',\n",
       "  '6': '1',\n",
       "  '9': '1',\n",
       "  '8': '3',\n",
       "  '11': '0',\n",
       "  '10': '0',\n",
       "  '13': '3',\n",
       "  '12': 'N/A',\n",
       "  '15': '1',\n",
       "  '14': '0',\n",
       "  '17': '2',\n",
       "  '16': '3',\n",
       "  '19': '1',\n",
       "  '18': '0'},\n",
       " 'OREB': {'24': 'N/A',\n",
       "  '25': 'N/A',\n",
       "  '20': '0',\n",
       "  '21': '1',\n",
       "  '22': '2',\n",
       "  '23': 'N/A',\n",
       "  '1': '1',\n",
       "  '0': '0',\n",
       "  '3': '2',\n",
       "  '2': '2',\n",
       "  '5': '0',\n",
       "  '4': '1',\n",
       "  '7': '0',\n",
       "  '6': '0',\n",
       "  '9': '1',\n",
       "  '8': '6',\n",
       "  '11': '0',\n",
       "  '10': '2',\n",
       "  '13': '0',\n",
       "  '12': 'N/A',\n",
       "  '15': '1',\n",
       "  '14': '4',\n",
       "  '17': '0',\n",
       "  '16': '4',\n",
       "  '19': '0',\n",
       "  '18': '0'},\n",
       " 'TO': {'24': 'N/A',\n",
       "  '25': 'N/A',\n",
       "  '20': '1',\n",
       "  '21': '1',\n",
       "  '22': '1',\n",
       "  '23': 'N/A',\n",
       "  '1': '1',\n",
       "  '0': '1',\n",
       "  '3': '2',\n",
       "  '2': '2',\n",
       "  '5': '3',\n",
       "  '4': '2',\n",
       "  '7': '0',\n",
       "  '6': '2',\n",
       "  '9': '2',\n",
       "  '8': '1',\n",
       "  '11': '0',\n",
       "  '10': '0',\n",
       "  '13': '2',\n",
       "  '12': 'N/A',\n",
       "  '15': '2',\n",
       "  '14': '4',\n",
       "  '17': '3',\n",
       "  '16': '3',\n",
       "  '19': '1',\n",
       "  '18': '1'},\n",
       " 'START_POSITION': {'24': 'N/A',\n",
       "  '25': 'N/A',\n",
       "  '20': 'N/A',\n",
       "  '21': 'N/A',\n",
       "  '22': 'N/A',\n",
       "  '23': 'N/A',\n",
       "  '1': 'F',\n",
       "  '0': 'F',\n",
       "  '3': 'G',\n",
       "  '2': 'C',\n",
       "  '5': 'N/A',\n",
       "  '4': 'G',\n",
       "  '7': 'N/A',\n",
       "  '6': 'N/A',\n",
       "  '9': 'N/A',\n",
       "  '8': 'N/A',\n",
       "  '11': 'N/A',\n",
       "  '10': 'N/A',\n",
       "  '13': 'F',\n",
       "  '12': 'N/A',\n",
       "  '15': 'C',\n",
       "  '14': 'F',\n",
       "  '17': 'G',\n",
       "  '16': 'G',\n",
       "  '19': 'N/A',\n",
       "  '18': 'N/A'},\n",
       " 'PF': {'24': 'N/A',\n",
       "  '25': 'N/A',\n",
       "  '20': '1',\n",
       "  '21': '1',\n",
       "  '22': '2',\n",
       "  '23': 'N/A',\n",
       "  '1': '0',\n",
       "  '0': '1',\n",
       "  '3': '2',\n",
       "  '2': '1',\n",
       "  '5': '3',\n",
       "  '4': '1',\n",
       "  '7': '3',\n",
       "  '6': '3',\n",
       "  '9': '0',\n",
       "  '8': '4',\n",
       "  '11': '1',\n",
       "  '10': '0',\n",
       "  '13': '2',\n",
       "  '12': 'N/A',\n",
       "  '15': '2',\n",
       "  '14': '2',\n",
       "  '17': '3',\n",
       "  '16': '4',\n",
       "  '19': '2',\n",
       "  '18': '1'},\n",
       " 'PTS': {'24': 'N/A',\n",
       "  '25': 'N/A',\n",
       "  '20': '4',\n",
       "  '21': '9',\n",
       "  '22': '13',\n",
       "  '23': 'N/A',\n",
       "  '1': '8',\n",
       "  '0': '5',\n",
       "  '3': '21',\n",
       "  '2': '7',\n",
       "  '5': '16',\n",
       "  '4': '18',\n",
       "  '7': '0',\n",
       "  '6': '8',\n",
       "  '9': '13',\n",
       "  '8': '19',\n",
       "  '11': '0',\n",
       "  '10': '2',\n",
       "  '13': '21',\n",
       "  '12': 'N/A',\n",
       "  '15': '11',\n",
       "  '14': '8',\n",
       "  '17': '25',\n",
       "  '16': '17',\n",
       "  '19': '5',\n",
       "  '18': '9'},\n",
       " 'FGA': {'24': 'N/A',\n",
       "  '25': 'N/A',\n",
       "  '20': '8',\n",
       "  '21': '7',\n",
       "  '22': '7',\n",
       "  '23': 'N/A',\n",
       "  '1': '5',\n",
       "  '0': '3',\n",
       "  '3': '17',\n",
       "  '2': '7',\n",
       "  '5': '15',\n",
       "  '4': '14',\n",
       "  '7': '1',\n",
       "  '6': '8',\n",
       "  '9': '13',\n",
       "  '8': '12',\n",
       "  '11': '0',\n",
       "  '10': '2',\n",
       "  '13': '15',\n",
       "  '12': 'N/A',\n",
       "  '15': '8',\n",
       "  '14': '6',\n",
       "  '17': '14',\n",
       "  '16': '15',\n",
       "  '19': '5',\n",
       "  '18': '4'},\n",
       " 'STL': {'24': 'N/A',\n",
       "  '25': 'N/A',\n",
       "  '20': '4',\n",
       "  '21': '0',\n",
       "  '22': '0',\n",
       "  '23': 'N/A',\n",
       "  '1': '3',\n",
       "  '0': '1',\n",
       "  '3': '1',\n",
       "  '2': '0',\n",
       "  '5': '2',\n",
       "  '4': '0',\n",
       "  '7': '1',\n",
       "  '6': '0',\n",
       "  '9': '0',\n",
       "  '8': '0',\n",
       "  '11': '0',\n",
       "  '10': '0',\n",
       "  '13': '2',\n",
       "  '12': 'N/A',\n",
       "  '15': '0',\n",
       "  '14': '1',\n",
       "  '17': '2',\n",
       "  '16': '1',\n",
       "  '19': '2',\n",
       "  '18': '1'},\n",
       " 'FTA': {'24': 'N/A',\n",
       "  '25': 'N/A',\n",
       "  '20': '2',\n",
       "  '21': '0',\n",
       "  '22': '2',\n",
       "  '23': 'N/A',\n",
       "  '1': '0',\n",
       "  '0': '4',\n",
       "  '3': '0',\n",
       "  '2': '4',\n",
       "  '5': '0',\n",
       "  '4': '5',\n",
       "  '7': '0',\n",
       "  '6': '2',\n",
       "  '9': '2',\n",
       "  '8': '3',\n",
       "  '11': '0',\n",
       "  '10': '0',\n",
       "  '13': '0',\n",
       "  '12': 'N/A',\n",
       "  '15': '0',\n",
       "  '14': '1',\n",
       "  '17': '9',\n",
       "  '16': '0',\n",
       "  '19': '0',\n",
       "  '18': '4'},\n",
       " 'BLK': {'24': 'N/A',\n",
       "  '25': 'N/A',\n",
       "  '20': '0',\n",
       "  '21': '0',\n",
       "  '22': '2',\n",
       "  '23': 'N/A',\n",
       "  '1': '0',\n",
       "  '0': '0',\n",
       "  '3': '0',\n",
       "  '2': '0',\n",
       "  '5': '2',\n",
       "  '4': '1',\n",
       "  '7': '0',\n",
       "  '6': '0',\n",
       "  '9': '0',\n",
       "  '8': '0',\n",
       "  '11': '0',\n",
       "  '10': '0',\n",
       "  '13': '1',\n",
       "  '12': 'N/A',\n",
       "  '15': '4',\n",
       "  '14': '0',\n",
       "  '17': '0',\n",
       "  '16': '0',\n",
       "  '19': '0',\n",
       "  '18': '2'},\n",
       " 'DREB': {'24': 'N/A',\n",
       "  '25': 'N/A',\n",
       "  '20': '1',\n",
       "  '21': '4',\n",
       "  '22': '2',\n",
       "  '23': 'N/A',\n",
       "  '1': '6',\n",
       "  '0': '2',\n",
       "  '3': '3',\n",
       "  '2': '3',\n",
       "  '5': '4',\n",
       "  '4': '2',\n",
       "  '7': '0',\n",
       "  '6': '1',\n",
       "  '9': '3',\n",
       "  '8': '4',\n",
       "  '11': '1',\n",
       "  '10': '0',\n",
       "  '13': '5',\n",
       "  '12': 'N/A',\n",
       "  '15': '4',\n",
       "  '14': '3',\n",
       "  '17': '6',\n",
       "  '16': '5',\n",
       "  '19': '3',\n",
       "  '18': '2'},\n",
       " 'FTM': {'24': 'N/A',\n",
       "  '25': 'N/A',\n",
       "  '20': '2',\n",
       "  '21': '0',\n",
       "  '22': '1',\n",
       "  '23': 'N/A',\n",
       "  '1': '0',\n",
       "  '0': '3',\n",
       "  '3': '0',\n",
       "  '2': '4',\n",
       "  '5': '0',\n",
       "  '4': '4',\n",
       "  '7': '0',\n",
       "  '6': '1',\n",
       "  '9': '2',\n",
       "  '8': '2',\n",
       "  '11': '0',\n",
       "  '10': '0',\n",
       "  '13': '0',\n",
       "  '12': 'N/A',\n",
       "  '15': '0',\n",
       "  '14': '0',\n",
       "  '17': '9',\n",
       "  '16': '0',\n",
       "  '19': '0',\n",
       "  '18': '3'},\n",
       " 'FT_PCT': {'24': 'N/A',\n",
       "  '25': 'N/A',\n",
       "  '20': '100',\n",
       "  '21': '0',\n",
       "  '22': '50',\n",
       "  '23': 'N/A',\n",
       "  '1': '0',\n",
       "  '0': '75',\n",
       "  '3': '0',\n",
       "  '2': '100',\n",
       "  '5': '0',\n",
       "  '4': '80',\n",
       "  '7': '0',\n",
       "  '6': '50',\n",
       "  '9': '100',\n",
       "  '8': '67',\n",
       "  '11': '0',\n",
       "  '10': '0',\n",
       "  '13': '0',\n",
       "  '12': 'N/A',\n",
       "  '15': '0',\n",
       "  '14': '0',\n",
       "  '17': '100',\n",
       "  '16': '0',\n",
       "  '19': '0',\n",
       "  '18': '75'},\n",
       " 'FG_PCT': {'24': 'N/A',\n",
       "  '25': 'N/A',\n",
       "  '20': '13',\n",
       "  '21': '57',\n",
       "  '22': '86',\n",
       "  '23': 'N/A',\n",
       "  '1': '80',\n",
       "  '0': '33',\n",
       "  '3': '53',\n",
       "  '2': '14',\n",
       "  '5': '40',\n",
       "  '4': '43',\n",
       "  '7': '0',\n",
       "  '6': '38',\n",
       "  '9': '39',\n",
       "  '8': '58',\n",
       "  '11': '0',\n",
       "  '10': '50',\n",
       "  '13': '60',\n",
       "  '12': 'N/A',\n",
       "  '15': '63',\n",
       "  '14': '67',\n",
       "  '17': '50',\n",
       "  '16': '47',\n",
       "  '19': '40',\n",
       "  '18': '75'},\n",
       " 'FG3_PCT': {'24': 'N/A',\n",
       "  '25': 'N/A',\n",
       "  '20': '0',\n",
       "  '21': '50',\n",
       "  '22': '0',\n",
       "  '23': 'N/A',\n",
       "  '1': '0',\n",
       "  '0': '0',\n",
       "  '3': '38',\n",
       "  '2': '50',\n",
       "  '5': '44',\n",
       "  '4': '40',\n",
       "  '7': '0',\n",
       "  '6': '20',\n",
       "  '9': '17',\n",
       "  '8': '50',\n",
       "  '11': '0',\n",
       "  '10': '0',\n",
       "  '13': '38',\n",
       "  '12': 'N/A',\n",
       "  '15': '25',\n",
       "  '14': '0',\n",
       "  '17': '29',\n",
       "  '16': '75',\n",
       "  '19': '50',\n",
       "  '18': '0'},\n",
       " 'SECOND_NAME': {'24': 'Mickey',\n",
       "  '25': 'Young',\n",
       "  '20': 'Jerebko',\n",
       "  '21': 'Green',\n",
       "  '22': 'Zeller',\n",
       "  '23': 'Jackson',\n",
       "  '1': 'Booker',\n",
       "  '0': 'Hollis-Jefferson',\n",
       "  '3': 'Bogdanovic',\n",
       "  '2': 'Lopez',\n",
       "  '5': 'Harris',\n",
       "  '4': 'Lin',\n",
       "  '7': 'Vasquez',\n",
       "  '6': 'Scola',\n",
       "  '9': 'Kilpatrick',\n",
       "  '8': 'Hamilton',\n",
       "  '11': 'Whitehead',\n",
       "  '10': 'McCullough',\n",
       "  '13': 'Crowder',\n",
       "  '12': 'Bennett',\n",
       "  '15': 'Horford',\n",
       "  '14': 'Johnson',\n",
       "  '17': 'Thomas',\n",
       "  '16': 'Bradley',\n",
       "  '19': 'Rozier',\n",
       "  '18': 'Brown'},\n",
       " 'TEAM_CITY': {'24': 'Boston',\n",
       "  '25': 'Boston',\n",
       "  '20': 'Boston',\n",
       "  '21': 'Boston',\n",
       "  '22': 'Boston',\n",
       "  '23': 'Boston',\n",
       "  '1': 'Brooklyn',\n",
       "  '0': 'Brooklyn',\n",
       "  '3': 'Brooklyn',\n",
       "  '2': 'Brooklyn',\n",
       "  '5': 'Brooklyn',\n",
       "  '4': 'Brooklyn',\n",
       "  '7': 'Brooklyn',\n",
       "  '6': 'Brooklyn',\n",
       "  '9': 'Brooklyn',\n",
       "  '8': 'Brooklyn',\n",
       "  '11': 'Brooklyn',\n",
       "  '10': 'Brooklyn',\n",
       "  '13': 'Boston',\n",
       "  '12': 'Brooklyn',\n",
       "  '15': 'Boston',\n",
       "  '14': 'Boston',\n",
       "  '17': 'Boston',\n",
       "  '16': 'Boston',\n",
       "  '19': 'Boston',\n",
       "  '18': 'Boston'}}"
      ]
     },
     "execution_count": 7,
     "metadata": {},
     "output_type": "execute_result"
    }
   ],
   "source": [
    "training_sample['box_score']"
   ]
  },
  {
   "cell_type": "code",
   "execution_count": 8,
   "metadata": {},
   "outputs": [
    {
     "data": {
      "text/plain": [
       "\"The Boston Celtics held off the Brooklyn Nets for a 122 - 117 win in the season opener for both teams Wednesday at TD Garden . The Celtics ( 10 ) came into this game as a 12 - point favorite , but the Nets ( 0 - 1 ) made them work for a relieving win . A 36 - 25 fourth quarter is how Brooklyn crawled back in the game , but Boston did just enough to hold on . The offense was incredibly efficient for the Celtics , as they shot 54 percent from the field and recorded 36 assists on their 48 made baskets . The 22 combined blocks and steals for Boston doubled up that of Brooklyn , who recorded just 11 in total . Brooklyn was expected to be one of the worst teams in the NBA , but they gave an elite team a run for their money in the opener . The bench was key for the Nets , as Sean Kilpatrick , Joe Harris and Justin Hamilton combined for 48 points and 18 rebounds off the pine . Hamilton actually finished with 19 points and 10 rebounds in the best game of his career . Bojan Bogdanovic led the team in scoring , dropping 21 points on 9 - for - 17 shooting . Jeremy Lin played well in his debut as well , amassing 18 points , three rebounds and three assists . Boston made this one a nail biter , but they ended up getting their much deserved win . Isaiah Thomas scored a game - high 25 points in the victory , also adding six rebounds and nine assists . Jae Crowder was second on the team , with his 21 points and five boards . Avery Bradley fell a rebound shy of a double - double , totaling 17 points , nine rebounds and five assists . Al Hoford stuffed the stat sheet in his debut , accumulating 11 points , five rebounds , six assists and four blocks in the win . Boston will have a quick turnaround , as they travel to Illinois to play the Chicago Bulls on Thursday . Brooklyn 's next game is on Friday , when they host the Indiana Pacers .\""
      ]
     },
     "execution_count": 8,
     "metadata": {},
     "output_type": "execute_result"
    }
   ],
   "source": [
    "\" \".join(training_sample['summary'])"
   ]
  },
  {
   "cell_type": "code",
   "execution_count": 9,
   "metadata": {},
   "outputs": [
    {
     "data": {
      "text/plain": [
       "{'TEAM-PTS_QTR2': '27',\n",
       " 'TEAM-FT_PCT': '80',\n",
       " 'TEAM-PTS_QTR1': '31',\n",
       " 'TEAM-PTS_QTR4': '36',\n",
       " 'TEAM-PTS_QTR3': '23',\n",
       " 'TEAM-CITY': 'Brooklyn',\n",
       " 'TEAM-PTS': '117',\n",
       " 'TEAM-AST': '22',\n",
       " 'TEAM-LOSSES': '1',\n",
       " 'TEAM-NAME': 'Nets',\n",
       " 'TEAM-WINS': '0',\n",
       " 'TEAM-REB': '44',\n",
       " 'TEAM-TOV': '16',\n",
       " 'TEAM-FG3_PCT': '34',\n",
       " 'TEAM-FG_PCT': '44'}"
      ]
     },
     "execution_count": 9,
     "metadata": {},
     "output_type": "execute_result"
    }
   ],
   "source": [
    "training_sample[\"vis_line\"]"
   ]
  },
  {
   "cell_type": "code",
   "execution_count": 10,
   "metadata": {},
   "outputs": [
    {
     "data": {
      "text/plain": [
       "{'TEAM-PTS_QTR2': '31',\n",
       " 'TEAM-FT_PCT': '83',\n",
       " 'TEAM-PTS_QTR1': '33',\n",
       " 'TEAM-PTS_QTR4': '25',\n",
       " 'TEAM-PTS_QTR3': '33',\n",
       " 'TEAM-CITY': 'Boston',\n",
       " 'TEAM-PTS': '122',\n",
       " 'TEAM-AST': '36',\n",
       " 'TEAM-LOSSES': '0',\n",
       " 'TEAM-NAME': 'Celtics',\n",
       " 'TEAM-WINS': '1',\n",
       " 'TEAM-REB': '47',\n",
       " 'TEAM-TOV': '19',\n",
       " 'TEAM-FG3_PCT': '34',\n",
       " 'TEAM-FG_PCT': '54'}"
      ]
     },
     "execution_count": 10,
     "metadata": {},
     "output_type": "execute_result"
    }
   ],
   "source": [
    "training_sample[\"home_line\"]"
   ]
  },
  {
   "cell_type": "markdown",
   "metadata": {},
   "source": [
    "json_file = list[dict1, dict2, dict3 ... ], where dict_i - info about a game\n",
    "\n",
    "dict_keys([  \n",
    "'home_name', 'home_city', 'home_line',   \n",
    "'vis_name', 'vis_city', 'vis_line',   \n",
    "'day',    \n",
    "'box_score',   \n",
    "'summary'])   "
   ]
  },
  {
   "cell_type": "markdown",
   "metadata": {},
   "source": [
    "============================================================================="
   ]
  },
  {
   "cell_type": "markdown",
   "metadata": {},
   "source": [
    "The boxscore-data json files can be downloaded from the boxscore-data repo. (above)    \n",
    "\n",
    "The input dataset for data2text-plan-py can be created by running the **script create_dataset.py** in scripts folder. The dataset so obtained is available at link https://drive.google.com/open?id=1R_82ifGiybHKuXnVnC8JhBTW8BAkdwek"
   ]
  },
  {
   "cell_type": "markdown",
   "metadata": {},
   "source": [
    "Results of create_datasets:  \n",
    "\n",
    "\n",
    "inf_src_train.txt  \n",
    "\n",
    "src_train.txt  \n",
    "tgt_train.txt  \n",
    "\n",
    "-----\n",
    "\n",
    "inf_src_valid.txt  \n",
    "inf_tgt_valid.txt  \n",
    "src_valid.txt  \n",
    "tgt_valid.txt  \n",
    "\n",
    "-----\n",
    "\n",
    "train_content_plan.txt  \n",
    "valid_content_plan.txt  \n",
    "\n",
    "train-roto-ptrs.txt    \n",
    "\n",
    "\n",
    "inter/  \n",
    "test/  "
   ]
  },
  {
   "cell_type": "markdown",
   "metadata": {},
   "source": [
    "## Investigating what is going on in scripts/create_dataset.py"
   ]
  },
  {
   "cell_type": "code",
   "execution_count": 11,
   "metadata": {},
   "outputs": [],
   "source": [
    "JSON = \"rotowire/train.json\"\n",
    "ORACLE_IE_OUTPUT = 'roto_train-beam5_gens.h5-tuples.txt'  # oracle content plan obtained from IE tool\n",
    "\n",
    "INTER_CONTENT_PLAN = 'rotowire/inter/train_content_plan.txt'  # intermediate content plan input to second stage\n",
    "SRC_FILE = 'rotowire/src_train.txt'  # src file input to first stage\n",
    "TRAIN_TGT_FILE = \"rotowire/tgt_train.txt\"  # tgt file of second stage\n",
    "CONTENT_PLAN_OUT = 'rotowire/train_content_plan.txt'  # content plan output of first stage"
   ]
  },
  {
   "cell_type": "code",
   "execution_count": 12,
   "metadata": {},
   "outputs": [],
   "source": [
    "with open('rotowire/train.json') as reader:\n",
    "    # This reads the remaining lines from the file object and returns them as a list.\n",
    "    train_json = json.load(reader)"
   ]
  },
  {
   "cell_type": "code",
   "execution_count": 13,
   "metadata": {},
   "outputs": [
    {
     "data": {
      "text/plain": [
       "3398"
      ]
     },
     "execution_count": 13,
     "metadata": {},
     "output_type": "execute_result"
    }
   ],
   "source": [
    "len(list(train_json))"
   ]
  },
  {
   "cell_type": "code",
   "execution_count": 14,
   "metadata": {},
   "outputs": [],
   "source": [
    "with open('roto_train-beam5_gens.h5-tuples.txt') as reader:\n",
    "    # This reads the remaining lines from the file object and returns them as a list.\n",
    "    roto_train_beam5_gens = reader.readlines()"
   ]
  },
  {
   "cell_type": "code",
   "execution_count": 15,
   "metadata": {},
   "outputs": [
    {
     "data": {
      "text/plain": [
       "86479"
      ]
     },
     "execution_count": 15,
     "metadata": {},
     "output_type": "execute_result"
    }
   ],
   "source": [
    "len(roto_train_beam5_gens)"
   ]
  },
  {
   "cell_type": "code",
   "execution_count": 16,
   "metadata": {},
   "outputs": [
    {
     "data": {
      "text/plain": [
       "'The Celtics saw great team play in their Christmas Day win , and it translated to the box score . Boston had 25 assists to just 11 for New York , and the team committed just six turnovers on the night . All-Star Isaiah Thomas once again led Boston with 27 points , while star center Al Horford scored 15 points and stuffed the stat sheet with seven rebounds , five assists , three steals , and two blocks . Third-year point guard Marcus Smart impressed off the bench , dishing seven assists and scoring 15 points including the game - winning three - pointer . New York , meanwhile , saw solid play from its stars . Sophomore big man Kristaps Porzingis had 22 points and 12 rebounds as well as four blocks . All-Star Carmelo Anthony had 29 points , 22 of which came in the second half . Point guard Derrick Rose also had 25 points in one of his highest - scoring outings of the season .'"
      ]
     },
     "execution_count": 16,
     "metadata": {},
     "output_type": "execute_result"
    }
   ],
   "source": [
    "\" \".join(train_json[0]['summary'])"
   ]
  },
  {
   "cell_type": "code",
   "execution_count": 17,
   "metadata": {},
   "outputs": [
    {
     "data": {
      "text/plain": [
       "['\\n',\n",
       " 'Boston|25|TEAM-AST\\n',\n",
       " 'Isaiah Thomas|27|PLAYER-PTS\\n',\n",
       " 'Al Horford|15|PLAYER-PTS\\n',\n",
       " 'Al Horford|seven|PLAYER-REB\\n',\n",
       " 'Al Horford|five|PLAYER-AST\\n',\n",
       " 'Al Horford|three|PLAYER-STL\\n',\n",
       " 'Al Horford|two|PLAYER-BLK\\n',\n",
       " 'Marcus Smart|seven|PLAYER-AST\\n',\n",
       " 'Marcus Smart|15|PLAYER-PTS\\n',\n",
       " 'Kristaps Porzingis|22|PLAYER-PTS\\n',\n",
       " 'Kristaps Porzingis|12|PLAYER-REB\\n',\n",
       " 'Kristaps Porzingis|four|PLAYER-BLK\\n',\n",
       " 'Carmelo Anthony|29|PLAYER-PTS\\n',\n",
       " 'Derrick Rose|25|PLAYER-PTS\\n',\n",
       " '\\n',\n",
       " 'Phoenix Suns|39|TEAM-WINS\\n',\n",
       " 'Phoenix Suns|38|TEAM-LOSSES\\n',\n",
       " 'Phoenix Suns|87|TEAM-PTS\\n',\n",
       " 'Utah Jazz|85|TEAM-PTS\\n',\n",
       " 'Utah Jazz|34|TEAM-WINS\\n',\n",
       " 'Utah Jazz|42|TEAM-LOSSES\\n',\n",
       " 'Gerald Green|24|PLAYER-PTS\\n',\n",
       " 'Gerald Green|22|PLAYER-MIN\\n',\n",
       " 'Warren|four|PLAYER-PTS\\n',\n",
       " 'Brandan Wright|14|PLAYER-PTS\\n',\n",
       " 'Brandan Wright|three|PLAYER-REB\\n',\n",
       " 'Brandan Wright|four|PLAYER-BLK\\n',\n",
       " 'Brandan Wright|three|PLAYER-STL\\n',\n",
       " 'Brandan Wright|one|PLAYER-AST\\n',\n",
       " 'Brandan Wright|33|PLAYER-MIN\\n',\n",
       " 'Hood|17|PLAYER-PTS\\n',\n",
       " 'Gordon Hayward|21|PLAYER-PTS\\n',\n",
       " 'Gordon Hayward|18|PLAYER-FGA\\n',\n",
       " 'Rudy Gobert|eight|PLAYER-PTS\\n',\n",
       " 'Rudy Gobert|15|PLAYER-REB\\n',\n",
       " 'Rudy Gobert|two|PLAYER-AST\\n',\n",
       " 'Rudy Gobert|one|PLAYER-STL\\n',\n",
       " 'Rudy Gobert|one|PLAYER-BLK\\n',\n",
       " 'Rudy Gobert|38|PLAYER-MIN\\n',\n",
       " '\\n',\n",
       " 'Portland|122|TEAM-PTS\\n',\n",
       " 'Trail Blazers|122|TEAM-PTS\\n',\n",
       " 'Denver Nuggets|113|TEAM-PTS\\n',\n",
       " 'Portland|36|TEAM-WINS\\n',\n",
       " 'Portland|38|TEAM-LOSSES\\n',\n",
       " 'Nurkic|33|PLAYER-PTS\\n',\n",
       " 'Nurkic|16|PLAYER-REB\\n',\n",
       " 'Nurkic|three|PLAYER-BLK\\n',\n",
       " 'Nurkic|12|PLAYER-FGM\\n',\n",
       " 'Nurkic|15|PLAYER-FGA\\n',\n",
       " 'Nurkic|9|PLAYER-FTM\\n',\n",
       " 'Nurkic|11|PLAYER-FTA\\n',\n",
       " 'McCollum|15|PLAYER-FGM\\n',\n",
       " 'McCollum|24|PLAYER-FGA\\n',\n",
       " 'McCollum|39|PLAYER-PTS\\n',\n",
       " 'Denver|35|TEAM-WINS\\n',\n",
       " 'Denver|39|TEAM-LOSSES\\n',\n",
       " 'Nikola Jokic|17|PLAYER-PTS\\n',\n",
       " 'Nikola Jokic|eight|PLAYER-REB\\n',\n",
       " 'Nikola Jokic|eight|PLAYER-AST\\n',\n",
       " '\\n',\n",
       " 'Los Angeles Clippers|3|TEAM-WINS\\n',\n",
       " 'Los Angeles Clippers|1|TEAM-LOSSES\\n',\n",
       " 'Los Angeles Clippers|107|TEAM-PTS\\n',\n",
       " 'Utah Jazz|1|TEAM-WINS\\n',\n",
       " 'Utah Jazz|3|TEAM-LOSSES\\n',\n",
       " 'Utah Jazz|101|TEAM-PTS\\n',\n",
       " 'Chris Paul|13|PLAYER-PTS\\n',\n",
       " 'Chris Paul|10|PLAYER-REB\\n',\n",
       " 'Chris Paul|12|PLAYER-AST\\n',\n",
       " 'Chris Paul|36|PLAYER-MIN\\n',\n",
       " 'Blake Griffin|14|PLAYER-FGM\\n',\n",
       " 'Blake Griffin|21|PLAYER-FGA\\n',\n",
       " 'Blake Griffin|31|PLAYER-PTS\\n',\n",
       " 'Blake Griffin|38|PLAYER-MIN\\n',\n",
       " 'Redick|16|PLAYER-MIN\\n',\n",
       " 'Crawford|19|PLAYER-PTS\\n',\n",
       " 'Crawford|34|PLAYER-MIN\\n',\n",
       " 'Gordon Hayward|27|PLAYER-PTS\\n',\n",
       " 'Gordon Hayward|seven|PLAYER-REB\\n',\n",
       " 'Gordon Hayward|five|PLAYER-AST\\n',\n",
       " 'Gordon Hayward|36|PLAYER-MIN\\n',\n",
       " 'Enes Kanter|17|PLAYER-PTS\\n',\n",
       " 'Enes Kanter|nine|PLAYER-REB\\n',\n",
       " 'Enes Kanter|27|PLAYER-MIN\\n',\n",
       " '\\n',\n",
       " 'Chicago|46|TEAM-REB\\n',\n",
       " 'Jon Leuer|16|PLAYER-PTS\\n',\n",
       " 'Jon Leuer|7|PLAYER-FGM\\n',\n",
       " 'Jon Leuer|9|PLAYER-FGA\\n',\n",
       " 'Jimmy Butler|19|PLAYER-PTS\\n',\n",
       " 'Jimmy Butler|three|PLAYER-REB\\n',\n",
       " 'Jimmy Butler|six|PLAYER-AST\\n',\n",
       " 'Rajon Rondo|10|PLAYER-PTS\\n',\n",
       " 'Rajon Rondo|eight|PLAYER-REB\\n',\n",
       " 'Rajon Rondo|14|PLAYER-AST\\n',\n",
       " '\\n',\n",
       " 'Houston Rockets|3|TEAM-WINS\\n',\n",
       " 'Houston Rockets|3|TEAM-LOSSES\\n',\n",
       " 'Houston Rockets|119|TEAM-PTS\\n',\n",
       " 'Los Angeles Clippers|3|TEAM-WINS\\n',\n",
       " 'Los Angeles Clippers|3|TEAM-LOSSES\\n',\n",
       " 'Los Angeles Clippers|107|TEAM-PTS\\n',\n",
       " 'Josh Smith|2|PLAYER-FG3M\\n',\n",
       " 'Josh Smith|7|PLAYER-FG3A\\n',\n",
       " 'Josh Smith|19|PLAYER-PTS\\n',\n",
       " 'Dwight Howard|20|PLAYER-PTS\\n',\n",
       " 'Dwight Howard|21|PLAYER-REB\\n',\n",
       " 'Dwight Howard|40|PLAYER-MIN\\n',\n",
       " '\\n',\n",
       " 'Isaiah Thomas|15|PLAYER-AST\\n',\n",
       " 'Isaiah Thomas|29|PLAYER-PTS\\n',\n",
       " 'Boston|55|TEAM-FG_PCT\\n',\n",
       " 'Boston|55|TEAM-FG3_PCT\\n',\n",
       " 'Al Horford|21|PLAYER-PTS\\n',\n",
       " 'Jae Crowder|21|PLAYER-PTS\\n',\n",
       " 'Avery Bradley|14|PLAYER-PTS\\n',\n",
       " 'Jaylen Brown|10|PLAYER-PTS\\n',\n",
       " 'Marcus Smart|nine|PLAYER-PTS\\n',\n",
       " 'Marcus Smart|28|PLAYER-MIN\\n',\n",
       " 'Gordon Hayward|23|PLAYER-PTS\\n',\n",
       " 'Derrick Favors|12|PLAYER-PTS\\n',\n",
       " 'Derrick Favors|29|PLAYER-MIN\\n',\n",
       " 'Rodney Hood|nine|PLAYER-PTS\\n',\n",
       " 'Rudy Gobert|13|PLAYER-REB\\n',\n",
       " 'Joe Johnson|17|PLAYER-PTS\\n',\n",
       " 'Boris Diaw|15|PLAYER-PTS\\n',\n",
       " '\\n',\n",
       " 'Oklahoma City Thunder|11|TEAM-WINS\\n',\n",
       " 'Oklahoma City Thunder|13|TEAM-LOSSES\\n',\n",
       " 'Oklahoma City Thunder|112|TEAM-PTS\\n',\n",
       " 'Phoenix Suns|12|TEAM-WINS\\n',\n",
       " 'Phoenix Suns|13|TEAM-LOSSES\\n',\n",
       " 'Phoenix Suns|88|TEAM-PTS\\n',\n",
       " 'Oklahoma City|48|TEAM-FG_PCT\\n',\n",
       " 'Gerald Green|15|PLAYER-PTS\\n',\n",
       " 'Gerald Green|seven|PLAYER-REB\\n',\n",
       " 'Gerald Green|26|PLAYER-MIN\\n',\n",
       " '\\n',\n",
       " 'Houston Rockets|104|TEAM-PTS\\n',\n",
       " 'Philadelphia 76ers|0|TEAM-WINS\\n',\n",
       " 'Philadelphia 76ers|4|TEAM-LOSSES\\n',\n",
       " 'Philadelphia 76ers|93|TEAM-PTS\\n',\n",
       " 'Philadelphia|0|TEAM-WINS\\n',\n",
       " 'Philadelphia|4|TEAM-LOSSES\\n',\n",
       " 'James Harden|35|PLAYER-PTS\\n',\n",
       " 'James Harden|7|PLAYER-FGM\\n',\n",
       " 'James Harden|18|PLAYER-FGA\\n',\n",
       " 'James Harden|4|PLAYER-FG3M\\n',\n",
       " 'James Harden|8|PLAYER-FG3A\\n',\n",
       " 'James Harden|17|PLAYER-FTM\\n',\n",
       " 'James Harden|18|PLAYER-FTA\\n',\n",
       " 'James Harden|nine|PLAYER-REB\\n',\n",
       " 'James Harden|38|PLAYER-MIN\\n',\n",
       " 'Trevor Ariza|24|PLAYER-PTS\\n',\n",
       " 'Trevor Ariza|8|PLAYER-FGM\\n',\n",
       " 'Trevor Ariza|13|PLAYER-FGA\\n',\n",
       " 'Trevor Ariza|6|PLAYER-FG3M\\n',\n",
       " 'Trevor Ariza|9|PLAYER-FG3A\\n',\n",
       " 'Dwight Howard|11|PLAYER-PTS\\n',\n",
       " 'Dwight Howard|14|PLAYER-REB\\n',\n",
       " 'Wroten|20|PLAYER-PTS\\n',\n",
       " 'Wroten|five|PLAYER-STL\\n',\n",
       " 'Wroten|30|PLAYER-MIN\\n',\n",
       " 'Nerlens Noel|10|PLAYER-PTS\\n',\n",
       " 'Nerlens Noel|one|PLAYER-REB\\n',\n",
       " 'Nerlens Noel|five|PLAYER-AST\\n',\n",
       " 'Nerlens Noel|six|PLAYER-STL\\n',\n",
       " 'Nerlens Noel|one|PLAYER-BLK\\n',\n",
       " '\\n',\n",
       " 'Atlanta Hawks|21|TEAM-WINS\\n',\n",
       " 'Atlanta Hawks|13|TEAM-LOSSES\\n',\n",
       " 'Atlanta Hawks|121|TEAM-PTS\\n',\n",
       " 'Houston Rockets|17|TEAM-WINS\\n',\n",
       " 'Houston Rockets|16|TEAM-LOSSES\\n',\n",
       " 'Houston Rockets|115|TEAM-PTS\\n',\n",
       " 'Howard|30|PLAYER-PTS\\n',\n",
       " 'Howard|16|PLAYER-REB\\n',\n",
       " 'Horford|30|PLAYER-PTS\\n',\n",
       " 'Horford|14|PLAYER-REB\\n',\n",
       " 'Kent Bazemore|26|PLAYER-PTS\\n',\n",
       " 'Kent Bazemore|four|PLAYER-AST\\n',\n",
       " 'Kent Bazemore|three|PLAYER-REB\\n',\n",
       " 'Jeff Teague|22|PLAYER-PTS\\n',\n",
       " 'Paul Millsap|22|PLAYER-PTS\\n',\n",
       " 'Hawks|21|TEAM-WINS\\n',\n",
       " 'Hawks|13|TEAM-LOSSES\\n',\n",
       " 'Harden|one|PLAYER-STL\\n',\n",
       " 'Harden|26|PLAYER-PTS\\n',\n",
       " 'Harden|10|PLAYER-REB\\n',\n",
       " 'Harden|eight|PLAYER-AST\\n',\n",
       " 'Clint Capela|17|PLAYER-PTS\\n',\n",
       " 'Clint Capela|10|PLAYER-REB\\n',\n",
       " 'Trevor Ariza|10|PLAYER-PTS\\n',\n",
       " 'Patrick Beverley|nine|PLAYER-PTS\\n',\n",
       " 'Ty Lawson|14|PLAYER-PTS\\n',\n",
       " 'Ty Lawson|four|PLAYER-AST\\n',\n",
       " 'Rockets|16|TEAM-WINS\\n',\n",
       " 'Rockets|17|TEAM-LOSSES\\n',\n",
       " '\\n',\n",
       " 'Portland|30|TEAM-WINS\\n',\n",
       " 'Portland|27|TEAM-LOSSES\\n',\n",
       " 'Trail Blazers|30|TEAM-WINS\\n',\n",
       " 'Trail Blazers|27|TEAM-LOSSES\\n',\n",
       " 'Brooklyn Nets|15|TEAM-WINS\\n',\n",
       " 'Brooklyn Nets|42|TEAM-LOSSES\\n',\n",
       " 'Brooklyn Nets|104|TEAM-PTS\\n',\n",
       " 'Nets|21|TEAM-PTS_QTR1\\n',\n",
       " 'Brook Lopez|36|PLAYER-PTS\\n',\n",
       " 'Brook Lopez|10|PLAYER-REB\\n',\n",
       " 'Brook Lopez|four|PLAYER-STL\\n',\n",
       " 'Joe Johnson|19|PLAYER-PTS\\n',\n",
       " 'Joe Johnson|eight|PLAYER-REB\\n',\n",
       " 'Joe Johnson|four|PLAYER-AST\\n',\n",
       " 'McCollum|34|PLAYER-PTS\\n',\n",
       " 'McCollum|six|PLAYER-AST\\n',\n",
       " 'McCollum|five|PLAYER-REB\\n',\n",
       " 'Damian Lillard|34|PLAYER-PTS\\n',\n",
       " '\\n',\n",
       " 'Detroit Pistons|41|TEAM-WINS\\n',\n",
       " 'Detroit Pistons|36|TEAM-LOSSES\\n',\n",
       " 'Detroit Pistons|94|TEAM-PTS\\n',\n",
       " 'Chicago Bulls|38|TEAM-WINS\\n',\n",
       " 'Chicago Bulls|38|TEAM-LOSSES\\n',\n",
       " 'Chicago Bulls|90|TEAM-PTS\\n',\n",
       " 'Jackson|22|PLAYER-PTS\\n',\n",
       " 'Jackson|6|PLAYER-FGM\\n',\n",
       " 'Jackson|17|PLAYER-FGA\\n',\n",
       " 'Jackson|2|PLAYER-FG3M\\n',\n",
       " 'Jackson|3|PLAYER-FG3A\\n',\n",
       " 'Jackson|8|PLAYER-FTM\\n',\n",
       " 'Jackson|10|PLAYER-FTA\\n',\n",
       " 'Jackson|four|PLAYER-REB\\n',\n",
       " 'Jackson|four|PLAYER-AST\\n',\n",
       " 'Jackson|one|PLAYER-STL\\n',\n",
       " 'Jackson|six|PLAYER-TO\\n',\n",
       " 'Jackson|35|PLAYER-MIN\\n',\n",
       " 'Tobias Harris|21|PLAYER-PTS\\n',\n",
       " 'Tobias Harris|9|PLAYER-FGM\\n',\n",
       " 'Tobias Harris|17|PLAYER-FGA\\n',\n",
       " 'Tobias Harris|1|PLAYER-FG3M\\n',\n",
       " 'Tobias Harris|3|PLAYER-FG3A\\n',\n",
       " 'Tobias Harris|2|PLAYER-FTM\\n',\n",
       " 'Tobias Harris|2|PLAYER-FTA\\n',\n",
       " 'Tobias Harris|seven|PLAYER-REB\\n',\n",
       " 'Tobias Harris|four|PLAYER-AST\\n',\n",
       " 'Tobias Harris|two|PLAYER-STL\\n',\n",
       " 'Tobias Harris|one|PLAYER-BLK\\n',\n",
       " 'Tobias Harris|38|PLAYER-MIN\\n',\n",
       " 'Andre Drummond|one|PLAYER-BLK\\n',\n",
       " 'Andre Drummond|11|PLAYER-PTS\\n',\n",
       " 'Andre Drummond|11|PLAYER-REB\\n',\n",
       " 'Andre Drummond|four|PLAYER-AST\\n',\n",
       " 'Andre Drummond|two|PLAYER-STL\\n',\n",
       " 'Andre Drummond|28|PLAYER-MIN\\n',\n",
       " 'Pistons|42|TEAM-FG_PCT\\n',\n",
       " 'Pistons|50|TEAM-FG3_PCT\\n',\n",
       " 'Jimmy Butler|28|PLAYER-PTS\\n',\n",
       " 'Jimmy Butler|10|PLAYER-FGM\\n',\n",
       " 'Jimmy Butler|25|PLAYER-FGA\\n',\n",
       " 'Jimmy Butler|1|PLAYER-FG3M\\n',\n",
       " 'Jimmy Butler|7|PLAYER-FG3A\\n',\n",
       " 'Jimmy Butler|7|PLAYER-FTM\\n',\n",
       " 'Jimmy Butler|8|PLAYER-FTA\\n',\n",
       " 'Jimmy Butler|17|PLAYER-REB\\n',\n",
       " 'Jimmy Butler|12|PLAYER-AST\\n',\n",
       " 'Jimmy Butler|three|PLAYER-STL\\n',\n",
       " 'Jimmy Butler|two|PLAYER-BLK\\n',\n",
       " 'Jimmy Butler|39|PLAYER-MIN\\n',\n",
       " 'Pau Gasol|16|PLAYER-PTS\\n',\n",
       " 'Pau Gasol|14|PLAYER-REB\\n',\n",
       " 'Pau Gasol|four|PLAYER-BLK\\n',\n",
       " 'Pau Gasol|three|PLAYER-STL\\n',\n",
       " 'Pau Gasol|34|PLAYER-MIN\\n',\n",
       " 'Aaron Brooks|14|PLAYER-PTS\\n',\n",
       " 'Aaron Brooks|16|PLAYER-MIN\\n',\n",
       " '\\n',\n",
       " 'Miami Heat|11|TEAM-WINS\\n',\n",
       " 'Miami Heat|12|TEAM-LOSSES\\n',\n",
       " 'Miami Heat|100|TEAM-PTS\\n',\n",
       " 'Utah Jazz|6|TEAM-WINS\\n',\n",
       " 'Utah Jazz|17|TEAM-LOSSES\\n',\n",
       " 'Utah Jazz|95|TEAM-PTS\\n',\n",
       " 'Dwyane Wade|29|PLAYER-PTS\\n',\n",
       " 'Dwyane Wade|10|PLAYER-FGM\\n',\n",
       " 'Dwyane Wade|16|PLAYER-FGA\\n',\n",
       " 'Dwyane Wade|1|PLAYER-FG3M\\n',\n",
       " 'Dwyane Wade|1|PLAYER-FG3A\\n',\n",
       " 'Dwyane Wade|8|PLAYER-FTM\\n',\n",
       " 'Dwyane Wade|12|PLAYER-FGA\\n',\n",
       " 'Dwyane Wade|seven|PLAYER-AST\\n',\n",
       " 'Dwyane Wade|three|PLAYER-REB\\n',\n",
       " 'Dwyane Wade|one|PLAYER-STL\\n',\n",
       " 'Dwyane Wade|one|PLAYER-BLK\\n',\n",
       " 'Dwyane Wade|35|PLAYER-MIN\\n',\n",
       " 'Chris Bosh|22|PLAYER-PTS\\n',\n",
       " 'Chris Bosh|9|PLAYER-FGM\\n',\n",
       " 'Chris Bosh|16|PLAYER-FGA\\n',\n",
       " 'Chris Bosh|1|PLAYER-FG3M\\n',\n",
       " 'Chris Bosh|5|PLAYER-FG3A\\n',\n",
       " 'Chris Bosh|3|PLAYER-FTM\\n',\n",
       " 'Chris Bosh|4|PLAYER-FTA\\n',\n",
       " 'Chris Bosh|5|PLAYER-FGM\\n',\n",
       " 'Chris Bosh|1|PLAYER-FG3M\\n',\n",
       " 'Chris Bosh|2|PLAYER-FG3A\\n',\n",
       " 'Chris Bosh|3|PLAYER-FTM\\n',\n",
       " 'Chris Bosh|4|PLAYER-FTA\\n',\n",
       " 'Luol Deng|1|PLAYER-FG3M\\n',\n",
       " 'Luol Deng|5|PLAYER-FG3A\\n',\n",
       " 'Luol Deng|3|PLAYER-FTM\\n',\n",
       " 'Luol Deng|4|PLAYER-FTA\\n',\n",
       " 'Luol Deng|14|PLAYER-PTS\\n',\n",
       " 'Luol Deng|5|PLAYER-FGM\\n',\n",
       " 'Luol Deng|7|PLAYER-FGA\\n',\n",
       " 'Luol Deng|1|PLAYER-FG3M\\n',\n",
       " 'Luol Deng|2|PLAYER-FG3A\\n',\n",
       " 'Luol Deng|3|PLAYER-FTM\\n',\n",
       " 'Luol Deng|4|PLAYER-FTA\\n',\n",
       " 'Bosh|22|PLAYER-PTS\\n',\n",
       " 'Bosh|9|PLAYER-FGM\\n',\n",
       " 'Bosh|16|PLAYER-FGA\\n',\n",
       " 'Bosh|1|PLAYER-FG3M\\n',\n",
       " 'Bosh|5|PLAYER-FG3A\\n',\n",
       " 'Bosh|3|PLAYER-FTM\\n',\n",
       " 'Bosh|4|PLAYER-FTA\\n',\n",
       " 'Bosh|5|PLAYER-FGM\\n',\n",
       " 'Bosh|1|PLAYER-FG3M\\n',\n",
       " 'Bosh|2|PLAYER-FG3A\\n',\n",
       " 'Bosh|3|PLAYER-FTM\\n',\n",
       " 'Bosh|4|PLAYER-FTA\\n',\n",
       " 'Deng|1|PLAYER-FG3M\\n',\n",
       " 'Deng|3|PLAYER-FTM\\n',\n",
       " 'Deng|4|PLAYER-FTA\\n',\n",
       " 'Deng|14|PLAYER-PTS\\n',\n",
       " 'Deng|5|PLAYER-FGM\\n',\n",
       " 'Deng|7|PLAYER-FGA\\n',\n",
       " 'Deng|1|PLAYER-FG3M\\n',\n",
       " 'Deng|2|PLAYER-FG3A\\n',\n",
       " 'Deng|3|PLAYER-FTM\\n',\n",
       " 'Deng|4|PLAYER-FTA\\n',\n",
       " 'Gobert|nine|PLAYER-PTS\\n',\n",
       " 'Gobert|2|PLAYER-FGM\\n',\n",
       " 'Gobert|2|PLAYER-FGA\\n',\n",
       " 'Gobert|5|PLAYER-FTM\\n',\n",
       " 'Gobert|6|PLAYER-FTA\\n',\n",
       " 'Gobert|11|PLAYER-REB\\n',\n",
       " 'Gobert|five|PLAYER-BLK\\n',\n",
       " 'Gobert|four|PLAYER-AST\\n',\n",
       " 'Gobert|one|PLAYER-STL\\n',\n",
       " 'Gobert|26|PLAYER-MIN\\n',\n",
       " 'Enes Kanter|25|PLAYER-PTS\\n',\n",
       " 'Enes Kanter|10|PLAYER-FGM\\n',\n",
       " 'Enes Kanter|17|PLAYER-FGA\\n',\n",
       " 'Enes Kanter|1|PLAYER-FG3M\\n',\n",
       " 'Enes Kanter|3|PLAYER-FG3A\\n',\n",
       " 'Enes Kanter|4|PLAYER-FTM\\n',\n",
       " 'Enes Kanter|4|PLAYER-FTA\\n',\n",
       " 'Enes Kanter|eight|PLAYER-REB\\n',\n",
       " '\\n',\n",
       " 'Portland|0|TEAM-LOSSES\\n',\n",
       " 'Portland|106|TEAM-PTS\\n',\n",
       " 'Oklahoma City Thunder|0|TEAM-WINS\\n',\n",
       " 'Oklahoma City Thunder|1|TEAM-LOSSES\\n',\n",
       " 'Oklahoma City Thunder|89|TEAM-PTS\\n',\n",
       " 'Portland|0|TEAM-WINS\\n',\n",
       " 'Portland|1|TEAM-LOSSES\\n',\n",
       " 'Westbrook|16|PLAYER-FTA\\n',\n",
       " 'Lance Thomas|14|PLAYER-PTS\\n',\n",
       " 'Serge Ibaka|10|PLAYER-PTS\\n',\n",
       " 'Serge Ibaka|eight|PLAYER-REB\\n',\n",
       " 'Serge Ibaka|two|PLAYER-AST\\n',\n",
       " 'Serge Ibaka|four|PLAYER-BLK\\n',\n",
       " 'Steven Adams|eight|PLAYER-PTS\\n',\n",
       " 'Steven Adams|seven|PLAYER-REB\\n',\n",
       " 'Steven Adams|two|PLAYER-AST\\n',\n",
       " 'Steven Adams|two|PLAYER-STL\\n',\n",
       " 'LaMarcus Aldridge|27|PLAYER-PTS\\n',\n",
       " 'LaMarcus Aldridge|10|PLAYER-FGM\\n',\n",
       " 'LaMarcus Aldridge|19|PLAYER-FGA\\n',\n",
       " 'LaMarcus Aldridge|1|PLAYER-FG3M\\n',\n",
       " 'LaMarcus Aldridge|1|PLAYER-FG3A\\n',\n",
       " 'LaMarcus Aldridge|6|PLAYER-FTM\\n',\n",
       " 'LaMarcus Aldridge|8|PLAYER-FTA\\n',\n",
       " 'LaMarcus Aldridge|three|PLAYER-REB\\n',\n",
       " 'LaMarcus Aldridge|two|PLAYER-AST\\n',\n",
       " 'LaMarcus Aldridge|two|PLAYER-BLK\\n',\n",
       " 'Wesley Matthews|22|PLAYER-PTS\\n',\n",
       " 'Wesley Matthews|8|PLAYER-FGM\\n',\n",
       " 'Wesley Matthews|12|PLAYER-FGA\\n',\n",
       " 'Wesley Matthews|5|PLAYER-FG3M\\n',\n",
       " 'Wesley Matthews|9|PLAYER-FG3A\\n',\n",
       " 'Robin Lopez|11|PLAYER-PTS\\n',\n",
       " 'Robin Lopez|10|PLAYER-REB\\n',\n",
       " 'Robin Lopez|two|PLAYER-BLK\\n',\n",
       " 'Robin Lopez|32|PLAYER-MIN\\n',\n",
       " 'Nicolas Batum|16|PLAYER-PTS\\n',\n",
       " 'Nicolas Batum|five|PLAYER-REB\\n',\n",
       " 'Nicolas Batum|six|PLAYER-AST\\n',\n",
       " 'Nicolas Batum|one|PLAYER-STL\\n',\n",
       " '\\n',\n",
       " 'Houston Rockets|125|TEAM-PTS\\n',\n",
       " 'Phoenix Suns|111|TEAM-PTS\\n',\n",
       " 'Houston|22|TEAM-WINS\\n',\n",
       " 'Houston|8|TEAM-LOSSES\\n',\n",
       " 'James Harden|27|PLAYER-PTS\\n',\n",
       " 'James Harden|14|PLAYER-AST\\n',\n",
       " 'Eric Gordon|24|PLAYER-PTS\\n',\n",
       " 'Eric Gordon|seven|PLAYER-FG3M\\n',\n",
       " 'Phoenix|8|TEAM-WINS\\n',\n",
       " 'Phoenix|21|TEAM-LOSSES\\n',\n",
       " 'Bledsoe|16|PLAYER-PTS\\n',\n",
       " 'Booker|28|PLAYER-PTS\\n',\n",
       " 'Booker|six|PLAYER-REB\\n',\n",
       " 'Booker|seven|PLAYER-AST\\n',\n",
       " 'UNK Warren|19|PLAYER-PTS\\n',\n",
       " 'Brandon Knight|17|PLAYER-PTS\\n',\n",
       " '\\n',\n",
       " 'Utah Jazz|97|TEAM-PTS\\n',\n",
       " 'Dallas Mavericks|81|TEAM-PTS\\n',\n",
       " 'Jazz|2|TEAM-WINS\\n',\n",
       " 'Jazz|2|TEAM-LOSSES\\n',\n",
       " 'George Hill|25|PLAYER-PTS\\n',\n",
       " 'George Hill|six|PLAYER-REB\\n',\n",
       " 'George Hill|four|PLAYER-AST\\n',\n",
       " 'Rodney Hood|22|PLAYER-PTS\\n',\n",
       " 'Rodney Hood|seven|PLAYER-REB\\n',\n",
       " 'Mavericks|0|TEAM-WINS\\n',\n",
       " 'Mavericks|3|TEAM-LOSSES\\n',\n",
       " 'Harrison Barnes|14|PLAYER-PTS\\n',\n",
       " 'Deron Williams|12|PLAYER-PTS\\n',\n",
       " 'Wesley Matthews|12|PLAYER-PTS\\n',\n",
       " 'Dirk Nowitzki|nine|PLAYER-PTS\\n',\n",
       " 'Dirk Nowitzki|29|PLAYER-MIN\\n',\n",
       " '\\n',\n",
       " 'Atlanta Hawks|49|TEAM-WINS\\n',\n",
       " 'Atlanta Hawks|12|TEAM-LOSSES\\n',\n",
       " 'Atlanta Hawks|106|TEAM-PTS\\n',\n",
       " 'Cleveland Cavaliers|39|TEAM-WINS\\n',\n",
       " 'Cleveland Cavaliers|25|TEAM-LOSSES\\n',\n",
       " 'Cleveland Cavaliers|97|TEAM-PTS\\n',\n",
       " 'Dennis Schroder|15|PLAYER-PTS\\n',\n",
       " 'Dennis Schroder|eight|PLAYER-AST\\n',\n",
       " 'Dennis Schroder|24|PLAYER-MIN\\n',\n",
       " 'Kyrie Irving|five|PLAYER-TO\\n',\n",
       " 'LeBron James|nine|PLAYER-TO\\n',\n",
       " '\\n',\n",
       " 'Pelicans|39|TEAM-FG_PCT\\n',\n",
       " 'Pelicans|16|TEAM-TOV\\n',\n",
       " 'Kawhi Leonard|31|PLAYER-PTS\\n',\n",
       " 'Kawhi Leonard|seven|PLAYER-REB\\n',\n",
       " 'Kawhi Leonard|six|PLAYER-AST\\n',\n",
       " 'Kawhi Leonard|three|PLAYER-STL\\n',\n",
       " 'LaMarcus Aldridge|21|PLAYER-PTS\\n',\n",
       " 'LaMarcus Aldridge|15|PLAYER-REB\\n',\n",
       " 'LaMarcus Aldridge|three|PLAYER-BLK\\n',\n",
       " 'Patty Mills|15|PLAYER-PTS\\n',\n",
       " 'Patty Mills|two|PLAYER-REB\\n',\n",
       " 'Patty Mills|two|PLAYER-AST\\n',\n",
       " 'Patty Mills|two|PLAYER-STL\\n',\n",
       " 'Pau Gasol|12|PLAYER-PTS\\n',\n",
       " 'Pau Gasol|eight|PLAYER-REB\\n',\n",
       " 'Anthony Davis|29|PLAYER-PTS\\n',\n",
       " 'Anthony Davis|nine|PLAYER-REB\\n',\n",
       " 'Anthony Davis|three|PLAYER-AST\\n',\n",
       " 'Jrue Holiday|26|PLAYER-PTS\\n',\n",
       " 'Jrue Holiday|seven|PLAYER-REB\\n',\n",
       " 'Jrue Holiday|five|PLAYER-AST\\n',\n",
       " 'DeMarcus Cousins|19|PLAYER-PTS\\n',\n",
       " 'DeMarcus Cousins|23|PLAYER-REB\\n',\n",
       " 'DeMarcus Cousins|four|PLAYER-AST\\n',\n",
       " '\\n',\n",
       " 'Dallas Mavericks|31|TEAM-WINS\\n',\n",
       " 'Dallas Mavericks|28|TEAM-LOSSES\\n',\n",
       " 'Dallas Mavericks|122|TEAM-PTS\\n',\n",
       " 'Denver Nuggets|23|TEAM-WINS\\n',\n",
       " 'Denver Nuggets|36|TEAM-LOSSES\\n',\n",
       " 'Denver Nuggets|116|TEAM-PTS\\n',\n",
       " 'Felton|16|PLAYER-PTS\\n',\n",
       " 'Felton|7|PLAYER-FGM\\n',\n",
       " 'Felton|12|PLAYER-FGA\\n',\n",
       " 'Felton|0|PLAYER-FG3M\\n',\n",
       " 'Felton|2|PLAYER-FG3A\\n',\n",
       " 'Felton|2|PLAYER-FTM\\n',\n",
       " 'Felton|2|PLAYER-FTA\\n',\n",
       " 'Felton|six|PLAYER-AST\\n',\n",
       " 'Felton|four|PLAYER-REB\\n',\n",
       " 'Felton|40|PLAYER-MIN\\n',\n",
       " 'Chandler Parsons|27|PLAYER-PTS\\n',\n",
       " 'Chandler Parsons|10|PLAYER-FGM\\n',\n",
       " 'Chandler Parsons|17|PLAYER-FGA\\n',\n",
       " 'Chandler Parsons|4|PLAYER-FG3M\\n',\n",
       " 'Chandler Parsons|10|PLAYER-FG3A\\n',\n",
       " 'Chandler Parsons|3|PLAYER-FTM\\n',\n",
       " 'Chandler Parsons|4|PLAYER-FTA\\n',\n",
       " 'Chandler Parsons|five|PLAYER-REB\\n',\n",
       " 'Chandler Parsons|four|PLAYER-AST\\n',\n",
       " 'Chandler Parsons|40|PLAYER-MIN\\n',\n",
       " 'Chandler Parsons|0|PLAYER-BLK\\n',\n",
       " 'Dirk Nowitzki|20|PLAYER-PTS\\n',\n",
       " 'Dirk Nowitzki|10|PLAYER-FGM\\n',\n",
       " 'Dirk Nowitzki|21|PLAYER-FGA\\n',\n",
       " 'Dirk Nowitzki|0|PLAYER-FG3M\\n',\n",
       " 'Dirk Nowitzki|3|PLAYER-FG3A\\n',\n",
       " 'Dirk Nowitzki|13|PLAYER-REB\\n',\n",
       " 'Dirk Nowitzki|four|PLAYER-AST\\n',\n",
       " 'Dirk Nowitzki|40|PLAYER-MIN\\n',\n",
       " 'David Lee|25|PLAYER-MIN\\n',\n",
       " 'David Lee|14|PLAYER-PTS\\n',\n",
       " 'David Lee|6|PLAYER-FGM\\n',\n",
       " 'David Lee|10|PLAYER-FGA\\n',\n",
       " 'David Lee|2|PLAYER-FTM\\n',\n",
       " 'David Lee|4|PLAYER-FTA\\n',\n",
       " 'David Lee|14|PLAYER-REB\\n',\n",
       " 'David Lee|25|PLAYER-MIN\\n',\n",
       " 'Dallas|51|TEAM-FG_PCT\\n',\n",
       " 'Will Barton|22|PLAYER-PTS\\n',\n",
       " 'Will Barton|9|PLAYER-FGM\\n',\n",
       " 'Will Barton|24|PLAYER-FGA\\n',\n",
       " 'Will Barton|0|PLAYER-FG3M\\n',\n",
       " 'Will Barton|7|PLAYER-FG3A\\n',\n",
       " 'Will Barton|4|PLAYER-FTM\\n',\n",
       " 'Will Barton|5|PLAYER-FTA\\n',\n",
       " 'Will Barton|nine|PLAYER-REB\\n',\n",
       " 'Will Barton|three|PLAYER-AST\\n',\n",
       " 'Will Barton|43|PLAYER-MIN\\n',\n",
       " 'Kenneth Faried|34|PLAYER-MIN\\n',\n",
       " 'Kenneth Faried|20|PLAYER-PTS\\n',\n",
       " 'Kenneth Faried|8|PLAYER-FGM\\n',\n",
       " 'Kenneth Faried|12|PLAYER-FGA\\n',\n",
       " 'Kenneth Faried|4|PLAYER-FTM\\n',\n",
       " 'Kenneth Faried|6|PLAYER-FTA\\n',\n",
       " 'Kenneth Faried|12|PLAYER-REB\\n',\n",
       " 'Augustin|20|PLAYER-PTS\\n',\n",
       " 'Augustin|7|PLAYER-FGM\\n',\n",
       " 'Augustin|14|PLAYER-FGA\\n',\n",
       " 'Augustin|3|PLAYER-FG3M\\n',\n",
       " 'Augustin|6|PLAYER-FG3A\\n',\n",
       " 'Augustin|3|PLAYER-FTM\\n',\n",
       " 'Augustin|4|PLAYER-FTA\\n',\n",
       " 'Augustin|three|PLAYER-AST\\n',\n",
       " 'Augustin|two|PLAYER-REB\\n',\n",
       " 'Augustin|36|PLAYER-MIN\\n',\n",
       " 'Nuggets|46|TEAM-FG_PCT\\n',\n",
       " '\\n',\n",
       " 'San Antonio Spurs|67|TEAM-WINS\\n',\n",
       " 'San Antonio Spurs|15|TEAM-LOSSES\\n',\n",
       " 'San Antonio Spurs|96|TEAM-PTS\\n',\n",
       " 'Dallas Mavericks|42|TEAM-WINS\\n',\n",
       " 'Dallas Mavericks|40|TEAM-LOSSES\\n',\n",
       " 'Dallas Mavericks|91|TEAM-PTS\\n',\n",
       " 'Marjanovic|22|PLAYER-PTS\\n',\n",
       " 'Marjanovic|12|PLAYER-REB\\n',\n",
       " 'Marjanovic|two|PLAYER-BLK\\n',\n",
       " 'Simmons|19|PLAYER-PTS\\n',\n",
       " 'Simmons|seven|PLAYER-REB\\n',\n",
       " 'Simmons|two|PLAYER-AST\\n',\n",
       " 'Simmons|two|PLAYER-STL\\n',\n",
       " 'Simmons|31|PLAYER-MIN\\n',\n",
       " 'Anderson|15|PLAYER-PTS\\n',\n",
       " 'Anderson|10|PLAYER-REB\\n',\n",
       " 'Anderson|four|PLAYER-AST\\n',\n",
       " 'Anderson|five|PLAYER-STL\\n',\n",
       " 'Danny Green|12|PLAYER-PTS\\n',\n",
       " 'Danny Green|three|PLAYER-AST\\n',\n",
       " 'Danny Green|two|PLAYER-REB\\n',\n",
       " 'Raymond Felton|22|PLAYER-PTS\\n',\n",
       " 'Raymond Felton|four|PLAYER-REB\\n',\n",
       " 'Raymond Felton|two|PLAYER-AST\\n',\n",
       " 'Dirk Nowitzki|19|PLAYER-PTS\\n',\n",
       " 'Dirk Nowitzki|seven|PLAYER-REB\\n',\n",
       " 'Deron Williams|13|PLAYER-PTS\\n',\n",
       " 'Deron Williams|seven|PLAYER-AST\\n',\n",
       " 'Deron Williams|two|PLAYER-REB\\n',\n",
       " 'Wesley Matthews|11|PLAYER-PTS\\n',\n",
       " 'Wesley Matthews|four|PLAYER-REB\\n',\n",
       " 'Wesley Matthews|three|PLAYER-AST\\n',\n",
       " 'Wesley Matthews|three|PLAYER-STL\\n',\n",
       " '\\n',\n",
       " 'Chicago Bulls|102|TEAM-PTS\\n',\n",
       " 'Sacramento Kings|99|TEAM-PTS\\n',\n",
       " 'Bulls|22|TEAM-WINS\\n',\n",
       " 'Bulls|23|TEAM-LOSSES\\n',\n",
       " 'Wade|30|PLAYER-PTS\\n',\n",
       " 'Wade|six|PLAYER-REB\\n',\n",
       " 'Wade|four|PLAYER-AST\\n',\n",
       " 'Wade|four|PLAYER-BLK\\n',\n",
       " 'Wade|three|PLAYER-STL\\n',\n",
       " 'Jimmy Butler|23|PLAYER-PTS\\n',\n",
       " 'Paul Zipser|13|PLAYER-PTS\\n',\n",
       " 'Paul Zipser|4|PLAYER-FGM\\n',\n",
       " 'Paul Zipser|8|PLAYER-FGA\\n',\n",
       " 'Paul Zipser|23|PLAYER-MIN\\n',\n",
       " 'Nikola Mirotic|11|PLAYER-PTS\\n',\n",
       " 'Kings|18|TEAM-WINS\\n',\n",
       " 'Kings|27|TEAM-LOSSES\\n',\n",
       " 'Cousins|42|PLAYER-PTS\\n',\n",
       " 'Cousins|14|PLAYER-REB\\n',\n",
       " 'Cousins|three|PLAYER-AST\\n',\n",
       " 'Cousins|two|PLAYER-BLK\\n',\n",
       " 'Cousins|35|PLAYER-MIN\\n',\n",
       " '\\n',\n",
       " 'Atlanta Hawks|103|TEAM-PTS\\n',\n",
       " 'Miami Heat|95|TEAM-PTS\\n',\n",
       " 'Heat|42|TEAM-FG_PCT\\n',\n",
       " 'Heat|16|TEAM-TOV\\n',\n",
       " 'Atlanta|47|TEAM-REB\\n',\n",
       " 'Hawks|49|TEAM-FG_PCT\\n',\n",
       " 'Miami|7|TEAM-WINS\\n',\n",
       " 'Miami|15|TEAM-LOSSES\\n',\n",
       " 'Hassan Whiteside|eight|PLAYER-PTS\\n',\n",
       " 'Hassan Whiteside|12|PLAYER-REB\\n',\n",
       " 'Hassan Whiteside|one|PLAYER-BLK\\n',\n",
       " 'Hassan Whiteside|4|PLAYER-FGM\\n',\n",
       " 'Hassan Whiteside|12|PLAYER-FGA\\n',\n",
       " 'Tyler Johnson|27|PLAYER-PTS\\n',\n",
       " 'Tyler Johnson|five|PLAYER-AST\\n',\n",
       " 'Goran Dragic|21|PLAYER-PTS\\n',\n",
       " 'Goran Dragic|four|PLAYER-AST\\n',\n",
       " 'Rodney McGruder|11|PLAYER-PTS\\n',\n",
       " 'Rodney McGruder|five|PLAYER-REB\\n',\n",
       " 'Rodney McGruder|five|PLAYER-AST\\n',\n",
       " 'Atlanta|11|TEAM-WINS\\n',\n",
       " 'Atlanta|12|TEAM-LOSSES\\n',\n",
       " 'Dwight Howard|23|PLAYER-PTS\\n',\n",
       " 'Dwight Howard|17|PLAYER-REB\\n',\n",
       " 'Dwight Howard|four|PLAYER-AST\\n',\n",
       " 'Paul Millsap|21|PLAYER-PTS\\n',\n",
       " 'Paul Millsap|nine|PLAYER-REB\\n',\n",
       " 'Paul Millsap|four|PLAYER-STL\\n',\n",
       " 'Paul Millsap|three|PLAYER-BLK\\n',\n",
       " 'Dennis|17|PLAYER-PTS\\n',\n",
       " 'Dennis|four|PLAYER-REB\\n',\n",
       " 'Dennis|seven|PLAYER-AST\\n',\n",
       " '\\n',\n",
       " 'Hawks|36|TEAM-WINS\\n',\n",
       " 'Hawks|8|TEAM-LOSSES\\n',\n",
       " 'Hawks|103|TEAM-PTS\\n',\n",
       " 'Schroder|six|PLAYER-PTS\\n',\n",
       " 'Atlanta|48|TEAM-FG_PCT\\n',\n",
       " 'Paul Millsap|22|PLAYER-PTS\\n',\n",
       " 'Paul Millsap|10|PLAYER-REB\\n',\n",
       " 'Horford|14|PLAYER-PTS\\n',\n",
       " 'Horford|12|PLAYER-REB\\n',\n",
       " 'Jeff Teague|17|PLAYER-PTS\\n',\n",
       " 'Jeff Teague|nine|PLAYER-AST\\n',\n",
       " 'DeMarre Carroll|13|PLAYER-PTS\\n',\n",
       " 'Schroder|13|PLAYER-PTS\\n',\n",
       " 'Hawks|27|TEAM-AST\\n',\n",
       " 'Russell Westbrook|22|PLAYER-PTS\\n',\n",
       " 'Kevin Durant|21|PLAYER-PTS\\n',\n",
       " 'Serge Ibaka|13|PLAYER-PTS\\n',\n",
       " 'Thunder|11|TEAM-TOV\\n',\n",
       " '\\n',\n",
       " 'Milwaukee Bucks|14|TEAM-WINS\\n',\n",
       " 'Milwaukee Bucks|21|TEAM-LOSSES\\n',\n",
       " 'Milwaukee Bucks|95|TEAM-PTS\\n',\n",
       " 'Minnesota Timberwolves|12|TEAM-WINS\\n',\n",
       " 'Minnesota Timberwolves|22|TEAM-LOSSES\\n',\n",
       " 'Greg Monroe|19|PLAYER-PTS\\n',\n",
       " 'Giannis|11|PLAYER-PTS\\n',\n",
       " 'Giannis|nine|PLAYER-REB\\n',\n",
       " 'Andrew Wiggins|19|PLAYER-PTS\\n',\n",
       " 'Andrew Wiggins|three|PLAYER-STL\\n',\n",
       " '\\n',\n",
       " 'McDermott|31|PLAYER-PTS\\n',\n",
       " 'McDermott|three|PLAYER-FG3M\\n',\n",
       " 'McDermott|10|PLAYER-FTM\\n',\n",
       " 'McDermott|11|PLAYER-FTA\\n',\n",
       " 'Jimmy Butler|16|PLAYER-PTS\\n',\n",
       " 'Jimmy Butler|eight|PLAYER-REB\\n',\n",
       " 'Jimmy Butler|six|PLAYER-AST\\n',\n",
       " 'Jimmy Butler|three|PLAYER-STL\\n',\n",
       " 'Taj Gibson|18|PLAYER-PTS\\n',\n",
       " 'Taj Gibson|eight|PLAYER-REB\\n',\n",
       " 'Bulls|51|TEAM-FG_PCT\\n',\n",
       " 'Marc Gasol|24|PLAYER-PTS\\n',\n",
       " 'Marc Gasol|11|PLAYER-REB\\n',\n",
       " 'Mike Conley|28|PLAYER-PTS\\n',\n",
       " 'Mike Conley|eight|PLAYER-AST\\n',\n",
       " 'Zach Randolph|16|PLAYER-REB\\n',\n",
       " '\\n',\n",
       " 'Chicago Bulls|2|TEAM-WINS\\n',\n",
       " 'Chicago Bulls|1|TEAM-LOSSES\\n',\n",
       " 'Chicago Bulls|99|TEAM-PTS\\n',\n",
       " 'Cleveland Cavaliers|1|TEAM-WINS\\n',\n",
       " 'Cleveland Cavaliers|2|TEAM-LOSSES\\n',\n",
       " 'Cleveland Cavaliers|96|TEAM-PTS\\n',\n",
       " 'Rose|30|PLAYER-PTS\\n',\n",
       " 'Rose|seven|PLAYER-AST\\n',\n",
       " 'Rose|seven|PLAYER-REB\\n',\n",
       " 'Pau Gasol|22|PLAYER-MIN\\n',\n",
       " 'Mirotic|12|PLAYER-PTS\\n',\n",
       " 'Mirotic|eight|PLAYER-REB\\n',\n",
       " 'Mirotic|two|PLAYER-STL\\n',\n",
       " 'Mirotic|22|PLAYER-MIN\\n',\n",
       " 'Irving|38|PLAYER-MIN\\n',\n",
       " 'James|27|PLAYER-PTS\\n',\n",
       " 'James|14|PLAYER-AST\\n',\n",
       " 'James|eight|PLAYER-REB\\n',\n",
       " 'James|seven|PLAYER-TO\\n',\n",
       " 'Tristan Thompson|10|PLAYER-PTS\\n',\n",
       " 'Tristan Thompson|13|PLAYER-REB\\n',\n",
       " 'Tristan Thompson|three|PLAYER-BLK\\n',\n",
       " '\\n',\n",
       " 'Atlanta Hawks|44|TEAM-WINS\\n',\n",
       " 'Atlanta Hawks|12|TEAM-LOSSES\\n',\n",
       " 'Atlanta Hawks|97|TEAM-PTS\\n',\n",
       " 'Milwaukee Bucks|31|TEAM-WINS\\n',\n",
       " 'Milwaukee Bucks|24|TEAM-LOSSES\\n',\n",
       " 'Milwaukee Bucks|86|TEAM-PTS\\n',\n",
       " 'Paul Millsap|23|PLAYER-PTS\\n',\n",
       " 'Paul Millsap|10|PLAYER-FGM\\n',\n",
       " 'Paul Millsap|1|PLAYER-FG3M\\n',\n",
       " 'Paul Millsap|3|PLAYER-FG3A\\n',\n",
       " 'Paul Millsap|2|PLAYER-FTM\\n',\n",
       " 'Paul Millsap|2|PLAYER-FTA\\n',\n",
       " 'Paul Millsap|16|PLAYER-REB\\n',\n",
       " 'Paul Millsap|two|PLAYER-BLK\\n',\n",
       " 'Al Horford|15|PLAYER-PTS\\n',\n",
       " 'Al Horford|5|PLAYER-FGM\\n',\n",
       " 'Al Horford|12|PLAYER-FGA\\n',\n",
       " 'Al Horford|0|PLAYER-FG3M\\n',\n",
       " 'Al Horford|1|PLAYER-FG3A\\n',\n",
       " 'Al Horford|5|PLAYER-FTM\\n',\n",
       " 'Al Horford|6|PLAYER-FTA\\n',\n",
       " 'Al Horford|eight|PLAYER-REB\\n',\n",
       " 'Al Horford|two|PLAYER-BLK\\n',\n",
       " 'Kyle Korver|4|PLAYER-FGM\\n',\n",
       " 'Kyle Korver|11|PLAYER-FGA\\n',\n",
       " 'Kyle Korver|4|PLAYER-FG3M\\n',\n",
       " 'Kyle Korver|9|PLAYER-FG3A\\n',\n",
       " 'Jeff Teague|4|PLAYER-FGM\\n',\n",
       " 'Jeff Teague|8|PLAYER-FGA\\n',\n",
       " 'Jeff Teague|2|PLAYER-FTM\\n',\n",
       " 'Jeff Teague|2|PLAYER-FTA\\n',\n",
       " 'Dennis Schroder|12|PLAYER-PTS\\n',\n",
       " 'Dennis Schroder|3|PLAYER-FGM\\n',\n",
       " 'Dennis Schroder|10|PLAYER-FGA\\n',\n",
       " 'Dennis Schroder|1|PLAYER-FG3M\\n',\n",
       " 'Dennis Schroder|4|PLAYER-FG3A\\n',\n",
       " 'Dennis Schroder|1|PLAYER-FTM\\n',\n",
       " 'Dennis Schroder|2|PLAYER-FTA\\n',\n",
       " 'Dennis Schroder|nine|PLAYER-AST\\n',\n",
       " 'Dennis Schroder|26|PLAYER-MIN\\n',\n",
       " 'Giannis Antetokounmpo|one|PLAYER-STL\\n',\n",
       " 'Giannis Antetokounmpo|7|PLAYER-FGM\\n',\n",
       " 'Giannis Antetokounmpo|15|PLAYER-FGA\\n',\n",
       " 'Giannis Antetokounmpo|19|PLAYER-PTS\\n',\n",
       " 'Giannis Antetokounmpo|four|PLAYER-REB\\n',\n",
       " 'Giannis Antetokounmpo|two|PLAYER-BLK\\n',\n",
       " 'Khris Middleton|19|PLAYER-PTS\\n',\n",
       " 'Khris Middleton|6|PLAYER-FGM\\n',\n",
       " 'Khris Middleton|12|PLAYER-FGA\\n',\n",
       " 'Khris Middleton|1|PLAYER-FG3M\\n',\n",
       " 'Khris Middleton|4|PLAYER-FG3A\\n',\n",
       " 'Khris Middleton|6|PLAYER-FTM\\n',\n",
       " 'Khris Middleton|6|PLAYER-FTA\\n',\n",
       " 'Khris Middleton|four|PLAYER-REB\\n',\n",
       " 'Khris Middleton|five|PLAYER-AST\\n',\n",
       " 'Bayless|6|PLAYER-FGM\\n',\n",
       " 'Bayless|11|PLAYER-FGA\\n',\n",
       " 'Bayless|1|PLAYER-FG3M\\n',\n",
       " 'Bayless|2|PLAYER-FG3A\\n',\n",
       " 'Bayless|13|PLAYER-PTS\\n',\n",
       " 'Bayless|three|PLAYER-AST\\n',\n",
       " 'Bayless|three|PLAYER-STL\\n',\n",
       " '\\n',\n",
       " 'Jodie Meeks|9|PLAYER-FG3M\\n',\n",
       " 'Jodie Meeks|11|PLAYER-FG3A\\n',\n",
       " 'Jodie Meeks|34|PLAYER-PTS\\n',\n",
       " 'Drummond|17|PLAYER-PTS\\n',\n",
       " 'Drummond|22|PLAYER-REB\\n',\n",
       " 'Drummond|31|PLAYER-MIN\\n',\n",
       " '\\n',\n",
       " 'Detroit Pistons|120|TEAM-PTS\\n',\n",
       " 'Portland|113|TEAM-PTS\\n',\n",
       " 'Trail Blazers|113|TEAM-PTS\\n',\n",
       " 'Pistons|seven|TEAM-TOV\\n',\n",
       " 'Portland|52|TEAM-FG_PCT\\n',\n",
       " 'Detroit|43|TEAM-FG_PCT\\n',\n",
       " 'Blazers|23|TEAM-WINS\\n',\n",
       " 'Blazers|35|TEAM-LOSSES\\n',\n",
       " 'Damian Lillard|34|PLAYER-PTS\\n',\n",
       " 'Damian Lillard|11|PLAYER-REB\\n',\n",
       " 'Damian Lillard|nine|PLAYER-AST\\n',\n",
       " 'McCollum|25|PLAYER-PTS\\n',\n",
       " 'McCollum|four|PLAYER-REB\\n',\n",
       " 'McCollum|two|PLAYER-AST\\n',\n",
       " 'Jusuf Nurkic|19|PLAYER-PTS\\n',\n",
       " 'Jusuf Nurkic|seven|PLAYER-REB\\n',\n",
       " 'Jusuf Nurkic|five|PLAYER-AST\\n',\n",
       " 'Pistons|29|TEAM-WINS\\n',\n",
       " 'Pistons|31|TEAM-LOSSES\\n',\n",
       " 'Marcus Morris|37|PLAYER-PTS\\n',\n",
       " 'Marcus Morris|eight|PLAYER-REB\\n',\n",
       " 'Marcus Morris|six|PLAYER-AST\\n',\n",
       " 'Andre Drummond|19|PLAYER-PTS\\n',\n",
       " 'Andre Drummond|15|PLAYER-REB\\n',\n",
       " 'Kentavious Caldwell-Pope|16|PLAYER-PTS\\n',\n",
       " 'Kentavious Caldwell-Pope|three|PLAYER-REB\\n',\n",
       " 'Kentavious Caldwell-Pope|three|PLAYER-AST\\n',\n",
       " 'Kentavious Caldwell-Pope|three|PLAYER-STL\\n',\n",
       " 'Ish Smith|12|PLAYER-PTS\\n',\n",
       " 'Ish Smith|seven|PLAYER-AST\\n',\n",
       " 'Ish Smith|seven|PLAYER-STL\\n',\n",
       " '\\n',\n",
       " 'Brooklyn Nets|14|TEAM-WINS\\n',\n",
       " 'Brooklyn Nets|39|TEAM-LOSSES\\n',\n",
       " 'Brooklyn Nets|105|TEAM-PTS\\n',\n",
       " 'Denver Nuggets|21|TEAM-WINS\\n',\n",
       " 'Denver Nuggets|32|TEAM-LOSSES\\n',\n",
       " 'Denver Nuggets|104|TEAM-PTS\\n',\n",
       " 'Johnson|12|PLAYER-PTS\\n',\n",
       " 'Johnson|eight|PLAYER-AST\\n',\n",
       " 'Thaddeus Young|20|PLAYER-PTS\\n',\n",
       " 'Thaddeus Young|9|PLAYER-FGM\\n',\n",
       " 'Thaddeus Young|15|PLAYER-FGA\\n',\n",
       " 'Thaddeus Young|seven|PLAYER-REB\\n',\n",
       " 'Thaddeus Young|three|PLAYER-BLK\\n',\n",
       " 'Thaddeus Young|two|PLAYER-AST\\n',\n",
       " 'Markel Brown|19|PLAYER-PTS\\n',\n",
       " 'Markel Brown|6|PLAYER-FGM\\n',\n",
       " 'Markel Brown|10|PLAYER-FGA\\n',\n",
       " 'Markel Brown|2|PLAYER-FG3M\\n',\n",
       " 'Markel Brown|4|PLAYER-FG3A\\n',\n",
       " 'Nets|47|TEAM-FG_PCT\\n',\n",
       " 'Gallinari|24|PLAYER-PTS\\n',\n",
       " 'Gallinari|four|PLAYER-FG3M\\n',\n",
       " 'Gallinari|seven|PLAYER-AST\\n',\n",
       " 'Gallinari|three|PLAYER-REB\\n',\n",
       " 'Gallinari|two|PLAYER-STL\\n',\n",
       " 'Kenneth Faried|22|PLAYER-PTS\\n',\n",
       " 'Kenneth Faried|13|PLAYER-REB\\n',\n",
       " 'Gary Harris|17|PLAYER-PTS\\n',\n",
       " 'Gary Harris|8|PLAYER-FGM\\n',\n",
       " 'Gary Harris|12|PLAYER-FGA\\n',\n",
       " 'Denver|47|TEAM-FG_PCT\\n',\n",
       " '\\n',\n",
       " 'Warriors|52|TEAM-FG3_PCT\\n',\n",
       " 'Warriors|58|TEAM-FG_PCT\\n',\n",
       " 'Durant|28|PLAYER-PTS\\n',\n",
       " 'Durant|10|PLAYER-REB\\n',\n",
       " 'Thompson|20|PLAYER-PTS\\n',\n",
       " 'Thompson|8|PLAYER-FGM\\n',\n",
       " 'Thompson|13|PLAYER-FGA\\n',\n",
       " 'Patrick McCaw|20|PLAYER-MIN\\n',\n",
       " 'Patrick McCaw|five|PLAYER-PTS\\n',\n",
       " 'Patrick McCaw|three|PLAYER-AST\\n',\n",
       " 'Patrick McCaw|two|PLAYER-REB\\n',\n",
       " '\\n',\n",
       " 'Milwaukee Bucks|40|TEAM-WINS\\n',\n",
       " 'Milwaukee Bucks|40|TEAM-LOSSES\\n',\n",
       " 'Milwaukee Bucks|96|TEAM-PTS\\n',\n",
       " 'Brooklyn Nets|47|TEAM-WINS\\n',\n",
       " 'Brooklyn Nets|43|TEAM-LOSSES\\n',\n",
       " 'Brooklyn Nets|73|TEAM-PTS\\n',\n",
       " 'Ersan Ilyasova|21|PLAYER-PTS\\n',\n",
       " 'Ersan Ilyasova|8|PLAYER-FGM\\n',\n",
       " 'Ersan Ilyasova|12|PLAYER-FGA\\n',\n",
       " 'Ersan Ilyasova|3|PLAYER-FG3M\\n',\n",
       " 'Ersan Ilyasova|6|PLAYER-FG3A\\n',\n",
       " 'Ersan Ilyasova|five|PLAYER-REB\\n',\n",
       " 'Ersan Ilyasova|28|PLAYER-MIN\\n',\n",
       " 'Khris Middleton|16|PLAYER-PTS\\n',\n",
       " 'Khris Middleton|7|PLAYER-FGM\\n',\n",
       " 'Khris Middleton|11|PLAYER-FGA\\n',\n",
       " 'Khris Middleton|seven|PLAYER-AST\\n',\n",
       " 'Khris Middleton|four|PLAYER-REB\\n',\n",
       " 'Khris Middleton|30|PLAYER-MIN\\n',\n",
       " 'Giannis Antetokounmpo|13|PLAYER-PTS\\n',\n",
       " 'Giannis Antetokounmpo|6|PLAYER-FGM\\n',\n",
       " 'Giannis Antetokounmpo|14|PLAYER-FGA\\n',\n",
       " 'Giannis Antetokounmpo|nine|PLAYER-REB\\n',\n",
       " 'Giannis Antetokounmpo|seven|PLAYER-AST\\n',\n",
       " 'Giannis Antetokounmpo|30|PLAYER-MIN\\n',\n",
       " 'Mayo|17|PLAYER-PTS\\n',\n",
       " 'Mayo|6|PLAYER-FGM\\n',\n",
       " 'Mayo|13|PLAYER-FGA\\n',\n",
       " 'Mayo|3|PLAYER-FG3M\\n',\n",
       " 'Mayo|5|PLAYER-FG3A\\n',\n",
       " 'Mayo|20|PLAYER-MIN\\n',\n",
       " 'Michael Carter-Williams|12|PLAYER-PTS\\n',\n",
       " 'Bucks|30|TEAM-AST\\n',\n",
       " 'Brook Lopez|one|PLAYER-STL\\n',\n",
       " 'Brook Lopez|12|PLAYER-PTS\\n',\n",
       " 'Brook Lopez|3|PLAYER-FGM\\n',\n",
       " 'Brook Lopez|8|PLAYER-FGA\\n',\n",
       " 'Brook Lopez|6|PLAYER-FTM\\n',\n",
       " 'Brook Lopez|7|PLAYER-FTA\\n',\n",
       " 'Brook Lopez|10|PLAYER-REB\\n',\n",
       " 'Brook Lopez|31|PLAYER-MIN\\n',\n",
       " 'Mason Plumlee|11|PLAYER-PTS\\n',\n",
       " 'Jarrett Jack|11|PLAYER-PTS\\n',\n",
       " 'Deron Williams|1|PLAYER-FGM\\n',\n",
       " 'Deron Williams|11|PLAYER-FGA\\n',\n",
       " 'Deron Williams|four|PLAYER-PTS\\n',\n",
       " 'Deron Williams|33|PLAYER-MIN\\n',\n",
       " 'Nets|33|TEAM-FG_PCT\\n',\n",
       " 'Nets|17|TEAM-FG3_PCT\\n',\n",
       " 'Nets|17|TEAM-AST\\n',\n",
       " '\\n',\n",
       " 'San Antonio Spurs|52|TEAM-WINS\\n',\n",
       " 'San Antonio Spurs|26|TEAM-LOSSES\\n',\n",
       " 'San Antonio Spurs|113|TEAM-PTS\\n',\n",
       " 'Oklahoma City Thunder|88|TEAM-PTS\\n',\n",
       " 'Oklahoma City Thunder|42|TEAM-WINS\\n',\n",
       " 'Oklahoma City Thunder|36|TEAM-LOSSES\\n',\n",
       " 'Spurs|29|TEAM-PTS_QTR1\\n',\n",
       " 'Russell Westbrook|17|PLAYER-PTS\\n',\n",
       " 'Russell Westbrook|two|PLAYER-REB\\n',\n",
       " 'Russell Westbrook|two|PLAYER-AST\\n',\n",
       " 'Russell Westbrook|26|PLAYER-MIN\\n',\n",
       " 'Kawhi Leonard|26|PLAYER-PTS\\n',\n",
       " 'Kawhi Leonard|24|PLAYER-MIN\\n',\n",
       " '\\n',\n",
       " 'Denver Nuggets|27|TEAM-WINS\\n',\n",
       " 'Denver Nuggets|44|TEAM-LOSSES\\n',\n",
       " 'Denver Nuggets|119|TEAM-PTS\\n',\n",
       " 'Orlando Magic|100|TEAM-PTS\\n',\n",
       " 'Orlando Magic|22|TEAM-WINS\\n',\n",
       " 'Orlando Magic|50|TEAM-LOSSES\\n',\n",
       " 'Danilo Gallinari|40|PLAYER-PTS\\n',\n",
       " 'Danilo Gallinari|6|PLAYER-FG3M\\n',\n",
       " 'Danilo Gallinari|13|PLAYER-FG3A\\n',\n",
       " 'Elfrid Payton|6|PLAYER-PTS\\n',\n",
       " 'Elfrid Payton|eight|PLAYER-REB\\n',\n",
       " 'Elfrid Payton|eight|PLAYER-AST\\n',\n",
       " 'Jameer Nelson|17|PLAYER-MIN\\n',\n",
       " 'Jameer Nelson|15|PLAYER-PTS\\n',\n",
       " 'Jameer Nelson|five|PLAYER-AST\\n',\n",
       " 'Andrew Nicholson|13|PLAYER-PTS\\n',\n",
       " 'Andrew Nicholson|six|PLAYER-REB\\n',\n",
       " '\\n',\n",
       " 'Detroit Pistons|102|TEAM-PTS\\n',\n",
       " 'New York Knicks|89|TEAM-PTS\\n',\n",
       " 'Pistons|3|TEAM-WINS\\n',\n",
       " 'Pistons|1|TEAM-LOSSES\\n',\n",
       " 'Knicks|1|TEAM-WINS\\n',\n",
       " 'Knicks|2|TEAM-LOSSES\\n',\n",
       " 'Knicks|41|TEAM-FG_PCT\\n',\n",
       " 'Knicks|32|TEAM-FG3_PCT\\n',\n",
       " 'New York|10|TEAM-PTS_QTR4\\n',\n",
       " 'Carmelo Anthony|24|PLAYER-PTS\\n',\n",
       " 'Carmelo Anthony|four|PLAYER-STL\\n',\n",
       " 'Derrick Rose|19|PLAYER-PTS\\n',\n",
       " 'Derrick Rose|five|PLAYER-REB\\n',\n",
       " 'Kristaps Porzingis|18|PLAYER-PTS\\n',\n",
       " 'Kristaps Porzingis|six|PLAYER-REB\\n',\n",
       " 'Brandon Jennings|12|PLAYER-PTS\\n',\n",
       " 'Tobias Harris|25|PLAYER-PTS\\n',\n",
       " 'Tobias Harris|10|PLAYER-REB\\n',\n",
       " 'Tobias Harris|8|PLAYER-FGM\\n',\n",
       " 'Tobias Harris|12|PLAYER-FGA\\n',\n",
       " 'Marcus Morris|22|PLAYER-PTS\\n',\n",
       " 'Marcus Morris|9|PLAYER-FGM\\n',\n",
       " 'Marcus Morris|14|PLAYER-FGA\\n',\n",
       " 'Drummond|nine|PLAYER-PTS\\n',\n",
       " 'Drummond|13|PLAYER-REB\\n',\n",
       " 'Smith|10|PLAYER-PTS\\n',\n",
       " 'Smith|eight|PLAYER-AST\\n',\n",
       " '\\n',\n",
       " '\\n',\n",
       " 'Miami Heat|95|TEAM-PTS\\n',\n",
       " 'Miami|14|TEAM-WINS\\n',\n",
       " 'Miami|19|TEAM-LOSSES\\n',\n",
       " 'Bosh|18|PLAYER-PTS\\n',\n",
       " 'Bosh|38|PLAYER-MIN\\n',\n",
       " 'Danny Granger|14|PLAYER-PTS\\n',\n",
       " 'Indiana|12|TEAM-WINS\\n',\n",
       " 'Indiana|21|TEAM-LOSSES\\n',\n",
       " 'Miles|25|PLAYER-PTS\\n',\n",
       " 'Roy Hibbert|10|PLAYER-PTS\\n',\n",
       " 'Roy Hibbert|10|PLAYER-REB\\n',\n",
       " '\\n',\n",
       " 'Cleveland Cavaliers|18|TEAM-WINS\\n',\n",
       " 'Cleveland Cavaliers|7|TEAM-LOSSES\\n',\n",
       " 'Cleveland Cavaliers|108|TEAM-PTS\\n',\n",
       " 'Philadelphia 76ers|1|TEAM-WINS\\n',\n",
       " 'Philadelphia 76ers|28|TEAM-LOSSES\\n',\n",
       " 'Philadelphia 76ers|86|TEAM-PTS\\n',\n",
       " 'Nerlens Noel|15|PLAYER-PTS\\n',\n",
       " 'Nerlens Noel|12|PLAYER-REB\\n',\n",
       " 'Sampson|10|PLAYER-PTS\\n',\n",
       " 'Jahlil Okafor|nine|PLAYER-PTS\\n',\n",
       " 'Jahlil Okafor|eight|PLAYER-REB\\n',\n",
       " 'Robert Covington|2|PLAYER-FGM\\n',\n",
       " 'Robert Covington|9|PLAYER-FGA\\n',\n",
       " 'Isaiah Canaan|2|PLAYER-FGM\\n',\n",
       " 'Isaiah Canaan|9|PLAYER-FGA\\n',\n",
       " 'Philadelphia|1|TEAM-WINS\\n',\n",
       " 'Philadelphia|28|TEAM-LOSSES\\n',\n",
       " 'Kevin Love|10|PLAYER-PTS\\n',\n",
       " 'Kevin Love|four|PLAYER-REB\\n',\n",
       " 'Timofey Mozgov|eight|PLAYER-PTS\\n',\n",
       " 'Timofey Mozgov|eight|PLAYER-REB\\n',\n",
       " 'Matthew|20|PLAYER-PTS\\n',\n",
       " 'Matthew|two|PLAYER-AST\\n',\n",
       " 'Matthew|two|PLAYER-STL\\n',\n",
       " 'Matthew|two|PLAYER-BLK\\n',\n",
       " ...]"
      ]
     },
     "execution_count": 17,
     "metadata": {},
     "output_type": "execute_result"
    }
   ],
   "source": [
    "roto_train_beam5_gens"
   ]
  },
  {
   "cell_type": "code",
   "execution_count": 18,
   "metadata": {},
   "outputs": [
    {
     "name": "stdout",
     "output_type": "stream",
     "text": [
      "3398\n"
     ]
    }
   ],
   "source": [
    "count = 0\n",
    "for record in roto_train_beam5_gens:\n",
    "    if record == \"\\n\":\n",
    "        count += 1\n",
    "\n",
    "print(count)"
   ]
  },
  {
   "cell_type": "markdown",
   "metadata": {},
   "source": [
    "**Conclusion**: \n",
    "\n",
    "Input-like files:  \n",
    "\n",
    "JSON = *\"rotowire/train.json\"*  ----- training dataset  \n",
    "ORACLE_IE_OUTPUT = *'roto_train-beam5_gens.h5-tuples.txt'*  # oracle content plan obtained from IE tool   \n",
    "\n",
    "*roto_train-beam5_gens.h5-tuples.txt* - file represents CONTENT_PLAN for each game in trainning.json. Delimiter between different content plans is '\\n'  \n",
    "\n",
    "\n",
    "Output-like files:  \n",
    "\n",
    "INTER_CONTENT_PLAN = *'rotowire/inter/train_content_plan.txt'* ----- seems to be output file containing content plan  \n",
    "SRC_FILE = *'rotowire/src_train.txt'*  # src file input to first stage ----- seems to be a *preprocessed* input file for the model  \n",
    "TRAIN_TGT_FILE = *\"rotowire/tgt_train.txt\"* ----- seems to be a file containing correct summaries for each game in training dataset  \n",
    "CONTENT_PLAN_OUT = *'rotowire/train_content_plan.txt'* ----- seems to be output file\n"
   ]
  },
  {
   "cell_type": "markdown",
   "metadata": {},
   "source": [
    "======================================================================================  \n",
    "Finally, I was able to run the script!!!  \n",
    "\n",
    "(just create the intermediate directory 'inter' - 'rotowire/inter/train_content_plan.txt')  \n",
    "\n",
    "**Input**   \n",
    "JSON = \"rotowire/train.json\"  # input train.json file  \n",
    "ORACLE_IE_OUTPUT = 'roto_train-beam5_gens.h5-tuples.txt'  # oracle content plan obtained from IE tool  \n",
    "\n",
    "**Output**  \n",
    "so after the script the file generated:  \n",
    "*inter/train_content_plan.txt* ---- (# intermediate content plan input to second stage)  \n",
    "*src_train.txt*    ---- # src file input to first stage  \n",
    "*tgt_train.txt*    ---- # tgt file of second stage  \n",
    "*train_content_plan.txt*    ---- # content plan output of first stage"
   ]
  },
  {
   "cell_type": "code",
   "execution_count": 19,
   "metadata": {},
   "outputs": [],
   "source": [
    "HOME = \"HOME\"\n",
    "AWAY = \"AWAY\"\n",
    "\n",
    "PAD_WORD = '<blank>'\n",
    "UNK_WORD = '<unk>'\n",
    "UNK = 0\n",
    "BOS_WORD = '<s>'\n",
    "EOS_WORD = '</s>'\n",
    "\n",
    "bs_keys = [\"PLAYER-START_POSITION\", \"PLAYER-MIN\", \"PLAYER-PTS\",\n",
    "     \"PLAYER-FGM\", \"PLAYER-FGA\", \"PLAYER-FG_PCT\", \"PLAYER-FG3M\", \"PLAYER-FG3A\",\n",
    "     \"PLAYER-FG3_PCT\", \"PLAYER-FTM\", \"PLAYER-FTA\", \"PLAYER-FT_PCT\", \"PLAYER-OREB\",\n",
    "     \"PLAYER-DREB\", \"PLAYER-REB\", \"PLAYER-AST\", \"PLAYER-TO\", \"PLAYER-STL\", \"PLAYER-BLK\",\n",
    "     \"PLAYER-PF\", \"PLAYER-FIRST_NAME\", \"PLAYER-SECOND_NAME\"]\n",
    "\n",
    "ls_keys = [\"TEAM-PTS_QTR1\", \"TEAM-PTS_QTR2\", \"TEAM-PTS_QTR3\", \"TEAM-PTS_QTR4\",\n",
    "    \"TEAM-PTS\", \"TEAM-FG_PCT\", \"TEAM-FG3_PCT\", \"TEAM-FT_PCT\", \"TEAM-REB\",\n",
    "    \"TEAM-AST\", \"TEAM-TOV\", \"TEAM-WINS\", \"TEAM-LOSSES\", \"TEAM-CITY\", \"TEAM-NAME\"]"
   ]
  },
  {
   "cell_type": "code",
   "execution_count": null,
   "metadata": {},
   "outputs": [],
   "source": []
  },
  {
   "cell_type": "code",
   "execution_count": null,
   "metadata": {},
   "outputs": [],
   "source": []
  },
  {
   "cell_type": "code",
   "execution_count": null,
   "metadata": {},
   "outputs": [],
   "source": []
  },
  {
   "cell_type": "code",
   "execution_count": null,
   "metadata": {},
   "outputs": [],
   "source": []
  },
  {
   "cell_type": "code",
   "execution_count": null,
   "metadata": {},
   "outputs": [],
   "source": []
  },
  {
   "cell_type": "code",
   "execution_count": null,
   "metadata": {},
   "outputs": [],
   "source": []
  },
  {
   "cell_type": "code",
   "execution_count": null,
   "metadata": {},
   "outputs": [],
   "source": []
  },
  {
   "cell_type": "code",
   "execution_count": null,
   "metadata": {},
   "outputs": [],
   "source": []
  },
  {
   "cell_type": "code",
   "execution_count": null,
   "metadata": {},
   "outputs": [],
   "source": []
  },
  {
   "cell_type": "code",
   "execution_count": null,
   "metadata": {},
   "outputs": [],
   "source": []
  },
  {
   "cell_type": "code",
   "execution_count": null,
   "metadata": {},
   "outputs": [],
   "source": []
  },
  {
   "cell_type": "code",
   "execution_count": null,
   "metadata": {},
   "outputs": [],
   "source": []
  },
  {
   "cell_type": "code",
   "execution_count": null,
   "metadata": {},
   "outputs": [],
   "source": []
  },
  {
   "cell_type": "code",
   "execution_count": null,
   "metadata": {},
   "outputs": [],
   "source": []
  },
  {
   "cell_type": "code",
   "execution_count": null,
   "metadata": {},
   "outputs": [],
   "source": []
  },
  {
   "cell_type": "code",
   "execution_count": null,
   "metadata": {},
   "outputs": [],
   "source": []
  },
  {
   "cell_type": "code",
   "execution_count": null,
   "metadata": {},
   "outputs": [],
   "source": []
  },
  {
   "cell_type": "code",
   "execution_count": null,
   "metadata": {},
   "outputs": [],
   "source": []
  },
  {
   "cell_type": "code",
   "execution_count": null,
   "metadata": {},
   "outputs": [],
   "source": []
  },
  {
   "cell_type": "code",
   "execution_count": null,
   "metadata": {},
   "outputs": [],
   "source": []
  },
  {
   "cell_type": "code",
   "execution_count": null,
   "metadata": {},
   "outputs": [],
   "source": []
  },
  {
   "cell_type": "code",
   "execution_count": null,
   "metadata": {},
   "outputs": [],
   "source": []
  },
  {
   "cell_type": "code",
   "execution_count": null,
   "metadata": {},
   "outputs": [],
   "source": []
  },
  {
   "cell_type": "code",
   "execution_count": null,
   "metadata": {},
   "outputs": [],
   "source": []
  },
  {
   "cell_type": "code",
   "execution_count": null,
   "metadata": {},
   "outputs": [],
   "source": []
  },
  {
   "cell_type": "code",
   "execution_count": null,
   "metadata": {},
   "outputs": [],
   "source": []
  },
  {
   "cell_type": "markdown",
   "metadata": {},
   "source": [
    "### Final results by *create_dataset.py* - see how the files look like  \n",
    "so after the script the file generated:  \n",
    "- inter/train_content_plan.txt ---- (# intermediate content plan input to second stage)  \n",
    "- src_train.txt ---- # src file input to first stage  \n",
    "- tgt_train.txt ---- # tgt file of second stage  \n",
    "- train_content_plan.txt ---- # content plan output of first stage  "
   ]
  },
  {
   "cell_type": "code",
   "execution_count": 20,
   "metadata": {},
   "outputs": [],
   "source": [
    "with open('rotowire/src_train.txt') as reader:\n",
    "    # This reads the remaining lines from the file object and returns them as a list.\n",
    "    src_train = reader.readlines()"
   ]
  },
  {
   "cell_type": "code",
   "execution_count": 21,
   "metadata": {},
   "outputs": [
    {
     "data": {
      "text/plain": [
       "3371"
      ]
     },
     "execution_count": 21,
     "metadata": {},
     "output_type": "execute_result"
    }
   ],
   "source": [
    "len(src_train)"
   ]
  },
  {
   "cell_type": "code",
   "execution_count": 22,
   "metadata": {},
   "outputs": [
    {
     "data": {
      "text/plain": [
       "\"<unk>￨<blank>￨<blank>￨<blank> <blank>￨<blank>￨<blank>￨<blank> <s>￨<blank>￨<blank>￨<blank> </s>￨<blank>￨<blank>￨<blank> F￨Solomon_Hill￨START_POSITION￨HOME 30￨Solomon_Hill￨MIN￨HOME 10￨Solomon_Hill￨PTS￨HOME 3￨Solomon_Hill￨FGM￨HOME 7￨Solomon_Hill￨FGA￨HOME 43￨Solomon_Hill￨FG_PCT￨HOME 1￨Solomon_Hill￨FG3M￨HOME 3￨Solomon_Hill￨FG3A￨HOME 33￨Solomon_Hill￨FG3_PCT￨HOME 3￨Solomon_Hill￨FTM￨HOME 6￨Solomon_Hill￨FTA￨HOME 50￨Solomon_Hill￨FT_PCT￨HOME 1￨Solomon_Hill￨OREB￨HOME 1￨Solomon_Hill￨DREB￨HOME 2￨Solomon_Hill￨REB￨HOME 3￨Solomon_Hill￨AST￨HOME 1￨Solomon_Hill￨TO￨HOME 1￨Solomon_Hill￨STL￨HOME 0￨Solomon_Hill￨BLK￨HOME 1￨Solomon_Hill￨PF￨HOME Solomon￨Solomon_Hill￨FIRST_NAME￨HOME Hill￨Solomon_Hill￨SECOND_NAME￨HOME F￨David_West￨START_POSITION￨HOME 25￨David_West￨MIN￨HOME 10￨David_West￨PTS￨HOME 5￨David_West￨FGM￨HOME 8￨David_West￨FGA￨HOME 63￨David_West￨FG_PCT￨HOME 0￨David_West￨FG3M￨HOME 0￨David_West￨FG3A￨HOME 0￨David_West￨FG3_PCT￨HOME 0￨David_West￨FTM￨HOME 0￨David_West￨FTA￨HOME 0￨David_West￨FT_PCT￨HOME 0￨David_West￨OREB￨HOME 7￨David_West￨DREB￨HOME 7￨David_West￨REB￨HOME 2￨David_West￨AST￨HOME 2￨David_West￨TO￨HOME 1￨David_West￨STL￨HOME 2￨David_West￨BLK￨HOME 2￨David_West￨PF￨HOME David￨David_West￨FIRST_NAME￨HOME West￨David_West￨SECOND_NAME￨HOME C￨Roy_Hibbert￨START_POSITION￨HOME 16￨Roy_Hibbert￨MIN￨HOME 6￨Roy_Hibbert￨PTS￨HOME 3￨Roy_Hibbert￨FGM￨HOME 8￨Roy_Hibbert￨FGA￨HOME 38￨Roy_Hibbert￨FG_PCT￨HOME 0￨Roy_Hibbert￨FG3M￨HOME 0￨Roy_Hibbert￨FG3A￨HOME 0￨Roy_Hibbert￨FG3_PCT￨HOME 0￨Roy_Hibbert￨FTM￨HOME 1￨Roy_Hibbert￨FTA￨HOME 0￨Roy_Hibbert￨FT_PCT￨HOME 1￨Roy_Hibbert￨OREB￨HOME 2￨Roy_Hibbert￨DREB￨HOME 3￨Roy_Hibbert￨REB￨HOME 0￨Roy_Hibbert￨AST￨HOME 1￨Roy_Hibbert￨TO￨HOME 0￨Roy_Hibbert￨STL￨HOME 0￨Roy_Hibbert￨BLK￨HOME 4￨Roy_Hibbert￨PF￨HOME Roy￨Roy_Hibbert￨FIRST_NAME￨HOME Hibbert￨Roy_Hibbert￨SECOND_NAME￨HOME G￨Rodney_Stuckey￨START_POSITION￨HOME 22￨Rodney_Stuckey￨MIN￨HOME 5￨Rodney_Stuckey￨PTS￨HOME 2￨Rodney_Stuckey￨FGM￨HOME 5￨Rodney_Stuckey￨FGA￨HOME 40￨Rodney_Stuckey￨FG_PCT￨HOME 0￨Rodney_Stuckey￨FG3M￨HOME 0￨Rodney_Stuckey￨FG3A￨HOME 0￨Rodney_Stuckey￨FG3_PCT￨HOME 1￨Rodney_Stuckey￨FTM￨HOME 1￨Rodney_Stuckey￨FTA￨HOME 100￨Rodney_Stuckey￨FT_PCT￨HOME 1￨Rodney_Stuckey￨OREB￨HOME 1￨Rodney_Stuckey￨DREB￨HOME 2￨Rodney_Stuckey￨REB￨HOME 1￨Rodney_Stuckey￨AST￨HOME 3￨Rodney_Stuckey￨TO￨HOME 2￨Rodney_Stuckey￨STL￨HOME 0￨Rodney_Stuckey￨BLK￨HOME 2￨Rodney_Stuckey￨PF￨HOME Rodney￨Rodney_Stuckey￨FIRST_NAME￨HOME Stuckey￨Rodney_Stuckey￨SECOND_NAME￨HOME G￨George_Hill￨START_POSITION￨HOME 24￨George_Hill￨MIN￨HOME 11￨George_Hill￨PTS￨HOME 4￨George_Hill￨FGM￨HOME 11￨George_Hill￨FGA￨HOME 36￨George_Hill￨FG_PCT￨HOME 1￨George_Hill￨FG3M￨HOME 3￨George_Hill￨FG3A￨HOME 33￨George_Hill￨FG3_PCT￨HOME 2￨George_Hill￨FTM￨HOME 2￨George_Hill￨FTA￨HOME 100￨George_Hill￨FT_PCT￨HOME 0￨George_Hill￨OREB￨HOME 4￨George_Hill￨DREB￨HOME 4￨George_Hill￨REB￨HOME 1￨George_Hill￨AST￨HOME 0￨George_Hill￨TO￨HOME 1￨George_Hill￨STL￨HOME 0￨George_Hill￨BLK￨HOME 3￨George_Hill￨PF￨HOME George￨George_Hill￨FIRST_NAME￨HOME Hill￨George_Hill￨SECOND_NAME￨HOME N/A￨CJ_Miles￨START_POSITION￨HOME 24￨CJ_Miles￨MIN￨HOME 11￨CJ_Miles￨PTS￨HOME 4￨CJ_Miles￨FGM￨HOME 11￨CJ_Miles￨FGA￨HOME 36￨CJ_Miles￨FG_PCT￨HOME 2￨CJ_Miles￨FG3M￨HOME 3￨CJ_Miles￨FG3A￨HOME 67￨CJ_Miles￨FG3_PCT￨HOME 1￨CJ_Miles￨FTM￨HOME 2￨CJ_Miles￨FTA￨HOME 50￨CJ_Miles￨FT_PCT￨HOME 0￨CJ_Miles￨OREB￨HOME 3￨CJ_Miles￨DREB￨HOME 3￨CJ_Miles￨REB￨HOME 1￨CJ_Miles￨AST￨HOME 0￨CJ_Miles￨TO￨HOME 0￨CJ_Miles￨STL￨HOME 0￨CJ_Miles￨BLK￨HOME 2￨CJ_Miles￨PF￨HOME CJ￨CJ_Miles￨FIRST_NAME￨HOME Miles￨CJ_Miles￨SECOND_NAME￨HOME N/A￨Luis_Scola￨START_POSITION￨HOME 23￨Luis_Scola￨MIN￨HOME 10￨Luis_Scola￨PTS￨HOME 4￨Luis_Scola￨FGM￨HOME 8￨Luis_Scola￨FGA￨HOME 50￨Luis_Scola￨FG_PCT￨HOME 0￨Luis_Scola￨FG3M￨HOME 0￨Luis_Scola￨FG3A￨HOME 0￨Luis_Scola￨FG3_PCT￨HOME 2￨Luis_Scola￨FTM￨HOME 4￨Luis_Scola￨FTA￨HOME 50￨Luis_Scola￨FT_PCT￨HOME 0￨Luis_Scola￨OREB￨HOME 8￨Luis_Scola￨DREB￨HOME 8￨Luis_Scola￨REB￨HOME 1￨Luis_Scola￨AST￨HOME 2￨Luis_Scola￨TO￨HOME 0￨Luis_Scola￨STL￨HOME 0￨Luis_Scola￨BLK￨HOME 5￨Luis_Scola￨PF￨HOME Luis￨Luis_Scola￨FIRST_NAME￨HOME Scola￨Luis_Scola￨SECOND_NAME￨HOME N/A￨Lavoy_Allen￨START_POSITION￨HOME 32￨Lavoy_Allen￨MIN￨HOME 6￨Lavoy_Allen￨PTS￨HOME 3￨Lavoy_Allen￨FGM￨HOME 8￨Lavoy_Allen￨FGA￨HOME 38￨Lavoy_Allen￨FG_PCT￨HOME 0￨Lavoy_Allen￨FG3M￨HOME 0￨Lavoy_Allen￨FG3A￨HOME 0￨Lavoy_Allen￨FG3_PCT￨HOME 0￨Lavoy_Allen￨FTM￨HOME 1￨Lavoy_Allen￨FTA￨HOME 0￨Lavoy_Allen￨FT_PCT￨HOME 3￨Lavoy_Allen￨OREB￨HOME 5￨Lavoy_Allen￨DREB￨HOME 8￨Lavoy_Allen￨REB￨HOME 6￨Lavoy_Allen￨AST￨HOME 0￨Lavoy_Allen￨TO￨HOME 0￨Lavoy_Allen￨STL￨HOME 4￨Lavoy_Allen￨BLK￨HOME 2￨Lavoy_Allen￨PF￨HOME Lavoy￨Lavoy_Allen￨FIRST_NAME￨HOME Allen￨Lavoy_Allen￨SECOND_NAME￨HOME N/A￨CJ_Watson￨START_POSITION￨HOME 27￨CJ_Watson￨MIN￨HOME 4￨CJ_Watson￨PTS￨HOME 1￨CJ_Watson￨FGM￨HOME 7￨CJ_Watson￨FGA￨HOME 14￨CJ_Watson￨FG_PCT￨HOME 0￨CJ_Watson￨FG3M￨HOME 3￨CJ_Watson￨FG3A￨HOME 0￨CJ_Watson￨FG3_PCT￨HOME 2￨CJ_Watson￨FTM￨HOME 2￨CJ_Watson￨FTA￨HOME 100￨CJ_Watson￨FT_PCT￨HOME 0￨CJ_Watson￨OREB￨HOME 2￨CJ_Watson￨DREB￨HOME 2￨CJ_Watson￨REB￨HOME 2￨CJ_Watson￨AST￨HOME 1￨CJ_Watson￨TO￨HOME 0￨CJ_Watson￨STL￨HOME 1￨CJ_Watson￨BLK￨HOME 1￨CJ_Watson￨PF￨HOME CJ￨CJ_Watson￨FIRST_NAME￨HOME Watson￨CJ_Watson￨SECOND_NAME￨HOME N/A￨Chris_Copeland￨START_POSITION￨HOME 18￨Chris_Copeland￨MIN￨HOME 17￨Chris_Copeland￨PTS￨HOME 7￨Chris_Copeland￨FGM￨HOME 10￨Chris_Copeland￨FGA￨HOME 70￨Chris_Copeland￨FG_PCT￨HOME 1￨Chris_Copeland￨FG3M￨HOME 1￨Chris_Copeland￨FG3A￨HOME 100￨Chris_Copeland￨FG3_PCT￨HOME 2￨Chris_Copeland￨FTM￨HOME 2￨Chris_Copeland￨FTA￨HOME 100￨Chris_Copeland￨FT_PCT￨HOME 1￨Chris_Copeland￨OREB￨HOME 4￨Chris_Copeland￨DREB￨HOME 5￨Chris_Copeland￨REB￨HOME 1￨Chris_Copeland￨AST￨HOME 3￨Chris_Copeland￨TO￨HOME 0￨Chris_Copeland￨STL￨HOME 1￨Chris_Copeland￨BLK￨HOME 3￨Chris_Copeland￨PF￨HOME Chris￨Chris_Copeland￨FIRST_NAME￨HOME Copeland￨Chris_Copeland￨SECOND_NAME￨HOME N/A￨Damjan_Rudez￨START_POSITION￨HOME N/A￨Damjan_Rudez￨MIN￨HOME N/A￨Damjan_Rudez￨PTS￨HOME N/A￨Damjan_Rudez￨FGM￨HOME N/A￨Damjan_Rudez￨FGA￨HOME N/A￨Damjan_Rudez￨FG_PCT￨HOME N/A￨Damjan_Rudez￨FG3M￨HOME N/A￨Damjan_Rudez￨FG3A￨HOME N/A￨Damjan_Rudez￨FG3_PCT￨HOME N/A￨Damjan_Rudez￨FTM￨HOME N/A￨Damjan_Rudez￨FTA￨HOME N/A￨Damjan_Rudez￨FT_PCT￨HOME N/A￨Damjan_Rudez￨OREB￨HOME N/A￨Damjan_Rudez￨DREB￨HOME N/A￨Damjan_Rudez￨REB￨HOME N/A￨Damjan_Rudez￨AST￨HOME N/A￨Damjan_Rudez￨TO￨HOME N/A￨Damjan_Rudez￨STL￨HOME N/A￨Damjan_Rudez￨BLK￨HOME N/A￨Damjan_Rudez￨PF￨HOME Damjan￨Damjan_Rudez￨FIRST_NAME￨HOME Rudez￨Damjan_Rudez￨SECOND_NAME￨HOME N/A￨Donald_Sloan￨START_POSITION￨HOME N/A￨Donald_Sloan￨MIN￨HOME N/A￨Donald_Sloan￨PTS￨HOME N/A￨Donald_Sloan￨FGM￨HOME N/A￨Donald_Sloan￨FGA￨HOME N/A￨Donald_Sloan￨FG_PCT￨HOME N/A￨Donald_Sloan￨FG3M￨HOME N/A￨Donald_Sloan￨FG3A￨HOME N/A￨Donald_Sloan￨FG3_PCT￨HOME N/A￨Donald_Sloan￨FTM￨HOME N/A￨Donald_Sloan￨FTA￨HOME N/A￨Donald_Sloan￨FT_PCT￨HOME N/A￨Donald_Sloan￨OREB￨HOME N/A￨Donald_Sloan￨DREB￨HOME N/A￨Donald_Sloan￨REB￨HOME N/A￨Donald_Sloan￨AST￨HOME N/A￨Donald_Sloan￨TO￨HOME N/A￨Donald_Sloan￨STL￨HOME N/A￨Donald_Sloan￨BLK￨HOME N/A￨Donald_Sloan￨PF￨HOME Donald￨Donald_Sloan￨FIRST_NAME￨HOME Sloan￨Donald_Sloan￨SECOND_NAME￨HOME N/A￨Shayne_Whittington￨START_POSITION￨HOME N/A￨Shayne_Whittington￨MIN￨HOME N/A￨Shayne_Whittington￨PTS￨HOME N/A￨Shayne_Whittington￨FGM￨HOME N/A￨Shayne_Whittington￨FGA￨HOME N/A￨Shayne_Whittington￨FG_PCT￨HOME N/A￨Shayne_Whittington￨FG3M￨HOME N/A￨Shayne_Whittington￨FG3A￨HOME N/A￨Shayne_Whittington￨FG3_PCT￨HOME N/A￨Shayne_Whittington￨FTM￨HOME N/A￨Shayne_Whittington￨FTA￨HOME N/A￨Shayne_Whittington￨FT_PCT￨HOME N/A￨Shayne_Whittington￨OREB￨HOME N/A￨Shayne_Whittington￨DREB￨HOME N/A￨Shayne_Whittington￨REB￨HOME N/A￨Shayne_Whittington￨AST￨HOME N/A￨Shayne_Whittington￨TO￨HOME N/A￨Shayne_Whittington￨STL￨HOME N/A￨Shayne_Whittington￨BLK￨HOME N/A￨Shayne_Whittington￨PF￨HOME Shayne￨Shayne_Whittington￨FIRST_NAME￨HOME Whittington￨Shayne_Whittington￨SECOND_NAME￨HOME F￨Mike_Dunleavy￨START_POSITION￨AWAY 24￨Mike_Dunleavy￨MIN￨AWAY 8￨Mike_Dunleavy￨PTS￨AWAY 3￨Mike_Dunleavy￨FGM￨AWAY 5￨Mike_Dunleavy￨FGA￨AWAY 60￨Mike_Dunleavy￨FG_PCT￨AWAY 1￨Mike_Dunleavy￨FG3M￨AWAY 2￨Mike_Dunleavy￨FG3A￨AWAY 50￨Mike_Dunleavy￨FG3_PCT￨AWAY 1￨Mike_Dunleavy￨FTM￨AWAY 1￨Mike_Dunleavy￨FTA￨AWAY 100￨Mike_Dunleavy￨FT_PCT￨AWAY 0￨Mike_Dunleavy￨OREB￨AWAY 10￨Mike_Dunleavy￨DREB￨AWAY 10￨Mike_Dunleavy￨REB￨AWAY 1￨Mike_Dunleavy￨AST￨AWAY 0￨Mike_Dunleavy￨TO￨AWAY 0￨Mike_Dunleavy￨STL￨AWAY 2￨Mike_Dunleavy￨BLK￨AWAY 3￨Mike_Dunleavy￨PF￨AWAY Mike￨Mike_Dunleavy￨FIRST_NAME￨AWAY Dunleavy￨Mike_Dunleavy￨SECOND_NAME￨AWAY F￨Pau_Gasol￨START_POSITION￨AWAY 35￨Pau_Gasol￨MIN￨AWAY 20￨Pau_Gasol￨PTS￨AWAY 7￨Pau_Gasol￨FGM￨AWAY 14￨Pau_Gasol￨FGA￨AWAY 50￨Pau_Gasol￨FG_PCT￨AWAY 0￨Pau_Gasol￨FG3M￨AWAY 0￨Pau_Gasol￨FG3A￨AWAY 0￨Pau_Gasol￨FG3_PCT￨AWAY 6￨Pau_Gasol￨FTM￨AWAY 6￨Pau_Gasol￨FTA￨AWAY 100￨Pau_Gasol￨FT_PCT￨AWAY 3￨Pau_Gasol￨OREB￨AWAY 3￨Pau_Gasol￨DREB￨AWAY 6￨Pau_Gasol￨REB￨AWAY 3￨Pau_Gasol￨AST￨AWAY 0￨Pau_Gasol￨TO￨AWAY 0￨Pau_Gasol￨STL￨AWAY 1￨Pau_Gasol￨BLK￨AWAY 3￨Pau_Gasol￨PF￨AWAY Pau￨Pau_Gasol￨FIRST_NAME￨AWAY Gasol￨Pau_Gasol￨SECOND_NAME￨AWAY C￨Joakim_Noah￨START_POSITION￨AWAY 29￨Joakim_Noah￨MIN￨AWAY 6￨Joakim_Noah￨PTS￨AWAY 2￨Joakim_Noah￨FGM￨AWAY 7￨Joakim_Noah￨FGA￨AWAY 29￨Joakim_Noah￨FG_PCT￨AWAY 0￨Joakim_Noah￨FG3M￨AWAY 0￨Joakim_Noah￨FG3A￨AWAY 0￨Joakim_Noah￨FG3_PCT￨AWAY 2￨Joakim_Noah￨FTM￨AWAY 2￨Joakim_Noah￨FTA￨AWAY 100￨Joakim_Noah￨FT_PCT￨AWAY 3￨Joakim_Noah￨OREB￨AWAY 4￨Joakim_Noah￨DREB￨AWAY 7￨Joakim_Noah￨REB￨AWAY 3￨Joakim_Noah￨AST￨AWAY 0￨Joakim_Noah￨TO￨AWAY 3￨Joakim_Noah￨STL￨AWAY 1￨Joakim_Noah￨BLK￨AWAY 2￨Joakim_Noah￨PF￨AWAY Joakim￨Joakim_Noah￨FIRST_NAME￨AWAY Noah￨Joakim_Noah￨SECOND_NAME￨AWAY G￨Jimmy_Butler￨START_POSITION￨AWAY 44￨Jimmy_Butler￨MIN￨AWAY 27￨Jimmy_Butler￨PTS￨AWAY 8￨Jimmy_Butler￨FGM￨AWAY 20￨Jimmy_Butler￨FGA￨AWAY 40￨Jimmy_Butler￨FG_PCT￨AWAY 2￨Jimmy_Butler￨FG3M￨AWAY 2￨Jimmy_Butler￨FG3A￨AWAY 100￨Jimmy_Butler￨FG3_PCT￨AWAY 9￨Jimmy_Butler￨FTM￨AWAY 12￨Jimmy_Butler￨FTA￨AWAY 75￨Jimmy_Butler￨FT_PCT￨AWAY 5￨Jimmy_Butler￨OREB￨AWAY 4￨Jimmy_Butler￨DREB￨AWAY 9￨Jimmy_Butler￨REB￨AWAY 1￨Jimmy_Butler￨AST￨AWAY 1￨Jimmy_Butler￨TO￨AWAY 4￨Jimmy_Butler￨STL￨AWAY 1￨Jimmy_Butler￨BLK￨AWAY 1￨Jimmy_Butler￨PF￨AWAY Jimmy￨Jimmy_Butler￨FIRST_NAME￨AWAY Butler￨Jimmy_Butler￨SECOND_NAME￨AWAY G￨Derrick_Rose￨START_POSITION￨AWAY 35￨Derrick_Rose￨MIN￨AWAY 17￨Derrick_Rose￨PTS￨AWAY 5￨Derrick_Rose￨FGM￨AWAY 20￨Derrick_Rose￨FGA￨AWAY 25￨Derrick_Rose￨FG_PCT￨AWAY 1￨Derrick_Rose￨FG3M￨AWAY 7￨Derrick_Rose￨FG3A￨AWAY 14￨Derrick_Rose￨FG3_PCT￨AWAY 6￨Derrick_Rose￨FTM￨AWAY 6￨Derrick_Rose￨FTA￨AWAY 100￨Derrick_Rose￨FT_PCT￨AWAY 0￨Derrick_Rose￨OREB￨AWAY 3￨Derrick_Rose￨DREB￨AWAY 3￨Derrick_Rose￨REB￨AWAY 6￨Derrick_Rose￨AST￨AWAY 3￨Derrick_Rose￨TO￨AWAY 0￨Derrick_Rose￨STL￨AWAY 2￨Derrick_Rose￨BLK￨AWAY 0￨Derrick_Rose￨PF￨AWAY Derrick￨Derrick_Rose￨FIRST_NAME￨AWAY Rose￨Derrick_Rose￨SECOND_NAME￨AWAY N/A￨Taj_Gibson￨START_POSITION￨AWAY 22￨Taj_Gibson￨MIN￨AWAY 7￨Taj_Gibson￨PTS￨AWAY 2￨Taj_Gibson￨FGM￨AWAY 6￨Taj_Gibson￨FGA￨AWAY 33￨Taj_Gibson￨FG_PCT￨AWAY 0￨Taj_Gibson￨FG3M￨AWAY 0￨Taj_Gibson￨FG3A￨AWAY 0￨Taj_Gibson￨FG3_PCT￨AWAY 3￨Taj_Gibson￨FTM￨AWAY 4￨Taj_Gibson￨FTA￨AWAY 75￨Taj_Gibson￨FT_PCT￨AWAY 1￨Taj_Gibson￨OREB￨AWAY 5￨Taj_Gibson￨DREB￨AWAY 6￨Taj_Gibson￨REB￨AWAY 0￨Taj_Gibson￨AST￨AWAY 2￨Taj_Gibson￨TO￨AWAY 0￨Taj_Gibson￨STL￨AWAY 0￨Taj_Gibson￨BLK￨AWAY 2￨Taj_Gibson￨PF￨AWAY Taj￨Taj_Gibson￨FIRST_NAME￨AWAY Gibson￨Taj_Gibson￨SECOND_NAME￨AWAY N/A￨Aaron_Brooks￨START_POSITION￨AWAY 22￨Aaron_Brooks￨MIN￨AWAY 2￨Aaron_Brooks￨PTS￨AWAY 0￨Aaron_Brooks￨FGM￨AWAY 4￨Aaron_Brooks￨FGA￨AWAY 0￨Aaron_Brooks￨FG_PCT￨AWAY 0￨Aaron_Brooks￨FG3M￨AWAY 0￨Aaron_Brooks￨FG3A￨AWAY 0￨Aaron_Brooks￨FG3_PCT￨AWAY 2￨Aaron_Brooks￨FTM￨AWAY 2￨Aaron_Brooks￨FTA￨AWAY 100￨Aaron_Brooks￨FT_PCT￨AWAY 0￨Aaron_Brooks￨OREB￨AWAY 1￨Aaron_Brooks￨DREB￨AWAY 1￨Aaron_Brooks￨REB￨AWAY 2￨Aaron_Brooks￨AST￨AWAY 4￨Aaron_Brooks￨TO￨AWAY 1￨Aaron_Brooks￨STL￨AWAY 0￨Aaron_Brooks￨BLK￨AWAY 1￨Aaron_Brooks￨PF￨AWAY Aaron￨Aaron_Brooks￨FIRST_NAME￨AWAY Brooks￨Aaron_Brooks￨SECOND_NAME￨AWAY N/A￨Nikola_Mirotic￨START_POSITION￨AWAY 11￨Nikola_Mirotic￨MIN￨AWAY 5￨Nikola_Mirotic￨PTS￨AWAY 2￨Nikola_Mirotic￨FGM￨AWAY 4￨Nikola_Mirotic￨FGA￨AWAY 50￨Nikola_Mirotic￨FG_PCT￨AWAY 1￨Nikola_Mirotic￨FG3M￨AWAY 1￨Nikola_Mirotic￨FG3A￨AWAY 100￨Nikola_Mirotic￨FG3_PCT￨AWAY 0￨Nikola_Mirotic￨FTM￨AWAY 0￨Nikola_Mirotic￨FTA￨AWAY 0￨Nikola_Mirotic￨FT_PCT￨AWAY 2￨Nikola_Mirotic￨OREB￨AWAY 1￨Nikola_Mirotic￨DREB￨AWAY 3￨Nikola_Mirotic￨REB￨AWAY 1￨Nikola_Mirotic￨AST￨AWAY 0￨Nikola_Mirotic￨TO￨AWAY 0￨Nikola_Mirotic￨STL￨AWAY 0￨Nikola_Mirotic￨BLK￨AWAY 2￨Nikola_Mirotic￨PF￨AWAY Nikola￨Nikola_Mirotic￨FIRST_NAME￨AWAY Mirotic￨Nikola_Mirotic￨SECOND_NAME￨AWAY N/A￨E'Twaun_Moore￨START_POSITION￨AWAY 16￨E'Twaun_Moore￨MIN￨AWAY 0￨E'Twaun_Moore￨PTS￨AWAY 0￨E'Twaun_Moore￨FGM￨AWAY 4￨E'Twaun_Moore￨FGA￨AWAY 0￨E'Twaun_Moore￨FG_PCT￨AWAY 0￨E'Twaun_Moore￨FG3M￨AWAY 1￨E'Twaun_Moore￨FG3A￨AWAY 0￨E'Twaun_Moore￨FG3_PCT￨AWAY 0￨E'Twaun_Moore￨FTM￨AWAY 0￨E'Twaun_Moore￨FTA￨AWAY 0￨E'Twaun_Moore￨FT_PCT￨AWAY 0￨E'Twaun_Moore￨OREB￨AWAY 1￨E'Twaun_Moore￨DREB￨AWAY 1￨E'Twaun_Moore￨REB￨AWAY 0￨E'Twaun_Moore￨AST￨AWAY 0￨E'Twaun_Moore￨TO￨AWAY 0￨E'Twaun_Moore￨STL￨AWAY 0￨E'Twaun_Moore￨BLK￨AWAY 2￨E'Twaun_Moore￨PF￨AWAY E'Twaun￨E'Twaun_Moore￨FIRST_NAME￨AWAY Moore￨E'Twaun_Moore￨SECOND_NAME￨AWAY N/A￨Tony_Snell￨START_POSITION￨AWAY 2￨Tony_Snell￨MIN￨AWAY 0￨Tony_Snell￨PTS￨AWAY 0￨Tony_Snell￨FGM￨AWAY 0￨Tony_Snell￨FGA￨AWAY 0￨Tony_Snell￨FG_PCT￨AWAY 0￨Tony_Snell￨FG3M￨AWAY 0￨Tony_Snell￨FG3A￨AWAY 0￨Tony_Snell￨FG3_PCT￨AWAY 0￨Tony_Snell￨FTM￨AWAY 0￨Tony_Snell￨FTA￨AWAY 0￨Tony_Snell￨FT_PCT￨AWAY 0￨Tony_Snell￨OREB￨AWAY 0￨Tony_Snell￨DREB￨AWAY 0￨Tony_Snell￨REB￨AWAY 0￨Tony_Snell￨AST￨AWAY 0￨Tony_Snell￨TO￨AWAY 0￨Tony_Snell￨STL￨AWAY 0￨Tony_Snell￨BLK￨AWAY 0￨Tony_Snell￨PF￨AWAY Tony￨Tony_Snell￨FIRST_NAME￨AWAY Snell￨Tony_Snell￨SECOND_NAME￨AWAY N/A￨Cameron_Bairstow￨START_POSITION￨AWAY N/A￨Cameron_Bairstow￨MIN￨AWAY N/A￨Cameron_Bairstow￨PTS￨AWAY N/A￨Cameron_Bairstow￨FGM￨AWAY N/A￨Cameron_Bairstow￨FGA￨AWAY N/A￨Cameron_Bairstow￨FG_PCT￨AWAY N/A￨Cameron_Bairstow￨FG3M￨AWAY N/A￨Cameron_Bairstow￨FG3A￨AWAY N/A￨Cameron_Bairstow￨FG3_PCT￨AWAY N/A￨Cameron_Bairstow￨FTM￨AWAY N/A￨Cameron_Bairstow￨FTA￨AWAY N/A￨Cameron_Bairstow￨FT_PCT￨AWAY N/A￨Cameron_Bairstow￨OREB￨AWAY N/A￨Cameron_Bairstow￨DREB￨AWAY N/A￨Cameron_Bairstow￨REB￨AWAY N/A￨Cameron_Bairstow￨AST￨AWAY N/A￨Cameron_Bairstow￨TO￨AWAY N/A￨Cameron_Bairstow￨STL￨AWAY N/A￨Cameron_Bairstow￨BLK￨AWAY N/A￨Cameron_Bairstow￨PF￨AWAY Cameron￨Cameron_Bairstow￨FIRST_NAME￨AWAY Bairstow￨Cameron_Bairstow￨SECOND_NAME￨AWAY N/A￨Nazr_Mohammed￨START_POSITION￨AWAY N/A￨Nazr_Mohammed￨MIN￨AWAY N/A￨Nazr_Mohammed￨PTS￨AWAY N/A￨Nazr_Mohammed￨FGM￨AWAY N/A￨Nazr_Mohammed￨FGA￨AWAY N/A￨Nazr_Mohammed￨FG_PCT￨AWAY N/A￨Nazr_Mohammed￨FG3M￨AWAY N/A￨Nazr_Mohammed￨FG3A￨AWAY N/A￨Nazr_Mohammed￨FG3_PCT￨AWAY N/A￨Nazr_Mohammed￨FTM￨AWAY N/A￨Nazr_Mohammed￨FTA￨AWAY N/A￨Nazr_Mohammed￨FT_PCT￨AWAY N/A￨Nazr_Mohammed￨OREB￨AWAY N/A￨Nazr_Mohammed￨DREB￨AWAY N/A￨Nazr_Mohammed￨REB￨AWAY N/A￨Nazr_Mohammed￨AST￨AWAY N/A￨Nazr_Mohammed￨TO￨AWAY N/A￨Nazr_Mohammed￨STL￨AWAY N/A￨Nazr_Mohammed￨BLK￨AWAY N/A￨Nazr_Mohammed￨PF￨AWAY Nazr￨Nazr_Mohammed￨FIRST_NAME￨AWAY Mohammed￨Nazr_Mohammed￨SECOND_NAME￨AWAY N/A￨N/A￨START_POSITION￨AWAY N/A￨N/A￨MIN￨AWAY N/A￨N/A￨PTS￨AWAY N/A￨N/A￨FGM￨AWAY N/A￨N/A￨FGA￨AWAY N/A￨N/A￨FG_PCT￨AWAY N/A￨N/A￨FG3M￨AWAY N/A￨N/A￨FG3A￨AWAY N/A￨N/A￨FG3_PCT￨AWAY N/A￨N/A￨FTM￨AWAY N/A￨N/A￨FTA￨AWAY N/A￨N/A￨FT_PCT￨AWAY N/A￨N/A￨OREB￨AWAY N/A￨N/A￨DREB￨AWAY N/A￨N/A￨REB￨AWAY N/A￨N/A￨AST￨AWAY N/A￨N/A￨TO￨AWAY N/A￨N/A￨STL￨AWAY N/A￨N/A￨BLK￨AWAY N/A￨N/A￨PF￨AWAY N/A￨N/A￨FIRST_NAME￨AWAY N/A￨N/A￨SECOND_NAME￨AWAY 17￨Pacers￨TEAM-PTS_QTR1￨HOME 18￨Pacers￨TEAM-PTS_QTR2￨HOME 30￨Pacers￨TEAM-PTS_QTR3￨HOME 25￨Pacers￨TEAM-PTS_QTR4￨HOME 90￨Pacers￨TEAM-PTS￨HOME 43￨Pacers￨TEAM-FG_PCT￨HOME 39￨Pacers￨TEAM-FG3_PCT￨HOME 62￨Pacers￨TEAM-FT_PCT￨HOME 44￨Pacers￨TEAM-REB￨HOME 18￨Pacers￨TEAM-AST￨HOME 13￨Pacers￨TEAM-TOV￨HOME 11￨Pacers￨TEAM-WINS￨HOME 21￨Pacers￨TEAM-LOSSES￨HOME Indiana￨Pacers￨TEAM-CITY￨HOME Pacers￨Pacers￨TEAM-NAME￨HOME 22￨Bulls￨TEAM-PTS_QTR1￨AWAY 25￨Bulls￨TEAM-PTS_QTR2￨AWAY 34￨Bulls￨TEAM-PTS_QTR3￨AWAY 11￨Bulls￨TEAM-PTS_QTR4￨AWAY 92￨Bulls￨TEAM-PTS￨AWAY 35￨Bulls￨TEAM-FG_PCT￨AWAY 39￨Bulls￨TEAM-FG3_PCT￨AWAY 88￨Bulls￨TEAM-FT_PCT￨AWAY 46￨Bulls￨TEAM-REB￨AWAY 17￨Bulls￨TEAM-AST￨AWAY 10￨Bulls￨TEAM-TOV￨AWAY 22￨Bulls￨TEAM-WINS￨AWAY 9￨Bulls￨TEAM-LOSSES￨AWAY Chicago￨Bulls￨TEAM-CITY￨AWAY Bulls￨Bulls￨TEAM-NAME￨AWAY\\n\""
      ]
     },
     "execution_count": 22,
     "metadata": {},
     "output_type": "execute_result"
    }
   ],
   "source": [
    "src_train[100]"
   ]
  },
  {
   "cell_type": "code",
   "execution_count": 23,
   "metadata": {},
   "outputs": [],
   "source": [
    "with open('rotowire/tgt_train.txt') as reader:\n",
    "    # This reads the remaining lines from the file object and returns them as a list.\n",
    "    tgt_train = reader.readlines()"
   ]
  },
  {
   "cell_type": "code",
   "execution_count": 24,
   "metadata": {},
   "outputs": [
    {
     "data": {
      "text/plain": [
       "3371"
      ]
     },
     "execution_count": 24,
     "metadata": {},
     "output_type": "execute_result"
    }
   ],
   "source": [
    "len(tgt_train)"
   ]
  },
  {
   "cell_type": "code",
   "execution_count": 25,
   "metadata": {},
   "outputs": [
    {
     "data": {
      "text/plain": [
       "\"The Chicago Bulls ( 21 - 9 ) defeated the Indiana Pacers ( 11 - 20 ) 92 - 90 on Monday . The Bulls led by 16 points going into the fourth quarter , but Indiana managed to make it close by outscoring the Bulls 25 - 11 in the final period . All Chicago starters had a positive or neutral plus/minus , while all of their bench players had a negative plus/minus . The exact opposite was true for the Pacers , whose starters all had a negative plus/minus , and their bench players all finished with a positive plus/minus . Chicago was lead Jimmy Butler with 27 points ( 8 - 20 FG ) , nine rebounds and four steals in 44 minutes of play . Derrick Rose shot just 5 - of - 20 from the field , finishing with 17 points , six assists and two blocks . The Bulls will host the Brooklyn Nets on Tuesday . Indiana was 4 - 3 over their previous seven games coming into Monday 's contest with the Bulls . Rodney Stuckey sobered up from his near - triple - double performance from Saturday , finishing Monday 's game with just five points , two rebounds and two steals . The Pacers will host the Miami Heat on Wednesday in a matinee game .\\n\""
      ]
     },
     "execution_count": 25,
     "metadata": {},
     "output_type": "execute_result"
    }
   ],
   "source": [
    "tgt_train[100]"
   ]
  },
  {
   "cell_type": "code",
   "execution_count": 37,
   "metadata": {},
   "outputs": [],
   "source": [
    "with open('rotowire/train_content_plan.txt') as reader:\n",
    "    # This reads the remaining lines from the file object and returns them as a list.\n",
    "    train_content_plan = reader.readlines()"
   ]
  },
  {
   "cell_type": "code",
   "execution_count": 38,
   "metadata": {},
   "outputs": [
    {
     "data": {
      "text/plain": [
       "3371"
      ]
     },
     "execution_count": 38,
     "metadata": {},
     "output_type": "execute_result"
    }
   ],
   "source": [
    "len(train_content_plan)"
   ]
  },
  {
   "cell_type": "code",
   "execution_count": 52,
   "metadata": {},
   "outputs": [
    {
     "data": {
      "text/plain": [
       "'604 605 603 595 589 590 587 580 594 376 377 358 359 360 370 373 357 398 399 381 382 380 393 396 90 91 72 84 87\\n'"
      ]
     },
     "execution_count": 52,
     "metadata": {},
     "output_type": "execute_result"
    }
   ],
   "source": [
    "train_content_plan[100]"
   ]
  },
  {
   "cell_type": "code",
   "execution_count": 40,
   "metadata": {},
   "outputs": [],
   "source": [
    "with open('rotowire/inter/train_content_plan.txt') as reader:\n",
    "    # This reads the remaining lines from the file object and returns them as a list.\n",
    "    inter_train_content_plan = reader.readlines()"
   ]
  },
  {
   "cell_type": "code",
   "execution_count": 41,
   "metadata": {},
   "outputs": [
    {
     "data": {
      "text/plain": [
       "3371"
      ]
     },
     "execution_count": 41,
     "metadata": {},
     "output_type": "execute_result"
    }
   ],
   "source": [
    "len(inter_train_content_plan)"
   ]
  },
  {
   "cell_type": "code",
   "execution_count": 42,
   "metadata": {},
   "outputs": [
    {
     "data": {
      "text/plain": [
       "'Chicago￨Bulls￨TEAM-CITY￨AWAY Bulls￨Bulls￨TEAM-NAME￨AWAY 9￨Bulls￨TEAM-LOSSES￨AWAY 92￨Bulls￨TEAM-PTS￨AWAY Indiana￨Pacers￨TEAM-CITY￨HOME Pacers￨Pacers￨TEAM-NAME￨HOME 11￨Pacers￨TEAM-WINS￨HOME 90￨Pacers￨TEAM-PTS￨HOME 11￨Bulls￨TEAM-PTS_QTR4￨AWAY Jimmy￨Jimmy_Butler￨FIRST_NAME￨AWAY Butler￨Jimmy_Butler￨SECOND_NAME￨AWAY 27￨Jimmy_Butler￨PTS￨AWAY 8￨Jimmy_Butler￨FGM￨AWAY 20￨Jimmy_Butler￨FGA￨AWAY 9￨Jimmy_Butler￨REB￨AWAY 4￨Jimmy_Butler￨STL￨AWAY 44￨Jimmy_Butler￨MIN￨AWAY Derrick￨Derrick_Rose￨FIRST_NAME￨AWAY Rose￨Derrick_Rose￨SECOND_NAME￨AWAY 5￨Derrick_Rose￨FGM￨AWAY 20￨Derrick_Rose￨FGA￨AWAY 17￨Derrick_Rose￨PTS￨AWAY 6￨Derrick_Rose￨AST￨AWAY 2￨Derrick_Rose￨BLK￨AWAY Rodney￨Rodney_Stuckey￨FIRST_NAME￨HOME Stuckey￨Rodney_Stuckey￨SECOND_NAME￨HOME 5￨Rodney_Stuckey￨PTS￨HOME 2￨Rodney_Stuckey￨REB￨HOME 2￨Rodney_Stuckey￨STL￨HOME\\n'"
      ]
     },
     "execution_count": 42,
     "metadata": {},
     "output_type": "execute_result"
    }
   ],
   "source": [
    "inter_train_content_plan[100]"
   ]
  },
  {
   "cell_type": "code",
   "execution_count": 70,
   "metadata": {},
   "outputs": [
    {
     "data": {
      "text/plain": [
       "63"
      ]
     },
     "execution_count": 70,
     "metadata": {},
     "output_type": "execute_result"
    }
   ],
   "source": [
    "len(inter_train_content_plan[12].split(\" \"))"
   ]
  },
  {
   "cell_type": "code",
   "execution_count": 71,
   "metadata": {},
   "outputs": [
    {
     "data": {
      "text/plain": [
       "63"
      ]
     },
     "execution_count": 71,
     "metadata": {},
     "output_type": "execute_result"
    }
   ],
   "source": [
    "len(train_content_plan[12].split(\" \"))"
   ]
  },
  {
   "cell_type": "code",
   "execution_count": 53,
   "metadata": {},
   "outputs": [],
   "source": [
    "import codecs"
   ]
  },
  {
   "cell_type": "code",
   "execution_count": 54,
   "metadata": {},
   "outputs": [],
   "source": [
    "# ?inputs\n",
    "# ?content_plans\n",
    "\n",
    "\n",
    "###\n",
    "\n",
    "inputs = []\n",
    "content_plans = []\n",
    "\n",
    "with codecs.open('rotowire/inter/train_content_plan.txt', \"r\", \"utf-8\") as corpus_file:\n",
    "    for i, line in enumerate(corpus_file):\n",
    "        content_plans.append(line.split())\n",
    "\n",
    "with codecs.open('rotowire/src_train.txt', \"r\", \"utf-8\") as corpus_file:\n",
    "    for i, line in enumerate(corpus_file):\n",
    "        inputs.append(line.split())"
   ]
  },
  {
   "cell_type": "code",
   "execution_count": 56,
   "metadata": {},
   "outputs": [
    {
     "data": {
      "text/plain": [
       "3371"
      ]
     },
     "execution_count": 56,
     "metadata": {},
     "output_type": "execute_result"
    }
   ],
   "source": [
    "len(inputs)"
   ]
  },
  {
   "cell_type": "code",
   "execution_count": 58,
   "metadata": {},
   "outputs": [
    {
     "data": {
      "text/plain": [
       "3371"
      ]
     },
     "execution_count": 58,
     "metadata": {},
     "output_type": "execute_result"
    }
   ],
   "source": [
    "len(content_plans)"
   ]
  },
  {
   "cell_type": "code",
   "execution_count": 61,
   "metadata": {},
   "outputs": [],
   "source": [
    "outputs = []\n",
    "\n",
    "for i, input in enumerate(inputs):\n",
    "    content_plan = content_plans[i]\n",
    "    \n",
    "    output = []\n",
    "    for record in content_plan:\n",
    "        output.append(str(input.index(record)))\n",
    "        \n",
    "    outputs.append(\" \".join(output))"
   ]
  },
  {
   "cell_type": "code",
   "execution_count": 69,
   "metadata": {},
   "outputs": [
    {
     "data": {
      "text/plain": [
       "'589 590 587 588 580 604 605 602 603 595 576 600 442 443 424 437 90 91 72 68 69 50 62 63 65'"
      ]
     },
     "execution_count": 69,
     "metadata": {},
     "output_type": "execute_result"
    }
   ],
   "source": [
    "outputs[123]"
   ]
  },
  {
   "cell_type": "code",
   "execution_count": 72,
   "metadata": {},
   "outputs": [
    {
     "data": {
      "text/plain": [
       "'589 590 587 588 580 604 605 602 603 595 576 600 442 443 424 437 90 91 72 68 69 50 62 63 65\\n'"
      ]
     },
     "execution_count": 72,
     "metadata": {},
     "output_type": "execute_result"
    }
   ],
   "source": [
    "train_content_plan[123]"
   ]
  },
  {
   "cell_type": "code",
   "execution_count": null,
   "metadata": {},
   "outputs": [],
   "source": [
    "output_file = open(CONTENT_PLAN_OUT, 'w')\n",
    "\n",
    "# add \\n to the end of the string\n",
    "output_file.write(\"\\n\".join(outputs))\n",
    "# add \\n between content plans\n",
    "output_file.write(\"\\n\")\n",
    "\n",
    "output_file.close()"
   ]
  },
  {
   "cell_type": "markdown",
   "metadata": {},
   "source": [
    "**Conclusion**:\n",
    "\n",
    "*inter/train_content_plan*   ----- literally intermediate content plan of training data  \n",
    "*train_content_plan.txt*     ----- final content plan of training data (represented as vector of numbers)"
   ]
  },
  {
   "cell_type": "code",
   "execution_count": null,
   "metadata": {},
   "outputs": [],
   "source": []
  },
  {
   "cell_type": "code",
   "execution_count": null,
   "metadata": {},
   "outputs": [],
   "source": []
  },
  {
   "cell_type": "markdown",
   "metadata": {},
   "source": [
    "# Next step - Preprocessing data - run *preprocess.py*"
   ]
  },
  {
   "cell_type": "code",
   "execution_count": null,
   "metadata": {},
   "outputs": [],
   "source": []
  },
  {
   "cell_type": "code",
   "execution_count": null,
   "metadata": {},
   "outputs": [],
   "source": []
  },
  {
   "cell_type": "code",
   "execution_count": null,
   "metadata": {},
   "outputs": [],
   "source": []
  },
  {
   "cell_type": "code",
   "execution_count": null,
   "metadata": {},
   "outputs": [],
   "source": []
  },
  {
   "cell_type": "code",
   "execution_count": null,
   "metadata": {},
   "outputs": [],
   "source": []
  },
  {
   "cell_type": "code",
   "execution_count": null,
   "metadata": {},
   "outputs": [],
   "source": []
  },
  {
   "cell_type": "code",
   "execution_count": null,
   "metadata": {},
   "outputs": [],
   "source": []
  },
  {
   "cell_type": "code",
   "execution_count": null,
   "metadata": {},
   "outputs": [],
   "source": []
  },
  {
   "cell_type": "code",
   "execution_count": null,
   "metadata": {},
   "outputs": [],
   "source": []
  },
  {
   "cell_type": "markdown",
   "metadata": {},
   "source": [
    "## Questions "
   ]
  },
  {
   "cell_type": "markdown",
   "metadata": {},
   "source": [
    "### 1) What is drive_rotowire/inf_src_train.txt and how it is different from src_train.txt"
   ]
  },
  {
   "cell_type": "code",
   "execution_count": 38,
   "metadata": {},
   "outputs": [],
   "source": [
    "with open('drive_rotowire/inf_src_train.txt') as reader:\n",
    "    # This reads the remaining lines from the file object and returns them as a list.\n",
    "    drive_inf_src_train = reader.readlines()"
   ]
  },
  {
   "cell_type": "code",
   "execution_count": 39,
   "metadata": {},
   "outputs": [
    {
     "data": {
      "text/plain": [
       "3398"
      ]
     },
     "execution_count": 39,
     "metadata": {},
     "output_type": "execute_result"
    }
   ],
   "source": [
    "len(drive_inf_src_train)"
   ]
  },
  {
   "cell_type": "code",
   "execution_count": 109,
   "metadata": {},
   "outputs": [],
   "source": [
    "with open('drive_rotowire/src_train.txt') as reader:\n",
    "    # This reads the remaining lines from the file object and returns them as a list.\n",
    "    drive_src_train = reader.readlines()"
   ]
  },
  {
   "cell_type": "code",
   "execution_count": 110,
   "metadata": {},
   "outputs": [
    {
     "data": {
      "text/plain": [
       "3371"
      ]
     },
     "execution_count": 110,
     "metadata": {},
     "output_type": "execute_result"
    }
   ],
   "source": [
    "len(drive_src_train)"
   ]
  },
  {
   "cell_type": "code",
   "execution_count": 44,
   "metadata": {},
   "outputs": [
    {
     "data": {
      "text/plain": [
       "\"<unk>￨<blank>￨<blank>￨<blank> <blank>￨<blank>￨<blank>￨<blank> <s>￨<blank>￨<blank>￨<blank> </s>￨<blank>￨<blank>￨<blank> F￨Carmelo_Anthony￨START_POSITION￨HOME 39￨Carmelo_Anthony￨MIN￨HOME 29￨Carmelo_Anthony￨PTS￨HOME 9￨Carmelo_Anthony￨FGM￨HOME 24￨Carmelo_Anthony￨FGA￨HOME 38￨Carmelo_Anthony￨FG_PCT￨HOME 2￨Carmelo_Anthony￨FG3M￨HOME 7￨Carmelo_Anthony￨FG3A￨HOME 29￨Carmelo_Anthony￨FG3_PCT￨HOME 9￨Carmelo_Anthony￨FTM￨HOME 9￨Carmelo_Anthony￨FTA￨HOME 100￨Carmelo_Anthony￨FT_PCT￨HOME 2￨Carmelo_Anthony￨OREB￨HOME 5￨Carmelo_Anthony￨DREB￨HOME 7￨Carmelo_Anthony￨REB￨HOME 2￨Carmelo_Anthony￨AST￨HOME 2￨Carmelo_Anthony￨TO￨HOME 1￨Carmelo_Anthony￨STL￨HOME 1￨Carmelo_Anthony￨BLK￨HOME 2￨Carmelo_Anthony￨PF￨HOME Carmelo￨Carmelo_Anthony￨FIRST_NAME￨HOME Anthony￨Carmelo_Anthony￨SECOND_NAME￨HOME F￨Kristaps_Porzingis￨START_POSITION￨HOME 37￨Kristaps_Porzingis￨MIN￨HOME 22￨Kristaps_Porzingis￨PTS￨HOME 9￨Kristaps_Porzingis￨FGM￨HOME 16￨Kristaps_Porzingis￨FGA￨HOME 56￨Kristaps_Porzingis￨FG_PCT￨HOME 2￨Kristaps_Porzingis￨FG3M￨HOME 4￨Kristaps_Porzingis￨FG3A￨HOME 50￨Kristaps_Porzingis￨FG3_PCT￨HOME 2￨Kristaps_Porzingis￨FTM￨HOME 2￨Kristaps_Porzingis￨FTA￨HOME 100￨Kristaps_Porzingis￨FT_PCT￨HOME 2￨Kristaps_Porzingis￨OREB￨HOME 10￨Kristaps_Porzingis￨DREB￨HOME 12￨Kristaps_Porzingis￨REB￨HOME 1￨Kristaps_Porzingis￨AST￨HOME 5￨Kristaps_Porzingis￨TO￨HOME 2￨Kristaps_Porzingis￨STL￨HOME 3￨Kristaps_Porzingis￨BLK￨HOME 4￨Kristaps_Porzingis￨PF￨HOME Kristaps￨Kristaps_Porzingis￨FIRST_NAME￨HOME Porzingis￨Kristaps_Porzingis￨SECOND_NAME￨HOME C￨Joakim_Noah￨START_POSITION￨HOME 28￨Joakim_Noah￨MIN￨HOME 8￨Joakim_Noah￨PTS￨HOME 3￨Joakim_Noah￨FGM￨HOME 4￨Joakim_Noah￨FGA￨HOME 75￨Joakim_Noah￨FG_PCT￨HOME 0￨Joakim_Noah￨FG3M￨HOME 0￨Joakim_Noah￨FG3A￨HOME 0￨Joakim_Noah￨FG3_PCT￨HOME 2￨Joakim_Noah￨FTM￨HOME 3￨Joakim_Noah￨FTA￨HOME 67￨Joakim_Noah￨FT_PCT￨HOME 5￨Joakim_Noah￨OREB￨HOME 7￨Joakim_Noah￨DREB￨HOME 12￨Joakim_Noah￨REB￨HOME 2￨Joakim_Noah￨AST￨HOME 0￨Joakim_Noah￨TO￨HOME 0￨Joakim_Noah￨STL￨HOME 0￨Joakim_Noah￨BLK￨HOME 4￨Joakim_Noah￨PF￨HOME Joakim￨Joakim_Noah￨FIRST_NAME￨HOME Noah￨Joakim_Noah￨SECOND_NAME￨HOME G￨Courtney_Lee￨START_POSITION￨HOME 34￨Courtney_Lee￨MIN￨HOME 11￨Courtney_Lee￨PTS￨HOME 4￨Courtney_Lee￨FGM￨HOME 9￨Courtney_Lee￨FGA￨HOME 44￨Courtney_Lee￨FG_PCT￨HOME 2￨Courtney_Lee￨FG3M￨HOME 6￨Courtney_Lee￨FG3A￨HOME 33￨Courtney_Lee￨FG3_PCT￨HOME 1￨Courtney_Lee￨FTM￨HOME 2￨Courtney_Lee￨FTA￨HOME 50￨Courtney_Lee￨FT_PCT￨HOME 1￨Courtney_Lee￨OREB￨HOME 2￨Courtney_Lee￨DREB￨HOME 3￨Courtney_Lee￨REB￨HOME 0￨Courtney_Lee￨AST￨HOME 0￨Courtney_Lee￨TO￨HOME 0￨Courtney_Lee￨STL￨HOME 2￨Courtney_Lee￨BLK￨HOME 3￨Courtney_Lee￨PF￨HOME Courtney￨Courtney_Lee￨FIRST_NAME￨HOME Lee￨Courtney_Lee￨SECOND_NAME￨HOME G￨Derrick_Rose￨START_POSITION￨HOME 38￨Derrick_Rose￨MIN￨HOME 25￨Derrick_Rose￨PTS￨HOME 10￨Derrick_Rose￨FGM￨HOME 19￨Derrick_Rose￨FGA￨HOME 53￨Derrick_Rose￨FG_PCT￨HOME 0￨Derrick_Rose￨FG3M￨HOME 0￨Derrick_Rose￨FG3A￨HOME 0￨Derrick_Rose￨FG3_PCT￨HOME 5￨Derrick_Rose￨FTM￨HOME 6￨Derrick_Rose￨FTA￨HOME 83￨Derrick_Rose￨FT_PCT￨HOME 3￨Derrick_Rose￨OREB￨HOME 2￨Derrick_Rose￨DREB￨HOME 5￨Derrick_Rose￨REB￨HOME 3￨Derrick_Rose￨AST￨HOME 3￨Derrick_Rose￨TO￨HOME 0￨Derrick_Rose￨STL￨HOME 0￨Derrick_Rose￨BLK￨HOME 3￨Derrick_Rose￨PF￨HOME Derrick￨Derrick_Rose￨FIRST_NAME￨HOME Rose￨Derrick_Rose￨SECOND_NAME￨HOME N/A￨Kyle_O'Quinn￨START_POSITION￨HOME 13￨Kyle_O'Quinn￨MIN￨HOME 6￨Kyle_O'Quinn￨PTS￨HOME 3￨Kyle_O'Quinn￨FGM￨HOME 4￨Kyle_O'Quinn￨FGA￨HOME 75￨Kyle_O'Quinn￨FG_PCT￨HOME 0￨Kyle_O'Quinn￨FG3M￨HOME 0￨Kyle_O'Quinn￨FG3A￨HOME 0￨Kyle_O'Quinn￨FG3_PCT￨HOME 0￨Kyle_O'Quinn￨FTM￨HOME 0￨Kyle_O'Quinn￨FTA￨HOME 0￨Kyle_O'Quinn￨FT_PCT￨HOME 1￨Kyle_O'Quinn￨OREB￨HOME 3￨Kyle_O'Quinn￨DREB￨HOME 4￨Kyle_O'Quinn￨REB￨HOME 0￨Kyle_O'Quinn￨AST￨HOME 4￨Kyle_O'Quinn￨TO￨HOME 0￨Kyle_O'Quinn￨STL￨HOME 0￨Kyle_O'Quinn￨BLK￨HOME 3￨Kyle_O'Quinn￨PF￨HOME Kyle￨Kyle_O'Quinn￨FIRST_NAME￨HOME O'Quinn￨Kyle_O'Quinn￨SECOND_NAME￨HOME N/A￨Lance_Thomas￨START_POSITION￨HOME 9￨Lance_Thomas￨MIN￨HOME 3￨Lance_Thomas￨PTS￨HOME 1￨Lance_Thomas￨FGM￨HOME 3￨Lance_Thomas￨FGA￨HOME 33￨Lance_Thomas￨FG_PCT￨HOME 0￨Lance_Thomas￨FG3M￨HOME 1￨Lance_Thomas￨FG3A￨HOME 0￨Lance_Thomas￨FG3_PCT￨HOME 1￨Lance_Thomas￨FTM￨HOME 1￨Lance_Thomas￨FTA￨HOME 100￨Lance_Thomas￨FT_PCT￨HOME 2￨Lance_Thomas￨OREB￨HOME 0￨Lance_Thomas￨DREB￨HOME 2￨Lance_Thomas￨REB￨HOME 1￨Lance_Thomas￨AST￨HOME 0￨Lance_Thomas￨TO￨HOME 0￨Lance_Thomas￨STL￨HOME 0￨Lance_Thomas￨BLK￨HOME 2￨Lance_Thomas￨PF￨HOME Lance￨Lance_Thomas￨FIRST_NAME￨HOME Thomas￨Lance_Thomas￨SECOND_NAME￨HOME N/A￨Justin_Holiday￨START_POSITION￨HOME 14￨Justin_Holiday￨MIN￨HOME 7￨Justin_Holiday￨PTS￨HOME 1￨Justin_Holiday￨FGM￨HOME 3￨Justin_Holiday￨FGA￨HOME 33￨Justin_Holiday￨FG_PCT￨HOME 1￨Justin_Holiday￨FG3M￨HOME 2￨Justin_Holiday￨FG3A￨HOME 50￨Justin_Holiday￨FG3_PCT￨HOME 4￨Justin_Holiday￨FTM￨HOME 4￨Justin_Holiday￨FTA￨HOME 100￨Justin_Holiday￨FT_PCT￨HOME 0￨Justin_Holiday￨OREB￨HOME 1￨Justin_Holiday￨DREB￨HOME 1￨Justin_Holiday￨REB￨HOME 0￨Justin_Holiday￨AST￨HOME 2￨Justin_Holiday￨TO￨HOME 0￨Justin_Holiday￨STL￨HOME 0￨Justin_Holiday￨BLK￨HOME 1￨Justin_Holiday￨PF￨HOME Justin￨Justin_Holiday￨FIRST_NAME￨HOME Holiday￨Justin_Holiday￨SECOND_NAME￨HOME N/A￨Brandon_Jennings￨START_POSITION￨HOME 16￨Brandon_Jennings￨MIN￨HOME 0￨Brandon_Jennings￨PTS￨HOME 0￨Brandon_Jennings￨FGM￨HOME 2￨Brandon_Jennings￨FGA￨HOME 0￨Brandon_Jennings￨FG_PCT￨HOME 0￨Brandon_Jennings￨FG3M￨HOME 1￨Brandon_Jennings￨FG3A￨HOME 0￨Brandon_Jennings￨FG3_PCT￨HOME 0￨Brandon_Jennings￨FTM￨HOME 0￨Brandon_Jennings￨FTA￨HOME 0￨Brandon_Jennings￨FT_PCT￨HOME 0￨Brandon_Jennings￨OREB￨HOME 2￨Brandon_Jennings￨DREB￨HOME 2￨Brandon_Jennings￨REB￨HOME 2￨Brandon_Jennings￨AST￨HOME 1￨Brandon_Jennings￨TO￨HOME 2￨Brandon_Jennings￨STL￨HOME 0￨Brandon_Jennings￨BLK￨HOME 1￨Brandon_Jennings￨PF￨HOME Brandon￨Brandon_Jennings￨FIRST_NAME￨HOME Jennings￨Brandon_Jennings￨SECOND_NAME￨HOME N/A￨Willy_Hernangomez￨START_POSITION￨HOME 3￨Willy_Hernangomez￨MIN￨HOME 0￨Willy_Hernangomez￨PTS￨HOME 0￨Willy_Hernangomez￨FGM￨HOME 0￨Willy_Hernangomez￨FGA￨HOME 0￨Willy_Hernangomez￨FG_PCT￨HOME 0￨Willy_Hernangomez￨FG3M￨HOME 0￨Willy_Hernangomez￨FG3A￨HOME 0￨Willy_Hernangomez￨FG3_PCT￨HOME 0￨Willy_Hernangomez￨FTM￨HOME 0￨Willy_Hernangomez￨FTA￨HOME 0￨Willy_Hernangomez￨FT_PCT￨HOME 0￨Willy_Hernangomez￨OREB￨HOME 0￨Willy_Hernangomez￨DREB￨HOME 0￨Willy_Hernangomez￨REB￨HOME 0￨Willy_Hernangomez￨AST￨HOME 0￨Willy_Hernangomez￨TO￨HOME 0￨Willy_Hernangomez￨STL￨HOME 0￨Willy_Hernangomez￨BLK￨HOME 0￨Willy_Hernangomez￨PF￨HOME Willy￨Willy_Hernangomez￨FIRST_NAME￨HOME Hernangomez￨Willy_Hernangomez￨SECOND_NAME￨HOME N/A￨Mindaugas_Kuzminskas￨START_POSITION￨HOME 9￨Mindaugas_Kuzminskas￨MIN￨HOME 3￨Mindaugas_Kuzminskas￨PTS￨HOME 1￨Mindaugas_Kuzminskas￨FGM￨HOME 3￨Mindaugas_Kuzminskas￨FGA￨HOME 33￨Mindaugas_Kuzminskas￨FG_PCT￨HOME 1￨Mindaugas_Kuzminskas￨FG3M￨HOME 2￨Mindaugas_Kuzminskas￨FG3A￨HOME 50￨Mindaugas_Kuzminskas￨FG3_PCT￨HOME 0￨Mindaugas_Kuzminskas￨FTM￨HOME 0￨Mindaugas_Kuzminskas￨FTA￨HOME 0￨Mindaugas_Kuzminskas￨FT_PCT￨HOME 1￨Mindaugas_Kuzminskas￨OREB￨HOME 0￨Mindaugas_Kuzminskas￨DREB￨HOME 1￨Mindaugas_Kuzminskas￨REB￨HOME 0￨Mindaugas_Kuzminskas￨AST￨HOME 0￨Mindaugas_Kuzminskas￨TO￨HOME 0￨Mindaugas_Kuzminskas￨STL￨HOME 0￨Mindaugas_Kuzminskas￨BLK￨HOME 0￨Mindaugas_Kuzminskas￨PF￨HOME Mindaugas￨Mindaugas_Kuzminskas￨FIRST_NAME￨HOME Kuzminskas￨Mindaugas_Kuzminskas￨SECOND_NAME￨HOME N/A￨Ron_Baker￨START_POSITION￨HOME N/A￨Ron_Baker￨MIN￨HOME N/A￨Ron_Baker￨PTS￨HOME N/A￨Ron_Baker￨FGM￨HOME N/A￨Ron_Baker￨FGA￨HOME N/A￨Ron_Baker￨FG_PCT￨HOME N/A￨Ron_Baker￨FG3M￨HOME N/A￨Ron_Baker￨FG3A￨HOME N/A￨Ron_Baker￨FG3_PCT￨HOME N/A￨Ron_Baker￨FTM￨HOME N/A￨Ron_Baker￨FTA￨HOME N/A￨Ron_Baker￨FT_PCT￨HOME N/A￨Ron_Baker￨OREB￨HOME N/A￨Ron_Baker￨DREB￨HOME N/A￨Ron_Baker￨REB￨HOME N/A￨Ron_Baker￨AST￨HOME N/A￨Ron_Baker￨TO￨HOME N/A￨Ron_Baker￨STL￨HOME N/A￨Ron_Baker￨BLK￨HOME N/A￨Ron_Baker￨PF￨HOME Ron￨Ron_Baker￨FIRST_NAME￨HOME Baker￨Ron_Baker￨SECOND_NAME￨HOME N/A￨Sasha_Vujacic￨START_POSITION￨HOME N/A￨Sasha_Vujacic￨MIN￨HOME N/A￨Sasha_Vujacic￨PTS￨HOME N/A￨Sasha_Vujacic￨FGM￨HOME N/A￨Sasha_Vujacic￨FGA￨HOME N/A￨Sasha_Vujacic￨FG_PCT￨HOME N/A￨Sasha_Vujacic￨FG3M￨HOME N/A￨Sasha_Vujacic￨FG3A￨HOME N/A￨Sasha_Vujacic￨FG3_PCT￨HOME N/A￨Sasha_Vujacic￨FTM￨HOME N/A￨Sasha_Vujacic￨FTA￨HOME N/A￨Sasha_Vujacic￨FT_PCT￨HOME N/A￨Sasha_Vujacic￨OREB￨HOME N/A￨Sasha_Vujacic￨DREB￨HOME N/A￨Sasha_Vujacic￨REB￨HOME N/A￨Sasha_Vujacic￨AST￨HOME N/A￨Sasha_Vujacic￨TO￨HOME N/A￨Sasha_Vujacic￨STL￨HOME N/A￨Sasha_Vujacic￨BLK￨HOME N/A￨Sasha_Vujacic￨PF￨HOME Sasha￨Sasha_Vujacic￨FIRST_NAME￨HOME Vujacic￨Sasha_Vujacic￨SECOND_NAME￨HOME F￨Jae_Crowder￨START_POSITION￨AWAY 34￨Jae_Crowder￨MIN￨AWAY 16￨Jae_Crowder￨PTS￨AWAY 5￨Jae_Crowder￨FGM￨AWAY 9￨Jae_Crowder￨FGA￨AWAY 56￨Jae_Crowder￨FG_PCT￨AWAY 3￨Jae_Crowder￨FG3M￨AWAY 6￨Jae_Crowder￨FG3A￨AWAY 50￨Jae_Crowder￨FG3_PCT￨AWAY 3￨Jae_Crowder￨FTM￨AWAY 4￨Jae_Crowder￨FTA￨AWAY 75￨Jae_Crowder￨FT_PCT￨AWAY 1￨Jae_Crowder￨OREB￨AWAY 5￨Jae_Crowder￨DREB￨AWAY 6￨Jae_Crowder￨REB￨AWAY 1￨Jae_Crowder￨AST￨AWAY 0￨Jae_Crowder￨TO￨AWAY 0￨Jae_Crowder￨STL￨AWAY 0￨Jae_Crowder￨BLK￨AWAY 3￨Jae_Crowder￨PF￨AWAY Jae￨Jae_Crowder￨FIRST_NAME￨AWAY Crowder￨Jae_Crowder￨SECOND_NAME￨AWAY F￨Amir_Johnson￨START_POSITION￨AWAY 24￨Amir_Johnson￨MIN￨AWAY 9￨Amir_Johnson￨PTS￨AWAY 3￨Amir_Johnson￨FGM￨AWAY 6￨Amir_Johnson￨FGA￨AWAY 50￨Amir_Johnson￨FG_PCT￨AWAY 0￨Amir_Johnson￨FG3M￨AWAY 0￨Amir_Johnson￨FG3A￨AWAY 0￨Amir_Johnson￨FG3_PCT￨AWAY 3￨Amir_Johnson￨FTM￨AWAY 4￨Amir_Johnson￨FTA￨AWAY 75￨Amir_Johnson￨FT_PCT￨AWAY 5￨Amir_Johnson￨OREB￨AWAY 1￨Amir_Johnson￨DREB￨AWAY 6￨Amir_Johnson￨REB￨AWAY 3￨Amir_Johnson￨AST￨AWAY 0￨Amir_Johnson￨TO￨AWAY 1￨Amir_Johnson￨STL￨AWAY 0￨Amir_Johnson￨BLK￨AWAY 4￨Amir_Johnson￨PF￨AWAY Amir￨Amir_Johnson￨FIRST_NAME￨AWAY Johnson￨Amir_Johnson￨SECOND_NAME￨AWAY C￨Al_Horford￨START_POSITION￨AWAY 35￨Al_Horford￨MIN￨AWAY 15￨Al_Horford￨PTS￨AWAY 7￨Al_Horford￨FGM￨AWAY 13￨Al_Horford￨FGA￨AWAY 54￨Al_Horford￨FG_PCT￨AWAY 1￨Al_Horford￨FG3M￨AWAY 3￨Al_Horford￨FG3A￨AWAY 33￨Al_Horford￨FG3_PCT￨AWAY 0￨Al_Horford￨FTM￨AWAY 0￨Al_Horford￨FTA￨AWAY 0￨Al_Horford￨FT_PCT￨AWAY 3￨Al_Horford￨OREB￨AWAY 4￨Al_Horford￨DREB￨AWAY 7￨Al_Horford￨REB￨AWAY 5￨Al_Horford￨AST￨AWAY 0￨Al_Horford￨TO￨AWAY 3￨Al_Horford￨STL￨AWAY 1￨Al_Horford￨BLK￨AWAY 0￨Al_Horford￨PF￨AWAY Al￨Al_Horford￨FIRST_NAME￨AWAY Horford￨Al_Horford￨SECOND_NAME￨AWAY G￨Avery_Bradley￨START_POSITION￨AWAY 32￨Avery_Bradley￨MIN￨AWAY 11￨Avery_Bradley￨PTS￨AWAY 5￨Avery_Bradley￨FGM￨AWAY 12￨Avery_Bradley￨FGA￨AWAY 42￨Avery_Bradley￨FG_PCT￨AWAY 1￨Avery_Bradley￨FG3M￨AWAY 1￨Avery_Bradley￨FG3A￨AWAY 100￨Avery_Bradley￨FG3_PCT￨AWAY 0￨Avery_Bradley￨FTM￨AWAY 0￨Avery_Bradley￨FTA￨AWAY 0￨Avery_Bradley￨FT_PCT￨AWAY 0￨Avery_Bradley￨OREB￨AWAY 6￨Avery_Bradley￨DREB￨AWAY 6￨Avery_Bradley￨REB￨AWAY 3￨Avery_Bradley￨AST￨AWAY 1￨Avery_Bradley￨TO￨AWAY 3￨Avery_Bradley￨STL￨AWAY 0￨Avery_Bradley￨BLK￨AWAY 2￨Avery_Bradley￨PF￨AWAY Avery￨Avery_Bradley￨FIRST_NAME￨AWAY Bradley￨Avery_Bradley￨SECOND_NAME￨AWAY G￨Isaiah_Thomas￨START_POSITION￨AWAY 33￨Isaiah_Thomas￨MIN￨AWAY 27￨Isaiah_Thomas￨PTS￨AWAY 9￨Isaiah_Thomas￨FGM￨AWAY 23￨Isaiah_Thomas￨FGA￨AWAY 39￨Isaiah_Thomas￨FG_PCT￨AWAY 3￨Isaiah_Thomas￨FG3M￨AWAY 13￨Isaiah_Thomas￨FG3A￨AWAY 23￨Isaiah_Thomas￨FG3_PCT￨AWAY 6￨Isaiah_Thomas￨FTM￨AWAY 8￨Isaiah_Thomas￨FTA￨AWAY 75￨Isaiah_Thomas￨FT_PCT￨AWAY 0￨Isaiah_Thomas￨OREB￨AWAY 3￨Isaiah_Thomas￨DREB￨AWAY 3￨Isaiah_Thomas￨REB￨AWAY 3￨Isaiah_Thomas￨AST￨AWAY 2￨Isaiah_Thomas￨TO￨AWAY 0￨Isaiah_Thomas￨STL￨AWAY 0￨Isaiah_Thomas￨BLK￨AWAY 3￨Isaiah_Thomas￨PF￨AWAY Isaiah￨Isaiah_Thomas￨FIRST_NAME￨AWAY Thomas￨Isaiah_Thomas￨SECOND_NAME￨AWAY N/A￨Jonas_Jerebko￨START_POSITION￨AWAY 13￨Jonas_Jerebko￨MIN￨AWAY 2￨Jonas_Jerebko￨PTS￨AWAY 1￨Jonas_Jerebko￨FGM￨AWAY 5￨Jonas_Jerebko￨FGA￨AWAY 20￨Jonas_Jerebko￨FG_PCT￨AWAY 0￨Jonas_Jerebko￨FG3M￨AWAY 3￨Jonas_Jerebko￨FG3A￨AWAY 0￨Jonas_Jerebko￨FG3_PCT￨AWAY 0￨Jonas_Jerebko￨FTM￨AWAY 0￨Jonas_Jerebko￨FTA￨AWAY 0￨Jonas_Jerebko￨FT_PCT￨AWAY 1￨Jonas_Jerebko￨OREB￨AWAY 1￨Jonas_Jerebko￨DREB￨AWAY 2￨Jonas_Jerebko￨REB￨AWAY 0￨Jonas_Jerebko￨AST￨AWAY 0￨Jonas_Jerebko￨TO￨AWAY 1￨Jonas_Jerebko￨STL￨AWAY 0￨Jonas_Jerebko￨BLK￨AWAY 3￨Jonas_Jerebko￨PF￨AWAY Jonas￨Jonas_Jerebko￨FIRST_NAME￨AWAY Jerebko￨Jonas_Jerebko￨SECOND_NAME￨AWAY N/A￨Marcus_Smart￨START_POSITION￨AWAY 28￨Marcus_Smart￨MIN￨AWAY 15￨Marcus_Smart￨PTS￨AWAY 5￨Marcus_Smart￨FGM￨AWAY 9￨Marcus_Smart￨FGA￨AWAY 56￨Marcus_Smart￨FG_PCT￨AWAY 2￨Marcus_Smart￨FG3M￨AWAY 4￨Marcus_Smart￨FG3A￨AWAY 50￨Marcus_Smart￨FG3_PCT￨AWAY 3￨Marcus_Smart￨FTM￨AWAY 4￨Marcus_Smart￨FTA￨AWAY 75￨Marcus_Smart￨FT_PCT￨AWAY 1￨Marcus_Smart￨OREB￨AWAY 1￨Marcus_Smart￨DREB￨AWAY 2￨Marcus_Smart￨REB￨AWAY 7￨Marcus_Smart￨AST￨AWAY 1￨Marcus_Smart￨TO￨AWAY 1￨Marcus_Smart￨STL￨AWAY 0￨Marcus_Smart￨BLK￨AWAY 2￨Marcus_Smart￨PF￨AWAY Marcus￨Marcus_Smart￨FIRST_NAME￨AWAY Smart￨Marcus_Smart￨SECOND_NAME￨AWAY N/A￨Jaylen_Brown￨START_POSITION￨AWAY 6￨Jaylen_Brown￨MIN￨AWAY 0￨Jaylen_Brown￨PTS￨AWAY 0￨Jaylen_Brown￨FGM￨AWAY 1￨Jaylen_Brown￨FGA￨AWAY 0￨Jaylen_Brown￨FG_PCT￨AWAY 0￨Jaylen_Brown￨FG3M￨AWAY 0￨Jaylen_Brown￨FG3A￨AWAY 0￨Jaylen_Brown￨FG3_PCT￨AWAY 0￨Jaylen_Brown￨FTM￨AWAY 0￨Jaylen_Brown￨FTA￨AWAY 0￨Jaylen_Brown￨FT_PCT￨AWAY 0￨Jaylen_Brown￨OREB￨AWAY 2￨Jaylen_Brown￨DREB￨AWAY 2￨Jaylen_Brown￨REB￨AWAY 0￨Jaylen_Brown￨AST￨AWAY 0￨Jaylen_Brown￨TO￨AWAY 0￨Jaylen_Brown￨STL￨AWAY 0￨Jaylen_Brown￨BLK￨AWAY 0￨Jaylen_Brown￨PF￨AWAY Jaylen￨Jaylen_Brown￨FIRST_NAME￨AWAY Brown￨Jaylen_Brown￨SECOND_NAME￨AWAY N/A￨Kelly_Olynyk￨START_POSITION￨AWAY 23￨Kelly_Olynyk￨MIN￨AWAY 16￨Kelly_Olynyk￨PTS￨AWAY 7￨Kelly_Olynyk￨FGM￨AWAY 9￨Kelly_Olynyk￨FGA￨AWAY 78￨Kelly_Olynyk￨FG_PCT￨AWAY 2￨Kelly_Olynyk￨FG3M￨AWAY 3￨Kelly_Olynyk￨FG3A￨AWAY 67￨Kelly_Olynyk￨FG3_PCT￨AWAY 0￨Kelly_Olynyk￨FTM￨AWAY 0￨Kelly_Olynyk￨FTA￨AWAY 0￨Kelly_Olynyk￨FT_PCT￨AWAY 0￨Kelly_Olynyk￨OREB￨AWAY 2￨Kelly_Olynyk￨DREB￨AWAY 2￨Kelly_Olynyk￨REB￨AWAY 2￨Kelly_Olynyk￨AST￨AWAY 1￨Kelly_Olynyk￨TO￨AWAY 0￨Kelly_Olynyk￨STL￨AWAY 0￨Kelly_Olynyk￨BLK￨AWAY 3￨Kelly_Olynyk￨PF￨AWAY Kelly￨Kelly_Olynyk￨FIRST_NAME￨AWAY Olynyk￨Kelly_Olynyk￨SECOND_NAME￨AWAY N/A￨Gerald_Green￨START_POSITION￨AWAY 12￨Gerald_Green￨MIN￨AWAY 8￨Gerald_Green￨PTS￨AWAY 3￨Gerald_Green￨FGM￨AWAY 6￨Gerald_Green￨FGA￨AWAY 50￨Gerald_Green￨FG_PCT￨AWAY 2￨Gerald_Green￨FG3M￨AWAY 3￨Gerald_Green￨FG3A￨AWAY 67￨Gerald_Green￨FG3_PCT￨AWAY 0￨Gerald_Green￨FTM￨AWAY 0￨Gerald_Green￨FTA￨AWAY 0￨Gerald_Green￨FT_PCT￨AWAY 1￨Gerald_Green￨OREB￨AWAY 2￨Gerald_Green￨DREB￨AWAY 3￨Gerald_Green￨REB￨AWAY 1￨Gerald_Green￨AST￨AWAY 0￨Gerald_Green￨TO￨AWAY 1￨Gerald_Green￨STL￨AWAY 1￨Gerald_Green￨BLK￨AWAY 0￨Gerald_Green￨PF￨AWAY Gerald￨Gerald_Green￨FIRST_NAME￨AWAY Green￨Gerald_Green￨SECOND_NAME￨AWAY N/A￨Terry_Rozier￨START_POSITION￨AWAY N/A￨Terry_Rozier￨MIN￨AWAY N/A￨Terry_Rozier￨PTS￨AWAY N/A￨Terry_Rozier￨FGM￨AWAY N/A￨Terry_Rozier￨FGA￨AWAY N/A￨Terry_Rozier￨FG_PCT￨AWAY N/A￨Terry_Rozier￨FG3M￨AWAY N/A￨Terry_Rozier￨FG3A￨AWAY N/A￨Terry_Rozier￨FG3_PCT￨AWAY N/A￨Terry_Rozier￨FTM￨AWAY N/A￨Terry_Rozier￨FTA￨AWAY N/A￨Terry_Rozier￨FT_PCT￨AWAY N/A￨Terry_Rozier￨OREB￨AWAY N/A￨Terry_Rozier￨DREB￨AWAY N/A￨Terry_Rozier￨REB￨AWAY N/A￨Terry_Rozier￨AST￨AWAY N/A￨Terry_Rozier￨TO￨AWAY N/A￨Terry_Rozier￨STL￨AWAY N/A￨Terry_Rozier￨BLK￨AWAY N/A￨Terry_Rozier￨PF￨AWAY Terry￨Terry_Rozier￨FIRST_NAME￨AWAY Rozier￨Terry_Rozier￨SECOND_NAME￨AWAY N/A￨James_Young￨START_POSITION￨AWAY N/A￨James_Young￨MIN￨AWAY N/A￨James_Young￨PTS￨AWAY N/A￨James_Young￨FGM￨AWAY N/A￨James_Young￨FGA￨AWAY N/A￨James_Young￨FG_PCT￨AWAY N/A￨James_Young￨FG3M￨AWAY N/A￨James_Young￨FG3A￨AWAY N/A￨James_Young￨FG3_PCT￨AWAY N/A￨James_Young￨FTM￨AWAY N/A￨James_Young￨FTA￨AWAY N/A￨James_Young￨FT_PCT￨AWAY N/A￨James_Young￨OREB￨AWAY N/A￨James_Young￨DREB￨AWAY N/A￨James_Young￨REB￨AWAY N/A￨James_Young￨AST￨AWAY N/A￨James_Young￨TO￨AWAY N/A￨James_Young￨STL￨AWAY N/A￨James_Young￨BLK￨AWAY N/A￨James_Young￨PF￨AWAY James￨James_Young￨FIRST_NAME￨AWAY Young￨James_Young￨SECOND_NAME￨AWAY N/A￨Tyler_Zeller￨START_POSITION￨AWAY N/A￨Tyler_Zeller￨MIN￨AWAY N/A￨Tyler_Zeller￨PTS￨AWAY N/A￨Tyler_Zeller￨FGM￨AWAY N/A￨Tyler_Zeller￨FGA￨AWAY N/A￨Tyler_Zeller￨FG_PCT￨AWAY N/A￨Tyler_Zeller￨FG3M￨AWAY N/A￨Tyler_Zeller￨FG3A￨AWAY N/A￨Tyler_Zeller￨FG3_PCT￨AWAY N/A￨Tyler_Zeller￨FTM￨AWAY N/A￨Tyler_Zeller￨FTA￨AWAY N/A￨Tyler_Zeller￨FT_PCT￨AWAY N/A￨Tyler_Zeller￨OREB￨AWAY N/A￨Tyler_Zeller￨DREB￨AWAY N/A￨Tyler_Zeller￨REB￨AWAY N/A￨Tyler_Zeller￨AST￨AWAY N/A￨Tyler_Zeller￨TO￨AWAY N/A￨Tyler_Zeller￨STL￨AWAY N/A￨Tyler_Zeller￨BLK￨AWAY N/A￨Tyler_Zeller￨PF￨AWAY Tyler￨Tyler_Zeller￨FIRST_NAME￨AWAY Zeller￨Tyler_Zeller￨SECOND_NAME￨AWAY 28￨Knicks￨TEAM-PTS_QTR1￨HOME 20￨Knicks￨TEAM-PTS_QTR2￨HOME 34￨Knicks￨TEAM-PTS_QTR3￨HOME 32￨Knicks￨TEAM-PTS_QTR4￨HOME 114￨Knicks￨TEAM-PTS￨HOME 47￨Knicks￨TEAM-FG_PCT￨HOME 35￨Knicks￨TEAM-FG3_PCT￨HOME 89￨Knicks￨TEAM-FT_PCT￨HOME 49￨Knicks￨TEAM-REB￨HOME 11￨Knicks￨TEAM-AST￨HOME 17￨Knicks￨TEAM-TOV￨HOME 16￨Knicks￨TEAM-WINS￨HOME 14￨Knicks￨TEAM-LOSSES￨HOME New_York￨Knicks￨TEAM-CITY￨HOME Knicks￨Knicks￨TEAM-NAME￨HOME 22￨Celtics￨TEAM-PTS_QTR1￨AWAY 34￨Celtics￨TEAM-PTS_QTR2￨AWAY 32￨Celtics￨TEAM-PTS_QTR3￨AWAY 31￨Celtics￨TEAM-PTS_QTR4￨AWAY 119￨Celtics￨TEAM-PTS￨AWAY 48￨Celtics￨TEAM-FG_PCT￨AWAY 39￨Celtics￨TEAM-FG3_PCT￨AWAY 75￨Celtics￨TEAM-FT_PCT￨AWAY 39￨Celtics￨TEAM-REB￨AWAY 25￨Celtics￨TEAM-AST￨AWAY 5￨Celtics￨TEAM-TOV￨AWAY 18￨Celtics￨TEAM-WINS￨AWAY 13￨Celtics￨TEAM-LOSSES￨AWAY Boston￨Celtics￨TEAM-CITY￨AWAY Celtics￨Celtics￨TEAM-NAME￨AWAY\\n\""
      ]
     },
     "execution_count": 44,
     "metadata": {},
     "output_type": "execute_result"
    }
   ],
   "source": [
    "drive_src_train[0]"
   ]
  },
  {
   "cell_type": "code",
   "execution_count": 45,
   "metadata": {},
   "outputs": [
    {
     "data": {
      "text/plain": [
       "\"<unk>￨<blank>￨<blank>￨<blank> <blank>￨<blank>￨<blank>￨<blank> <s>￨<blank>￨<blank>￨<blank> </s>￨<blank>￨<blank>￨<blank> F￨Carmelo_Anthony￨START_POSITION￨HOME 39￨Carmelo_Anthony￨MIN￨HOME 29￨Carmelo_Anthony￨PTS￨HOME 9￨Carmelo_Anthony￨FGM￨HOME 24￨Carmelo_Anthony￨FGA￨HOME 38￨Carmelo_Anthony￨FG_PCT￨HOME 2￨Carmelo_Anthony￨FG3M￨HOME 7￨Carmelo_Anthony￨FG3A￨HOME 29￨Carmelo_Anthony￨FG3_PCT￨HOME 9￨Carmelo_Anthony￨FTM￨HOME 9￨Carmelo_Anthony￨FTA￨HOME 100￨Carmelo_Anthony￨FT_PCT￨HOME 2￨Carmelo_Anthony￨OREB￨HOME 5￨Carmelo_Anthony￨DREB￨HOME 7￨Carmelo_Anthony￨REB￨HOME 2￨Carmelo_Anthony￨AST￨HOME 2￨Carmelo_Anthony￨TO￨HOME 1￨Carmelo_Anthony￨STL￨HOME 1￨Carmelo_Anthony￨BLK￨HOME 2￨Carmelo_Anthony￨PF￨HOME Carmelo￨Carmelo_Anthony￨FIRST_NAME￨HOME Anthony￨Carmelo_Anthony￨SECOND_NAME￨HOME F￨Kristaps_Porzingis￨START_POSITION￨HOME 37￨Kristaps_Porzingis￨MIN￨HOME 22￨Kristaps_Porzingis￨PTS￨HOME 9￨Kristaps_Porzingis￨FGM￨HOME 16￨Kristaps_Porzingis￨FGA￨HOME 56￨Kristaps_Porzingis￨FG_PCT￨HOME 2￨Kristaps_Porzingis￨FG3M￨HOME 4￨Kristaps_Porzingis￨FG3A￨HOME 50￨Kristaps_Porzingis￨FG3_PCT￨HOME 2￨Kristaps_Porzingis￨FTM￨HOME 2￨Kristaps_Porzingis￨FTA￨HOME 100￨Kristaps_Porzingis￨FT_PCT￨HOME 2￨Kristaps_Porzingis￨OREB￨HOME 10￨Kristaps_Porzingis￨DREB￨HOME 12￨Kristaps_Porzingis￨REB￨HOME 1￨Kristaps_Porzingis￨AST￨HOME 5￨Kristaps_Porzingis￨TO￨HOME 2￨Kristaps_Porzingis￨STL￨HOME 3￨Kristaps_Porzingis￨BLK￨HOME 4￨Kristaps_Porzingis￨PF￨HOME Kristaps￨Kristaps_Porzingis￨FIRST_NAME￨HOME Porzingis￨Kristaps_Porzingis￨SECOND_NAME￨HOME C￨Joakim_Noah￨START_POSITION￨HOME 28￨Joakim_Noah￨MIN￨HOME 8￨Joakim_Noah￨PTS￨HOME 3￨Joakim_Noah￨FGM￨HOME 4￨Joakim_Noah￨FGA￨HOME 75￨Joakim_Noah￨FG_PCT￨HOME 0￨Joakim_Noah￨FG3M￨HOME 0￨Joakim_Noah￨FG3A￨HOME 0￨Joakim_Noah￨FG3_PCT￨HOME 2￨Joakim_Noah￨FTM￨HOME 3￨Joakim_Noah￨FTA￨HOME 67￨Joakim_Noah￨FT_PCT￨HOME 5￨Joakim_Noah￨OREB￨HOME 7￨Joakim_Noah￨DREB￨HOME 12￨Joakim_Noah￨REB￨HOME 2￨Joakim_Noah￨AST￨HOME 0￨Joakim_Noah￨TO￨HOME 0￨Joakim_Noah￨STL￨HOME 0￨Joakim_Noah￨BLK￨HOME 4￨Joakim_Noah￨PF￨HOME Joakim￨Joakim_Noah￨FIRST_NAME￨HOME Noah￨Joakim_Noah￨SECOND_NAME￨HOME G￨Courtney_Lee￨START_POSITION￨HOME 34￨Courtney_Lee￨MIN￨HOME 11￨Courtney_Lee￨PTS￨HOME 4￨Courtney_Lee￨FGM￨HOME 9￨Courtney_Lee￨FGA￨HOME 44￨Courtney_Lee￨FG_PCT￨HOME 2￨Courtney_Lee￨FG3M￨HOME 6￨Courtney_Lee￨FG3A￨HOME 33￨Courtney_Lee￨FG3_PCT￨HOME 1￨Courtney_Lee￨FTM￨HOME 2￨Courtney_Lee￨FTA￨HOME 50￨Courtney_Lee￨FT_PCT￨HOME 1￨Courtney_Lee￨OREB￨HOME 2￨Courtney_Lee￨DREB￨HOME 3￨Courtney_Lee￨REB￨HOME 0￨Courtney_Lee￨AST￨HOME 0￨Courtney_Lee￨TO￨HOME 0￨Courtney_Lee￨STL￨HOME 2￨Courtney_Lee￨BLK￨HOME 3￨Courtney_Lee￨PF￨HOME Courtney￨Courtney_Lee￨FIRST_NAME￨HOME Lee￨Courtney_Lee￨SECOND_NAME￨HOME G￨Derrick_Rose￨START_POSITION￨HOME 38￨Derrick_Rose￨MIN￨HOME 25￨Derrick_Rose￨PTS￨HOME 10￨Derrick_Rose￨FGM￨HOME 19￨Derrick_Rose￨FGA￨HOME 53￨Derrick_Rose￨FG_PCT￨HOME 0￨Derrick_Rose￨FG3M￨HOME 0￨Derrick_Rose￨FG3A￨HOME 0￨Derrick_Rose￨FG3_PCT￨HOME 5￨Derrick_Rose￨FTM￨HOME 6￨Derrick_Rose￨FTA￨HOME 83￨Derrick_Rose￨FT_PCT￨HOME 3￨Derrick_Rose￨OREB￨HOME 2￨Derrick_Rose￨DREB￨HOME 5￨Derrick_Rose￨REB￨HOME 3￨Derrick_Rose￨AST￨HOME 3￨Derrick_Rose￨TO￨HOME 0￨Derrick_Rose￨STL￨HOME 0￨Derrick_Rose￨BLK￨HOME 3￨Derrick_Rose￨PF￨HOME Derrick￨Derrick_Rose￨FIRST_NAME￨HOME Rose￨Derrick_Rose￨SECOND_NAME￨HOME N/A￨Kyle_O'Quinn￨START_POSITION￨HOME 13￨Kyle_O'Quinn￨MIN￨HOME 6￨Kyle_O'Quinn￨PTS￨HOME 3￨Kyle_O'Quinn￨FGM￨HOME 4￨Kyle_O'Quinn￨FGA￨HOME 75￨Kyle_O'Quinn￨FG_PCT￨HOME 0￨Kyle_O'Quinn￨FG3M￨HOME 0￨Kyle_O'Quinn￨FG3A￨HOME 0￨Kyle_O'Quinn￨FG3_PCT￨HOME 0￨Kyle_O'Quinn￨FTM￨HOME 0￨Kyle_O'Quinn￨FTA￨HOME 0￨Kyle_O'Quinn￨FT_PCT￨HOME 1￨Kyle_O'Quinn￨OREB￨HOME 3￨Kyle_O'Quinn￨DREB￨HOME 4￨Kyle_O'Quinn￨REB￨HOME 0￨Kyle_O'Quinn￨AST￨HOME 4￨Kyle_O'Quinn￨TO￨HOME 0￨Kyle_O'Quinn￨STL￨HOME 0￨Kyle_O'Quinn￨BLK￨HOME 3￨Kyle_O'Quinn￨PF￨HOME Kyle￨Kyle_O'Quinn￨FIRST_NAME￨HOME O'Quinn￨Kyle_O'Quinn￨SECOND_NAME￨HOME N/A￨Lance_Thomas￨START_POSITION￨HOME 9￨Lance_Thomas￨MIN￨HOME 3￨Lance_Thomas￨PTS￨HOME 1￨Lance_Thomas￨FGM￨HOME 3￨Lance_Thomas￨FGA￨HOME 33￨Lance_Thomas￨FG_PCT￨HOME 0￨Lance_Thomas￨FG3M￨HOME 1￨Lance_Thomas￨FG3A￨HOME 0￨Lance_Thomas￨FG3_PCT￨HOME 1￨Lance_Thomas￨FTM￨HOME 1￨Lance_Thomas￨FTA￨HOME 100￨Lance_Thomas￨FT_PCT￨HOME 2￨Lance_Thomas￨OREB￨HOME 0￨Lance_Thomas￨DREB￨HOME 2￨Lance_Thomas￨REB￨HOME 1￨Lance_Thomas￨AST￨HOME 0￨Lance_Thomas￨TO￨HOME 0￨Lance_Thomas￨STL￨HOME 0￨Lance_Thomas￨BLK￨HOME 2￨Lance_Thomas￨PF￨HOME Lance￨Lance_Thomas￨FIRST_NAME￨HOME Thomas￨Lance_Thomas￨SECOND_NAME￨HOME N/A￨Justin_Holiday￨START_POSITION￨HOME 14￨Justin_Holiday￨MIN￨HOME 7￨Justin_Holiday￨PTS￨HOME 1￨Justin_Holiday￨FGM￨HOME 3￨Justin_Holiday￨FGA￨HOME 33￨Justin_Holiday￨FG_PCT￨HOME 1￨Justin_Holiday￨FG3M￨HOME 2￨Justin_Holiday￨FG3A￨HOME 50￨Justin_Holiday￨FG3_PCT￨HOME 4￨Justin_Holiday￨FTM￨HOME 4￨Justin_Holiday￨FTA￨HOME 100￨Justin_Holiday￨FT_PCT￨HOME 0￨Justin_Holiday￨OREB￨HOME 1￨Justin_Holiday￨DREB￨HOME 1￨Justin_Holiday￨REB￨HOME 0￨Justin_Holiday￨AST￨HOME 2￨Justin_Holiday￨TO￨HOME 0￨Justin_Holiday￨STL￨HOME 0￨Justin_Holiday￨BLK￨HOME 1￨Justin_Holiday￨PF￨HOME Justin￨Justin_Holiday￨FIRST_NAME￨HOME Holiday￨Justin_Holiday￨SECOND_NAME￨HOME N/A￨Brandon_Jennings￨START_POSITION￨HOME 16￨Brandon_Jennings￨MIN￨HOME 0￨Brandon_Jennings￨PTS￨HOME 0￨Brandon_Jennings￨FGM￨HOME 2￨Brandon_Jennings￨FGA￨HOME 0￨Brandon_Jennings￨FG_PCT￨HOME 0￨Brandon_Jennings￨FG3M￨HOME 1￨Brandon_Jennings￨FG3A￨HOME 0￨Brandon_Jennings￨FG3_PCT￨HOME 0￨Brandon_Jennings￨FTM￨HOME 0￨Brandon_Jennings￨FTA￨HOME 0￨Brandon_Jennings￨FT_PCT￨HOME 0￨Brandon_Jennings￨OREB￨HOME 2￨Brandon_Jennings￨DREB￨HOME 2￨Brandon_Jennings￨REB￨HOME 2￨Brandon_Jennings￨AST￨HOME 1￨Brandon_Jennings￨TO￨HOME 2￨Brandon_Jennings￨STL￨HOME 0￨Brandon_Jennings￨BLK￨HOME 1￨Brandon_Jennings￨PF￨HOME Brandon￨Brandon_Jennings￨FIRST_NAME￨HOME Jennings￨Brandon_Jennings￨SECOND_NAME￨HOME N/A￨Willy_Hernangomez￨START_POSITION￨HOME 3￨Willy_Hernangomez￨MIN￨HOME 0￨Willy_Hernangomez￨PTS￨HOME 0￨Willy_Hernangomez￨FGM￨HOME 0￨Willy_Hernangomez￨FGA￨HOME 0￨Willy_Hernangomez￨FG_PCT￨HOME 0￨Willy_Hernangomez￨FG3M￨HOME 0￨Willy_Hernangomez￨FG3A￨HOME 0￨Willy_Hernangomez￨FG3_PCT￨HOME 0￨Willy_Hernangomez￨FTM￨HOME 0￨Willy_Hernangomez￨FTA￨HOME 0￨Willy_Hernangomez￨FT_PCT￨HOME 0￨Willy_Hernangomez￨OREB￨HOME 0￨Willy_Hernangomez￨DREB￨HOME 0￨Willy_Hernangomez￨REB￨HOME 0￨Willy_Hernangomez￨AST￨HOME 0￨Willy_Hernangomez￨TO￨HOME 0￨Willy_Hernangomez￨STL￨HOME 0￨Willy_Hernangomez￨BLK￨HOME 0￨Willy_Hernangomez￨PF￨HOME Willy￨Willy_Hernangomez￨FIRST_NAME￨HOME Hernangomez￨Willy_Hernangomez￨SECOND_NAME￨HOME N/A￨Mindaugas_Kuzminskas￨START_POSITION￨HOME 9￨Mindaugas_Kuzminskas￨MIN￨HOME 3￨Mindaugas_Kuzminskas￨PTS￨HOME 1￨Mindaugas_Kuzminskas￨FGM￨HOME 3￨Mindaugas_Kuzminskas￨FGA￨HOME 33￨Mindaugas_Kuzminskas￨FG_PCT￨HOME 1￨Mindaugas_Kuzminskas￨FG3M￨HOME 2￨Mindaugas_Kuzminskas￨FG3A￨HOME 50￨Mindaugas_Kuzminskas￨FG3_PCT￨HOME 0￨Mindaugas_Kuzminskas￨FTM￨HOME 0￨Mindaugas_Kuzminskas￨FTA￨HOME 0￨Mindaugas_Kuzminskas￨FT_PCT￨HOME 1￨Mindaugas_Kuzminskas￨OREB￨HOME 0￨Mindaugas_Kuzminskas￨DREB￨HOME 1￨Mindaugas_Kuzminskas￨REB￨HOME 0￨Mindaugas_Kuzminskas￨AST￨HOME 0￨Mindaugas_Kuzminskas￨TO￨HOME 0￨Mindaugas_Kuzminskas￨STL￨HOME 0￨Mindaugas_Kuzminskas￨BLK￨HOME 0￨Mindaugas_Kuzminskas￨PF￨HOME Mindaugas￨Mindaugas_Kuzminskas￨FIRST_NAME￨HOME Kuzminskas￨Mindaugas_Kuzminskas￨SECOND_NAME￨HOME N/A￨Ron_Baker￨START_POSITION￨HOME N/A￨Ron_Baker￨MIN￨HOME N/A￨Ron_Baker￨PTS￨HOME N/A￨Ron_Baker￨FGM￨HOME N/A￨Ron_Baker￨FGA￨HOME N/A￨Ron_Baker￨FG_PCT￨HOME N/A￨Ron_Baker￨FG3M￨HOME N/A￨Ron_Baker￨FG3A￨HOME N/A￨Ron_Baker￨FG3_PCT￨HOME N/A￨Ron_Baker￨FTM￨HOME N/A￨Ron_Baker￨FTA￨HOME N/A￨Ron_Baker￨FT_PCT￨HOME N/A￨Ron_Baker￨OREB￨HOME N/A￨Ron_Baker￨DREB￨HOME N/A￨Ron_Baker￨REB￨HOME N/A￨Ron_Baker￨AST￨HOME N/A￨Ron_Baker￨TO￨HOME N/A￨Ron_Baker￨STL￨HOME N/A￨Ron_Baker￨BLK￨HOME N/A￨Ron_Baker￨PF￨HOME Ron￨Ron_Baker￨FIRST_NAME￨HOME Baker￨Ron_Baker￨SECOND_NAME￨HOME N/A￨Sasha_Vujacic￨START_POSITION￨HOME N/A￨Sasha_Vujacic￨MIN￨HOME N/A￨Sasha_Vujacic￨PTS￨HOME N/A￨Sasha_Vujacic￨FGM￨HOME N/A￨Sasha_Vujacic￨FGA￨HOME N/A￨Sasha_Vujacic￨FG_PCT￨HOME N/A￨Sasha_Vujacic￨FG3M￨HOME N/A￨Sasha_Vujacic￨FG3A￨HOME N/A￨Sasha_Vujacic￨FG3_PCT￨HOME N/A￨Sasha_Vujacic￨FTM￨HOME N/A￨Sasha_Vujacic￨FTA￨HOME N/A￨Sasha_Vujacic￨FT_PCT￨HOME N/A￨Sasha_Vujacic￨OREB￨HOME N/A￨Sasha_Vujacic￨DREB￨HOME N/A￨Sasha_Vujacic￨REB￨HOME N/A￨Sasha_Vujacic￨AST￨HOME N/A￨Sasha_Vujacic￨TO￨HOME N/A￨Sasha_Vujacic￨STL￨HOME N/A￨Sasha_Vujacic￨BLK￨HOME N/A￨Sasha_Vujacic￨PF￨HOME Sasha￨Sasha_Vujacic￨FIRST_NAME￨HOME Vujacic￨Sasha_Vujacic￨SECOND_NAME￨HOME F￨Jae_Crowder￨START_POSITION￨AWAY 34￨Jae_Crowder￨MIN￨AWAY 16￨Jae_Crowder￨PTS￨AWAY 5￨Jae_Crowder￨FGM￨AWAY 9￨Jae_Crowder￨FGA￨AWAY 56￨Jae_Crowder￨FG_PCT￨AWAY 3￨Jae_Crowder￨FG3M￨AWAY 6￨Jae_Crowder￨FG3A￨AWAY 50￨Jae_Crowder￨FG3_PCT￨AWAY 3￨Jae_Crowder￨FTM￨AWAY 4￨Jae_Crowder￨FTA￨AWAY 75￨Jae_Crowder￨FT_PCT￨AWAY 1￨Jae_Crowder￨OREB￨AWAY 5￨Jae_Crowder￨DREB￨AWAY 6￨Jae_Crowder￨REB￨AWAY 1￨Jae_Crowder￨AST￨AWAY 0￨Jae_Crowder￨TO￨AWAY 0￨Jae_Crowder￨STL￨AWAY 0￨Jae_Crowder￨BLK￨AWAY 3￨Jae_Crowder￨PF￨AWAY Jae￨Jae_Crowder￨FIRST_NAME￨AWAY Crowder￨Jae_Crowder￨SECOND_NAME￨AWAY F￨Amir_Johnson￨START_POSITION￨AWAY 24￨Amir_Johnson￨MIN￨AWAY 9￨Amir_Johnson￨PTS￨AWAY 3￨Amir_Johnson￨FGM￨AWAY 6￨Amir_Johnson￨FGA￨AWAY 50￨Amir_Johnson￨FG_PCT￨AWAY 0￨Amir_Johnson￨FG3M￨AWAY 0￨Amir_Johnson￨FG3A￨AWAY 0￨Amir_Johnson￨FG3_PCT￨AWAY 3￨Amir_Johnson￨FTM￨AWAY 4￨Amir_Johnson￨FTA￨AWAY 75￨Amir_Johnson￨FT_PCT￨AWAY 5￨Amir_Johnson￨OREB￨AWAY 1￨Amir_Johnson￨DREB￨AWAY 6￨Amir_Johnson￨REB￨AWAY 3￨Amir_Johnson￨AST￨AWAY 0￨Amir_Johnson￨TO￨AWAY 1￨Amir_Johnson￨STL￨AWAY 0￨Amir_Johnson￨BLK￨AWAY 4￨Amir_Johnson￨PF￨AWAY Amir￨Amir_Johnson￨FIRST_NAME￨AWAY Johnson￨Amir_Johnson￨SECOND_NAME￨AWAY C￨Al_Horford￨START_POSITION￨AWAY 35￨Al_Horford￨MIN￨AWAY 15￨Al_Horford￨PTS￨AWAY 7￨Al_Horford￨FGM￨AWAY 13￨Al_Horford￨FGA￨AWAY 54￨Al_Horford￨FG_PCT￨AWAY 1￨Al_Horford￨FG3M￨AWAY 3￨Al_Horford￨FG3A￨AWAY 33￨Al_Horford￨FG3_PCT￨AWAY 0￨Al_Horford￨FTM￨AWAY 0￨Al_Horford￨FTA￨AWAY 0￨Al_Horford￨FT_PCT￨AWAY 3￨Al_Horford￨OREB￨AWAY 4￨Al_Horford￨DREB￨AWAY 7￨Al_Horford￨REB￨AWAY 5￨Al_Horford￨AST￨AWAY 0￨Al_Horford￨TO￨AWAY 3￨Al_Horford￨STL￨AWAY 1￨Al_Horford￨BLK￨AWAY 0￨Al_Horford￨PF￨AWAY Al￨Al_Horford￨FIRST_NAME￨AWAY Horford￨Al_Horford￨SECOND_NAME￨AWAY G￨Avery_Bradley￨START_POSITION￨AWAY 32￨Avery_Bradley￨MIN￨AWAY 11￨Avery_Bradley￨PTS￨AWAY 5￨Avery_Bradley￨FGM￨AWAY 12￨Avery_Bradley￨FGA￨AWAY 42￨Avery_Bradley￨FG_PCT￨AWAY 1￨Avery_Bradley￨FG3M￨AWAY 1￨Avery_Bradley￨FG3A￨AWAY 100￨Avery_Bradley￨FG3_PCT￨AWAY 0￨Avery_Bradley￨FTM￨AWAY 0￨Avery_Bradley￨FTA￨AWAY 0￨Avery_Bradley￨FT_PCT￨AWAY 0￨Avery_Bradley￨OREB￨AWAY 6￨Avery_Bradley￨DREB￨AWAY 6￨Avery_Bradley￨REB￨AWAY 3￨Avery_Bradley￨AST￨AWAY 1￨Avery_Bradley￨TO￨AWAY 3￨Avery_Bradley￨STL￨AWAY 0￨Avery_Bradley￨BLK￨AWAY 2￨Avery_Bradley￨PF￨AWAY Avery￨Avery_Bradley￨FIRST_NAME￨AWAY Bradley￨Avery_Bradley￨SECOND_NAME￨AWAY G￨Isaiah_Thomas￨START_POSITION￨AWAY 33￨Isaiah_Thomas￨MIN￨AWAY 27￨Isaiah_Thomas￨PTS￨AWAY 9￨Isaiah_Thomas￨FGM￨AWAY 23￨Isaiah_Thomas￨FGA￨AWAY 39￨Isaiah_Thomas￨FG_PCT￨AWAY 3￨Isaiah_Thomas￨FG3M￨AWAY 13￨Isaiah_Thomas￨FG3A￨AWAY 23￨Isaiah_Thomas￨FG3_PCT￨AWAY 6￨Isaiah_Thomas￨FTM￨AWAY 8￨Isaiah_Thomas￨FTA￨AWAY 75￨Isaiah_Thomas￨FT_PCT￨AWAY 0￨Isaiah_Thomas￨OREB￨AWAY 3￨Isaiah_Thomas￨DREB￨AWAY 3￨Isaiah_Thomas￨REB￨AWAY 3￨Isaiah_Thomas￨AST￨AWAY 2￨Isaiah_Thomas￨TO￨AWAY 0￨Isaiah_Thomas￨STL￨AWAY 0￨Isaiah_Thomas￨BLK￨AWAY 3￨Isaiah_Thomas￨PF￨AWAY Isaiah￨Isaiah_Thomas￨FIRST_NAME￨AWAY Thomas￨Isaiah_Thomas￨SECOND_NAME￨AWAY N/A￨Jonas_Jerebko￨START_POSITION￨AWAY 13￨Jonas_Jerebko￨MIN￨AWAY 2￨Jonas_Jerebko￨PTS￨AWAY 1￨Jonas_Jerebko￨FGM￨AWAY 5￨Jonas_Jerebko￨FGA￨AWAY 20￨Jonas_Jerebko￨FG_PCT￨AWAY 0￨Jonas_Jerebko￨FG3M￨AWAY 3￨Jonas_Jerebko￨FG3A￨AWAY 0￨Jonas_Jerebko￨FG3_PCT￨AWAY 0￨Jonas_Jerebko￨FTM￨AWAY 0￨Jonas_Jerebko￨FTA￨AWAY 0￨Jonas_Jerebko￨FT_PCT￨AWAY 1￨Jonas_Jerebko￨OREB￨AWAY 1￨Jonas_Jerebko￨DREB￨AWAY 2￨Jonas_Jerebko￨REB￨AWAY 0￨Jonas_Jerebko￨AST￨AWAY 0￨Jonas_Jerebko￨TO￨AWAY 1￨Jonas_Jerebko￨STL￨AWAY 0￨Jonas_Jerebko￨BLK￨AWAY 3￨Jonas_Jerebko￨PF￨AWAY Jonas￨Jonas_Jerebko￨FIRST_NAME￨AWAY Jerebko￨Jonas_Jerebko￨SECOND_NAME￨AWAY N/A￨Marcus_Smart￨START_POSITION￨AWAY 28￨Marcus_Smart￨MIN￨AWAY 15￨Marcus_Smart￨PTS￨AWAY 5￨Marcus_Smart￨FGM￨AWAY 9￨Marcus_Smart￨FGA￨AWAY 56￨Marcus_Smart￨FG_PCT￨AWAY 2￨Marcus_Smart￨FG3M￨AWAY 4￨Marcus_Smart￨FG3A￨AWAY 50￨Marcus_Smart￨FG3_PCT￨AWAY 3￨Marcus_Smart￨FTM￨AWAY 4￨Marcus_Smart￨FTA￨AWAY 75￨Marcus_Smart￨FT_PCT￨AWAY 1￨Marcus_Smart￨OREB￨AWAY 1￨Marcus_Smart￨DREB￨AWAY 2￨Marcus_Smart￨REB￨AWAY 7￨Marcus_Smart￨AST￨AWAY 1￨Marcus_Smart￨TO￨AWAY 1￨Marcus_Smart￨STL￨AWAY 0￨Marcus_Smart￨BLK￨AWAY 2￨Marcus_Smart￨PF￨AWAY Marcus￨Marcus_Smart￨FIRST_NAME￨AWAY Smart￨Marcus_Smart￨SECOND_NAME￨AWAY N/A￨Jaylen_Brown￨START_POSITION￨AWAY 6￨Jaylen_Brown￨MIN￨AWAY 0￨Jaylen_Brown￨PTS￨AWAY 0￨Jaylen_Brown￨FGM￨AWAY 1￨Jaylen_Brown￨FGA￨AWAY 0￨Jaylen_Brown￨FG_PCT￨AWAY 0￨Jaylen_Brown￨FG3M￨AWAY 0￨Jaylen_Brown￨FG3A￨AWAY 0￨Jaylen_Brown￨FG3_PCT￨AWAY 0￨Jaylen_Brown￨FTM￨AWAY 0￨Jaylen_Brown￨FTA￨AWAY 0￨Jaylen_Brown￨FT_PCT￨AWAY 0￨Jaylen_Brown￨OREB￨AWAY 2￨Jaylen_Brown￨DREB￨AWAY 2￨Jaylen_Brown￨REB￨AWAY 0￨Jaylen_Brown￨AST￨AWAY 0￨Jaylen_Brown￨TO￨AWAY 0￨Jaylen_Brown￨STL￨AWAY 0￨Jaylen_Brown￨BLK￨AWAY 0￨Jaylen_Brown￨PF￨AWAY Jaylen￨Jaylen_Brown￨FIRST_NAME￨AWAY Brown￨Jaylen_Brown￨SECOND_NAME￨AWAY N/A￨Kelly_Olynyk￨START_POSITION￨AWAY 23￨Kelly_Olynyk￨MIN￨AWAY 16￨Kelly_Olynyk￨PTS￨AWAY 7￨Kelly_Olynyk￨FGM￨AWAY 9￨Kelly_Olynyk￨FGA￨AWAY 78￨Kelly_Olynyk￨FG_PCT￨AWAY 2￨Kelly_Olynyk￨FG3M￨AWAY 3￨Kelly_Olynyk￨FG3A￨AWAY 67￨Kelly_Olynyk￨FG3_PCT￨AWAY 0￨Kelly_Olynyk￨FTM￨AWAY 0￨Kelly_Olynyk￨FTA￨AWAY 0￨Kelly_Olynyk￨FT_PCT￨AWAY 0￨Kelly_Olynyk￨OREB￨AWAY 2￨Kelly_Olynyk￨DREB￨AWAY 2￨Kelly_Olynyk￨REB￨AWAY 2￨Kelly_Olynyk￨AST￨AWAY 1￨Kelly_Olynyk￨TO￨AWAY 0￨Kelly_Olynyk￨STL￨AWAY 0￨Kelly_Olynyk￨BLK￨AWAY 3￨Kelly_Olynyk￨PF￨AWAY Kelly￨Kelly_Olynyk￨FIRST_NAME￨AWAY Olynyk￨Kelly_Olynyk￨SECOND_NAME￨AWAY N/A￨Gerald_Green￨START_POSITION￨AWAY 12￨Gerald_Green￨MIN￨AWAY 8￨Gerald_Green￨PTS￨AWAY 3￨Gerald_Green￨FGM￨AWAY 6￨Gerald_Green￨FGA￨AWAY 50￨Gerald_Green￨FG_PCT￨AWAY 2￨Gerald_Green￨FG3M￨AWAY 3￨Gerald_Green￨FG3A￨AWAY 67￨Gerald_Green￨FG3_PCT￨AWAY 0￨Gerald_Green￨FTM￨AWAY 0￨Gerald_Green￨FTA￨AWAY 0￨Gerald_Green￨FT_PCT￨AWAY 1￨Gerald_Green￨OREB￨AWAY 2￨Gerald_Green￨DREB￨AWAY 3￨Gerald_Green￨REB￨AWAY 1￨Gerald_Green￨AST￨AWAY 0￨Gerald_Green￨TO￨AWAY 1￨Gerald_Green￨STL￨AWAY 1￨Gerald_Green￨BLK￨AWAY 0￨Gerald_Green￨PF￨AWAY Gerald￨Gerald_Green￨FIRST_NAME￨AWAY Green￨Gerald_Green￨SECOND_NAME￨AWAY N/A￨Terry_Rozier￨START_POSITION￨AWAY N/A￨Terry_Rozier￨MIN￨AWAY N/A￨Terry_Rozier￨PTS￨AWAY N/A￨Terry_Rozier￨FGM￨AWAY N/A￨Terry_Rozier￨FGA￨AWAY N/A￨Terry_Rozier￨FG_PCT￨AWAY N/A￨Terry_Rozier￨FG3M￨AWAY N/A￨Terry_Rozier￨FG3A￨AWAY N/A￨Terry_Rozier￨FG3_PCT￨AWAY N/A￨Terry_Rozier￨FTM￨AWAY N/A￨Terry_Rozier￨FTA￨AWAY N/A￨Terry_Rozier￨FT_PCT￨AWAY N/A￨Terry_Rozier￨OREB￨AWAY N/A￨Terry_Rozier￨DREB￨AWAY N/A￨Terry_Rozier￨REB￨AWAY N/A￨Terry_Rozier￨AST￨AWAY N/A￨Terry_Rozier￨TO￨AWAY N/A￨Terry_Rozier￨STL￨AWAY N/A￨Terry_Rozier￨BLK￨AWAY N/A￨Terry_Rozier￨PF￨AWAY Terry￨Terry_Rozier￨FIRST_NAME￨AWAY Rozier￨Terry_Rozier￨SECOND_NAME￨AWAY N/A￨James_Young￨START_POSITION￨AWAY N/A￨James_Young￨MIN￨AWAY N/A￨James_Young￨PTS￨AWAY N/A￨James_Young￨FGM￨AWAY N/A￨James_Young￨FGA￨AWAY N/A￨James_Young￨FG_PCT￨AWAY N/A￨James_Young￨FG3M￨AWAY N/A￨James_Young￨FG3A￨AWAY N/A￨James_Young￨FG3_PCT￨AWAY N/A￨James_Young￨FTM￨AWAY N/A￨James_Young￨FTA￨AWAY N/A￨James_Young￨FT_PCT￨AWAY N/A￨James_Young￨OREB￨AWAY N/A￨James_Young￨DREB￨AWAY N/A￨James_Young￨REB￨AWAY N/A￨James_Young￨AST￨AWAY N/A￨James_Young￨TO￨AWAY N/A￨James_Young￨STL￨AWAY N/A￨James_Young￨BLK￨AWAY N/A￨James_Young￨PF￨AWAY James￨James_Young￨FIRST_NAME￨AWAY Young￨James_Young￨SECOND_NAME￨AWAY N/A￨Tyler_Zeller￨START_POSITION￨AWAY N/A￨Tyler_Zeller￨MIN￨AWAY N/A￨Tyler_Zeller￨PTS￨AWAY N/A￨Tyler_Zeller￨FGM￨AWAY N/A￨Tyler_Zeller￨FGA￨AWAY N/A￨Tyler_Zeller￨FG_PCT￨AWAY N/A￨Tyler_Zeller￨FG3M￨AWAY N/A￨Tyler_Zeller￨FG3A￨AWAY N/A￨Tyler_Zeller￨FG3_PCT￨AWAY N/A￨Tyler_Zeller￨FTM￨AWAY N/A￨Tyler_Zeller￨FTA￨AWAY N/A￨Tyler_Zeller￨FT_PCT￨AWAY N/A￨Tyler_Zeller￨OREB￨AWAY N/A￨Tyler_Zeller￨DREB￨AWAY N/A￨Tyler_Zeller￨REB￨AWAY N/A￨Tyler_Zeller￨AST￨AWAY N/A￨Tyler_Zeller￨TO￨AWAY N/A￨Tyler_Zeller￨STL￨AWAY N/A￨Tyler_Zeller￨BLK￨AWAY N/A￨Tyler_Zeller￨PF￨AWAY Tyler￨Tyler_Zeller￨FIRST_NAME￨AWAY Zeller￨Tyler_Zeller￨SECOND_NAME￨AWAY 28￨Knicks￨TEAM-PTS_QTR1￨HOME 20￨Knicks￨TEAM-PTS_QTR2￨HOME 34￨Knicks￨TEAM-PTS_QTR3￨HOME 32￨Knicks￨TEAM-PTS_QTR4￨HOME 114￨Knicks￨TEAM-PTS￨HOME 47￨Knicks￨TEAM-FG_PCT￨HOME 35￨Knicks￨TEAM-FG3_PCT￨HOME 89￨Knicks￨TEAM-FT_PCT￨HOME 49￨Knicks￨TEAM-REB￨HOME 11￨Knicks￨TEAM-AST￨HOME 17￨Knicks￨TEAM-TOV￨HOME 16￨Knicks￨TEAM-WINS￨HOME 14￨Knicks￨TEAM-LOSSES￨HOME New_York￨Knicks￨TEAM-CITY￨HOME Knicks￨Knicks￨TEAM-NAME￨HOME 22￨Celtics￨TEAM-PTS_QTR1￨AWAY 34￨Celtics￨TEAM-PTS_QTR2￨AWAY 32￨Celtics￨TEAM-PTS_QTR3￨AWAY 31￨Celtics￨TEAM-PTS_QTR4￨AWAY 119￨Celtics￨TEAM-PTS￨AWAY 48￨Celtics￨TEAM-FG_PCT￨AWAY 39￨Celtics￨TEAM-FG3_PCT￨AWAY 75￨Celtics￨TEAM-FT_PCT￨AWAY 39￨Celtics￨TEAM-REB￨AWAY 25￨Celtics￨TEAM-AST￨AWAY 5￨Celtics￨TEAM-TOV￨AWAY 18￨Celtics￨TEAM-WINS￨AWAY 13￨Celtics￨TEAM-LOSSES￨AWAY Boston￨Celtics￨TEAM-CITY￨AWAY Celtics￨Celtics￨TEAM-NAME￨AWAY\\n\""
      ]
     },
     "execution_count": 45,
     "metadata": {},
     "output_type": "execute_result"
    }
   ],
   "source": [
    "drive_inf_src_train[0]"
   ]
  },
  {
   "cell_type": "code",
   "execution_count": 51,
   "metadata": {},
   "outputs": [],
   "source": [
    "for index in range(len(drive_inf_src_train[0])):\n",
    "    if drive_inf_src_train[0][index] != drive_src_train[0][index]:\n",
    "        print(\"Inf_src_train:\", drive_inf_src_train[index])\n",
    "        print(\"Src_train:\", drive_src_train[index])"
   ]
  },
  {
   "cell_type": "markdown",
   "metadata": {},
   "source": [
    "### 2) How files in *rotowire/test* look like\n",
    "\n"
   ]
  },
  {
   "cell_type": "code",
   "execution_count": 74,
   "metadata": {},
   "outputs": [],
   "source": [
    "with open('drive_rotowire/test/src_test.txt') as reader:\n",
    "    # This reads the remaining lines from the file object and returns them as a list.\n",
    "    drive_src_test = reader.readlines()"
   ]
  },
  {
   "cell_type": "code",
   "execution_count": 75,
   "metadata": {},
   "outputs": [],
   "source": [
    "with open('drive_rotowire/test/tgt_test.txt') as reader:\n",
    "    # This reads the remaining lines from the file object and returns them as a list.\n",
    "    drive_tgt_test = reader.readlines()"
   ]
  },
  {
   "cell_type": "code",
   "execution_count": 76,
   "metadata": {},
   "outputs": [
    {
     "data": {
      "text/plain": [
       "728"
      ]
     },
     "execution_count": 76,
     "metadata": {},
     "output_type": "execute_result"
    }
   ],
   "source": [
    "len(drive_src_test)"
   ]
  },
  {
   "cell_type": "code",
   "execution_count": 77,
   "metadata": {},
   "outputs": [
    {
     "data": {
      "text/plain": [
       "728"
      ]
     },
     "execution_count": 77,
     "metadata": {},
     "output_type": "execute_result"
    }
   ],
   "source": [
    "len(drive_tgt_test)"
   ]
  },
  {
   "cell_type": "code",
   "execution_count": 78,
   "metadata": {},
   "outputs": [
    {
     "data": {
      "text/plain": [
       "\"<unk>￨<blank>￨<blank>￨<blank> <blank>￨<blank>￨<blank>￨<blank> <s>￨<blank>￨<blank>￨<blank> </s>￨<blank>￨<blank>￨<blank> F￨DeMarre_Carroll￨START_POSITION￨HOME 31￨DeMarre_Carroll￨MIN￨HOME 15￨DeMarre_Carroll￨PTS￨HOME 6￨DeMarre_Carroll￨FGM￨HOME 12￨DeMarre_Carroll￨FGA￨HOME 50￨DeMarre_Carroll￨FG_PCT￨HOME 3￨DeMarre_Carroll￨FG3M￨HOME 6￨DeMarre_Carroll￨FG3A￨HOME 50￨DeMarre_Carroll￨FG3_PCT￨HOME 0￨DeMarre_Carroll￨FTM￨HOME 0￨DeMarre_Carroll￨FTA￨HOME 0￨DeMarre_Carroll￨FT_PCT￨HOME 2￨DeMarre_Carroll￨OREB￨HOME 6￨DeMarre_Carroll￨DREB￨HOME 8￨DeMarre_Carroll￨REB￨HOME 2￨DeMarre_Carroll￨AST￨HOME 2￨DeMarre_Carroll￨TO￨HOME 3￨DeMarre_Carroll￨STL￨HOME 0￨DeMarre_Carroll￨BLK￨HOME 0￨DeMarre_Carroll￨PF￨HOME DeMarre￨DeMarre_Carroll￨FIRST_NAME￨HOME Carroll￨DeMarre_Carroll￨SECOND_NAME￨HOME F￨Paul_Millsap￨START_POSITION￨HOME 35￨Paul_Millsap￨MIN￨HOME 20￨Paul_Millsap￨PTS￨HOME 8￨Paul_Millsap￨FGM￨HOME 17￨Paul_Millsap￨FGA￨HOME 47￨Paul_Millsap￨FG_PCT￨HOME 4￨Paul_Millsap￨FG3M￨HOME 7￨Paul_Millsap￨FG3A￨HOME 57￨Paul_Millsap￨FG3_PCT￨HOME 0￨Paul_Millsap￨FTM￨HOME 2￨Paul_Millsap￨FTA￨HOME 0￨Paul_Millsap￨FT_PCT￨HOME 1￨Paul_Millsap￨OREB￨HOME 3￨Paul_Millsap￨DREB￨HOME 4￨Paul_Millsap￨REB￨HOME 3￨Paul_Millsap￨AST￨HOME 2￨Paul_Millsap￨TO￨HOME 1￨Paul_Millsap￨STL￨HOME 1￨Paul_Millsap￨BLK￨HOME 4￨Paul_Millsap￨PF￨HOME Paul￨Paul_Millsap￨FIRST_NAME￨HOME Millsap￨Paul_Millsap￨SECOND_NAME￨HOME C￨Al_Horford￨START_POSITION￨HOME 31￨Al_Horford￨MIN￨HOME 17￨Al_Horford￨PTS￨HOME 7￨Al_Horford￨FGM￨HOME 9￨Al_Horford￨FGA￨HOME 78￨Al_Horford￨FG_PCT￨HOME 0￨Al_Horford￨FG3M￨HOME 0￨Al_Horford￨FG3A￨HOME 0￨Al_Horford￨FG3_PCT￨HOME 3￨Al_Horford￨FTM￨HOME 4￨Al_Horford￨FTA￨HOME 75￨Al_Horford￨FT_PCT￨HOME 5￨Al_Horford￨OREB￨HOME 8￨Al_Horford￨DREB￨HOME 13￨Al_Horford￨REB￨HOME 4￨Al_Horford￨AST￨HOME 1￨Al_Horford￨TO￨HOME 2￨Al_Horford￨STL￨HOME 0￨Al_Horford￨BLK￨HOME 1￨Al_Horford￨PF￨HOME Al￨Al_Horford￨FIRST_NAME￨HOME Horford￨Al_Horford￨SECOND_NAME￨HOME G￨Kyle_Korver￨START_POSITION￨HOME 35￨Kyle_Korver￨MIN￨HOME 8￨Kyle_Korver￨PTS￨HOME 2￨Kyle_Korver￨FGM￨HOME 5￨Kyle_Korver￨FGA￨HOME 40￨Kyle_Korver￨FG_PCT￨HOME 2￨Kyle_Korver￨FG3M￨HOME 5￨Kyle_Korver￨FG3A￨HOME 40￨Kyle_Korver￨FG3_PCT￨HOME 2￨Kyle_Korver￨FTM￨HOME 2￨Kyle_Korver￨FTA￨HOME 100￨Kyle_Korver￨FT_PCT￨HOME 0￨Kyle_Korver￨OREB￨HOME 3￨Kyle_Korver￨DREB￨HOME 3￨Kyle_Korver￨REB￨HOME 2￨Kyle_Korver￨AST￨HOME 1￨Kyle_Korver￨TO￨HOME 1￨Kyle_Korver￨STL￨HOME 2￨Kyle_Korver￨BLK￨HOME 1￨Kyle_Korver￨PF￨HOME Kyle￨Kyle_Korver￨FIRST_NAME￨HOME Korver￨Kyle_Korver￨SECOND_NAME￨HOME G￨Jeff_Teague￨START_POSITION￨HOME 33￨Jeff_Teague￨MIN￨HOME 17￨Jeff_Teague￨PTS￨HOME 6￨Jeff_Teague￨FGM￨HOME 15￨Jeff_Teague￨FGA￨HOME 40￨Jeff_Teague￨FG_PCT￨HOME 1￨Jeff_Teague￨FG3M￨HOME 4￨Jeff_Teague￨FG3A￨HOME 25￨Jeff_Teague￨FG3_PCT￨HOME 4￨Jeff_Teague￨FTM￨HOME 4￨Jeff_Teague￨FTA￨HOME 100￨Jeff_Teague￨FT_PCT￨HOME 0￨Jeff_Teague￨OREB￨HOME 0￨Jeff_Teague￨DREB￨HOME 0￨Jeff_Teague￨REB￨HOME 7￨Jeff_Teague￨AST￨HOME 3￨Jeff_Teague￨TO￨HOME 2￨Jeff_Teague￨STL￨HOME 0￨Jeff_Teague￨BLK￨HOME 1￨Jeff_Teague￨PF￨HOME Jeff￨Jeff_Teague￨FIRST_NAME￨HOME Teague￨Jeff_Teague￨SECOND_NAME￨HOME N/A￨Pero_Antic￨START_POSITION￨HOME 14￨Pero_Antic￨MIN￨HOME 3￨Pero_Antic￨PTS￨HOME 1￨Pero_Antic￨FGM￨HOME 3￨Pero_Antic￨FGA￨HOME 33￨Pero_Antic￨FG_PCT￨HOME 1￨Pero_Antic￨FG3M￨HOME 1￨Pero_Antic￨FG3A￨HOME 100￨Pero_Antic￨FG3_PCT￨HOME 0￨Pero_Antic￨FTM￨HOME 0￨Pero_Antic￨FTA￨HOME 0￨Pero_Antic￨FT_PCT￨HOME 2￨Pero_Antic￨OREB￨HOME 3￨Pero_Antic￨DREB￨HOME 5￨Pero_Antic￨REB￨HOME 2￨Pero_Antic￨AST￨HOME 0￨Pero_Antic￨TO￨HOME 0￨Pero_Antic￨STL￨HOME 0￨Pero_Antic￨BLK￨HOME 1￨Pero_Antic￨PF￨HOME Pero￨Pero_Antic￨FIRST_NAME￨HOME Antic￨Pero_Antic￨SECOND_NAME￨HOME N/A￨Kent_Bazemore￨START_POSITION￨HOME 24￨Kent_Bazemore￨MIN￨HOME 7￨Kent_Bazemore￨PTS￨HOME 3￨Kent_Bazemore￨FGM￨HOME 5￨Kent_Bazemore￨FGA￨HOME 60￨Kent_Bazemore￨FG_PCT￨HOME 1￨Kent_Bazemore￨FG3M￨HOME 2￨Kent_Bazemore￨FG3A￨HOME 50￨Kent_Bazemore￨FG3_PCT￨HOME 0￨Kent_Bazemore￨FTM￨HOME 0￨Kent_Bazemore￨FTA￨HOME 0￨Kent_Bazemore￨FT_PCT￨HOME 0￨Kent_Bazemore￨OREB￨HOME 1￨Kent_Bazemore￨DREB￨HOME 1￨Kent_Bazemore￨REB￨HOME 2￨Kent_Bazemore￨AST￨HOME 3￨Kent_Bazemore￨TO￨HOME 2￨Kent_Bazemore￨STL￨HOME 2￨Kent_Bazemore￨BLK￨HOME 2￨Kent_Bazemore￨PF￨HOME Kent￨Kent_Bazemore￨FIRST_NAME￨HOME Bazemore￨Kent_Bazemore￨SECOND_NAME￨HOME N/A￨Dennis_Schroder￨START_POSITION￨HOME 14￨Dennis_Schroder￨MIN￨HOME 3￨Dennis_Schroder￨PTS￨HOME 1￨Dennis_Schroder￨FGM￨HOME 8￨Dennis_Schroder￨FGA￨HOME 13￨Dennis_Schroder￨FG_PCT￨HOME 1￨Dennis_Schroder￨FG3M￨HOME 2￨Dennis_Schroder￨FG3A￨HOME 50￨Dennis_Schroder￨FG3_PCT￨HOME 0￨Dennis_Schroder￨FTM￨HOME 0￨Dennis_Schroder￨FTA￨HOME 0￨Dennis_Schroder￨FT_PCT￨HOME 0￨Dennis_Schroder￨OREB￨HOME 2￨Dennis_Schroder￨DREB￨HOME 2￨Dennis_Schroder￨REB￨HOME 3￨Dennis_Schroder￨AST￨HOME 4￨Dennis_Schroder￨TO￨HOME 0￨Dennis_Schroder￨STL￨HOME 0￨Dennis_Schroder￨BLK￨HOME 2￨Dennis_Schroder￨PF￨HOME Dennis￨Dennis_Schroder￨FIRST_NAME￨HOME Schroder￨Dennis_Schroder￨SECOND_NAME￨HOME N/A￨Shelvin_Mack￨START_POSITION￨HOME 7￨Shelvin_Mack￨MIN￨HOME 3￨Shelvin_Mack￨PTS￨HOME 1￨Shelvin_Mack￨FGM￨HOME 2￨Shelvin_Mack￨FGA￨HOME 50￨Shelvin_Mack￨FG_PCT￨HOME 1￨Shelvin_Mack￨FG3M￨HOME 2￨Shelvin_Mack￨FG3A￨HOME 50￨Shelvin_Mack￨FG3_PCT￨HOME 0￨Shelvin_Mack￨FTM￨HOME 0￨Shelvin_Mack￨FTA￨HOME 0￨Shelvin_Mack￨FT_PCT￨HOME 0￨Shelvin_Mack￨OREB￨HOME 0￨Shelvin_Mack￨DREB￨HOME 0￨Shelvin_Mack￨REB￨HOME 1￨Shelvin_Mack￨AST￨HOME 0￨Shelvin_Mack￨TO￨HOME 0￨Shelvin_Mack￨STL￨HOME 0￨Shelvin_Mack￨BLK￨HOME 0￨Shelvin_Mack￨PF￨HOME Shelvin￨Shelvin_Mack￨FIRST_NAME￨HOME Mack￨Shelvin_Mack￨SECOND_NAME￨HOME N/A￨Mike_Scott￨START_POSITION￨HOME 17￨Mike_Scott￨MIN￨HOME 2￨Mike_Scott￨PTS￨HOME 1￨Mike_Scott￨FGM￨HOME 5￨Mike_Scott￨FGA￨HOME 20￨Mike_Scott￨FG_PCT￨HOME 0￨Mike_Scott￨FG3M￨HOME 2￨Mike_Scott￨FG3A￨HOME 0￨Mike_Scott￨FG3_PCT￨HOME 0￨Mike_Scott￨FTM￨HOME 0￨Mike_Scott￨FTA￨HOME 0￨Mike_Scott￨FT_PCT￨HOME 1￨Mike_Scott￨OREB￨HOME 5￨Mike_Scott￨DREB￨HOME 6￨Mike_Scott￨REB￨HOME 1￨Mike_Scott￨AST￨HOME 2￨Mike_Scott￨TO￨HOME 0￨Mike_Scott￨STL￨HOME 0￨Mike_Scott￨BLK￨HOME 0￨Mike_Scott￨PF￨HOME Mike￨Mike_Scott￨FIRST_NAME￨HOME Scott￨Mike_Scott￨SECOND_NAME￨HOME N/A￨Elton_Brand￨START_POSITION￨HOME N/A￨Elton_Brand￨MIN￨HOME N/A￨Elton_Brand￨PTS￨HOME N/A￨Elton_Brand￨FGM￨HOME N/A￨Elton_Brand￨FGA￨HOME N/A￨Elton_Brand￨FG_PCT￨HOME N/A￨Elton_Brand￨FG3M￨HOME N/A￨Elton_Brand￨FG3A￨HOME N/A￨Elton_Brand￨FG3_PCT￨HOME N/A￨Elton_Brand￨FTM￨HOME N/A￨Elton_Brand￨FTA￨HOME N/A￨Elton_Brand￨FT_PCT￨HOME N/A￨Elton_Brand￨OREB￨HOME N/A￨Elton_Brand￨DREB￨HOME N/A￨Elton_Brand￨REB￨HOME N/A￨Elton_Brand￨AST￨HOME N/A￨Elton_Brand￨TO￨HOME N/A￨Elton_Brand￨STL￨HOME N/A￨Elton_Brand￨BLK￨HOME N/A￨Elton_Brand￨PF￨HOME Elton￨Elton_Brand￨FIRST_NAME￨HOME Brand￨Elton_Brand￨SECOND_NAME￨HOME N/A￨John_Jenkins￨START_POSITION￨HOME N/A￨John_Jenkins￨MIN￨HOME N/A￨John_Jenkins￨PTS￨HOME N/A￨John_Jenkins￨FGM￨HOME N/A￨John_Jenkins￨FGA￨HOME N/A￨John_Jenkins￨FG_PCT￨HOME N/A￨John_Jenkins￨FG3M￨HOME N/A￨John_Jenkins￨FG3A￨HOME N/A￨John_Jenkins￨FG3_PCT￨HOME N/A￨John_Jenkins￨FTM￨HOME N/A￨John_Jenkins￨FTA￨HOME N/A￨John_Jenkins￨FT_PCT￨HOME N/A￨John_Jenkins￨OREB￨HOME N/A￨John_Jenkins￨DREB￨HOME N/A￨John_Jenkins￨REB￨HOME N/A￨John_Jenkins￨AST￨HOME N/A￨John_Jenkins￨TO￨HOME N/A￨John_Jenkins￨STL￨HOME N/A￨John_Jenkins￨BLK￨HOME N/A￨John_Jenkins￨PF￨HOME John￨John_Jenkins￨FIRST_NAME￨HOME Jenkins￨John_Jenkins￨SECOND_NAME￨HOME N/A￨Mike_Muscala￨START_POSITION￨HOME N/A￨Mike_Muscala￨MIN￨HOME N/A￨Mike_Muscala￨PTS￨HOME N/A￨Mike_Muscala￨FGM￨HOME N/A￨Mike_Muscala￨FGA￨HOME N/A￨Mike_Muscala￨FG_PCT￨HOME N/A￨Mike_Muscala￨FG3M￨HOME N/A￨Mike_Muscala￨FG3A￨HOME N/A￨Mike_Muscala￨FG3_PCT￨HOME N/A￨Mike_Muscala￨FTM￨HOME N/A￨Mike_Muscala￨FTA￨HOME N/A￨Mike_Muscala￨FT_PCT￨HOME N/A￨Mike_Muscala￨OREB￨HOME N/A￨Mike_Muscala￨DREB￨HOME N/A￨Mike_Muscala￨REB￨HOME N/A￨Mike_Muscala￨AST￨HOME N/A￨Mike_Muscala￨TO￨HOME N/A￨Mike_Muscala￨STL￨HOME N/A￨Mike_Muscala￨BLK￨HOME N/A￨Mike_Muscala￨PF￨HOME Mike￨Mike_Muscala￨FIRST_NAME￨HOME Muscala￨Mike_Muscala￨SECOND_NAME￨HOME F￨Tobias_Harris￨START_POSITION￨AWAY 37￨Tobias_Harris￨MIN￨AWAY 15￨Tobias_Harris￨PTS￨AWAY 5￨Tobias_Harris￨FGM￨AWAY 9￨Tobias_Harris￨FGA￨AWAY 56￨Tobias_Harris￨FG_PCT￨AWAY 2￨Tobias_Harris￨FG3M￨AWAY 4￨Tobias_Harris￨FG3A￨AWAY 50￨Tobias_Harris￨FG3_PCT￨AWAY 3￨Tobias_Harris￨FTM￨AWAY 4￨Tobias_Harris￨FTA￨AWAY 75￨Tobias_Harris￨FT_PCT￨AWAY 0￨Tobias_Harris￨OREB￨AWAY 4￨Tobias_Harris￨DREB￨AWAY 4￨Tobias_Harris￨REB￨AWAY 1￨Tobias_Harris￨AST￨AWAY 2￨Tobias_Harris￨TO￨AWAY 2￨Tobias_Harris￨STL￨AWAY 1￨Tobias_Harris￨BLK￨AWAY 0￨Tobias_Harris￨PF￨AWAY Tobias￨Tobias_Harris￨FIRST_NAME￨AWAY Harris￨Tobias_Harris￨SECOND_NAME￨AWAY F￨Channing_Frye￨START_POSITION￨AWAY 24￨Channing_Frye￨MIN￨AWAY 10￨Channing_Frye￨PTS￨AWAY 3￨Channing_Frye￨FGM￨AWAY 10￨Channing_Frye￨FGA￨AWAY 30￨Channing_Frye￨FG_PCT￨AWAY 3￨Channing_Frye￨FG3M￨AWAY 8￨Channing_Frye￨FG3A￨AWAY 38￨Channing_Frye￨FG3_PCT￨AWAY 1￨Channing_Frye￨FTM￨AWAY 1￨Channing_Frye￨FTA￨AWAY 100￨Channing_Frye￨FT_PCT￨AWAY 1￨Channing_Frye￨OREB￨AWAY 2￨Channing_Frye￨DREB￨AWAY 3￨Channing_Frye￨REB￨AWAY 3￨Channing_Frye￨AST￨AWAY 4￨Channing_Frye￨TO￨AWAY 1￨Channing_Frye￨STL￨AWAY 2￨Channing_Frye￨BLK￨AWAY 6￨Channing_Frye￨PF￨AWAY Channing￨Channing_Frye￨FIRST_NAME￨AWAY Frye￨Channing_Frye￨SECOND_NAME￨AWAY C￨Nikola_Vucevic￨START_POSITION￨AWAY 37￨Nikola_Vucevic￨MIN￨AWAY 21￨Nikola_Vucevic￨PTS￨AWAY 10￨Nikola_Vucevic￨FGM￨AWAY 16￨Nikola_Vucevic￨FGA￨AWAY 63￨Nikola_Vucevic￨FG_PCT￨AWAY 0￨Nikola_Vucevic￨FG3M￨AWAY 0￨Nikola_Vucevic￨FG3A￨AWAY 0￨Nikola_Vucevic￨FG3_PCT￨AWAY 1￨Nikola_Vucevic￨FTM￨AWAY 2￨Nikola_Vucevic￨FTA￨AWAY 50￨Nikola_Vucevic￨FT_PCT￨AWAY 5￨Nikola_Vucevic￨OREB￨AWAY 10￨Nikola_Vucevic￨DREB￨AWAY 15￨Nikola_Vucevic￨REB￨AWAY 3￨Nikola_Vucevic￨AST￨AWAY 4￨Nikola_Vucevic￨TO￨AWAY 1￨Nikola_Vucevic￨STL￨AWAY 1￨Nikola_Vucevic￨BLK￨AWAY 4￨Nikola_Vucevic￨PF￨AWAY Nikola￨Nikola_Vucevic￨FIRST_NAME￨AWAY Vucevic￨Nikola_Vucevic￨SECOND_NAME￨AWAY G￨Victor_Oladipo￨START_POSITION￨AWAY 35￨Victor_Oladipo￨MIN￨AWAY 19￨Victor_Oladipo￨PTS￨AWAY 8￨Victor_Oladipo￨FGM￨AWAY 18￨Victor_Oladipo￨FGA￨AWAY 44￨Victor_Oladipo￨FG_PCT￨AWAY 2￨Victor_Oladipo￨FG3M￨AWAY 5￨Victor_Oladipo￨FG3A￨AWAY 40￨Victor_Oladipo￨FG3_PCT￨AWAY 1￨Victor_Oladipo￨FTM￨AWAY 2￨Victor_Oladipo￨FTA￨AWAY 50￨Victor_Oladipo￨FT_PCT￨AWAY 0￨Victor_Oladipo￨OREB￨AWAY 3￨Victor_Oladipo￨DREB￨AWAY 3￨Victor_Oladipo￨REB￨AWAY 6￨Victor_Oladipo￨AST￨AWAY 2￨Victor_Oladipo￨TO￨AWAY 0￨Victor_Oladipo￨STL￨AWAY 0￨Victor_Oladipo￨BLK￨AWAY 1￨Victor_Oladipo￨PF￨AWAY Victor￨Victor_Oladipo￨FIRST_NAME￨AWAY Oladipo￨Victor_Oladipo￨SECOND_NAME￨AWAY G￨Elfrid_Payton￨START_POSITION￨AWAY 26￨Elfrid_Payton￨MIN￨AWAY 4￨Elfrid_Payton￨PTS￨AWAY 2￨Elfrid_Payton￨FGM￨AWAY 8￨Elfrid_Payton￨FGA￨AWAY 25￨Elfrid_Payton￨FG_PCT￨AWAY 0￨Elfrid_Payton￨FG3M￨AWAY 0￨Elfrid_Payton￨FG3A￨AWAY 0￨Elfrid_Payton￨FG3_PCT￨AWAY 0￨Elfrid_Payton￨FTM￨AWAY 0￨Elfrid_Payton￨FTA￨AWAY 0￨Elfrid_Payton￨FT_PCT￨AWAY 1￨Elfrid_Payton￨OREB￨AWAY 0￨Elfrid_Payton￨DREB￨AWAY 1￨Elfrid_Payton￨REB￨AWAY 5￨Elfrid_Payton￨AST￨AWAY 2￨Elfrid_Payton￨TO￨AWAY 2￨Elfrid_Payton￨STL￨AWAY 0￨Elfrid_Payton￨BLK￨AWAY 0￨Elfrid_Payton￨PF￨AWAY Elfrid￨Elfrid_Payton￨FIRST_NAME￨AWAY Payton￨Elfrid_Payton￨SECOND_NAME￨AWAY N/A￨Dewayne_Dedmon￨START_POSITION￨AWAY 11￨Dewayne_Dedmon￨MIN￨AWAY 4￨Dewayne_Dedmon￨PTS￨AWAY 2￨Dewayne_Dedmon￨FGM￨AWAY 2￨Dewayne_Dedmon￨FGA￨AWAY 100￨Dewayne_Dedmon￨FG_PCT￨AWAY 0￨Dewayne_Dedmon￨FG3M￨AWAY 0￨Dewayne_Dedmon￨FG3A￨AWAY 0￨Dewayne_Dedmon￨FG3_PCT￨AWAY 0￨Dewayne_Dedmon￨FTM￨AWAY 2￨Dewayne_Dedmon￨FTA￨AWAY 0￨Dewayne_Dedmon￨FT_PCT￨AWAY 1￨Dewayne_Dedmon￨OREB￨AWAY 2￨Dewayne_Dedmon￨DREB￨AWAY 3￨Dewayne_Dedmon￨REB￨AWAY 0￨Dewayne_Dedmon￨AST￨AWAY 1￨Dewayne_Dedmon￨TO￨AWAY 0￨Dewayne_Dedmon￨STL￨AWAY 1￨Dewayne_Dedmon￨BLK￨AWAY 1￨Dewayne_Dedmon￨PF￨AWAY Dewayne￨Dewayne_Dedmon￨FIRST_NAME￨AWAY Dedmon￨Dewayne_Dedmon￨SECOND_NAME￨AWAY N/A￨Willie_Green￨START_POSITION￨AWAY 28￨Willie_Green￨MIN￨AWAY 9￨Willie_Green￨PTS￨AWAY 3￨Willie_Green￨FGM￨AWAY 6￨Willie_Green￨FGA￨AWAY 50￨Willie_Green￨FG_PCT￨AWAY 2￨Willie_Green￨FG3M￨AWAY 3￨Willie_Green￨FG3A￨AWAY 67￨Willie_Green￨FG3_PCT￨AWAY 1￨Willie_Green￨FTM￨AWAY 2￨Willie_Green￨FTA￨AWAY 50￨Willie_Green￨FT_PCT￨AWAY 0￨Willie_Green￨OREB￨AWAY 2￨Willie_Green￨DREB￨AWAY 2￨Willie_Green￨REB￨AWAY 2￨Willie_Green￨AST￨AWAY 2￨Willie_Green￨TO￨AWAY 0￨Willie_Green￨STL￨AWAY 0￨Willie_Green￨BLK￨AWAY 1￨Willie_Green￨PF￨AWAY Willie￨Willie_Green￨FIRST_NAME￨AWAY Green￨Willie_Green￨SECOND_NAME￨AWAY N/A￨Andrew_Nicholson￨START_POSITION￨AWAY 10￨Andrew_Nicholson￨MIN￨AWAY 2￨Andrew_Nicholson￨PTS￨AWAY 1￨Andrew_Nicholson￨FGM￨AWAY 3￨Andrew_Nicholson￨FGA￨AWAY 33￨Andrew_Nicholson￨FG_PCT￨AWAY 0￨Andrew_Nicholson￨FG3M￨AWAY 2￨Andrew_Nicholson￨FG3A￨AWAY 0￨Andrew_Nicholson￨FG3_PCT￨AWAY 0￨Andrew_Nicholson￨FTM￨AWAY 0￨Andrew_Nicholson￨FTA￨AWAY 0￨Andrew_Nicholson￨FT_PCT￨AWAY 0￨Andrew_Nicholson￨OREB￨AWAY 4￨Andrew_Nicholson￨DREB￨AWAY 4￨Andrew_Nicholson￨REB￨AWAY 0￨Andrew_Nicholson￨AST￨AWAY 0￨Andrew_Nicholson￨TO￨AWAY 0￨Andrew_Nicholson￨STL￨AWAY 0￨Andrew_Nicholson￨BLK￨AWAY 2￨Andrew_Nicholson￨PF￨AWAY Andrew￨Andrew_Nicholson￨FIRST_NAME￨AWAY Nicholson￨Andrew_Nicholson￨SECOND_NAME￨AWAY N/A￨Kyle_O'Quinn￨START_POSITION￨AWAY 5￨Kyle_O'Quinn￨MIN￨AWAY 0￨Kyle_O'Quinn￨PTS￨AWAY 0￨Kyle_O'Quinn￨FGM￨AWAY 0￨Kyle_O'Quinn￨FGA￨AWAY 0￨Kyle_O'Quinn￨FG_PCT￨AWAY 0￨Kyle_O'Quinn￨FG3M￨AWAY 0￨Kyle_O'Quinn￨FG3A￨AWAY 0￨Kyle_O'Quinn￨FG3_PCT￨AWAY 0￨Kyle_O'Quinn￨FTM￨AWAY 0￨Kyle_O'Quinn￨FTA￨AWAY 0￨Kyle_O'Quinn￨FT_PCT￨AWAY 0￨Kyle_O'Quinn￨OREB￨AWAY 1￨Kyle_O'Quinn￨DREB￨AWAY 1￨Kyle_O'Quinn￨REB￨AWAY 0￨Kyle_O'Quinn￨AST￨AWAY 0￨Kyle_O'Quinn￨TO￨AWAY 0￨Kyle_O'Quinn￨STL￨AWAY 0￨Kyle_O'Quinn￨BLK￨AWAY 0￨Kyle_O'Quinn￨PF￨AWAY Kyle￨Kyle_O'Quinn￨FIRST_NAME￨AWAY O'Quinn￨Kyle_O'Quinn￨SECOND_NAME￨AWAY N/A￨Luke_Ridnour￨START_POSITION￨AWAY 13￨Luke_Ridnour￨MIN￨AWAY 2￨Luke_Ridnour￨PTS￨AWAY 1￨Luke_Ridnour￨FGM￨AWAY 3￨Luke_Ridnour￨FGA￨AWAY 33￨Luke_Ridnour￨FG_PCT￨AWAY 0￨Luke_Ridnour￨FG3M￨AWAY 2￨Luke_Ridnour￨FG3A￨AWAY 0￨Luke_Ridnour￨FG3_PCT￨AWAY 0￨Luke_Ridnour￨FTM￨AWAY 0￨Luke_Ridnour￨FTA￨AWAY 0￨Luke_Ridnour￨FT_PCT￨AWAY 0￨Luke_Ridnour￨OREB￨AWAY 1￨Luke_Ridnour￨DREB￨AWAY 1￨Luke_Ridnour￨REB￨AWAY 2￨Luke_Ridnour￨AST￨AWAY 0￨Luke_Ridnour￨TO￨AWAY 3￨Luke_Ridnour￨STL￨AWAY 1￨Luke_Ridnour￨BLK￨AWAY 2￨Luke_Ridnour￨PF￨AWAY Luke￨Luke_Ridnour￨FIRST_NAME￨AWAY Ridnour￨Luke_Ridnour￨SECOND_NAME￨AWAY N/A￨Maurice_Harkless￨START_POSITION￨AWAY 14￨Maurice_Harkless￨MIN￨AWAY 2￨Maurice_Harkless￨PTS￨AWAY 1￨Maurice_Harkless￨FGM￨AWAY 5￨Maurice_Harkless￨FGA￨AWAY 20￨Maurice_Harkless￨FG_PCT￨AWAY 0￨Maurice_Harkless￨FG3M￨AWAY 2￨Maurice_Harkless￨FG3A￨AWAY 0￨Maurice_Harkless￨FG3_PCT￨AWAY 0￨Maurice_Harkless￨FTM￨AWAY 0￨Maurice_Harkless￨FTA￨AWAY 0￨Maurice_Harkless￨FT_PCT￨AWAY 2￨Maurice_Harkless￨OREB￨AWAY 1￨Maurice_Harkless￨DREB￨AWAY 3￨Maurice_Harkless￨REB￨AWAY 0￨Maurice_Harkless￨AST￨AWAY 0￨Maurice_Harkless￨TO￨AWAY 1￨Maurice_Harkless￨STL￨AWAY 1￨Maurice_Harkless￨BLK￨AWAY 0￨Maurice_Harkless￨PF￨AWAY Maurice￨Maurice_Harkless￨FIRST_NAME￨AWAY Harkless￨Maurice_Harkless￨SECOND_NAME￨AWAY N/A￨Ben_Gordon￨START_POSITION￨AWAY N/A￨Ben_Gordon￨MIN￨AWAY N/A￨Ben_Gordon￨PTS￨AWAY N/A￨Ben_Gordon￨FGM￨AWAY N/A￨Ben_Gordon￨FGA￨AWAY N/A￨Ben_Gordon￨FG_PCT￨AWAY N/A￨Ben_Gordon￨FG3M￨AWAY N/A￨Ben_Gordon￨FG3A￨AWAY N/A￨Ben_Gordon￨FG3_PCT￨AWAY N/A￨Ben_Gordon￨FTM￨AWAY N/A￨Ben_Gordon￨FTA￨AWAY N/A￨Ben_Gordon￨FT_PCT￨AWAY N/A￨Ben_Gordon￨OREB￨AWAY N/A￨Ben_Gordon￨DREB￨AWAY N/A￨Ben_Gordon￨REB￨AWAY N/A￨Ben_Gordon￨AST￨AWAY N/A￨Ben_Gordon￨TO￨AWAY N/A￨Ben_Gordon￨STL￨AWAY N/A￨Ben_Gordon￨BLK￨AWAY N/A￨Ben_Gordon￨PF￨AWAY Ben￨Ben_Gordon￨FIRST_NAME￨AWAY Gordon￨Ben_Gordon￨SECOND_NAME￨AWAY N/A￨Devyn_Marble￨START_POSITION￨AWAY N/A￨Devyn_Marble￨MIN￨AWAY N/A￨Devyn_Marble￨PTS￨AWAY N/A￨Devyn_Marble￨FGM￨AWAY N/A￨Devyn_Marble￨FGA￨AWAY N/A￨Devyn_Marble￨FG_PCT￨AWAY N/A￨Devyn_Marble￨FG3M￨AWAY N/A￨Devyn_Marble￨FG3A￨AWAY N/A￨Devyn_Marble￨FG3_PCT￨AWAY N/A￨Devyn_Marble￨FTM￨AWAY N/A￨Devyn_Marble￨FTA￨AWAY N/A￨Devyn_Marble￨FT_PCT￨AWAY N/A￨Devyn_Marble￨OREB￨AWAY N/A￨Devyn_Marble￨DREB￨AWAY N/A￨Devyn_Marble￨REB￨AWAY N/A￨Devyn_Marble￨AST￨AWAY N/A￨Devyn_Marble￨TO￨AWAY N/A￨Devyn_Marble￨STL￨AWAY N/A￨Devyn_Marble￨BLK￨AWAY N/A￨Devyn_Marble￨PF￨AWAY Devyn￨Devyn_Marble￨FIRST_NAME￨AWAY Marble￨Devyn_Marble￨SECOND_NAME￨AWAY 28￨Hawks￨TEAM-PTS_QTR1￨HOME 14￨Hawks￨TEAM-PTS_QTR2￨HOME 34￨Hawks￨TEAM-PTS_QTR3￨HOME 19￨Hawks￨TEAM-PTS_QTR4￨HOME 95￨Hawks￨TEAM-PTS￨HOME 44￨Hawks￨TEAM-FG_PCT￨HOME 45￨Hawks￨TEAM-FG3_PCT￨HOME 75￨Hawks￨TEAM-FT_PCT￨HOME 42￨Hawks￨TEAM-REB￨HOME 27￨Hawks￨TEAM-AST￨HOME 18￨Hawks￨TEAM-TOV￨HOME 46￨Hawks￨TEAM-WINS￨HOME 12￨Hawks￨TEAM-LOSSES￨HOME Atlanta￨Hawks￨TEAM-CITY￨HOME Hawks￨Hawks￨TEAM-NAME￨HOME 16￨Magic￨TEAM-PTS_QTR1￨AWAY 29￨Magic￨TEAM-PTS_QTR2￨AWAY 22￨Magic￨TEAM-PTS_QTR3￨AWAY 21￨Magic￨TEAM-PTS_QTR4￨AWAY 88￨Magic￨TEAM-PTS￨AWAY 45￨Magic￨TEAM-FG_PCT￨AWAY 35￨Magic￨TEAM-FG3_PCT￨AWAY 54￨Magic￨TEAM-FT_PCT￨AWAY 40￨Magic￨TEAM-REB￨AWAY 22￨Magic￨TEAM-AST￨AWAY 17￨Magic￨TEAM-TOV￨AWAY 19￨Magic￨TEAM-WINS￨AWAY 41￨Magic￨TEAM-LOSSES￨AWAY Orlando￨Magic￨TEAM-CITY￨AWAY Magic￨Magic￨TEAM-NAME￨AWAY\\n\""
      ]
     },
     "execution_count": 78,
     "metadata": {},
     "output_type": "execute_result"
    }
   ],
   "source": [
    "drive_src_test[0]"
   ]
  },
  {
   "cell_type": "code",
   "execution_count": 80,
   "metadata": {},
   "outputs": [
    {
     "data": {
      "text/plain": [
       "'The Cleveland Cavaliers defeated the host Atlanta Hawks 135 - 130 , at Philips Arena on Friday evening . The Cavs knocked down an NBA record 25 three - pointers on their way to victory , but came very close to letting it slip away , as the Hawks battled back from a 25 - point deficit , to bring it to a one - point game with 1:31 left . The Cavs were able to hang on largely thanks to a clutch three from none other than Kyle Korver , who made his first return to Atlanta since being traded . The Cavs ( 42 - 18 ) shot a blistering 54 percent from deep , as they hit 25 - of - 46 of their three - point attempts . Kyrie Irving and LeBron James both came up with stellar performances , combining for 81 points . Irving finished with a game - high 43 points , while James filled the stat sheet with 38 points , 13 rebounds and eight assists . Channing Frye and Richard Jefferson were the only other players to score in double digits for Cleveland , finishing with 11 points each . The Cavs will look to build on the momentum from this win as they visit Miami on Saturday to face the second night of a back - to - back . Meanwhile , the Hawks ( 34 - 27 ) mounted an amazing rally to trim a 25 - point deficit with seven minutes left in the third quarter , to a one - point margin with 1:31 left in the game . Paul Millsap hit a couple clutch shots late in the fourth to bring the Hawks as close as they would come , and finished the game with 27 points and nine rebounds , in 37 minutes . Tim Hardaway Jr. was the high - point man for Atlanta , finishing with 36 points in 35 minutes off the bench . The Hawks remain fifth in the East but will need to get back to their winning ways , as they are only 4 - 6 in their last 10 . They go on to play host to the Pacers on Sunday .\\n'"
      ]
     },
     "execution_count": 80,
     "metadata": {},
     "output_type": "execute_result"
    }
   ],
   "source": [
    "drive_tgt_test[100]"
   ]
  },
  {
   "cell_type": "markdown",
   "metadata": {},
   "source": [
    "### 3) What is IOError: [Errno 2] No such file or directory: '/home/ruslan_yermakov/nlg-ra/reproducibility/data2text-plan-py/bayer_dataset/*train-roto-ptrs.txt'*\n"
   ]
  },
  {
   "cell_type": "code",
   "execution_count": 112,
   "metadata": {},
   "outputs": [],
   "source": [
    "with open('rotowire/train-roto-ptrs.txt') as reader:\n",
    "    # This reads the remaining lines from the file object and returns them as a list.\n",
    "    train_roto_ptrs = reader.readlines()"
   ]
  },
  {
   "cell_type": "code",
   "execution_count": 135,
   "metadata": {},
   "outputs": [
    {
     "data": {
      "text/plain": [
       "3371"
      ]
     },
     "execution_count": 135,
     "metadata": {},
     "output_type": "execute_result"
    }
   ],
   "source": [
    "len(train_roto_ptrs)"
   ]
  },
  {
   "cell_type": "code",
   "execution_count": 208,
   "metadata": {},
   "outputs": [
    {
     "data": {
      "text/plain": [
       "'1,0 2,1 4,2 6,3 11,4 13,7 17,5 18,6 20,8 22,9 74,10 75,11 77,12 81,13 102,15 109,11 115,17 116,18 127,19 142,24 182,26 192,27 210,28 211,29 213,30 216,31 219,32 220,33 233,35 245,39\\n'"
      ]
     },
     "execution_count": 208,
     "metadata": {},
     "output_type": "execute_result"
    }
   ],
   "source": [
    "train_roto_ptrs[1]"
   ]
  },
  {
   "cell_type": "code",
   "execution_count": null,
   "metadata": {},
   "outputs": [],
   "source": []
  },
  {
   "cell_type": "code",
   "execution_count": 137,
   "metadata": {},
   "outputs": [
    {
     "data": {
      "text/plain": [
       "30"
      ]
     },
     "execution_count": 137,
     "metadata": {},
     "output_type": "execute_result"
    }
   ],
   "source": [
    "len(train_roto_ptrs[1].split())"
   ]
  },
  {
   "cell_type": "markdown",
   "metadata": {},
   "source": [
    " For eg: the last entry 245,39 in train_roto_ptrs[1] indicates that the 245th token in summary matches with 39th content plan entry."
   ]
  },
  {
   "cell_type": "code",
   "execution_count": 204,
   "metadata": {},
   "outputs": [
    {
     "name": "stdout",
     "output_type": "stream",
     "text": [
      "0\n",
      "1\n",
      "2\n",
      "3\n",
      "4\n",
      "7\n",
      "5\n",
      "6\n",
      "8\n",
      "9\n",
      "10\n",
      "11\n",
      "12\n",
      "13\n",
      "15\n",
      "11\n",
      "17\n",
      "18\n",
      "19\n",
      "24\n",
      "26\n",
      "27\n",
      "28\n",
      "29\n",
      "30\n",
      "31\n",
      "32\n",
      "33\n",
      "35\n",
      "39\n"
     ]
    }
   ],
   "source": [
    "summary_entries = set()\n",
    "contentplan_entries = set()\n",
    "\n",
    "for pair in train_roto_ptrs[1].split():\n",
    "    pair = pair.split(\",\")\n",
    "    \n",
    "    print(pair[1])\n",
    "    \n",
    "    summary_entries.add(pair[0])\n",
    "    contentplan_entries.add(pair[1])"
   ]
  },
  {
   "cell_type": "code",
   "execution_count": 200,
   "metadata": {},
   "outputs": [
    {
     "data": {
      "text/plain": [
       "30"
      ]
     },
     "execution_count": 200,
     "metadata": {},
     "output_type": "execute_result"
    }
   ],
   "source": [
    "len(summary_entries)"
   ]
  },
  {
   "cell_type": "code",
   "execution_count": 151,
   "metadata": {},
   "outputs": [
    {
     "data": {
      "text/plain": [
       "29"
      ]
     },
     "execution_count": 151,
     "metadata": {},
     "output_type": "execute_result"
    }
   ],
   "source": [
    "len(contentplan_entries)"
   ]
  },
  {
   "cell_type": "code",
   "execution_count": 155,
   "metadata": {},
   "outputs": [],
   "source": [
    "summary = tgt_train[1].split()"
   ]
  },
  {
   "cell_type": "code",
   "execution_count": 167,
   "metadata": {},
   "outputs": [
    {
     "data": {
      "text/plain": [
       "'38'"
      ]
     },
     "execution_count": 167,
     "metadata": {},
     "output_type": "execute_result"
    }
   ],
   "source": [
    "summary[245]"
   ]
  },
  {
   "cell_type": "code",
   "execution_count": 181,
   "metadata": {},
   "outputs": [
    {
     "data": {
      "text/plain": [
       "'38￨Rudy_Gobert￨MIN￨AWAY\\n'"
      ]
     },
     "execution_count": 181,
     "metadata": {},
     "output_type": "execute_result"
    }
   ],
   "source": [
    "inter_train_content_plan[1].split(\" \")[39]"
   ]
  },
  {
   "cell_type": "markdown",
   "metadata": {},
   "source": [
    "Indeed, 245,39 in train_roto_ptrs[1] indicates that the 245th token in summary matches with 39th content plan entry."
   ]
  },
  {
   "cell_type": "markdown",
   "metadata": {},
   "source": [
    "'1,0 2,1 4,2 6,3 11,4 13,7 17,5 18,6 20,8 22,9 74,10 75,11 77,12 81,13 102,15 109,11 115,17 116,18 127,19 142,24 182,26 192,27 210,28 211,29 213,30 216,31 219,32 220,33 233,35 245,39\\n'"
   ]
  },
  {
   "cell_type": "code",
   "execution_count": 189,
   "metadata": {},
   "outputs": [
    {
     "name": "stdout",
     "output_type": "stream",
     "text": [
      "Phoenix ----> Phoenix￨Suns￨TEAM-CITY￨HOME\n",
      "Suns ----> Suns￨Suns￨TEAM-NAME￨HOME\n",
      "39 ----> 39￨Suns￨TEAM-WINS￨HOME\n",
      "38 ----> 38￨Suns￨TEAM-LOSSES￨HOME\n",
      "87 ----> 87￨Suns￨TEAM-PTS￨HOME\n",
      "85 ----> 85￨Jazz￨TEAM-PTS￨AWAY\n",
      "Utah ----> Utah￨Jazz￨TEAM-CITY￨AWAY\n",
      "Jazz ----> Jazz￨Jazz￨TEAM-NAME￨AWAY\n",
      "34 ----> 34￨Jazz￨TEAM-WINS￨AWAY\n",
      "42 ----> 42￨Jazz￨TEAM-LOSSES￨AWAY\n",
      "Gerald ----> Gerald￨Gerald_Green￨FIRST_NAME￨HOME\n",
      "Green ----> Green￨Gerald_Green￨SECOND_NAME￨HOME\n",
      "24 ----> 24￨Gerald_Green￨PTS￨HOME\n",
      "22 ----> 22￨Gerald_Green￨MIN￨HOME\n",
      "Warren ----> Warren￨TJ_Warren￨SECOND_NAME￨HOME\n",
      "Green ----> Green￨Gerald_Green￨SECOND_NAME￨HOME\n",
      "Brandan ----> Brandan￨Brandan_Wright￨FIRST_NAME￨HOME\n",
      "Wright ----> Wright￨Brandan_Wright￨SECOND_NAME￨HOME\n",
      "14 ----> 14￨Brandan_Wright￨PTS￨HOME\n",
      "33 ----> 33￨Brandan_Wright￨MIN￨HOME\n",
      "Hood ----> Hood￨Rodney_Hood￨SECOND_NAME￨AWAY\n",
      "17 ----> 17￨Rodney_Hood￨PTS￨AWAY\n",
      "Gordon ----> Gordon￨Gordon_Hayward￨FIRST_NAME￨AWAY\n",
      "Hayward ----> Hayward￨Gordon_Hayward￨SECOND_NAME￨AWAY\n",
      "21 ----> 21￨Gordon_Hayward￨PTS￨AWAY\n",
      "18 ----> 18￨Gordon_Hayward￨FGA￨AWAY\n",
      "Rudy ----> Rudy￨Rudy_Gobert￨FIRST_NAME￨AWAY\n",
      "Gobert ----> Gobert￨Rudy_Gobert￨SECOND_NAME￨AWAY\n",
      "15 ----> 15￨Rudy_Gobert￨REB￨AWAY\n",
      "38 ----> 38￨Rudy_Gobert￨MIN￨AWAY\n",
      "\n"
     ]
    }
   ],
   "source": [
    "for pair in train_roto_ptrs[1].split():\n",
    "    pair = pair.split(\",\")\n",
    "    \n",
    "    a = int(pair[0])\n",
    "    b = int(pair[1])\n",
    "    \n",
    "    print(summary[a], end=\" ----> \")\n",
    "    print(inter_train_content_plan[1].split(\" \")[b])"
   ]
  },
  {
   "cell_type": "code",
   "execution_count": 190,
   "metadata": {},
   "outputs": [
    {
     "data": {
      "text/plain": [
       "['The',\n",
       " 'Phoenix',\n",
       " 'Suns',\n",
       " '(',\n",
       " '39',\n",
       " '-',\n",
       " '38',\n",
       " ')',\n",
       " 'escaped',\n",
       " 'with',\n",
       " 'an',\n",
       " '87',\n",
       " '-',\n",
       " '85',\n",
       " 'win',\n",
       " 'over',\n",
       " 'the',\n",
       " 'Utah',\n",
       " 'Jazz',\n",
       " '(',\n",
       " '34',\n",
       " '-',\n",
       " '42',\n",
       " ')',\n",
       " '.',\n",
       " 'Rodney',\n",
       " 'Hood',\n",
       " 'missed',\n",
       " 'the',\n",
       " 'game',\n",
       " '-',\n",
       " 'winning',\n",
       " 'three',\n",
       " '-',\n",
       " 'pointer',\n",
       " 'at',\n",
       " 'the',\n",
       " 'buzzer',\n",
       " '.',\n",
       " 'He',\n",
       " 'was',\n",
       " 'potentially',\n",
       " 'fouled',\n",
       " ',',\n",
       " 'but',\n",
       " 'the',\n",
       " 'official',\n",
       " 'ruled',\n",
       " 'otherwise',\n",
       " '.',\n",
       " 'The',\n",
       " 'Suns',\n",
       " 'moved',\n",
       " 'to',\n",
       " 'three',\n",
       " 'and',\n",
       " 'a',\n",
       " 'half',\n",
       " 'games',\n",
       " 'behind',\n",
       " 'the',\n",
       " 'Oklahoma',\n",
       " 'City',\n",
       " 'Thunder',\n",
       " 'for',\n",
       " 'the',\n",
       " 'final',\n",
       " 'playoff',\n",
       " 'spot',\n",
       " 'with',\n",
       " 'five',\n",
       " 'games',\n",
       " 'remaining',\n",
       " '.',\n",
       " 'Gerald',\n",
       " 'Green',\n",
       " 'scored',\n",
       " '24',\n",
       " 'points',\n",
       " 'in',\n",
       " 'just',\n",
       " '22',\n",
       " 'minutes',\n",
       " 'for',\n",
       " 'the',\n",
       " 'first',\n",
       " 'time',\n",
       " 'since',\n",
       " 'November',\n",
       " '26th',\n",
       " '.',\n",
       " 'After',\n",
       " 'three',\n",
       " 'straight',\n",
       " 'double',\n",
       " '-',\n",
       " 'figure',\n",
       " 'scoring',\n",
       " 'games',\n",
       " ',',\n",
       " 'rookie',\n",
       " 'T.J.',\n",
       " 'Warren',\n",
       " 'was',\n",
       " 'limited',\n",
       " 'to',\n",
       " 'four',\n",
       " 'points',\n",
       " 'with',\n",
       " 'Green',\n",
       " 'putting',\n",
       " 'on',\n",
       " 'a',\n",
       " 'show',\n",
       " '.',\n",
       " 'Brandan',\n",
       " 'Wright',\n",
       " 'continues',\n",
       " 'to',\n",
       " 'start',\n",
       " 'for',\n",
       " 'the',\n",
       " 'injured',\n",
       " 'Alex',\n",
       " 'Len',\n",
       " ',',\n",
       " 'supplying',\n",
       " '14',\n",
       " 'points',\n",
       " ',',\n",
       " 'three',\n",
       " 'rebounds',\n",
       " ',',\n",
       " 'four',\n",
       " 'blocks',\n",
       " ',',\n",
       " 'three',\n",
       " 'steals',\n",
       " 'and',\n",
       " 'one',\n",
       " 'assist',\n",
       " 'in',\n",
       " '33',\n",
       " 'minutes',\n",
       " '.',\n",
       " 'Trey',\n",
       " 'Burke',\n",
       " 'was',\n",
       " 'dealing',\n",
       " 'with',\n",
       " 'back',\n",
       " 'issues',\n",
       " 'and',\n",
       " 'didn’t',\n",
       " 'play',\n",
       " '.',\n",
       " 'Dante',\n",
       " 'Exum',\n",
       " 'was',\n",
       " 'joined',\n",
       " 'in',\n",
       " 'the',\n",
       " 'starting',\n",
       " 'lineup',\n",
       " 'by',\n",
       " 'fellow',\n",
       " 'rookie',\n",
       " 'Rodney',\n",
       " 'Hood',\n",
       " ',',\n",
       " 'who',\n",
       " 'was',\n",
       " 'cleared',\n",
       " 'of',\n",
       " 'concussion',\n",
       " 'symptoms',\n",
       " 'after',\n",
       " 'missing',\n",
       " 'the',\n",
       " 'previous',\n",
       " 'game',\n",
       " '.',\n",
       " 'Hood',\n",
       " 'replaced',\n",
       " 'Joe',\n",
       " 'Ingles',\n",
       " 'in',\n",
       " 'the',\n",
       " 'starting',\n",
       " 'lineup',\n",
       " 'and',\n",
       " 'scored',\n",
       " '17',\n",
       " 'points',\n",
       " '.',\n",
       " 'He',\n",
       " 'entered',\n",
       " 'the',\n",
       " 'game',\n",
       " 'shooting',\n",
       " '47',\n",
       " 'percent',\n",
       " 'from',\n",
       " 'the',\n",
       " 'field',\n",
       " 'since',\n",
       " 'the',\n",
       " 'All-Star',\n",
       " 'break',\n",
       " '.',\n",
       " 'Gordon',\n",
       " 'Hayward',\n",
       " 'scored',\n",
       " '21',\n",
       " 'points',\n",
       " 'on',\n",
       " '18',\n",
       " 'shots',\n",
       " 'and',\n",
       " 'Rudy',\n",
       " 'Gobert',\n",
       " ',',\n",
       " 'potential',\n",
       " 'Defensive',\n",
       " 'Player',\n",
       " 'of',\n",
       " 'the',\n",
       " 'Year',\n",
       " ',',\n",
       " 'provided',\n",
       " 'eight',\n",
       " 'points',\n",
       " ',',\n",
       " '15',\n",
       " 'rebounds',\n",
       " ',',\n",
       " 'two',\n",
       " 'assists',\n",
       " ',',\n",
       " 'one',\n",
       " 'steal',\n",
       " 'and',\n",
       " 'one',\n",
       " 'block',\n",
       " 'in',\n",
       " '38',\n",
       " 'minutes',\n",
       " '.',\n",
       " 'The',\n",
       " 'Suns',\n",
       " 'engage',\n",
       " 'in',\n",
       " 'a',\n",
       " 'four',\n",
       " '-',\n",
       " 'game',\n",
       " 'road',\n",
       " 'trip',\n",
       " 'Tuesday',\n",
       " 'beginning',\n",
       " 'against',\n",
       " 'the',\n",
       " 'Atlanta',\n",
       " 'Hawks',\n",
       " '.',\n",
       " 'The',\n",
       " 'Jazz',\n",
       " 'conclude',\n",
       " 'a',\n",
       " 'two',\n",
       " '-',\n",
       " 'game',\n",
       " ',',\n",
       " 'two',\n",
       " '-',\n",
       " 'day',\n",
       " 'road',\n",
       " 'trip',\n",
       " 'when',\n",
       " 'they',\n",
       " 'play',\n",
       " 'the',\n",
       " 'Sacramento',\n",
       " 'Kings',\n",
       " 'on',\n",
       " 'Sunday',\n",
       " 'before',\n",
       " 'hosting',\n",
       " 'them',\n",
       " 'three',\n",
       " 'days',\n",
       " 'later',\n",
       " '.']"
      ]
     },
     "execution_count": 190,
     "metadata": {},
     "output_type": "execute_result"
    }
   ],
   "source": [
    "summary"
   ]
  },
  {
   "cell_type": "code",
   "execution_count": null,
   "metadata": {},
   "outputs": [],
   "source": []
  },
  {
   "cell_type": "code",
   "execution_count": null,
   "metadata": {},
   "outputs": [],
   "source": []
  },
  {
   "cell_type": "code",
   "execution_count": null,
   "metadata": {},
   "outputs": [],
   "source": []
  },
  {
   "cell_type": "code",
   "execution_count": null,
   "metadata": {},
   "outputs": [],
   "source": []
  },
  {
   "cell_type": "code",
   "execution_count": null,
   "metadata": {},
   "outputs": [],
   "source": []
  },
  {
   "cell_type": "code",
   "execution_count": null,
   "metadata": {},
   "outputs": [],
   "source": []
  },
  {
   "cell_type": "code",
   "execution_count": null,
   "metadata": {},
   "outputs": [],
   "source": []
  },
  {
   "cell_type": "code",
   "execution_count": null,
   "metadata": {},
   "outputs": [],
   "source": []
  },
  {
   "cell_type": "code",
   "execution_count": null,
   "metadata": {},
   "outputs": [],
   "source": []
  },
  {
   "cell_type": "code",
   "execution_count": null,
   "metadata": {},
   "outputs": [],
   "source": []
  },
  {
   "cell_type": "code",
   "execution_count": 139,
   "metadata": {},
   "outputs": [],
   "source": [
    "with open('rotowire/inter/train_content_plan.txt') as reader:\n",
    "    inter_train_content_plan = reader.readlines()"
   ]
  },
  {
   "cell_type": "code",
   "execution_count": 140,
   "metadata": {},
   "outputs": [],
   "source": [
    "with open('rotowire/train_content_plan.txt') as reader:\n",
    "    train_content_plan = reader.readlines()"
   ]
  },
  {
   "cell_type": "code",
   "execution_count": 141,
   "metadata": {},
   "outputs": [],
   "source": [
    "with open('rotowire/src_train.txt') as reader:\n",
    "    src_train = reader.readlines()"
   ]
  },
  {
   "cell_type": "code",
   "execution_count": 124,
   "metadata": {},
   "outputs": [
    {
     "data": {
      "text/plain": [
       "3371"
      ]
     },
     "execution_count": 124,
     "metadata": {},
     "output_type": "execute_result"
    }
   ],
   "source": [
    "len(inter_train_content_plan)"
   ]
  },
  {
   "cell_type": "code",
   "execution_count": 125,
   "metadata": {},
   "outputs": [
    {
     "data": {
      "text/plain": [
       "3371"
      ]
     },
     "execution_count": 125,
     "metadata": {},
     "output_type": "execute_result"
    }
   ],
   "source": [
    "len(train_content_plan)"
   ]
  },
  {
   "cell_type": "code",
   "execution_count": 126,
   "metadata": {},
   "outputs": [
    {
     "data": {
      "text/plain": [
       "3371"
      ]
     },
     "execution_count": 126,
     "metadata": {},
     "output_type": "execute_result"
    }
   ],
   "source": [
    "len(src_train)"
   ]
  },
  {
   "cell_type": "code",
   "execution_count": 127,
   "metadata": {},
   "outputs": [
    {
     "data": {
      "text/plain": [
       "40"
      ]
     },
     "execution_count": 127,
     "metadata": {},
     "output_type": "execute_result"
    }
   ],
   "source": [
    "len(train_content_plan[1].split())"
   ]
  },
  {
   "cell_type": "code",
   "execution_count": 128,
   "metadata": {},
   "outputs": [
    {
     "data": {
      "text/plain": [
       "40"
      ]
     },
     "execution_count": 128,
     "metadata": {},
     "output_type": "execute_result"
    }
   ],
   "source": [
    "len(inter_train_content_plan[1].split())"
   ]
  },
  {
   "cell_type": "markdown",
   "metadata": {},
   "source": [
    "**train_roto_ptrs** not related to content plan, since the length is different"
   ]
  },
  {
   "cell_type": "code",
   "execution_count": 129,
   "metadata": {},
   "outputs": [
    {
     "data": {
      "text/plain": [
       "30"
      ]
     },
     "execution_count": 129,
     "metadata": {},
     "output_type": "execute_result"
    }
   ],
   "source": [
    "len(train_roto_ptrs[1].split())"
   ]
  },
  {
   "cell_type": "code",
   "execution_count": 130,
   "metadata": {},
   "outputs": [
    {
     "data": {
      "text/plain": [
       "'589 590 587 588 580 604 605 595 602 603 200 201 182 181 134 135 116 68 69 50 62 66 65 63 49 376 377 358 310 311 292 294 354 355 336 348 349 351 352 335\\n'"
      ]
     },
     "execution_count": 130,
     "metadata": {},
     "output_type": "execute_result"
    }
   ],
   "source": [
    "train_content_plan[1]"
   ]
  },
  {
   "cell_type": "code",
   "execution_count": 131,
   "metadata": {},
   "outputs": [
    {
     "data": {
      "text/plain": [
       "'Phoenix￨Suns￨TEAM-CITY￨HOME Suns￨Suns￨TEAM-NAME￨HOME 39￨Suns￨TEAM-WINS￨HOME 38￨Suns￨TEAM-LOSSES￨HOME 87￨Suns￨TEAM-PTS￨HOME Utah￨Jazz￨TEAM-CITY￨AWAY Jazz￨Jazz￨TEAM-NAME￨AWAY 85￨Jazz￨TEAM-PTS￨AWAY 34￨Jazz￨TEAM-WINS￨AWAY 42￨Jazz￨TEAM-LOSSES￨AWAY Gerald￨Gerald_Green￨FIRST_NAME￨HOME Green￨Gerald_Green￨SECOND_NAME￨HOME 24￨Gerald_Green￨PTS￨HOME 22￨Gerald_Green￨MIN￨HOME TJ￨TJ_Warren￨FIRST_NAME￨HOME Warren￨TJ_Warren￨SECOND_NAME￨HOME 4￨TJ_Warren￨PTS￨HOME Brandan￨Brandan_Wright￨FIRST_NAME￨HOME Wright￨Brandan_Wright￨SECOND_NAME￨HOME 14￨Brandan_Wright￨PTS￨HOME 3￨Brandan_Wright￨REB￨HOME 4￨Brandan_Wright￨BLK￨HOME 3￨Brandan_Wright￨STL￨HOME 1￨Brandan_Wright￨AST￨HOME 33￨Brandan_Wright￨MIN￨HOME Rodney￨Rodney_Hood￨FIRST_NAME￨AWAY Hood￨Rodney_Hood￨SECOND_NAME￨AWAY 17￨Rodney_Hood￨PTS￨AWAY Gordon￨Gordon_Hayward￨FIRST_NAME￨AWAY Hayward￨Gordon_Hayward￨SECOND_NAME￨AWAY 21￨Gordon_Hayward￨PTS￨AWAY 18￨Gordon_Hayward￨FGA￨AWAY Rudy￨Rudy_Gobert￨FIRST_NAME￨AWAY Gobert￨Rudy_Gobert￨SECOND_NAME￨AWAY 8￨Rudy_Gobert￨PTS￨AWAY 15￨Rudy_Gobert￨REB￨AWAY 2￨Rudy_Gobert￨AST￨AWAY 1￨Rudy_Gobert￨STL￨AWAY 1￨Rudy_Gobert￨BLK￨AWAY 38￨Rudy_Gobert￨MIN￨AWAY\\n'"
      ]
     },
     "execution_count": 131,
     "metadata": {},
     "output_type": "execute_result"
    }
   ],
   "source": [
    "inter_train_content_plan[1]"
   ]
  },
  {
   "cell_type": "code",
   "execution_count": null,
   "metadata": {},
   "outputs": [],
   "source": []
  }
 ],
 "metadata": {
  "kernelspec": {
   "display_name": "Python 3",
   "language": "python",
   "name": "python3"
  },
  "language_info": {
   "codemirror_mode": {
    "name": "ipython",
    "version": 3
   },
   "file_extension": ".py",
   "mimetype": "text/x-python",
   "name": "python",
   "nbconvert_exporter": "python",
   "pygments_lexer": "ipython3",
   "version": "3.6.10"
  }
 },
 "nbformat": 4,
 "nbformat_minor": 2
}
