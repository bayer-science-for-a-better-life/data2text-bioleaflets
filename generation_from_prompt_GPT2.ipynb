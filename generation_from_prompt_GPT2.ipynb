{
 "cells": [
  {
   "cell_type": "markdown",
   "metadata": {},
   "source": [
    "# GPT-2 for text generation"
   ]
  },
  {
   "cell_type": "markdown",
   "metadata": {},
   "source": [
    "Part 1\n",
    "\n",
    "Useful tutorials:  \n",
    "https://huggingface.co/blog/how-to-generate  \n",
    "https://github.com/huggingface/blog/blob/master/notebooks/02_how_to_generate.ipynb"
   ]
  },
  {
   "cell_type": "markdown",
   "metadata": {},
   "source": [
    "Part2\n",
    "\n",
    "Tutorial how to use fastai to fine-tune (GPT-2) on my dataset  \n",
    "https://docs.fast.ai/tutorial.transformers"
   ]
  },
  {
   "cell_type": "markdown",
   "metadata": {},
   "source": [
    "############  \n",
    "Run commands to check if GPU available:  \n",
    "\n",
    "torch.cuda.current_device()   \n",
    "torch.cuda.device(0)   \n",
    "torch.cuda.device_count()  \n",
    "torch.cuda.get_device_name(0)   \n",
    "torch.cuda.is_available()   \n",
    "############"
   ]
  },
  {
   "cell_type": "code",
   "execution_count": 1,
   "metadata": {
    "colab": {
     "base_uri": "https://localhost:8080/"
    },
    "id": "tBYNwDCoUTwn",
    "outputId": "e89329be-b537-4c54-db91-05e4b3239102"
   },
   "outputs": [
    {
     "name": "stdout",
     "output_type": "stream",
     "text": [
      "1.7.0\n"
     ]
    }
   ],
   "source": [
    "import numpy as np\n",
    "\n",
    "# get transformers\n",
    "from transformers import GPT2LMHeadModel, GPT2Tokenizer\n",
    "\n",
    "import torch\n",
    "print(torch.__version__)"
   ]
  },
  {
   "cell_type": "code",
   "execution_count": 4,
   "metadata": {
    "colab": {
     "base_uri": "https://localhost:8080/",
     "height": 477,
     "referenced_widgets": [
      "7339c727b4fd41c6979b01fe14301d0c",
      "8ebd076a08ac4264b474e2d99ace50fe",
      "53e3f04d4adf458cbd4fd689df7a079c",
      "7bd94203f46943cd97aea49d9e022513",
      "b15e7b67c49f4ae8bf4e4bc4f2bdb6c5",
      "2de4d659731b461da4472fe51b1f8c13",
      "ec5a3516f5144dc0a8e713f8c5788725",
      "a5658ff9b375406b9246b39c19731d09",
      "73233b9e1c6e49038f42a182d3385243",
      "590775b688674f668c8a0170f348eacf",
      "30d9f6799de14abe934c90dc68e75f36",
      "d3bc548d0de948ac99d063af16ef7a51",
      "809d5a7cec634c85aa24098373d7cb25",
      "9ad511ce0df942968e33f136c5b7ab32",
      "cdecd9e8a652403a85c9500c48e0b4b6",
      "0bb6fa0a425d4687a7595b001524c496",
      "004914ed9db84c3896782833597c1913",
      "03bad06c9c4c46afaf96d3ba10d5e290",
      "f1c7fe06cbe0481d8a2e2e9e36947767",
      "1ca9f6df8dcb4f4da46081a3280a33db",
      "59c50b1c4bcc448eaadff24b78d095cd",
      "ff2af30d2ed04872b0df424eba79db3a",
      "65869a6d5748458ba53f6c677ddb2778",
      "4151472ce29f41c6bf7f8e1e1d2c76a2",
      "c1b67b20c30940c4b788fb992735aae4",
      "afbea789abc6459eb2aae31cf007eb17",
      "1a4992a69645424e97ee2676c4bf9829",
      "189c494e8d514b539e914f4e7495d540",
      "2241de82be2546d2a6dc40db6b25404b",
      "1f558ba76c4445de8c6dbe9c1a7e923a",
      "ab5d39763e0b4c06901fef1a3721f30a",
      "265b0de75b0d4cc29d465efa8eecb982"
     ]
    },
    "id": "pf7-Uj8xgrct",
    "outputId": "91711800-6730-4aa6-d9e8-80e5b4a9c3bc"
   },
   "outputs": [],
   "source": [
    "# get GPT2 tokenizer (in charge of preparing the inputs for a model)\n",
    "tokenizer = GPT2Tokenizer.from_pretrained('gpt2-medium')\n",
    "\n",
    "# 24-layer, 1024-hidden, 16-heads, 345M parameters\n",
    "# OpenAI’s Medium-sized GPT-2 English model\n",
    "\n",
    "# add the EOS token as PAD token to avoid warnings\n",
    "GPT2_model = GPT2LMHeadModel.from_pretrained('gpt2-medium', pad_token_id=tokenizer.eos_token_id, return_dict=True)"
   ]
  },
  {
   "cell_type": "code",
   "execution_count": 5,
   "metadata": {},
   "outputs": [
    {
     "name": "stdout",
     "output_type": "stream",
     "text": [
      "encoded representation:  [5756, 502, 1560, 1223, 1593, 546, 703]\n",
      "decoded string:  Let me tell something important about how\n"
     ]
    }
   ],
   "source": [
    "# tokenizer example\n",
    "ids = tokenizer.encode('Let me tell something important about how')\n",
    "\n",
    "print('encoded representation: ', ids)\n",
    "print('decoded string: ', tokenizer.decode(ids))"
   ]
  },
  {
   "cell_type": "markdown",
   "metadata": {},
   "source": [
    "### Part 1 - Generating some text with plain GPT-2"
   ]
  },
  {
   "cell_type": "code",
   "execution_count": 6,
   "metadata": {},
   "outputs": [],
   "source": [
    "# prompt for GPT-2\n",
    "section1_prompt = 'Myocet liposomal contains a medicine called \"doxorubicin\", which damages tumour cells.' \\\n",
    "                + 'This type of medicine is called \"chemotherapy\".'\n",
    "\n",
    "# encode context the generation is conditioned on\n",
    "section1_prompt_tokenized = tokenizer.encode(section1_prompt)\n",
    "\n",
    "# make a suitable input to generate() method that expects a batch of prompt\n",
    "# make pytorch LongTensor and add one batch dimension\n",
    "section1_begining = torch.LongTensor(section1_prompt_tokenized)[None]"
   ]
  },
  {
   "cell_type": "markdown",
   "metadata": {
    "id": "LPkq7LQRDVnx"
   },
   "source": [
    "#### Greedy decoding\n",
    "\n",
    "[Documentation Link](https://huggingface.co/transformers/main_classes/model.html#transformers.generation_utils.GenerationMixin.generate)"
   ]
  },
  {
   "cell_type": "code",
   "execution_count": 7,
   "metadata": {
    "colab": {
     "base_uri": "https://localhost:8080/"
    },
    "id": "41-6EKlZmzgv",
    "outputId": "fb452981-d2b5-4cde-8e2e-9f605323a2c5"
   },
   "outputs": [
    {
     "name": "stdout",
     "output_type": "stream",
     "text": [
      "Output:\n",
      "----------------------------------------------------------------------------------------------------\n",
      "Myocet liposomal contains a medicine called \"doxorubicin\", which damages tumour cells.This type of medicine is called \"chemotherapy\". It is used to treat cancer, and is used to treat many other diseases. It is also used to treat some types of cancer.\n",
      "\n",
      "The drug is also used to treat some types of cancer.\n",
      "\n",
      "The drug is also used to treat some types of cancer.\n",
      "\n",
      "The drug is also used to treat some types of cancer.\n",
      "\n",
      "The drug is also used to treat some types of cancer.\n",
      "\n",
      "The drug is also used to treat some types of cancer.\n",
      "\n",
      "The drug is also used to treat some types of cancer.\n",
      "\n",
      "The drug is also used to treat some types of cancer.\n",
      "\n",
      "The drug is also used to treat some types of cancer.\n",
      "\n",
      "The drug is also used to treat some types of cancer.\n",
      "\n",
      "The drug is also used to treat some types of cancer.\n",
      "\n",
      "The drug is also used to treat some types of cancer.\n",
      "\n",
      "The drug is also used to treat some types of cancer.\n",
      "\n",
      "The drug is also used to treat some types of cancer.\n",
      "\n",
      "The drug is also used to treat some types of cancer.\n",
      "\n",
      "The drug is also used to treat some types of cancer.\n",
      "\n",
      "The drug is also used to treat some types of cancer.\n",
      "\n",
      "The drug is also used to treat some types of cancer.\n"
     ]
    }
   ],
   "source": [
    "# generate text until the output length (which includes the context length) reaches 300\n",
    "greedy_output = GPT2_model.generate(section1_begining, max_length=300)\n",
    "\n",
    "print(\"Output:\\n\" + 100 * '-')\n",
    "print(tokenizer.decode(greedy_output[0], skip_special_tokens=True))"
   ]
  },
  {
   "cell_type": "markdown",
   "metadata": {
    "id": "uBGcBGijBW2V"
   },
   "source": [
    "**Summary**:\n",
    "The generated words following the context are reasonable, but the model quickly starts repeating itself! Turns out it to be a common problem (Is it like in GANs - mode collapse) in language generation the same problem - \"seems to be even more so in greedy and beam search\"\n",
    "\n",
    "Greedy - on each step, take the most probable word (argmax)\n",
    "- simple method that gives low quiality output"
   ]
  },
  {
   "cell_type": "markdown",
   "metadata": {
    "id": "GvgzcK3jCaHo"
   },
   "source": [
    "#### Beam search decoding\n",
    "\n",
    "Beam search keeps the most likely *num_beams* of hypotheses at each time step and eventually choosing the hypothesis that has the overall highest probability.\n",
    "\n",
    "[Documentation Link](https://huggingface.co/transformers/main_classes/model.html#transformers.generation_utils.GenerationMixin.generate)"
   ]
  },
  {
   "cell_type": "code",
   "execution_count": 8,
   "metadata": {
    "colab": {
     "base_uri": "https://localhost:8080/"
    },
    "id": "BYD0V_HDmzBn",
    "outputId": "c4e0fd0d-6a44-45e3-9bac-66a8fd979537"
   },
   "outputs": [
    {
     "name": "stdout",
     "output_type": "stream",
     "text": [
      "Output:\n",
      "----------------------------------------------------------------------------------------------------\n",
      "Myocet liposomal contains a medicine called \"doxorubicin\", which damages tumour cells.This type of medicine is called \"chemotherapy\". It is used to treat cancerous tumours. It has been shown to be very effective in treating some types of cancer. However, it has not been proven that it is safe for use in the treatment of other cancers.\n"
     ]
    }
   ],
   "source": [
    "# beam search decoding\n",
    "# num_beams=5\n",
    "beam_output = GPT2_model.generate(\n",
    "    section1_begining,\n",
    "    max_length=500,\n",
    "    num_beams=5,\n",
    "    no_repeat_ngram_size=2,\n",
    "    early_stopping=True\n",
    ")\n",
    "\n",
    "print(\"Output:\\n\" + 100 * '-')\n",
    "print(tokenizer.decode(beam_output[0], skip_special_tokens=True))"
   ]
  },
  {
   "cell_type": "code",
   "execution_count": 9,
   "metadata": {
    "id": "g4EsEGXvFYP8"
   },
   "outputs": [
    {
     "name": "stdout",
     "output_type": "stream",
     "text": [
      "Output:\n",
      "----------------------------------------------------------------------------------------------------\n",
      "0: Myocet liposomal contains a medicine called \"doxorubicin\", which damages tumour cells.This type of medicine is called \"chemotherapy\". It is used to treat cancerous tumours. It has been shown to be very effective in treating some types of cancer. However, it has not been proven that it is safe for use in the treatment of other cancers.\n",
      "1: Myocet liposomal contains a medicine called \"doxorubicin\", which damages tumour cells.This type of medicine is called \"chemotherapy\". It is used to treat cancerous tumours. It has been shown to be very effective in treating some types of cancer. However, it has not been proven that it is safe for use in the treatment of other cancers.\n",
      "\n",
      "What are the possible side effects of myofascial release therapy?\n",
      "\n",
      "\n",
      "There are a number of possible adverse effects that may occur with the use of this therapy. These include, but are not limited to,:\n",
      "2: Myocet liposomal contains a medicine called \"doxorubicin\", which damages tumour cells.This type of medicine is called \"chemotherapy\". It is used to treat cancerous tumours. It has been shown to be very effective in treating some types of cancer. However, it has not been proven that it is safe for use in the treatment of other cancers.\n",
      "\n",
      "What are the possible side effects of myofascial release therapy?\n",
      "\n",
      "\n",
      "There are a number of possible adverse effects that may occur with the use of this therapy. These include, but are not limited to the following:\n",
      "3: Myocet liposomal contains a medicine called \"doxorubicin\", which damages tumour cells.This type of medicine is called \"chemotherapy\". It is used to treat cancerous tumours. It has been shown to be very effective in treating some types of cancer. However, it has not been proven that it is safe for use in the treatment of other cancers.\n",
      "\n",
      "What are the possible side effects of myofascial release therapy?\n",
      "\n",
      "\n",
      "There are a number of possible adverse effects that may occur with the use of this therapy. These include, but are not limited to the following: muscle spasms, muscle weakness, headache, dizziness, nausea, vomiting, stomach pain, diarrhea, constipation, dry mouth, skin rashes, and skin rash. Some of these may be more serious than others. If you experience any of the above symptoms, talk to your doctor or pharmacist to find out what to do next. You may also want to check with your health care provider if you have any other medical conditions that could affect your ability to use this treatment. Your doctor will be able to advise you on the best course of action for you and your family.\n",
      "4: Myocet liposomal contains a medicine called \"doxorubicin\", which damages tumour cells.This type of medicine is called \"chemotherapy\". It is used to treat cancerous tumours. It has been shown to be very effective in treating some types of cancer. However, it has not been proven that it is safe for use in the treatment of other cancers.\n",
      "\n",
      "What are the possible side effects of myofascial release therapy?\n",
      "\n",
      "\n",
      "There are a number of possible adverse effects that may occur with the use of this therapy. These include, but are not limited to the following: muscle spasms, muscle weakness, headache, dizziness, nausea, vomiting, stomach pain, diarrhea, constipation, dry mouth, skin rashes, and skin rash. Some of these may be more serious than others. If you experience any of the above symptoms, talk to your doctor or pharmacist to find out what to do next. You may also want to check with your health care provider if you have any other medical conditions that could affect your ability to use this treatment. Your doctor will be able to advise you on the best course of action for you and your family to take.\n"
     ]
    }
   ],
   "source": [
    "# multiple generated samples\n",
    "beam_output = GPT2_model.generate(\n",
    "    section1_begining,\n",
    "    max_length=500,\n",
    "    num_beams=5,\n",
    "    no_repeat_ngram_size=2,\n",
    "    num_return_sequences=5,\n",
    "    early_stopping=True\n",
    ")\n",
    "\n",
    "print(\"Output:\\n\" + 100 * '-')\n",
    "for i, beam_output_sample in enumerate(beam_output):\n",
    "  print(\"{}: {}\".format(i, tokenizer.decode(beam_output_sample, skip_special_tokens=True)))"
   ]
  },
  {
   "cell_type": "markdown",
   "metadata": {
    "id": "IfG1pMdRHxBp"
   },
   "source": [
    "**Summary**: Detter quality text but *cons*: playing with parameters, generated text - boring, still repetetive in some ways"
   ]
  },
  {
   "cell_type": "markdown",
   "metadata": {
    "id": "MbNpJRW9HkhQ"
   },
   "source": [
    "#### Sampling based Decoding\n",
    "= sampling means randomly picking the next word according to its conditional probability distribution:\n",
    "\n",
    "Result: more randomness (like humans), thus more diversity but text might be not coherent (too random)\n",
    "\n",
    "[Documentation Link](https://huggingface.co/transformers/main_classes/model.html#transformers.generation_utils.GenerationMixin.generate)\n",
    "\n",
    "(actually it is Top-K Sampling)\n",
    "\\- In Top-K sampling, the K most likely next words are filtered and the probability mass is redistributed among only those K next words. GPT2 adopted this sampling scheme, which was one of the reasons for its success in story generation."
   ]
  },
  {
   "cell_type": "code",
   "execution_count": 10,
   "metadata": {
    "colab": {
     "base_uri": "https://localhost:8080/"
    },
    "id": "iKuUor-nFY-G",
    "outputId": "2fa87193-1e6b-474d-92d3-9702c3415f45"
   },
   "outputs": [
    {
     "name": "stdout",
     "output_type": "stream",
     "text": [
      "Output:\n",
      "----------------------------------------------------------------------------------------------------\n",
      "Myocet liposomal contains a medicine called \"doxorubicin\", which damages tumour cells.This type of medicine is called \"chemotherapy\". It is used to treat people who have had cancer or other cancers for two to three months. It is also used to treat people with diabetes.Chemotherapy is also used to treat certain other conditions. It prevents the growth of existing tumours. It is also used to treat people with heart, lung and kidney problems.When the doctor gives a treatment to a patient with cancer or other conditions, the medicine used in the treatment is called \"chemotherapy\".Chemotherapy is used to treat cancer or other types of diseases. It is an advanced form of medicine. It involves destroying cancerous cells within the body. It is also used to treat some types of infections.Chemotherapy does not affect the normal functioning of the body. It causes long-term damage to the body, and has been shown to be extremely dangerous. It is also not recommended to use chemotherapy unless advised by a doctor. It is recommended that patients who have cancer or other diseases that require treatment should see their doctor as soon as possible to avoid suffering more serious side effects.\n"
     ]
    }
   ],
   "source": [
    "# set seed to reproduce results. Feel free to change the seed though to get different results\n",
    "torch.manual_seed(7)\n",
    "\n",
    "# use temperature to decrease the sensitivity to low probability candidates\n",
    "sample_output = GPT2_model.generate(\n",
    "    section1_begining,\n",
    "    do_sample=True,\n",
    "    max_length=500,\n",
    "    top_k=50,\n",
    "    temperature=0.7\n",
    ")\n",
    "\n",
    "print(\"Output:\\n\" + 100 * '-')\n",
    "print(tokenizer.decode(sample_output[0], skip_special_tokens=True))"
   ]
  },
  {
   "cell_type": "markdown",
   "metadata": {
    "id": "WAeg6NouJwtP"
   },
   "source": [
    "**Summary**:  \n",
    "**Temperature** parameter to make distribution \"sharper\" - to increase fluency(naturalness) of a text by decreasing the sensitivity to low probability candidates\n",
    "\n",
    "**Top-K** limit our sampling pool to k words - more naturalness, but limit the model's creativity for flat distribution"
   ]
  },
  {
   "cell_type": "markdown",
   "metadata": {},
   "source": [
    "#### Top-p (nucleus) sampling\n",
    "\n",
    "Instead of sampling only from the most likely K words, in Top-p sampling chooses from the smallest possible set of words whose cumulative probability exceeds the probability p. The probability mass is then redistributed among this set of words. This way, the size of the set of words (a.k.a the number of words in the set) can dynamically increase and decrease according to the next word's probability distribution.\n",
    "\n",
    "[Documentation Link](https://huggingface.co/transformers/main_classes/model.html#transformers.generation_utils.GenerationMixin.generate)"
   ]
  },
  {
   "cell_type": "code",
   "execution_count": 11,
   "metadata": {},
   "outputs": [
    {
     "name": "stdout",
     "output_type": "stream",
     "text": [
      "Output:\n",
      "----------------------------------------------------------------------------------------------------\n",
      "Myocet liposomal contains a medicine called \"doxorubicin\", which damages tumour cells.This type of medicine is called \"chemotherapy\".Doxorubicin causes tumours to open and release toxins that cause swelling and inflammation, killing the cancer. So you have to be careful that your product can actually kill the cancer, even if it prevents it from growing. This isn't the only way in which this product can cause headaches and headaches, so we recommend carefully examining any product you consider use.Overall you have a lot of options with China Liposomal. Some are cheaper, but you will see different options offered in each given region. Some are listed above as a Doctor's Supplier, which is also offered through QQ Marketplace, but then only ships within China, and certain channels can be expensive, leaving you with only low-margin companies such as China Lifescience and Markl Tech, selling them for less than half the retail price. We think it's good that everyone can buy from their preferred chemist and shop around when shopping for liposomal products. But you may still have to consider shoplifting when buying your drugs, and if you absolutely have to steal drugs to make this a month long take, it's still best to ask a pharmacist, as they know all about it.But we do have some advice to take if you want to try China Liposomal products, and suggest first that you don't skip out altogether, as the news of bad products being detected on search engines will probably continue to arrive, and you'll never know if you may have been caught through misguided advertising. Many customers are using them because of bad reviews - this will scare some people away too, and they'll just make it up to you by reporting that this product has been banned by the government. That will break some people's hearts, and you can be sure that China Genomics will report it to the police to find out who has bought these companies. Whether you believe in the banning of these drug companies from getting into our country or not, can't we do something about it?No. There are limits to just who you will be able to sell drugs to. Public Health Canada and Health Canada HSE, and sometimes the FDA, play a huge role in the ability of government to regulate you, but you may be able to negotiate prices with some, but I'm not sure I know enough to be sure about that.\n"
     ]
    }
   ],
   "source": [
    "# set seed to reproduce results. Feel free to change the seed though to get different results\n",
    "torch.manual_seed(7)\n",
    "\n",
    "# deactivate top_k sampling and sample only from 92% most likely words\n",
    "sample_output = GPT2_model.generate(\n",
    "    section1_begining, \n",
    "    do_sample=True, \n",
    "    max_length=500, \n",
    "    top_p=0.92, \n",
    "    top_k=0\n",
    ")\n",
    "\n",
    "print(\"Output:\\n\" + 100 * '-')\n",
    "print(tokenizer.decode(sample_output[0], skip_special_tokens=True))"
   ]
  },
  {
   "cell_type": "markdown",
   "metadata": {},
   "source": [
    "While in theory, Top-p seems more elegant than Top-K, both methods work well in practice. Top-p can also be used in combination with Top-K, which can avoid very low ranked words while allowing for some dynamic selection."
   ]
  },
  {
   "cell_type": "code",
   "execution_count": 12,
   "metadata": {
    "id": "th_J4aLAFZKn"
   },
   "outputs": [
    {
     "name": "stdout",
     "output_type": "stream",
     "text": [
      "Output:\n",
      "----------------------------------------------------------------------------------------------------\n",
      "0: Myocet liposomal contains a medicine called \"doxorubicin\", which damages tumour cells.This type of medicine is called \"chemotherapy\".Doxorubicin is also sometimes referred to as \"Craniosurgery\", this is a form of chemotherapy that is used on people with cancer and is also used on people that have the skin cancer that they have.The effect of chemo is:A tumour is removed and the patient gets the treatment \"Craniosurgery\". The cure is called \"remission\" where the tumour is cured and a new patient is brought into treatment,but chemo and chemotherapy is very painful for some people.Doxorubicin is the most effective and most common treatment used on those with breast cancer and those who have had skin cancer, and is widely used to treat cancers of the mouth,throat and liver.This chemo was called 'chronic pain'and that is what the chemotherapy drugs do to your body.The reason the doctors who are using chemo are called doctors,is because the doctors are using this technique on people with cancer who have not had cancer before, and if you don't have cancer you can have treatment that is not as painful.If you have breast cancer you will need to take chemo that you are not having.The treatment for breast cancer is called \"chemotherapy\", as chemo is a form of chemotherapy. This therapy is used on people that have breast cancer that is resistant to chemotherapy. The side effects of chemotherapy for people with cancer are:Doxorubicin is very effective as a treatment, but if you do not get a full cure from taking chemo that is the most difficult thing.People who do not know that the main reason they go to a doctor or surgeon for chemo is not because they have cancer but just because they want to be cured of cancer.So why should chemo be taken that often?\n",
      "\n",
      "\n",
      "1: Myocet liposomal contains a medicine called \"doxorubicin\", which damages tumour cells.This type of medicine is called \"chemotherapy\". The procedure usually consists of giving your patient a gel containing some medicine or ointment. A small part of the gel should be taken by hand and placed on top of the tumour. The medicine/ointment can be taken with food or drink and has to be changed regularly. The medicine needs to be absorbed into your tumour. If an infection or disease develops this process must be repeated several times until all the medicine has been absorbed by your tumour. If you think you or your children have a cancer or other malignant tumour you can contact a specialist if you've recently given your cancer treatment. They'll be able to monitor you during this whole process and try to find the best treatment to your needs. If the doctor decides that your tumour is not cancer you'll need to have another operation or scan.\n",
      "\n",
      "Do you have or have children?\n",
      "\n",
      "\n",
      "2: Myocet liposomal contains a medicine called \"doxorubicin\", which damages tumour cells.This type of medicine is called \"chemotherapy\".Isocatene also is used to treat many kinds of skin problems. This includes skin ulcers, inflammatory disease, rashes, acne, acne scars, rashes, burns and other skin issues. It also helps reduce inflammation by inhibiting the production of red blood cells. It improves skin elasticity and reduces inflammation.\n",
      "\n",
      "\n"
     ]
    }
   ],
   "source": [
    "# set seed to reproduce results. Feel free to change the seed though to get different results\n",
    "torch.manual_seed(7)\n",
    "\n",
    "# set top_k = 50 and set top_p = 0.95 and num_return_sequences = 3\n",
    "sample_outputs = GPT2_model.generate(\n",
    "    section1_begining,\n",
    "    do_sample=True, \n",
    "    max_length=500, \n",
    "    top_k=50, \n",
    "    top_p=0.95, \n",
    "    num_return_sequences=3\n",
    ")\n",
    "\n",
    "print(\"Output:\\n\" + 100 * '-')\n",
    "for i, sample_output in enumerate(sample_outputs):\n",
    "    print(\"{}: {}\".format(i, tokenizer.decode(sample_output, skip_special_tokens=True)))\n",
    "    print(\"\\n\")"
   ]
  },
  {
   "cell_type": "code",
   "execution_count": null,
   "metadata": {},
   "outputs": [],
   "source": []
  },
  {
   "cell_type": "markdown",
   "metadata": {
    "id": "K5q3TnlHYnnW"
   },
   "source": [
    "### Task-2 Fine-tune GPT-2 on the dataset"
   ]
  },
  {
   "cell_type": "code",
   "execution_count": 2,
   "metadata": {},
   "outputs": [],
   "source": [
    "from fastai.text.all import *\n",
    "\n",
    "import pickle"
   ]
  },
  {
   "cell_type": "code",
   "execution_count": 3,
   "metadata": {
    "id": "YPjOLMEbmWB5"
   },
   "outputs": [],
   "source": [
    "# description of an objects in dataset\n",
    "class Leaflet():\n",
    "    def __init__(self, product_name, product_url, product_id, product_content):\n",
    "        self.product_name = product_name\n",
    "        self.url = product_url\n",
    "        self.id = product_id\n",
    "        self.content = product_content\n",
    "\n",
    "        # extract sections later\n",
    "        self.section1 = None\n",
    "\n",
    "    def print_info(self):\n",
    "        print(self.product_name)\n",
    "        print(self.url)\n",
    "        print(self.id)\n",
    "\n",
    "    def print_section1(self):\n",
    "        print(self.section1)"
   ]
  },
  {
   "cell_type": "code",
   "execution_count": 4,
   "metadata": {
    "id": "ydmNPgIFFYnd"
   },
   "outputs": [],
   "source": [
    "# load array of objects, where object - class Leaflet\n",
    "with open(\"datasets/LeafletsDataset_section1_v0.dat\", \"rb\") as f:\n",
    "    loaded_package_leaflets = pickle.load(f)"
   ]
  },
  {
   "cell_type": "code",
   "execution_count": 5,
   "metadata": {
    "colab": {
     "base_uri": "https://localhost:8080/"
    },
    "id": "HAxVyBFrj0cd",
    "outputId": "356734d3-3f5b-4ba8-b209-01c326bd9fe8"
   },
   "outputs": [
    {
     "data": {
      "text/plain": [
       "1351"
      ]
     },
     "execution_count": 5,
     "metadata": {},
     "output_type": "execute_result"
    }
   ],
   "source": [
    "len(loaded_package_leaflets)"
   ]
  },
  {
   "cell_type": "code",
   "execution_count": 6,
   "metadata": {
    "colab": {
     "base_uri": "https://localhost:8080/",
     "height": 191
    },
    "id": "VB2PCPRGqWTS",
    "outputId": "4cce8146-a576-4f50-ad74-df4b21209eed"
   },
   "outputs": [
    {
     "data": {
      "text/plain": [
       "' 1. What Trydonis is and what it is used for Trydonis is a medicine to help breathing that contains the three active substances: • beclometasone dipropionate, • formoterol fumarate dihydrate and • glycopyrronium. Beclometasone dipropionate belongs to a group of medicines called corticosteroids which act to reduce the swelling and irritation in your lungs. Formoterol and glycopyrronium are medicines called long-acting bronchodilators. They act in different ways to relax the muscles in your airways, helping to open the airways wider and allowing you to breathe more easily. Regular treatment with these three active substances helps to relieve and prevent symptoms such as shortness of breath, wheezing and cough in adult patients with chronic obstructive pulmonary disease (COPD). Trydonis can reduce exacerbations (flare-ups) of COPD symptoms. COPD is a serious long- term disease in which the airways become blocked and air sacs inside the lungs become damaged, leading to difficulty breathing.'"
      ]
     },
     "execution_count": 6,
     "metadata": {},
     "output_type": "execute_result"
    }
   ],
   "source": [
    "loaded_package_leaflets[0].section1"
   ]
  },
  {
   "cell_type": "markdown",
   "metadata": {},
   "source": [
    "#### Preparing the data"
   ]
  },
  {
   "cell_type": "code",
   "execution_count": 7,
   "metadata": {
    "id": "sInnUxbFqVAZ"
   },
   "outputs": [],
   "source": [
    "# gather all texts in one numpy array (since it will be easier to use this way with fastai)\n",
    "\n",
    "tmp = []\n",
    "\n",
    "# TODO 600 just to reduce computations\n",
    "for leaflet in loaded_package_leaflets[:600]:\n",
    "    # skik if section1 content is empty\n",
    "    if leaflet.section1 is not None:\n",
    "        tmp.append(leaflet.section1)\n",
    "\n",
    "# array to store all first sections\n",
    "all_section1 = np.array(tmp)\n",
    "\n",
    "# set the threshold to split all data to train (all indexes before) and validation (all indexes after)\n",
    "threshold_train_val = 500"
   ]
  },
  {
   "cell_type": "code",
   "execution_count": 8,
   "metadata": {
    "colab": {
     "base_uri": "https://localhost:8080/"
    },
    "id": "-_8naV4OqU1v",
    "outputId": "d9007f22-6cbf-4638-c8f5-be08f66710be"
   },
   "outputs": [
    {
     "data": {
      "text/plain": [
       "(553,)"
      ]
     },
     "execution_count": 8,
     "metadata": {},
     "output_type": "execute_result"
    }
   ],
   "source": [
    "all_section1.shape"
   ]
  },
  {
   "cell_type": "markdown",
   "metadata": {},
   "source": [
    "\"To process this data to train a model, we need to build a Transform that will be applied lazily. In this case we could do the pre-processing once and for all and only use the transform for decoding\""
   ]
  },
  {
   "cell_type": "code",
   "execution_count": 9,
   "metadata": {
    "id": "eqQszi3wvZXE"
   },
   "outputs": [],
   "source": [
    "class TransformersTokenizer(Transform):\n",
    "    def __init__(self, tokenizer): \n",
    "        self.tokenizer = tokenizer\n",
    "        \n",
    "    def encodes(self, x):\n",
    "        \"\"\"\n",
    "        encodes method that is applied when you call the transform (a bit like the forward method in a nn.Module)\n",
    "        \"\"\"\n",
    "        toks = self.tokenizer.tokenize(x)\n",
    "        return tensor(self.tokenizer.convert_tokens_to_ids(toks))\n",
    "    \n",
    "    def decodes(self, x):\n",
    "        \"\"\"\n",
    "        decodes method that is applied when you call the decode method of the transform, \n",
    "        (if you need to decode anything for showing purpose)\n",
    "        \n",
    "        in decodes we return a TitledStr object and not just a plain string. \n",
    "        That's a fastai class that adds a show method to the string, which will allow us to use all the fastai show methods\n",
    "        \"\"\"\n",
    "        return TitledStr(self.tokenizer.decode(x.cpu().numpy()))"
   ]
  },
  {
   "cell_type": "code",
   "execution_count": 10,
   "metadata": {
    "id": "0PvJ40VautXf"
   },
   "outputs": [],
   "source": [
    "# indicate the indices of the training set and the validation set with splits \n",
    "# (here all the first indices until <threshold_train_val> and then all the remaining indices):\n",
    "splits = [range_of(threshold_train_val), list(range(threshold_train_val, len(all_section1)))]"
   ]
  },
  {
   "cell_type": "code",
   "execution_count": 13,
   "metadata": {},
   "outputs": [],
   "source": [
    "# group data with this Transform using a TfmdLists\n",
    "tls = TfmdLists(all_section1, TransformersTokenizer(tokenizer), splits=splits, dl_type=LMDataLoader)"
   ]
  },
  {
   "cell_type": "code",
   "execution_count": 14,
   "metadata": {},
   "outputs": [
    {
     "data": {
      "text/plain": [
       "(tensor([  352,    13,  1867,  9993,  9099,   271,   318,   290,   644,   340,\n",
       "           318,   973,   329,  9993,  9099,   271,   318,   257,  9007,   284,\n",
       "          1037, 12704,   326,  4909,   262,  1115,  4075, 15938,    25,  5595,\n",
       "           307,   565,   908,   292,   505, 19550,  1773,   295,   378,    11,\n",
       "          5595,  1296, 19543,   349,   277,   388, 30748,  2566, 15511,  4873,\n",
       "           290,  5595, 13874, 22163,  2417,  1313,  1505,    13,  1355,   565,\n",
       "           908,   292,   505, 19550,  1773,   295,   378, 14448,   284,   257,\n",
       "          1448,   286, 23533,  1444, 12794,   291,  6197, 10994,   543,   719,\n",
       "           284,  4646,   262, 29844,   290, 35164,   287,   534, 21726,    13,\n",
       "          5178, 19543,   349,   290, 13874, 22163,  2417,  1313,  1505,   389,\n",
       "         23533,  1444,   890,    12, 27362, 18443,   354,   375,   346,  2024,\n",
       "            13,  1119,   719,   287,  1180,  2842,   284,  8960,   262, 12749,\n",
       "           287,   534,  1633,  1322,    11,  5742,   284,  1280,   262,  1633,\n",
       "          1322, 10595,   290,  5086,   345,   284, 18044,   517,  3538,    13,\n",
       "         23603,  3513,   351,   777,  1115,  4075, 15938,  5419,   284, 26958,\n",
       "           290,  2948,  7460,   884,   355,  1790,  1108,   286,  8033,    11,\n",
       "           483,  8471,   278,   290, 22094,   287,  4044,  3871,   351, 10726,\n",
       "         26520,   425, 45105,  4369,   357,    34,  3185,    35,   737,  9993,\n",
       "          9099,   271,   460,  4646, 22907,   602,   357,  2704,   533,    12,\n",
       "          4739,     8,   286, 27975,    35,  7460,    13, 27975,    35,   318,\n",
       "           257,  2726,   890,    12,  3381,  4369,   287,   543,   262,  1633,\n",
       "          1322,  1716, 10226,   290,  1633,  5360,    82,  2641,   262, 21726,\n",
       "          1716,  9694,    11,  3756,   284,  8722, 12704,    13]),\n",
       " tensor([  352,    13,  1867, 10323, 18228,  1040,    64,   318,   290,   644,\n",
       "           340,   318,   973,   329, 10323, 18228,  1040,    64,  4909,   281,\n",
       "          4075,  9136,  1444,  2010,   945,   463,   346,    13,  3433,   945,\n",
       "           463,   346, 14448,   284,   257,  1448,   286, 23533,  1444,   564,\n",
       "           250,    49,  8873, 18967,   589, 40272,   447,   251,    11,   543,\n",
       "           670,   284,  4646,   262,  2033,   286, 11711,  2641,   262,  4151,\n",
       "           290,   523,  2793,   663,  3833,    13, 10323, 18228,  1040,    64,\n",
       "           318,   973,   284,  2793,  3833,   287,   262,  2951,   287,  6490,\n",
       "           508,   423,   281,  4151,  4006,  1900,   355,  1278,   559,   785,\n",
       "            64,   393,   508,   423,  4376,  3833,   287,   511,  2951,    13,\n",
       "          1002,   262,  3833,   287,   262,  4151,   318,  1165,  1029,    11,\n",
       "           340,   460,  2465,   534,  6504,    13]))"
      ]
     },
     "execution_count": 14,
     "metadata": {},
     "output_type": "execute_result"
    }
   ],
   "source": [
    "# in a TfmdLists you can access the elements of the training or validation set quite easily\n",
    "tls.train[0], tls.valid[0]"
   ]
  },
  {
   "cell_type": "code",
   "execution_count": 15,
   "metadata": {},
   "outputs": [
    {
     "data": {
      "text/plain": [
       "(torch.Size([228]), torch.Size([116]))"
      ]
     },
     "execution_count": 15,
     "metadata": {},
     "output_type": "execute_result"
    }
   ],
   "source": [
    "tls.tfms(tls.train.items[0]).shape, tls.tfms(tls.valid.items[0]).shape"
   ]
  },
  {
   "cell_type": "code",
   "execution_count": 16,
   "metadata": {},
   "outputs": [
    {
     "name": "stdout",
     "output_type": "stream",
     "text": [
      " 1. What Trydonis is and what it is used for Trydonis is a medicine to help breathing that contains the three active substances: • beclometasone dipropionate, • formoterol fumarate dihydrate and • glycopyrronium. Beclometasone dipropionate belongs to a group of medicines called corticosteroids which act to reduce the swelling and irritation in your lungs. Formoterol and glycopyrronium are medicines called long-acting bronchodilators. They act in different ways to relax the muscles in your airways, helping to open the airways wider and allowing you to breathe more easily. Regular treatment with these three active substances helps to relieve and prevent symptoms such as shortness of breath, wheezing and cough in adult patients with chronic obstructive pulmonary disease (COPD). Trydonis can reduce exacerbations (flare-ups) of COPD symptoms. COPD is a serious long- term disease in which the airways become blocked and air sacs inside the lungs become damaged, leading to difficulty breathing.\n"
     ]
    }
   ],
   "source": [
    "show_at(tls.train, 0)"
   ]
  },
  {
   "cell_type": "code",
   "execution_count": 17,
   "metadata": {},
   "outputs": [
    {
     "name": "stdout",
     "output_type": "stream",
     "text": [
      " 1. What Rhokiinsa is and what it is used for Rhokiinsa contains an active substance called netarsudil. Netarsudil belongs to a group of medicines called “Rho kinase inhibitors”, which work to reduce the amount of fluid inside the eye and so lower its pressure. Rhokiinsa is used to lower pressure in the eyes in adults who have an eye condition known as glaucoma or who have raised pressure in their eyes. If the pressure in the eye is too high, it can damage your sight.\n"
     ]
    }
   ],
   "source": [
    "show_at(tls.valid, 0)"
   ]
  },
  {
   "cell_type": "code",
   "execution_count": 18,
   "metadata": {},
   "outputs": [],
   "source": [
    "# specify a batch size and a sequence length. (GPT2 model was trained with sequences of size 1024)\n",
    "batch_size = 1\n",
    "sequence_length = 1024\n",
    "\n",
    "# fastai expects the data to be assembled in a DataLoaders object (something that has a training and validation dataloader) \n",
    "# We can get one by using the dataloaders method\n",
    "dls = tls.dataloaders(bs=batch_size, seq_len=sequence_length)"
   ]
  },
  {
   "cell_type": "code",
   "execution_count": 19,
   "metadata": {},
   "outputs": [
    {
     "data": {
      "text/html": [
       "<table border=\"1\" class=\"dataframe\">\n",
       "  <thead>\n",
       "    <tr style=\"text-align: right;\">\n",
       "      <th></th>\n",
       "      <th>text</th>\n",
       "      <th>text_</th>\n",
       "    </tr>\n",
       "  </thead>\n",
       "  <tbody>\n",
       "    <tr>\n",
       "      <th>0</th>\n",
       "      <td>1. What Darunavir Krka d.d. is and what it is used for What is Darunavir Krka d.d.? Darunavir Krka d.d. contains the active substance darunavir. Darunavir Krka d.d. is an antiretroviral medicine used in the treatment of Human Immunodeficiency Virus (HIV) infection. It belongs to a group of medicines called protease inhibitors. Darunavir Krka d.d. works by reducing the amount of HIV in your body. This will improve your immune system and reduces the risk of developing illnesses linked to HIV infection. What it is used for? The Darunavir Krka d.d. 400 and 800 milligram tablets are used to treat adults and children (3 years of age and above, at least 40 kilograms body weight) who are infected by HIV and  who have not used antiretroviral medicines before.  in certain patients who have used antiretroviral medicines before (your doctor will determine this). Darunavir Krka d.d. must be</td>\n",
       "      <td>. What Darunavir Krka d.d. is and what it is used for What is Darunavir Krka d.d.? Darunavir Krka d.d. contains the active substance darunavir. Darunavir Krka d.d. is an antiretroviral medicine used in the treatment of Human Immunodeficiency Virus (HIV) infection. It belongs to a group of medicines called protease inhibitors. Darunavir Krka d.d. works by reducing the amount of HIV in your body. This will improve your immune system and reduces the risk of developing illnesses linked to HIV infection. What it is used for? The Darunavir Krka d.d. 400 and 800 milligram tablets are used to treat adults and children (3 years of age and above, at least 40 kilograms body weight) who are infected by HIV and  who have not used antiretroviral medicines before.  in certain patients who have used antiretroviral medicines before (your doctor will determine this). Darunavir Krka d.d. must be taken</td>\n",
       "    </tr>\n",
       "  </tbody>\n",
       "</table>"
      ],
      "text/plain": [
       "<IPython.core.display.HTML object>"
      ]
     },
     "metadata": {},
     "output_type": "display_data"
    }
   ],
   "source": [
    "# have a look at the data (here texts for inputs, and the same text shifted by one token to the right for validation)\n",
    "dls.show_batch(max_n=2)"
   ]
  },
  {
   "cell_type": "markdown",
   "metadata": {},
   "source": [
    "#### Fine-tuning the model"
   ]
  },
  {
   "cell_type": "code",
   "execution_count": 20,
   "metadata": {
    "id": "JMnpWxa2v7__"
   },
   "outputs": [],
   "source": [
    "\"\"\"\n",
    "The HuggingFace model will return a tuple in outputs, with the actual predictions and some additional activations. \n",
    "To work inside the fastai training loop, we will need to drop those using a Callback\n",
    "\"\"\"\n",
    "\n",
    "class DropOutput(Callback):\n",
    "    def after_pred(self): \n",
    "        \"\"\"\n",
    "        write the event after_pred and replace self.learn.pred (which contains the predss that will be passed to the loss function) \n",
    "        by just its first element.\n",
    "        \"\"\"\n",
    "        self.learn.pred = self.pred[0]"
   ]
  },
  {
   "cell_type": "code",
   "execution_count": 12,
   "metadata": {},
   "outputs": [],
   "source": [
    "### TODO - use a smaller GPT model\n",
    "\n",
    "pretrained_weights = 'gpt2'\n",
    "# tokenizer = GPT2TokenizerFast.from_pretrained(pretrained_weights)\n",
    "model = GPT2LMHeadModel.from_pretrained(pretrained_weights)\n",
    "tokenizer = GPT2Tokenizer.from_pretrained(pretrained_weights)\n",
    "### TODO"
   ]
  },
  {
   "cell_type": "code",
   "execution_count": 20,
   "metadata": {},
   "outputs": [],
   "source": [
    "\"\"\"\n",
    "Learner - fastai object grouping data, model and loss function and handles model training or inference. \n",
    "Pass perplexity as a metric (bc language model setting), and we need to use the callback we just defined. \n",
    "\"\"\"\n",
    "\n",
    "learn = Learner(dls, model, loss_func=CrossEntropyLossFlat(), cbs=[DropOutput], metrics=Perplexity()).to_fp16()"
   ]
  },
  {
   "cell_type": "code",
   "execution_count": 21,
   "metadata": {},
   "outputs": [
    {
     "data": {
      "text/html": [],
      "text/plain": [
       "<IPython.core.display.HTML object>"
      ]
     },
     "metadata": {},
     "output_type": "display_data"
    },
    {
     "data": {
      "text/plain": [
       "(#2) [2.3597071170806885,10.587849617004395]"
      ]
     },
     "execution_count": 21,
     "metadata": {},
     "output_type": "execute_result"
    }
   ],
   "source": [
    "# check how good the model is without any fine-tuning step\n",
    "# lists the validation loss and metrics (e.g. 26.6 as perplexity is kind of amazing)\n",
    "learn.validate()"
   ]
  },
  {
   "cell_type": "code",
   "execution_count": 22,
   "metadata": {},
   "outputs": [
    {
     "data": {
      "text/html": [],
      "text/plain": [
       "<IPython.core.display.HTML object>"
      ]
     },
     "metadata": {},
     "output_type": "display_data"
    },
    {
     "data": {
      "text/plain": [
       "SuggestedLRs(lr_min=0.00020892962347716094, lr_steep=1.0964781722577754e-06)"
      ]
     },
     "execution_count": 22,
     "metadata": {},
     "output_type": "execute_result"
    },
    {
     "data": {
      "image/png": "[encoded data removed]",
      "text/plain": [
       "<Figure size 432x288 with 1 Axes>"
      ]
     },
     "metadata": {
      "needs_background": "light"
     },
     "output_type": "display_data"
    }
   ],
   "source": [
    "# Learning rate finder plots lr vs loss relationship for a Learner. (The idea is to reduce the amount of guesswork on picking a good starting learning rate)\n",
    "# Pick a learning rate before it diverges then start training\n",
    "learn.lr_find()"
   ]
  },
  {
   "cell_type": "code",
   "execution_count": 24,
   "metadata": {},
   "outputs": [
    {
     "data": {
      "text/html": [
       "<table border=\"1\" class=\"dataframe\">\n",
       "  <thead>\n",
       "    <tr style=\"text-align: left;\">\n",
       "      <th>epoch</th>\n",
       "      <th>train_loss</th>\n",
       "      <th>valid_loss</th>\n",
       "      <th>perplexity</th>\n",
       "      <th>time</th>\n",
       "    </tr>\n",
       "  </thead>\n",
       "  <tbody>\n",
       "    <tr>\n",
       "      <td>0</td>\n",
       "      <td>2.454669</td>\n",
       "      <td>1.816596</td>\n",
       "      <td>6.150886</td>\n",
       "      <td>01:12</td>\n",
       "    </tr>\n",
       "  </tbody>\n",
       "</table>"
      ],
      "text/plain": [
       "<IPython.core.display.HTML object>"
      ]
     },
     "metadata": {},
     "output_type": "display_data"
    }
   ],
   "source": [
    "# just one epoch of fine-tuning and not much regularization, our model did not really improve since it was already amazing\n",
    "\n",
    "learn.fit_one_cycle(1, 1e-3)"
   ]
  },
  {
   "cell_type": "code",
   "execution_count": 45,
   "metadata": {},
   "outputs": [
    {
     "data": {
      "text/html": [],
      "text/plain": [
       "<IPython.core.display.HTML object>"
      ]
     },
     "metadata": {},
     "output_type": "display_data"
    },
    {
     "data": {
      "text/plain": [
       "(#2) [1.8165961503982544,6.150886058807373]"
      ]
     },
     "execution_count": 45,
     "metadata": {},
     "output_type": "execute_result"
    }
   ],
   "source": [
    "learn.validate()"
   ]
  },
  {
   "cell_type": "markdown",
   "metadata": {},
   "source": [
    "#### Test generation given how the section begins"
   ]
  },
  {
   "cell_type": "code",
   "execution_count": 43,
   "metadata": {
    "id": "4coWuh9lv6pj"
   },
   "outputs": [
    {
     "data": {
      "text/plain": [
       "torch.Size([1, 14])"
      ]
     },
     "execution_count": 43,
     "metadata": {},
     "output_type": "execute_result"
    }
   ],
   "source": [
    "# create prompt that looks like the begining of a section1 to generate text:\n",
    "prompt = ' 1. What Trydonis is and what it is used for '\n",
    "\n",
    "# prompt needs to be tokenized and numericalized\n",
    "prompt_ids = tokenizer.encode(prompt)\n",
    "\n",
    "# input - LongTensor\n",
    "prompt_ids = torch.LongTensor(prompt_ids)[None].cuda()\n",
    "\n",
    "prompt_ids.shape"
   ]
  },
  {
   "cell_type": "code",
   "execution_count": 44,
   "metadata": {},
   "outputs": [
    {
     "name": "stderr",
     "output_type": "stream",
     "text": [
      "Setting `pad_token_id` to `eos_token_id`:50256 for open-end generation.\n"
     ]
    },
    {
     "name": "stdout",
     "output_type": "stream",
     "text": [
      "Output:\n",
      "----------------------------------------------------------------------------------------------------\n",
      " 1. What Trydonis is and what it is used for erythropoietin belongs to a group of medicines called antipsychotics. It is used to treat schizophrenia in adults and adolescents aged 12 years and older. It works by reducing the amount of antipsychotic medication you have taken and by increasing your ability to communicate with each other. This medicine works by helping to control the level of dopamine in your brain and by helping to prevent your symptoms from coming back. If you have any questions about how Trydonis works or why this medicine has been prescribed for you, ask your doctor or pharmacist. 1. What Nivestig is and how it works NivestIG contains the active substance nivestig which belongs to a class of medicines called dopamine agonists (DPA), which are used to treat Parkinson’s disease (PDD) in adults, adolescents and children aged 2 years and above. This medicine acts on dopamine receptors in the brain, which are involved in helping your brain to make better use of the dopamine it produces. This medicine is used in adults and children aged 6 years and above, to treat the symptoms of the disease, such as hearing, seeing or sensing things which are not there, mistaken beliefs, unusual suspiciousness, incoherent speech and behaviour. This medicine can also be used in combination with other medicines, such as methotrexate (another medicine for dopamine agonists) to treat the signs and symptoms of Parkinson’\n"
     ]
    }
   ],
   "source": [
    "beam_output_test = learn.model.generate(\n",
    "                    prompt_ids,\n",
    "                    max_length=300,\n",
    "                    num_beams=5,\n",
    "                    no_repeat_ngram_size=4,\n",
    "                    early_stopping=True,\n",
    "                    temperature=0.5\n",
    ")\n",
    "\n",
    "print(\"Output:\\n\" + 100 * '-')\n",
    "print(tokenizer.decode(beam_output_test[0], skip_special_tokens=True))"
   ]
  },
  {
   "cell_type": "code",
   "execution_count": 34,
   "metadata": {},
   "outputs": [
    {
     "name": "stdout",
     "output_type": "stream",
     "text": [
      " 1. What Trydonis is and what it is used for Trydonis is a medicine to help breathing that contains the three active substances: • beclometasone dipropionate, • formoterol fumarate dihydrate and • glycopyrronium. Beclometasone dipropionate belongs to a group of medicines called corticosteroids which act to reduce the swelling and irritation in your lungs. Formoterol and glycopyrronium are medicines called long-acting bronchodilators. They act in different ways to relax the muscles in your airways, helping to open the airways wider and allowing you to breathe more easily. Regular treatment with these three active substances helps to relieve and prevent symptoms such as shortness of breath, wheezing and cough in adult patients with chronic obstructive pulmonary disease (COPD). Trydonis can reduce exacerbations (flare-ups) of COPD symptoms. COPD is a serious long- term disease in which the airways become blocked and air sacs inside the lungs become damaged, leading to difficulty breathing.\n"
     ]
    }
   ],
   "source": [
    "# find reference section1, drug = 'Trydonis'\n",
    "for leaflet in loaded_package_leaflets[:600]:\n",
    "    if leaflet.product_name == 'Trydonis':\n",
    "        leaflet.print_section1()"
   ]
  },
  {
   "cell_type": "markdown",
   "metadata": {},
   "source": [
    "#### Try again fine-tuning for 1 epoch"
   ]
  },
  {
   "cell_type": "code",
   "execution_count": 46,
   "metadata": {},
   "outputs": [
    {
     "data": {
      "text/html": [],
      "text/plain": [
       "<IPython.core.display.HTML object>"
      ]
     },
     "metadata": {},
     "output_type": "display_data"
    },
    {
     "data": {
      "text/plain": [
       "SuggestedLRs(lr_min=0.012022644281387329, lr_steep=0.10000000149011612)"
      ]
     },
     "execution_count": 46,
     "metadata": {},
     "output_type": "execute_result"
    },
    {
     "data": {
      "image/png": "[encoded data removed]",
      "text/plain": [
       "<Figure size 432x288 with 1 Axes>"
      ]
     },
     "metadata": {
      "needs_background": "light"
     },
     "output_type": "display_data"
    }
   ],
   "source": [
    "learn.lr_find()"
   ]
  },
  {
   "cell_type": "code",
   "execution_count": 47,
   "metadata": {},
   "outputs": [
    {
     "data": {
      "text/html": [
       "<table border=\"1\" class=\"dataframe\">\n",
       "  <thead>\n",
       "    <tr style=\"text-align: left;\">\n",
       "      <th>epoch</th>\n",
       "      <th>train_loss</th>\n",
       "      <th>valid_loss</th>\n",
       "      <th>perplexity</th>\n",
       "      <th>time</th>\n",
       "    </tr>\n",
       "  </thead>\n",
       "  <tbody>\n",
       "    <tr>\n",
       "      <td>0</td>\n",
       "      <td>2.067131</td>\n",
       "      <td>1.943096</td>\n",
       "      <td>6.980330</td>\n",
       "      <td>01:11</td>\n",
       "    </tr>\n",
       "  </tbody>\n",
       "</table>"
      ],
      "text/plain": [
       "<IPython.core.display.HTML object>"
      ]
     },
     "metadata": {},
     "output_type": "display_data"
    }
   ],
   "source": [
    "learn.fit_one_cycle(1, 1e-3)"
   ]
  },
  {
   "cell_type": "code",
   "execution_count": 48,
   "metadata": {},
   "outputs": [
    {
     "data": {
      "text/html": [],
      "text/plain": [
       "<IPython.core.display.HTML object>"
      ]
     },
     "metadata": {},
     "output_type": "display_data"
    },
    {
     "data": {
      "text/plain": [
       "(#2) [1.9430961608886719,6.980329990386963]"
      ]
     },
     "execution_count": 48,
     "metadata": {},
     "output_type": "execute_result"
    }
   ],
   "source": [
    "learn.validate()"
   ]
  },
  {
   "cell_type": "markdown",
   "metadata": {},
   "source": [
    "perplexity - UP ?"
   ]
  },
  {
   "cell_type": "code",
   "execution_count": 55,
   "metadata": {},
   "outputs": [
    {
     "name": "stderr",
     "output_type": "stream",
     "text": [
      "Setting `pad_token_id` to `eos_token_id`:50256 for open-end generation.\n"
     ]
    },
    {
     "name": "stdout",
     "output_type": "stream",
     "text": [
      "Output:\n",
      "----------------------------------------------------------------------------------------------------\n",
      " 1. What Trydonis is and what it is used for ertin belongs to a group of medicines called ‘oral anticoagulants� which are used for the treatment of adult patients with type 2 diabetes mellitus (a type of diabetes that affects the blood vessels in the heart) in adults, adolescents and children aged 2 years and older who are unable to take a medicine called insulin because they are not able to make enough insulin to control blood sugar (glucose) levels in the blood which can lead to a heart attack, heart failure, heart disease, kidney disease, blindness, blindness or blindness in the eye, heart or kidney that is damaged or damaged in some parts of the body which may lead to heart disease or kidney disease in people who are at high risk for heart disease and kidney disease who have not been previously treated with other medicines, such as metformin or sulphonylurea (another medicine used to treat diabetes in adult patients) or insulin (another type of insulin used to help control blood glucose levels in people with type 1 diabetes who have already been treated with another type of medicine called a ‘non-insulin dependent insulin receptor agonist’ which is a type of hormone produced in the pancreas which helps the body make better use of the insulin it produces in the body. This hormone is produced in your body which helps your body make more insulin which is then made in your blood which helps to control your blood sugar levels in\n"
     ]
    }
   ],
   "source": [
    "beam_output_test_2 = learn.model.generate(\n",
    "                    prompt_ids,\n",
    "                    max_length=300,\n",
    "                    num_beams=5,\n",
    "                    no_repeat_ngram_size=3,\n",
    "                    early_stopping=True,\n",
    "                    temperature=0.5\n",
    ")\n",
    "\n",
    "print(\"Output:\\n\" + 100 * '-')\n",
    "print(tokenizer.decode(beam_output_test_2[0], skip_special_tokens=True))"
   ]
  },
  {
   "cell_type": "markdown",
   "metadata": {},
   "source": [
    "#### Try again fine-tuning for 1 more epoch"
   ]
  },
  {
   "cell_type": "code",
   "execution_count": 56,
   "metadata": {},
   "outputs": [
    {
     "data": {
      "text/html": [],
      "text/plain": [
       "<IPython.core.display.HTML object>"
      ]
     },
     "metadata": {},
     "output_type": "display_data"
    },
    {
     "data": {
      "text/plain": [
       "SuggestedLRs(lr_min=2.2908675418875645e-07, lr_steep=1.5848931980144698e-06)"
      ]
     },
     "execution_count": 56,
     "metadata": {},
     "output_type": "execute_result"
    },
    {
     "data": {
      "image/png": "[encoded data removed]",
      "text/plain": [
       "<Figure size 432x288 with 1 Axes>"
      ]
     },
     "metadata": {
      "needs_background": "light"
     },
     "output_type": "display_data"
    }
   ],
   "source": [
    "learn.lr_find()"
   ]
  },
  {
   "cell_type": "code",
   "execution_count": 57,
   "metadata": {},
   "outputs": [
    {
     "data": {
      "text/html": [
       "<table border=\"1\" class=\"dataframe\">\n",
       "  <thead>\n",
       "    <tr style=\"text-align: left;\">\n",
       "      <th>epoch</th>\n",
       "      <th>train_loss</th>\n",
       "      <th>valid_loss</th>\n",
       "      <th>perplexity</th>\n",
       "      <th>time</th>\n",
       "    </tr>\n",
       "  </thead>\n",
       "  <tbody>\n",
       "    <tr>\n",
       "      <td>0</td>\n",
       "      <td>8.440320</td>\n",
       "      <td>9.077868</td>\n",
       "      <td>8759.267578</td>\n",
       "      <td>01:11</td>\n",
       "    </tr>\n",
       "  </tbody>\n",
       "</table>"
      ],
      "text/plain": [
       "<IPython.core.display.HTML object>"
      ]
     },
     "metadata": {},
     "output_type": "display_data"
    }
   ],
   "source": [
    "learn.fit_one_cycle(1, 2.2)"
   ]
  },
  {
   "cell_type": "code",
   "execution_count": 58,
   "metadata": {},
   "outputs": [
    {
     "data": {
      "text/html": [],
      "text/plain": [
       "<IPython.core.display.HTML object>"
      ]
     },
     "metadata": {},
     "output_type": "display_data"
    },
    {
     "data": {
      "text/plain": [
       "(#2) [9.07786750793457,8759.267578125]"
      ]
     },
     "execution_count": 58,
     "metadata": {},
     "output_type": "execute_result"
    }
   ],
   "source": [
    "learn.validate()"
   ]
  },
  {
   "cell_type": "markdown",
   "metadata": {},
   "source": [
    "perplexity - BOOM!"
   ]
  },
  {
   "cell_type": "code",
   "execution_count": 59,
   "metadata": {},
   "outputs": [
    {
     "name": "stderr",
     "output_type": "stream",
     "text": [
      "Setting `pad_token_id` to `eos_token_id`:50256 for open-end generation.\n"
     ]
    },
    {
     "name": "stdout",
     "output_type": "stream",
     "text": [
      "Output:\n",
      "----------------------------------------------------------------------------------------------------\n",
      " 1. What Trydonis is and what it is used for ertin belongs to a group of medicines called ‘oral anticoagulants� which are used for the treatment of adult patients with type 2 diabetes mellitus (a type of diabetes that affects the blood vessels in the heart) in adults, adolescents and children aged 2 years and older who are unable to take a medicine called insulin because they are not able to make enough insulin to control blood sugar (glucose) levels in the blood which can lead to a heart attack, heart failure, heart disease, kidney disease, blindness, blindness or blindness in the eye, heart or kidney that is damaged or damaged in some parts of the body which may lead to heart disease or kidney disease in people who are at high risk for heart disease and kidney disease who have not been previously treated with other medicines, such as metformin or sulphonylurea (another medicine used to treat diabetes in adult patients) or insulin (another type of insulin used to help control blood glucose levels in people with type 1 diabetes who have already been treated with another type of medicine called a ‘non-insulin dependent insulin receptor agonist’ which is a type of hormone produced in the pancreas which helps the body make better use of the insulin it produces in the body. This hormone is produced in your body which helps your body make more insulin which is then made in your blood which helps to control your blood sugar levels in\n"
     ]
    }
   ],
   "source": [
    "beam_output_test_3 = learn.model.generate(\n",
    "                    prompt_ids,\n",
    "                    max_length=300,\n",
    "                    num_beams=5,\n",
    "                    no_repeat_ngram_size=3,\n",
    "                    early_stopping=True,\n",
    "                    temperature=0.5\n",
    ")\n",
    "\n",
    "print(\"Output:\\n\" + 100 * '-')\n",
    "print(tokenizer.decode(beam_output_test_2[0], skip_special_tokens=True))"
   ]
  },
  {
   "cell_type": "code",
   "execution_count": null,
   "metadata": {},
   "outputs": [],
   "source": []
  },
  {
   "cell_type": "code",
   "execution_count": null,
   "metadata": {},
   "outputs": [],
   "source": []
  },
  {
   "cell_type": "code",
   "execution_count": null,
   "metadata": {},
   "outputs": [],
   "source": []
  },
  {
   "cell_type": "code",
   "execution_count": null,
   "metadata": {
    "id": "GCTrc2PFqUH3"
   },
   "outputs": [],
   "source": []
  },
  {
   "cell_type": "code",
   "execution_count": null,
   "metadata": {
    "id": "1OvKGUqQj0Bc"
   },
   "outputs": [],
   "source": []
  },
  {
   "cell_type": "code",
   "execution_count": 3,
   "metadata": {
    "id": "Wq86N3nfTFQC",
    "nbpresent": {
     "id": "6ceb4db2-e4cf-4fe0-a393-91df4a7ed3e7"
    },
    "outputId": "e552e335-3f56-4ce0-d234-acf6efde8ae8"
   },
   "outputs": [
    {
     "name": "stdout",
     "output_type": "stream",
     "text": [
      "cuda device: 0\n"
     ]
    }
   ],
   "source": [
    "gpu = 0\n",
    "torch.cuda.set_device(gpu)\n",
    "print(f'cuda device: {torch.cuda.current_device()}')\n",
    "# print(f'cuda device name: {torch.cuda.get_device_name(gpu)}')"
   ]
  },
  {
   "cell_type": "code",
   "execution_count": 4,
   "metadata": {},
   "outputs": [
    {
     "data": {
      "text/plain": [
       "0"
      ]
     },
     "execution_count": 4,
     "metadata": {},
     "output_type": "execute_result"
    }
   ],
   "source": [
    "torch.cuda.current_device()"
   ]
  },
  {
   "cell_type": "code",
   "execution_count": 5,
   "metadata": {},
   "outputs": [
    {
     "data": {
      "text/plain": [
       "<torch.cuda.device at 0x7f5b2815f6d0>"
      ]
     },
     "execution_count": 5,
     "metadata": {},
     "output_type": "execute_result"
    }
   ],
   "source": [
    "torch.cuda.device(0)"
   ]
  },
  {
   "cell_type": "code",
   "execution_count": 6,
   "metadata": {},
   "outputs": [
    {
     "data": {
      "text/plain": [
       "1"
      ]
     },
     "execution_count": 6,
     "metadata": {},
     "output_type": "execute_result"
    }
   ],
   "source": [
    "torch.cuda.device_count()"
   ]
  },
  {
   "cell_type": "code",
   "execution_count": 7,
   "metadata": {},
   "outputs": [
    {
     "data": {
      "text/plain": [
       "'Tesla M60'"
      ]
     },
     "execution_count": 7,
     "metadata": {},
     "output_type": "execute_result"
    }
   ],
   "source": [
    "torch.cuda.get_device_name(0)"
   ]
  },
  {
   "cell_type": "code",
   "execution_count": 8,
   "metadata": {},
   "outputs": [
    {
     "data": {
      "text/plain": [
       "True"
      ]
     },
     "execution_count": 8,
     "metadata": {},
     "output_type": "execute_result"
    }
   ],
   "source": [
    "torch.cuda.is_available()"
   ]
  },
  {
   "cell_type": "markdown",
   "metadata": {},
   "source": [
    "torch.cuda.current_device()\n",
    "\n",
    "torch.cuda.device(0)\n",
    "\n",
    "torch.cuda.device_count()\n",
    "\n",
    "torch.cuda.get_device_name(0)\n",
    "\n",
    "torch.cuda.is_available()\n"
   ]
  },
  {
   "cell_type": "code",
   "execution_count": null,
   "metadata": {},
   "outputs": [],
   "source": []
  },
  {
   "cell_type": "code",
   "execution_count": null,
   "metadata": {},
   "outputs": [],
   "source": []
  },
  {
   "cell_type": "code",
   "execution_count": null,
   "metadata": {},
   "outputs": [],
   "source": []
  },
  {
   "cell_type": "code",
   "execution_count": null,
   "metadata": {},
   "outputs": [],
   "source": []
  },
  {
   "cell_type": "code",
   "execution_count": null,
   "metadata": {},
   "outputs": [],
   "source": []
  },
  {
   "cell_type": "code",
   "execution_count": null,
   "metadata": {},
   "outputs": [],
   "source": []
  },
  {
   "cell_type": "code",
   "execution_count": null,
   "metadata": {},
   "outputs": [],
   "source": []
  },
  {
   "cell_type": "code",
   "execution_count": null,
   "metadata": {},
   "outputs": [],
   "source": []
  },
  {
   "cell_type": "code",
   "execution_count": null,
   "metadata": {},
   "outputs": [],
   "source": []
  },
  {
   "cell_type": "code",
   "execution_count": null,
   "metadata": {},
   "outputs": [],
   "source": []
  },
  {
   "cell_type": "code",
   "execution_count": null,
   "metadata": {},
   "outputs": [],
   "source": []
  },
  {
   "cell_type": "code",
   "execution_count": null,
   "metadata": {},
   "outputs": [],
   "source": []
  },
  {
   "cell_type": "code",
   "execution_count": null,
   "metadata": {},
   "outputs": [],
   "source": []
  },
  {
   "cell_type": "code",
   "execution_count": null,
   "metadata": {},
   "outputs": [],
   "source": []
  },
  {
   "cell_type": "code",
   "execution_count": null,
   "metadata": {},
   "outputs": [],
   "source": []
  },
  {
   "cell_type": "code",
   "execution_count": null,
   "metadata": {},
   "outputs": [],
   "source": []
  },
  {
   "cell_type": "code",
   "execution_count": null,
   "metadata": {},
   "outputs": [],
   "source": []
  },
  {
   "cell_type": "code",
   "execution_count": null,
   "metadata": {},
   "outputs": [],
   "source": []
  },
  {
   "cell_type": "code",
   "execution_count": null,
   "metadata": {},
   "outputs": [],
   "source": []
  },
  {
   "cell_type": "code",
   "execution_count": null,
   "metadata": {},
   "outputs": [],
   "source": []
  },
  {
   "cell_type": "code",
   "execution_count": null,
   "metadata": {},
   "outputs": [],
   "source": []
  },
  {
   "cell_type": "code",
   "execution_count": null,
   "metadata": {},
   "outputs": [],
   "source": []
  },
  {
   "cell_type": "code",
   "execution_count": null,
   "metadata": {},
   "outputs": [],
   "source": []
  },
  {
   "cell_type": "code",
   "execution_count": null,
   "metadata": {},
   "outputs": [],
   "source": []
  },
  {
   "cell_type": "code",
   "execution_count": null,
   "metadata": {},
   "outputs": [],
   "source": []
  },
  {
   "cell_type": "code",
   "execution_count": null,
   "metadata": {},
   "outputs": [],
   "source": []
  },
  {
   "cell_type": "markdown",
   "metadata": {
    "id": "vobMqRl4TFXF"
   },
   "source": [
    "We can check how good the model is without any fine-tuning step."
   ]
  },
  {
   "cell_type": "code",
   "execution_count": null,
   "metadata": {
    "id": "cpImaX9oTFXF",
    "outputId": "b2153171-7bc1-41ed-fc91-1f62ce608aad"
   },
   "outputs": [
    {
     "data": {
      "text/html": [],
      "text/plain": [
       "<IPython.core.display.HTML object>"
      ]
     },
     "metadata": {
      "tags": []
     },
     "output_type": "display_data"
    },
    {
     "name": "stdout",
     "output_type": "stream",
     "text": [
      "CPU times: user 4h 45min 53s, sys: 1h 1min 36s, total: 5h 47min 30s\n",
      "Wall time: 53min 2s\n"
     ]
    },
    {
     "data": {
      "text/plain": [
       "(#3) [9.949938774108887,0.09898579120635986,20950.939453125]"
      ]
     },
     "execution_count": 97,
     "metadata": {
      "tags": []
     },
     "output_type": "execute_result"
    }
   ],
   "source": [
    "%%time\n",
    "# loss, accuracy, Perplexity() of validation dataset\n",
    "learn.validate()"
   ]
  },
  {
   "cell_type": "markdown",
   "metadata": {
    "id": "e3IvGmD2TFXJ"
   },
   "source": [
    "- Loss = 9.95\n",
    "- accuracy = 0.099\n",
    "- perplexity = 20950.94"
   ]
  },
  {
   "cell_type": "markdown",
   "metadata": {
    "id": "-TzGlG4-TFXK"
   },
   "source": [
    "Now that we have a `Learner`, we will use during training all the **fine-tuning techniques** seen for classification model training (see the notebook [10_nlp.ipynb](https://github.com/fastai/fastbook/blob/master/10_nlp.ipynb) about \"NLP Deep Dive: RNNs\") to take advantage of the **Transfer Learning** of the GPT-2 pre-trained embeddings and model from Hugging Face Transformers:\n",
    "- **learning rate finder** (method that helps finding the best learning rate to train the model)\n",
    "- **Mixed precision training** (some of the operations will be done in FP16, others in FP32 in order to speed up the training)\n",
    "- **gradual unfreezing** (the model has 4 layers groups created by our method `splitter` : the embedding one and the 3 groups of 4 decoder blocks each)\n",
    "- **1cycle policy** with the method [fit_one_cycle()](https://dev.fast.ai/callback.schedule#Learner.fit_one_cycle) (The 1cycle policy was introduced by Leslie N. Smith et al. in <a href=\"https://arxiv.org/abs/1708.07120\">Super-Convergence: Very Fast Training of Neural Networks Using Large Learning Rates</a>. It schedules the learning rate with a cosine annealing from `lr_max/div` to `lr_max` then `lr_max/div_final` (pass an array to `lr_max` if you want to use differential learning rates) and the momentum with cosine annealing according to the values in `moms`. The first phase takes `pct_start` of the training. You can optionally pass additional `cbs` and `reset_opt`.)\n",
    "- **differential learning rates** (each layers group with a learning rate different: the biggest one for the embeddings group, and the smallest one for the first 4 decoder blocks)"
   ]
  },
  {
   "cell_type": "markdown",
   "metadata": {
    "id": "CnNpMR9ATFXM"
   },
   "source": [
    "##### 6.2.1 Freeze all layers but the last layers group (do not freeze `wte`, `wpe` embeddings matrices and last `LayerNorm`)"
   ]
  },
  {
   "cell_type": "code",
   "execution_count": null,
   "metadata": {
    "id": "6m445LIuTFXN",
    "outputId": "8f39c9cd-499c-420e-ba02-40c993f30204"
   },
   "outputs": [
    {
     "data": {
      "text/html": [],
      "text/plain": [
       "<IPython.core.display.HTML object>"
      ]
     },
     "metadata": {
      "tags": []
     },
     "output_type": "display_data"
    },
    {
     "name": "stdout",
     "output_type": "stream",
     "text": [
      "CPU times: user 4min 21s, sys: 58.9 s, total: 5min 20s\n",
      "Wall time: 1min 5s\n"
     ]
    },
    {
     "data": {
      "text/plain": [
       "SuggestedLRs(lr_min=0.005754399299621582, lr_steep=2.2908675418875646e-06)"
      ]
     },
     "execution_count": 15,
     "metadata": {
      "tags": []
     },
     "output_type": "execute_result"
    },
    {
     "data": {
      "image/png": "[encoded data removed]",
      "text/plain": [
       "<Figure size 432x288 with 1 Axes>"
      ]
     },
     "metadata": {
      "needs_background": "light",
      "tags": []
     },
     "output_type": "display_data"
    }
   ],
   "source": [
    "%%time\n",
    "learn.freeze()\n",
    "learn.lr_find()"
   ]
  },
  {
   "cell_type": "markdown",
   "metadata": {
    "id": "F6Eb5J8vTFXT"
   },
   "source": [
    "The learning rate finder curve suggests picking a lr min of 6e-3. Let's use 2e-3."
   ]
  },
  {
   "cell_type": "code",
   "execution_count": null,
   "metadata": {
    "id": "DL89VQ6YTFXU",
    "outputId": "4503323e-191b-4104-a8dc-64974c87b3aa"
   },
   "outputs": [
    {
     "data": {
      "text/html": [
       "<table border=\"1\" class=\"dataframe\">\n",
       "  <thead>\n",
       "    <tr style=\"text-align: left;\">\n",
       "      <th>epoch</th>\n",
       "      <th>train_loss</th>\n",
       "      <th>valid_loss</th>\n",
       "      <th>accuracy</th>\n",
       "      <th>perplexity</th>\n",
       "      <th>time</th>\n",
       "    </tr>\n",
       "  </thead>\n",
       "  <tbody>\n",
       "    <tr>\n",
       "      <td>0</td>\n",
       "      <td>3.803344</td>\n",
       "      <td>3.640777</td>\n",
       "      <td>0.325177</td>\n",
       "      <td>38.121441</td>\n",
       "      <td>5:48:31</td>\n",
       "    </tr>\n",
       "  </tbody>\n",
       "</table>"
      ],
      "text/plain": [
       "<IPython.core.display.HTML object>"
      ]
     },
     "metadata": {
      "tags": []
     },
     "output_type": "display_data"
    },
    {
     "name": "stderr",
     "output_type": "stream",
     "text": [
      "IOPub message rate exceeded.\n",
      "The notebook server will temporarily stop sending output\n",
      "to the client in order to avoid crashing it.\n",
      "To change this limit, set the config variable\n",
      "`--NotebookApp.iopub_msg_rate_limit`.\n",
      "\n",
      "Current values:\n",
      "NotebookApp.iopub_msg_rate_limit=1000.0 (msgs/sec)\n",
      "NotebookApp.rate_limit_window=3.0 (secs)\n",
      "\n"
     ]
    }
   ],
   "source": [
    "learn.fit_one_cycle(1, 2e-3)"
   ]
  },
  {
   "cell_type": "code",
   "execution_count": null,
   "metadata": {
    "id": "fL5-vGqJTFXa",
    "outputId": "36afe584-45c7-4c53-f2f8-8c8a83d7bb49"
   },
   "outputs": [
    {
     "data": {
      "image/png": "[encoded data removed]",
      "text/plain": [
       "<Figure size 432x288 with 1 Axes>"
      ]
     },
     "metadata": {
      "needs_background": "light",
      "tags": []
     },
     "output_type": "display_data"
    }
   ],
   "source": [
    "#hide\n",
    "learn.recorder.plot_loss()"
   ]
  },
  {
   "cell_type": "markdown",
   "metadata": {
    "id": "cHnInG2yTFXg"
   },
   "source": [
    "In just **one epoch**, our model passed \n",
    "- from an accuracy of 9.90% to **32.52%**\n",
    "- from a perplexity of 20950.94 to **38.12**\n",
    "\n",
    "Not too bad! \n",
    "\n",
    "Now, We can pass `-2` to `freeze_to` to freeze all except the last two parameter groups."
   ]
  },
  {
   "cell_type": "code",
   "execution_count": null,
   "metadata": {
    "id": "vfNDWiZiTFXh"
   },
   "outputs": [],
   "source": [
    "learn.save(path_data/'GPT2_pt_1epoch_lr2e-3')\n",
    "learn = learn.load(path_data/'GPT2_pt_1epoch_lr2e-3')"
   ]
  },
  {
   "cell_type": "markdown",
   "metadata": {
    "id": "3A0Cg-mpTFXt"
   },
   "source": [
    "##### 6.2.2 Freeze all layers but the last 2 layers groups"
   ]
  },
  {
   "cell_type": "code",
   "execution_count": null,
   "metadata": {
    "id": "lfgzl_GcTFXt",
    "outputId": "b7292974-7396-429e-9734-5bf00d89dffc"
   },
   "outputs": [
    {
     "data": {
      "text/html": [
       "<table border=\"1\" class=\"dataframe\">\n",
       "  <thead>\n",
       "    <tr style=\"text-align: left;\">\n",
       "      <th>epoch</th>\n",
       "      <th>train_loss</th>\n",
       "      <th>valid_loss</th>\n",
       "      <th>accuracy</th>\n",
       "      <th>perplexity</th>\n",
       "      <th>time</th>\n",
       "    </tr>\n",
       "  </thead>\n",
       "  <tbody>\n",
       "    <tr>\n",
       "      <td>0</td>\n",
       "      <td>3.453913</td>\n",
       "      <td>3.301886</td>\n",
       "      <td>0.362879</td>\n",
       "      <td>27.163816</td>\n",
       "      <td>5:38:18</td>\n",
       "    </tr>\n",
       "  </tbody>\n",
       "</table>"
      ],
      "text/plain": [
       "<IPython.core.display.HTML object>"
      ]
     },
     "metadata": {
      "tags": []
     },
     "output_type": "display_data"
    }
   ],
   "source": [
    "learn.freeze_to(-2)\n",
    "learn.fit_one_cycle(1, slice(1e-3/(2.6**4),1e-3))"
   ]
  },
  {
   "cell_type": "code",
   "execution_count": null,
   "metadata": {
    "id": "kankH_XITFX1",
    "outputId": "59bf2210-af10-4cbe-d6ea-3cc065ff5470",
    "scrolled": false
   },
   "outputs": [
    {
     "data": {
      "image/png": "[encoded data removed]",
      "text/plain": [
       "<Figure size 432x288 with 1 Axes>"
      ]
     },
     "metadata": {
      "needs_background": "light",
      "tags": []
     },
     "output_type": "display_data"
    }
   ],
   "source": [
    "#hide\n",
    "learn.recorder.plot_loss()"
   ]
  },
  {
   "cell_type": "code",
   "execution_count": null,
   "metadata": {
    "id": "WlB2ArnfTFX9"
   },
   "outputs": [],
   "source": [
    "learn.save(path_data/'GPT2_pt_2epoch_lr1e-3')\n",
    "learn = learn.load(path_data/'GPT2_pt_2epoch_lr1e-3')"
   ]
  },
  {
   "cell_type": "markdown",
   "metadata": {
    "id": "GlkTrrDATFYB"
   },
   "source": [
    "##### 6.2.3 Freeze all layers but the last 3 layers groups"
   ]
  },
  {
   "cell_type": "code",
   "execution_count": null,
   "metadata": {
    "id": "aW8RplR-TFYC",
    "outputId": "09916bd0-9f5c-4897-bd10-f71f56485925",
    "scrolled": true
   },
   "outputs": [
    {
     "data": {
      "text/html": [
       "<table border=\"1\" class=\"dataframe\">\n",
       "  <thead>\n",
       "    <tr style=\"text-align: left;\">\n",
       "      <th>epoch</th>\n",
       "      <th>train_loss</th>\n",
       "      <th>valid_loss</th>\n",
       "      <th>accuracy</th>\n",
       "      <th>perplexity</th>\n",
       "      <th>time</th>\n",
       "    </tr>\n",
       "  </thead>\n",
       "  <tbody>\n",
       "    <tr>\n",
       "      <td>0</td>\n",
       "      <td>3.333389</td>\n",
       "      <td>3.207390</td>\n",
       "      <td>0.374579</td>\n",
       "      <td>24.714487</td>\n",
       "      <td>6:20:51</td>\n",
       "    </tr>\n",
       "  </tbody>\n",
       "</table>"
      ],
      "text/plain": [
       "<IPython.core.display.HTML object>"
      ]
     },
     "metadata": {
      "tags": []
     },
     "output_type": "display_data"
    }
   ],
   "source": [
    "learn.freeze_to(-3)\n",
    "learn.fit_one_cycle(1, slice(5e-4/(2.6**4),5e-4))"
   ]
  },
  {
   "cell_type": "code",
   "execution_count": null,
   "metadata": {
    "id": "K4j6m6JoTFYF",
    "outputId": "4474cb2b-f10e-47cc-d144-f016d4583296"
   },
   "outputs": [
    {
     "data": {
      "image/png": "[encoded data removed]",
      "text/plain": [
       "<Figure size 432x288 with 1 Axes>"
      ]
     },
     "metadata": {
      "needs_background": "light",
      "tags": []
     },
     "output_type": "display_data"
    }
   ],
   "source": [
    "#hide\n",
    "learn.recorder.plot_loss()"
   ]
  },
  {
   "cell_type": "code",
   "execution_count": null,
   "metadata": {
    "id": "eeaQJt6UTFYH"
   },
   "outputs": [],
   "source": [
    "learn.save(path_data/'GPT2_pt_3epoch_lr5e-4')\n",
    "learn = learn.load(path_data/'GPT2_pt_3epoch_lr5e-4')"
   ]
  },
  {
   "cell_type": "markdown",
   "metadata": {
    "id": "jz_7-O9lTFYJ"
   },
   "source": [
    "##### 6.2.4 Unfreeze all layers"
   ]
  },
  {
   "cell_type": "code",
   "execution_count": null,
   "metadata": {
    "id": "yVsTQCepTFYK",
    "outputId": "92df004e-8ca1-4826-8801-cfd7601aa3a4"
   },
   "outputs": [
    {
     "data": {
      "text/html": [
       "<table border=\"1\" class=\"dataframe\">\n",
       "  <thead>\n",
       "    <tr style=\"text-align: left;\">\n",
       "      <th>epoch</th>\n",
       "      <th>train_loss</th>\n",
       "      <th>valid_loss</th>\n",
       "      <th>accuracy</th>\n",
       "      <th>perplexity</th>\n",
       "      <th>time</th>\n",
       "    </tr>\n",
       "  </thead>\n",
       "  <tbody>\n",
       "    <tr>\n",
       "      <td>0</td>\n",
       "      <td>3.288433</td>\n",
       "      <td>3.186721</td>\n",
       "      <td>0.377380</td>\n",
       "      <td>24.208906</td>\n",
       "      <td>6:06:29</td>\n",
       "    </tr>\n",
       "    <tr>\n",
       "      <td>1</td>\n",
       "      <td>3.232569</td>\n",
       "      <td>3.167864</td>\n",
       "      <td>0.379885</td>\n",
       "      <td>23.756687</td>\n",
       "      <td>6:16:22</td>\n",
       "    </tr>\n",
       "  </tbody>\n",
       "</table>"
      ],
      "text/plain": [
       "<IPython.core.display.HTML object>"
      ]
     },
     "metadata": {
      "tags": []
     },
     "output_type": "display_data"
    }
   ],
   "source": [
    "learn.unfreeze()\n",
    "learn.fit_one_cycle(2, slice(1e-4/(2.6**4),1e-4))"
   ]
  },
  {
   "cell_type": "code",
   "execution_count": null,
   "metadata": {
    "id": "NHF57bCkTFYS",
    "outputId": "2451204d-e531-4f5f-8c38-da6faa4beb17"
   },
   "outputs": [
    {
     "data": {
      "image/png": "[encoded data removed]",
      "text/plain": [
       "<Figure size 432x288 with 1 Axes>"
      ]
     },
     "metadata": {
      "needs_background": "light",
      "tags": []
     },
     "output_type": "display_data"
    }
   ],
   "source": [
    "#hide\n",
    "learn.recorder.plot_loss()"
   ]
  },
  {
   "cell_type": "code",
   "execution_count": null,
   "metadata": {
    "id": "gjivUkrJTFYa"
   },
   "outputs": [],
   "source": [
    "learn.save(path_data/'GPT2_pt_5epoch_lr1e-4_v2')\n",
    "learn = learn.load(path_data/'GPT2_pt_5epoch_lr1e-4_v2')"
   ]
  },
  {
   "cell_type": "markdown",
   "metadata": {
    "id": "DtFIDicYTFY2"
   },
   "source": [
    "## Text Generation by our Portuguese GPT-2"
   ]
  },
  {
   "cell_type": "markdown",
   "metadata": {
    "id": "LZpvJxSBTFY3"
   },
   "source": [
    "Now that we have a GPT-2 in Portuguese, we can use it for different tasks in NLP (Text Generation, Reading Comprehension, Translation, Summary) as showed in the post \"**GPT-2 use cases: beyond Text Generation**\".\n",
    "\n",
    "For now, let's use it to generate new texts, which allows us to check that it works properly and also have a little fun."
   ]
  },
  {
   "cell_type": "markdown",
   "metadata": {
    "id": "qImO1jOfTFY5"
   },
   "source": [
    "### Text Generation techniques "
   ]
  },
  {
   "cell_type": "markdown",
   "metadata": {
    "id": "SAF65aBdTFZA"
   },
   "source": [
    "**At each stage of text generation, GPT-2 provides a vector of 50.257 probabilities** (each corresponds to a possible token of the vocabulary whose size is 50.257). To decide how to choose the output token from these probabilities, **there are at least 5 methods: Greedy, Beam Search, Sampling with temperature, Top-k sampling and Top-p (nucleus) sampling**.\n",
    "\n",
    "In this tutorial, we will test only 2 of these text generation methods: **Top-k sampling** and **Top-p (nucleus) sampling**.\n",
    "\n",
    "Note: to get more information on text generation techniques for transformer-based language model, read the article \"[How to generate text: using different decoding methods for language generation with Transformers](https://huggingface.co/blog/how-to-generate)\" from [Patrick von Platen](https://huggingface.co/patrickvonplaten) (Hugging Face, 03/18/2020)."
   ]
  },
  {
   "cell_type": "markdown",
   "metadata": {
    "id": "5w8t6eJ2TFZB"
   },
   "source": [
    "#### (Use case 1) Top-k sampling"
   ]
  },
  {
   "cell_type": "markdown",
   "metadata": {
    "id": "rTG1Ha16TFZB"
   },
   "source": [
    "Our use case 1 follows the same method used by OpenAI in page 20 of the paper [Language Models are Unsupervised Multitask Learners](https://cdn.openai.com/better-language-models/language_models_are_unsupervised_multitask_learners.pdf) by choosing **Top-k sampling** text generation technique with a **value of 40**.\n",
    "\n",
    "This text generation method is implemented in the `model.generate()` function of a Transformers model thanks to the following arguments:\n",
    "- `top_k` (int): the number of highest probability vocabulary tokens to keep for top-k-filtering. Between 1 and infinity. Default to 50."
   ]
  },
  {
   "cell_type": "markdown",
   "metadata": {
    "id": "NAoy1ACrTFZD"
   },
   "source": [
    "#### (Use case 2) Top-p (nucleus) sampling"
   ]
  },
  {
   "cell_type": "markdown",
   "metadata": {
    "id": "QM86-XhXTFZE"
   },
   "source": [
    "Our use case 2 follows the [top-p (nucleus) sampling](https://huggingface.co/blog/how-to-generate#top-p-nucleus-sampling) method with Top-p sampling (top_p = 0.95), top-k sampling (top_k = 50), temperature (temperature = 0.7) and repetition penalty (repetition_penalty = 1.2).\n",
    "\n",
    "This text generation method is implemented in the `model.generate()` function of a Transformers model thanks to the following arguments:\n",
    "- `top_p` (float): the cumulative probability of parameter highest probability vocabulary tokens to keep for nucleus sampling. Must be between 0 and 1. Default to 1.\n",
    "- `top_k` (int): the number of highest probability vocabulary tokens to keep for top-k-filtering. Between 1 and infinity. Default to 50.\n",
    "- `temperature` (float): the value used to module the next token probabilities. Must be strictly positive. Default to 1.0.\n",
    "- `repetition_penalty` (float): the parameter for repetition penalty. Between 1.0 and infinity. 1.0 means no penalty. Default to 1.0."
   ]
  },
  {
   "cell_type": "markdown",
   "metadata": {
    "id": "pOEE5MfzTFZF"
   },
   "source": [
    "### Text n°1 | Famous OpenAI generated text about unicorns"
   ]
  },
  {
   "cell_type": "markdown",
   "metadata": {
    "id": "-F8t7sPnTFZW"
   },
   "source": [
    "At the time of publication of GPT-2 in the article \"[Better Language Models and Their Implications](https://openai.com/blog/better-language-models/)\" (02/14/2019), the media retained from its different possibilities in NLP that of text generation because of the now famous text generated on unicorns from this small paragraph:\n",
    "\n",
    ">In a shocking finding, scientist discovered a herd of unicorns living in a remote, previously unexplored valley, in the Andes Mountains. Even more surprising to the researchers was the fact that the unicorns spoke perfect English."
   ]
  },
  {
   "cell_type": "markdown",
   "metadata": {
    "id": "WCMWkpLxTFZW"
   },
   "source": [
    "From this text, GPT-2 wrote the following [sample](https://openai.com/blog/better-language-models/#samples) out of 10 tries:"
   ]
  },
  {
   "cell_type": "code",
   "execution_count": null,
   "metadata": {
    "id": "mlqmdkkcTFZX",
    "outputId": "d4bdd274-3eec-45f8-ece7-7ce7a6dbeb4d"
   },
   "outputs": [
    {
     "name": "stdout",
     "output_type": "stream",
     "text": [
      "In a shocking finding, scientist discovered a herd of unicorns living in a remote, previously unexplored valley, in the Andes Mountains. Even more surprising to the researchers was the fact that the unicorns spoke perfect English. \n",
      "\n",
      "The scientist named the population, after their distinctive horn, Ovid's Unicorn. These four-horned, silver-white unicorns were previously unknown to science. \n",
      "\n",
      "Now, after almost two centuries, the mystery of what sparked this odd phenomenon is finally solved. \n",
      "\n",
      "Dr. Jorge Pérez, an evolutionary biologist from the University of La Paz, and several companions, were exploring the Andes Mountains when they found a small valley, with no other animals or humans. Pérez noticed that the valley had what appeared to be a natural fountain, surrounded by two peaks of rock and silver snow. \n",
      "\n",
      "Pérez and the others then ventured further into the valley. “By the time we reached the top of one peak, the water looked blue, with some crystals on top,” said Pérez. \n",
      "\n",
      "Pérez and his friends were astonished to see the unicorn herd. These creatures could be seen from the air without having to move too much to see them – they were so close they could touch their horns. \n",
      "\n",
      "While examining these bizarre creatures the scientists discovered that the creatures also spoke some fairly regular English. Pérez stated, “We can see, for example, that they have a common ‘language,’ something like a dialect or dialectic.” \n",
      "\n",
      "Dr. Pérez believes that the unicorns may have originated in Argentina, where the animals were believed to be descendants of a lost race of people who lived there before the arrival of humans in those parts of South America. \n",
      "\n",
      "While their origins are still unclear, some believe that perhaps the creatures were created when a human and a unicorn met each other in a time before human civilization. According to Pérez, “In South America, such incidents seem to be quite common.” \n",
      "\n",
      "However, Pérez also pointed out that it is likely that the only way of knowing for sure if unicorns are indeed the descendants of a lost alien race is through DNA. “But they seem to be able to communicate in English quite well, which I believe is a sign of evolution, or at least a change in social organization,” said the scientist.\n"
     ]
    }
   ],
   "source": [
    "openai_generated_text_en = \"In a shocking finding, scientist discovered a herd of unicorns living in a remote, previously unexplored valley, in the Andes Mountains. Even more surprising to the researchers was the fact that the unicorns spoke perfect English. \\\n",
    "\\n\\nThe scientist named the population, after their distinctive horn, Ovid's Unicorn. These four-horned, silver-white unicorns were previously unknown to science. \\\n",
    "\\n\\nNow, after almost two centuries, the mystery of what sparked this odd phenomenon is finally solved. \\\n",
    "\\n\\nDr. Jorge Pérez, an evolutionary biologist from the University of La Paz, and several companions, were exploring the Andes Mountains when they found a small valley, with no other animals or humans. Pérez noticed that the valley had what appeared to be a natural fountain, surrounded by two peaks of rock and silver snow. \\\n",
    "\\n\\nPérez and the others then ventured further into the valley. “By the time we reached the top of one peak, the water looked blue, with some crystals on top,” said Pérez. \\\n",
    "\\n\\nPérez and his friends were astonished to see the unicorn herd. These creatures could be seen from the air without having to move too much to see them – they were so close they could touch their horns. \\\n",
    "\\n\\nWhile examining these bizarre creatures the scientists discovered that the creatures also spoke some fairly regular English. Pérez stated, “We can see, for example, that they have a common ‘language,’ something like a dialect or dialectic.” \\\n",
    "\\n\\nDr. Pérez believes that the unicorns may have originated in Argentina, where the animals were believed to be descendants of a lost race of people who lived there before the arrival of humans in those parts of South America. \\\n",
    "\\n\\nWhile their origins are still unclear, some believe that perhaps the creatures were created when a human and a unicorn met each other in a time before human civilization. According to Pérez, “In South America, such incidents seem to be quite common.” \\\n",
    "\\n\\nHowever, Pérez also pointed out that it is likely that the only way of knowing for sure if unicorns are indeed the descendants of a lost alien race is through DNA. “But they seem to be able to communicate in English quite well, which I believe is a sign of evolution, or at least a change in social organization,” said the scientist.\"\n",
    "\n",
    "print(openai_generated_text_en)"
   ]
  },
  {
   "cell_type": "markdown",
   "metadata": {
    "id": "Yv0RuicvTFZg"
   },
   "source": [
    "#### Reload Portuguese GPT-2"
   ]
  },
  {
   "cell_type": "markdown",
   "metadata": {
    "id": "xIBG1jIjTFZg"
   },
   "source": [
    "##### English pre-trained GPT-2"
   ]
  },
  {
   "cell_type": "code",
   "execution_count": null,
   "metadata": {
    "id": "42LrV1emTFZh",
    "outputId": "f56cfb66-e018-44ce-c5b0-f64d8b4de61a"
   },
   "outputs": [
    {
     "name": "stderr",
     "output_type": "stream",
     "text": [
      "Some weights of GPT2LMHeadModel were not initialized from the model checkpoint at gpt2 and are newly initialized: ['h.0.attn.masked_bias', 'h.1.attn.masked_bias', 'h.2.attn.masked_bias', 'h.3.attn.masked_bias', 'h.4.attn.masked_bias', 'h.5.attn.masked_bias', 'h.6.attn.masked_bias', 'h.7.attn.masked_bias', 'h.8.attn.masked_bias', 'h.9.attn.masked_bias', 'h.10.attn.masked_bias', 'h.11.attn.masked_bias', 'lm_head.weight']\n",
      "You should probably TRAIN this model on a down-stream task to be able to use it for predictions and inference.\n"
     ]
    },
    {
     "name": "stdout",
     "output_type": "stream",
     "text": [
      "CPU times: user 14.4 s, sys: 1.8 s, total: 16.2 s\n",
      "Wall time: 7.72 s\n"
     ]
    }
   ],
   "source": [
    "%%time\n",
    "from transformers import GPT2TokenizerFast, GPT2LMHeadModel\n",
    "\n",
    "pretrained_weights = 'gpt2'\n",
    "tokenizer_en = GPT2TokenizerFast.from_pretrained(pretrained_weights)\n",
    "model_en = GPT2LMHeadModel.from_pretrained(pretrained_weights)"
   ]
  },
  {
   "cell_type": "markdown",
   "metadata": {
    "id": "G4y6usipTFZq"
   },
   "source": [
    "##### Portuguese tokenizer"
   ]
  },
  {
   "cell_type": "code",
   "execution_count": null,
   "metadata": {
    "id": "14y4vKMwTFZu"
   },
   "outputs": [],
   "source": [
    "from transformers import GPT2TokenizerFast\n",
    "\n",
    "# Get the path to ByteLevelBPE_tokenizer_pt config files\n",
    "ByteLevelBPE_tokenizer_pt_rep = 'ByteLevelBPE_tokenizer_pt'\n",
    "path_to_ByteLevelBPE_tokenizer_pt_rep = path_data/ByteLevelBPE_tokenizer_pt_rep\n",
    "\n",
    "# import the pre-trained GPT2TokenizerFast tokenizer with the tokenizer_pt config files\n",
    "tokenizer_pt = GPT2TokenizerFast.from_pretrained(\n",
    "    str(path_to_ByteLevelBPE_tokenizer_pt_rep), \n",
    "    pad_token='<|endoftext|>')\n",
    "\n",
    "# Get sequence length max of 1024\n",
    "tokenizer_pt.model_max_length = 1024"
   ]
  },
  {
   "cell_type": "markdown",
   "metadata": {
    "id": "oz1oUymUTFZ0"
   },
   "source": [
    "##### Datasets"
   ]
  },
  {
   "cell_type": "code",
   "execution_count": null,
   "metadata": {
    "id": "c1emO3qaTFZ1"
   },
   "outputs": [],
   "source": [
    "class TransformersTokenizer(Transform):\n",
    "    def __init__(self, tokenizer): self.tokenizer = tokenizer\n",
    "    def encodes(self, x): \n",
    "        toks = self.tokenizer.tokenize(x)\n",
    "        return tensor(self.tokenizer.convert_tokens_to_ids(toks))\n",
    "    def decodes(self, x): return TitledStr(self.tokenizer.decode(x.cpu().numpy()))"
   ]
  },
  {
   "cell_type": "code",
   "execution_count": null,
   "metadata": {
    "id": "bh9FBFLQTFZ_"
   },
   "outputs": [],
   "source": [
    "# get data\n",
    "lang = 'pt'\n",
    "fname = f'all_texts_{lang}wiki.csv'\n",
    "df = pd.read_csv(path_data/fname)\n",
    "\n",
    "# load idxs train and valid\n",
    "idxs_train = torch.load(path_data/'idxs_train.pt')\n",
    "idxs_val = torch.load(path_data/'idxs_val.pt')\n",
    "\n",
    "all_texts = np.concatenate([df.iloc[idxs_train].text.values, df.iloc[idxs_val].text.values])\n",
    "splits = [list(idxs_train), list(idxs_val)]\n",
    "tls = TfmdLists(all_texts, TransformersTokenizer(tokenizer_pt), splits=splits, dl_type=LMDataLoader)"
   ]
  },
  {
   "cell_type": "markdown",
   "metadata": {
    "id": "KvX_jv8XTFaF"
   },
   "source": [
    "##### Dataloaders"
   ]
  },
  {
   "cell_type": "code",
   "execution_count": null,
   "metadata": {
    "id": "rG5y28qLTFaG",
    "outputId": "224feb2e-ba95-4342-8e15-2d6440520d77"
   },
   "outputs": [
    {
     "name": "stdout",
     "output_type": "stream",
     "text": [
      "CPU times: user 27min 56s, sys: 3min 20s, total: 31min 16s\n",
      "Wall time: 25min 8s\n"
     ]
    }
   ],
   "source": [
    "%%time\n",
    "bs,sl = 8,1024\n",
    "dls = tls.dataloaders(bs=bs, seq_len=sl)"
   ]
  },
  {
   "cell_type": "markdown",
   "metadata": {
    "id": "F4aKua2sTFaK"
   },
   "source": [
    "##### Split a GPT2 model in 4 groups for differential learning rates"
   ]
  },
  {
   "cell_type": "code",
   "execution_count": null,
   "metadata": {
    "id": "dE_sJJgdTFaK"
   },
   "outputs": [],
   "source": [
    "class DropOutput(Callback):\n",
    "    def after_pred(self): self.learn.pred = self.pred[0]"
   ]
  },
  {
   "cell_type": "code",
   "execution_count": null,
   "metadata": {
    "id": "3DRdkzw3TFaY"
   },
   "outputs": [],
   "source": [
    "def splitter(model):\n",
    "    \"Split a GPT2 `model` in 3 groups for differential learning rates.\"\n",
    "    \n",
    "    # First layers group : decoder blocks from 0 to 3\n",
    "    modules = []\n",
    "    for i in range(4): modules.append(model.transformer.h[i])\n",
    "    groups = [nn.Sequential(*modules)]\n",
    "\n",
    "    # Second layers group : decoder blocks from 4 to 7\n",
    "    modules = []\n",
    "    for i in range(4,8,1): modules.append(model.transformer.h[i])\n",
    "    groups = L(groups + [nn.Sequential(*modules)])\n",
    "\n",
    "    # Third layers group : decoder blocks from 8 to 11\n",
    "    modules = []\n",
    "    for i in range(8,12,1): modules.append(model.transformer.h[i])\n",
    "    groups = L(groups + [nn.Sequential(*modules)])\n",
    "    \n",
    "    # Fourth layers group : embeddings matrices wte and wpe + LayerNorm at the model output\n",
    "    groups = L(groups + [nn.Sequential(model.transformer.wte,model.transformer.wpe,model.transformer.ln_f)])\n",
    "    \n",
    "    return groups.map(params)"
   ]
  },
  {
   "cell_type": "markdown",
   "metadata": {
    "id": "jPm7HATCTFac"
   },
   "source": [
    "##### Learner"
   ]
  },
  {
   "cell_type": "code",
   "execution_count": null,
   "metadata": {
    "id": "tREpsZ3kTFad"
   },
   "outputs": [],
   "source": [
    "# Learner: basic class for handling the training loop\n",
    "# source: https://dev.fast.ai/learner#Learner\n",
    "learn = Learner(dls, model_en, loss_func=CrossEntropyLossFlat(),\n",
    "                splitter = splitter,\n",
    "                cbs=[DropOutput], \n",
    "                metrics=[accuracy, Perplexity()]).to_fp16()\n",
    "learn = learn.load(path_data/'GPT2_pt_5epoch_lr1e-4_v2')"
   ]
  },
  {
   "cell_type": "code",
   "execution_count": null,
   "metadata": {
    "id": "Tdfh8KbSTFah"
   },
   "outputs": [],
   "source": [
    "# model\n",
    "model_pt = learn.model"
   ]
  },
  {
   "cell_type": "code",
   "execution_count": null,
   "metadata": {
    "id": "qRcD4wZPTFau"
   },
   "outputs": [],
   "source": [
    "# put model into eval mode and on GPU\n",
    "model_pt.eval();\n",
    "model_pt.to('cuda');"
   ]
  },
  {
   "cell_type": "markdown",
   "metadata": {
    "id": "Z7Ew79sXTFaz"
   },
   "source": [
    "#### Get translated famous unicorn text in Portuguese"
   ]
  },
  {
   "cell_type": "code",
   "execution_count": null,
   "metadata": {
    "id": "ijI7Jdh5TFa0"
   },
   "outputs": [],
   "source": [
    "from transformers import MarianMTModel, MarianTokenizer"
   ]
  },
  {
   "cell_type": "code",
   "execution_count": null,
   "metadata": {
    "id": "kA2Fke8WTFa2",
    "outputId": "67a8cab0-650c-43a4-cc01-4d2c47de16a3"
   },
   "outputs": [
    {
     "name": "stdout",
     "output_type": "stream",
     "text": [
      "['>>fr<<', '>>es<<', '>>it<<', '>>pt<<', '>>pt_br<<', '>>ro<<', '>>ca<<', '>>gl<<', '>>pt_BR<<', '>>la<<', '>>wa<<', '>>fur<<', '>>oc<<', '>>fr_CA<<', '>>sc<<', '>>es_ES<<', '>>es_MX<<', '>>es_AR<<', '>>es_PR<<', '>>es_UY<<', '>>es_CL<<', '>>es_CO<<', '>>es_CR<<', '>>es_GT<<', '>>es_HN<<', '>>es_NI<<', '>>es_PA<<', '>>es_PE<<', '>>es_VE<<', '>>es_DO<<', '>>es_EC<<', '>>es_SV<<', '>>an<<', '>>pt_PT<<', '>>frp<<', '>>lad<<', '>>vec<<', '>>fr_FR<<', '>>co<<', '>>it_IT<<', '>>lld<<', '>>lij<<', '>>lmo<<', '>>nap<<', '>>rm<<', '>>scn<<', '>>mwl<<']\n"
     ]
    }
   ],
   "source": [
    "# MarianMT Translator\n",
    "model_name = 'Helsinki-NLP/opus-mt-en-ROMANCE'\n",
    "tokenizer_en_pt = MarianTokenizer.from_pretrained(model_name)\n",
    "print(tokenizer_en_pt.supported_language_codes)\n",
    "model_en_pt = MarianMTModel.from_pretrained(model_name)"
   ]
  },
  {
   "cell_type": "code",
   "execution_count": null,
   "metadata": {
    "id": "t6UW3IpWTFa7",
    "outputId": "faa50d6e-dd3f-45f8-a80c-1f5de329b1d7"
   },
   "outputs": [
    {
     "name": "stdout",
     "output_type": "stream",
     "text": [
      "['>>pt_BR<< In a shocking finding, scientist discovered a herd of unicorns living in a remote, previously unexplored valley, in the Andes Mountains. Even more surprising to the researchers was the fact that the unicorns spoke perfect English.']\n"
     ]
    }
   ],
   "source": [
    "src_text = [\n",
    "    '>>pt_BR<< In a shocking finding, scientist discovered a herd of unicorns living in a remote, previously unexplored valley, in the Andes Mountains. Even more surprising to the researchers was the fact that the unicorns spoke perfect English.',\n",
    "]\n",
    "print(src_text)"
   ]
  },
  {
   "cell_type": "code",
   "execution_count": null,
   "metadata": {
    "id": "YlaM87wxTFbC",
    "outputId": "ab0c83f5-ea0e-44f6-98e8-4d24aab5acd3"
   },
   "outputs": [
    {
     "data": {
      "text/plain": [
       "'Num achado chocante, o cientista descobriu uma manada de unicórnios vivendo num vale remoto, anteriormente inexplorado, nas Montanhas dos Andes. Ainda mais surpreendente para os pesquisadores foi o fato de que os unicórnios falavam inglês perfeito.'"
      ]
     },
     "execution_count": 19,
     "metadata": {
      "tags": []
     },
     "output_type": "execute_result"
    }
   ],
   "source": [
    "translated = model_en_pt.generate(**tokenizer_en_pt.prepare_translation_batch(src_text))\n",
    "tgt_text = [tokenizer_en_pt.decode(t, skip_special_tokens=True) for t in translated]\n",
    "prompt = tgt_text[0]\n",
    "prompt"
   ]
  },
  {
   "cell_type": "markdown",
   "metadata": {
    "id": "JdayCG7WTFbI"
   },
   "source": [
    "#### Get generated text"
   ]
  },
  {
   "cell_type": "code",
   "execution_count": null,
   "metadata": {
    "id": "cg4-eLpCTFbJ",
    "outputId": "44767b25-8fdd-4527-b312-ed7b3cd8df59"
   },
   "outputs": [
    {
     "name": "stdout",
     "output_type": "stream",
     "text": [
      "504\n"
     ]
    }
   ],
   "source": [
    "# Get the number of tokens of the OpenAI English generated text\n",
    "openai_generated_text_en = \"In a shocking finding, scientist discovered a herd of unicorns living in a remote, previously unexplored valley, in the Andes Mountains. Even more surprising to the researchers was the fact that the unicorns spoke perfect English. \\\n",
    "\\n\\nThe scientist named the population, after their distinctive horn, Ovid's Unicorn. These four-horned, silver-white unicorns were previously unknown to science. \\\n",
    "\\n\\nNow, after almost two centuries, the mystery of what sparked this odd phenomenon is finally solved. \\\n",
    "\\n\\nDr. Jorge Pérez, an evolutionary biologist from the University of La Paz, and several companions, were exploring the Andes Mountains when they found a small valley, with no other animals or humans. Pérez noticed that the valley had what appeared to be a natural fountain, surrounded by two peaks of rock and silver snow. \\\n",
    "\\n\\nPérez and the others then ventured further into the valley. “By the time we reached the top of one peak, the water looked blue, with some crystals on top,” said Pérez. \\\n",
    "\\n\\nPérez and his friends were astonished to see the unicorn herd. These creatures could be seen from the air without having to move too much to see them – they were so close they could touch their horns. \\\n",
    "\\n\\nWhile examining these bizarre creatures the scientists discovered that the creatures also spoke some fairly regular English. Pérez stated, “We can see, for example, that they have a common ‘language,’ something like a dialect or dialectic.” \\\n",
    "\\n\\nDr. Pérez believes that the unicorns may have originated in Argentina, where the animals were believed to be descendants of a lost race of people who lived there before the arrival of humans in those parts of South America. \\\n",
    "\\n\\nWhile their origins are still unclear, some believe that perhaps the creatures were created when a human and a unicorn met each other in a time before human civilization. According to Pérez, “In South America, such incidents seem to be quite common.” \\\n",
    "\\n\\nHowever, Pérez also pointed out that it is likely that the only way of knowing for sure if unicorns are indeed the descendants of a lost alien race is through DNA. “But they seem to be able to communicate in English quite well, which I believe is a sign of evolution, or at least a change in social organization,” said the scientist.\"\n",
    "\n",
    "openai_generated_text_en_ids = tokenizer_en.encode(openai_generated_text_en, return_tensors='pt').to('cuda')\n",
    "max_length = openai_generated_text_en_ids.shape[1]\n",
    "\n",
    "print(max_length)"
   ]
  },
  {
   "cell_type": "code",
   "execution_count": null,
   "metadata": {
    "id": "F9ancgc9TFbd"
   },
   "outputs": [],
   "source": [
    "# encode\n",
    "input_ids = tokenizer_pt.encode(prompt, return_tensors='pt').to('cuda')"
   ]
  },
  {
   "cell_type": "markdown",
   "metadata": {
    "id": "syWk7c5KTFbr"
   },
   "source": [
    "##### Use case 1 (Top-k sampling)"
   ]
  },
  {
   "cell_type": "code",
   "execution_count": null,
   "metadata": {
    "id": "I6IjHeaXTFbs",
    "outputId": "224d5f65-6f83-47af-ea8a-ed3680989fe6"
   },
   "outputs": [
    {
     "name": "stdout",
     "output_type": "stream",
     "text": [
      ">> Generated text 1\n",
      "\n",
      "Num achado chocante, o cientista descobriu uma manada de unicórnios vivendo num vale remoto, anteriormente inexplorado, nas Montanhas dos Andes. Ainda mais surpreendente para os pesquisadores foi o fato de que os unicórnios falavam inglês perfeito. Um deles, um escocês chamado Thomas (um anatomista irlandês) que havia trabalhado com o britânico em seu trabalho como assistente do diretor experimental da universidade, John Holley, foi chamado de por eles para um encontro sobre os dois conceitos, que não tinham encontrado muito trabalho até o momento. Eles foram palestrantes, mas ficaram impressionados que Thomas (como todos os outros cientistas da época) não sabia falar Inglês. Quando Thomas fez isso com os unicórnios por engano, Holley a escreveu e enviou um telegrama à BBC perguntando: \"\"Tão, o que é tal dizer se você quer saber de nenhum outro, eu não sei como ele fala inglês?\"\" Eles disseram a ele: \"Não, mas é um idiota.\" Então, uma semana depois, no mesmo dia, Holley o enviou, uma carta com um questionário para os membros do elenco de \"\"Doctor Who\"\". Thomas, como qualquer um dos cientistas mencionados, não se lembra muito bem dos eventos que aconteceram em Londres.\n",
      "\n",
      "Depois do segundo episódio, o editor-produtor Michael Gambon deu o que ele achou que valia, então disse: \"Vamos fazer um comentário, para o elenco e equipe deDoctor Who.\" Como resultado, eles deram permissão para que eles assistissem outro episódio. Isto foi o suficiente para que \"The Magician\" aparecesse para o cânone da BBC.\n",
      "\n",
      "Na segunda temporada, \"The Magician\" teve um episódio chamado \"The End of the World\", e o ator John Huston, que interpreta John Watson, era o mais conhecido ator inglês do programa. \"The End of the World\" foi ao ar em 13 de outubro de 2000. A BBC anunciou que \"The Magician\" seria exibida ao vivo em janeiro de 2003 da HBO em 15 de janeiro de 2003. Ele também foi transmitido na televisão em 16 de janeiro de 2004 da BBC One, em uma transmissão que também marcou o cancelamento de um episódio.\n",
      "\n",
      "A série é uma produção da BBC-NBC Television Limited. Ela foi produzida por Paul Rudd, John Swarns e Jonathan Seagal e foi criada por David Tennant, Graham Hill, Colin Smith, Tom Baker, Jack Davies e Paul Thompson. O primeiro episódio foi exibido em 17 de outubro de\n",
      "\n",
      "---\n",
      ">> Generated text 2\n",
      "\n",
      "Num achado chocante, o cientista descobriu uma manada de unicórnios vivendo num vale remoto, anteriormente inexplorado, nas Montanhas dos Andes. Ainda mais surpreendente para os pesquisadores foi o fato de que os unicórnios falavam inglês perfeito. \"Não é mais estranho que a nossa forma tivesse o inglês com dois de suas asas como se o macho fosse inglês — o que é interessante. Mas a sua natureza inata seria estranha para o inglês\", acredita eles.\n",
      "\n",
      "Em 2015, cientistas realizaram uma nova análise sobre as formas dos unicórnios. De acordo com especialistas na área, os membros superiores do grupo foram provavelmente derivados de outra espécie de escorpião — uma espécie com características semelhantes. Uma nova equipe de cientistas calculou que uma fêmea unicornada da Eurásia seria originalmente uma humana. \"Isto significa que o ancestral do unicórnio, um híbrido de um esquilo e um escorpião macho não nasceu.\n",
      "\n",
      "Um estudo recente estimou que cerca de 12% do corpo humano é composto por membros de qualquer um dos grupos mais diverso de animais extintos, incluindo o ser humano e o unicórnio-do-sul. \"A análise dos dados mostra que a maioria dos membros do gênero é composta por um exito e um exito macho que compartilham uma única espécie de corpo. Em alguns casos, estes membros compartilham um mesmo conjunto (a linhagem) de partes em dois espécimes.\" O estudo indica que os membros de \"P. rubi\" são semelhantes em aparência e morfologia aos membros humanos modernos, como as fêmeas modernas e machos robustos. \"Como é evidente com os membros de \"P. rubi\", os ancestrais e o ancestral eram similares na forma e na composição das semelhanças em um organismo.\"\n",
      "\n",
      "O DNA do \"P. rubi,\" chamado por sua forma em inglês de \"sonoroplasto\", revela que o \"sonoroplasto\" inclui três genes de alto nível e quatro genes relativamente reduzidos (e ausentes) e um gene de baixo nível (e ausentes) com uma concentração de cloroplasto em cada núcleo. A \"sonoroplasto\" se assemelha à \"P. rubi\" em características morfológicas e comportamentais, embora as diferenças na morfologia sejam menores. \"A espécie \"P. rubi\" apresenta cinco pares de cromossomos separados (com 6 pares se aproximando e 8 pares se afastando) e um \"sonoroplasto de base\" (com 12 pares se aproximando e 15 pares se afastando), sugerindo que o membro tenha uma composição semelhante ao ancestral \"P. rubi\n",
      "\n",
      "---\n",
      ">> Generated text 3\n",
      "\n",
      "Num achado chocante, o cientista descobriu uma manada de unicórnios vivendo num vale remoto, anteriormente inexplorado, nas Montanhas dos Andes. Ainda mais surpreendente para os pesquisadores foi o fato de que os unicórnios falavam inglês perfeito.\n",
      "O jogo de corrida da FIAT foi introduzido no Salão Internacional de FIAT (em 1989) em um evento que teve como principal objetivo fornecer uma oportunidade a todos que competirem em corridas de carros nacionais, como as categorias de base e pilotos. Esse evento trouxe o título de \"National Le Mans Series\" (1973), além de um terceiro título que o vencedor da competição ganharia. O primeiro campeonato foi disputado entre 1983 e 1985, e foi vencido pelo piloto estadunidense Dennis Young.\n",
      "\n",
      "O Campeonato de Le Mans foi criado por uma equipa formada em 1983 na rua General Motors, em Long Beach, Califórnia, e patrocinado pela \"Frampton Racing\", criada pelo empresário de corridas do Reino Unido Derek J. Cox, e é atualmente patrocinado pela equipe da equipe de Fórmula 1 da Ferrari, Lotus e McLaren, \"Lusa Motorsports\" e pela equipe de corrida britânica Team Lotus. \"Lusa\" foi fundada como uma \"casa\", mas a companhia não conseguiu competir em corridas por cinco anos devido à falta de patrocinador, e os pilotos que competiram em Lusa foram proibidos de pilotar a equipe McLaren em 1997. A equipe mudou seu nome para Lusa Motorsports em 1999. As corridas de Fórmula 1 só foram retomadas duas vezes por falta de patrocinadores, no começo de 2000, e novamente em 2003 por \"franqueza\".\n",
      "\n",
      "Em 2003, a Williams-Renault obteve o seu primeiro título da temporada, uma corrida de Le Mans de estilo \"Grand Prix\", em que os carros eram todos monopostos, mas com carros \"primo\", mais do que os carros de Fórmula 1. A temporada de 2003 teve muitas modificações em termos de desempenho, como novos pneus e mudanças na configuração dos carros, e foi a sexta temporada do campeonato do campeonato com mais pontos no campeonato na temporada de 2004, com cinco vitórias no campeonato, três na temporada de 2008 e cinco na de 2009.\n",
      "\n",
      "Em 2005, a Toyota assinou um contrato exclusivo para a produção de veículos para a Temporada de Le Mans e o primeiro ano em que a equipe Toyota foi a primeira equipe a ser a primeira a dar uma vitória ao correr \"Le Mans Series\", uma prova de Fórmula 1, na qual a equipe Toyota produziu dois carros da temporada. Apesar de ter vencido a prova, foi a\n",
      "\n",
      "---\n",
      "CPU times: user 7.77 s, sys: 372 ms, total: 8.15 s\n",
      "Wall time: 8.16 s\n"
     ]
    }
   ],
   "source": [
    "%%time\n",
    "#set top_k = 40 and num_return_sequences = 3\n",
    "sample_outputs = model_pt.generate(input_ids, pad_token_id=50256,\n",
    "                                   do_sample=True, \n",
    "                                   max_length=max_length, \n",
    "                                   min_length=max_length,\n",
    "                                   top_k=40,\n",
    "                                   num_return_sequences=3)\n",
    "\n",
    "for i, sample_output in enumerate(sample_outputs):\n",
    "    print(\">> Generated text {}\\n\\n{}\".format(i+1, tokenizer_pt.decode(sample_output.tolist())))\n",
    "    print('\\n---')"
   ]
  },
  {
   "cell_type": "markdown",
   "metadata": {
    "id": "NE7APtoYTFcH"
   },
   "source": [
    "##### Use case 2 (Top-p nucleus sampling)"
   ]
  },
  {
   "cell_type": "code",
   "execution_count": null,
   "metadata": {
    "id": "3s6ISsEpTFcI",
    "outputId": "661cc3d1-ab72-42e7-bfbb-098c34a87968",
    "scrolled": false
   },
   "outputs": [
    {
     "name": "stdout",
     "output_type": "stream",
     "text": [
      ">> Generated text 1\n",
      "\n",
      "Num achado chocante, o cientista descobriu uma manada de unicórnios vivendo num vale remoto, anteriormente inexplorado, nas Montanhas dos Andes. Ainda mais surpreendente para os pesquisadores foi o fato de que os unicórnios falavam inglês perfeito. Eles não sabiam onde exatamente eram falantes nativos do idioma, e acreditaram que eles simplesmente migraram das terras altas da região de Mendoza ao norte como consequência do declínio populacional que ocorreu na Cordilheira das Cobras.\n",
      "\n",
      "Em 2004, o Departamento de Antropologia da Universidade do Colorado anunciou que havia encontrado uma fêmea no vale do rio Orinoco na Bolívia, mas essa fêmea foi morta durante a investigação. No entanto, no início de 2006, as autoridades locais anunciaram que havia identificado uma fêmea encontrada em uma área próxima à Cordilheira dos Andes, no Vale do Cauca. A equipe de pesquisadores relatou que esta fêmea era chamada de \"El Maria\" ou \"El Maria\".\n",
      "\n",
      "O estudo revelou que o grupo de unicórnios habitava um ecossistema bastante diverso, com espécies endêmicas incluindo espécies como as tiláceas gigantescas (que são encontradas principalmente nos países subdesenvolvidos) e as quelupus (\"Erica azoricae\").\n",
      "\n",
      "Um dos principais objetivos do estudo da espécie é determinar se os europeus teriam colonizado a região entre a década de 1940 e 1960 e se estes últimos grupos étnicos sobreviveram até hoje. Os cientistas acreditam que as populações desses grupos poderiam ter sido muito maiores antes disso; por exemplo, a teoria sugere que a população europeia provavelmente teria introduzido os humanos primitivos na América Central depois que os espanhóis invadiram a região, embora isso seja controverso.\n",
      "\n",
      "O gênero \"El Maria\" tem um ancestral comum, os \"Looney-do-the-Bone\", um pequeno grupo de \"Looney-da-Daíndia\" encontrados apenas no leste dos Estados Unidos, Canadá e México. O gênero possui parentesco próximo ao gênero \"Lontrapyrus\", também conhecido como lontras negras. Acredita-se que esses indivíduos tenham migrado para o leste dos Andes, atravessando regiões montanhosas do sul de América Central e América Central.\n",
      "\n",
      "Os membros desta família são geralmente confundidos com os lontras brancos.\n",
      "\n",
      "As fêmeas têm cerca de seis centímetros de comprimento, pesando de 9 quilogramas e medindo 11 cm de largura. A cabeça é branca, com manchas escuras pretas escuras sobre seus flancos. As patas posteriores podem ser amarelas, enquanto sua cauda pode estar preta ou branca, dependendo da cor utilizada na identificação. As costas apresentam quatro dedos dorsais bem desenvolvidas\n",
      "\n",
      "---\n",
      ">> Generated text 2\n",
      "\n",
      "Num achado chocante, o cientista descobriu uma manada de unicórnios vivendo num vale remoto, anteriormente inexplorado, nas Montanhas dos Andes. Ainda mais surpreendente para os pesquisadores foi o fato de que os unicórnios falavam inglês perfeito.\n",
      "\n",
      "O fóssil é encontrado no Vale de La Guaira, na região de San Juan, com cerca de 1 metro (1,8 m) de comprimento e cerca de 4 metros (2 pés) de largura, em Wyoming. A cabeça possui cinco dedos no pé direito e duas garras direita. No topo do crânio há quatro placas pretas-escuros. O cérebro tem um formato triangular, a base apresenta apenas uma pequena porção da metade anterior e três partes do pescoço são pretos-claro; a face tem um tom vermelho escuro-escuro. A mandíbula também contém oito pares de maxilas bem desenvolvidas.\n",
      "\n",
      "A região de San Juan foi descoberta por volta de 14 mil anos atrás. Foi escavado durante a Guerra dos Sete Anos e tem aproximadamente 6 metros quadrados de espessura. O local era habitado pelo povo de Tacuareña, que vivia entre o final do e o início do e tinha uma cultura diferente das outras regiões próximas ao território de El Berriol. Os indígenas não eram caçadores conhecidos pelos nativos e como \"carijós\".\n",
      "\n",
      "O fóssil foi descoberto em 2002 e depois enviado para uma equipe de arqueólogos liderada pela Universidade de Wyoming. A equipe encontrou os restos humanos e o chamou de \"caçadores\" ou \"coletores\", pois eles tinham sido mortos pelas expedições anteriores ao assentamento.\n",
      "\n",
      "O arqueólogo Brian C. Fanning, da Universidade de Wyoming, fez várias entrevistas com os esqueletos humanos e descobriram os crânios de dois ou três homens que foram enterrados em um túmulo localizado abaixo do túmulo de um antigo homem chamado Huehue, que estava enterrado por volta de 10500 anos atrás. O homem que estava enterrado é o membro de um grupo étnico conhecido como \"Huehue\".\n",
      "\n",
      "A equipe de pesquisadores da equipe de Fanning incluiu a presença humana no local onde o homem enterrado, incluindo um cemitério indígena que está próximo à entrada do cemitério. Eles encontraram evidências ósseas humanas enterradas perto dos ossos do homem e outros artefatos encontrados dentro de um depósito de ossos de um homem chamado \"Creator\".\n",
      "\n",
      "Os pesquisadores acharam vários ossos humanos semelhantes aos ossos de Huehue, mas sem as marcas físicas. Eles notaram semelhanças anatômicas entre esses membros de um grupo étnico chamado \"Caçadores\", possivelmente porque ambos viviam no Vale de\n",
      "\n",
      "---\n",
      ">> Generated text 3\n",
      "\n",
      "Num achado chocante, o cientista descobriu uma manada de unicórnios vivendo num vale remoto, anteriormente inexplorado, nas Montanhas dos Andes. Ainda mais surpreendente para os pesquisadores foi o fato de que os unicórnios falavam inglês perfeito.\n",
      "\n",
      "Os arqueólogos descobriram um conjunto de moedas cunhadas por indígenas e outros achados arqueológicos encontrados no local durante as escavações foram feitos ao longo da década de 1960 em um esforço de resgate arqueológica e reconhecimento pela população indígena.\n",
      "\n",
      "O achado arqueológico é o único relato sobre a cultura do gênero \"Saccharus\", que se refere às culturas terrestres primitivas não relacionadas com o \"Homo sapiens\".\n",
      "\n",
      "A pesquisa envolveu cerca de 60 anos de escavação, incluindo levantamento topográfico efetuado entre 1972 e 1977. Em 1988, o arqueólogo americano John Deere, que pesquisou as ruínas do complexo arqueológico do Monte dos Andes, observou que a cultura deste gênero estava fortemente relacionada com outras civilizações mesoamericanas, como o olmeca e a olmeca.\n",
      "\n",
      "O arqueólogo franco-americano John Deere observou que a cultura desses gêneros era bem próxima à civilização olmeca e \"a cultura dos astecas\" foi muito similar àquelas encontradas na América Central em seus sítios prévios.\n",
      "\n",
      "Em 1991, o arqueólogo americano John Deere publicou uma extensa monografia descrevendo a cultura dos Andes. Ele escreveu:\n",
      "\n",
      "Muitos estudiosos têm alegado que a cultura dos Andes pode ter sido transmitida através de migrações humanas do continente americano. Contudo, estudos recentes, baseados nos dados históricos obtidos em diferentes lugares dos Andes sugerem que tais migrações ocorreram antes ou imediatamente após as primeiras invasões americanas de europeus.\n",
      "\n",
      "Pesquisas iniciais demonstraram que esta migração ocorreu provavelmente entre o final do século XVIII e meados do século XIX, quando sociedades modernas dominavam o solo chileno, Peru, Bolívia e Colômbia. As tribos inca e xamãs também estavam envolvidas nesta atividade.\n",
      "\n",
      "A história das Américas começou em torno de um grupo de caçadores sulamericanos pertencentes aos Andes liderados pelo índio A. Iruña, que estabeleceu sua capital no atual assentamento chamado \"San Juan del Sur\". Acreditava-se que ele teria fundado um assentamento que seria conhecido por sua fama de ser capaz de caçar com seus guerreiros e construir suas casas com o passar do tempo.\n",
      "\n",
      "Durante o século XVIII, as terras baixas eram propícias para o crescimento populacional e, consequentemente, o desenvolvimento econômico das novas cidades situadas em torno delas.\n",
      "\n",
      "Os primeiros exploradores espanhóis chegaram ao Novo Mundo em 1692 e estabeleceram assentamentos permanentes nesses territórios até a década de 1830. As tentativas espanholas\n",
      "\n",
      "---\n",
      "CPU times: user 35.3 s, sys: 1.85 s, total: 37.2 s\n",
      "Wall time: 37.2 s\n"
     ]
    }
   ],
   "source": [
    "%%time\n",
    "#set top_p = 0.95, top_k = 50, temperature = 0.7, repetition_penalty = 1.2 and num_return_sequences = 3\n",
    "sample_outputs = model_pt.generate(input_ids, pad_token_id=50256,\n",
    "                                   do_sample=True,\n",
    "                                   max_length=max_length, \n",
    "                                   min_length=max_length,\n",
    "                                   repetition_penalty=1.2,\n",
    "                                   temperature=0.7,\n",
    "                                   top_k=50, \n",
    "                                   top_p=0.95, \n",
    "                                   num_return_sequences=3)\n",
    "\n",
    "for i, sample_output in enumerate(sample_outputs):\n",
    "    print(\">> Generated text {}\\n\\n{}\".format(i+1, tokenizer_pt.decode(sample_output.tolist())))\n",
    "    print('\\n---')"
   ]
  },
  {
   "cell_type": "markdown",
   "metadata": {
    "id": "4vtc89T3TFcO"
   },
   "source": [
    "### Text n°2 | Recent text on the coronavirus disease (Covid-19)"
   ]
  },
  {
   "cell_type": "code",
   "execution_count": null,
   "metadata": {
    "id": "0FwZ38dKTFcS",
    "outputId": "1d088bb1-69cb-45fa-9110-a2b11dbf3c4c"
   },
   "outputs": [
    {
     "name": "stdout",
     "output_type": "stream",
     "text": [
      "A Rússia está mais perto de se tornar o primeiro país a iniciar a distribuição de uma vacina contra o coronavírus para a população. O país anunciou hoje que concluiu parte dos testes clínicos necessários para comprovar a eficácia da imunização desenvolvida por iniciativa do governo russo. A expectativa é de que a distribuição comece já em agosto.\n"
     ]
    }
   ],
   "source": [
    "# source (uol, 07/13/2020): https://www.uol.com.br/vivabem/noticias/redacao/2020/07/13/russia-vacina-conclui-testes-distribuicao-em-agosto.htm\n",
    "prompt = \"A Rússia está mais perto de se tornar o primeiro país a iniciar a distribuição de uma vacina contra o coronavírus para a população. O país anunciou hoje que concluiu parte dos testes clínicos necessários para comprovar a eficácia da imunização desenvolvida por iniciativa do governo russo. A expectativa é de que a distribuição comece já em agosto.\"\n",
    "print(prompt)"
   ]
  },
  {
   "cell_type": "code",
   "execution_count": null,
   "metadata": {
    "id": "GZuZd5e2TFcW"
   },
   "outputs": [],
   "source": [
    "# encode\n",
    "input_ids = tokenizer_pt.encode(prompt, return_tensors='pt').to('cuda')"
   ]
  },
  {
   "cell_type": "markdown",
   "metadata": {
    "id": "wccci3nvTFcb"
   },
   "source": [
    "##### Use case 1 (Top-k sampling)"
   ]
  },
  {
   "cell_type": "code",
   "execution_count": null,
   "metadata": {
    "id": "JruhjL7PTFcb",
    "outputId": "e9db7d80-927d-4df5-9a6e-09059b42b286"
   },
   "outputs": [
    {
     "name": "stdout",
     "output_type": "stream",
     "text": [
      ">> Generated text 1\n",
      "\n",
      "A Rússia está mais perto de se tornar o primeiro país a iniciar a distribuição de uma vacina contra o coronavírus para a população. O país anunciou hoje que concluiu parte dos testes clínicos necessários para comprovar a eficácia da imunização desenvolvida por iniciativa do governo russo. A expectativa é de que a distribuição comece já em agosto.\n",
      "\n",
      "Entre os primeiros casos confirmados de COVID-19 na Rússia estava um homem russo com idade entre 50 e 49 anos, segundo o jornal \" Moscow\" e o primeiro caso em 28 de fevereiro, a primeira no Hospital Pulkai.\n",
      "\n",
      "No entanto, os primeiros casos foram mais sérios devido sua \"maturidade sem gravidade\" e a falta de uma pessoa estar disponível para testes de suas condições de vida. Entre os pacientes que foram considerados estão funcionários de um hospital ou enfermeiros na cidade de Moscou (ver abaixo) ou médicos. Depois de serem testados negativos após um teste positivo, o paciente se recupera completamente.\n",
      "\n",
      "Os russos também anunciaram que serão realizados testes de coronavírus de outros países, como a França, que inicialmente acreditava que os vírus da gripe tinham sido transmitido pela Europa (a expectativa é de 20 a 50 casos por dia). A situação foi resolvida em 24 de fevereiro, quando o Ministério da Saúde confirmou sua conclusão de que a COVID-19 é transmitida de via aérea.\n",
      "\n",
      "Até ao dia do seu primeiro caso, a Rússia tinha o menor número de funcionários e médicos com doença grave antes de o vírus ter se tornado um vírus no país. Os números de funcionários com doença grave não chegaram a ser confirmados, segundo o Ministério da Saúde, devido a sua falta de apoio.\n",
      "\n",
      "O vírus que está em curso no país é transmitido pela primeira vez nos Estados Unidos, onde foi isolado em 14 de fevereiro. Em Portugal o Ministério dos Negócios Estrangeiros declarou oficialmente em 11 de fevereiro que a COVID-19 está presente no país, mas não anunciou nenhum impacto na prática. No entanto, o Ministério do Trabalho declarou no dia seguinte que o coronavírus existe \"em todo os países que não têm regulamentação\" e que nenhum \"aedes\", que era identificado em 11 de fevereiro, tinha entrado na corrente sanguínea.\n",
      "\n",
      "Em 9 de março, autoridades russas confirmaram que o paciente não está hospitalizado e que está em quarentena no Hospital Pulkai.\n",
      "\n",
      "Mais dois casos de COVID-19 foram anunciados em 9 de março, mas foram considerados casos de \"propaganda\" e não de risco.\n",
      "\n",
      "Em 9 de maio, autoridades russas confirmaram os confirmados em todo país. Em 10 de maio,\n",
      "\n",
      "---\n",
      ">> Generated text 2\n",
      "\n",
      "A Rússia está mais perto de se tornar o primeiro país a iniciar a distribuição de uma vacina contra o coronavírus para a população. O país anunciou hoje que concluiu parte dos testes clínicos necessários para comprovar a eficácia da imunização desenvolvida por iniciativa do governo russo. A expectativa é de que a distribuição comece já em agosto. As populações de Wuhan, Wuhan, Qinghai, Shenzhen na costa oeste do China e no norte de Xangai, na província de Hubei, e os subúrbios da cidade de Tvershend em Hong Kong já estão de acordo com o número de casos confirmados. Uma nova equipe de infecologistas para ajudar a determinar os possíveis efeitos da pandemia já está em Xangai. Em 14 de março, a Rússia também tem a oportunidade de testar novas vacinas virais e testar novas versões para garantir a propagação de maisvírus na China através da transmissão de novos coronavírus.\n",
      "\n",
      "As autoridades russas e autoridades de saúde chinesas têm se preparado para assumir essa atitude de emergência com base nos dados coletados pela máscaras, máscaras de voo e máscaras faciais. Um relatório de uma empresa francesa informou que mais de 30 pessoas morreram na área de transmissão ao longo do mês de março, em relação aos dois primeiros casos. Em 21 de março, mais de 2,3 milhões de pessoas foram afetadas em áreas urbanas. Segundo o Conselho de Saúde, cerca de 10% dos habitantes são da China continental e quase metade do Distrito de Pequim, incluindo as regiões Norte e Noroeste. A doença foi descrita pela primeira vez em uma carta enviada às autoridades sanitárias no dia 15 de março. Três dias depois, um estudo genético para o vírus causou grande preocupação aos especialistas em transmissão, que acreditavam que a doença se espalhava através de duas regiões do país. A China continental relatou que apenas 8 pessoas foram diagnosticadas no país.\n",
      "\n",
      "Os vírus estão propagando-se por todo o continente europeu, do Ásia e de diversas partes do globo. De acordo com análises recentes do Centro de Controle e Prevenção da Doenças, em 14 de março, havia um total de 785 casos confirmados confirmados em todo o mundo. O surto da doença chegou aos Estados Unidos, com o surto de gripe na cidade de Wuhan, China, sendo o quarto maior já registrado em um período desde a epidemia de surtos no ano de 1994. Além disso, os casos das novas epidemias trazidas pela epidemia das SARS de 2013 no Haiti em 2020 tornaram-se os maiores problemas para a saúde da China. Em 14 de março, cerca de 4,85 milhão de pessoas estavam infectadas e cerca de 8%\n",
      "\n",
      "---\n",
      ">> Generated text 3\n",
      "\n",
      "A Rússia está mais perto de se tornar o primeiro país a iniciar a distribuição de uma vacina contra o coronavírus para a população. O país anunciou hoje que concluiu parte dos testes clínicos necessários para comprovar a eficácia da imunização desenvolvida por iniciativa do governo russo. A expectativa é de que a distribuição comece já em agosto.\n",
      "O Papa Francisco pediu ao povo russo que confirme a data da chegada da vacina. O Papa também pediu aos cidadãos russos que realizem uma conferência de imprensa oficial para o anúncio. Em 7 de dezembro de 2016, quando se iniciou o trabalho de tradução para mais idiomas, mais de 300 pessoas no mundo tiveram acesso aos benefícios da vacina.\n",
      "\n",
      "A primeira vacina para o coronavírus foi testada no Japão em 9 de março de 2020.\n",
      "\n",
      "Em 6 de fevereiro, um estudo realizado em Taiwan revelou que a epidemia do SARS é mais provável devido ao aumento do hábito. Por causa do aumento nas visitas dos cidadãos a hospitais para verificar que a vacina é eficaz, a saúde do país começou a declinar. O ministro da Saúde japonês, Toshihiko Hayashi disse que a crise da saúde era uma consequência da melhora das medidas de prevenção e contra o coronavírus em relação ao início do período de alta infecção.\n",
      "\n",
      "A Rússia começou a distribuir a vacina no início de outubro, após a confirmação por funcionários da saúde pública de uma nova coronavírus. Foi lançada no mesmo dia em todas as regiões ocidentais do país. O total de pessoas hospitalizadas pelo vírus foi de aproximadamente 431 em Taiwan. Além disso, entre 15 e 17 de outubro, uma pessoa foi internada no Hospital Universitário de Pequim, nos arredores de Pequim, devido a um surto viral de SARS. Os sintomas de pneumonia, febre, prurido e pneumonia permaneceram altas durante toda a primeira quinzena de outubro. Os outros dois dias depois, no Hospital Universitário de Moscou, a doença causou mais mortes confirmadas do que não provocado anteriormente, com cerca de 211. O número de passageiros do Hospital Universitário de Moscou caiu 297 pessoas.\n",
      "\n",
      "A agência russa \"DPS\" declarou como uma das principais preocupações sobre a doença a saúde pública na República Popular da China. Em janeiro de 2020, o governo chinês lançou três programas de vacinação oral nos distritos urbanos em resposta à melhora global e a pandemia no Vale do Silício. O programa nacional de vacinação, chamado de \"Omgao\", consiste num conjunto de 36 cidades com um total de 1.429 municípios (em regiões mais remotas do país). A aplicação do programa foi feita em 27\n",
      "\n",
      "---\n",
      "CPU times: user 7.56 s, sys: 242 ms, total: 7.81 s\n",
      "Wall time: 7.8 s\n"
     ]
    }
   ],
   "source": [
    "%%time\n",
    "#set top_k = 40 and num_return_sequences = 3\n",
    "sample_outputs = model_pt.generate(input_ids, pad_token_id=50256,\n",
    "                                   do_sample=True, \n",
    "                                   max_length=max_length, \n",
    "                                   min_length=max_length,\n",
    "                                   top_k=40,\n",
    "                                   num_return_sequences=3)\n",
    "\n",
    "for i, sample_output in enumerate(sample_outputs):\n",
    "    print(\">> Generated text {}\\n\\n{}\".format(i+1, tokenizer_pt.decode(sample_output.tolist())))\n",
    "    print('\\n---')"
   ]
  },
  {
   "cell_type": "markdown",
   "metadata": {
    "id": "AryB2KvsTFcl"
   },
   "source": [
    "##### Use case 2 (Top-p nucleus sampling)"
   ]
  },
  {
   "cell_type": "code",
   "execution_count": null,
   "metadata": {
    "id": "uZzrsFirTFcm",
    "outputId": "38886502-030c-4edf-ef7a-f1edb20d0ffe",
    "scrolled": false
   },
   "outputs": [
    {
     "name": "stdout",
     "output_type": "stream",
     "text": [
      ">> Generated text 1\n",
      "\n",
      "A Rússia está mais perto de se tornar o primeiro país a iniciar a distribuição de uma vacina contra o coronavírus para a população. O país anunciou hoje que concluiu parte dos testes clínicos necessários para comprovar a eficácia da imunização desenvolvida por iniciativa do governo russo. A expectativa é de que a distribuição comece já em agosto.\n",
      "\n",
      "A Rússia tem um mercado interno bruto (PIB) estimado entre US$ 1,2 bilhões e US$ 7 bilhões. O PIB \"per capita\" em 2007 foi de US $ 4,348. A maior parte do crescimento econômico anual ocorreu na agricultura. Em 2003, a taxa média anual era de 22%.\n",
      "\n",
      "Em 2004, cerca de 3 milhões de pessoas foram infectadas pelo coronavírus. Cerca de 17 mil casos foram identificados entre 2001 e 2002, incluindo aproximadamente 2,8% das crianças e adolescentes com idade inferior a seis anos; 5,1 milhão deles eram endêmicas ou sem cuidados médicos; 8,711 mortes ocorreram nos três primeiros meses de vida após o contato com o vírus; 13,6 mil haviam retornado à Rússia; e 14,4% estavam doentes devido aos sintomas causados pela doença durante seus últimos dias no exterior, principalmente idosos e recém-nascidos infectados.\n",
      "\n",
      "Cerca de 6 milhões de russos estão vivendo em países fora da União Europeia, sendo eles os Estados Unidos, China, Índia, Itália, Japão, Reino Unido, Austrália, Nova Zelândia, Países Baixos, Rússia, Turquia, Espanha, Suécia e África do Sul. Em novembro de 2008, estimava-se que 20 milhões de russos estariam potencialmente infetados naquele ano.\n",
      "\n",
      "A Organização Mundial da Saúde divulgou dados detalhados sobre as medidas antivirais prescritas por cada país segundo os padrões estabelecidos.\n",
      "\n",
      "O número total de infeção por coronavírus foi inicialmente estimado em 12.000 em 2005. Em janeiro de 2006, estimava-se que 924.300 pessoas tinham sido contaminadas. No mesmo mês, o Ministério da Saúde confirmou que havia aumentado o número de casos confirmados desde o início da pandemia. O número de mortes atribuídas ao coronavírus caiu de 50 para 54 em janeiro de 2006, enquanto novos surtos começaram em março de 2006. Os números de casos suspeitos aumentaram ainda mais após o início da epidemia em janeiro. A Organização Mundial da Saúde divulgou estatísticas oficiais em fevereiro de 2006 mostrando que todos os indivíduos que tenham sido contestados como tendo casos não apresentaram qualquer sintoma claro ou grave risco.\n",
      "\n",
      "Desde o início da pandemia, um grande número de pessoas têm sido afetadas por COVID-19. Mais tarde,\n",
      "\n",
      "---\n",
      ">> Generated text 2\n",
      "\n",
      "A Rússia está mais perto de se tornar o primeiro país a iniciar a distribuição de uma vacina contra o coronavírus para a população. O país anunciou hoje que concluiu parte dos testes clínicos necessários para comprovar a eficácia da imunização desenvolvida por iniciativa do governo russo. A expectativa é de que a distribuição comece já em agosto.\n",
      "\n",
      "Em junho, a Organização Mundial da Saúde divulgou um relatório sobre o surto e previu que os casos confirmados pela Rússia naquele ano ultrapassariam 10 milhões de pessoas. Em julho, foi relatado que o vírus havia matado 50% das crianças entre 15 e 21 anos. Em agosto, o Ministério da Saúde confirmou que as mortes foram estimadas no total devido à infecção causada pelo vírus \"S\". Em setembro, uma nova pesquisa revelou que 90% dos infectados haviam sido mortos antes mesmo da chegada da vacina.\n",
      "\n",
      "O governo soviético aprovou em dezembro de 2008, como forma de comemorar o centenário do nascimento da primeira vacina contra o coronavírus (CVD), dois novos centros comerciais russos estão sendo construídos na cidade de Moscou. No entanto, apenas três deles são permanentes: um na Rússia central; outro na fronteira leste com a Ucrânia; e outro nos subúrbios de Vyacheslavsky-Kaliningrado. Em 29 de janeiro de 2009, o governo anunciou planos futuros para construir estações comerciais em todas as regiões afetadas pelos surtos.\n",
      "\n",
      "Até maio de 2013, todos os postos de saúde oficiais estabelecidos no país estavam fechados desde então. Em 1º de março de 2014, a Rússia fechou seus aeroportos, deixando suas fronteiras fechadas para os voos domésticos e internacionais.\n",
      "\n",
      "Desde abril de 2015, cerca de 318 mil imigrantes estrangeiros vêm anualmente da Rússia, principalmente alemães étnicos russos residentes na Alemanha Oriental e eslavos orientais radicados lá. A entrada desses migrantes trouxe também grandes quantidades de problemas econômicos ao país. Os últimos emigrantes vindos ilegalmente vieram sobretudo após a Segunda Guerra Mundial.\n",
      "\n",
      "No final de 2019, muitos milhares de trabalhadores europeus emigraram para o leste da Europa para escapar da guerra civil russa. A maioria destes emigrantes veio da Rússia depois da invasão alemã de 1941.\n",
      "\n",
      "De acordo com a Organização Mundial da Saúde, a taxa de mortalidade infantil na Rússia diminuiu substancialmente desde o início do século XX, mas o número caiu em grande medida entre 1990 e 2001, quando o número aumentou novamente, alcançando a cifra de 7,5% entre 1995 e 2000. No entanto, esse número permaneceu estável até 2007, quando passou de 4,1%, e subiu novamente para 5,9%. As taxas gerais de mortalidade diminuíram consideravelmente durante este\n",
      "\n",
      "---\n",
      ">> Generated text 3\n",
      "\n",
      "A Rússia está mais perto de se tornar o primeiro país a iniciar a distribuição de uma vacina contra o coronavírus para a população. O país anunciou hoje que concluiu parte dos testes clínicos necessários para comprovar a eficácia da imunização desenvolvida por iniciativa do governo russo. A expectativa é de que a distribuição comece já em agosto.\n",
      "\n",
      "A Organização Mundial de Saúde (OMS) estima que, no final de dezembro de 2015, havia pelo menos 50 milhões de pessoas infectadas com o vírus na Rússia e Ucrânia. Estimativas semelhantes foram feitas pela OMS sobre os casos registrados desde a década passada. Em março de 2018, o Ministério da Saúde confirmou a descoberta de um novo coronavírus e recomendou aos cidadãos russos manter a disposição para evitar viagens ao exterior após o início das aulas médicas ou exames médicos.\n",
      "\n",
      "Em novembro de 2016, o Ministro da Saúde russo confirmou que todos os indivíduos infectados poderiam ser testados em março; assim como seus familiares e amigos, eles podem fazer teste clínico em uma unidade cirúrgica do hospital da cidade em que são colocados, caso necessário. Também foi anunciado no mesmo dia que o Ministério do Trabalho revelou que as autoridades russas estão trabalhando em conjunto visando reduzir o número de mortes causadas pelas epidemias. A agência informou que a Agência Nacional de Vigilância Sanitária Russa (Anvisa) começou a monitorar a pandemia através de máscaras faciais nos hospitais.\n",
      "\n",
      "Em abril de 2019, o Ministério da Saúde divulgou que 582 mil pessoas haviam sido infetadas com o vírus no país entre janeiro de 2019 e maio de 2020. Cerca de 370 mil desses pacientes estariam diretamente relacionados à doença.\n",
      "\n",
      "A Rússia também tem planos promissores para produzir vacinas que sejam eficazes contra o coronavírus, incluindo a vacina anti-SIDA e antivirais (ver Lista Vermelha da OMS).\n",
      "\n",
      "Em 1º de julho de 2017, a Organização Mundial de Saúde lançou uma nota oficial alertando que \"um grande aumento pode vir da necessidade de medidas preventivas necessárias\" antes do início das aulas médicas em escolas públicas nas cidades ucranianas.\n",
      "\n",
      "Em outubro de 2017, a Secretaria Municipal de Saúde ucraniana publicou uma nota oficial informando que os profissionais responsáveis ​​pela coordenação da vacinação deveriam estar preparados, bem como suas famílias e amigos durante a realização de exames adicionais para determinar sua saúde mental.\n",
      "\n",
      "Em 30 de junho de 2019, o Ministério da Saúde lançou um comunicado afirmando que três grupos escolares teriam dificuldades de administrar adequadamente o vacina contra o coronavírus na Rússia:\n",
      "\n",
      "A primeira ministra russa, Valentina Tereshinakova, disse em entrevista coletiva que não haverá\n",
      "\n",
      "---\n",
      "CPU times: user 37.9 s, sys: 1.78 s, total: 39.7 s\n",
      "Wall time: 39.6 s\n"
     ]
    }
   ],
   "source": [
    "%%time\n",
    "#set top_p = 0.95, top_k = 50, temperature = 0.7, repetition_penalty = 1.2 and num_return_sequences = 3\n",
    "sample_outputs = model_pt.generate(input_ids, pad_token_id=50256,\n",
    "                                   do_sample=True,\n",
    "                                   max_length=max_length, \n",
    "                                   min_length=max_length,\n",
    "                                   repetition_penalty=1.2,\n",
    "                                   temperature=0.7,\n",
    "                                   top_k=50, \n",
    "                                   top_p=0.95, \n",
    "                                   num_return_sequences=3)\n",
    "\n",
    "for i, sample_output in enumerate(sample_outputs):\n",
    "    print(\">> Generated text {}\\n\\n{}\".format(i+1, tokenizer_pt.decode(sample_output.tolist())))\n",
    "    print('\\n---')"
   ]
  },
  {
   "cell_type": "markdown",
   "metadata": {
    "id": "Mh0noCnoTFcp"
   },
   "source": [
    "## Conclusion"
   ]
  },
  {
   "cell_type": "markdown",
   "metadata": {
    "id": "AqoI-pTXTFcp"
   },
   "source": [
    "We are the first, fortunately surprised by the efficiency of fine-tuning in Portuguese an English pre-trained transformer-based language model like GPT-2 small.\n",
    "\n",
    "In about 1 day using 1 GPU and a little over 1 GB of Portuguese texts, we managed to obtain a **GPorTuguese-2 capable of generating contextual Portuguese texts of a level comparable to that of the GPT-2 used by OpenAI in 2019**.\n",
    "\n",
    "Happy.\n",
    "\n",
    "The next step would be to apply our fine-tuning method to most recent NLP models like GPT-3, BART, T5 or Reformer. Let’s do it?"
   ]
  },
  {
   "cell_type": "markdown",
   "metadata": {
    "id": "MmeCQF5MTFcq"
   },
   "source": [
    "## END"
   ]
  }
 ],
 "metadata": {
  "colab": {
   "collapsed_sections": [
    "_s3LmdkKTFQa",
    "2nhMPUPgTFQ8",
    "GgQoTU9hTFRP",
    "0Ivth48xTFRR",
    "4n2vd_I9TFRn",
    "p1KGGj31TFSS",
    "Fp3eir0yTFSt",
    "G1H_nKOQTFTK",
    "37b6K03dTFUG",
    "gjBlYsxPTFUH",
    "2_tQbQz3TFWQ",
    "s6PdPVxpTFWo",
    "_tJsPwzYTFWs",
    "vO7a0dJpTFW1",
    "qImO1jOfTFY5",
    "5w8t6eJ2TFZB",
    "NAoy1ACrTFZD",
    "pOEE5MfzTFZF",
    "Yv0RuicvTFZg",
    "Z7Ew79sXTFaz",
    "JdayCG7WTFbI",
    "4vtc89T3TFcO"
   ],
   "name": "finetuning-English-GPT2-any-language-Portuguese-HuggingFace-fastaiv2_FAST.ipynb",
   "provenance": [],
   "toc_visible": true
  },
  "kernelspec": {
   "display_name": "gpt-2",
   "language": "python",
   "name": "gpt-2"
  },
  "language_info": {
   "codemirror_mode": {
    "name": "ipython",
    "version": 3
   },
   "file_extension": ".py",
   "mimetype": "text/x-python",
   "name": "python",
   "nbconvert_exporter": "python",
   "pygments_lexer": "ipython3",
   "version": "3.8.3"
  },
  "widgets": {
   "application/vnd.jupyter.widget-state+json": {
    "004914ed9db84c3896782833597c1913": {
     "model_module": "@jupyter-widgets/controls",
     "model_name": "HBoxModel",
     "state": {
      "_dom_classes": [],
      "_model_module": "@jupyter-widgets/controls",
      "_model_module_version": "1.5.0",
      "_model_name": "HBoxModel",
      "_view_count": null,
      "_view_module": "@jupyter-widgets/controls",
      "_view_module_version": "1.5.0",
      "_view_name": "HBoxView",
      "box_style": "",
      "children": [
       "IPY_MODEL_f1c7fe06cbe0481d8a2e2e9e36947767",
       "IPY_MODEL_1ca9f6df8dcb4f4da46081a3280a33db"
      ],
      "layout": "IPY_MODEL_03bad06c9c4c46afaf96d3ba10d5e290"
     }
    },
    "03bad06c9c4c46afaf96d3ba10d5e290": {
     "model_module": "@jupyter-widgets/base",
     "model_name": "LayoutModel",
     "state": {
      "_model_module": "@jupyter-widgets/base",
      "_model_module_version": "1.2.0",
      "_model_name": "LayoutModel",
      "_view_count": null,
      "_view_module": "@jupyter-widgets/base",
      "_view_module_version": "1.2.0",
      "_view_name": "LayoutView",
      "align_content": null,
      "align_items": null,
      "align_self": null,
      "border": null,
      "bottom": null,
      "display": null,
      "flex": null,
      "flex_flow": null,
      "grid_area": null,
      "grid_auto_columns": null,
      "grid_auto_flow": null,
      "grid_auto_rows": null,
      "grid_column": null,
      "grid_gap": null,
      "grid_row": null,
      "grid_template_areas": null,
      "grid_template_columns": null,
      "grid_template_rows": null,
      "height": null,
      "justify_content": null,
      "justify_items": null,
      "left": null,
      "margin": null,
      "max_height": null,
      "max_width": null,
      "min_height": null,
      "min_width": null,
      "object_fit": null,
      "object_position": null,
      "order": null,
      "overflow": null,
      "overflow_x": null,
      "overflow_y": null,
      "padding": null,
      "right": null,
      "top": null,
      "visibility": null,
      "width": null
     }
    },
    "0bb6fa0a425d4687a7595b001524c496": {
     "model_module": "@jupyter-widgets/base",
     "model_name": "LayoutModel",
     "state": {
      "_model_module": "@jupyter-widgets/base",
      "_model_module_version": "1.2.0",
      "_model_name": "LayoutModel",
      "_view_count": null,
      "_view_module": "@jupyter-widgets/base",
      "_view_module_version": "1.2.0",
      "_view_name": "LayoutView",
      "align_content": null,
      "align_items": null,
      "align_self": null,
      "border": null,
      "bottom": null,
      "display": null,
      "flex": null,
      "flex_flow": null,
      "grid_area": null,
      "grid_auto_columns": null,
      "grid_auto_flow": null,
      "grid_auto_rows": null,
      "grid_column": null,
      "grid_gap": null,
      "grid_row": null,
      "grid_template_areas": null,
      "grid_template_columns": null,
      "grid_template_rows": null,
      "height": null,
      "justify_content": null,
      "justify_items": null,
      "left": null,
      "margin": null,
      "max_height": null,
      "max_width": null,
      "min_height": null,
      "min_width": null,
      "object_fit": null,
      "object_position": null,
      "order": null,
      "overflow": null,
      "overflow_x": null,
      "overflow_y": null,
      "padding": null,
      "right": null,
      "top": null,
      "visibility": null,
      "width": null
     }
    },
    "189c494e8d514b539e914f4e7495d540": {
     "model_module": "@jupyter-widgets/controls",
     "model_name": "HTMLModel",
     "state": {
      "_dom_classes": [],
      "_model_module": "@jupyter-widgets/controls",
      "_model_module_version": "1.5.0",
      "_model_name": "HTMLModel",
      "_view_count": null,
      "_view_module": "@jupyter-widgets/controls",
      "_view_module_version": "1.5.0",
      "_view_name": "HTMLView",
      "description": "",
      "description_tooltip": null,
      "layout": "IPY_MODEL_265b0de75b0d4cc29d465efa8eecb982",
      "placeholder": "​",
      "style": "IPY_MODEL_ab5d39763e0b4c06901fef1a3721f30a",
      "value": " 1.42G/1.42G [00:51&lt;00:00, 27.5MB/s]"
     }
    },
    "1a4992a69645424e97ee2676c4bf9829": {
     "model_module": "@jupyter-widgets/controls",
     "model_name": "FloatProgressModel",
     "state": {
      "_dom_classes": [],
      "_model_module": "@jupyter-widgets/controls",
      "_model_module_version": "1.5.0",
      "_model_name": "FloatProgressModel",
      "_view_count": null,
      "_view_module": "@jupyter-widgets/controls",
      "_view_module_version": "1.5.0",
      "_view_name": "ProgressView",
      "bar_style": "success",
      "description": "Downloading: 100%",
      "description_tooltip": null,
      "layout": "IPY_MODEL_1f558ba76c4445de8c6dbe9c1a7e923a",
      "max": 1419628976,
      "min": 0,
      "orientation": "horizontal",
      "style": "IPY_MODEL_2241de82be2546d2a6dc40db6b25404b",
      "value": 1419628976
     }
    },
    "1ca9f6df8dcb4f4da46081a3280a33db": {
     "model_module": "@jupyter-widgets/controls",
     "model_name": "HTMLModel",
     "state": {
      "_dom_classes": [],
      "_model_module": "@jupyter-widgets/controls",
      "_model_module_version": "1.5.0",
      "_model_name": "HTMLModel",
      "_view_count": null,
      "_view_module": "@jupyter-widgets/controls",
      "_view_module_version": "1.5.0",
      "_view_name": "HTMLView",
      "description": "",
      "description_tooltip": null,
      "layout": "IPY_MODEL_4151472ce29f41c6bf7f8e1e1d2c76a2",
      "placeholder": "​",
      "style": "IPY_MODEL_65869a6d5748458ba53f6c677ddb2778",
      "value": " 718/718 [00:52&lt;00:00, 13.7B/s]"
     }
    },
    "1f558ba76c4445de8c6dbe9c1a7e923a": {
     "model_module": "@jupyter-widgets/base",
     "model_name": "LayoutModel",
     "state": {
      "_model_module": "@jupyter-widgets/base",
      "_model_module_version": "1.2.0",
      "_model_name": "LayoutModel",
      "_view_count": null,
      "_view_module": "@jupyter-widgets/base",
      "_view_module_version": "1.2.0",
      "_view_name": "LayoutView",
      "align_content": null,
      "align_items": null,
      "align_self": null,
      "border": null,
      "bottom": null,
      "display": null,
      "flex": null,
      "flex_flow": null,
      "grid_area": null,
      "grid_auto_columns": null,
      "grid_auto_flow": null,
      "grid_auto_rows": null,
      "grid_column": null,
      "grid_gap": null,
      "grid_row": null,
      "grid_template_areas": null,
      "grid_template_columns": null,
      "grid_template_rows": null,
      "height": null,
      "justify_content": null,
      "justify_items": null,
      "left": null,
      "margin": null,
      "max_height": null,
      "max_width": null,
      "min_height": null,
      "min_width": null,
      "object_fit": null,
      "object_position": null,
      "order": null,
      "overflow": null,
      "overflow_x": null,
      "overflow_y": null,
      "padding": null,
      "right": null,
      "top": null,
      "visibility": null,
      "width": null
     }
    },
    "2241de82be2546d2a6dc40db6b25404b": {
     "model_module": "@jupyter-widgets/controls",
     "model_name": "ProgressStyleModel",
     "state": {
      "_model_module": "@jupyter-widgets/controls",
      "_model_module_version": "1.5.0",
      "_model_name": "ProgressStyleModel",
      "_view_count": null,
      "_view_module": "@jupyter-widgets/base",
      "_view_module_version": "1.2.0",
      "_view_name": "StyleView",
      "bar_color": null,
      "description_width": "initial"
     }
    },
    "265b0de75b0d4cc29d465efa8eecb982": {
     "model_module": "@jupyter-widgets/base",
     "model_name": "LayoutModel",
     "state": {
      "_model_module": "@jupyter-widgets/base",
      "_model_module_version": "1.2.0",
      "_model_name": "LayoutModel",
      "_view_count": null,
      "_view_module": "@jupyter-widgets/base",
      "_view_module_version": "1.2.0",
      "_view_name": "LayoutView",
      "align_content": null,
      "align_items": null,
      "align_self": null,
      "border": null,
      "bottom": null,
      "display": null,
      "flex": null,
      "flex_flow": null,
      "grid_area": null,
      "grid_auto_columns": null,
      "grid_auto_flow": null,
      "grid_auto_rows": null,
      "grid_column": null,
      "grid_gap": null,
      "grid_row": null,
      "grid_template_areas": null,
      "grid_template_columns": null,
      "grid_template_rows": null,
      "height": null,
      "justify_content": null,
      "justify_items": null,
      "left": null,
      "margin": null,
      "max_height": null,
      "max_width": null,
      "min_height": null,
      "min_width": null,
      "object_fit": null,
      "object_position": null,
      "order": null,
      "overflow": null,
      "overflow_x": null,
      "overflow_y": null,
      "padding": null,
      "right": null,
      "top": null,
      "visibility": null,
      "width": null
     }
    },
    "2de4d659731b461da4472fe51b1f8c13": {
     "model_module": "@jupyter-widgets/base",
     "model_name": "LayoutModel",
     "state": {
      "_model_module": "@jupyter-widgets/base",
      "_model_module_version": "1.2.0",
      "_model_name": "LayoutModel",
      "_view_count": null,
      "_view_module": "@jupyter-widgets/base",
      "_view_module_version": "1.2.0",
      "_view_name": "LayoutView",
      "align_content": null,
      "align_items": null,
      "align_self": null,
      "border": null,
      "bottom": null,
      "display": null,
      "flex": null,
      "flex_flow": null,
      "grid_area": null,
      "grid_auto_columns": null,
      "grid_auto_flow": null,
      "grid_auto_rows": null,
      "grid_column": null,
      "grid_gap": null,
      "grid_row": null,
      "grid_template_areas": null,
      "grid_template_columns": null,
      "grid_template_rows": null,
      "height": null,
      "justify_content": null,
      "justify_items": null,
      "left": null,
      "margin": null,
      "max_height": null,
      "max_width": null,
      "min_height": null,
      "min_width": null,
      "object_fit": null,
      "object_position": null,
      "order": null,
      "overflow": null,
      "overflow_x": null,
      "overflow_y": null,
      "padding": null,
      "right": null,
      "top": null,
      "visibility": null,
      "width": null
     }
    },
    "30d9f6799de14abe934c90dc68e75f36": {
     "model_module": "@jupyter-widgets/controls",
     "model_name": "FloatProgressModel",
     "state": {
      "_dom_classes": [],
      "_model_module": "@jupyter-widgets/controls",
      "_model_module_version": "1.5.0",
      "_model_name": "FloatProgressModel",
      "_view_count": null,
      "_view_module": "@jupyter-widgets/controls",
      "_view_module_version": "1.5.0",
      "_view_name": "ProgressView",
      "bar_style": "success",
      "description": "Downloading: 100%",
      "description_tooltip": null,
      "layout": "IPY_MODEL_9ad511ce0df942968e33f136c5b7ab32",
      "max": 456318,
      "min": 0,
      "orientation": "horizontal",
      "style": "IPY_MODEL_809d5a7cec634c85aa24098373d7cb25",
      "value": 456318
     }
    },
    "4151472ce29f41c6bf7f8e1e1d2c76a2": {
     "model_module": "@jupyter-widgets/base",
     "model_name": "LayoutModel",
     "state": {
      "_model_module": "@jupyter-widgets/base",
      "_model_module_version": "1.2.0",
      "_model_name": "LayoutModel",
      "_view_count": null,
      "_view_module": "@jupyter-widgets/base",
      "_view_module_version": "1.2.0",
      "_view_name": "LayoutView",
      "align_content": null,
      "align_items": null,
      "align_self": null,
      "border": null,
      "bottom": null,
      "display": null,
      "flex": null,
      "flex_flow": null,
      "grid_area": null,
      "grid_auto_columns": null,
      "grid_auto_flow": null,
      "grid_auto_rows": null,
      "grid_column": null,
      "grid_gap": null,
      "grid_row": null,
      "grid_template_areas": null,
      "grid_template_columns": null,
      "grid_template_rows": null,
      "height": null,
      "justify_content": null,
      "justify_items": null,
      "left": null,
      "margin": null,
      "max_height": null,
      "max_width": null,
      "min_height": null,
      "min_width": null,
      "object_fit": null,
      "object_position": null,
      "order": null,
      "overflow": null,
      "overflow_x": null,
      "overflow_y": null,
      "padding": null,
      "right": null,
      "top": null,
      "visibility": null,
      "width": null
     }
    },
    "53e3f04d4adf458cbd4fd689df7a079c": {
     "model_module": "@jupyter-widgets/controls",
     "model_name": "FloatProgressModel",
     "state": {
      "_dom_classes": [],
      "_model_module": "@jupyter-widgets/controls",
      "_model_module_version": "1.5.0",
      "_model_name": "FloatProgressModel",
      "_view_count": null,
      "_view_module": "@jupyter-widgets/controls",
      "_view_module_version": "1.5.0",
      "_view_name": "ProgressView",
      "bar_style": "success",
      "description": "Downloading: 100%",
      "description_tooltip": null,
      "layout": "IPY_MODEL_2de4d659731b461da4472fe51b1f8c13",
      "max": 1042301,
      "min": 0,
      "orientation": "horizontal",
      "style": "IPY_MODEL_b15e7b67c49f4ae8bf4e4bc4f2bdb6c5",
      "value": 1042301
     }
    },
    "590775b688674f668c8a0170f348eacf": {
     "model_module": "@jupyter-widgets/base",
     "model_name": "LayoutModel",
     "state": {
      "_model_module": "@jupyter-widgets/base",
      "_model_module_version": "1.2.0",
      "_model_name": "LayoutModel",
      "_view_count": null,
      "_view_module": "@jupyter-widgets/base",
      "_view_module_version": "1.2.0",
      "_view_name": "LayoutView",
      "align_content": null,
      "align_items": null,
      "align_self": null,
      "border": null,
      "bottom": null,
      "display": null,
      "flex": null,
      "flex_flow": null,
      "grid_area": null,
      "grid_auto_columns": null,
      "grid_auto_flow": null,
      "grid_auto_rows": null,
      "grid_column": null,
      "grid_gap": null,
      "grid_row": null,
      "grid_template_areas": null,
      "grid_template_columns": null,
      "grid_template_rows": null,
      "height": null,
      "justify_content": null,
      "justify_items": null,
      "left": null,
      "margin": null,
      "max_height": null,
      "max_width": null,
      "min_height": null,
      "min_width": null,
      "object_fit": null,
      "object_position": null,
      "order": null,
      "overflow": null,
      "overflow_x": null,
      "overflow_y": null,
      "padding": null,
      "right": null,
      "top": null,
      "visibility": null,
      "width": null
     }
    },
    "59c50b1c4bcc448eaadff24b78d095cd": {
     "model_module": "@jupyter-widgets/controls",
     "model_name": "ProgressStyleModel",
     "state": {
      "_model_module": "@jupyter-widgets/controls",
      "_model_module_version": "1.5.0",
      "_model_name": "ProgressStyleModel",
      "_view_count": null,
      "_view_module": "@jupyter-widgets/base",
      "_view_module_version": "1.2.0",
      "_view_name": "StyleView",
      "bar_color": null,
      "description_width": "initial"
     }
    },
    "65869a6d5748458ba53f6c677ddb2778": {
     "model_module": "@jupyter-widgets/controls",
     "model_name": "DescriptionStyleModel",
     "state": {
      "_model_module": "@jupyter-widgets/controls",
      "_model_module_version": "1.5.0",
      "_model_name": "DescriptionStyleModel",
      "_view_count": null,
      "_view_module": "@jupyter-widgets/base",
      "_view_module_version": "1.2.0",
      "_view_name": "StyleView",
      "description_width": ""
     }
    },
    "73233b9e1c6e49038f42a182d3385243": {
     "model_module": "@jupyter-widgets/controls",
     "model_name": "HBoxModel",
     "state": {
      "_dom_classes": [],
      "_model_module": "@jupyter-widgets/controls",
      "_model_module_version": "1.5.0",
      "_model_name": "HBoxModel",
      "_view_count": null,
      "_view_module": "@jupyter-widgets/controls",
      "_view_module_version": "1.5.0",
      "_view_name": "HBoxView",
      "box_style": "",
      "children": [
       "IPY_MODEL_30d9f6799de14abe934c90dc68e75f36",
       "IPY_MODEL_d3bc548d0de948ac99d063af16ef7a51"
      ],
      "layout": "IPY_MODEL_590775b688674f668c8a0170f348eacf"
     }
    },
    "7339c727b4fd41c6979b01fe14301d0c": {
     "model_module": "@jupyter-widgets/controls",
     "model_name": "HBoxModel",
     "state": {
      "_dom_classes": [],
      "_model_module": "@jupyter-widgets/controls",
      "_model_module_version": "1.5.0",
      "_model_name": "HBoxModel",
      "_view_count": null,
      "_view_module": "@jupyter-widgets/controls",
      "_view_module_version": "1.5.0",
      "_view_name": "HBoxView",
      "box_style": "",
      "children": [
       "IPY_MODEL_53e3f04d4adf458cbd4fd689df7a079c",
       "IPY_MODEL_7bd94203f46943cd97aea49d9e022513"
      ],
      "layout": "IPY_MODEL_8ebd076a08ac4264b474e2d99ace50fe"
     }
    },
    "7bd94203f46943cd97aea49d9e022513": {
     "model_module": "@jupyter-widgets/controls",
     "model_name": "HTMLModel",
     "state": {
      "_dom_classes": [],
      "_model_module": "@jupyter-widgets/controls",
      "_model_module_version": "1.5.0",
      "_model_name": "HTMLModel",
      "_view_count": null,
      "_view_module": "@jupyter-widgets/controls",
      "_view_module_version": "1.5.0",
      "_view_name": "HTMLView",
      "description": "",
      "description_tooltip": null,
      "layout": "IPY_MODEL_a5658ff9b375406b9246b39c19731d09",
      "placeholder": "​",
      "style": "IPY_MODEL_ec5a3516f5144dc0a8e713f8c5788725",
      "value": " 1.04M/1.04M [00:01&lt;00:00, 700kB/s]"
     }
    },
    "809d5a7cec634c85aa24098373d7cb25": {
     "model_module": "@jupyter-widgets/controls",
     "model_name": "ProgressStyleModel",
     "state": {
      "_model_module": "@jupyter-widgets/controls",
      "_model_module_version": "1.5.0",
      "_model_name": "ProgressStyleModel",
      "_view_count": null,
      "_view_module": "@jupyter-widgets/base",
      "_view_module_version": "1.2.0",
      "_view_name": "StyleView",
      "bar_color": null,
      "description_width": "initial"
     }
    },
    "8ebd076a08ac4264b474e2d99ace50fe": {
     "model_module": "@jupyter-widgets/base",
     "model_name": "LayoutModel",
     "state": {
      "_model_module": "@jupyter-widgets/base",
      "_model_module_version": "1.2.0",
      "_model_name": "LayoutModel",
      "_view_count": null,
      "_view_module": "@jupyter-widgets/base",
      "_view_module_version": "1.2.0",
      "_view_name": "LayoutView",
      "align_content": null,
      "align_items": null,
      "align_self": null,
      "border": null,
      "bottom": null,
      "display": null,
      "flex": null,
      "flex_flow": null,
      "grid_area": null,
      "grid_auto_columns": null,
      "grid_auto_flow": null,
      "grid_auto_rows": null,
      "grid_column": null,
      "grid_gap": null,
      "grid_row": null,
      "grid_template_areas": null,
      "grid_template_columns": null,
      "grid_template_rows": null,
      "height": null,
      "justify_content": null,
      "justify_items": null,
      "left": null,
      "margin": null,
      "max_height": null,
      "max_width": null,
      "min_height": null,
      "min_width": null,
      "object_fit": null,
      "object_position": null,
      "order": null,
      "overflow": null,
      "overflow_x": null,
      "overflow_y": null,
      "padding": null,
      "right": null,
      "top": null,
      "visibility": null,
      "width": null
     }
    },
    "9ad511ce0df942968e33f136c5b7ab32": {
     "model_module": "@jupyter-widgets/base",
     "model_name": "LayoutModel",
     "state": {
      "_model_module": "@jupyter-widgets/base",
      "_model_module_version": "1.2.0",
      "_model_name": "LayoutModel",
      "_view_count": null,
      "_view_module": "@jupyter-widgets/base",
      "_view_module_version": "1.2.0",
      "_view_name": "LayoutView",
      "align_content": null,
      "align_items": null,
      "align_self": null,
      "border": null,
      "bottom": null,
      "display": null,
      "flex": null,
      "flex_flow": null,
      "grid_area": null,
      "grid_auto_columns": null,
      "grid_auto_flow": null,
      "grid_auto_rows": null,
      "grid_column": null,
      "grid_gap": null,
      "grid_row": null,
      "grid_template_areas": null,
      "grid_template_columns": null,
      "grid_template_rows": null,
      "height": null,
      "justify_content": null,
      "justify_items": null,
      "left": null,
      "margin": null,
      "max_height": null,
      "max_width": null,
      "min_height": null,
      "min_width": null,
      "object_fit": null,
      "object_position": null,
      "order": null,
      "overflow": null,
      "overflow_x": null,
      "overflow_y": null,
      "padding": null,
      "right": null,
      "top": null,
      "visibility": null,
      "width": null
     }
    },
    "a5658ff9b375406b9246b39c19731d09": {
     "model_module": "@jupyter-widgets/base",
     "model_name": "LayoutModel",
     "state": {
      "_model_module": "@jupyter-widgets/base",
      "_model_module_version": "1.2.0",
      "_model_name": "LayoutModel",
      "_view_count": null,
      "_view_module": "@jupyter-widgets/base",
      "_view_module_version": "1.2.0",
      "_view_name": "LayoutView",
      "align_content": null,
      "align_items": null,
      "align_self": null,
      "border": null,
      "bottom": null,
      "display": null,
      "flex": null,
      "flex_flow": null,
      "grid_area": null,
      "grid_auto_columns": null,
      "grid_auto_flow": null,
      "grid_auto_rows": null,
      "grid_column": null,
      "grid_gap": null,
      "grid_row": null,
      "grid_template_areas": null,
      "grid_template_columns": null,
      "grid_template_rows": null,
      "height": null,
      "justify_content": null,
      "justify_items": null,
      "left": null,
      "margin": null,
      "max_height": null,
      "max_width": null,
      "min_height": null,
      "min_width": null,
      "object_fit": null,
      "object_position": null,
      "order": null,
      "overflow": null,
      "overflow_x": null,
      "overflow_y": null,
      "padding": null,
      "right": null,
      "top": null,
      "visibility": null,
      "width": null
     }
    },
    "ab5d39763e0b4c06901fef1a3721f30a": {
     "model_module": "@jupyter-widgets/controls",
     "model_name": "DescriptionStyleModel",
     "state": {
      "_model_module": "@jupyter-widgets/controls",
      "_model_module_version": "1.5.0",
      "_model_name": "DescriptionStyleModel",
      "_view_count": null,
      "_view_module": "@jupyter-widgets/base",
      "_view_module_version": "1.2.0",
      "_view_name": "StyleView",
      "description_width": ""
     }
    },
    "afbea789abc6459eb2aae31cf007eb17": {
     "model_module": "@jupyter-widgets/base",
     "model_name": "LayoutModel",
     "state": {
      "_model_module": "@jupyter-widgets/base",
      "_model_module_version": "1.2.0",
      "_model_name": "LayoutModel",
      "_view_count": null,
      "_view_module": "@jupyter-widgets/base",
      "_view_module_version": "1.2.0",
      "_view_name": "LayoutView",
      "align_content": null,
      "align_items": null,
      "align_self": null,
      "border": null,
      "bottom": null,
      "display": null,
      "flex": null,
      "flex_flow": null,
      "grid_area": null,
      "grid_auto_columns": null,
      "grid_auto_flow": null,
      "grid_auto_rows": null,
      "grid_column": null,
      "grid_gap": null,
      "grid_row": null,
      "grid_template_areas": null,
      "grid_template_columns": null,
      "grid_template_rows": null,
      "height": null,
      "justify_content": null,
      "justify_items": null,
      "left": null,
      "margin": null,
      "max_height": null,
      "max_width": null,
      "min_height": null,
      "min_width": null,
      "object_fit": null,
      "object_position": null,
      "order": null,
      "overflow": null,
      "overflow_x": null,
      "overflow_y": null,
      "padding": null,
      "right": null,
      "top": null,
      "visibility": null,
      "width": null
     }
    },
    "b15e7b67c49f4ae8bf4e4bc4f2bdb6c5": {
     "model_module": "@jupyter-widgets/controls",
     "model_name": "ProgressStyleModel",
     "state": {
      "_model_module": "@jupyter-widgets/controls",
      "_model_module_version": "1.5.0",
      "_model_name": "ProgressStyleModel",
      "_view_count": null,
      "_view_module": "@jupyter-widgets/base",
      "_view_module_version": "1.2.0",
      "_view_name": "StyleView",
      "bar_color": null,
      "description_width": "initial"
     }
    },
    "c1b67b20c30940c4b788fb992735aae4": {
     "model_module": "@jupyter-widgets/controls",
     "model_name": "HBoxModel",
     "state": {
      "_dom_classes": [],
      "_model_module": "@jupyter-widgets/controls",
      "_model_module_version": "1.5.0",
      "_model_name": "HBoxModel",
      "_view_count": null,
      "_view_module": "@jupyter-widgets/controls",
      "_view_module_version": "1.5.0",
      "_view_name": "HBoxView",
      "box_style": "",
      "children": [
       "IPY_MODEL_1a4992a69645424e97ee2676c4bf9829",
       "IPY_MODEL_189c494e8d514b539e914f4e7495d540"
      ],
      "layout": "IPY_MODEL_afbea789abc6459eb2aae31cf007eb17"
     }
    },
    "cdecd9e8a652403a85c9500c48e0b4b6": {
     "model_module": "@jupyter-widgets/controls",
     "model_name": "DescriptionStyleModel",
     "state": {
      "_model_module": "@jupyter-widgets/controls",
      "_model_module_version": "1.5.0",
      "_model_name": "DescriptionStyleModel",
      "_view_count": null,
      "_view_module": "@jupyter-widgets/base",
      "_view_module_version": "1.2.0",
      "_view_name": "StyleView",
      "description_width": ""
     }
    },
    "d3bc548d0de948ac99d063af16ef7a51": {
     "model_module": "@jupyter-widgets/controls",
     "model_name": "HTMLModel",
     "state": {
      "_dom_classes": [],
      "_model_module": "@jupyter-widgets/controls",
      "_model_module_version": "1.5.0",
      "_model_name": "HTMLModel",
      "_view_count": null,
      "_view_module": "@jupyter-widgets/controls",
      "_view_module_version": "1.5.0",
      "_view_name": "HTMLView",
      "description": "",
      "description_tooltip": null,
      "layout": "IPY_MODEL_0bb6fa0a425d4687a7595b001524c496",
      "placeholder": "​",
      "style": "IPY_MODEL_cdecd9e8a652403a85c9500c48e0b4b6",
      "value": " 456k/456k [00:00&lt;00:00, 1.02MB/s]"
     }
    },
    "ec5a3516f5144dc0a8e713f8c5788725": {
     "model_module": "@jupyter-widgets/controls",
     "model_name": "DescriptionStyleModel",
     "state": {
      "_model_module": "@jupyter-widgets/controls",
      "_model_module_version": "1.5.0",
      "_model_name": "DescriptionStyleModel",
      "_view_count": null,
      "_view_module": "@jupyter-widgets/base",
      "_view_module_version": "1.2.0",
      "_view_name": "StyleView",
      "description_width": ""
     }
    },
    "f1c7fe06cbe0481d8a2e2e9e36947767": {
     "model_module": "@jupyter-widgets/controls",
     "model_name": "FloatProgressModel",
     "state": {
      "_dom_classes": [],
      "_model_module": "@jupyter-widgets/controls",
      "_model_module_version": "1.5.0",
      "_model_name": "FloatProgressModel",
      "_view_count": null,
      "_view_module": "@jupyter-widgets/controls",
      "_view_module_version": "1.5.0",
      "_view_name": "ProgressView",
      "bar_style": "success",
      "description": "Downloading: 100%",
      "description_tooltip": null,
      "layout": "IPY_MODEL_ff2af30d2ed04872b0df424eba79db3a",
      "max": 718,
      "min": 0,
      "orientation": "horizontal",
      "style": "IPY_MODEL_59c50b1c4bcc448eaadff24b78d095cd",
      "value": 718
     }
    },
    "ff2af30d2ed04872b0df424eba79db3a": {
     "model_module": "@jupyter-widgets/base",
     "model_name": "LayoutModel",
     "state": {
      "_model_module": "@jupyter-widgets/base",
      "_model_module_version": "1.2.0",
      "_model_name": "LayoutModel",
      "_view_count": null,
      "_view_module": "@jupyter-widgets/base",
      "_view_module_version": "1.2.0",
      "_view_name": "LayoutView",
      "align_content": null,
      "align_items": null,
      "align_self": null,
      "border": null,
      "bottom": null,
      "display": null,
      "flex": null,
      "flex_flow": null,
      "grid_area": null,
      "grid_auto_columns": null,
      "grid_auto_flow": null,
      "grid_auto_rows": null,
      "grid_column": null,
      "grid_gap": null,
      "grid_row": null,
      "grid_template_areas": null,
      "grid_template_columns": null,
      "grid_template_rows": null,
      "height": null,
      "justify_content": null,
      "justify_items": null,
      "left": null,
      "margin": null,
      "max_height": null,
      "max_width": null,
      "min_height": null,
      "min_width": null,
      "object_fit": null,
      "object_position": null,
      "order": null,
      "overflow": null,
      "overflow_x": null,
      "overflow_y": null,
      "padding": null,
      "right": null,
      "top": null,
      "visibility": null,
      "width": null
     }
    }
   }
  }
 },
 "nbformat": 4,
 "nbformat_minor": 1
}
