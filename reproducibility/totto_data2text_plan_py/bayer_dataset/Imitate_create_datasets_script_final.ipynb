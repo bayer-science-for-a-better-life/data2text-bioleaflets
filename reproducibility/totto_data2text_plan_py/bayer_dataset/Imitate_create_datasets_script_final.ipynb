{
 "cells": [
  {
   "cell_type": "code",
   "execution_count": 2,
   "metadata": {},
   "outputs": [],
   "source": [
    "import pickle\n",
    "import numpy as np\n",
    "import matplotlib.pyplot as plt\n",
    "import random\n",
    "import codecs\n",
    "import json\n",
    "\n",
    "from sklearn.model_selection import train_test_split\n",
    "from nltk import sent_tokenize, word_tokenize\n",
    "\n",
    "from nltk.tokenize import wordpunct_tokenize\n",
    "# from nltk.tokenize import word_tokenize\n",
    "\n",
    "from data_preparation.EMA_documents import SectionLeaflet, Leaflet"
   ]
  },
  {
   "cell_type": "code",
   "execution_count": 3,
   "metadata": {},
   "outputs": [],
   "source": [
    "# load array of objects, where object - class Leaflet\n",
    "with open(\"LeafletsDataset_section1_NER_outputs.dat\", \"rb\") as f:\n",
    "    loaded_package_leaflets = pickle.load(f)"
   ]
  },
  {
   "cell_type": "code",
   "execution_count": 4,
   "metadata": {},
   "outputs": [
    {
     "data": {
      "text/plain": [
       "1250"
      ]
     },
     "execution_count": 4,
     "metadata": {},
     "output_type": "execute_result"
    }
   ],
   "source": [
    "len(loaded_package_leaflets)"
   ]
  },
  {
   "cell_type": "markdown",
   "metadata": {},
   "source": [
    "### Clean Leaflets dataset"
   ]
  },
  {
   "cell_type": "code",
   "execution_count": 5,
   "metadata": {},
   "outputs": [
    {
     "data": {
      "text/plain": [
       "'trydonis is a medicine to help breathing that contains the three active substances: beclometasone dipropionate, formoterol fumarate dihydrate and glycopyrronium. beclometasone dipropionate belongs to a group of medicines called corticosteroids which act to reduce the swelling and irritation in your lungs. formoterol and glycopyrronium are medicines called longacting bronchodilators. they act in different ways to relax the muscles in your airways, helping to open the airways wider and allowing you to breathe more easily. regular treatment with these three active substances helps to relieve and prevent symptoms such as shortness of breath, wheezing and cough in adult patients with chronic obstructive pulmonary disease (copd). trydonis can reduce exacerbations (flareups) of copd symptoms. copd is a serious long term disease in which the airways become blocked and air sacs inside the lungs become damaged, leading to difficulty breathing.'"
      ]
     },
     "execution_count": 5,
     "metadata": {},
     "output_type": "execute_result"
    }
   ],
   "source": [
    "loaded_package_leaflets[0].section1.section_content"
   ]
  },
  {
   "cell_type": "code",
   "execution_count": 6,
   "metadata": {},
   "outputs": [],
   "source": [
    "leaflets_length = []\n",
    "\n",
    "for leaflet in loaded_package_leaflets:\n",
    "    section1_content = leaflet.section1.section_content\n",
    "    \n",
    "    # remove None or empty section content\n",
    "    if section1_content is None or len(section1_content) == 0:\n",
    "        # loaded_package_leaflets.remove(leaflet)\n",
    "        print(section1_content)\n",
    "    \n",
    "    # calc the length of section1 content and add to list\n",
    "    leaflets_length.append(len(section1_content))"
   ]
  },
  {
   "cell_type": "code",
   "execution_count": 7,
   "metadata": {},
   "outputs": [
    {
     "data": {
      "text/plain": [
       "1250"
      ]
     },
     "execution_count": 7,
     "metadata": {},
     "output_type": "execute_result"
    }
   ],
   "source": [
    "len(loaded_package_leaflets)"
   ]
  },
  {
   "cell_type": "code",
   "execution_count": 8,
   "metadata": {},
   "outputs": [
    {
     "data": {
      "text/plain": [
       "1070.3224"
      ]
     },
     "execution_count": 8,
     "metadata": {},
     "output_type": "execute_result"
    }
   ],
   "source": [
    "np.mean(leaflets_length)"
   ]
  },
  {
   "cell_type": "code",
   "execution_count": 9,
   "metadata": {},
   "outputs": [
    {
     "data": {
      "text/plain": [
       "(array([324., 570., 213.,  74.,  30.,  19.,   4.,   4.,   0.,   1.,   4.,\n",
       "          2.,   1.,   0.,   0.,   0.,   0.,   0.,   0.,   0.,   0.,   1.,\n",
       "          0.,   2.,   0.,   0.,   0.,   0.,   0.,   1.]),\n",
       " array([   65.        ,   613.13333333,  1161.26666667,  1709.4       ,\n",
       "         2257.53333333,  2805.66666667,  3353.8       ,  3901.93333333,\n",
       "         4450.06666667,  4998.2       ,  5546.33333333,  6094.46666667,\n",
       "         6642.6       ,  7190.73333333,  7738.86666667,  8287.        ,\n",
       "         8835.13333333,  9383.26666667,  9931.4       , 10479.53333333,\n",
       "        11027.66666667, 11575.8       , 12123.93333333, 12672.06666667,\n",
       "        13220.2       , 13768.33333333, 14316.46666667, 14864.6       ,\n",
       "        15412.73333333, 15960.86666667, 16509.        ]),\n",
       " <a list of 30 Patch objects>)"
      ]
     },
     "execution_count": 9,
     "metadata": {},
     "output_type": "execute_result"
    },
    {
     "data": {
      "image/png": "[encoded data removed]",
      "text/plain": [
       "<Figure size 432x288 with 1 Axes>"
      ]
     },
     "metadata": {},
     "output_type": "display_data"
    }
   ],
   "source": [
    "plt.hist(leaflets_length, bins=30)"
   ]
  },
  {
   "cell_type": "code",
   "execution_count": 11,
   "metadata": {},
   "outputs": [
    {
     "name": "stdout",
     "output_type": "stream",
     "text": [
      "1\n"
     ]
    }
   ],
   "source": [
    "# remove \"outliers\" - just make a better content extraction system! \n",
    "\n",
    "count_large_content = 0\n",
    "\n",
    "for leaflet in loaded_package_leaflets:\n",
    "    section1_content = leaflet.section1.section_content\n",
    "    \n",
    "    if len(section1_content) >= 3000:\n",
    "        count_large_content += 1\n",
    "        loaded_package_leaflets.remove(leaflet)\n",
    "\n",
    "print(count_large_content)"
   ]
  },
  {
   "cell_type": "code",
   "execution_count": 12,
   "metadata": {},
   "outputs": [],
   "source": [
    "leaflets_length = []\n",
    "\n",
    "for leaflet in loaded_package_leaflets:\n",
    "    leaflets_length.append(len(leaflet.section1.section_content))"
   ]
  },
  {
   "cell_type": "code",
   "execution_count": 13,
   "metadata": {},
   "outputs": [
    {
     "data": {
      "text/plain": [
       "1220"
      ]
     },
     "execution_count": 13,
     "metadata": {},
     "output_type": "execute_result"
    }
   ],
   "source": [
    "len(loaded_package_leaflets)"
   ]
  },
  {
   "cell_type": "code",
   "execution_count": 14,
   "metadata": {},
   "outputs": [
    {
     "data": {
      "text/plain": [
       "961.7909836065573"
      ]
     },
     "execution_count": 14,
     "metadata": {},
     "output_type": "execute_result"
    }
   ],
   "source": [
    "np.mean(leaflets_length)"
   ]
  },
  {
   "cell_type": "code",
   "execution_count": 15,
   "metadata": {},
   "outputs": [
    {
     "data": {
      "text/plain": [
       "(array([ 1.,  0.,  0.,  2.,  3.,  4.,  4., 12., 16., 16., 25., 23., 29.,\n",
       "        29., 30., 33., 36., 40., 28., 36., 40., 38., 37., 32., 59., 32.,\n",
       "        21., 36., 36., 29., 26., 29., 23., 21., 22., 26., 15., 19., 26.,\n",
       "        18., 21., 10.,  9., 11.,  8., 11.,  7., 11., 13.,  4., 12.,  8.,\n",
       "         9.,  5.,  8.,  6.,  8.,  5.,  2.,  2.,  3.,  6.,  7., 11.,  2.,\n",
       "         4.,  5.,  3.,  3.,  4.,  5.,  2.,  1.,  1.,  2.,  0.,  1.,  1.,\n",
       "         2.,  2.,  3.,  2.,  0.,  4.,  1.,  1.,  1.,  1.,  4.,  2.,  2.,\n",
       "         1.,  2.,  2.,  3.,  0.,  1.,  1.,  0.,  2.]),\n",
       " array([  65.  ,   94.29,  123.58,  152.87,  182.16,  211.45,  240.74,\n",
       "         270.03,  299.32,  328.61,  357.9 ,  387.19,  416.48,  445.77,\n",
       "         475.06,  504.35,  533.64,  562.93,  592.22,  621.51,  650.8 ,\n",
       "         680.09,  709.38,  738.67,  767.96,  797.25,  826.54,  855.83,\n",
       "         885.12,  914.41,  943.7 ,  972.99, 1002.28, 1031.57, 1060.86,\n",
       "        1090.15, 1119.44, 1148.73, 1178.02, 1207.31, 1236.6 , 1265.89,\n",
       "        1295.18, 1324.47, 1353.76, 1383.05, 1412.34, 1441.63, 1470.92,\n",
       "        1500.21, 1529.5 , 1558.79, 1588.08, 1617.37, 1646.66, 1675.95,\n",
       "        1705.24, 1734.53, 1763.82, 1793.11, 1822.4 , 1851.69, 1880.98,\n",
       "        1910.27, 1939.56, 1968.85, 1998.14, 2027.43, 2056.72, 2086.01,\n",
       "        2115.3 , 2144.59, 2173.88, 2203.17, 2232.46, 2261.75, 2291.04,\n",
       "        2320.33, 2349.62, 2378.91, 2408.2 , 2437.49, 2466.78, 2496.07,\n",
       "        2525.36, 2554.65, 2583.94, 2613.23, 2642.52, 2671.81, 2701.1 ,\n",
       "        2730.39, 2759.68, 2788.97, 2818.26, 2847.55, 2876.84, 2906.13,\n",
       "        2935.42, 2964.71, 2994.  ]),\n",
       " <a list of 100 Patch objects>)"
      ]
     },
     "execution_count": 15,
     "metadata": {},
     "output_type": "execute_result"
    },
    {
     "data": {
      "image/png": "[encoded data removed]",
      "text/plain": [
       "<Figure size 432x288 with 1 Axes>"
      ]
     },
     "metadata": {},
     "output_type": "display_data"
    }
   ],
   "source": [
    "plt.hist(leaflets_length, bins=100)"
   ]
  },
  {
   "cell_type": "code",
   "execution_count": 16,
   "metadata": {},
   "outputs": [],
   "source": [
    "    # split dataset into train-valid-test (1000-120-100) and shuffle \n",
    "\n",
    "    # train - test\n",
    "    train_leaflets, test_leaflets = train_test_split(loaded_package_leaflets, test_size=100, random_state=42, shuffle=True)\n",
    "\n",
    "    # train - valid \n",
    "    train_leaflets, valid_leaflets = train_test_split(train_leaflets, test_size=120, random_state=42, shuffle=True)"
   ]
  },
  {
   "cell_type": "markdown",
   "metadata": {},
   "source": [
    "## Produce same output as the script *create_dataset* from data2text-plain"
   ]
  },
  {
   "cell_type": "markdown",
   "metadata": {},
   "source": [
    "### Plan\n",
    "\n",
    "section_content -------- true text   \n",
    "\n",
    "entity_recognition  ------- actually input - set of records   \n",
    "\n",
    "Set of records in order they appear in section_content    -------- content plan "
   ]
  },
  {
   "cell_type": "code",
   "execution_count": 17,
   "metadata": {},
   "outputs": [],
   "source": [
    "RECORD_DELIM = \" \"\n",
    "DELIM = u\"￨\"\n",
    "\n",
    "HOME = \"HOME\"\n",
    "AWAY = \"AWAY\"\n",
    "\n",
    "ENTITY = \"Indication\"\n",
    "\n",
    "PAD_WORD = '<blank>'\n",
    "UNK_WORD = '<unk>'\n",
    "UNK = 0\n",
    "BOS_WORD = '<s>'\n",
    "EOS_WORD = '</s>'"
   ]
  },
  {
   "cell_type": "code",
   "execution_count": 18,
   "metadata": {},
   "outputs": [],
   "source": [
    "def create_summary_contentplan(dataset):\n",
    "    \"\"\"\n",
    "    Transform dataset to be a suitable format for model data2text-plan\n",
    "    \"\"\"\n",
    "    \n",
    "    # array to store section1 of each leaflet\n",
    "    summaries_leaflets = []\n",
    "    \n",
    "    # array to store content plan of each leaflet\n",
    "    content_plan_leaflets = []\n",
    "    \n",
    "    for leaflet in dataset:\n",
    "        \n",
    "        # extract section1 content\n",
    "        section1_content = leaflet.section1.section_content\n",
    "        # extract results of NER\n",
    "        section1_entity_recognition = leaflet.section1.entity_recognition\n",
    "\n",
    "        # get the content plan of each section\n",
    "        content_plan_section1 = ''\n",
    "\n",
    "        for entity in section1_entity_recognition:\n",
    "            entity_value = entity['Text'] if len(entity['Text'].split(\" \")) == 0 else (\"_\").join(entity['Text'].split(\" \"))\n",
    "            entity_type = entity['Type'] if entity['Type'] is not None and len(entity['Type']) > 0 else entity['Category']\n",
    "            \n",
    "            # randomly choose HOME or AWAY\n",
    "            if random.randint(1,2) == 1:\n",
    "                content_plan_section1 += entity_value + DELIM + ENTITY + DELIM + entity_type + DELIM + HOME\n",
    "            else:\n",
    "                content_plan_section1 += entity_value + DELIM + ENTITY + DELIM + entity_type + DELIM + AWAY\n",
    "            \n",
    "            if section1_entity_recognition.index(entity) != len(section1_entity_recognition) - 1:\n",
    "                content_plan_section1 += \" \"\n",
    "            else:\n",
    "                content_plan_section1 += \" \" + \"\\n\"\n",
    "\n",
    "\n",
    "        content_plan_leaflets.append(content_plan_section1)\n",
    "\n",
    "        # get the section1 content\n",
    "        # make sure to have punctuations as a separate token\n",
    "        section1_content = wordpunct_tokenize(section1_content)\n",
    "        \n",
    "        # remove \"bulletpoints\" tokens\n",
    "        section1_content = [token for token in section1_content if token != \"\\uf02d\" and token != \"\\uf0a7\"]\n",
    "        \n",
    "        # back to string\n",
    "        section1_content = \" \".join(section1_content)\n",
    "        \n",
    "        # add \"\\n\" at the end\n",
    "        section1_content = section1_content + \"\\n\"\n",
    "        \n",
    "        summaries_leaflets.append(section1_content)\n",
    "    \n",
    "    return (content_plan_leaflets, summaries_leaflets)"
   ]
  },
  {
   "cell_type": "code",
   "execution_count": 19,
   "metadata": {},
   "outputs": [],
   "source": [
    "def add_special_records(records):\n",
    "    \"\"\"\n",
    "    To src_train.txt and src_valid.txt pre-append these special characters, according to data2text-plan project\n",
    "    \"\"\"\n",
    "    \n",
    "    record = []\n",
    "    record.append(UNK_WORD)\n",
    "    record.append(PAD_WORD)\n",
    "    record.append(PAD_WORD)\n",
    "    record.append(PAD_WORD)\n",
    "    records.append(DELIM.join(record))\n",
    "    record = []\n",
    "    record.append(PAD_WORD)\n",
    "    record.append(PAD_WORD)\n",
    "    record.append(PAD_WORD)\n",
    "    record.append(PAD_WORD)\n",
    "    records.append(DELIM.join(record))\n",
    "    record = []\n",
    "    record.append(BOS_WORD)\n",
    "    record.append(PAD_WORD)\n",
    "    record.append(PAD_WORD)\n",
    "    record.append(PAD_WORD)\n",
    "    records.append(DELIM.join(record))\n",
    "    record = []\n",
    "    record.append(EOS_WORD)\n",
    "    record.append(PAD_WORD)\n",
    "    record.append(PAD_WORD)\n",
    "    record.append(PAD_WORD)\n",
    "    records.append(DELIM.join(record))\n",
    "    \n",
    "    return records"
   ]
  },
  {
   "cell_type": "code",
   "execution_count": 20,
   "metadata": {},
   "outputs": [],
   "source": [
    "# get the src_train - training data to be input to the model\n",
    "\n",
    "\n",
    "def create_src_table(content_plan_leaflets):\n",
    "    \"\"\"\n",
    "    Create src_train - input \"table\" to the model\n",
    "    \n",
    "    Idea: - we do not have a table, so randomized the records in content plan\n",
    "    \"\"\"\n",
    "    \n",
    "    # store input \"table\" of each leaflet in array\n",
    "    src_leaflets = []\n",
    "    \n",
    "    for leaflet_content_plan in content_plan_leaflets:\n",
    "        # remove the end symbol ('\\n') of the string\n",
    "        leaflet_content_plan = leaflet_content_plan[:-2]\n",
    "\n",
    "        # split string into a list of records\n",
    "        leaflet_content_plan_collection = leaflet_content_plan.split(\" \")\n",
    "        \n",
    "        # randomly shuffle records in a list\n",
    "        random.shuffle(leaflet_content_plan_collection)\n",
    "        \n",
    "        # add special symbols to the begining\n",
    "        special_symbols = []\n",
    "        special_symbols = add_special_records(special_symbols)\n",
    "\n",
    "        # create a string containing all the records and special_symbols in the begining\n",
    "        src_leaflet_section1 = ''\n",
    "\n",
    "        src_leaflet_section1 += \" \".join(special_symbols)\n",
    "        src_leaflet_section1 += \" \"\n",
    "\n",
    "        src_leaflet_section1 += \" \".join(leaflet_content_plan_collection)\n",
    "        src_leaflet_section1 += '\\n'\n",
    "\n",
    "\n",
    "        src_leaflets.append(src_leaflet_section1)\n",
    "    \n",
    "    return src_leaflets"
   ]
  },
  {
   "cell_type": "code",
   "execution_count": 21,
   "metadata": {},
   "outputs": [],
   "source": [
    "def create_training_sets(dataset):\n",
    "    \n",
    "    # Output files\n",
    "    INTER_CONTENT_PLAN = 'inter/train_content_plan.txt'  # intermediate content plan input to second stage\n",
    "    SRC_FILE = 'src_train.txt'  # src file input to first stage\n",
    "    TRAIN_TGT_FILE = \"tgt_train.txt\"  # tgt file of second stage\n",
    "    CONTENT_PLAN_OUT = 'train_content_plan.txt'  # content plan output of first stage\n",
    "    \n",
    "    # Create src - content_plan - summary\n",
    "    content_plan_leaflets, summaries_leaflets = create_summary_contentplan(dataset)\n",
    "    src_leaflets = create_src_table(content_plan_leaflets)\n",
    "    \n",
    "    # save to corresponding files\n",
    "    output_file = open(INTER_CONTENT_PLAN, 'w')\n",
    "    for content_plan in content_plan_leaflets:\n",
    "        output_file.write(content_plan)\n",
    "    output_file.close()\n",
    "    \n",
    "    summary_file = open(TRAIN_TGT_FILE, 'w')\n",
    "    for summary_leaflet in summaries_leaflets:\n",
    "        summary_file.write(summary_leaflet)\n",
    "    summary_file.close()\n",
    "    \n",
    "    src_file = open(SRC_FILE, 'w')\n",
    "    for src_instance in src_leaflets:\n",
    "        src_file.write(src_instance)\n",
    "    src_file.close()\n",
    "    \n",
    "    ### create last file needed - e.g (rotowire/train_content_plan.txt)\n",
    "    inputs = []\n",
    "    content_plans = []\n",
    "    with codecs.open(INTER_CONTENT_PLAN, \"r\", \"utf-8\") as corpus_file:\n",
    "        for i, line in enumerate(corpus_file):\n",
    "            content_plans.append(line.split())\n",
    "\n",
    "    with codecs.open(SRC_FILE, \"r\", \"utf-8\") as corpus_file:\n",
    "        for i, line in enumerate(corpus_file):\n",
    "            inputs.append(line.split())\n",
    "    \n",
    "    # basically - now content plan POINTs to index in the training dataset\n",
    "    # content_plan - collection of indexes where each index points to record in training dataset - training_dataset[index]\n",
    "    \n",
    "    outputs = []\n",
    "\n",
    "    for i, training_sample in enumerate(inputs):\n",
    "        content_plan = content_plans[i]\n",
    "        output = []\n",
    "        for record in content_plan:\n",
    "            output.append(str(training_sample.index(record)))\n",
    "        outputs.append(\" \".join(output))\n",
    "        \n",
    "    # write to a file\n",
    "\n",
    "    output_file = open(CONTENT_PLAN_OUT, 'w')\n",
    "\n",
    "    # add \\n to the end of the string\n",
    "    output_file.write(\"\\n\".join(outputs))\n",
    "    # add \\n between content plans\n",
    "    output_file.write(\"\\n\")\n",
    "\n",
    "    output_file.close()\n",
    "    \n",
    "    return src_leaflets, content_plan_leaflets, summaries_leaflets"
   ]
  },
  {
   "cell_type": "code",
   "execution_count": 22,
   "metadata": {},
   "outputs": [],
   "source": [
    "leaflets_src_train, leaflets_inter_contentplan_train, leaflets_tgt_train = create_training_sets(train_leaflets)"
   ]
  },
  {
   "cell_type": "code",
   "execution_count": 43,
   "metadata": {},
   "outputs": [],
   "source": [
    "with open('src_train.txt') as reader:\n",
    "    # This reads the remaining lines from the file object and returns them as a list.\n",
    "    leaflet_src_train = reader.readlines()"
   ]
  },
  {
   "cell_type": "markdown",
   "metadata": {},
   "source": [
    "## Check the *leaflets* training input files and *NBA* input files"
   ]
  },
  {
   "cell_type": "code",
   "execution_count": 115,
   "metadata": {},
   "outputs": [],
   "source": [
    "with open('rotowire/train_content_plan.txt') as reader:\n",
    "    # This reads the remaining lines from the file object and returns them as a list.\n",
    "    nba_train_contentplan = reader.readlines()"
   ]
  },
  {
   "cell_type": "code",
   "execution_count": 72,
   "metadata": {},
   "outputs": [],
   "source": [
    "with open('train_content_plan.txt') as reader:\n",
    "    # This reads the remaining lines from the file object and returns them as a list.\n",
    "    leaflet_train_contentplan = reader.readlines()"
   ]
  },
  {
   "cell_type": "code",
   "execution_count": 117,
   "metadata": {},
   "outputs": [
    {
     "data": {
      "text/plain": [
       "'589 590 582 376 377 358 370 371 46 47 28 29 30 24 25 6 18 21\\n'"
      ]
     },
     "execution_count": 117,
     "metadata": {},
     "output_type": "execute_result"
    }
   ],
   "source": [
    "nba_train_contentplan[44]"
   ]
  },
  {
   "cell_type": "code",
   "execution_count": 73,
   "metadata": {},
   "outputs": [
    {
     "data": {
      "text/plain": [
       "'8 5 5 10 9 12 27 15 11 5 11 28 26 22 19 15 14 24 12 8 6 15 16 7 18 4 9 12\\n'"
      ]
     },
     "execution_count": 73,
     "metadata": {},
     "output_type": "execute_result"
    }
   ],
   "source": [
    "leaflet_train_contentplan[65]"
   ]
  },
  {
   "cell_type": "code",
   "execution_count": 74,
   "metadata": {},
   "outputs": [],
   "source": [
    "with open('rotowire/inter/train_content_plan.txt') as reader:\n",
    "    # This reads the remaining lines from the file object and returns them as a list.\n",
    "    nba_inter_train_content_plan = reader.readlines()"
   ]
  },
  {
   "cell_type": "code",
   "execution_count": 75,
   "metadata": {},
   "outputs": [],
   "source": [
    "with open('inter/train_content_plan.txt') as reader:\n",
    "    # This reads the remaining lines from the file object and returns them as a list.\n",
    "    leaflet_inter_train_content_plan = reader.readlines()"
   ]
  },
  {
   "cell_type": "code",
   "execution_count": 76,
   "metadata": {},
   "outputs": [
    {
     "data": {
      "text/plain": [
       "'New_Orleans￨Pelicans￨TEAM-CITY￨HOME Pelicans￨Pelicans￨TEAM-NAME￨HOME 106￨Pelicans￨TEAM-PTS￨HOME Boston￨Celtics￨TEAM-CITY￨AWAY Celtics￨Celtics￨TEAM-NAME￨AWAY 105￨Celtics￨TEAM-PTS￨AWAY 40￨Celtics￨TEAM-FG_PCT￨AWAY 29￨Celtics￨TEAM-FG3_PCT￨AWAY 19￨Celtics￨TEAM-AST￨AWAY 16￨Pelicans￨TEAM-AST￨HOME 5￨Celtics￨TEAM-WINS￨AWAY 5￨Celtics￨TEAM-LOSSES￨AWAY Isaiah￨Isaiah_Thomas￨FIRST_NAME￨AWAY Thomas￨Isaiah_Thomas￨SECOND_NAME￨AWAY 37￨Isaiah_Thomas￨PTS￨AWAY 3￨Isaiah_Thomas￨REB￨AWAY 7￨Isaiah_Thomas￨AST￨AWAY Avery￨Avery_Bradley￨FIRST_NAME￨AWAY Bradley￨Avery_Bradley￨SECOND_NAME￨AWAY 19￨Avery_Bradley￨PTS￨AWAY 10￨Avery_Bradley￨REB￨AWAY Marcus￨Marcus_Smart￨FIRST_NAME￨AWAY Smart￨Marcus_Smart￨SECOND_NAME￨AWAY 15￨Marcus_Smart￨PTS￨AWAY 6￨Marcus_Smart￨REB￨AWAY 3￨Marcus_Smart￨AST￨AWAY 4￨Marcus_Smart￨STL￨AWAY 2￨Pelicans￨TEAM-WINS￨HOME 9￨Pelicans￨TEAM-LOSSES￨HOME Anthony￨Anthony_Davis￨FIRST_NAME￨HOME Davis￨Anthony_Davis￨SECOND_NAME￨HOME 25￨Anthony_Davis￨PTS￨HOME 16￨Anthony_Davis￨REB￨HOME 4￨Anthony_Davis￨STL￨HOME Tim￨Tim_Frazier￨FIRST_NAME￨HOME Frazier￨Tim_Frazier￨SECOND_NAME￨HOME 10￨Tim_Frazier￨PTS￨HOME 3￨Tim_Frazier￨REB￨HOME 6￨Tim_Frazier￨AST￨HOME Langston￨Langston_Galloway￨FIRST_NAME￨HOME Galloway￨Langston_Galloway￨SECOND_NAME￨HOME 21￨Langston_Galloway￨PTS￨HOME Terrence￨Terrence_Jones￨FIRST_NAME￨HOME Jones￨Terrence_Jones￨SECOND_NAME￨HOME 15￨Terrence_Jones￨PTS￨HOME 10￨Terrence_Jones￨REB￨HOME \\n'"
      ]
     },
     "execution_count": 76,
     "metadata": {},
     "output_type": "execute_result"
    }
   ],
   "source": [
    "nba_inter_train_content_plan[122]"
   ]
  },
  {
   "cell_type": "code",
   "execution_count": 77,
   "metadata": {},
   "outputs": [
    {
     "data": {
      "text/plain": [
       "'follitropin￨Indication￨GENERIC_NAME￨AWAY infertility￨Indication￨DX_NAME￨AWAY vitro_fertilisation￨Indication￨PROCEDURE_NAME￨AWAY ivf￨Indication￨TREATMENT_NAME￨HOME intracytoplasmic_sperm_injection￨Indication￨TREATMENT_NAME￨AWAY ovaries￨Indication￨SYSTEM_ORGAN_SITE￨HOME \\n'"
      ]
     },
     "execution_count": 77,
     "metadata": {},
     "output_type": "execute_result"
    }
   ],
   "source": [
    "leaflet_inter_train_content_plan[12]"
   ]
  },
  {
   "cell_type": "code",
   "execution_count": 78,
   "metadata": {},
   "outputs": [],
   "source": [
    "with open('rotowire/src_train.txt') as reader:\n",
    "    # This reads the remaining lines from the file object and returns them as a list.\n",
    "    nba_src_train = reader.readlines()"
   ]
  },
  {
   "cell_type": "code",
   "execution_count": 79,
   "metadata": {},
   "outputs": [],
   "source": [
    "with open('src_train.txt') as reader:\n",
    "    # This reads the remaining lines from the file object and returns them as a list.\n",
    "    leaflet_src_train = reader.readlines()"
   ]
  },
  {
   "cell_type": "code",
   "execution_count": 80,
   "metadata": {},
   "outputs": [
    {
     "data": {
      "text/plain": [
       "'<unk>￨<blank>￨<blank>￨<blank> <blank>￨<blank>￨<blank>￨<blank> <s>￨<blank>￨<blank>￨<blank> </s>￨<blank>￨<blank>￨<blank> F￨Wilson_Chandler￨START_POSITION￨HOME 28￨Wilson_Chandler￨MIN￨HOME 9￨Wilson_Chandler￨PTS￨HOME 2￨Wilson_Chandler￨FGM￨HOME 7￨Wilson_Chandler￨FGA￨HOME 29￨Wilson_Chandler￨FG_PCT￨HOME 0￨Wilson_Chandler￨FG3M￨HOME 0￨Wilson_Chandler￨FG3A￨HOME 0￨Wilson_Chandler￨FG3_PCT￨HOME 5￨Wilson_Chandler￨FTM￨HOME 8￨Wilson_Chandler￨FTA￨HOME 63￨Wilson_Chandler￨FT_PCT￨HOME 2￨Wilson_Chandler￨OREB￨HOME 6￨Wilson_Chandler￨DREB￨HOME 8￨Wilson_Chandler￨REB￨HOME 3￨Wilson_Chandler￨AST￨HOME 0￨Wilson_Chandler￨TO￨HOME 0￨Wilson_Chandler￨STL￨HOME 0￨Wilson_Chandler￨BLK￨HOME 1￨Wilson_Chandler￨PF￨HOME Wilson￨Wilson_Chandler￨FIRST_NAME￨HOME Chandler￨Wilson_Chandler￨SECOND_NAME￨HOME F￨Danilo_Gallinari￨START_POSITION￨HOME 36￨Danilo_Gallinari￨MIN￨HOME 27￨Danilo_Gallinari￨PTS￨HOME 9￨Danilo_Gallinari￨FGM￨HOME 19￨Danilo_Gallinari￨FGA￨HOME 47￨Danilo_Gallinari￨FG_PCT￨HOME 7￨Danilo_Gallinari￨FG3M￨HOME 14￨Danilo_Gallinari￨FG3A￨HOME 50￨Danilo_Gallinari￨FG3_PCT￨HOME 2￨Danilo_Gallinari￨FTM￨HOME 4￨Danilo_Gallinari￨FTA￨HOME 50￨Danilo_Gallinari￨FT_PCT￨HOME 1￨Danilo_Gallinari￨OREB￨HOME 6￨Danilo_Gallinari￨DREB￨HOME 7￨Danilo_Gallinari￨REB￨HOME 4￨Danilo_Gallinari￨AST￨HOME 2￨Danilo_Gallinari￨TO￨HOME 0￨Danilo_Gallinari￨STL￨HOME 2￨Danilo_Gallinari￨BLK￨HOME 3￨Danilo_Gallinari￨PF￨HOME Danilo￨Danilo_Gallinari￨FIRST_NAME￨HOME Gallinari￨Danilo_Gallinari￨SECOND_NAME￨HOME C￨Kenneth_Faried￨START_POSITION￨HOME 29￨Kenneth_Faried￨MIN￨HOME 29￨Kenneth_Faried￨PTS￨HOME 10￨Kenneth_Faried￨FGM￨HOME 14￨Kenneth_Faried￨FGA￨HOME 71￨Kenneth_Faried￨FG_PCT￨HOME 0￨Kenneth_Faried￨FG3M￨HOME 0￨Kenneth_Faried￨FG3A￨HOME 0￨Kenneth_Faried￨FG3_PCT￨HOME 9￨Kenneth_Faried￨FTM￨HOME 9￨Kenneth_Faried￨FTA￨HOME 100￨Kenneth_Faried￨FT_PCT￨HOME 5￨Kenneth_Faried￨OREB￨HOME 6￨Kenneth_Faried￨DREB￨HOME 11￨Kenneth_Faried￨REB￨HOME 0￨Kenneth_Faried￨AST￨HOME 0￨Kenneth_Faried￨TO￨HOME 2￨Kenneth_Faried￨STL￨HOME 2￨Kenneth_Faried￨BLK￨HOME 5￨Kenneth_Faried￨PF￨HOME Kenneth￨Kenneth_Faried￨FIRST_NAME￨HOME Faried￨Kenneth_Faried￨SECOND_NAME￨HOME G￨Randy_Foye￨START_POSITION￨HOME 28￨Randy_Foye￨MIN￨HOME 12￨Randy_Foye￨PTS￨HOME 4￨Randy_Foye￨FGM￨HOME 6￨Randy_Foye￨FGA￨HOME 67￨Randy_Foye￨FG_PCT￨HOME 4￨Randy_Foye￨FG3M￨HOME 6￨Randy_Foye￨FG3A￨HOME 67￨Randy_Foye￨FG3_PCT￨HOME 0￨Randy_Foye￨FTM￨HOME 0￨Randy_Foye￨FTA￨HOME 0￨Randy_Foye￨FT_PCT￨HOME 0￨Randy_Foye￨OREB￨HOME 6￨Randy_Foye￨DREB￨HOME 6￨Randy_Foye￨REB￨HOME 7￨Randy_Foye￨AST￨HOME 1￨Randy_Foye￨TO￨HOME 0￨Randy_Foye￨STL￨HOME 0￨Randy_Foye￨BLK￨HOME 3￨Randy_Foye￨PF￨HOME Randy￨Randy_Foye￨FIRST_NAME￨HOME Foye￨Randy_Foye￨SECOND_NAME￨HOME G￨Ty_Lawson￨START_POSITION￨HOME 39￨Ty_Lawson￨MIN￨HOME 16￨Ty_Lawson￨PTS￨HOME 7￨Ty_Lawson￨FGM￨HOME 13￨Ty_Lawson￨FGA￨HOME 54￨Ty_Lawson￨FG_PCT￨HOME 0￨Ty_Lawson￨FG3M￨HOME 2￨Ty_Lawson￨FG3A￨HOME 0￨Ty_Lawson￨FG3_PCT￨HOME 2￨Ty_Lawson￨FTM￨HOME 3￨Ty_Lawson￨FTA￨HOME 67￨Ty_Lawson￨FT_PCT￨HOME 1￨Ty_Lawson￨OREB￨HOME 2￨Ty_Lawson￨DREB￨HOME 3￨Ty_Lawson￨REB￨HOME 8￨Ty_Lawson￨AST￨HOME 2￨Ty_Lawson￨TO￨HOME 1￨Ty_Lawson￨STL￨HOME 0￨Ty_Lawson￨BLK￨HOME 3￨Ty_Lawson￨PF￨HOME Ty￨Ty_Lawson￨FIRST_NAME￨HOME Lawson￨Ty_Lawson￨SECOND_NAME￨HOME N/A￨JJ_Hickson￨START_POSITION￨HOME 16￨JJ_Hickson￨MIN￨HOME 6￨JJ_Hickson￨PTS￨HOME 3￨JJ_Hickson￨FGM￨HOME 4￨JJ_Hickson￨FGA￨HOME 75￨JJ_Hickson￨FG_PCT￨HOME 0￨JJ_Hickson￨FG3M￨HOME 0￨JJ_Hickson￨FG3A￨HOME 0￨JJ_Hickson￨FG3_PCT￨HOME 0￨JJ_Hickson￨FTM￨HOME 0￨JJ_Hickson￨FTA￨HOME 0￨JJ_Hickson￨FT_PCT￨HOME 0￨JJ_Hickson￨OREB￨HOME 1￨JJ_Hickson￨DREB￨HOME 1￨JJ_Hickson￨REB￨HOME 1￨JJ_Hickson￨AST￨HOME 0￨JJ_Hickson￨TO￨HOME 2￨JJ_Hickson￨STL￨HOME 0￨JJ_Hickson￨BLK￨HOME 2￨JJ_Hickson￨PF￨HOME JJ￨JJ_Hickson￨FIRST_NAME￨HOME Hickson￨JJ_Hickson￨SECOND_NAME￨HOME N/A￨Will_Barton￨START_POSITION￨HOME 22￨Will_Barton￨MIN￨HOME 4￨Will_Barton￨PTS￨HOME 2￨Will_Barton￨FGM￨HOME 8￨Will_Barton￨FGA￨HOME 25￨Will_Barton￨FG_PCT￨HOME 0￨Will_Barton￨FG3M￨HOME 2￨Will_Barton￨FG3A￨HOME 0￨Will_Barton￨FG3_PCT￨HOME 0￨Will_Barton￨FTM￨HOME 0￨Will_Barton￨FTA￨HOME 0￨Will_Barton￨FT_PCT￨HOME 0￨Will_Barton￨OREB￨HOME 3￨Will_Barton￨DREB￨HOME 3￨Will_Barton￨REB￨HOME 0￨Will_Barton￨AST￨HOME 3￨Will_Barton￨TO￨HOME 2￨Will_Barton￨STL￨HOME 1￨Will_Barton￨BLK￨HOME 2￨Will_Barton￨PF￨HOME Will￨Will_Barton￨FIRST_NAME￨HOME Barton￨Will_Barton￨SECOND_NAME￨HOME N/A￨Jusuf_Nurkic￨START_POSITION￨HOME 8￨Jusuf_Nurkic￨MIN￨HOME 0￨Jusuf_Nurkic￨PTS￨HOME 0￨Jusuf_Nurkic￨FGM￨HOME 3￨Jusuf_Nurkic￨FGA￨HOME 0￨Jusuf_Nurkic￨FG_PCT￨HOME 0￨Jusuf_Nurkic￨FG3M￨HOME 0￨Jusuf_Nurkic￨FG3A￨HOME 0￨Jusuf_Nurkic￨FG3_PCT￨HOME 0￨Jusuf_Nurkic￨FTM￨HOME 0￨Jusuf_Nurkic￨FTA￨HOME 0￨Jusuf_Nurkic￨FT_PCT￨HOME 1￨Jusuf_Nurkic￨OREB￨HOME 1￨Jusuf_Nurkic￨DREB￨HOME 2￨Jusuf_Nurkic￨REB￨HOME 0￨Jusuf_Nurkic￨AST￨HOME 0￨Jusuf_Nurkic￨TO￨HOME 0￨Jusuf_Nurkic￨STL￨HOME 0￨Jusuf_Nurkic￨BLK￨HOME 1￨Jusuf_Nurkic￨PF￨HOME Jusuf￨Jusuf_Nurkic￨FIRST_NAME￨HOME Nurkic￨Jusuf_Nurkic￨SECOND_NAME￨HOME N/A￨Erick_Green￨START_POSITION￨HOME 9￨Erick_Green￨MIN￨HOME 2￨Erick_Green￨PTS￨HOME 1￨Erick_Green￨FGM￨HOME 3￨Erick_Green￨FGA￨HOME 33￨Erick_Green￨FG_PCT￨HOME 0￨Erick_Green￨FG3M￨HOME 0￨Erick_Green￨FG3A￨HOME 0￨Erick_Green￨FG3_PCT￨HOME 0￨Erick_Green￨FTM￨HOME 0￨Erick_Green￨FTA￨HOME 0￨Erick_Green￨FT_PCT￨HOME 0￨Erick_Green￨OREB￨HOME 1￨Erick_Green￨DREB￨HOME 1￨Erick_Green￨REB￨HOME 2￨Erick_Green￨AST￨HOME 1￨Erick_Green￨TO￨HOME 0￨Erick_Green￨STL￨HOME 0￨Erick_Green￨BLK￨HOME 0￨Erick_Green￨PF￨HOME Erick￨Erick_Green￨FIRST_NAME￨HOME Green￨Erick_Green￨SECOND_NAME￨HOME N/A￨Gary_Harris￨START_POSITION￨HOME 18￨Gary_Harris￨MIN￨HOME 9￨Gary_Harris￨PTS￨HOME 4￨Gary_Harris￨FGM￨HOME 6￨Gary_Harris￨FGA￨HOME 67￨Gary_Harris￨FG_PCT￨HOME 1￨Gary_Harris￨FG3M￨HOME 3￨Gary_Harris￨FG3A￨HOME 33￨Gary_Harris￨FG3_PCT￨HOME 0￨Gary_Harris￨FTM￨HOME 0￨Gary_Harris￨FTA￨HOME 0￨Gary_Harris￨FT_PCT￨HOME 0￨Gary_Harris￨OREB￨HOME 1￨Gary_Harris￨DREB￨HOME 1￨Gary_Harris￨REB￨HOME 0￨Gary_Harris￨AST￨HOME 0￨Gary_Harris￨TO￨HOME 0￨Gary_Harris￨STL￨HOME 1￨Gary_Harris￨BLK￨HOME 1￨Gary_Harris￨PF￨HOME Gary￨Gary_Harris￨FIRST_NAME￨HOME Harris￨Gary_Harris￨SECOND_NAME￨HOME N/A￨Joffrey_Lauvergne￨START_POSITION￨HOME 5￨Joffrey_Lauvergne￨MIN￨HOME 5￨Joffrey_Lauvergne￨PTS￨HOME 2￨Joffrey_Lauvergne￨FGM￨HOME 2￨Joffrey_Lauvergne￨FGA￨HOME 100￨Joffrey_Lauvergne￨FG_PCT￨HOME 1￨Joffrey_Lauvergne￨FG3M￨HOME 1￨Joffrey_Lauvergne￨FG3A￨HOME 100￨Joffrey_Lauvergne￨FG3_PCT￨HOME 0￨Joffrey_Lauvergne￨FTM￨HOME 0￨Joffrey_Lauvergne￨FTA￨HOME 0￨Joffrey_Lauvergne￨FT_PCT￨HOME 1￨Joffrey_Lauvergne￨OREB￨HOME 1￨Joffrey_Lauvergne￨DREB￨HOME 2￨Joffrey_Lauvergne￨REB￨HOME 1￨Joffrey_Lauvergne￨AST￨HOME 0￨Joffrey_Lauvergne￨TO￨HOME 0￨Joffrey_Lauvergne￨STL￨HOME 0￨Joffrey_Lauvergne￨BLK￨HOME 0￨Joffrey_Lauvergne￨PF￨HOME Joffrey￨Joffrey_Lauvergne￨FIRST_NAME￨HOME Lauvergne￨Joffrey_Lauvergne￨SECOND_NAME￨HOME N/A￨Ian_Clark￨START_POSITION￨HOME 2￨Ian_Clark￨MIN￨HOME 0￨Ian_Clark￨PTS￨HOME 0￨Ian_Clark￨FGM￨HOME 3￨Ian_Clark￨FGA￨HOME 0￨Ian_Clark￨FG_PCT￨HOME 0￨Ian_Clark￨FG3M￨HOME 2￨Ian_Clark￨FG3A￨HOME 0￨Ian_Clark￨FG3_PCT￨HOME 0￨Ian_Clark￨FTM￨HOME 0￨Ian_Clark￨FTA￨HOME 0￨Ian_Clark￨FT_PCT￨HOME 0￨Ian_Clark￨OREB￨HOME 0￨Ian_Clark￨DREB￨HOME 0￨Ian_Clark￨REB￨HOME 0￨Ian_Clark￨AST￨HOME 0￨Ian_Clark￨TO￨HOME 0￨Ian_Clark￨STL￨HOME 0￨Ian_Clark￨BLK￨HOME 1￨Ian_Clark￨PF￨HOME Ian￨Ian_Clark￨FIRST_NAME￨HOME Clark￨Ian_Clark￨SECOND_NAME￨HOME N/A￨Darrell_Arthur￨START_POSITION￨HOME N/A￨Darrell_Arthur￨MIN￨HOME N/A￨Darrell_Arthur￨PTS￨HOME N/A￨Darrell_Arthur￨FGM￨HOME N/A￨Darrell_Arthur￨FGA￨HOME N/A￨Darrell_Arthur￨FG_PCT￨HOME N/A￨Darrell_Arthur￨FG3M￨HOME N/A￨Darrell_Arthur￨FG3A￨HOME N/A￨Darrell_Arthur￨FG3_PCT￨HOME N/A￨Darrell_Arthur￨FTM￨HOME N/A￨Darrell_Arthur￨FTA￨HOME N/A￨Darrell_Arthur￨FT_PCT￨HOME N/A￨Darrell_Arthur￨OREB￨HOME N/A￨Darrell_Arthur￨DREB￨HOME N/A￨Darrell_Arthur￨REB￨HOME N/A￨Darrell_Arthur￨AST￨HOME N/A￨Darrell_Arthur￨TO￨HOME N/A￨Darrell_Arthur￨STL￨HOME N/A￨Darrell_Arthur￨BLK￨HOME N/A￨Darrell_Arthur￨PF￨HOME Darrell￨Darrell_Arthur￨FIRST_NAME￨HOME Arthur￨Darrell_Arthur￨SECOND_NAME￨HOME F￨Wesley_Johnson￨START_POSITION￨AWAY 30￨Wesley_Johnson￨MIN￨AWAY 7￨Wesley_Johnson￨PTS￨AWAY 3￨Wesley_Johnson￨FGM￨AWAY 10￨Wesley_Johnson￨FGA￨AWAY 30￨Wesley_Johnson￨FG_PCT￨AWAY 1￨Wesley_Johnson￨FG3M￨AWAY 4￨Wesley_Johnson￨FG3A￨AWAY 25￨Wesley_Johnson￨FG3_PCT￨AWAY 0￨Wesley_Johnson￨FTM￨AWAY 0￨Wesley_Johnson￨FTA￨AWAY 0￨Wesley_Johnson￨FT_PCT￨AWAY 0￨Wesley_Johnson￨OREB￨AWAY 3￨Wesley_Johnson￨DREB￨AWAY 3￨Wesley_Johnson￨REB￨AWAY 0￨Wesley_Johnson￨AST￨AWAY 0￨Wesley_Johnson￨TO￨AWAY 1￨Wesley_Johnson￨STL￨AWAY 0￨Wesley_Johnson￨BLK￨AWAY 5￨Wesley_Johnson￨PF￨AWAY Wesley￨Wesley_Johnson￨FIRST_NAME￨AWAY Johnson￨Wesley_Johnson￨SECOND_NAME￨AWAY F￨Ryan_Kelly￨START_POSITION￨AWAY 33￨Ryan_Kelly￨MIN￨AWAY 17￨Ryan_Kelly￨PTS￨AWAY 6￨Ryan_Kelly￨FGM￨AWAY 8￨Ryan_Kelly￨FGA￨AWAY 75￨Ryan_Kelly￨FG_PCT￨AWAY 2￨Ryan_Kelly￨FG3M￨AWAY 3￨Ryan_Kelly￨FG3A￨AWAY 67￨Ryan_Kelly￨FG3_PCT￨AWAY 3￨Ryan_Kelly￨FTM￨AWAY 4￨Ryan_Kelly￨FTA￨AWAY 75￨Ryan_Kelly￨FT_PCT￨AWAY 0￨Ryan_Kelly￨OREB￨AWAY 1￨Ryan_Kelly￨DREB￨AWAY 1￨Ryan_Kelly￨REB￨AWAY 2￨Ryan_Kelly￨AST￨AWAY 0￨Ryan_Kelly￨TO￨AWAY 1￨Ryan_Kelly￨STL￨AWAY 2￨Ryan_Kelly￨BLK￨AWAY 3￨Ryan_Kelly￨PF￨AWAY Ryan￨Ryan_Kelly￨FIRST_NAME￨AWAY Kelly￨Ryan_Kelly￨SECOND_NAME￨AWAY C￨Tarik_Black￨START_POSITION￨AWAY 17￨Tarik_Black￨MIN￨AWAY 5￨Tarik_Black￨PTS￨AWAY 2￨Tarik_Black￨FGM￨AWAY 3￨Tarik_Black￨FGA￨AWAY 67￨Tarik_Black￨FG_PCT￨AWAY 0￨Tarik_Black￨FG3M￨AWAY 0￨Tarik_Black￨FG3A￨AWAY 0￨Tarik_Black￨FG3_PCT￨AWAY 1￨Tarik_Black￨FTM￨AWAY 4￨Tarik_Black￨FTA￨AWAY 25￨Tarik_Black￨FT_PCT￨AWAY 0￨Tarik_Black￨OREB￨AWAY 2￨Tarik_Black￨DREB￨AWAY 2￨Tarik_Black￨REB￨AWAY 0￨Tarik_Black￨AST￨AWAY 0￨Tarik_Black￨TO￨AWAY 1￨Tarik_Black￨STL￨AWAY 0￨Tarik_Black￨BLK￨AWAY 2￨Tarik_Black￨PF￨AWAY Tarik￨Tarik_Black￨FIRST_NAME￨AWAY Black￨Tarik_Black￨SECOND_NAME￨AWAY G￨Jabari_Brown￨START_POSITION￨AWAY 34￨Jabari_Brown￨MIN￨AWAY 11￨Jabari_Brown￨PTS￨AWAY 3￨Jabari_Brown￨FGM￨AWAY 12￨Jabari_Brown￨FGA￨AWAY 25￨Jabari_Brown￨FG_PCT￨AWAY 1￨Jabari_Brown￨FG3M￨AWAY 4￨Jabari_Brown￨FG3A￨AWAY 25￨Jabari_Brown￨FG3_PCT￨AWAY 4￨Jabari_Brown￨FTM￨AWAY 5￨Jabari_Brown￨FTA￨AWAY 80￨Jabari_Brown￨FT_PCT￨AWAY 1￨Jabari_Brown￨OREB￨AWAY 3￨Jabari_Brown￨DREB￨AWAY 4￨Jabari_Brown￨REB￨AWAY 0￨Jabari_Brown￨AST￨AWAY 1￨Jabari_Brown￨TO￨AWAY 0￨Jabari_Brown￨STL￨AWAY 0￨Jabari_Brown￨BLK￨AWAY 1￨Jabari_Brown￨PF￨AWAY Jabari￨Jabari_Brown￨FIRST_NAME￨AWAY Brown￨Jabari_Brown￨SECOND_NAME￨AWAY G￨Jordan_Clarkson￨START_POSITION￨AWAY 35￨Jordan_Clarkson￨MIN￨AWAY 21￨Jordan_Clarkson￨PTS￨AWAY 7￨Jordan_Clarkson￨FGM￨AWAY 18￨Jordan_Clarkson￨FGA￨AWAY 39￨Jordan_Clarkson￨FG_PCT￨AWAY 0￨Jordan_Clarkson￨FG3M￨AWAY 3￨Jordan_Clarkson￨FG3A￨AWAY 0￨Jordan_Clarkson￨FG3_PCT￨AWAY 7￨Jordan_Clarkson￨FTM￨AWAY 7￨Jordan_Clarkson￨FTA￨AWAY 100￨Jordan_Clarkson￨FT_PCT￨AWAY 0￨Jordan_Clarkson￨OREB￨AWAY 3￨Jordan_Clarkson￨DREB￨AWAY 3￨Jordan_Clarkson￨REB￨AWAY 9￨Jordan_Clarkson￨AST￨AWAY 4￨Jordan_Clarkson￨TO￨AWAY 2￨Jordan_Clarkson￨STL￨AWAY 0￨Jordan_Clarkson￨BLK￨AWAY 4￨Jordan_Clarkson￨PF￨AWAY Jordan￨Jordan_Clarkson￨FIRST_NAME￨AWAY Clarkson￨Jordan_Clarkson￨SECOND_NAME￨AWAY N/A￨Ed_Davis￨START_POSITION￨AWAY 31￨Ed_Davis￨MIN￨AWAY 15￨Ed_Davis￨PTS￨AWAY 6￨Ed_Davis￨FGM￨AWAY 9￨Ed_Davis￨FGA￨AWAY 67￨Ed_Davis￨FG_PCT￨AWAY 0￨Ed_Davis￨FG3M￨AWAY 0￨Ed_Davis￨FG3A￨AWAY 0￨Ed_Davis￨FG3_PCT￨AWAY 3￨Ed_Davis￨FTM￨AWAY 8￨Ed_Davis￨FTA￨AWAY 38￨Ed_Davis￨FT_PCT￨AWAY 5￨Ed_Davis￨OREB￨AWAY 7￨Ed_Davis￨DREB￨AWAY 12￨Ed_Davis￨REB￨AWAY 0￨Ed_Davis￨AST￨AWAY 2￨Ed_Davis￨TO￨AWAY 1￨Ed_Davis￨STL￨AWAY 0￨Ed_Davis￨BLK￨AWAY 3￨Ed_Davis￨PF￨AWAY Ed￨Ed_Davis￨FIRST_NAME￨AWAY Davis￨Ed_Davis￨SECOND_NAME￨AWAY N/A￨Dwight_Buycks￨START_POSITION￨AWAY 33￨Dwight_Buycks￨MIN￨AWAY 15￨Dwight_Buycks￨PTS￨AWAY 5￨Dwight_Buycks￨FGM￨AWAY 8￨Dwight_Buycks￨FGA￨AWAY 63￨Dwight_Buycks￨FG_PCT￨AWAY 1￨Dwight_Buycks￨FG3M￨AWAY 2￨Dwight_Buycks￨FG3A￨AWAY 50￨Dwight_Buycks￨FG3_PCT￨AWAY 4￨Dwight_Buycks￨FTM￨AWAY 5￨Dwight_Buycks￨FTA￨AWAY 80￨Dwight_Buycks￨FT_PCT￨AWAY 1￨Dwight_Buycks￨OREB￨AWAY 4￨Dwight_Buycks￨DREB￨AWAY 5￨Dwight_Buycks￨REB￨AWAY 3￨Dwight_Buycks￨AST￨AWAY 4￨Dwight_Buycks￨TO￨AWAY 1￨Dwight_Buycks￨STL￨AWAY 0￨Dwight_Buycks￨BLK￨AWAY 0￨Dwight_Buycks￨PF￨AWAY Dwight￨Dwight_Buycks￨FIRST_NAME￨AWAY Buycks￨Dwight_Buycks￨SECOND_NAME￨AWAY N/A￨Robert_Sacre￨START_POSITION￨AWAY 26￨Robert_Sacre￨MIN￨AWAY 10￨Robert_Sacre￨PTS￨AWAY 4￨Robert_Sacre￨FGM￨AWAY 7￨Robert_Sacre￨FGA￨AWAY 57￨Robert_Sacre￨FG_PCT￨AWAY 0￨Robert_Sacre￨FG3M￨AWAY 0￨Robert_Sacre￨FG3A￨AWAY 0￨Robert_Sacre￨FG3_PCT￨AWAY 2￨Robert_Sacre￨FTM￨AWAY 2￨Robert_Sacre￨FTA￨AWAY 100￨Robert_Sacre￨FT_PCT￨AWAY 2￨Robert_Sacre￨OREB￨AWAY 7￨Robert_Sacre￨DREB￨AWAY 9￨Robert_Sacre￨REB￨AWAY 1￨Robert_Sacre￨AST￨AWAY 3￨Robert_Sacre￨TO￨AWAY 0￨Robert_Sacre￨STL￨AWAY 0￨Robert_Sacre￨BLK￨AWAY 2￨Robert_Sacre￨PF￨AWAY Robert￨Robert_Sacre￨FIRST_NAME￨AWAY Sacre￨Robert_Sacre￨SECOND_NAME￨AWAY N/A￨Carlos_Boozer￨START_POSITION￨AWAY N/A￨Carlos_Boozer￨MIN￨AWAY N/A￨Carlos_Boozer￨PTS￨AWAY N/A￨Carlos_Boozer￨FGM￨AWAY N/A￨Carlos_Boozer￨FGA￨AWAY N/A￨Carlos_Boozer￨FG_PCT￨AWAY N/A￨Carlos_Boozer￨FG3M￨AWAY N/A￨Carlos_Boozer￨FG3A￨AWAY N/A￨Carlos_Boozer￨FG3_PCT￨AWAY N/A￨Carlos_Boozer￨FTM￨AWAY N/A￨Carlos_Boozer￨FTA￨AWAY N/A￨Carlos_Boozer￨FT_PCT￨AWAY N/A￨Carlos_Boozer￨OREB￨AWAY N/A￨Carlos_Boozer￨DREB￨AWAY N/A￨Carlos_Boozer￨REB￨AWAY N/A￨Carlos_Boozer￨AST￨AWAY N/A￨Carlos_Boozer￨TO￨AWAY N/A￨Carlos_Boozer￨STL￨AWAY N/A￨Carlos_Boozer￨BLK￨AWAY N/A￨Carlos_Boozer￨PF￨AWAY Carlos￨Carlos_Boozer￨FIRST_NAME￨AWAY Boozer￨Carlos_Boozer￨SECOND_NAME￨AWAY N/A￨Wayne_Ellington￨START_POSITION￨AWAY N/A￨Wayne_Ellington￨MIN￨AWAY N/A￨Wayne_Ellington￨PTS￨AWAY N/A￨Wayne_Ellington￨FGM￨AWAY N/A￨Wayne_Ellington￨FGA￨AWAY N/A￨Wayne_Ellington￨FG_PCT￨AWAY N/A￨Wayne_Ellington￨FG3M￨AWAY N/A￨Wayne_Ellington￨FG3A￨AWAY N/A￨Wayne_Ellington￨FG3_PCT￨AWAY N/A￨Wayne_Ellington￨FTM￨AWAY N/A￨Wayne_Ellington￨FTA￨AWAY N/A￨Wayne_Ellington￨FT_PCT￨AWAY N/A￨Wayne_Ellington￨OREB￨AWAY N/A￨Wayne_Ellington￨DREB￨AWAY N/A￨Wayne_Ellington￨REB￨AWAY N/A￨Wayne_Ellington￨AST￨AWAY N/A￨Wayne_Ellington￨TO￨AWAY N/A￨Wayne_Ellington￨STL￨AWAY N/A￨Wayne_Ellington￨BLK￨AWAY N/A￨Wayne_Ellington￨PF￨AWAY Wayne￨Wayne_Ellington￨FIRST_NAME￨AWAY Ellington￨Wayne_Ellington￨SECOND_NAME￨AWAY N/A￨Jordan_Hill￨START_POSITION￨AWAY N/A￨Jordan_Hill￨MIN￨AWAY N/A￨Jordan_Hill￨PTS￨AWAY N/A￨Jordan_Hill￨FGM￨AWAY N/A￨Jordan_Hill￨FGA￨AWAY N/A￨Jordan_Hill￨FG_PCT￨AWAY N/A￨Jordan_Hill￨FG3M￨AWAY N/A￨Jordan_Hill￨FG3A￨AWAY N/A￨Jordan_Hill￨FG3_PCT￨AWAY N/A￨Jordan_Hill￨FTM￨AWAY N/A￨Jordan_Hill￨FTA￨AWAY N/A￨Jordan_Hill￨FT_PCT￨AWAY N/A￨Jordan_Hill￨OREB￨AWAY N/A￨Jordan_Hill￨DREB￨AWAY N/A￨Jordan_Hill￨REB￨AWAY N/A￨Jordan_Hill￨AST￨AWAY N/A￨Jordan_Hill￨TO￨AWAY N/A￨Jordan_Hill￨STL￨AWAY N/A￨Jordan_Hill￨BLK￨AWAY N/A￨Jordan_Hill￨PF￨AWAY Jordan￨Jordan_Hill￨FIRST_NAME￨AWAY Hill￨Jordan_Hill￨SECOND_NAME￨AWAY N/A￨Jeremy_Lin￨START_POSITION￨AWAY N/A￨Jeremy_Lin￨MIN￨AWAY N/A￨Jeremy_Lin￨PTS￨AWAY N/A￨Jeremy_Lin￨FGM￨AWAY N/A￨Jeremy_Lin￨FGA￨AWAY N/A￨Jeremy_Lin￨FG_PCT￨AWAY N/A￨Jeremy_Lin￨FG3M￨AWAY N/A￨Jeremy_Lin￨FG3A￨AWAY N/A￨Jeremy_Lin￨FG3_PCT￨AWAY N/A￨Jeremy_Lin￨FTM￨AWAY N/A￨Jeremy_Lin￨FTA￨AWAY N/A￨Jeremy_Lin￨FT_PCT￨AWAY N/A￨Jeremy_Lin￨OREB￨AWAY N/A￨Jeremy_Lin￨DREB￨AWAY N/A￨Jeremy_Lin￨REB￨AWAY N/A￨Jeremy_Lin￨AST￨AWAY N/A￨Jeremy_Lin￨TO￨AWAY N/A￨Jeremy_Lin￨STL￨AWAY N/A￨Jeremy_Lin￨BLK￨AWAY N/A￨Jeremy_Lin￨PF￨AWAY Jeremy￨Jeremy_Lin￨FIRST_NAME￨AWAY Lin￨Jeremy_Lin￨SECOND_NAME￨AWAY N/A￨Nick_Young￨START_POSITION￨AWAY N/A￨Nick_Young￨MIN￨AWAY N/A￨Nick_Young￨PTS￨AWAY N/A￨Nick_Young￨FGM￨AWAY N/A￨Nick_Young￨FGA￨AWAY N/A￨Nick_Young￨FG_PCT￨AWAY N/A￨Nick_Young￨FG3M￨AWAY N/A￨Nick_Young￨FG3A￨AWAY N/A￨Nick_Young￨FG3_PCT￨AWAY N/A￨Nick_Young￨FTM￨AWAY N/A￨Nick_Young￨FTA￨AWAY N/A￨Nick_Young￨FT_PCT￨AWAY N/A￨Nick_Young￨OREB￨AWAY N/A￨Nick_Young￨DREB￨AWAY N/A￨Nick_Young￨REB￨AWAY N/A￨Nick_Young￨AST￨AWAY N/A￨Nick_Young￨TO￨AWAY N/A￨Nick_Young￨STL￨AWAY N/A￨Nick_Young￨BLK￨AWAY N/A￨Nick_Young￨PF￨AWAY Nick￨Nick_Young￨FIRST_NAME￨AWAY Young￨Nick_Young￨SECOND_NAME￨AWAY 35￨Nuggets￨TEAM-PTS_QTR1￨HOME 23￨Nuggets￨TEAM-PTS_QTR2￨HOME 35￨Nuggets￨TEAM-PTS_QTR3￨HOME 26￨Nuggets￨TEAM-PTS_QTR4￨HOME 119￨Nuggets￨TEAM-PTS￨HOME 50￨Nuggets￨TEAM-FG_PCT￨HOME 43￨Nuggets￨TEAM-FG3_PCT￨HOME 75￨Nuggets￨TEAM-FT_PCT￨HOME 45￨Nuggets￨TEAM-REB￨HOME 26￨Nuggets￨TEAM-AST￨HOME 9￨Nuggets￨TEAM-TOV￨HOME 29￨Nuggets￨TEAM-WINS￨HOME 49￨Nuggets￨TEAM-LOSSES￨HOME Denver￨Nuggets￨TEAM-CITY￨HOME Nuggets￨Nuggets￨TEAM-NAME￨HOME 33￨Lakers￨TEAM-PTS_QTR1￨AWAY 21￨Lakers￨TEAM-PTS_QTR2￨AWAY 17￨Lakers￨TEAM-PTS_QTR3￨AWAY 30￨Lakers￨TEAM-PTS_QTR4￨AWAY 101￨Lakers￨TEAM-PTS￨AWAY 48￨Lakers￨TEAM-FG_PCT￨AWAY 31￨Lakers￨TEAM-FG3_PCT￨AWAY 69￨Lakers￨TEAM-FT_PCT￨AWAY 39￨Lakers￨TEAM-REB￨AWAY 15￨Lakers￨TEAM-AST￨AWAY 14￨Lakers￨TEAM-TOV￨AWAY 20￨Lakers￨TEAM-WINS￨AWAY 58￨Lakers￨TEAM-LOSSES￨AWAY Los_Angeles￨Lakers￨TEAM-CITY￨AWAY Lakers￨Lakers￨TEAM-NAME￨AWAY\\n'"
      ]
     },
     "execution_count": 80,
     "metadata": {},
     "output_type": "execute_result"
    }
   ],
   "source": [
    "nba_src_train[45]"
   ]
  },
  {
   "cell_type": "code",
   "execution_count": 81,
   "metadata": {},
   "outputs": [
    {
     "data": {
      "text/plain": [
       "'<unk>￨<blank>￨<blank>￨<blank> <blank>￨<blank>￨<blank>￨<blank> <s>￨<blank>￨<blank>￨<blank> </s>￨<blank>￨<blank>￨<blank> lungs￨Indication￨SYSTEM_ORGAN_SITE￨AWAY adcirca￨Indication￨BRAND_NAME￨HOME pulmonary_arterial_hypertension￨Indication￨DX_NAME￨AWAY lungs￨Indication￨SYSTEM_ORGAN_SITE￨AWAY phosphodiesterase_type_5_(pde5)_inhibitors￨Indication￨TREATMENT_NAME￨HOME adcirca￨Indication￨BRAND_NAME￨HOME tadalafil￨Indication￨GENERIC_NAME￨AWAY\\n'"
      ]
     },
     "execution_count": 81,
     "metadata": {},
     "output_type": "execute_result"
    }
   ],
   "source": [
    "leaflet_src_train[45]"
   ]
  },
  {
   "cell_type": "code",
   "execution_count": 82,
   "metadata": {},
   "outputs": [],
   "source": [
    "with open('rotowire/tgt_train.txt') as reader:\n",
    "    # This reads the remaining lines from the file object and returns them as a list.\n",
    "    nba_tgt_train = reader.readlines()"
   ]
  },
  {
   "cell_type": "code",
   "execution_count": 83,
   "metadata": {},
   "outputs": [],
   "source": [
    "with open('tgt_train.txt') as reader:\n",
    "    # This reads the remaining lines from the file object and returns them as a list.\n",
    "    leaflet_tgt_train = reader.readlines()"
   ]
  },
  {
   "cell_type": "code",
   "execution_count": 84,
   "metadata": {},
   "outputs": [
    {
     "data": {
      "text/plain": [
       "'Pemetrexed Sandoz is a medicine used in the treatment of cancer . Pemetrexed Sandoz is given in combination with cisplatin , another anti - cancer medicine , as treatment for malignant pleural mesothelioma , a form of cancer that affects the lining of the lung , to patients who have not received prior chemotherapy . Pemetrexed Sandoz is also given in combination with cisplatin for the initial treatment of patients with advanced stage of lung cancer . Pemetrexed Sandoz can be prescribed to you if you have lung cancer at an advanced stage if your disease has responded to treatment or it remains largely unchanged after initial chemotherapy . Pemetrexed Sandoz is also a treatment for patients with advanced stage of lung cancer whose disease has progressed after other initial chemotherapy has been used .\\n'"
      ]
     },
     "execution_count": 84,
     "metadata": {},
     "output_type": "execute_result"
    }
   ],
   "source": [
    "leaflet_tgt_train[21]"
   ]
  },
  {
   "cell_type": "code",
   "execution_count": 85,
   "metadata": {},
   "outputs": [
    {
     "data": {
      "text/plain": [
       "\"The Atlanta Hawks defeated the Miami Heat , 103 - 95 , at Philips Arena on Wednesday . Atlanta was in desperate need of a win and they were able to take care of a shorthanded Miami team here . Defense was key for the Hawks , as they held the Heat to 42 percent shooting and forced them to commit 16 turnovers . Atlanta also dominated in the paint , winning the rebounding battle , 47 - 34 , and outscoring them in the paint 58 - 26.The Hawks shot 49 percent from the field and assisted on 27 of their 43 made baskets . This was a near wire - to - wire win for the Hawks , as Miami held just one lead in the first five minutes . Miami ( 7 - 15 ) are as beat - up as anyone right now and it 's taking a toll on the heavily used starters . Hassan Whiteside really struggled in this game , as he amassed eight points , 12 rebounds and one blocks on 4 - of - 12 shooting . Tyler Johnson was the team 's best player , as he tallied 27 points and five assists off the bench . Goran Dragic continued his good form , scoring 21 points and handing out four assists . Rodney McGruder got the start for Justise Winslow and finished with 11 points , five rebounds and five assists . It does n't get any easier for the Heat , as they play the Cleveland Cavaliers on the road for their next game . Atlanta ( 11 - 12 ) had lost seven - straight headed into this game , so to say this win was needed would be a drastic understatement . Dwight Howard took a lot of the load on his broad shoulders , as he tallied 23 points , 17 rebounds and four assists . It was n't just offense though , as he held the dominant Hassan Whiteside in check . Paul Millsap also played great , accumulating 21 points , nine rebounds , four steals and three blocks in the victory . Dennis Schroeder was the only other player in double figures , accruing 17 points , four rebounds and seven assists . Atlanta will look to build off this win on Friday , when they play the Milwaukee Bucks on the road .\\n\""
      ]
     },
     "execution_count": 85,
     "metadata": {},
     "output_type": "execute_result"
    }
   ],
   "source": [
    "nba_tgt_train[21]"
   ]
  },
  {
   "cell_type": "markdown",
   "metadata": {},
   "source": [
    "==============================================================================================================================\n",
    "## Validation dataset "
   ]
  },
  {
   "cell_type": "code",
   "execution_count": 25,
   "metadata": {},
   "outputs": [
    {
     "data": {
      "text/plain": [
       "120"
      ]
     },
     "execution_count": 25,
     "metadata": {},
     "output_type": "execute_result"
    }
   ],
   "source": [
    "len(valid_leaflets)"
   ]
  },
  {
   "cell_type": "code",
   "execution_count": 26,
   "metadata": {},
   "outputs": [],
   "source": [
    "def create_validation_sets(dataset):\n",
    "    \n",
    "    # Output files    \n",
    "    INTER_CONTENT_PLAN_VALID = 'inter/valid_content_plan.txt'  # intermediate content plan input to second stage\n",
    "    SRC_FILE_VALID = 'src_valid.txt'  # src file input to first stage\n",
    "    TRAIN_TGT_FILE_VALID = \"tgt_valid.txt\"  # tgt file of second stage\n",
    "    CONTENT_PLAN_OUT_VALID = 'valid_content_plan.txt'  # content plan output of first stage\n",
    "    \n",
    "    # Create src - content_plan - summary\n",
    "    content_plan_leaflets, summaries_leaflets = create_summary_contentplan(dataset)\n",
    "    src_leaflets = create_src_table(content_plan_leaflets)\n",
    "    \n",
    "    # save to corresponding files\n",
    "    output_file = open(INTER_CONTENT_PLAN_VALID, 'w')\n",
    "    for content_plan in content_plan_leaflets:\n",
    "        output_file.write(content_plan)\n",
    "    output_file.close()\n",
    "    \n",
    "    summary_file = open(TRAIN_TGT_FILE_VALID, 'w')\n",
    "    for summary_leaflet in summaries_leaflets:\n",
    "        summary_file.write(summary_leaflet)\n",
    "    summary_file.close()\n",
    "    \n",
    "    src_file = open(SRC_FILE_VALID, 'w')\n",
    "    for src_instance in src_leaflets:\n",
    "        src_file.write(src_instance)\n",
    "    src_file.close()\n",
    "    \n",
    "    ### create last file needed - e.g (rotowire/train_content_plan.txt)\n",
    "    inputs = []\n",
    "    content_plans = []\n",
    "    with codecs.open(INTER_CONTENT_PLAN_VALID, \"r\", \"utf-8\") as corpus_file:\n",
    "        for i, line in enumerate(corpus_file):\n",
    "            content_plans.append(line.split())\n",
    "\n",
    "    with codecs.open(SRC_FILE_VALID, \"r\", \"utf-8\") as corpus_file:\n",
    "        for i, line in enumerate(corpus_file):\n",
    "            inputs.append(line.split())\n",
    "    \n",
    "    # basically - now content plan POINTs to index in the training dataset\n",
    "    # content_plan - collection of indexes where each index points to record in training dataset - training_dataset[index]\n",
    "    \n",
    "    outputs = []\n",
    "\n",
    "    for i, training_sample in enumerate(inputs):\n",
    "        content_plan = content_plans[i]\n",
    "        output = []\n",
    "        for record in content_plan:\n",
    "            output.append(str(training_sample.index(record)))\n",
    "        outputs.append(\" \".join(output))\n",
    "        \n",
    "    # write to a file\n",
    "\n",
    "    output_file = open(CONTENT_PLAN_OUT_VALID, 'w')\n",
    "\n",
    "    # add \\n to the end of the string\n",
    "    output_file.write(\"\\n\".join(outputs))\n",
    "    # add \\n between content plans\n",
    "    output_file.write(\"\\n\")\n",
    "\n",
    "    output_file.close()\n",
    "    \n",
    "    return src_leaflets, content_plan_leaflets, summaries_leaflets"
   ]
  },
  {
   "cell_type": "code",
   "execution_count": 27,
   "metadata": {},
   "outputs": [],
   "source": [
    "leaflets_src_valid, leaflets_inter_contentplan_valid, leaflets_tgt_valid = create_validation_sets(valid_leaflets)"
   ]
  },
  {
   "cell_type": "code",
   "execution_count": 129,
   "metadata": {},
   "outputs": [],
   "source": [
    "with open('valid_content_plan.txt') as reader:\n",
    "    # This reads the remaining lines from the file object and returns them as a list.\n",
    "    leaflet_contentplan_valid = reader.readlines()"
   ]
  },
  {
   "cell_type": "markdown",
   "metadata": {},
   "source": [
    "================================================================================================================================\n",
    "## Test dataset "
   ]
  },
  {
   "cell_type": "code",
   "execution_count": 28,
   "metadata": {},
   "outputs": [
    {
     "data": {
      "text/plain": [
       "100"
      ]
     },
     "execution_count": 28,
     "metadata": {},
     "output_type": "execute_result"
    }
   ],
   "source": [
    "len(test_leaflets)"
   ]
  },
  {
   "cell_type": "code",
   "execution_count": 29,
   "metadata": {},
   "outputs": [],
   "source": [
    "def create_test_sets(dataset):\n",
    "    \n",
    "    # Output files\n",
    "    SRC_FILE_TEST = 'test/src_test.txt'  # src file input to first stage\n",
    "    TRAIN_TGT_FILE_TEST = \"test/tgt_test.txt\"  # tgt file of second stage \n",
    "    \n",
    "    \n",
    "    # Create src - content_plan - summary\n",
    "    content_plan_leaflets, summaries_leaflets = create_summary_contentplan(dataset)\n",
    "    src_leaflets = create_src_table(content_plan_leaflets)\n",
    "    \n",
    "    # save to just summary and src data\n",
    "    \n",
    "    summary_file = open(TRAIN_TGT_FILE_TEST, 'w')\n",
    "    for summary_leaflet in summaries_leaflets:\n",
    "        summary_file.write(summary_leaflet)\n",
    "    summary_file.close()\n",
    "    \n",
    "    src_file = open(SRC_FILE_TEST, 'w')\n",
    "    for src_instance in src_leaflets:\n",
    "        src_file.write(src_instance)\n",
    "    src_file.close()\n",
    "\n",
    "    return src_leaflets, summaries_leaflets"
   ]
  },
  {
   "cell_type": "code",
   "execution_count": 30,
   "metadata": {},
   "outputs": [],
   "source": [
    "leaflets_src_test, leaflets_tgt_test = create_test_sets(test_leaflets)"
   ]
  },
  {
   "cell_type": "markdown",
   "metadata": {},
   "source": [
    "=======================================================================================================================\n",
    "## Creating *train-roto-ptrs.txt*"
   ]
  },
  {
   "cell_type": "code",
   "execution_count": 31,
   "metadata": {},
   "outputs": [],
   "source": [
    "# Output files\n",
    "INTER_CONTENT_PLAN = 'inter/train_content_plan.txt'  # intermediate content plan input to second stage\n",
    "TRAIN_TGT_FILE = \"tgt_train.txt\"  # tgt file of second stage\n",
    "OUTPUT_FILE = \"train-roto-ptrs.txt\""
   ]
  },
  {
   "cell_type": "code",
   "execution_count": 32,
   "metadata": {},
   "outputs": [],
   "source": [
    "with open(TRAIN_TGT_FILE) as reader:\n",
    "    leaflet_tgt_train = reader.readlines()"
   ]
  },
  {
   "cell_type": "code",
   "execution_count": 33,
   "metadata": {},
   "outputs": [],
   "source": [
    "with open(INTER_CONTENT_PLAN) as reader:\n",
    "    leaflets_inter_content_plan = reader.readlines()"
   ]
  },
  {
   "cell_type": "markdown",
   "metadata": {},
   "source": [
    "For eg: the last entry 245,39 in train_roto_ptrs[1] indicates that the 245th token in summary matches with 39th content plan entry.  \n",
    "\n",
    "Phoenix ----> Phoenix￨Suns￨TEAM-CITY￨HOME  \n",
    "Suns ----> Suns￨Suns￨TEAM-NAME￨HOME  \n",
    "39 ----> 39￨Suns￨TEAM-WINS￨HOME  \n",
    "38 ----> 38￨Suns￨TEAM-LOSSES￨HOME  \n",
    "87 ----> 87￨Suns￨TEAM-PTS￨HOME  \n",
    "85 ----> 85￨Jazz￨TEAM-PTS￨AWAY  \n",
    "Utah ----> Utah￨Jazz￨TEAM-CITY￨AWAY  "
   ]
  },
  {
   "cell_type": "code",
   "execution_count": 34,
   "metadata": {},
   "outputs": [],
   "source": [
    "roto_pts_content = []\n",
    "\n",
    "# for each leaflet\n",
    "for leflet_num in range(len(leaflet_tgt_train)):\n",
    "    \n",
    "    # get current leaflet and content plan\n",
    "    current_leaflet = leaflet_tgt_train[leflet_num].split()\n",
    "    current_content_plan = leaflets_inter_content_plan[leflet_num].split()\n",
    "    \n",
    "    # get the values of content plan\n",
    "    instances = []\n",
    "    for entry in current_content_plan:\n",
    "        record_values = entry.split(DELIM)[0]\n",
    "        instances.append(record_values)\n",
    "    \n",
    "    # pairs (index_tgt, index_contentplan) for each leaflet\n",
    "    current_str = []\n",
    "    \n",
    "    # for each token in current summary\n",
    "    for token_pos in range(len(current_leaflet)):\n",
    "        \n",
    "        # get token\n",
    "        token = current_leaflet[token_pos]\n",
    "        \n",
    "        # possible tokens if 2 words in content plan like 'immunodeficiency_syndrome'\n",
    "        if token_pos != (len(current_leaflet)-1):\n",
    "            token_2words = current_leaflet[token_pos] + \"_\" + current_leaflet[token_pos+1]\n",
    "        \n",
    "        for content_plan_index in range(len(instances)):\n",
    "            \n",
    "            if token == instances[content_plan_index]:\n",
    "                # mask the corresponding position in content plan\n",
    "                instances[content_plan_index] = \"MASKED\"\n",
    "                pair = str(token_pos) + \",\" + str(content_plan_index)\n",
    "                current_str.append(pair)\n",
    "                # find just one match\n",
    "                break\n",
    "                \n",
    "            elif token_2words == instances[content_plan_index]:\n",
    "                # mask the corresponding position in content plan\n",
    "                instances[content_plan_index] = \"MASKED\"\n",
    "                pair = str(token_pos) + \",\" + str(content_plan_index)\n",
    "                current_str.append(pair)\n",
    "\n",
    "                # find just one match\n",
    "                break\n",
    "    \n",
    "    # join pairs into string with \" \" between pairs\n",
    "    current_str = \" \".join(current_str)\n",
    "    \n",
    "    # add \"\\n\" at the end\n",
    "    current_str += \"\\n\"\n",
    "    \n",
    "    roto_pts_content.append(current_str)"
   ]
  },
  {
   "cell_type": "code",
   "execution_count": 35,
   "metadata": {},
   "outputs": [],
   "source": [
    "OUTPUT_FILE = \"train-roto-ptrs.txt\"\n",
    "\n",
    "src_file = open(OUTPUT_FILE, 'w')\n",
    "for src_instance in roto_pts_content:\n",
    "    src_file.write(src_instance)\n",
    "src_file.close()"
   ]
  },
  {
   "cell_type": "code",
   "execution_count": 36,
   "metadata": {},
   "outputs": [
    {
     "data": {
      "text/plain": [
       "1000"
      ]
     },
     "execution_count": 36,
     "metadata": {},
     "output_type": "execute_result"
    }
   ],
   "source": [
    "len(roto_pts_content)"
   ]
  },
  {
   "cell_type": "code",
   "execution_count": 37,
   "metadata": {},
   "outputs": [
    {
     "data": {
      "text/plain": [
       "'0,0 5,1 7,2 14,3 43,4 46,5 64,7 65,11 89,8 107,9 130,10 137,12\\n'"
      ]
     },
     "execution_count": 37,
     "metadata": {},
     "output_type": "execute_result"
    }
   ],
   "source": [
    "roto_pts_content[222]"
   ]
  },
  {
   "cell_type": "code",
   "execution_count": 38,
   "metadata": {},
   "outputs": [
    {
     "data": {
      "text/plain": [
       "17"
      ]
     },
     "execution_count": 38,
     "metadata": {},
     "output_type": "execute_result"
    }
   ],
   "source": [
    "len(roto_pts_content[22].split())"
   ]
  },
  {
   "cell_type": "code",
   "execution_count": 39,
   "metadata": {},
   "outputs": [
    {
     "data": {
      "text/plain": [
       "18"
      ]
     },
     "execution_count": 39,
     "metadata": {},
     "output_type": "execute_result"
    }
   ],
   "source": [
    "len(leaflets_inter_content_plan[22].split())"
   ]
  },
  {
   "cell_type": "markdown",
   "metadata": {},
   "source": [
    "### Check whether correct"
   ]
  },
  {
   "cell_type": "code",
   "execution_count": 40,
   "metadata": {},
   "outputs": [
    {
     "name": "stdout",
     "output_type": "stream",
     "text": [
      "epoetin ----> epoetin_zeta￨Indication￨GENERIC_NAME￨HOME\n",
      "bone ----> bone_marrow￨Indication￨SYSTEM_ORGAN_SITE￨AWAY\n",
      "haemodialysis ----> haemodialysis￨Indication￨TREATMENT_NAME￨HOME\n",
      "anaemia ----> anaemia￨Indication￨DX_NAME￨AWAY\n",
      "renal ----> renal_failure￨Indication￨DX_NAME￨AWAY\n",
      "kidney ----> kidney￨Indication￨SYSTEM_ORGAN_SITE￨HOME\n",
      "peritoneal ----> peritoneal_dialysis￨Indication￨PROCEDURE_NAME￨AWAY\n",
      "dialysis ----> dialysis￨Indication￨TREATMENT_NAME￨AWAY\n",
      "anaemia ----> anaemia￨Indication￨DX_NAME￨HOME\n",
      "renal ----> renal_failure￨Indication￨DX_NAME￨HOME\n",
      "kidney ----> kidney_disease￨Indication￨DX_NAME￨AWAY\n",
      "renal ----> renal_insufficiency￨Indication￨DX_NAME￨HOME\n",
      "anaemia ----> anaemia￨Indication￨DX_NAME￨AWAY\n",
      "kidney ----> kidney￨Indication￨SYSTEM_ORGAN_SITE￨AWAY\n",
      "chemotherapy ----> chemotherapy￨Indication￨TREATMENT_NAME￨AWAY\n",
      "solid ----> solid_tumours￨Indication￨DX_NAME￨HOME\n",
      "malignant ----> malignant_lymphoma￨Indication￨DX_NAME￨HOME\n",
      "cancer ----> cancer￨Indication￨DX_NAME￨HOME\n",
      "lymphatic ----> lymphatic_system￨Indication￨SYSTEM_ORGAN_SITE￨AWAY\n",
      "myeloma ----> myeloma￨Indication￨DX_NAME￨AWAY\n",
      "bone ----> bone_marrow￨Indication￨SYSTEM_ORGAN_SITE￨HOME\n",
      "anaemia ----> anaemia￨Indication￨DX_NAME￨AWAY\n",
      "blood ----> blood_transfusion￨Indication￨TREATMENT_NAME￨HOME\n",
      "blood ----> blood_transfusion￨Indication￨TREATMENT_NAME￨AWAY\n",
      "surgery ----> surgery￨Indication￨PROCEDURE_NAME￨HOME\n",
      "prior ----> prior￨Indication￨TIME_TO_PROCEDURE_NAME￨HOME\n",
      "donate ----> donate_blood￨Indication￨PROCEDURE_NAME￨AWAY\n",
      "surgery ----> surgery￨Indication￨PROCEDURE_NAME￨AWAY\n",
      "autologous ----> autologous_predonation￨Indication￨TREATMENT_NAME￨AWAY\n",
      "surgery ----> surgery￨Indication￨PROCEDURE_NAME￨AWAY\n",
      "hip ----> hip￨Indication￨SYSTEM_ORGAN_SITE￨AWAY\n",
      "knee ----> knee￨Indication￨SYSTEM_ORGAN_SITE￨AWAY\n",
      "blood ----> blood_transfusions￨Indication￨TREATMENT_NAME￨HOME\n",
      "myelodysplastic ----> myelodysplastic_syndrome￨Indication￨DX_NAME￨AWAY\n",
      "blood ----> blood_transfusion￨Indication￨TREATMENT_NAME￨HOME\n"
     ]
    }
   ],
   "source": [
    "content_plan_indeces = []\n",
    "\n",
    "for pair in roto_pts_content[100].split():\n",
    "    pair = pair.split(\",\")\n",
    "    \n",
    "    a = int(pair[0])\n",
    "    b = int(pair[1])\n",
    "    \n",
    "    content_plan_indeces.append(b)\n",
    "    \n",
    "    print(leaflet_tgt_train[100].split()[a], end=\" ----> \")\n",
    "    print(leaflets_inter_content_plan[100].split()[b])\n",
    "    "
   ]
  },
  {
   "cell_type": "code",
   "execution_count": 41,
   "metadata": {},
   "outputs": [
    {
     "data": {
      "text/plain": [
       "78"
      ]
     },
     "execution_count": 41,
     "metadata": {},
     "output_type": "execute_result"
    }
   ],
   "source": [
    "len(leaflets_inter_content_plan[0].split())"
   ]
  },
  {
   "cell_type": "code",
   "execution_count": 42,
   "metadata": {},
   "outputs": [
    {
     "data": {
      "text/plain": [
       "68"
      ]
     },
     "execution_count": 42,
     "metadata": {},
     "output_type": "execute_result"
    }
   ],
   "source": [
    "len(roto_pts_content[0].split())"
   ]
  },
  {
   "cell_type": "code",
   "execution_count": 43,
   "metadata": {},
   "outputs": [
    {
     "name": "stdout",
     "output_type": "stream",
     "text": [
      "kidney_disease￨Indication￨DX_NAME￨HOME\n",
      "kidney￨Indication￨SYSTEM_ORGAN_SITE￨AWAY\n",
      "kidney_disease￨Indication￨DX_NAME￨HOME\n",
      "bone_marrow_cancer￨Indication￨DX_NAME￨HOME\n",
      "knee_replacement_operations￨Indication￨PROCEDURE_NAME￨AWAY\n"
     ]
    }
   ],
   "source": [
    "# check out pairs missed\n",
    "for i in range(0, len(leaflets_inter_content_plan[100].split()), 1):\n",
    "    if i not in content_plan_indeces:\n",
    "        print(leaflets_inter_content_plan[100].split()[i])\n",
    "        \n",
    "# explanation - 3-word long token\n",
    "# explanation - hiv_infection ---> bc NER outputs - 'hiv', 'hiv_infection' - in content plan I have 2 tokens starting with 'hiv'"
   ]
  },
  {
   "cell_type": "code",
   "execution_count": 69,
   "metadata": {},
   "outputs": [
    {
     "data": {
      "text/plain": [
       "'what is fosavance ? fosavance is a tablet containing the two active substances , alendronic acid ( commonly called alendronate ) and colecalciferol known as vitamin d3 . what is alendronate ? alendronate belongs to a group of nonhormonal medicines called bisphosphonates . alendronate prevents the loss of bone that occurs in women after they have been through the menopause , and helps to rebuild bone . it reduces the risk of spine and hip fractures . what is vitamin d ? vitamin d is an essential nutrient , required for calcium absorption and healthy bones . the body can only absorb calcium properly from our food if it has enough vitamin d . very few foods contain vitamin d . the main source is through exposure to summer sunlight , which makes vitamin d in our skin . as we get older our skin makes less vitamin d . too little vitamin d may lead to bone loss and osteoporosis . severe vitamin d deficiency may cause muscle weakness which can lead to falls and a greater risk of fractures . what is fosavance used for ? your doctor has prescribed fosavance to treat your osteoporosis and because you are at risk of vitamin d insufficiency . it reduces the risk of spine and hip fractures in women after menopause . what is osteoporosis ? osteoporosis is a thinning and weakening of the bones . it is common in women after the menopause . at the menopause , the ovaries stop producing the female hormone , oestrogen , which helps to keep a woman ’ s skeleton healthy . as a result , bone loss occurs and bones become weaker . the earlier a woman reaches the menopause , the greater the risk of osteoporosis . 30 early on , osteoporosis usually has no symptoms . if left untreated , however , it can result in broken bones . although these usually hurt , breaks in the bones of the spine may go unnoticed until they cause height loss . broken bones can happen during normal , everyday activity , such as lifting , or from minor injury that would not generally break normal bone . broken bones usually occur at the hip , spine , or wrist and can lead not only to pain but also to considerable problems like stooped posture (‘ dowager ’ s hump ’) and loss of mobility . how can osteoporosis be treated ? as well as your treatment with fosavance , your doctor may suggest you make changes to your lifestyle to help your condition , such as : stopping smoking smoking appears to increase the rate at which you lose bone and , therefore , may increase your risk of broken bones . exercise like muscles , bones need exercise to stay strong and healthy . consult your doctor before you begin any exercise programme . eating a balanced diet your doctor can advise you about your diet or whether you should take any dietary supplements .\\n'"
      ]
     },
     "execution_count": 69,
     "metadata": {},
     "output_type": "execute_result"
    }
   ],
   "source": [
    "leaflet_tgt_train[0]"
   ]
  },
  {
   "cell_type": "markdown",
   "metadata": {},
   "source": [
    "Remark - Consider changing the order: 1st check whether token_2word in summary, and only then consider other tokens."
   ]
  },
  {
   "cell_type": "markdown",
   "metadata": {},
   "source": [
    "# Check how original files are represented"
   ]
  },
  {
   "cell_type": "code",
   "execution_count": 24,
   "metadata": {},
   "outputs": [],
   "source": [
    "with open('rotowire/tgt_train.txt') as reader:\n",
    "    original_tgt_train = reader.readlines()"
   ]
  },
  {
   "cell_type": "code",
   "execution_count": 83,
   "metadata": {},
   "outputs": [
    {
     "data": {
      "text/plain": [
       "\"The Dallas Mavericks ( 18 - 13 ) defeated the Milwaukee Bucks ( 12 - 20 ) 103 - 93 on Monday night . Dallas led 34 - 24 after the first quarter and never relinquished the lead after that . The Bucks came into this game as the worst rebounding team in the NBA , but actually outrebounded Dallas 52 - 34 in the loss . They also outshot Dallas and that 's a rare sight to see a team win when getting outrebounded and outshot . The difference for the Mavericks were the turnovers , as they committed just four to the Bucks 17 . Milwaukee has been terrible on the road all season and they didn’t play great here . No player scored more than 19 points and the team had a lack of offensive execution that was clearly evident . In fact , Milwaukee had just 14 assists and that 's not good enough in an NBA game . Jerryd Bayless made his return from injury and played brilliantly , contributing 19 points and seven assists off the bench . The road woes are a big worry for this team and it 'll likely get worse on Tuesday when they have to take on the Thunder in Oklahoma City . This was one of the first games all year that the team got a full complement of minutes from all of its players . Wesley Matthews and Chandler Parsons both suffered devastating injuries last season , but they both started here and played at least 30 minutes for the first time together . Matthews scored a team - high 22 points and continues to play great defense . The most underrated acquisition from the summer was Zaza Pachulia though , as he had another great game on Monday . Pachulia amassed 17 points , eight rebounds , two assists and two steals in the win . This team was expected to have a down year , but these veterans simply wo n't allow that to happen . Dallas has a tough task in their next game when they host the Golden State Warriors on Wednesday .\\n\""
      ]
     },
     "execution_count": 83,
     "metadata": {},
     "output_type": "execute_result"
    }
   ],
   "source": [
    "original_tgt_train[123]"
   ]
  },
  {
   "cell_type": "code",
   "execution_count": 173,
   "metadata": {},
   "outputs": [],
   "source": [
    "with open('rotowire/src_valid.txt') as reader:\n",
    "    original_tgt_valid = reader.readlines()"
   ]
  },
  {
   "cell_type": "code",
   "execution_count": 93,
   "metadata": {},
   "outputs": [],
   "source": [
    "with open('inter/valid_content_plan.txt') as reader:\n",
    "    leaflets_inter_contentplan_valid = reader.readlines()"
   ]
  },
  {
   "cell_type": "code",
   "execution_count": 99,
   "metadata": {},
   "outputs": [
    {
     "data": {
      "text/plain": [
       "'<unk>￨<blank>￨<blank>￨<blank> <blank>￨<blank>￨<blank>￨<blank> <s>￨<blank>￨<blank>￨<blank> </s>￨<blank>￨<blank>￨<blank> inflammation￨Indication￨DX_NAME￨HOME eye￨Indication￨SYSTEM_ORGAN_SITE￨AWAY artificial_tears￨Indication￨GENERIC_NAME￨AWAY artificial_tears￨Indication￨TREATMENT_NAME￨HOME dry_eye_disease￨Indication￨DX_NAME￨HOME immunosuppressive_agents￨Indication￨TREATMENT_NAME￨AWAY keratitis￨Indication￨DX_NAME￨HOME ciclosporin￨Indication￨GENERIC_NAME￨HOME inflammation￨Indication￨DX_NAME￨AWAY ciclosporin￨Indication￨GENERIC_NAME￨AWAY cornea￨Indication￨SYSTEM_ORGAN_SITE￨AWAY eye￨Indication￨SYSTEM_ORGAN_SITE￨AWAY\\n'"
      ]
     },
     "execution_count": 99,
     "metadata": {},
     "output_type": "execute_result"
    }
   ],
   "source": [
    "leaflets_src_valid[100]"
   ]
  },
  {
   "cell_type": "code",
   "execution_count": 90,
   "metadata": {},
   "outputs": [
    {
     "data": {
      "text/plain": [
       "'kinzalmono belongs to a class of medicines known as angiotensin ii receptor antagonists . angiotensin ii is a substance produced in your body which causes your blood vessels to narrow , thus increasing your blood pressure . kinzalmono blocks the effect of angiotensin ii so that the blood vessels relax , and your blood pressure is lowered . kinzalmono is used to treat essential hypertension ( high blood pressure ) in adults . ‘ essential ’ means that the high blood pressure is not caused by any other condition . high blood pressure , if not treated , can damage blood vessels in several organs , which could lead sometimes to heart attack , heart or kidney failure , stroke , or blindness . there are usually no symptoms of high blood pressure before damage occurs . thus it is important to regularly measure blood pressure to verify if it is within the normal range . kinzalmono is also used to reduce cardiovascular events ( i . e . heart attack or stroke ) in adults who are at risk because they have a reduced or blocked blood supply to the heart or legs , or have had a stroke or have high risk diabetes . your doctor can tell you if you are at high risk for such events .\\n'"
      ]
     },
     "execution_count": 90,
     "metadata": {},
     "output_type": "execute_result"
    }
   ],
   "source": [
    "leaflets_tgt_valid[0]"
   ]
  },
  {
   "cell_type": "code",
   "execution_count": 95,
   "metadata": {},
   "outputs": [
    {
     "data": {
      "text/plain": [
       "32"
      ]
     },
     "execution_count": 95,
     "metadata": {},
     "output_type": "execute_result"
    }
   ],
   "source": [
    "len(leaflets_contentplan_valid[0].split())"
   ]
  },
  {
   "cell_type": "code",
   "execution_count": 98,
   "metadata": {},
   "outputs": [
    {
     "data": {
      "text/plain": [
       "'body￨Indication￨SYSTEM_ORGAN_SITE￨HOME blood_vessels￨Indication￨SYSTEM_ORGAN_SITE￨HOME blood_vessels_to_narrow￨Indication￨DX_NAME￨AWAY blood_pressure￨Indication￨TEST_NAME￨AWAY blood_pressure￨Indication￨DX_NAME￨HOME kinzalmono_blocks￨Indication￨TEST_NAME￨HOME blood_vessels￨Indication￨SYSTEM_ORGAN_SITE￨HOME blood_pressure￨Indication￨TEST_NAME￨AWAY kinzalmono￨Indication￨GENERIC_NAME￨HOME hypertension￨Indication￨DX_NAME￨HOME high_blood_pressure￨Indication￨DX_NAME￨AWAY high_blood_pressure￨Indication￨DX_NAME￨HOME high_blood_pressure￨Indication￨DX_NAME￨AWAY damage_blood_vessels￨Indication￨DX_NAME￨AWAY blood_vessels￨Indication￨SYSTEM_ORGAN_SITE￨AWAY heart￨Indication￨SYSTEM_ORGAN_SITE￨AWAY heart_attack￨Indication￨DX_NAME￨AWAY heart￨Indication￨SYSTEM_ORGAN_SITE￨AWAY heart_or_kidney_failure￨Indication￨DX_NAME￨AWAY kidney￨Indication￨SYSTEM_ORGAN_SITE￨AWAY stroke￨Indication￨DX_NAME￨HOME blindness￨Indication￨DX_NAME￨HOME high_blood_pressure￨Indication￨DX_NAME￨AWAY damage￨Indication￨DX_NAME￨AWAY heart￨Indication￨SYSTEM_ORGAN_SITE￨HOME heart_attack￨Indication￨DX_NAME￨HOME stroke￨Indication￨DX_NAME￨HOME reduced_or_blocked_blood_supply￨Indication￨DX_NAME￨HOME heart￨Indication￨SYSTEM_ORGAN_SITE￨HOME legs￨Indication￨SYSTEM_ORGAN_SITE￨HOME stroke￨Indication￨DX_NAME￨HOME diabetes￨Indication￨DX_NAME￨HOME \\n'"
      ]
     },
     "execution_count": 98,
     "metadata": {},
     "output_type": "execute_result"
    }
   ],
   "source": [
    "leaflets_inter_contentplan_valid[0]"
   ]
  },
  {
   "cell_type": "code",
   "execution_count": null,
   "metadata": {},
   "outputs": [],
   "source": []
  },
  {
   "cell_type": "code",
   "execution_count": null,
   "metadata": {},
   "outputs": [],
   "source": []
  },
  {
   "cell_type": "code",
   "execution_count": null,
   "metadata": {},
   "outputs": [],
   "source": []
  },
  {
   "cell_type": "code",
   "execution_count": null,
   "metadata": {},
   "outputs": [],
   "source": []
  },
  {
   "cell_type": "code",
   "execution_count": 7,
   "metadata": {},
   "outputs": [],
   "source": [
    "with open('inter/train_content_plan.txt') as reader:\n",
    "    original_src_valid = reader.readlines()"
   ]
  },
  {
   "cell_type": "code",
   "execution_count": 11,
   "metadata": {},
   "outputs": [
    {
     "data": {
      "text/plain": [
       "['alendronic_acid￨Indication￨GENERIC_NAME￨HOME',\n",
       " 'alendronate￨Indication￨GENERIC_NAME￨HOME',\n",
       " 'colecalciferol￨Indication￨GENERIC_NAME￨AWAY',\n",
       " 'vitamin_d3￨Indication￨GENERIC_NAME￨AWAY',\n",
       " 'alendronate￨Indication￨GENERIC_NAME￨HOME',\n",
       " 'alendronate￨Indication￨GENERIC_NAME￨AWAY',\n",
       " 'alendronate￨Indication￨GENERIC_NAME￨HOME',\n",
       " 'loss_of_bone￨Indication￨DX_NAME￨HOME',\n",
       " 'bone￨Indication￨SYSTEM_ORGAN_SITE￨AWAY',\n",
       " 'menopause￨Indication￨DX_NAME￨AWAY',\n",
       " 'bone￨Indication￨SYSTEM_ORGAN_SITE￨HOME',\n",
       " 'spine￨Indication￨SYSTEM_ORGAN_SITE￨AWAY',\n",
       " 'hip￨Indication￨SYSTEM_ORGAN_SITE￨AWAY',\n",
       " 'hip_fractures￨Indication￨DX_NAME￨HOME',\n",
       " 'bones￨Indication￨SYSTEM_ORGAN_SITE￨AWAY',\n",
       " 'body￨Indication￨SYSTEM_ORGAN_SITE￨AWAY',\n",
       " 'vitamin_d￨Indication￨GENERIC_NAME￨AWAY',\n",
       " 'skin￨Indication￨SYSTEM_ORGAN_SITE￨AWAY',\n",
       " 'skin￨Indication￨SYSTEM_ORGAN_SITE￨AWAY',\n",
       " 'bone￨Indication￨SYSTEM_ORGAN_SITE￨AWAY',\n",
       " 'bone_loss￨Indication￨DX_NAME￨AWAY',\n",
       " 'osteoporosis￨Indication￨DX_NAME￨HOME',\n",
       " 'vitamin_d_deficiency￨Indication￨DX_NAME￨HOME',\n",
       " 'muscle￨Indication￨SYSTEM_ORGAN_SITE￨AWAY',\n",
       " 'muscle_weakness￨Indication￨DX_NAME￨HOME',\n",
       " 'falls￨Indication￨DX_NAME￨HOME',\n",
       " 'fractures￨Indication￨DX_NAME￨AWAY',\n",
       " 'osteoporosis￨Indication￨DX_NAME￨HOME',\n",
       " 'vitamin_d_insufficiency￨Indication￨DX_NAME￨AWAY',\n",
       " 'spine￨Indication￨SYSTEM_ORGAN_SITE￨AWAY',\n",
       " 'hip￨Indication￨SYSTEM_ORGAN_SITE￨AWAY',\n",
       " 'hip_fractures￨Indication￨DX_NAME￨AWAY',\n",
       " 'menopause￨Indication￨DX_NAME￨AWAY',\n",
       " 'osteoporosis￨Indication￨DX_NAME￨AWAY',\n",
       " 'osteoporosis￨Indication￨DX_NAME￨HOME',\n",
       " 'thinning￨Indication￨DX_NAME￨HOME',\n",
       " 'weakening￨Indication￨DX_NAME￨HOME',\n",
       " 'bones￨Indication￨SYSTEM_ORGAN_SITE￨HOME',\n",
       " 'menopause￨Indication￨DX_NAME￨AWAY',\n",
       " 'menopause￨Indication￨DX_NAME￨HOME',\n",
       " 'ovaries￨Indication￨SYSTEM_ORGAN_SITE￨HOME',\n",
       " 'skeleton￨Indication￨SYSTEM_ORGAN_SITE￨AWAY',\n",
       " 'skeleton_healthy￨Indication￨DX_NAME￨HOME',\n",
       " 'bone￨Indication￨SYSTEM_ORGAN_SITE￨HOME',\n",
       " 'bone_loss￨Indication￨DX_NAME￨HOME',\n",
       " 'bones￨Indication￨SYSTEM_ORGAN_SITE￨AWAY',\n",
       " 'weaker￨Indication￨DX_NAME￨HOME',\n",
       " 'menopause￨Indication￨DX_NAME￨AWAY',\n",
       " 'osteoporosis￨Indication￨DX_NAME￨AWAY',\n",
       " 'osteoporosis￨Indication￨DX_NAME￨HOME',\n",
       " 'broken_bones￨Indication￨DX_NAME￨HOME',\n",
       " 'bones￨Indication￨SYSTEM_ORGAN_SITE￨AWAY',\n",
       " 'hurt￨Indication￨DX_NAME￨HOME',\n",
       " 'breaks￨Indication￨DX_NAME￨AWAY',\n",
       " 'bones￨Indication￨SYSTEM_ORGAN_SITE￨AWAY',\n",
       " 'spine￨Indication￨SYSTEM_ORGAN_SITE￨HOME',\n",
       " 'height_loss￨Indication￨DX_NAME￨HOME',\n",
       " 'broken_bones￨Indication￨DX_NAME￨AWAY',\n",
       " 'bones￨Indication￨SYSTEM_ORGAN_SITE￨AWAY',\n",
       " 'injury￨Indication￨DX_NAME￨HOME',\n",
       " 'bone￨Indication￨SYSTEM_ORGAN_SITE￨AWAY',\n",
       " 'broken_bones￨Indication￨DX_NAME￨AWAY',\n",
       " 'bones￨Indication￨SYSTEM_ORGAN_SITE￨HOME',\n",
       " 'hip￨Indication￨SYSTEM_ORGAN_SITE￨AWAY',\n",
       " 'spine￨Indication￨SYSTEM_ORGAN_SITE￨AWAY',\n",
       " 'wrist￨Indication￨SYSTEM_ORGAN_SITE￨HOME',\n",
       " 'pain￨Indication￨DX_NAME￨AWAY',\n",
       " 'stooped_posture￨Indication￨DX_NAME￨HOME',\n",
       " 'loss_of_mobility￨Indication￨DX_NAME￨AWAY',\n",
       " 'osteoporosis￨Indication￨DX_NAME￨AWAY',\n",
       " 'bone￨Indication￨SYSTEM_ORGAN_SITE￨AWAY',\n",
       " 'broken_bones￨Indication￨DX_NAME￨AWAY',\n",
       " 'bones￨Indication￨SYSTEM_ORGAN_SITE￨AWAY',\n",
       " 'muscles￨Indication￨SYSTEM_ORGAN_SITE￨AWAY',\n",
       " 'bones￨Indication￨SYSTEM_ORGAN_SITE￨AWAY',\n",
       " 'exercise_programme￨Indication￨TREATMENT_NAME￨AWAY',\n",
       " 'balanced_diet￨Indication￨TREATMENT_NAME￨AWAY',\n",
       " 'dietary_supplements￨Indication￨TREATMENT_NAME￨AWAY']"
      ]
     },
     "execution_count": 11,
     "metadata": {},
     "output_type": "execute_result"
    }
   ],
   "source": [
    "original_src_valid[0].split()"
   ]
  },
  {
   "cell_type": "code",
   "execution_count": null,
   "metadata": {},
   "outputs": [],
   "source": []
  }
 ],
 "metadata": {
  "kernelspec": {
   "display_name": "Python 3",
   "language": "python",
   "name": "python3"
  },
  "language_info": {
   "codemirror_mode": {
    "name": "ipython",
    "version": 3
   },
   "file_extension": ".py",
   "mimetype": "text/x-python",
   "name": "python",
   "nbconvert_exporter": "python",
   "pygments_lexer": "ipython3",
   "version": "3.6.10"
  }
 },
 "nbformat": 4,
 "nbformat_minor": 2
}
