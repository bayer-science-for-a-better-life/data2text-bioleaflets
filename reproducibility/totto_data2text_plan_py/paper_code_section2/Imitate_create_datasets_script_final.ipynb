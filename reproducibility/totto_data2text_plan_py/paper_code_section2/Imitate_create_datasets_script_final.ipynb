{
 "cells": [
  {
   "cell_type": "code",
   "execution_count": 1,
   "metadata": {},
   "outputs": [],
   "source": [
    "import pickle\n",
    "import numpy as np\n",
    "import codecs\n",
    "import random\n",
    "\n",
    "from nltk.tokenize import wordpunct_tokenize"
   ]
  },
  {
   "cell_type": "code",
   "execution_count": 2,
   "metadata": {},
   "outputs": [],
   "source": [
    "# load array of objects, where object - class Leaflet\n",
    "with open(\"/home/ruslan_yermakov/nlg-ra/datasets/LEAFLET_TRAIN_DATASET.pickle\", \"rb\") as f:\n",
    "    train_dataset = pickle.load(f)"
   ]
  },
  {
   "cell_type": "code",
   "execution_count": 3,
   "metadata": {},
   "outputs": [],
   "source": [
    "# load array of objects, where object - class Leaflet\n",
    "with open(\"/home/ruslan_yermakov/nlg-ra/datasets/LEAFLET_VALID_DATASET.pickle\", \"rb\") as f:\n",
    "    valid_dataset = pickle.load(f)"
   ]
  },
  {
   "cell_type": "code",
   "execution_count": 4,
   "metadata": {},
   "outputs": [],
   "source": [
    "# load array of objects, where object - class Leaflet\n",
    "with open(\"/home/ruslan_yermakov/nlg-ra/datasets/LEAFLET_TEST_DATASET.pickle\", \"rb\") as f:\n",
    "    test_dataset = pickle.load(f)"
   ]
  },
  {
   "cell_type": "code",
   "execution_count": 5,
   "metadata": {},
   "outputs": [
    {
     "data": {
      "text/plain": [
       "1068"
      ]
     },
     "execution_count": 5,
     "metadata": {},
     "output_type": "execute_result"
    }
   ],
   "source": [
    "len(train_dataset)"
   ]
  },
  {
   "cell_type": "code",
   "execution_count": 6,
   "metadata": {},
   "outputs": [
    {
     "data": {
      "text/plain": [
       "134"
      ]
     },
     "execution_count": 6,
     "metadata": {},
     "output_type": "execute_result"
    }
   ],
   "source": [
    "len(valid_dataset)"
   ]
  },
  {
   "cell_type": "code",
   "execution_count": 7,
   "metadata": {},
   "outputs": [
    {
     "data": {
      "text/plain": [
       "134"
      ]
     },
     "execution_count": 7,
     "metadata": {},
     "output_type": "execute_result"
    }
   ],
   "source": [
    "len(test_dataset)"
   ]
  },
  {
   "cell_type": "markdown",
   "metadata": {},
   "source": [
    "------------------------------------------------------------------------------------------------------"
   ]
  },
  {
   "cell_type": "markdown",
   "metadata": {},
   "source": [
    "## Produce same output as the script *create_dataset* from data2text-plain"
   ]
  },
  {
   "cell_type": "markdown",
   "metadata": {},
   "source": [
    "### Plan\n",
    "\n",
    "section_content -------- true text   \n",
    "\n",
    "entity_recognition  ------- actually input - set of records   \n",
    "\n",
    "Set of records in order they appear in section_content    -------- content plan "
   ]
  },
  {
   "cell_type": "code",
   "execution_count": 10,
   "metadata": {},
   "outputs": [],
   "source": [
    "RECORD_DELIM = \" \"\n",
    "DELIM = u\"￨\"\n",
    "\n",
    "HOME = \"HOME\"\n",
    "AWAY = \"AWAY\"\n",
    "\n",
    "# ENTITY = \"Indication\"\n",
    "ENTITY = \"Section2\"\n",
    "\n",
    "PAD_WORD = '<blank>'\n",
    "UNK_WORD = '<unk>'\n",
    "UNK = 0\n",
    "BOS_WORD = '<s>'\n",
    "EOS_WORD = '</s>'"
   ]
  },
  {
   "cell_type": "code",
   "execution_count": 9,
   "metadata": {},
   "outputs": [],
   "source": [
    "# make sure - sorted entities\n",
    "def _sort_key(entity):\n",
    "    return entity['BeginOffset']\n",
    "\n",
    "def test_order_entities(section_entities):\n",
    "    \n",
    "    sorted_entities = sorted(section_entities, key=_sort_key)\n",
    "    \n",
    "    if sorted_entities == section_entities: return True\n",
    "    \n",
    "    return False\n",
    "\n",
    "\n",
    "def test_order_dataset(dataset):\n",
    "    for leaflet in dataset:\n",
    "\n",
    "        current_leaflet_sections = [leaflet.section1, leaflet.section2, \n",
    "                                    leaflet.section3, leaflet.section4, \n",
    "                                    leaflet.section5, leaflet.section6]\n",
    "\n",
    "        for current_section in current_leaflet_sections:\n",
    "\n",
    "            if current_section.entity_recognition is None:\n",
    "                continue\n",
    "\n",
    "            assert test_order_entities(current_section.entity_recognition) == True\n",
    "\n",
    "            \n",
    "test_order_dataset(train_dataset)\n",
    "test_order_dataset(valid_dataset)\n",
    "test_order_dataset(test_dataset)"
   ]
  },
  {
   "cell_type": "code",
   "execution_count": 11,
   "metadata": {},
   "outputs": [],
   "source": [
    "def create_summary_contentplan(dataset):\n",
    "    \"\"\"\n",
    "    Transform dataset to be a suitable format for model data2text-plan\n",
    "    \"\"\"\n",
    "    \n",
    "    # array to store section2 of each leaflet\n",
    "    summaries_leaflets = []\n",
    "    \n",
    "    # array to store content plan of each leaflet\n",
    "    content_plan_leaflets = []\n",
    "    \n",
    "    for leaflet in dataset:\n",
    "        \n",
    "        # extract section1 content\n",
    "        section2_content = leaflet.section2.section_content\n",
    "        # extract results of NER\n",
    "        section2_entity_recognition = leaflet.section2.entity_recognition\n",
    "        \n",
    "        # skip if either input or output is None\n",
    "        if section2_content is None or section2_entity_recognition is None:\n",
    "            continue\n",
    "        \n",
    "        # get the content plan of each section\n",
    "        content_plan_section2 = ''\n",
    "        \n",
    "        for entity in section2_entity_recognition:\n",
    "            entity_value = entity['Text'] if len(entity['Text'].split(\" \")) == 0 else (\"_\").join(entity['Text'].split(\" \"))\n",
    "            entity_type = entity['Type'] if entity['Type'] is not None and len(entity['Type']) > 0 else entity['Category']\n",
    "            \n",
    "            # randomly choose HOME or AWAY\n",
    "            if random.randint(1,2) == 1:\n",
    "                content_plan_section2 += entity_value + DELIM + ENTITY + DELIM + entity_type + DELIM + HOME\n",
    "            else:\n",
    "                content_plan_section2 += entity_value + DELIM + ENTITY + DELIM + entity_type + DELIM + AWAY\n",
    "            \n",
    "            if section2_entity_recognition.index(entity) != len(section2_entity_recognition) - 1:\n",
    "                content_plan_section2 += \" \"\n",
    "            else:\n",
    "                content_plan_section2 += \" \" + \"\\n\"\n",
    "\n",
    "\n",
    "        content_plan_leaflets.append(content_plan_section2)\n",
    "\n",
    "        # get the section2 content\n",
    "        # make sure to have punctuations as a separate token\n",
    "        section2_content = wordpunct_tokenize(section2_content)\n",
    "        \n",
    "        # back to string\n",
    "        section2_content = \" \".join(section2_content)\n",
    "        \n",
    "        # add \"\\n\" at the end\n",
    "        section2_content = section2_content + \"\\n\"\n",
    "        \n",
    "        summaries_leaflets.append(section2_content)\n",
    "    \n",
    "    return (content_plan_leaflets, summaries_leaflets)"
   ]
  },
  {
   "cell_type": "code",
   "execution_count": 12,
   "metadata": {},
   "outputs": [],
   "source": [
    "def add_special_records(records):\n",
    "    \"\"\"\n",
    "    To src_train.txt and src_valid.txt pre-append these special characters, according to data2text-plan project\n",
    "    \"\"\"\n",
    "    \n",
    "    record = []\n",
    "    record.append(UNK_WORD)\n",
    "    record.append(PAD_WORD)\n",
    "    record.append(PAD_WORD)\n",
    "    record.append(PAD_WORD)\n",
    "    records.append(DELIM.join(record))\n",
    "    record = []\n",
    "    record.append(PAD_WORD)\n",
    "    record.append(PAD_WORD)\n",
    "    record.append(PAD_WORD)\n",
    "    record.append(PAD_WORD)\n",
    "    records.append(DELIM.join(record))\n",
    "    record = []\n",
    "    record.append(BOS_WORD)\n",
    "    record.append(PAD_WORD)\n",
    "    record.append(PAD_WORD)\n",
    "    record.append(PAD_WORD)\n",
    "    records.append(DELIM.join(record))\n",
    "    record = []\n",
    "    record.append(EOS_WORD)\n",
    "    record.append(PAD_WORD)\n",
    "    record.append(PAD_WORD)\n",
    "    record.append(PAD_WORD)\n",
    "    records.append(DELIM.join(record))\n",
    "    \n",
    "    return records"
   ]
  },
  {
   "cell_type": "code",
   "execution_count": 13,
   "metadata": {},
   "outputs": [],
   "source": [
    "# get the src_train - training data to be input to the model\n",
    "\n",
    "def create_src_table(content_plan_leaflets):\n",
    "    \"\"\"\n",
    "    Create src_train - input \"table\" to the model\n",
    "    \n",
    "    Idea: - we do not have a table, so randomized the records in content plan\n",
    "    \n",
    "    Update: - do not randomize - make it easier for the model to learn\n",
    "    \"\"\"\n",
    "    \n",
    "    # store input \"table\" of each leaflet in array\n",
    "    src_leaflets = []\n",
    "    \n",
    "    for leaflet_content_plan in content_plan_leaflets:\n",
    "        # remove the end symbol ('\\n') of the string\n",
    "        leaflet_content_plan = leaflet_content_plan[:-2]\n",
    "\n",
    "        # split string into a list of records\n",
    "        leaflet_content_plan_collection = leaflet_content_plan.split(\" \")\n",
    "        \n",
    "        # do not do\n",
    "        # randomly shuffle records in a list\n",
    "        # random.shuffle(leaflet_content_plan_collection)\n",
    "        \n",
    "        # add special symbols to the begining\n",
    "        special_symbols = []\n",
    "        special_symbols = add_special_records(special_symbols)\n",
    "        \n",
    "        # create a string containing all the records and special_symbols in the begining\n",
    "        src_leaflet_section1 = ''\n",
    "\n",
    "        src_leaflet_section1 += \" \".join(special_symbols)\n",
    "        src_leaflet_section1 += \" \"\n",
    "\n",
    "        src_leaflet_section1 += \" \".join(leaflet_content_plan_collection)\n",
    "        src_leaflet_section1 += '\\n'\n",
    "\n",
    "\n",
    "        src_leaflets.append(src_leaflet_section1)\n",
    "    \n",
    "    return src_leaflets"
   ]
  },
  {
   "cell_type": "code",
   "execution_count": 14,
   "metadata": {},
   "outputs": [],
   "source": [
    "def create_training_sets(dataset):\n",
    "    \n",
    "    # Output files\n",
    "    INTER_CONTENT_PLAN = 'inter/train_content_plan.txt'  # intermediate content plan input to second stage\n",
    "    SRC_FILE = 'src_train.txt'  # src file input to first stage\n",
    "    TRAIN_TGT_FILE = \"tgt_train.txt\"  # tgt file of second stage\n",
    "    CONTENT_PLAN_OUT = 'train_content_plan.txt'  # content plan output of first stage\n",
    "    \n",
    "    # Create src - content_plan - summary\n",
    "    content_plan_leaflets, summaries_leaflets = create_summary_contentplan(dataset)\n",
    "    src_leaflets = create_src_table(content_plan_leaflets)\n",
    "    \n",
    "    # save to corresponding files\n",
    "    output_file = open(INTER_CONTENT_PLAN, 'w')\n",
    "    for content_plan in content_plan_leaflets:\n",
    "        output_file.write(content_plan)\n",
    "    output_file.close()\n",
    "    \n",
    "    summary_file = open(TRAIN_TGT_FILE, 'w')\n",
    "    for summary_leaflet in summaries_leaflets:\n",
    "        summary_file.write(summary_leaflet)\n",
    "    summary_file.close()\n",
    "    \n",
    "    src_file = open(SRC_FILE, 'w')\n",
    "    for src_instance in src_leaflets:\n",
    "        src_file.write(src_instance)\n",
    "    src_file.close()\n",
    "    \n",
    "    ### create last file needed - e.g (rotowire/train_content_plan.txt)\n",
    "    inputs = []\n",
    "    content_plans = []\n",
    "    with codecs.open(INTER_CONTENT_PLAN, \"r\", \"utf-8\") as corpus_file:\n",
    "        for i, line in enumerate(corpus_file):\n",
    "            content_plans.append(line.split())\n",
    "\n",
    "    with codecs.open(SRC_FILE, \"r\", \"utf-8\") as corpus_file:\n",
    "        for i, line in enumerate(corpus_file):\n",
    "            inputs.append(line.split())\n",
    "    \n",
    "    # basically - now content plan POINTs to index in the training dataset\n",
    "    # content_plan - collection of indexes where each index points to record in training dataset - training_dataset[index]\n",
    "    \n",
    "    outputs = []\n",
    "\n",
    "    for i, training_sample in enumerate(inputs):\n",
    "        content_plan = content_plans[i]\n",
    "        output = []\n",
    "        for record in content_plan:\n",
    "            output.append(str(training_sample.index(record)))\n",
    "        outputs.append(\" \".join(output))\n",
    "        \n",
    "    # write to a file\n",
    "\n",
    "    output_file = open(CONTENT_PLAN_OUT, 'w')\n",
    "\n",
    "    # add \\n to the end of the string\n",
    "    output_file.write(\"\\n\".join(outputs))\n",
    "    # add \\n between content plans\n",
    "    output_file.write(\"\\n\")\n",
    "\n",
    "    output_file.close()\n",
    "    \n",
    "    return src_leaflets, content_plan_leaflets, summaries_leaflets"
   ]
  },
  {
   "cell_type": "code",
   "execution_count": 15,
   "metadata": {},
   "outputs": [],
   "source": [
    "leaflets_src_train, leaflets_inter_contentplan_train, leaflets_tgt_train = create_training_sets(train_dataset)"
   ]
  },
  {
   "cell_type": "code",
   "execution_count": 16,
   "metadata": {},
   "outputs": [],
   "source": [
    "with open('src_train.txt') as reader:\n",
    "    # This reads the remaining lines from the file object and returns them as a list.\n",
    "    src_train = reader.readlines()"
   ]
  },
  {
   "cell_type": "code",
   "execution_count": 17,
   "metadata": {},
   "outputs": [],
   "source": [
    "with open('tgt_train.txt') as reader:\n",
    "    # This reads the remaining lines from the file object and returns them as a list.\n",
    "    tgt_train = reader.readlines()"
   ]
  },
  {
   "cell_type": "code",
   "execution_count": 18,
   "metadata": {},
   "outputs": [],
   "source": [
    "with open('train_content_plan.txt') as reader:\n",
    "    # This reads the remaining lines from the file object and returns them as a list.\n",
    "    train_content_plan = reader.readlines()"
   ]
  },
  {
   "cell_type": "code",
   "execution_count": 19,
   "metadata": {},
   "outputs": [],
   "source": [
    "with open('inter/train_content_plan.txt') as reader:\n",
    "    # This reads the remaining lines from the file object and returns them as a list.\n",
    "    inter_train_content_plan = reader.readlines()"
   ]
  },
  {
   "cell_type": "markdown",
   "metadata": {},
   "source": [
    "======================================================================================================================\n",
    "## Validation dataset "
   ]
  },
  {
   "cell_type": "code",
   "execution_count": 28,
   "metadata": {},
   "outputs": [],
   "source": [
    "def create_validation_sets(dataset):\n",
    "    \n",
    "    # Output files    \n",
    "    INTER_CONTENT_PLAN_VALID = 'inter/valid_content_plan.txt'  # intermediate content plan input to second stage\n",
    "    SRC_FILE_VALID = 'src_valid.txt'  # src file input to first stage\n",
    "    TRAIN_TGT_FILE_VALID = \"tgt_valid.txt\"  # tgt file of second stage\n",
    "    CONTENT_PLAN_OUT_VALID = 'valid_content_plan.txt'  # content plan output of first stage\n",
    "    \n",
    "    # Create src - content_plan - summary\n",
    "    content_plan_leaflets, summaries_leaflets = create_summary_contentplan(dataset)\n",
    "    src_leaflets = create_src_table(content_plan_leaflets)\n",
    "    \n",
    "    # save to corresponding files\n",
    "    output_file = open(INTER_CONTENT_PLAN_VALID, 'w')\n",
    "    for content_plan in content_plan_leaflets:\n",
    "        output_file.write(content_plan)\n",
    "    output_file.close()\n",
    "    \n",
    "    summary_file = open(TRAIN_TGT_FILE_VALID, 'w')\n",
    "    for summary_leaflet in summaries_leaflets:\n",
    "        summary_file.write(summary_leaflet)\n",
    "    summary_file.close()\n",
    "    \n",
    "    src_file = open(SRC_FILE_VALID, 'w')\n",
    "    for src_instance in src_leaflets:\n",
    "        src_file.write(src_instance)\n",
    "    src_file.close()\n",
    "    \n",
    "    ### create last file needed - e.g (rotowire/train_content_plan.txt)\n",
    "    inputs = []\n",
    "    content_plans = []\n",
    "    with codecs.open(INTER_CONTENT_PLAN_VALID, \"r\", \"utf-8\") as corpus_file:\n",
    "        for i, line in enumerate(corpus_file):\n",
    "            content_plans.append(line.split())\n",
    "\n",
    "    with codecs.open(SRC_FILE_VALID, \"r\", \"utf-8\") as corpus_file:\n",
    "        for i, line in enumerate(corpus_file):\n",
    "            inputs.append(line.split())\n",
    "    \n",
    "    # basically - now content plan POINTs to index in the training dataset\n",
    "    # content_plan - collection of indexes where each index points to record in training dataset - training_dataset[index]\n",
    "    \n",
    "    outputs = []\n",
    "\n",
    "    for i, training_sample in enumerate(inputs):\n",
    "        content_plan = content_plans[i]\n",
    "        output = []\n",
    "        for record in content_plan:\n",
    "            output.append(str(training_sample.index(record)))\n",
    "        outputs.append(\" \".join(output))\n",
    "        \n",
    "    # write to a file\n",
    "\n",
    "    output_file = open(CONTENT_PLAN_OUT_VALID, 'w')\n",
    "\n",
    "    # add \\n to the end of the string\n",
    "    output_file.write(\"\\n\".join(outputs))\n",
    "    # add \\n between content plans\n",
    "    output_file.write(\"\\n\")\n",
    "\n",
    "    output_file.close()\n",
    "    \n",
    "    return src_leaflets, content_plan_leaflets, summaries_leaflets"
   ]
  },
  {
   "cell_type": "code",
   "execution_count": 29,
   "metadata": {},
   "outputs": [],
   "source": [
    "leaflets_src_valid, leaflets_inter_contentplan_valid, leaflets_tgt_valid = create_validation_sets(valid_dataset)"
   ]
  },
  {
   "cell_type": "code",
   "execution_count": null,
   "metadata": {},
   "outputs": [],
   "source": []
  },
  {
   "cell_type": "code",
   "execution_count": 39,
   "metadata": {},
   "outputs": [],
   "source": [
    "with open('inter/valid_content_plan.txt') as reader:\n",
    "    # This reads the remaining lines from the file object and returns them as a list.\n",
    "    contentplan_valid = reader.readlines()"
   ]
  },
  {
   "cell_type": "code",
   "execution_count": 37,
   "metadata": {},
   "outputs": [
    {
     "data": {
      "text/plain": [
       "130"
      ]
     },
     "execution_count": 37,
     "metadata": {},
     "output_type": "execute_result"
    }
   ],
   "source": [
    "len(contentplan_valid)"
   ]
  },
  {
   "cell_type": "markdown",
   "metadata": {},
   "source": [
    "INTER_CONTENT_PLAN_VALID = 'inter/valid_content_plan.txt'  # intermediate content plan input to second stage\n",
    "    SRC_FILE_VALID = 'src_valid.txt'  # src file input to first stage\n",
    "    TRAIN_TGT_FILE_VALID = \"tgt_valid.txt\"  # tgt file of second stage\n",
    "    CONTENT_PLAN_OUT_VALID = 'valid_content_plan.txt'  # content plan output of first stage"
   ]
  },
  {
   "cell_type": "code",
   "execution_count": null,
   "metadata": {},
   "outputs": [],
   "source": []
  },
  {
   "cell_type": "markdown",
   "metadata": {},
   "source": [
    "================================================================================================================================\n",
    "## Test dataset "
   ]
  },
  {
   "cell_type": "code",
   "execution_count": 41,
   "metadata": {},
   "outputs": [],
   "source": [
    "def create_test_sets(dataset):\n",
    "    \n",
    "    # Output files\n",
    "    SRC_FILE_TEST = 'test/src_test.txt'  # src file input to first stage\n",
    "    TRAIN_TGT_FILE_TEST = \"test/tgt_test.txt\"  # tgt file of second stage \n",
    "    \n",
    "    \n",
    "    # Create src - content_plan - summary\n",
    "    content_plan_leaflets, summaries_leaflets = create_summary_contentplan(dataset)\n",
    "    src_leaflets = create_src_table(content_plan_leaflets)\n",
    "    \n",
    "    # save to just summary and src data\n",
    "    \n",
    "    summary_file = open(TRAIN_TGT_FILE_TEST, 'w')\n",
    "    for summary_leaflet in summaries_leaflets:\n",
    "        summary_file.write(summary_leaflet)\n",
    "    summary_file.close()\n",
    "    \n",
    "    src_file = open(SRC_FILE_TEST, 'w')\n",
    "    for src_instance in src_leaflets:\n",
    "        src_file.write(src_instance)\n",
    "    src_file.close()\n",
    "\n",
    "    return src_leaflets, summaries_leaflets"
   ]
  },
  {
   "cell_type": "code",
   "execution_count": 42,
   "metadata": {},
   "outputs": [],
   "source": [
    "leaflets_src_test, leaflets_tgt_test = create_test_sets(test_dataset)"
   ]
  },
  {
   "cell_type": "markdown",
   "metadata": {},
   "source": [
    "=======================================================================================================================\n",
    "## Creating *train-roto-ptrs.txt*"
   ]
  },
  {
   "cell_type": "code",
   "execution_count": 43,
   "metadata": {},
   "outputs": [],
   "source": [
    "# Output files\n",
    "INTER_CONTENT_PLAN = 'inter/train_content_plan.txt'  # intermediate content plan input to second stage\n",
    "TRAIN_TGT_FILE = \"tgt_train.txt\"  # tgt file of second stage\n",
    "OUTPUT_FILE = \"train-roto-ptrs.txt\""
   ]
  },
  {
   "cell_type": "code",
   "execution_count": 44,
   "metadata": {},
   "outputs": [],
   "source": [
    "with open(TRAIN_TGT_FILE) as reader:\n",
    "    leaflet_tgt_train = reader.readlines()"
   ]
  },
  {
   "cell_type": "code",
   "execution_count": 45,
   "metadata": {},
   "outputs": [],
   "source": [
    "with open(INTER_CONTENT_PLAN) as reader:\n",
    "    leaflets_inter_content_plan = reader.readlines()"
   ]
  },
  {
   "cell_type": "markdown",
   "metadata": {},
   "source": [
    "For eg: the last entry 245,39 in train_roto_ptrs[1] indicates that the 245th token in summary matches with 39th content plan entry.  \n",
    "\n",
    "Phoenix ----> Phoenix￨Suns￨TEAM-CITY￨HOME  \n",
    "Suns ----> Suns￨Suns￨TEAM-NAME￨HOME  \n",
    "39 ----> 39￨Suns￨TEAM-WINS￨HOME  \n",
    "38 ----> 38￨Suns￨TEAM-LOSSES￨HOME  \n",
    "87 ----> 87￨Suns￨TEAM-PTS￨HOME  \n",
    "85 ----> 85￨Jazz￨TEAM-PTS￨AWAY  \n",
    "Utah ----> Utah￨Jazz￨TEAM-CITY￨AWAY  "
   ]
  },
  {
   "cell_type": "code",
   "execution_count": 46,
   "metadata": {},
   "outputs": [
    {
     "data": {
      "text/plain": [
       "\"do not use cystagon - if you - or your child - are allergic ( hypersensitive ) to cysteamine bitartrate or penicillamine or any of the other ingredients of cystagon . - if you are pregnant , this is particularly relevant during the first trimester - if you are breast - feeding . take special care with cystagon - when your or your child ' s disorder has been confirmed by leucocyte cystine measurements , the therapy with cystagon must be started as soon as possible . - a few cases of skin lesions on elbows like little hard lumps have been reported in children treated with high doses of different cysteamine preparations . these lesions were associated with skin striae and bone lesions such as fracture and bone deformities , and with laxity of joints . your doctor could require a regular physical and x - ray examination for the skin and the bones to control the effects of the medicinal product . self examination of your or your child ' s skin is recommended . if any skin or bone abnormalities appear , please inform your doctor immediately . - your doctor could require controlling the blood cell count on a regular basis . - cystagon has not been shown to prevent cystine crystals accumulating in the eye . where cysteamine ophthalmic solution has been used for that purpose , its usage should continue . - in contrast to phosphocysteamine , another active substance close to cysteamine bitartrate , cystagon does not contain phosphate . you may already be receiving phosphate supplements and the dose of these may need to be changed when cystagon is substituted for phosphocysteamine . - to avoid any risk of aspiration in the lungs , the capsules should not be given to children under the age of approximately 6 years . using other medicines please inform your doctor or pharmacist if you are taking or have recently taken any other medicines , even those not prescribed . using cystagon with food and drink for children under approximately six years of age , the hard capsule may be opened and the contents sprinkled on food ( e . g . milk , potatoes or starch based foods ) or mixed in formula . do not add to acidic drinks e . g . orange juice . consult the doctor for complete directions . pregnancy you should not use cystagon if you are pregnant . please consult your doctor if you plan to become pregnant . breast - feeding cystagon must not be used during breast - feeding . driving and using machines cystagon may cause some drowsiness . when starting therapy , you or your child should not engage in potentially hazardous activities until the effects of the drug are well known .\\n\""
      ]
     },
     "execution_count": 46,
     "metadata": {},
     "output_type": "execute_result"
    }
   ],
   "source": [
    "leaflet_tgt_train[0]"
   ]
  },
  {
   "cell_type": "code",
   "execution_count": 47,
   "metadata": {},
   "outputs": [
    {
     "data": {
      "text/plain": [
       "\"cystagon￨Section2￨PRODUCT_NAME￨HOME cystagon￨Section2￨GENERIC_NAME￨AWAY allergic￨Section2￨PROBLEM￨AWAY hypersensitive￨Section2￨DX_NAME￨AWAY cysteamine_bitartrate￨Section2￨GENERIC_NAME￨HOME penicillamine￨Section2￨GENERIC_NAME￨HOME cystagon￨Section2￨GENERIC_NAME￨HOME pregnant￨Section2￨DX_NAME￨HOME cystagon￨Section2￨TREATMENT￨HOME your_child's_disorder￨Section2￨PROBLEM￨AWAY leucocyte_cystine_measurements￨Section2￨TEST￨AWAY the_therapy￨Section2￨TREATMENT￨AWAY cystagon￨Section2￨GENERIC_NAME￨HOME skin_lesions_on_elbows￨Section2￨PROBLEM￨AWAY little_hard_lumps￨Section2￨PROBLEM￨AWAY different_cysteamine_preparations￨Section2￨TREATMENT￨HOME these_lesions￨Section2￨PROBLEM￨HOME skin_striae￨Section2￨DX_NAME￨HOME bone_lesions￨Section2￨DX_NAME￨AWAY fracture￨Section2￨DX_NAME￨HOME bone_deformities￨Section2￨DX_NAME￨AWAY laxity_of_joints￨Section2￨PROBLEM￨AWAY a_regular_physical_and_x-ray_examination￨Section2￨TEST￨HOME the_skin_and_the_bones￨Section2￨PROBLEM￨HOME the_medicinal_product￨Section2￨TREATMENT￨HOME self_examination￨Section2￨TEST￨HOME skin￨Section2￨SYSTEM_ORGAN_SITE￨AWAY any_skin_or_bone_abnormalities￨Section2￨PROBLEM￨AWAY immediately￨Section2￨TIME_TO_DX_NAME￨AWAY the_blood_cell_count￨Section2￨TEST￨AWAY cystagon￨Section2￨GENERIC_NAME￨HOME cystine_crystals_accumulating_in_the_eye￨Section2￨PROBLEM￨AWAY cysteamine_ophthalmic_solution￨Section2￨TREATMENT￨AWAY contrast￨Section2￨GENERIC_NAME￨AWAY phosphocysteamine￨Section2￨GENERIC_NAME￨AWAY cysteamine_bitartrate￨Section2￨GENERIC_NAME￨AWAY cystagon￨Section2￨GENERIC_NAME￨AWAY phosphate￨Section2￨TREATMENT￨HOME phosphate_supplements￨Section2￨TREATMENT_NAME￨AWAY cystagon￨Section2￨GENERIC_NAME￨AWAY phosphocysteamine￨Section2￨GENERIC_NAME￨AWAY aspiration_in_the_lungs￨Section2￨PROBLEM￨HOME the_capsules￨Section2￨TREATMENT￨HOME 6￨Section2￨NUMBER￨HOME other_medicines￨Section2￨TREATMENT￨HOME any_other_medicines￨Section2￨TREATMENT￨HOME cystagon￨Section2￨GENERIC_NAME￨HOME the_hard_capsule￨Section2￨TREATMENT￨AWAY starch_based_foods￨Section2￨TREATMENT￨AWAY pregnancy￨Section2￨DX_NAME￨HOME cystagon￨Section2￨GENERIC_NAME￨HOME pregnant￨Section2￨DX_NAME￨AWAY pregnant￨Section2￨DX_NAME￨HOME breast-feeding_cystagon￨Section2￨TREATMENT￨HOME machines_cystagon￨Section2￨TREATMENT￨HOME some_drowsiness￨Section2￨PROBLEM￨HOME therapy￨Section2￨TREATMENT￨HOME \\n\""
      ]
     },
     "execution_count": 47,
     "metadata": {},
     "output_type": "execute_result"
    }
   ],
   "source": [
    "leaflets_inter_content_plan[0]"
   ]
  },
  {
   "cell_type": "code",
   "execution_count": 48,
   "metadata": {},
   "outputs": [],
   "source": [
    "roto_pts_content = []\n",
    "\n",
    "# for each leaflet\n",
    "for leflet_num in range(len(leaflet_tgt_train)):\n",
    "    \n",
    "    # get current leaflet and content plan\n",
    "    current_leaflet = leaflet_tgt_train[leflet_num].split()\n",
    "    current_content_plan = leaflets_inter_content_plan[leflet_num].split()\n",
    "    \n",
    "    # get the values of content plan\n",
    "    instances = []\n",
    "    for entry in current_content_plan:\n",
    "        record_values = entry.split(DELIM)[0]\n",
    "        instances.append(record_values)\n",
    "    \n",
    "    # pairs (index_tgt, index_contentplan) for each leaflet\n",
    "    current_str = []\n",
    "    \n",
    "    # for each token in current summary\n",
    "    for token_pos in range(len(current_leaflet)):\n",
    "        \n",
    "        # get token\n",
    "        token = current_leaflet[token_pos]\n",
    "        \n",
    "        # possible tokens if 2 words in content plan like 'immunodeficiency_syndrome'\n",
    "        if token_pos < (len(current_leaflet)-1):\n",
    "            token_2words = current_leaflet[token_pos] + \"_\" + current_leaflet[token_pos+1]\n",
    "        else:\n",
    "            token_2words = 'something that would never be in the section content'\n",
    "        \n",
    "        ### my-new-change\n",
    "        # possible tokens if 3 words in content plan\n",
    "        if token_pos < (len(current_leaflet)-2):\n",
    "            token_3words = current_leaflet[token_pos] + \"_\" + current_leaflet[token_pos+1] + \"_\" + current_leaflet[token_pos+2]\n",
    "        else:\n",
    "            token_3words = 'something that would never be in the section content'\n",
    "        \n",
    "        # possible tokens if 4 words in content plan\n",
    "        if token_pos < (len(current_leaflet)-3):\n",
    "            token_4words = current_leaflet[token_pos] + \"_\" + current_leaflet[token_pos+1] + \"_\" + current_leaflet[token_pos+2] + \"_\" + current_leaflet[token_pos+3]\n",
    "        else:\n",
    "            token_4words = 'something that would never be in the section content'\n",
    "        \n",
    "        \n",
    "        for content_plan_index in range(len(instances)):\n",
    "                \n",
    "            if token_4words == instances[content_plan_index]:\n",
    "                # mask the corresponding position in content plan\n",
    "                instances[content_plan_index] = \"MASKED\"\n",
    "                pair = str(token_pos) + \",\" + str(content_plan_index)\n",
    "                current_str.append(pair)\n",
    "\n",
    "                # find just one match\n",
    "                break\n",
    "            \n",
    "            if token_3words == instances[content_plan_index]:\n",
    "                # mask the corresponding position in content plan\n",
    "                instances[content_plan_index] = \"MASKED\"\n",
    "                pair = str(token_pos) + \",\" + str(content_plan_index)\n",
    "                current_str.append(pair)\n",
    "                # find just one match\n",
    "                break\n",
    "            \n",
    "            if token_2words == instances[content_plan_index]:\n",
    "                # mask the corresponding position in content plan\n",
    "                instances[content_plan_index] = \"MASKED\"\n",
    "                pair = str(token_pos) + \",\" + str(content_plan_index)\n",
    "                current_str.append(pair)\n",
    "                # find just one match\n",
    "                break\n",
    "            \n",
    "            if token == instances[content_plan_index]:\n",
    "                # mask the corresponding position in content plan\n",
    "                instances[content_plan_index] = \"MASKED\"\n",
    "                pair = str(token_pos) + \",\" + str(content_plan_index)\n",
    "                current_str.append(pair)\n",
    "                # find just one match\n",
    "                break\n",
    "    \n",
    "    # join pairs into string with \" \" between pairs\n",
    "    current_str = \" \".join(current_str)\n",
    "    \n",
    "    # add \"\\n\" at the end\n",
    "    current_str += \"\\n\"\n",
    "    \n",
    "    roto_pts_content.append(current_str)"
   ]
  },
  {
   "cell_type": "code",
   "execution_count": 49,
   "metadata": {},
   "outputs": [],
   "source": [
    "OUTPUT_FILE = \"train-roto-ptrs.txt\"\n",
    "\n",
    "src_file = open(OUTPUT_FILE, 'w')\n",
    "for src_instance in roto_pts_content:\n",
    "    src_file.write(src_instance)\n",
    "src_file.close()"
   ]
  },
  {
   "cell_type": "code",
   "execution_count": 50,
   "metadata": {},
   "outputs": [
    {
     "data": {
      "text/plain": [
       "1046"
      ]
     },
     "execution_count": 50,
     "metadata": {},
     "output_type": "execute_result"
    }
   ],
   "source": [
    "len(roto_pts_content)"
   ]
  },
  {
   "cell_type": "code",
   "execution_count": 51,
   "metadata": {},
   "outputs": [],
   "source": [
    "index = 500"
   ]
  },
  {
   "cell_type": "code",
   "execution_count": 52,
   "metadata": {},
   "outputs": [
    {
     "data": {
      "text/plain": [
       "'3,0 7,2 9,3 15,4 26,5 28,6 31,7 35,8 36,144 43,9 45,10 54,1 57,12 59,13 65,14 70,15 72,16 77,17 86,215 92,49 98,20 99,27 109,21 110,92 113,22 117,23 125,24 130,25 132,26 141,90 146,29 164,11 175,30 191,32 194,33 195,204 198,34 206,35 211,61 216,37 220,38 223,39 231,41 233,42 236,43 239,44 242,45 246,46 259,48 266,50 270,51 273,52 277,53 296,56 307,58 309,59 316,60 323,62 326,73 329,63 335,64 340,65 346,66 364,31 370,69 383,70 384,234 389,71 394,72 395,102 399,103 406,74 429,76 435,77 439,68 447,78 455,80 457,161 461,81 462,246 473,83 475,84 477,85 484,86 487,87 491,88 497,89 508,91 514,166 517,93 533,79 539,95 556,96 558,94 564,98 576,99 578,100 596,101 610,105 611,121 613,106 618,107 621,108 623,109 625,110 627,111 629,112 632,113 634,114 636,115 639,116 641,117 648,177 653,119 692,122 696,123 698,124 700,125 702,126 713,127 715,128 726,97 728,129 735,131 748,130 758,133 764,134 765,172 767,132 785,136 786,187 787,176 798,137 803,138 817,139 818,182 824,140 825,194 834,135 837,142 839,201 845,143 848,203 851,145 859,147 875,150 881,151 883,152 888,154 890,155 894,156 899,157 902,158 910,160 916,211 920,162 930,164 933,165 938,167 942,168 947,169 952,170 959,233 966,173 972,174 973,245 979,240 995,178 997,179 999,180 1001,181 1006,183 1013,184 1015,185 1017,186 1020,226 1024,188 1031,189 1033,190 1036,191 1040,192 1047,193 1055,195 1057,196 1059,197 1063,198 1066,199 1068,200 1072,202 1086,205 1089,206 1095,207 1098,208 1103,209 1117,212 1123,213 1126,214 1130,216 1132,217 1135,218 1147,220 1151,221 1153,222 1173,225 1180,243 1185,227 1189,228 1191,229 1197,231 1203,232 1210,235 1213,236 1225,238 1237,141 1248,239 1251,242 1262,244 1278,247 1280,248 1284,249 1293,250 1295,251 1297,252 1304,253 1323,254 1328,241 1333,255 1340,257 1353,259 1355,260 1357,256 1365,261 1385,263 1399,264 1401,265 1404,266 1409,267 1425,268 1436,262 1440,270 1449,271 1460,269 1462,272 1467,274 1477,275 1479,276 1494,277 1497,278 1519,273 1555,280 1557,281 1560,279 1565,283 1567,284 1576,282 1584,287 1589,288 1599,285\\n'"
      ]
     },
     "execution_count": 52,
     "metadata": {},
     "output_type": "execute_result"
    }
   ],
   "source": [
    "roto_pts_content[index]"
   ]
  },
  {
   "cell_type": "code",
   "execution_count": 53,
   "metadata": {},
   "outputs": [
    {
     "data": {
      "text/plain": [
       "258"
      ]
     },
     "execution_count": 53,
     "metadata": {},
     "output_type": "execute_result"
    }
   ],
   "source": [
    "len(roto_pts_content[index].split())"
   ]
  },
  {
   "cell_type": "code",
   "execution_count": 54,
   "metadata": {},
   "outputs": [
    {
     "data": {
      "text/plain": [
       "290"
      ]
     },
     "execution_count": 54,
     "metadata": {},
     "output_type": "execute_result"
    }
   ],
   "source": [
    "len(leaflets_inter_content_plan[index].split())"
   ]
  },
  {
   "cell_type": "markdown",
   "metadata": {},
   "source": [
    "### Check whether correct"
   ]
  },
  {
   "cell_type": "code",
   "execution_count": 55,
   "metadata": {},
   "outputs": [
    {
     "name": "stdout",
     "output_type": "stream",
     "text": [
      "['kinzalkomb', 'if', 'you', 'are'] ----> kinzalkomb￨Section2￨PRODUCT_NAME￨AWAY\n",
      "['allergic', 'to', 'telmisartan', 'or'] ----> allergic￨Section2￨PROBLEM￨HOME\n",
      "['telmisartan', 'or', 'any', 'other'] ----> telmisartan￨Section2￨GENERIC_NAME￨HOME\n",
      "['this', 'medicine', '(', 'listed'] ----> this_medicine￨Section2￨TREATMENT￨HOME\n",
      "['allergic', 'to', 'hydrochlorothiazide', 'or'] ----> allergic￨Section2￨PROBLEM￨HOME\n",
      "['hydrochlorothiazide', 'or', 'to', 'any'] ----> hydrochlorothiazide￨Section2￨GENERIC_NAME￨AWAY\n",
      "['any', 'other', 'sulfonamide', '-'] ----> any_other_sulfonamide￨Section2￨TREATMENT￨HOME\n",
      "['derived', 'medicines', '.', 'if'] ----> derived_medicines￨Section2￨TREATMENT￨HOME\n",
      "['medicines', '.', 'if', 'you'] ----> medicines￨Section2￨TREATMENT￨HOME\n",
      "['3', 'months', 'pregnant', '.'] ----> 3￨Section2￨NUMBER￨AWAY\n",
      "['pregnant', '.', '(', 'it'] ----> pregnant￨Section2￨DX_NAME￨HOME\n",
      "['kinzalkomb', 'in', 'early', 'pregnancy'] ----> kinzalkomb￨Section2￨GENERIC_NAME￨AWAY\n",
      "['pregnancy', 'see', 'pregnancy', 'section'] ----> pregnancy￨Section2￨DX_NAME￨HOME\n",
      "['pregnancy', 'section', '.)', 'if'] ----> pregnancy_section￨Section2￨PROCEDURE_NAME￨AWAY\n",
      "['severe', 'liver', 'problems', 'such'] ----> severe_liver_problems￨Section2￨PROBLEM￨HOME\n",
      "['cholestasis', 'or', 'biliary', 'obstruction'] ----> cholestasis￨Section2￨DX_NAME￨HOME\n",
      "['biliary', 'obstruction', '(', 'problems'] ----> biliary_obstruction￨Section2￨DX_NAME￨HOME\n",
      "['drainage', 'of', 'the', 'bile'] ----> drainage￨Section2￨DX_NAME￨AWAY\n",
      "['bladder', ')', 'or', 'any'] ----> bladder￨Section2￨SYSTEM_ORGAN_SITE￨AWAY\n",
      "['liver', 'disease', '.', 'if'] ----> liver_disease￨Section2￨DX_NAME￨AWAY\n",
      "['severe', 'kidney', 'disease', '.'] ----> severe_kidney_disease￨Section2￨PROBLEM￨HOME\n",
      "['kidney', 'disease', '.', 'if'] ----> kidney￨Section2￨SYSTEM_ORGAN_SITE￨HOME\n",
      "['low', 'potassium', 'levels', 'or'] ----> low_potassium_levels￨Section2￨DX_NAME￨HOME\n",
      "['potassium', 'levels', 'or', 'high'] ----> potassium￨Section2￨TEST￨HOME\n",
      "['high', 'calcium', 'levels', 'in'] ----> high_calcium_levels￨Section2￨PROBLEM￨HOME\n",
      "['your', 'blood', 'that', 'do'] ----> your_blood￨Section2￨TEST￨AWAY\n",
      "['treatment', '.', 'if', 'you'] ----> treatment￨Section2￨TREATMENT￨AWAY\n",
      "['diabetes', 'or', 'impaired', 'kidney'] ----> diabetes￨Section2￨DX_NAME￨HOME\n",
      "['impaired', 'kidney', 'function', 'and'] ----> impaired_kidney_function￨Section2￨DX_NAME￨AWAY\n",
      "['blood', 'pressure', 'lowering', 'medicine'] ----> blood_pressure￨Section2￨TEST_NAME￨AWAY\n",
      "['aliskiren', '.', 'if', 'any'] ----> aliskiren￨Section2￨GENERIC_NAME￨AWAY\n",
      "['kinzalkomb', '.', 'warnings', 'and'] ----> kinzalkomb￨Section2￨GENERIC_NAME￨AWAY\n",
      "['kinzalkomb', 'if', 'you', 'are'] ----> kinzalkomb￨Section2￨GENERIC_NAME￨HOME\n",
      "['illnesses', ':', '-', 'low'] ----> illnesses￨Section2￨DX_NAME￨AWAY\n",
      "['low', 'blood', 'pressure', '('] ----> low_blood_pressure￨Section2￨DX_NAME￨HOME\n",
      "['blood', 'pressure', '(', 'hypotension'] ----> blood_pressure￨Section2￨TEST￨AWAY\n",
      "['hypotension', '),', 'likely', 'to'] ----> hypotension￨Section2￨DX_NAME￨HOME\n",
      "['dehydrated', '(', 'excessive', 'loss'] ----> dehydrated￨Section2￨DX_NAME￨AWAY\n",
      "['body', 'water', ')', 'or'] ----> body￨Section2￨SYSTEM_ORGAN_SITE￨AWAY\n",
      "['salt', 'deficiency', 'due', 'to'] ----> salt_deficiency￨Section2￨PROBLEM￨AWAY\n",
      "['diuretic', 'therapy', '(', 'water'] ----> diuretic_therapy￨Section2￨TREATMENT_NAME￨HOME\n",
      "['water', 'tablets', '),', 'low'] ----> water_tablets￨Section2￨TREATMENT￨AWAY\n",
      "['diarrhoea', ',', 'vomiting', ','] ----> diarrhoea￨Section2￨DX_NAME￨HOME\n",
      "['vomiting', ',', 'or', 'haemodialysis'] ----> vomiting￨Section2￨DX_NAME￨HOME\n",
      "['haemodialysis', '.', '-', 'kidney'] ----> haemodialysis￨Section2￨DX_NAME￨AWAY\n",
      "['kidney', 'disease', 'or', 'kidney'] ----> kidney_disease￨Section2￨DX_NAME￨HOME\n",
      "['kidney', 'transplant', '.', '-'] ----> kidney_transplant￨Section2￨PROCEDURE_NAME￨HOME\n",
      "['renal', 'artery', 'stenosis', '('] ----> renal_artery_stenosis￨Section2￨DX_NAME￨AWAY\n",
      "['kidneys', ').', '-', 'liver'] ----> kidneys￨Section2￨SYSTEM_ORGAN_SITE￨AWAY\n",
      "['heart', 'trouble', '.', '-'] ----> heart_trouble￨Section2￨DX_NAME￨AWAY\n",
      "['diabetes', '.', '-', 'gout'] ----> diabetes￨Section2￨DX_NAME￨AWAY\n",
      "['gout', '.', '-', 'raised'] ----> gout￨Section2￨DX_NAME￨HOME\n",
      "['aldosterone', 'levels', '(', 'water'] ----> aldosterone_levels￨Section2￨PROBLEM￨AWAY\n",
      "['systemic', 'lupus', 'erythematosus', '('] ----> systemic_lupus_erythematosus￨Section2￨DX_NAME￨AWAY\n",
      "['sle', '\")', 'a', 'disease'] ----> sle￨Section2￨DX_NAME￨AWAY\n",
      "['a', 'disease', 'where', 'the'] ----> a_disease￨Section2￨PROBLEM￨HOME\n",
      "['immune', 'system', 'attacks', 'the'] ----> immune_system_attacks￨Section2￨DX_NAME￨AWAY\n",
      "['the', 'active', 'ingredient', 'hydrochlorothiazide'] ----> the_active_ingredient_hydrochlorothiazide￨Section2￨TREATMENT￨AWAY\n",
      "['hydrochlorothiazide', 'can', 'cause', 'an'] ----> hydrochlorothiazide￨Section2￨GENERIC_NAME￨HOME\n",
      "['an', 'unusual', 'reaction', ','] ----> an_unusual_reaction￨Section2￨PROBLEM￨AWAY\n",
      "['a', 'decrease', 'in', 'vision'] ----> a_decrease_in_vision￨Section2￨PROBLEM￨AWAY\n",
      "['eye', 'pain', '.', 'these'] ----> eye_pain￨Section2￨DX_NAME￨AWAY\n",
      "['symptoms', 'of', 'an', 'increase'] ----> symptoms￨Section2￨PROBLEM￨AWAY\n",
      "['kinzalkomb', '.', 'this', 'can'] ----> kinzalkomb￨Section2￨GENERIC_NAME￨HOME\n",
      "['permanent', 'vision', 'impairment', ','] ----> permanent_vision_impairment￨Section2￨PROBLEM￨AWAY\n",
      "['skin', 'cancer', 'or', 'if'] ----> skin_cancer￨Section2￨DX_NAME￨AWAY\n",
      "['cancer', 'or', 'if', 'you'] ----> cancer￨Section2￨DX_NAME￨AWAY\n",
      "['an', 'unexpected', 'skin', 'lesion'] ----> an_unexpected_skin_lesion￨Section2￨PROBLEM￨HOME\n",
      "['the', 'treatment', '.', 'treatment'] ----> the_treatment￨Section2￨TREATMENT￨HOME\n",
      "['treatment', '.', 'treatment', 'with'] ----> treatment￨Section2￨TREATMENT￨HOME\n",
      "['hydrochlorothiazide', ',', 'particularly', 'long'] ----> hydrochlorothiazide￨Section2￨GENERIC_NAME￨AWAY\n",
      "['high', 'doses', ',', 'may'] ----> high_doses￨Section2￨TREATMENT￨AWAY\n",
      "['your', 'skin', 'from', 'sun'] ----> your_skin￨Section2￨PROBLEM￨HOME\n",
      "['uv', 'rays', 'while', 'taking'] ----> uv_rays￨Section2￨TREATMENT￨AWAY\n",
      "['kinzalkomb', '.', 'talk', 'to'] ----> kinzalkomb￨Section2￨GENERIC_NAME￨AWAY\n",
      "['kinzalkomb', ':', 'if', 'you'] ----> kinzalkomb￨Section2￨GENERIC_NAME￨AWAY\n",
      "['the', 'following', 'medicines', 'used'] ----> the_following_medicines￨Section2￨TREATMENT￨HOME\n",
      "['medicines', 'used', 'to', 'treat'] ----> medicines￨Section2￨TREATMENT￨HOME\n",
      "['high', 'blood', 'pressure', ':'] ----> high_blood_pressure￨Section2￨DX_NAME￨AWAY\n",
      "['blood', 'pressure', ':', '-'] ----> blood_pressure￨Section2￨TEST￨HOME\n",
      "['enalapril', ',', 'lisinopril', ','] ----> enalapril￨Section2￨GENERIC_NAME￨AWAY\n",
      "['lisinopril', ',', 'ramipril', '),'] ----> lisinopril￨Section2￨GENERIC_NAME￨AWAY\n",
      "['ramipril', '),', 'in', 'particular'] ----> ramipril￨Section2￨GENERIC_NAME￨HOME\n",
      "['diabetes', '-', 'related', 'kidney'] ----> diabetes￨Section2￨PROBLEM￨AWAY\n",
      "['kidney', 'problems', '.', '-'] ----> kidney_problems￨Section2￨DX_NAME￨AWAY\n",
      "['aliskiren', '.', 'your', 'doctor'] ----> aliskiren￨Section2￨GENERIC_NAME￨AWAY\n",
      "['your', 'kidney', 'function', ','] ----> your_kidney_function￨Section2￨TEST￨HOME\n",
      "['electrolytes', '(', 'e', '.'] ----> electrolytes￨Section2￨TEST￨AWAY\n",
      "['potassium', ')', 'in', 'your'] ----> potassium￨Section2￨GENERIC_NAME￨HOME\n",
      "['your', 'blood', 'at', 'regular'] ----> your_blood￨Section2￨TEST￨AWAY\n",
      "['kinzalkomb', '\".', 'if', 'you'] ----> kinzalkomb￨Section2￨GENERIC_NAME￨HOME\n",
      "['digoxin', '.', 'you', 'must'] ----> digoxin￨Section2￨GENERIC_NAME￨HOME\n",
      "['pregnant', '.', 'kinzalkomb', 'is'] ----> pregnant￨Section2￨DX_NAME￨AWAY\n",
      "['kinzalkomb', 'is', 'not', 'recommended'] ----> kinzalkomb￨Section2￨GENERIC_NAME￨AWAY\n",
      "['pregnancy', ',', 'and', 'must'] ----> pregnancy￨Section2￨DX_NAME￨AWAY\n",
      "['3', 'months', 'pregnant', ','] ----> 3￨Section2￨NUMBER￨AWAY\n",
      "['pregnant', ',', 'as', 'it'] ----> pregnant￨Section2￨DX_NAME￨AWAY\n",
      "['pregnancy', 'section', ').', 'treatment'] ----> pregnancy￨Section2￨DX_NAME￨AWAY\n",
      "['typical', 'symptoms', 'of', 'fluid'] ----> typical_symptoms￨Section2￨PROBLEM￨AWAY\n",
      "['symptoms', 'of', 'fluid', 'or'] ----> symptoms￨Section2￨PROBLEM￨HOME\n",
      "['fluid', 'or', 'electrolyte', 'imbalance'] ----> fluid_or_electrolyte_imbalance￨Section2￨DX_NAME￨HOME\n",
      "['dry', 'mouth', ',', 'weakness'] ----> dry_mouth￨Section2￨DX_NAME￨AWAY\n",
      "['weakness', ',', 'lethargy', ','] ----> weakness￨Section2￨DX_NAME￨AWAY\n",
      "['lethargy', ',', 'drowsiness', ','] ----> lethargy￨Section2￨DX_NAME￨AWAY\n",
      "['drowsiness', ',', 'restlessness', ','] ----> drowsiness￨Section2￨DX_NAME￨HOME\n",
      "['restlessness', ',', 'muscle', 'pain'] ----> restlessness￨Section2￨DX_NAME￨HOME\n",
      "['muscle', 'pain', 'or', 'cramps'] ----> muscle_pain￨Section2￨DX_NAME￨AWAY\n",
      "['cramps', ',', 'nausea', '('] ----> cramps￨Section2￨DX_NAME￨HOME\n",
      "['nausea', '(', 'feeling', 'sick'] ----> nausea￨Section2￨DX_NAME￨HOME\n",
      "['feeling', 'sick', '),', 'vomiting'] ----> feeling_sick￨Section2￨DX_NAME￨HOME\n",
      "['vomiting', ',', 'tired', 'muscles'] ----> vomiting￨Section2￨DX_NAME￨HOME\n",
      "['tired', 'muscles', ',', 'and'] ----> tired_muscles￨Section2￨PROBLEM￨HOME\n",
      "['heart', 'rate', '(', 'faster'] ----> heart￨Section2￨SYSTEM_ORGAN_SITE￨AWAY\n",
      "['100', 'beats', 'per', 'minute'] ----> 100￨Section2￨NUMBER￨HOME\n",
      "['sunburn', '(', 'such', 'as'] ----> sunburn￨Section2￨DX_NAME￨AWAY\n",
      "['redness', ',', 'itching', ','] ----> redness￨Section2￨DX_NAME￨HOME\n",
      "['itching', ',', 'swelling', ','] ----> itching￨Section2￨DX_NAME￨AWAY\n",
      "['swelling', ',', 'blistering', ')'] ----> swelling￨Section2￨DX_NAME￨HOME\n",
      "['blistering', ')', 'occurring', 'more'] ----> blistering￨Section2￨DX_NAME￨HOME\n",
      "['surgery', 'or', 'anaesthetics', ','] ----> surgery￨Section2￨PROCEDURE_NAME￨HOME\n",
      "['anaesthetics', ',', 'you', 'should'] ----> anaesthetics￨Section2￨TREATMENT￨AWAY\n",
      "['kinzalkomb', '.', 'kinzalkomb', 'may'] ----> kinzalkomb￨Section2￨GENERIC_NAME￨AWAY\n",
      "['kinzalkomb', 'may', 'be', 'less'] ----> kinzalkomb￨Section2￨GENERIC_NAME￨AWAY\n",
      "['the', 'blood', 'pressure', 'in'] ----> the_blood_pressure￨Section2￨TEST￨AWAY\n",
      "['kinzalkomb', 'in', 'children', 'and'] ----> kinzalkomb￨Section2￨GENERIC_NAME￨AWAY\n",
      "['18', 'years', 'is', 'not'] ----> 18￨Section2￨AGE￨HOME\n",
      "['other', 'medicines', 'and', 'kinzalkomb'] ----> other_medicines￨Section2￨TREATMENT￨AWAY\n",
      "['medicines', 'and', 'kinzalkomb', ':'] ----> medicines￨Section2￨TREATMENT￨HOME\n",
      "['kinzalkomb', ':', 'tell', 'your'] ----> kinzalkomb￨Section2￨GENERIC_NAME￨AWAY\n",
      "['any', 'other', 'medicines', '.'] ----> any_other_medicines￨Section2￨TREATMENT￨HOME\n",
      "['other', 'medicines', '.', 'your'] ----> other_medicines￨Section2￨TREATMENT￨HOME\n",
      "['medicines', '.', 'your', 'doctor'] ----> medicines￨Section2￨TREATMENT￨HOME\n",
      "['these', 'other', 'medications', 'or'] ----> these_other_medications￨Section2￨TREATMENT￨HOME\n",
      "['other', 'precautions', '.', 'in'] ----> other_precautions￨Section2￨TREATMENT￨HOME\n",
      "['the', 'medicines', '.', 'this'] ----> the_medicines￨Section2￨TREATMENT￨HOME\n",
      "['medicines', '.', 'this', 'applies'] ----> medicines￨Section2￨TREATMENT￨HOME\n",
      "['the', 'medicines', 'listed', 'below'] ----> the_medicines￨Section2￨TREATMENT￨HOME\n",
      "['medicines', 'listed', 'below', 'taken'] ----> medicines￨Section2￨TREATMENT￨HOME\n",
      "['kinzalkomb', ':', '-', 'lithium'] ----> kinzalkomb￨Section2￨GENERIC_NAME￨AWAY\n",
      "['lithium', 'containing', 'medicines', 'to'] ----> lithium_containing_medicines￨Section2￨TREATMENT￨HOME\n",
      "['medicines', 'to', 'treat', 'some'] ----> medicines￨Section2￨TREATMENT￨AWAY\n",
      "['depression', '.', '-', 'medicines'] ----> depression￨Section2￨DX_NAME￨AWAY\n",
      "['medicines', 'associated', 'with', 'low'] ----> medicines￨Section2￨TREATMENT￨HOME\n",
      "['low', 'blood', 'potassium', '('] ----> low_blood_potassium￨Section2￨PROBLEM￨HOME\n",
      "['other', 'diuretics', ',', \"('\"] ----> other_diuretics￨Section2￨TREATMENT￨AWAY\n",
      "['corticosteroids', '(', 'e', '.'] ----> corticosteroids￨Section2￨GENERIC_NAME￨HOME\n",
      "['prednisone', '),', 'acth', '('] ----> prednisone￨Section2￨GENERIC_NAME￨HOME\n",
      "['acth', '(', 'a', 'hormone'] ----> acth￨Section2￨TREATMENT￨HOME\n",
      "['amphotericin', '(', 'an', 'antifungal'] ----> amphotericin￨Section2￨GENERIC_NAME￨HOME\n",
      "['an', 'antifungal', 'medicine', '),'] ----> an_antifungal_medicine￨Section2￨TREATMENT￨HOME\n",
      "['carbenoxolone', '(', 'used', 'to'] ----> carbenoxolone￨Section2￨GENERIC_NAME￨HOME\n",
      "['mouth', 'ulcers', '),', 'penicillin'] ----> mouth_ulcers￨Section2￨DX_NAME￨HOME\n",
      "['penicillin', 'g', 'sodium', '('] ----> penicillin_g_sodium￨Section2￨GENERIC_NAME￨HOME\n",
      "['salicylic', 'acid', 'and', 'derivatives'] ----> salicylic_acid_and_derivatives￨Section2￨TREATMENT￨AWAY\n",
      "['medicines', 'that', 'may', 'increase'] ----> medicines￨Section2￨TREATMENT￨HOME\n",
      "['blood', 'potassium', 'levels', 'such'] ----> blood_potassium_levels￨Section2￨TEST￨HOME\n",
      "['potassium', 'supplements', ',', 'salt'] ----> potassium_supplements￨Section2￨GENERIC_NAME￨HOME\n",
      "['salt', 'substitutes', 'containing', 'potassium'] ----> salt_substitutes￨Section2￨GENERIC_NAME￨HOME\n",
      "['ace', 'inhibitors', 'cyclosporin', '('] ----> ace_inhibitors_cyclosporin￨Section2￨GENERIC_NAME￨HOME\n",
      "['an', 'immunosuppressant', 'drug', ')'] ----> an_immunosuppressant_drug￨Section2￨TREATMENT￨HOME\n",
      "['other', 'medicinal', 'products', 'such'] ----> other_medicinal_products￨Section2￨TREATMENT￨AWAY\n",
      "['heparin', 'sodium', '(', 'an'] ----> heparin_sodium￨Section2￨GENERIC_NAME￨HOME\n",
      "['medicines', 'that', 'are', 'affected'] ----> medicines￨Section2￨TREATMENT￨HOME\n",
      "['the', 'blood', 'potassium', 'level'] ----> the_blood_potassium_level￨Section2￨TEST￨AWAY\n",
      "['heart', 'medicines', '(', 'e'] ----> heart_medicines￨Section2￨TREATMENT_NAME￨AWAY\n",
      "['medicines', '(', 'e', '.'] ----> medicines￨Section2￨TREATMENT￨AWAY\n",
      "['digoxin', ')', 'or', 'medicines'] ----> digoxin￨Section2￨GENERIC_NAME￨HOME\n",
      "['quinidine', ',', 'disopyramide', ','] ----> quinidine￨Section2￨GENERIC_NAME￨AWAY\n",
      "['disopyramide', ',', 'amiodarone', ','] ----> disopyramide￨Section2￨GENERIC_NAME￨AWAY\n",
      "['amiodarone', ',', 'sotalol', '),'] ----> amiodarone￨Section2￨GENERIC_NAME￨AWAY\n",
      "['sotalol', '),', 'medicines', 'used'] ----> sotalol￨Section2￨GENERIC_NAME￨AWAY\n",
      "['mental', 'disorders', '(', 'e'] ----> mental_disorders￨Section2￨DX_NAME￨AWAY\n",
      "['thioridazine', ',', 'chlorpromazine', ','] ----> thioridazine￨Section2￨GENERIC_NAME￨HOME\n",
      "['chlorpromazine', ',', 'levomepromazine', ')'] ----> chlorpromazine￨Section2￨GENERIC_NAME￨HOME\n",
      "['levomepromazine', ')', 'and', 'other'] ----> levomepromazine￨Section2￨GENERIC_NAME￨AWAY\n",
      "['other', 'medicines', 'such', 'as'] ----> other_medicines￨Section2￨TREATMENT￨AWAY\n",
      "['certain', 'antibiotics', '(', 'e'] ----> certain_antibiotics￨Section2￨TREATMENT￨AWAY\n",
      "['sparfloxacine', ',', 'pentamidine', ')'] ----> sparfloxacine￨Section2￨GENERIC_NAME￨HOME\n",
      "['pentamidine', ')', 'or', 'certain'] ----> pentamidine￨Section2￨GENERIC_NAME￨AWAY\n",
      "['certain', 'medicines', 'to', 'treat'] ----> certain_medicines￨Section2￨TREATMENT￨AWAY\n",
      "['allergic', 'reactions', '(', 'e'] ----> allergic_reactions￨Section2￨DX_NAME￨HOME\n",
      "['terfenadine', ').', '-', 'medicines'] ----> terfenadine￨Section2￨GENERIC_NAME￨AWAY\n",
      "['diabetes', '(', 'insulins', 'or'] ----> diabetes￨Section2￨DX_NAME￨AWAY\n",
      "['insulins', 'or', 'oral', 'agents'] ----> insulins￨Section2￨GENERIC_NAME￨HOME\n",
      "['oral', 'agents', 'such', 'as'] ----> oral_agents￨Section2￨TREATMENT￨HOME\n",
      "['metformin', ').', '-', 'cholestyramine'] ----> metformin￨Section2￨GENERIC_NAME￨HOME\n",
      "['cholestyramine', 'and', 'colestipol', ','] ----> cholestyramine￨Section2￨GENERIC_NAME￨HOME\n",
      "['colestipol', ',', 'medicines', 'for'] ----> colestipol￨Section2￨GENERIC_NAME￨HOME\n",
      "['lowering', 'blood', 'fat', 'levels'] ----> lowering_blood_fat_levels￨Section2￨TEST￨AWAY\n",
      "['noradrenaline', '.', '-', 'muscle'] ----> noradrenaline￨Section2￨GENERIC_NAME￨AWAY\n",
      "['muscle', 'relaxing', 'medicines', ','] ----> muscle_relaxing_medicines￨Section2￨TREATMENT_NAME￨HOME\n",
      "['tubocurarine', '.', '-', 'calcium'] ----> tubocurarine￨Section2￨GENERIC_NAME￨AWAY\n",
      "['calcium', 'supplements', 'and', '/'] ----> calcium_supplements￨Section2￨GENERIC_NAME￨HOME\n",
      "['vitamin', 'd', 'supplements', '.'] ----> vitamin_d_supplements￨Section2￨GENERIC_NAME￨HOME\n",
      "['a', 'variety', 'of', 'disorders'] ----> a_variety_of_disorders￨Section2￨PROBLEM￨HOME\n",
      "['gastrointestinal', 'cramps', ',', 'urinary'] ----> gastrointestinal_cramps￨Section2￨DX_NAME￨AWAY\n",
      "['urinary', 'bladder', 'spasm', ','] ----> urinary_bladder_spasm￨Section2￨DX_NAME￨HOME\n",
      "['asthma', ',', 'motion', 'sickness'] ----> asthma￨Section2￨DX_NAME￨AWAY\n",
      "['motion', 'sickness', ',', 'muscular'] ----> motion_sickness￨Section2￨DX_NAME￨AWAY\n",
      "['muscular', 'spasms', ',', 'parkinson'] ----> muscular_spasms￨Section2￨DX_NAME￨AWAY\n",
      "['anaesthesia', ')', 'such', 'as'] ----> anaesthesia￨Section2￨PROCEDURE_NAME￨AWAY\n",
      "['atropine', 'and', 'biperiden', '.'] ----> atropine￨Section2￨GENERIC_NAME￨HOME\n",
      "['biperiden', '.', '-', 'amantadine'] ----> biperiden￨Section2￨GENERIC_NAME￨HOME\n",
      "['certain', 'illnesses', 'caused', 'by'] ----> certain_illnesses￨Section2￨PROBLEM￨AWAY\n",
      "['other', 'medicines', 'used', 'to'] ----> other_medicines￨Section2￨TREATMENT￨AWAY\n",
      "['high', 'blood', 'pressure', ','] ----> high_blood_pressure￨Section2￨DX_NAME￨HOME\n",
      "['corticosteroids', ',', 'painkillers', '('] ----> corticosteroids￨Section2￨TREATMENT_NAME￨AWAY\n",
      "['painkillers', '(', 'such', 'as'] ----> painkillers￨Section2￨TREATMENT_NAME￨HOME\n",
      "['steroidal', 'anti', '-', 'inflammatory'] ----> steroidal￨Section2￨GENERIC_NAME￨HOME\n",
      "['nsaids', ']),', 'medicines', 'to'] ----> nsaids￨Section2￨TREATMENT_NAME￨HOME\n",
      "['gout', ',', 'or', 'arthritis'] ----> gout￨Section2￨DX_NAME￨HOME\n",
      "['arthritis', '.', '-', 'if'] ----> arthritis￨Section2￨DX_NAME￨HOME\n",
      "['aliskiren', '(', 'see', 'also'] ----> aliskiren￨Section2￨GENERIC_NAME￨AWAY\n",
      "['kinzalkomb', '\"', 'and', '\"'] ----> kinzalkomb￨Section2￨GENERIC_NAME￨AWAY\n",
      "['kinzalkomb', 'may', 'increase', 'the'] ----> kinzalkomb￨Section2￨GENERIC_NAME￨HOME\n",
      "['the', 'blood', 'pressure', 'lowering'] ----> the_blood_pressure￨Section2￨TEST￨AWAY\n",
      "['high', 'blood', 'pressure', 'or'] ----> high_blood_pressure￨Section2￨DX_NAME￨HOME\n",
      "['baclofen', ',', 'amifostine', ').'] ----> baclofen￨Section2￨GENERIC_NAME￨HOME\n",
      "['amifostine', ').', 'furthermore', ','] ----> amifostine￨Section2￨GENERIC_NAME￨AWAY\n",
      "['low', 'blood', 'pressure', 'may'] ----> low_blood_pressure￨Section2￨DX_NAME￨AWAY\n",
      "['barbiturates', ',', 'narcotics', 'or'] ----> barbiturates￨Section2￨TREATMENT￨AWAY\n",
      "['narcotics', 'or', 'antidepressants', '.'] ----> narcotics￨Section2￨GENERIC_NAME￨AWAY\n",
      "['antidepressants', '.', 'you', 'may'] ----> antidepressants￨Section2￨GENERIC_NAME￨HOME\n",
      "['dizziness', 'when', 'standing', 'up'] ----> dizziness￨Section2￨DX_NAME￨HOME\n",
      "['your', 'other', 'medicine', 'while'] ----> your_other_medicine￨Section2￨TREATMENT￨AWAY\n",
      "['kinzalkomb', '.', 'the', 'effect'] ----> kinzalkomb￨Section2￨GENERIC_NAME￨HOME\n",
      "['kinzalkomb', 'may', 'be', 'reduced'] ----> kinzalkomb￨Section2￨GENERIC_NAME￨HOME\n",
      "['nsaids', '(', 'non', 'steroidal'] ----> nsaids￨Section2￨GENERIC_NAME￨HOME\n",
      "['aspirin', 'or', 'ibuprofen', ').'] ----> aspirin￨Section2￨GENERIC_NAME￨AWAY\n",
      "['ibuprofen', ').', 'kinzalkomb', 'with'] ----> ibuprofen￨Section2￨GENERIC_NAME￨HOME\n",
      "['kinzalkomb', 'with', 'food', 'and'] ----> kinzalkomb￨Section2￨GENERIC_NAME￨AWAY\n",
      "['kinzalkomb', 'with', 'or', 'without'] ----> kinzalkomb￨Section2￨GENERIC_NAME￨HOME\n",
      "['your', 'blood', 'pressure', 'fall'] ----> your_blood_pressure_fall￨Section2￨PROBLEM￨AWAY\n",
      "['dizzy', 'or', 'feeling', 'faint'] ----> dizzy￨Section2￨DX_NAME￨AWAY\n",
      "['feeling', 'faint', '.', 'pregnancy'] ----> feeling_faint￨Section2￨DX_NAME￨AWAY\n",
      "['pregnancy', 'and', 'breast', '-'] ----> pregnancy￨Section2￨DX_NAME￨AWAY\n",
      "['pregnancy', 'you', 'must', 'tell'] ----> pregnancy￨Section2￨DX_NAME￨AWAY\n",
      "['pregnant', '.', 'your', 'doctor'] ----> pregnant￨Section2￨DX_NAME￨AWAY\n",
      "['kinzalkomb', 'before', 'you', 'become'] ----> kinzalkomb￨Section2￨GENERIC_NAME￨HOME\n",
      "['pregnant', 'or', 'as', 'soon'] ----> pregnant￨Section2￨DX_NAME￨AWAY\n",
      "['pregnant', 'and', 'will', 'advise'] ----> pregnant￨Section2￨DX_NAME￨AWAY\n",
      "['kinzalkomb', '.', 'kinzalkomb', 'is'] ----> kinzalkomb￨Section2￨GENERIC_NAME￨HOME\n",
      "['kinzalkomb', 'is', 'not', 'recommended'] ----> kinzalkomb￨Section2￨GENERIC_NAME￨AWAY\n",
      "['pregnancy', ',', 'and', 'must'] ----> pregnancy￨Section2￨DX_NAME￨AWAY\n",
      "['3', 'months', 'pregnant', ','] ----> 3_months￨Section2￨TIME_TO_DX_NAME￨AWAY\n",
      "['pregnant', ',', 'as', 'it'] ----> pregnant￨Section2￨DX_NAME￨AWAY\n",
      "['third', 'month', 'of', 'pregnancy'] ----> third_month￨Section2￨TIME_TO_DX_NAME￨HOME\n",
      "['pregnancy', '.', 'breast', '-'] ----> pregnancy￨Section2￨DX_NAME￨AWAY\n",
      "['kinzalkomb', 'is', 'not', 'recommended'] ----> kinzalkomb￨Section2￨GENERIC_NAME￨AWAY\n",
      "['dizzy', 'or', 'tired', 'when'] ----> dizzy￨Section2￨DX_NAME￨AWAY\n",
      "['tired', 'when', 'taking', 'kinzalkomb'] ----> tired￨Section2￨DX_NAME￨HOME\n",
      "['kinzalkomb', '.', 'if', 'you'] ----> kinzalkomb￨Section2￨GENERIC_NAME￨AWAY\n",
      "['dizzy', 'or', 'tired', ','] ----> dizzy￨Section2￨DX_NAME￨AWAY\n",
      "['tired', ',', 'do', 'not'] ----> tired￨Section2￨DX_NAME￨AWAY\n",
      "['kinzalkomb', 'contains', 'milk', 'sugar'] ----> kinzalkomb￨Section2￨GENERIC_NAME￨HOME\n",
      "['sorbitol', '.', 'if', 'you'] ----> sorbitol￨Section2￨GENERIC_NAME￨AWAY\n",
      "['intolerant', 'to', 'some', 'sugars'] ----> intolerant￨Section2￨DX_NAME￨AWAY\n",
      "['kinzalkomb', '.'] ----> kinzalkomb￨Section2￨GENERIC_NAME￨AWAY\n"
     ]
    }
   ],
   "source": [
    "content_plan_indeces = []\n",
    "\n",
    "for pair in roto_pts_content[index].split():\n",
    "    pair = pair.split(\",\")\n",
    "    \n",
    "    a = int(pair[0])\n",
    "    b = int(pair[1])\n",
    "    \n",
    "    content_plan_indeces.append(b)\n",
    "    \n",
    "    print(leaflet_tgt_train[index].split()[a:a+4], end=\" ----> \")\n",
    "    print(leaflets_inter_content_plan[index].split()[b])\n",
    "    "
   ]
  },
  {
   "cell_type": "code",
   "execution_count": 56,
   "metadata": {},
   "outputs": [
    {
     "name": "stdout",
     "output_type": "stream",
     "text": [
      "the_bile_from_the_liver_and_gall_bladder￨Section2￨PROBLEM￨HOME\n",
      "any_other_severe_liver_disease￨Section2￨PROBLEM￨HOME\n",
      "a_blood_pressure_lowering_medicine￨Section2￨TREATMENT￨AWAY\n",
      "excessive_loss_of_body_water￨Section2￨PROBLEM￨AWAY\n",
      "low-salt_diet￨Section2￨TREATMENT￨AWAY\n",
      "narrowing_of_the_blood_vessels￨Section2￨PROBLEM￨HOME\n",
      "salt_retention_in_the_body￨Section2￨TREATMENT￨AWAY\n",
      "imbalance_of_various_blood_minerals￨Section2￨TREATMENT￨HOME\n",
      "lupus\"￨Section2￨PROBLEM￨AWAY\n",
      "an_increase_of_pressure_in_your_eye￨Section2￨PROBLEM￨HOME\n",
      "skin_and_lip_cancer_(non-melanoma_skin_cancer￨Section2￨PROBLEM￨HOME\n",
      "an_ace-inhibitor￨Section2￨TREATMENT￨HOME\n",
      "electrolyte_imbalance_in_your_body￨Section2￨PROBLEM￨AWAY\n",
      "an_abnormally_fast_heart_rate￨Section2￨PROBLEM￨AWAY\n",
      "an_increased_sensitivity_of_the_skin￨Section2￨PROBLEM￨HOME\n",
      "hypokalaemia)￨Section2￨PROBLEM￨HOME\n",
      "('water_tablets'￨Section2￨TREATMENT￨HOME\n",
      "laxatives_(e.g._castor_oil￨Section2￨TREATMENT￨AWAY\n",
      "a_hormone)￨Section2￨TREATMENT￨AWAY\n",
      "an_antibiotic)￨Section2￨TREATMENT￨HOME\n",
      "potassium-sparing_diuretics￨Section2￨TREATMENT_NAME￨HOME\n",
      "an_anticoagulant)￨Section2￨TREATMENT￨HOME\n",
      "digoxin)￨Section2￨TREATMENT￨AWAY\n",
      "anti-cholinergic_medicines￨Section2￨GENERIC_NAME￨HOME\n",
      "parkinson's_disease￨Section2￨DX_NAME￨HOME\n",
      "amantadine_(medicine￨Section2￨TREATMENT￨HOME\n",
      "parkinson's_disease￨Section2￨DX_NAME￨HOME\n",
      "non-_steroidal_anti-inflammatory_drugs￨Section2￨TREATMENT_NAME￨AWAY\n",
      "an_ace-inhibitor￨Section2￨TREATMENT￨AWAY\n",
      "non_steroidal_anti-inflammatory_medicines￨Section2￨TREATMENT_NAME￨AWAY\n",
      "milk_sugar_(lactose)￨Section2￨TREATMENT￨AWAY\n",
      "kinzalkomb￨Section2￨GENERIC_NAME￨AWAY\n"
     ]
    }
   ],
   "source": [
    "# check out pairs missed\n",
    "for i in range(0, len(leaflets_inter_content_plan[index].split()), 1):\n",
    "    if i not in content_plan_indeces:\n",
    "        print(leaflets_inter_content_plan[index].split()[i])\n",
    "        \n",
    "# explanation - 3-word long token\n",
    "# explanation - hiv_infection ---> bc NER outputs - 'hiv', 'hiv_infection' - in content plan I have 2 tokens starting with 'hiv'"
   ]
  },
  {
   "cell_type": "code",
   "execution_count": 57,
   "metadata": {},
   "outputs": [
    {
     "data": {
      "text/plain": [
       "'do not take kinzalkomb if you are allergic to telmisartan or any other ingredients of this medicine ( listed in section 6 ). if you are allergic to hydrochlorothiazide or to any other sulfonamide - derived medicines . if you are more than 3 months pregnant . ( it is also better to avoid kinzalkomb in early pregnancy see pregnancy section .) if you have severe liver problems such as cholestasis or biliary obstruction ( problems with drainage of the bile from the liver and gall bladder ) or any other severe liver disease . if you have severe kidney disease . if your doctor determines that you have low potassium levels or high calcium levels in your blood that do not get better with treatment . if you have diabetes or impaired kidney function and you are treated with a blood pressure lowering medicine containing aliskiren . if any of the above applies to you , tell your doctor or pharmacist before taking kinzalkomb . warnings and precautions talk to your doctor before taking kinzalkomb if you are suffering or have ever suffered from any of the following conditions or illnesses : - low blood pressure ( hypotension ), likely to occur if you are dehydrated ( excessive loss of body water ) or have salt deficiency due to diuretic therapy ( water tablets ), low - salt diet , diarrhoea , vomiting , or haemodialysis . - kidney disease or kidney transplant . - renal artery stenosis ( narrowing of the blood vessels to one or both kidneys ). - liver disease . - heart trouble . - diabetes . - gout . - raised aldosterone levels ( water and salt retention in the body along with imbalance of various blood minerals ). - systemic lupus erythematosus ( also called \" lupus \" or \" sle \") a disease where the body \\' s immune system attacks the body . - the active ingredient hydrochlorothiazide can cause an unusual reaction , resulting in a decrease in vision and eye pain . these could be symptoms of an increase of pressure in your eye and can happen within hours to weeks of taking kinzalkomb . this can lead to permanent vision impairment , if not treated . - if you have had skin cancer or if you develop an unexpected skin lesion during the treatment . treatment with hydrochlorothiazide , particularly long term use with high doses , may increase the risk of some types of skin and lip cancer ( non - melanoma skin cancer ). protect your skin from sun exposure and uv rays while taking kinzalkomb . talk to your doctor before taking kinzalkomb : if you are taking any of the following medicines used to treat high blood pressure : - an ace - inhibitor ( for example enalapril , lisinopril , ramipril ), in particular if you have diabetes - related kidney problems . - aliskiren . your doctor may check your kidney function , blood pressure , and the amount of electrolytes ( e . g . potassium ) in your blood at regular intervals . see also information under the heading \" do not take kinzalkomb \". if you are taking digoxin . you must tell your doctor if you think you are ( or might become ) pregnant . kinzalkomb is not recommended in early pregnancy , and must not be taken if you are more than 3 months pregnant , as it may cause serious harm to your baby if used at that stage ( see pregnancy section ). treatment with hydrochlorothiazide may cause electrolyte imbalance in your body . typical symptoms of fluid or electrolyte imbalance include dry mouth , weakness , lethargy , drowsiness , restlessness , muscle pain or cramps , nausea ( feeling sick ), vomiting , tired muscles , and an abnormally fast heart rate ( faster than 100 beats per minute ). if you experience any of these you should tell your doctor . you should also tell your doctor , if you experience an increased sensitivity of the skin to the sun with symptoms of sunburn ( such as redness , itching , swelling , blistering ) occurring more quickly than normal . in case of surgery or anaesthetics , you should tell your doctor that you are taking kinzalkomb . kinzalkomb may be less effective in lowering the blood pressure in black patients . children and adolescents the use of kinzalkomb in children and adolescents up to the age of 18 years is not recommended . other medicines and kinzalkomb : tell your doctor or pharmacist if you are taking , have recently taken or might take any other medicines . your doctor may need to change the dose of these other medications or take other precautions . in some cases you may have to stop taking one of the medicines . this applies especially to the medicines listed below taken at the same time with kinzalkomb : - lithium containing medicines to treat some types of depression . - medicines associated with low blood potassium ( hypokalaemia ) such as other diuretics , (\\' water tablets \\'), laxatives ( e . g . castor oil ), corticosteroids ( e . g . prednisone ), acth ( a hormone ), amphotericin ( an antifungal medicine ), carbenoxolone ( used to treat mouth ulcers ), penicillin g sodium ( an antibiotic ), and salicylic acid and derivatives . - medicines that may increase blood potassium levels such as potassium - sparing diuretics , potassium supplements , salt substitutes containing potassium , ace inhibitors cyclosporin ( an immunosuppressant drug ) and other medicinal products such as heparin sodium ( an anticoagulant ).. - medicines that are affected by changes of the blood potassium level such as heart medicines ( e . g . digoxin ) or medicines to control the rhythm of your heart ( e . g . quinidine , disopyramide , amiodarone , sotalol ), medicines used for mental disorders ( e . g . thioridazine , chlorpromazine , levomepromazine ) and other medicines such as certain antibiotics ( e . g . sparfloxacine , pentamidine ) or certain medicines to treat allergic reactions ( e . g . terfenadine ). - medicines for the treatment of diabetes ( insulins or oral agents such as metformin ). - cholestyramine and colestipol , medicines for lowering blood fat levels . - medicines to increase blood pressure , such as noradrenaline . - muscle relaxing medicines , such as tubocurarine . - calcium supplements and / or vitamin d supplements . - anti - cholinergic medicines ( medicines used to treat a variety of disorders such as gastrointestinal cramps , urinary bladder spasm , asthma , motion sickness , muscular spasms , parkinson \\' s disease and as an aid to anaesthesia ) such as atropine and biperiden . - amantadine ( medicine used to treat parkinson \\' s disease and also used to treat or prevent certain illnesses caused by viruses ). - other medicines used to treat high blood pressure , corticosteroids , painkillers ( such as non - steroidal anti - inflammatory drugs [ nsaids ]), medicines to treat cancer , gout , or arthritis . - if you are taking an ace - inhibitor or aliskiren ( see also information under the headings \" do not take kinzalkomb \" and \" warnings and precautions \"). - digoxin . kinzalkomb may increase the blood pressure lowering effect of other medicines used to treat high blood pressure or of medicines with blood pressure lowering potential ( e . g . baclofen , amifostine ). furthermore , low blood pressure may be aggravated by alcohol , barbiturates , narcotics or antidepressants . you may notice this as dizziness when standing up . you should consult with your doctor if you need to adjust the dose of your other medicine while taking kinzalkomb . the effect of kinzalkomb may be reduced when you take nsaids ( non steroidal anti - inflammatory medicines , e . g . aspirin or ibuprofen ). kinzalkomb with food and alcohol you can take kinzalkomb with or without food . avoid taking alcohol until you have talked to your doctor . alcohol may make your blood pressure fall more and / or increase the risk of you becoming dizzy or feeling faint . pregnancy and breast - feeding pregnancy you must tell your doctor if you think you are ( or might become ) pregnant . your doctor will normally advise you to stop taking kinzalkomb before you become pregnant or as soon as you know you are pregnant and will advise you to take another medicine instead of kinzalkomb . kinzalkomb is not recommended during pregnancy , and must not be taken when more than 3 months pregnant , as it may cause serious harm to your baby if used after the third month of pregnancy . breast - feeding tell your doctor if you are breast - feeding or about to start breast - feeding . kinzalkomb is not recommended for mothers who are breast - feeding , and your doctor may choose another treatment for you if you wish to breast - feed . driving and using machines some people feel dizzy or tired when taking kinzalkomb . if you feel dizzy or tired , do not drive or operate machinery . kinzalkomb contains milk sugar ( lactose ) and sorbitol . if you are intolerant to some sugars , consult your doctor before taking kinzalkomb .\\n'"
      ]
     },
     "execution_count": 57,
     "metadata": {},
     "output_type": "execute_result"
    }
   ],
   "source": [
    "leaflet_tgt_train[500]"
   ]
  },
  {
   "cell_type": "code",
   "execution_count": 58,
   "metadata": {},
   "outputs": [
    {
     "data": {
      "text/plain": [
       "'kinzalkomb￨Section2￨PRODUCT_NAME￨AWAY kinzalkomb￨Section2￨GENERIC_NAME￨AWAY allergic￨Section2￨PROBLEM￨HOME telmisartan￨Section2￨GENERIC_NAME￨HOME this_medicine￨Section2￨TREATMENT￨HOME allergic￨Section2￨PROBLEM￨HOME hydrochlorothiazide￨Section2￨GENERIC_NAME￨AWAY any_other_sulfonamide￨Section2￨TREATMENT￨HOME derived_medicines￨Section2￨TREATMENT￨HOME 3￨Section2￨NUMBER￨AWAY pregnant￨Section2￨DX_NAME￨HOME kinzalkomb￨Section2￨GENERIC_NAME￨AWAY pregnancy￨Section2￨DX_NAME￨HOME pregnancy_section￨Section2￨PROCEDURE_NAME￨AWAY severe_liver_problems￨Section2￨PROBLEM￨HOME cholestasis￨Section2￨DX_NAME￨HOME biliary_obstruction￨Section2￨DX_NAME￨HOME drainage￨Section2￨DX_NAME￨AWAY the_bile_from_the_liver_and_gall_bladder￨Section2￨PROBLEM￨HOME any_other_severe_liver_disease￨Section2￨PROBLEM￨HOME severe_kidney_disease￨Section2￨PROBLEM￨HOME low_potassium_levels￨Section2￨DX_NAME￨HOME high_calcium_levels￨Section2￨PROBLEM￨HOME your_blood￨Section2￨TEST￨AWAY treatment￨Section2￨TREATMENT￨AWAY diabetes￨Section2￨DX_NAME￨HOME impaired_kidney_function￨Section2￨DX_NAME￨AWAY kidney￨Section2￨SYSTEM_ORGAN_SITE￨HOME a_blood_pressure_lowering_medicine￨Section2￨TREATMENT￨AWAY aliskiren￨Section2￨GENERIC_NAME￨AWAY kinzalkomb￨Section2￨GENERIC_NAME￨HOME kinzalkomb￨Section2￨GENERIC_NAME￨HOME illnesses￨Section2￨DX_NAME￨AWAY low_blood_pressure￨Section2￨DX_NAME￨HOME hypotension￨Section2￨DX_NAME￨HOME dehydrated￨Section2￨DX_NAME￨AWAY excessive_loss_of_body_water￨Section2￨PROBLEM￨AWAY salt_deficiency￨Section2￨PROBLEM￨AWAY diuretic_therapy￨Section2￨TREATMENT_NAME￨HOME water_tablets￨Section2￨TREATMENT￨AWAY low-salt_diet￨Section2￨TREATMENT￨AWAY diarrhoea￨Section2￨DX_NAME￨HOME vomiting￨Section2￨DX_NAME￨HOME haemodialysis￨Section2￨DX_NAME￨AWAY kidney_disease￨Section2￨DX_NAME￨HOME kidney_transplant￨Section2￨PROCEDURE_NAME￨HOME renal_artery_stenosis￨Section2￨DX_NAME￨AWAY narrowing_of_the_blood_vessels￨Section2￨PROBLEM￨HOME kidneys￨Section2￨SYSTEM_ORGAN_SITE￨AWAY liver_disease￨Section2￨DX_NAME￨AWAY heart_trouble￨Section2￨DX_NAME￨AWAY diabetes￨Section2￨DX_NAME￨AWAY gout￨Section2￨DX_NAME￨HOME aldosterone_levels￨Section2￨PROBLEM￨AWAY salt_retention_in_the_body￨Section2￨TREATMENT￨AWAY imbalance_of_various_blood_minerals￨Section2￨TREATMENT￨HOME systemic_lupus_erythematosus￨Section2￨DX_NAME￨AWAY lupus\"￨Section2￨PROBLEM￨AWAY sle￨Section2￨DX_NAME￨AWAY a_disease￨Section2￨PROBLEM￨HOME immune_system_attacks￨Section2￨DX_NAME￨AWAY body￨Section2￨SYSTEM_ORGAN_SITE￨AWAY the_active_ingredient_hydrochlorothiazide￨Section2￨TREATMENT￨AWAY an_unusual_reaction￨Section2￨PROBLEM￨AWAY a_decrease_in_vision￨Section2￨PROBLEM￨AWAY eye_pain￨Section2￨DX_NAME￨AWAY symptoms￨Section2￨PROBLEM￨AWAY an_increase_of_pressure_in_your_eye￨Section2￨PROBLEM￨HOME kinzalkomb￨Section2￨GENERIC_NAME￨AWAY permanent_vision_impairment￨Section2￨PROBLEM￨AWAY skin_cancer￨Section2￨DX_NAME￨AWAY an_unexpected_skin_lesion￨Section2￨PROBLEM￨HOME the_treatment￨Section2￨TREATMENT￨HOME hydrochlorothiazide￨Section2￨GENERIC_NAME￨HOME high_doses￨Section2￨TREATMENT￨AWAY skin_and_lip_cancer_(non-melanoma_skin_cancer￨Section2￨PROBLEM￨HOME your_skin￨Section2￨PROBLEM￨HOME uv_rays￨Section2￨TREATMENT￨AWAY kinzalkomb￨Section2￨GENERIC_NAME￨AWAY kinzalkomb￨Section2￨GENERIC_NAME￨HOME the_following_medicines￨Section2￨TREATMENT￨HOME high_blood_pressure￨Section2￨DX_NAME￨AWAY an_ace-inhibitor￨Section2￨TREATMENT￨HOME enalapril￨Section2￨GENERIC_NAME￨AWAY lisinopril￨Section2￨GENERIC_NAME￨AWAY ramipril￨Section2￨GENERIC_NAME￨HOME diabetes￨Section2￨PROBLEM￨AWAY kidney_problems￨Section2￨DX_NAME￨AWAY aliskiren￨Section2￨GENERIC_NAME￨AWAY your_kidney_function￨Section2￨TEST￨HOME blood_pressure￨Section2￨TEST_NAME￨AWAY electrolytes￨Section2￨TEST￨AWAY potassium￨Section2￨TEST￨HOME your_blood￨Section2￨TEST￨AWAY kinzalkomb￨Section2￨GENERIC_NAME￨AWAY digoxin￨Section2￨GENERIC_NAME￨HOME pregnant￨Section2￨DX_NAME￨AWAY kinzalkomb￨Section2￨GENERIC_NAME￨AWAY pregnancy￨Section2￨DX_NAME￨AWAY 3￨Section2￨NUMBER￨AWAY pregnant￨Section2￨DX_NAME￨AWAY pregnancy￨Section2￨DX_NAME￨AWAY treatment￨Section2￨TREATMENT￨HOME hydrochlorothiazide￨Section2￨GENERIC_NAME￨AWAY electrolyte_imbalance_in_your_body￨Section2￨PROBLEM￨AWAY typical_symptoms￨Section2￨PROBLEM￨AWAY fluid_or_electrolyte_imbalance￨Section2￨DX_NAME￨HOME dry_mouth￨Section2￨DX_NAME￨AWAY weakness￨Section2￨DX_NAME￨AWAY lethargy￨Section2￨DX_NAME￨AWAY drowsiness￨Section2￨DX_NAME￨HOME restlessness￨Section2￨DX_NAME￨HOME muscle_pain￨Section2￨DX_NAME￨AWAY cramps￨Section2￨DX_NAME￨HOME nausea￨Section2￨DX_NAME￨HOME feeling_sick￨Section2￨DX_NAME￨HOME vomiting￨Section2￨DX_NAME￨HOME tired_muscles￨Section2￨PROBLEM￨HOME an_abnormally_fast_heart_rate￨Section2￨PROBLEM￨AWAY 100￨Section2￨NUMBER￨HOME an_increased_sensitivity_of_the_skin￨Section2￨PROBLEM￨HOME symptoms￨Section2￨PROBLEM￨HOME sunburn￨Section2￨DX_NAME￨AWAY redness￨Section2￨DX_NAME￨HOME itching￨Section2￨DX_NAME￨AWAY swelling￨Section2￨DX_NAME￨HOME blistering￨Section2￨DX_NAME￨HOME surgery￨Section2￨PROCEDURE_NAME￨HOME anaesthetics￨Section2￨TREATMENT￨AWAY kinzalkomb￨Section2￨GENERIC_NAME￨AWAY kinzalkomb￨Section2￨GENERIC_NAME￨AWAY the_blood_pressure￨Section2￨TEST￨AWAY kinzalkomb￨Section2￨GENERIC_NAME￨AWAY 18￨Section2￨AGE￨HOME other_medicines￨Section2￨TREATMENT￨AWAY kinzalkomb￨Section2￨GENERIC_NAME￨AWAY any_other_medicines￨Section2￨TREATMENT￨HOME these_other_medications￨Section2￨TREATMENT￨HOME other_precautions￨Section2￨TREATMENT￨HOME the_medicines￨Section2￨TREATMENT￨HOME the_medicines￨Section2￨TREATMENT￨HOME kinzalkomb￨Section2￨GENERIC_NAME￨AWAY lithium_containing_medicines￨Section2￨TREATMENT￨HOME depression￨Section2￨DX_NAME￨AWAY medicines￨Section2￨TREATMENT￨HOME low_blood_potassium￨Section2￨PROBLEM￨HOME hypokalaemia)￨Section2￨PROBLEM￨HOME other_diuretics￨Section2￨TREATMENT￨AWAY (\\'water_tablets\\'￨Section2￨TREATMENT￨HOME laxatives_(e.g._castor_oil￨Section2￨TREATMENT￨AWAY corticosteroids￨Section2￨GENERIC_NAME￨HOME prednisone￨Section2￨GENERIC_NAME￨HOME acth￨Section2￨TREATMENT￨HOME a_hormone)￨Section2￨TREATMENT￨AWAY amphotericin￨Section2￨GENERIC_NAME￨HOME an_antifungal_medicine￨Section2￨TREATMENT￨HOME carbenoxolone￨Section2￨GENERIC_NAME￨HOME mouth_ulcers￨Section2￨DX_NAME￨HOME penicillin_g_sodium￨Section2￨GENERIC_NAME￨HOME an_antibiotic)￨Section2￨TREATMENT￨HOME salicylic_acid_and_derivatives￨Section2￨TREATMENT￨AWAY medicines￨Section2￨TREATMENT￨HOME blood_potassium_levels￨Section2￨TEST￨HOME potassium-sparing_diuretics￨Section2￨TREATMENT_NAME￨HOME potassium_supplements￨Section2￨GENERIC_NAME￨HOME salt_substitutes￨Section2￨GENERIC_NAME￨HOME potassium￨Section2￨GENERIC_NAME￨HOME ace_inhibitors_cyclosporin￨Section2￨GENERIC_NAME￨HOME an_immunosuppressant_drug￨Section2￨TREATMENT￨HOME other_medicinal_products￨Section2￨TREATMENT￨AWAY heparin_sodium￨Section2￨GENERIC_NAME￨HOME an_anticoagulant)￨Section2￨TREATMENT￨HOME medicines￨Section2￨TREATMENT￨HOME the_blood_potassium_level￨Section2￨TEST￨AWAY heart_medicines￨Section2￨TREATMENT_NAME￨AWAY digoxin)￨Section2￨TREATMENT￨AWAY medicines￨Section2￨TREATMENT￨HOME heart￨Section2￨SYSTEM_ORGAN_SITE￨AWAY quinidine￨Section2￨GENERIC_NAME￨AWAY disopyramide￨Section2￨GENERIC_NAME￨AWAY amiodarone￨Section2￨GENERIC_NAME￨AWAY sotalol￨Section2￨GENERIC_NAME￨AWAY medicines￨Section2￨TREATMENT￨HOME mental_disorders￨Section2￨DX_NAME￨AWAY thioridazine￨Section2￨GENERIC_NAME￨HOME chlorpromazine￨Section2￨GENERIC_NAME￨HOME levomepromazine￨Section2￨GENERIC_NAME￨AWAY other_medicines￨Section2￨TREATMENT￨HOME certain_antibiotics￨Section2￨TREATMENT￨AWAY sparfloxacine￨Section2￨GENERIC_NAME￨HOME pentamidine￨Section2￨GENERIC_NAME￨AWAY certain_medicines￨Section2￨TREATMENT￨AWAY allergic_reactions￨Section2￨DX_NAME￨HOME terfenadine￨Section2￨GENERIC_NAME￨AWAY medicines￨Section2￨TREATMENT￨HOME diabetes￨Section2￨DX_NAME￨AWAY insulins￨Section2￨GENERIC_NAME￨HOME oral_agents￨Section2￨TREATMENT￨HOME metformin￨Section2￨GENERIC_NAME￨HOME cholestyramine￨Section2￨GENERIC_NAME￨HOME colestipol￨Section2￨GENERIC_NAME￨HOME medicines￨Section2￨TREATMENT￨AWAY lowering_blood_fat_levels￨Section2￨TEST￨AWAY medicines￨Section2￨TREATMENT￨HOME blood_pressure￨Section2￨TEST￨AWAY noradrenaline￨Section2￨GENERIC_NAME￨AWAY muscle_relaxing_medicines￨Section2￨TREATMENT_NAME￨HOME tubocurarine￨Section2￨GENERIC_NAME￨AWAY calcium_supplements￨Section2￨GENERIC_NAME￨HOME vitamin_d_supplements￨Section2￨GENERIC_NAME￨HOME anti-cholinergic_medicines￨Section2￨GENERIC_NAME￨HOME medicines￨Section2￨TREATMENT￨HOME a_variety_of_disorders￨Section2￨PROBLEM￨HOME gastrointestinal_cramps￨Section2￨DX_NAME￨AWAY urinary_bladder_spasm￨Section2￨DX_NAME￨HOME bladder￨Section2￨SYSTEM_ORGAN_SITE￨AWAY asthma￨Section2￨DX_NAME￨AWAY motion_sickness￨Section2￨DX_NAME￨AWAY muscular_spasms￨Section2￨DX_NAME￨AWAY parkinson\\'s_disease￨Section2￨DX_NAME￨HOME anaesthesia￨Section2￨PROCEDURE_NAME￨AWAY atropine￨Section2￨GENERIC_NAME￨HOME biperiden￨Section2￨GENERIC_NAME￨HOME amantadine_(medicine￨Section2￨TREATMENT￨HOME parkinson\\'s_disease￨Section2￨DX_NAME￨HOME certain_illnesses￨Section2￨PROBLEM￨AWAY other_medicines￨Section2￨TREATMENT￨AWAY high_blood_pressure￨Section2￨DX_NAME￨HOME corticosteroids￨Section2￨TREATMENT_NAME￨AWAY painkillers￨Section2￨TREATMENT_NAME￨HOME non-_steroidal_anti-inflammatory_drugs￨Section2￨TREATMENT_NAME￨AWAY steroidal￨Section2￨GENERIC_NAME￨HOME nsaids￨Section2￨TREATMENT_NAME￨HOME medicines￨Section2￨TREATMENT￨HOME cancer￨Section2￨DX_NAME￨AWAY gout￨Section2￨DX_NAME￨HOME arthritis￨Section2￨DX_NAME￨HOME an_ace-inhibitor￨Section2￨TREATMENT￨AWAY aliskiren￨Section2￨GENERIC_NAME￨AWAY kinzalkomb￨Section2￨GENERIC_NAME￨HOME digoxin￨Section2￨GENERIC_NAME￨HOME kinzalkomb￨Section2￨GENERIC_NAME￨HOME the_blood_pressure￨Section2￨TEST￨AWAY other_medicines￨Section2￨TREATMENT￨AWAY high_blood_pressure￨Section2￨DX_NAME￨HOME medicines￨Section2￨TREATMENT￨AWAY blood_pressure￨Section2￨TEST￨HOME baclofen￨Section2￨GENERIC_NAME￨HOME amifostine￨Section2￨GENERIC_NAME￨AWAY low_blood_pressure￨Section2￨DX_NAME￨AWAY barbiturates￨Section2￨TREATMENT￨AWAY narcotics￨Section2￨GENERIC_NAME￨AWAY antidepressants￨Section2￨GENERIC_NAME￨HOME dizziness￨Section2￨DX_NAME￨HOME your_other_medicine￨Section2￨TREATMENT￨AWAY kinzalkomb￨Section2￨GENERIC_NAME￨HOME kinzalkomb￨Section2￨GENERIC_NAME￨AWAY nsaids￨Section2￨GENERIC_NAME￨HOME non_steroidal_anti-inflammatory_medicines￨Section2￨TREATMENT_NAME￨AWAY aspirin￨Section2￨GENERIC_NAME￨AWAY ibuprofen￨Section2￨GENERIC_NAME￨HOME kinzalkomb￨Section2￨GENERIC_NAME￨HOME kinzalkomb￨Section2￨GENERIC_NAME￨HOME your_blood_pressure_fall￨Section2￨PROBLEM￨AWAY dizzy￨Section2￨DX_NAME￨AWAY feeling_faint￨Section2￨DX_NAME￨AWAY pregnancy￨Section2￨DX_NAME￨AWAY pregnancy￨Section2￨DX_NAME￨AWAY pregnant￨Section2￨DX_NAME￨AWAY kinzalkomb￨Section2￨GENERIC_NAME￨HOME pregnant￨Section2￨DX_NAME￨AWAY pregnant￨Section2￨DX_NAME￨AWAY kinzalkomb￨Section2￨GENERIC_NAME￨AWAY kinzalkomb￨Section2￨GENERIC_NAME￨AWAY pregnancy￨Section2￨DX_NAME￨AWAY 3_months￨Section2￨TIME_TO_DX_NAME￨AWAY pregnant￨Section2￨DX_NAME￨AWAY third_month￨Section2￨TIME_TO_DX_NAME￨HOME pregnancy￨Section2￨DX_NAME￨AWAY kinzalkomb￨Section2￨GENERIC_NAME￨AWAY dizzy￨Section2￨DX_NAME￨AWAY tired￨Section2￨DX_NAME￨HOME kinzalkomb￨Section2￨GENERIC_NAME￨HOME dizzy￨Section2￨DX_NAME￨AWAY tired￨Section2￨DX_NAME￨AWAY kinzalkomb￨Section2￨GENERIC_NAME￨AWAY milk_sugar_(lactose)￨Section2￨TREATMENT￨AWAY sorbitol￨Section2￨GENERIC_NAME￨AWAY intolerant￨Section2￨DX_NAME￨AWAY kinzalkomb￨Section2￨GENERIC_NAME￨AWAY \\n'"
      ]
     },
     "execution_count": 58,
     "metadata": {},
     "output_type": "execute_result"
    }
   ],
   "source": [
    "leaflets_inter_content_plan[500]"
   ]
  },
  {
   "cell_type": "code",
   "execution_count": null,
   "metadata": {},
   "outputs": [],
   "source": []
  }
 ],
 "metadata": {
  "kernelspec": {
   "display_name": "Python 3",
   "language": "python",
   "name": "python3"
  },
  "language_info": {
   "codemirror_mode": {
    "name": "ipython",
    "version": 3
   },
   "file_extension": ".py",
   "mimetype": "text/x-python",
   "name": "python",
   "nbconvert_exporter": "python",
   "pygments_lexer": "ipython3",
   "version": "3.6.10"
  }
 },
 "nbformat": 4,
 "nbformat_minor": 2
}
