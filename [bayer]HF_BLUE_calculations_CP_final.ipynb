{
 "cells": [
  {
   "cell_type": "code",
   "execution_count": 1,
   "metadata": {
    "colab": {
     "base_uri": "https://localhost:8080/"
    },
    "id": "beWftTaF3B1q",
    "outputId": "3d748ddd-e4b3-49c0-9391-8d2434ff97f0"
   },
   "outputs": [
    {
     "name": "stdout",
     "output_type": "stream",
     "text": [
      "Mounted at /content/drive\n"
     ]
    }
   ],
   "source": [
    "# load the dataset from drive\n",
    "from google.colab import drive\n",
    "drive.mount('/content/drive')"
   ]
  },
  {
   "cell_type": "code",
   "execution_count": 2,
   "metadata": {
    "colab": {
     "base_uri": "https://localhost:8080/"
    },
    "id": "7NJb0qHjJcz2",
    "outputId": "ee36f76b-6374-471a-f93c-c7d21fdb4065"
   },
   "outputs": [
    {
     "name": "stdout",
     "output_type": "stream",
     "text": [
      "Collecting datasets==1.6.0\n",
      "\u001b[?25l  Downloading https://files.pythonhosted.org/packages/da/d6/a3d2c55b940a7c556e88f5598b401990805fc0f0a28b2fc9870cf0b8c761/datasets-1.6.0-py3-none-any.whl (202kB)\n",
      "\u001b[K     |████████████████████████████████| 204kB 6.5MB/s \n",
      "\u001b[?25hCollecting fsspec\n",
      "\u001b[?25l  Downloading https://files.pythonhosted.org/packages/e9/91/2ef649137816850fa4f4c97c6f2eabb1a79bf0aa2c8ed198e387e373455e/fsspec-2021.4.0-py3-none-any.whl (108kB)\n",
      "\u001b[K     |████████████████████████████████| 112kB 9.3MB/s \n",
      "\u001b[?25hCollecting xxhash\n",
      "\u001b[?25l  Downloading https://files.pythonhosted.org/packages/7d/4f/0a862cad26aa2ed7a7cd87178cbbfa824fc1383e472d63596a0d018374e7/xxhash-2.0.2-cp37-cp37m-manylinux2010_x86_64.whl (243kB)\n",
      "\u001b[K     |████████████████████████████████| 245kB 9.4MB/s \n",
      "\u001b[?25hRequirement already satisfied: pyarrow>=1.0.0 in /usr/local/lib/python3.7/dist-packages (from datasets==1.6.0) (3.0.0)\n",
      "Requirement already satisfied: importlib-metadata; python_version < \"3.8\" in /usr/local/lib/python3.7/dist-packages (from datasets==1.6.0) (3.10.1)\n",
      "Requirement already satisfied: packaging in /usr/local/lib/python3.7/dist-packages (from datasets==1.6.0) (20.9)\n",
      "Requirement already satisfied: tqdm<4.50.0,>=4.27 in /usr/local/lib/python3.7/dist-packages (from datasets==1.6.0) (4.41.1)\n",
      "Requirement already satisfied: numpy>=1.17 in /usr/local/lib/python3.7/dist-packages (from datasets==1.6.0) (1.19.5)\n",
      "Requirement already satisfied: pandas in /usr/local/lib/python3.7/dist-packages (from datasets==1.6.0) (1.1.5)\n",
      "Requirement already satisfied: dill in /usr/local/lib/python3.7/dist-packages (from datasets==1.6.0) (0.3.3)\n",
      "Requirement already satisfied: multiprocess in /usr/local/lib/python3.7/dist-packages (from datasets==1.6.0) (0.70.11.1)\n",
      "Collecting huggingface-hub<0.1.0\n",
      "  Downloading https://files.pythonhosted.org/packages/a1/88/7b1e45720ecf59c6c6737ff332f41c955963090a18e72acbcbeac6b25e86/huggingface_hub-0.0.8-py3-none-any.whl\n",
      "Requirement already satisfied: requests>=2.19.0 in /usr/local/lib/python3.7/dist-packages (from datasets==1.6.0) (2.23.0)\n",
      "Requirement already satisfied: zipp>=0.5 in /usr/local/lib/python3.7/dist-packages (from importlib-metadata; python_version < \"3.8\"->datasets==1.6.0) (3.4.1)\n",
      "Requirement already satisfied: typing-extensions>=3.6.4; python_version < \"3.8\" in /usr/local/lib/python3.7/dist-packages (from importlib-metadata; python_version < \"3.8\"->datasets==1.6.0) (3.7.4.3)\n",
      "Requirement already satisfied: pyparsing>=2.0.2 in /usr/local/lib/python3.7/dist-packages (from packaging->datasets==1.6.0) (2.4.7)\n",
      "Requirement already satisfied: python-dateutil>=2.7.3 in /usr/local/lib/python3.7/dist-packages (from pandas->datasets==1.6.0) (2.8.1)\n",
      "Requirement already satisfied: pytz>=2017.2 in /usr/local/lib/python3.7/dist-packages (from pandas->datasets==1.6.0) (2018.9)\n",
      "Requirement already satisfied: filelock in /usr/local/lib/python3.7/dist-packages (from huggingface-hub<0.1.0->datasets==1.6.0) (3.0.12)\n",
      "Requirement already satisfied: certifi>=2017.4.17 in /usr/local/lib/python3.7/dist-packages (from requests>=2.19.0->datasets==1.6.0) (2020.12.5)\n",
      "Requirement already satisfied: urllib3!=1.25.0,!=1.25.1,<1.26,>=1.21.1 in /usr/local/lib/python3.7/dist-packages (from requests>=2.19.0->datasets==1.6.0) (1.24.3)\n",
      "Requirement already satisfied: chardet<4,>=3.0.2 in /usr/local/lib/python3.7/dist-packages (from requests>=2.19.0->datasets==1.6.0) (3.0.4)\n",
      "Requirement already satisfied: idna<3,>=2.5 in /usr/local/lib/python3.7/dist-packages (from requests>=2.19.0->datasets==1.6.0) (2.10)\n",
      "Requirement already satisfied: six>=1.5 in /usr/local/lib/python3.7/dist-packages (from python-dateutil>=2.7.3->pandas->datasets==1.6.0) (1.15.0)\n",
      "Installing collected packages: fsspec, xxhash, huggingface-hub, datasets\n",
      "Successfully installed datasets-1.6.0 fsspec-2021.4.0 huggingface-hub-0.0.8 xxhash-2.0.2\n",
      "Collecting transformers\n",
      "\u001b[?25l  Downloading https://files.pythonhosted.org/packages/d8/b2/57495b5309f09fa501866e225c84532d1fd89536ea62406b2181933fb418/transformers-4.5.1-py3-none-any.whl (2.1MB)\n",
      "\u001b[K     |████████████████████████████████| 2.1MB 5.1MB/s \n",
      "\u001b[?25hCollecting sacremoses\n",
      "\u001b[?25l  Downloading https://files.pythonhosted.org/packages/75/ee/67241dc87f266093c533a2d4d3d69438e57d7a90abb216fa076e7d475d4a/sacremoses-0.0.45-py3-none-any.whl (895kB)\n",
      "\u001b[K     |████████████████████████████████| 901kB 22.8MB/s \n",
      "\u001b[?25hCollecting tokenizers<0.11,>=0.10.1\n",
      "\u001b[?25l  Downloading https://files.pythonhosted.org/packages/ae/04/5b870f26a858552025a62f1649c20d29d2672c02ff3c3fb4c688ca46467a/tokenizers-0.10.2-cp37-cp37m-manylinux2010_x86_64.whl (3.3MB)\n",
      "\u001b[K     |████████████████████████████████| 3.3MB 36.8MB/s \n",
      "\u001b[?25hRequirement already satisfied: tqdm>=4.27 in /usr/local/lib/python3.7/dist-packages (from transformers) (4.41.1)\n",
      "Requirement already satisfied: importlib-metadata; python_version < \"3.8\" in /usr/local/lib/python3.7/dist-packages (from transformers) (3.10.1)\n",
      "Requirement already satisfied: requests in /usr/local/lib/python3.7/dist-packages (from transformers) (2.23.0)\n",
      "Requirement already satisfied: regex!=2019.12.17 in /usr/local/lib/python3.7/dist-packages (from transformers) (2019.12.20)\n",
      "Requirement already satisfied: numpy>=1.17 in /usr/local/lib/python3.7/dist-packages (from transformers) (1.19.5)\n",
      "Requirement already satisfied: packaging in /usr/local/lib/python3.7/dist-packages (from transformers) (20.9)\n",
      "Requirement already satisfied: filelock in /usr/local/lib/python3.7/dist-packages (from transformers) (3.0.12)\n",
      "Requirement already satisfied: joblib in /usr/local/lib/python3.7/dist-packages (from sacremoses->transformers) (1.0.1)\n",
      "Requirement already satisfied: click in /usr/local/lib/python3.7/dist-packages (from sacremoses->transformers) (7.1.2)\n",
      "Requirement already satisfied: six in /usr/local/lib/python3.7/dist-packages (from sacremoses->transformers) (1.15.0)\n",
      "Requirement already satisfied: typing-extensions>=3.6.4; python_version < \"3.8\" in /usr/local/lib/python3.7/dist-packages (from importlib-metadata; python_version < \"3.8\"->transformers) (3.7.4.3)\n",
      "Requirement already satisfied: zipp>=0.5 in /usr/local/lib/python3.7/dist-packages (from importlib-metadata; python_version < \"3.8\"->transformers) (3.4.1)\n",
      "Requirement already satisfied: urllib3!=1.25.0,!=1.25.1,<1.26,>=1.21.1 in /usr/local/lib/python3.7/dist-packages (from requests->transformers) (1.24.3)\n",
      "Requirement already satisfied: chardet<4,>=3.0.2 in /usr/local/lib/python3.7/dist-packages (from requests->transformers) (3.0.4)\n",
      "Requirement already satisfied: certifi>=2017.4.17 in /usr/local/lib/python3.7/dist-packages (from requests->transformers) (2020.12.5)\n",
      "Requirement already satisfied: idna<3,>=2.5 in /usr/local/lib/python3.7/dist-packages (from requests->transformers) (2.10)\n",
      "Requirement already satisfied: pyparsing>=2.0.2 in /usr/local/lib/python3.7/dist-packages (from packaging->transformers) (2.4.7)\n",
      "Installing collected packages: sacremoses, tokenizers, transformers\n",
      "Successfully installed sacremoses-0.0.45 tokenizers-0.10.2 transformers-4.5.1\n",
      "Collecting rouge_score\n",
      "  Downloading https://files.pythonhosted.org/packages/1f/56/a81022436c08b9405a5247b71635394d44fe7e1dbedc4b28c740e09c2840/rouge_score-0.0.4-py2.py3-none-any.whl\n",
      "Requirement already satisfied: six>=1.14.0 in /usr/local/lib/python3.7/dist-packages (from rouge_score) (1.15.0)\n",
      "Requirement already satisfied: absl-py in /usr/local/lib/python3.7/dist-packages (from rouge_score) (0.12.0)\n",
      "Requirement already satisfied: numpy in /usr/local/lib/python3.7/dist-packages (from rouge_score) (1.19.5)\n",
      "Requirement already satisfied: nltk in /usr/local/lib/python3.7/dist-packages (from rouge_score) (3.2.5)\n",
      "Installing collected packages: rouge-score\n",
      "Successfully installed rouge-score-0.0.4\n",
      "Collecting sacrebleu\n",
      "\u001b[?25l  Downloading https://files.pythonhosted.org/packages/7e/57/0c7ca4e31a126189dab99c19951910bd081dea5bbd25f24b77107750eae7/sacrebleu-1.5.1-py3-none-any.whl (54kB)\n",
      "\u001b[K     |████████████████████████████████| 61kB 3.7MB/s \n",
      "\u001b[?25hCollecting portalocker==2.0.0\n",
      "  Downloading https://files.pythonhosted.org/packages/89/a6/3814b7107e0788040870e8825eebf214d72166adf656ba7d4bf14759a06a/portalocker-2.0.0-py2.py3-none-any.whl\n",
      "Installing collected packages: portalocker, sacrebleu\n",
      "Successfully installed portalocker-2.0.0 sacrebleu-1.5.1\n",
      "Collecting sentencepiece\n",
      "\u001b[?25l  Downloading https://files.pythonhosted.org/packages/f5/99/e0808cb947ba10f575839c43e8fafc9cc44e4a7a2c8f79c60db48220a577/sentencepiece-0.1.95-cp37-cp37m-manylinux2014_x86_64.whl (1.2MB)\n",
      "\u001b[K     |████████████████████████████████| 1.2MB 5.1MB/s \n",
      "\u001b[?25hInstalling collected packages: sentencepiece\n",
      "Successfully installed sentencepiece-0.1.95\n"
     ]
    }
   ],
   "source": [
    "!pip install datasets==1.6.0\n",
    "!pip install transformers\n",
    "!pip install rouge_score\n",
    "!pip install sacrebleu\n",
    "!pip install sentencepiece\n",
    "\n",
    "# !pip install transformers\n",
    "# !pip install sentencepiece\n",
    "# !pip install tokenizers\n",
    "\n",
    "# install Hugging Face libraries\n",
    "# !pip install tokenizers\n",
    "# !pip install transformers"
   ]
  },
  {
   "cell_type": "code",
   "execution_count": 3,
   "metadata": {
    "id": "XEhodDe2JDcF"
   },
   "outputs": [],
   "source": [
    "import datasets\n",
    "import transformers\n",
    "import pandas as pd\n",
    "import numpy as np"
   ]
  },
  {
   "cell_type": "code",
   "execution_count": 4,
   "metadata": {
    "colab": {
     "base_uri": "https://localhost:8080/",
     "height": 265,
     "referenced_widgets": [
      "73106b9f60314dd9a84140532ac76846",
      "2e46c0d7f8d14b1e9bf3ffa111f2743b",
      "503123e4837a471a822bd5483c939b43",
      "f4b9274475304aac8b808760d2286d4e",
      "c12c9c263ebd47c8abb460845c5b5c90",
      "25c0be709c2b484a8ad4c56f7c63b26a",
      "1397aaab783d46c99277bc7c4c4ed400",
      "6d2d672f0bb24a71b58b687d10897ab4",
      "d74ae5fd3b7349b08c37793ed2a28377",
      "cb5d4aadb8e24adbbe577ede4819c8dc",
      "61c2322317d9418890ded99d4b629021",
      "623e2e8534af4b2a8a10f2ec2f660f53",
      "770b8145687d46ebb7795ffdce804d67",
      "d7c48b4f6cc7488eb0cb2740f71db33b",
      "d3b438d175274625a204090076422bbf",
      "45f10babeeae4cb283c17490ef28d233",
      "6bbd34318c7441c0a35d139b8fecf5be",
      "63471d410e8a4f69b1c6654492eb3c79",
      "414ae630f7d3464cb4b7799926f47804",
      "47889115403540abb43ff21e79dcfddb",
      "aacdd342007f4180af6e9937ab43c2f0",
      "6f34f93321c54776a43f2411e037a4a2",
      "3f54592e479248a6a35d424eaf16415a",
      "ef3d0ec29b4048258ed54c1202dc0267",
      "980acef0b68f4fb8b38090b363721a2c",
      "a01940c4095f4b3aa2c6e3bb4f261714",
      "9401e92f88f8401185e92a8c547324f2",
      "05476c7ebbd8440b8eaaed8f7db7686e",
      "307e95bd915a424888fd7ac5092a14ac",
      "09f88f2ea9b84006b6528b421eeeb699",
      "9630189c2f074940a360fbb8ff6ac825",
      "2d3e6faf95ec4f45a66c7df256ec96f3",
      "b801ee7799984ddfb8799616ccc58f34",
      "aa5be53297fb4d81bdd502a059b1b92a",
      "b25abe48ea194d088806f2bae1391553",
      "5cb0f771a9c545c883fc2a36c4de5499",
      "c471d926c06540a3bec3ff59c1916cb9",
      "b538dc23cb91456488886cce22296042",
      "a388e19743954929bee14699d4e3e54f",
      "d59b0b8b07974c98b6a1da766dc60ca6"
     ]
    },
    "id": "oxyffSF5kkGC",
    "outputId": "528642f4-0981-4251-992b-eb816ff02dfd"
   },
   "outputs": [
    {
     "data": {
      "application/vnd.jupyter.widget-view+json": {
       "model_id": "73106b9f60314dd9a84140532ac76846",
       "version_major": 2,
       "version_minor": 0
      },
      "text/plain": [
       "HBox(children=(FloatProgress(value=0.0, description='Downloading', max=791656.0, style=ProgressStyle(descripti…"
      ]
     },
     "metadata": {
      "tags": []
     },
     "output_type": "display_data"
    },
    {
     "name": "stdout",
     "output_type": "stream",
     "text": [
      "\n"
     ]
    },
    {
     "data": {
      "application/vnd.jupyter.widget-view+json": {
       "model_id": "d74ae5fd3b7349b08c37793ed2a28377",
       "version_major": 2,
       "version_minor": 0
      },
      "text/plain": [
       "HBox(children=(FloatProgress(value=0.0, description='Downloading', max=1389353.0, style=ProgressStyle(descript…"
      ]
     },
     "metadata": {
      "tags": []
     },
     "output_type": "display_data"
    },
    {
     "name": "stdout",
     "output_type": "stream",
     "text": [
      "\n"
     ]
    },
    {
     "data": {
      "application/vnd.jupyter.widget-view+json": {
       "model_id": "6bbd34318c7441c0a35d139b8fecf5be",
       "version_major": 2,
       "version_minor": 0
      },
      "text/plain": [
       "HBox(children=(FloatProgress(value=0.0, description='Downloading', max=898823.0, style=ProgressStyle(descripti…"
      ]
     },
     "metadata": {
      "tags": []
     },
     "output_type": "display_data"
    },
    {
     "name": "stdout",
     "output_type": "stream",
     "text": [
      "\n"
     ]
    },
    {
     "data": {
      "application/vnd.jupyter.widget-view+json": {
       "model_id": "980acef0b68f4fb8b38090b363721a2c",
       "version_major": 2,
       "version_minor": 0
      },
      "text/plain": [
       "HBox(children=(FloatProgress(value=0.0, description='Downloading', max=456318.0, style=ProgressStyle(descripti…"
      ]
     },
     "metadata": {
      "tags": []
     },
     "output_type": "display_data"
    },
    {
     "name": "stdout",
     "output_type": "stream",
     "text": [
      "\n"
     ]
    },
    {
     "data": {
      "application/vnd.jupyter.widget-view+json": {
       "model_id": "b801ee7799984ddfb8799616ccc58f34",
       "version_major": 2,
       "version_minor": 0
      },
      "text/plain": [
       "HBox(children=(FloatProgress(value=0.0, description='Downloading', max=1355863.0, style=ProgressStyle(descript…"
      ]
     },
     "metadata": {
      "tags": []
     },
     "output_type": "display_data"
    },
    {
     "name": "stdout",
     "output_type": "stream",
     "text": [
      "\n"
     ]
    }
   ],
   "source": [
    "# use T5 Tokenizer to truncate the reference sections associated with T5 generations\n",
    "from transformers import T5Tokenizer\n",
    "T5_tokenizer = T5Tokenizer.from_pretrained('t5-base')\n",
    "\n",
    "# use BART Tokenizer to truncate the reference sectionsassociated with BART generations\n",
    "from transformers import BartTokenizer\n",
    "BART_tokenizer = BartTokenizer.from_pretrained('facebook/bart-base')"
   ]
  },
  {
   "cell_type": "markdown",
   "metadata": {
    "id": "KXMyi_BLwxqh"
   },
   "source": [
    "## Define functions to calculate metrics"
   ]
  },
  {
   "cell_type": "code",
   "execution_count": 46,
   "metadata": {
    "id": "poXkz8gVL0Lj"
   },
   "outputs": [],
   "source": [
    "def truncate_reference_sections(references, model_tokenizer):\n",
    "  \n",
    "  # keep the count of truncated sections\n",
    "  COUNT_REFERENCES_TRUNCATED = 0\n",
    "\n",
    "  # save the truncated references in array \n",
    "  truncated_references = []\n",
    "\n",
    "  # for each section in references\n",
    "  for ref_section in references:\n",
    "    \n",
    "    # tokenize with <model_tokenizer>\n",
    "    ref_section_tokenized = model_tokenizer(ref_section)\n",
    "    input_ids = ref_section_tokenized['input_ids']\n",
    "\n",
    "    # truncate the tokezined current ref_section if length > 512\n",
    "    if len(input_ids) > 512:\n",
    "      \n",
    "      COUNT_REFERENCES_TRUNCATED += 1\n",
    "\n",
    "      # choose only <= 512\n",
    "      input_ids = input_ids[:512]\n",
    "\n",
    "      # decode back \n",
    "      truncated_ref_text = model_tokenizer.decode(input_ids)\n",
    "\n",
    "      truncated_references.append(truncated_ref_text)\n",
    "\n",
    "    # otherwise just leave section as it is\n",
    "    else:\n",
    "      truncated_references.append(ref_section)\n",
    "\n",
    "  print(\"Num. of sections truncated: \", COUNT_REFERENCES_TRUNCATED)\n",
    "\n",
    "  return truncated_references"
   ]
  },
  {
   "cell_type": "code",
   "execution_count": 47,
   "metadata": {
    "id": "0AohWapPL0oM"
   },
   "outputs": [],
   "source": [
    "def map_to_length(x):\n",
    "  \n",
    "  # map article and summary len to dict as well as if sample is longer than 512 tokens\n",
    "\n",
    "  x[\"generations_len\"] = len(x[\"generations\"])\n",
    "\n",
    "  x[\"references_len\"] = len(x[\"references\"])\n",
    "\n",
    "  x[\"len_differece\"] = x[\"references_len\"] - x[\"generations_len\"]\n",
    "\n",
    "  return x"
   ]
  },
  {
   "cell_type": "code",
   "execution_count": 48,
   "metadata": {
    "id": "HKKqoIyy0O-S"
   },
   "outputs": [],
   "source": [
    "# Use sacrebleu metric instead of bleu\n",
    "def calc_sacrebleu(gold_references, model_generations, truncation=False, model_tokenizer=None):\n",
    "  \n",
    "  # in case we want to truncate \n",
    "  if truncation: gold_references = truncate_reference_sections(references=gold_references, \n",
    "                                                               model_tokenizer=model_tokenizer)\n",
    "\n",
    "  # check\n",
    "  assert len(model_generations) == len(gold_references)\n",
    "\n",
    "  # load the metrics\n",
    "  sacrebleu_metric = datasets.load_metric('sacrebleu')\n",
    "\n",
    "  # do the preprocessing for calculating sacrebleu - basically make list of lists\n",
    "  for ind_section in range(len(gold_references)):\n",
    "    gold_references[ind_section] = [gold_references[ind_section]]\n",
    "\n",
    "  # check\n",
    "  assert len(model_generations) == len(gold_references)\n",
    "\n",
    "  # add ref-gen pairs to metric\n",
    "  sacrebleu_metric.add_batch(predictions=model_generations, references=gold_references)\n",
    "\n",
    "  # check\n",
    "  assert len(sacrebleu_metric) == len(gold_references)\n",
    "\n",
    "  # Computing the metric scores\n",
    "  sacrebleu_score = sacrebleu_metric.compute()\n",
    "\n",
    "  return sacrebleu_score"
   ]
  },
  {
   "cell_type": "code",
   "execution_count": 49,
   "metadata": {
    "id": "qS_okUzMynZo"
   },
   "outputs": [],
   "source": [
    "# Use original bleu\n",
    "\n",
    "def calc_bleu(gold_references, model_generations, truncation=False, model_tokenizer=None):\n",
    "\n",
    "  # in case we want to truncate\n",
    "  if truncation: gold_references = truncate_reference_sections(references=gold_references, \n",
    "                                                               model_tokenizer=model_tokenizer)\n",
    "  \n",
    "  # check\n",
    "  assert len(model_generations) == len(gold_references)\n",
    "\n",
    "  # load the metrics\n",
    "  bleu_metric = datasets.load_metric(\"bleu\")\n",
    "\n",
    "  # do the preprocessing for calculating bleu\n",
    "\n",
    "  model_generations = [gen_section.split() for gen_section in model_generations]\n",
    "\n",
    "  for ind_section in range(len(gold_references)):\n",
    "    gold_references[ind_section] = [gold_references[ind_section]]\n",
    "\n",
    "  gold_references = [orig_section[0].split() for orig_section in gold_references]\n",
    "\n",
    "  for ind_section in range(len(gold_references)):\n",
    "    gold_references[ind_section] = [gold_references[ind_section]]\n",
    "\n",
    "  # check\n",
    "  assert len(model_generations) == len(gold_references)\n",
    "\n",
    "  # add ref-gen pairs to metric\n",
    "  bleu_metric.add_batch(predictions=model_generations, references=gold_references)\n",
    "\n",
    "  # check\n",
    "  assert len(bleu_metric) == len(gold_references)\n",
    "\n",
    "  # Computing the metric scores\n",
    "  bleu_score = bleu_metric.compute()\n",
    "\n",
    "  return bleu_score"
   ]
  },
  {
   "cell_type": "markdown",
   "metadata": {
    "id": "S1vjRrLWGsqf"
   },
   "source": [
    "# Content Planner"
   ]
  },
  {
   "cell_type": "code",
   "execution_count": 29,
   "metadata": {
    "id": "hV41fDq8IsYW"
   },
   "outputs": [],
   "source": [
    "# read generated sections\n",
    "PATH_TEST_GENERATED_1 = '/content/drive/MyDrive/bayer-intern/content_planner_generations/test_generations_section1.txt'\n",
    "with open(PATH_TEST_GENERATED_1) as f:\n",
    "    content_planner_gen_section_1 = [line.strip() for line in f]\n",
    "\n",
    "# read generated sections\n",
    "PATH_TEST_GENERATED_2 = '/content/drive/MyDrive/bayer-intern/content_planner_generations/test_generations_section2.txt'\n",
    "with open(PATH_TEST_GENERATED_2) as f:\n",
    "    content_planner_gen_section_2 = [line.strip() for line in f]\n",
    "\n",
    "# read generated sections\n",
    "PATH_TEST_GENERATED_3 = '/content/drive/MyDrive/bayer-intern/content_planner_generations/test_generations_section3.txt'\n",
    "with open(PATH_TEST_GENERATED_3) as f:\n",
    "    content_planner_gen_section_3 = [line.strip() for line in f]\n",
    "\n",
    "# read generated sections\n",
    "PATH_TEST_GENERATED_4 = '/content/drive/MyDrive/bayer-intern/content_planner_generations/test_generations_section4.txt'\n",
    "with open(PATH_TEST_GENERATED_4) as f:\n",
    "    content_planner_gen_section_4 = [line.strip() for line in f]\n",
    "\n",
    "# read generated sections\n",
    "PATH_TEST_GENERATED_5 = '/content/drive/MyDrive/bayer-intern/content_planner_generations/test_generations_section5.txt'\n",
    "with open(PATH_TEST_GENERATED_5) as f:\n",
    "    content_planner_gen_section_5 = [line.strip() for line in f]\n",
    "\n",
    "# read generated sections\n",
    "PATH_TEST_GENERATED_6 = '/content/drive/MyDrive/bayer-intern/content_planner_generations/test_generations_section6.txt'\n",
    "with open(PATH_TEST_GENERATED_6) as f:\n",
    "    content_planner_gen_section_6 = [line.strip() for line in f]"
   ]
  },
  {
   "cell_type": "code",
   "execution_count": 30,
   "metadata": {
    "id": "_lpEhiFksl4w"
   },
   "outputs": [],
   "source": [
    "# read reference sections\n",
    "PATH_TEST_REF_1 = '/content/drive/MyDrive/bayer-intern/content_planner_generations/section1_tgt_test.txt'\n",
    "with open(PATH_TEST_REF_1) as f:\n",
    "    content_planner_ref_1 = [line.strip() for line in f]\n",
    "\n",
    "# read reference sections\n",
    "PATH_TEST_REF_2 = '/content/drive/MyDrive/bayer-intern/content_planner_generations/section2_tgt_test.txt'\n",
    "with open(PATH_TEST_REF_2) as f:\n",
    "    content_planner_ref_2 = [line.strip() for line in f]\n",
    "\n",
    "# read reference sections\n",
    "PATH_TEST_REF_3 = '/content/drive/MyDrive/bayer-intern/content_planner_generations/section3_tgt_test.txt'\n",
    "with open(PATH_TEST_REF_3) as f:\n",
    "    content_planner_ref_3 = [line.strip() for line in f]\n",
    "\n",
    "# read reference sections\n",
    "PATH_TEST_REF_4 = '/content/drive/MyDrive/bayer-intern/content_planner_generations/section4_tgt_test.txt'\n",
    "with open(PATH_TEST_REF_4) as f:\n",
    "    content_planner_ref_4 = [line.strip() for line in f]\n",
    "\n",
    "# read reference sections\n",
    "PATH_TEST_REF_5 = '/content/drive/MyDrive/bayer-intern/content_planner_generations/section5_tgt_test.txt'\n",
    "with open(PATH_TEST_REF_5) as f:\n",
    "    content_planner_ref_5 = [line.strip() for line in f]\n",
    "\n",
    "# read reference sections\n",
    "PATH_TEST_REF_6 = '/content/drive/MyDrive/bayer-intern/content_planner_generations/section6_tgt_test.txt'\n",
    "with open(PATH_TEST_REF_6) as f:\n",
    "    content_planner_ref_6 = [line.strip() for line in f]"
   ]
  },
  {
   "cell_type": "code",
   "execution_count": null,
   "metadata": {
    "id": "GlDkgNqNs9A-"
   },
   "outputs": [],
   "source": [
    ""
   ]
  },
  {
   "cell_type": "markdown",
   "metadata": {
    "id": "N4ub3I-gs9qa"
   },
   "source": [
    "## Create Content Plan 2 files - **combined all generations, combined all references**"
   ]
  },
  {
   "cell_type": "code",
   "execution_count": 31,
   "metadata": {
    "id": "PBZGu9rwtGO-"
   },
   "outputs": [],
   "source": [
    "all_content_planner_generations = content_planner_gen_section_1 + \\\n",
    "                                  content_planner_gen_section_2 + \\\n",
    "                                  content_planner_gen_section_3 + \\\n",
    "                                  content_planner_gen_section_4 + \\\n",
    "                                  content_planner_gen_section_5 + \\\n",
    "                                  content_planner_gen_section_6"
   ]
  },
  {
   "cell_type": "code",
   "execution_count": 32,
   "metadata": {
    "id": "GvKkZExStacV"
   },
   "outputs": [],
   "source": [
    "all_content_planner_references = content_planner_ref_1 + \\\n",
    "                                 content_planner_ref_2 + \\\n",
    "                                 content_planner_ref_3 + \\\n",
    "                                 content_planner_ref_4 + \\\n",
    "                                 content_planner_ref_5 + \\\n",
    "                                 content_planner_ref_6"
   ]
  },
  {
   "cell_type": "code",
   "execution_count": 33,
   "metadata": {
    "id": "tiluRT3Mt6Of"
   },
   "outputs": [],
   "source": [
    "assert len(all_content_planner_references) == len(all_content_planner_generations)"
   ]
  },
  {
   "cell_type": "code",
   "execution_count": 34,
   "metadata": {
    "id": "x114mj_SvA25"
   },
   "outputs": [],
   "source": [
    "TGT_CONTENT_PLANNER_ALL_GENERATIONS = '/content/drive/MyDrive/bayer-intern/content_planner_generations/all_generations_Content_Planner.txt'"
   ]
  },
  {
   "cell_type": "code",
   "execution_count": 35,
   "metadata": {
    "id": "axr8V1QAt6HU"
   },
   "outputs": [],
   "source": [
    "# write to a file\n",
    "\n",
    "output_file = open(TGT_CONTENT_PLANNER_ALL_GENERATIONS, 'w')\n",
    "\n",
    "for sec_gen in all_content_planner_generations:\n",
    "    sec_gen += \"\\n\"\n",
    "    output_file.write(sec_gen)\n",
    "\n",
    "output_file.close()"
   ]
  },
  {
   "cell_type": "code",
   "execution_count": null,
   "metadata": {
    "id": "XlZpPCd50HP2"
   },
   "outputs": [],
   "source": [
    ""
   ]
  },
  {
   "cell_type": "code",
   "execution_count": 37,
   "metadata": {
    "id": "v9JRssFu0HjX"
   },
   "outputs": [],
   "source": [
    "TGT_CONTENT_PLANNER_ALL_REFERENCES = '/content/drive/MyDrive/bayer-intern/content_planner_generations/all_references_Content_Planner.txt'"
   ]
  },
  {
   "cell_type": "code",
   "execution_count": 38,
   "metadata": {
    "id": "JWGmuy050HjY"
   },
   "outputs": [],
   "source": [
    "# write to a file\n",
    "\n",
    "output_file = open(TGT_CONTENT_PLANNER_ALL_REFERENCES, 'w')\n",
    "\n",
    "for ref_gen in all_content_planner_references:\n",
    "    ref_gen += \"\\n\"\n",
    "    output_file.write(ref_gen)\n",
    "\n",
    "output_file.close()"
   ]
  },
  {
   "cell_type": "code",
   "execution_count": null,
   "metadata": {
    "id": "DeVc6BmYtaWR"
   },
   "outputs": [],
   "source": [
    ""
   ]
  },
  {
   "cell_type": "code",
   "execution_count": 39,
   "metadata": {
    "id": "lnxM1oRftaMj"
   },
   "outputs": [],
   "source": [
    "# read all generations by Content Planner\n",
    "with open(TGT_CONTENT_PLANNER_ALL_GENERATIONS) as f:\n",
    "    CP_generations = [line.strip() for line in f]\n",
    "\n",
    "\n",
    "# read all references by Content Planner\n",
    "with open(TGT_CONTENT_PLANNER_ALL_REFERENCES) as f:\n",
    "    CP_references = [line.strip() for line in f]"
   ]
  },
  {
   "cell_type": "code",
   "execution_count": 40,
   "metadata": {
    "id": "28ksZbHvs8qD"
   },
   "outputs": [],
   "source": [
    "assert len(CP_generations) == len(CP_references)"
   ]
  },
  {
   "cell_type": "code",
   "execution_count": null,
   "metadata": {
    "id": "EOHldhqBw0Fz"
   },
   "outputs": [],
   "source": [
    ""
   ]
  },
  {
   "cell_type": "markdown",
   "metadata": {
    "id": "nw4Qhg4XPPvq"
   },
   "source": [
    "### How to decide on the threshold for length of content planner sections?\n",
    "\n",
    "\n",
    "My solution - use T5_tokenizer to tokenize both content_planner_generated sections and references sections "
   ]
  },
  {
   "cell_type": "code",
   "execution_count": 42,
   "metadata": {
    "id": "uFvtZgLI7Ur0"
   },
   "outputs": [],
   "source": [
    "def truncate_content_planner_reference(section_references):\n",
    "\n",
    "  # keep the count of truncated sections\n",
    "  COUNT_REFERENCES_TRUNCATED = 0\n",
    "\n",
    "  # save the truncated references in array \n",
    "  truncated_references = []\n",
    "\n",
    "  # for each section in references\n",
    "  for ref_section in section_references:\n",
    "    \n",
    "    # tokenize with <model_tokenizer>\n",
    "    ref_section_tokenized = T5_tokenizer(ref_section)\n",
    "    input_ids = ref_section_tokenized['input_ids']\n",
    "\n",
    "    # truncate the tokezined current ref_section if length > 512\n",
    "    if len(input_ids) > 512:\n",
    "      \n",
    "      COUNT_REFERENCES_TRUNCATED += 1\n",
    "\n",
    "      # choose only <= 512\n",
    "      input_ids = input_ids[:512]\n",
    "\n",
    "      # decode back \n",
    "      truncated_ref_text = T5_tokenizer.decode(input_ids)\n",
    "  \n",
    "      truncated_references.append(truncated_ref_text)\n",
    "\n",
    "    # otherwise just leave section as it is\n",
    "    else:\n",
    "      truncated_references.append(ref_section)\n",
    "\n",
    "  print(\"Num. of sections truncated: \", COUNT_REFERENCES_TRUNCATED)\n",
    "\n",
    "  return truncated_references"
   ]
  },
  {
   "cell_type": "code",
   "execution_count": 43,
   "metadata": {
    "id": "-_xXu0T67Ulk"
   },
   "outputs": [],
   "source": [
    "def truncate_content_planner_generations(section_generations):\n",
    "\n",
    "  # keep the count of truncated sections\n",
    "  COUNT_SECTIONS_TRUNCATED = 0\n",
    "\n",
    "  # save the truncated references in array \n",
    "  truncated_sections = []\n",
    "\n",
    "  # for each section in references\n",
    "  for gen_section in section_generations:\n",
    "    \n",
    "    # tokenize with <model_tokenizer>\n",
    "    gen_section_tokenized = T5_tokenizer(gen_section)\n",
    "    input_ids = gen_section_tokenized['input_ids']\n",
    "\n",
    "    # truncate the tokezined current gen_section if length > 512\n",
    "    if len(input_ids) > 512:\n",
    "      \n",
    "      COUNT_SECTIONS_TRUNCATED += 1\n",
    "\n",
    "      # choose only <= 512\n",
    "      input_ids = input_ids[:512]\n",
    "\n",
    "      # decode back \n",
    "      truncated_gen_text = T5_tokenizer.decode(input_ids)\n",
    "  \n",
    "      truncated_sections.append(truncated_gen_text)\n",
    "\n",
    "    # otherwise just leave section as it is\n",
    "    else:\n",
    "      truncated_sections.append(gen_section)\n",
    "\n",
    "  print(\"Num. of sections truncated: \", COUNT_SECTIONS_TRUNCATED)\n",
    "\n",
    "  return truncated_sections"
   ]
  },
  {
   "cell_type": "code",
   "execution_count": 44,
   "metadata": {
    "colab": {
     "base_uri": "https://localhost:8080/"
    },
    "id": "HuiRZ-5H1MhB",
    "outputId": "d498e5e5-30c7-4d84-aad3-512f0b128607"
   },
   "outputs": [
    {
     "name": "stderr",
     "output_type": "stream",
     "text": [
      "Token indices sequence length is longer than the specified maximum sequence length for this model (552 > 512). Running this sequence through the model will result in indexing errors\n"
     ]
    },
    {
     "name": "stdout",
     "output_type": "stream",
     "text": [
      "Num. of sections truncated:  312\n",
      "Num. of sections truncated:  289\n"
     ]
    }
   ],
   "source": [
    "new_CP_references = truncate_content_planner_reference(section_references=CP_references)\n",
    "new_CP_generations = truncate_content_planner_generations(section_generations=CP_generations)"
   ]
  },
  {
   "cell_type": "code",
   "execution_count": 52,
   "metadata": {
    "colab": {
     "base_uri": "https://localhost:8080/"
    },
    "id": "jbI7XfrM1oc7",
    "outputId": "39e411eb-9315-4de2-c394-e18a9d5a8bde"
   },
   "outputs": [
    {
     "name": "stderr",
     "output_type": "stream",
     "text": [
      "That's 100 lines that end in a tokenized period ('.')\n",
      "It looks like you forgot to detokenize your test data, which may hurt your score.\n",
      "If you insist your data is detokenized, or don't care, you can suppress this message with '--force'.\n"
     ]
    },
    {
     "name": "stdout",
     "output_type": "stream",
     "text": [
      "{'score': 33.19727927936324, 'counts': [108052, 67865, 53737, 45904], 'totals': [197563, 196821, 196079, 195337], 'precisions': [54.69242722574571, 34.480568638509105, 27.405790523207482, 23.49990017252236], 'bp': 1.0, 'sys_len': 197563, 'ref_len': 196229}\n"
     ]
    }
   ],
   "source": [
    "# Truncated Sections SacreBleu Results\n",
    "CP_trun_sacrebleu_result_final = calc_sacrebleu(gold_references=new_CP_references.copy(), \n",
    "                                    model_generations=new_CP_generations.copy(),\n",
    "                                    truncation=False,\n",
    "                                    model_tokenizer=None\n",
    "                                    )\n",
    "\n",
    "print(CP_trun_sacrebleu_result_final)"
   ]
  },
  {
   "cell_type": "code",
   "execution_count": 53,
   "metadata": {
    "colab": {
     "base_uri": "https://localhost:8080/"
    },
    "id": "r_Vj6ORi2IOf",
    "outputId": "d6e1c6b1-bcae-4b7b-d737-bc565b187176"
   },
   "outputs": [
    {
     "name": "stderr",
     "output_type": "stream",
     "text": [
      "That's 100 lines that end in a tokenized period ('.')\n",
      "It looks like you forgot to detokenize your test data, which may hurt your score.\n",
      "If you insist your data is detokenized, or don't care, you can suppress this message with '--force'.\n"
     ]
    },
    {
     "name": "stdout",
     "output_type": "stream",
     "text": [
      "{'score': 27.787614623926533, 'counts': [151844, 91069, 70074, 59092], 'totals': [314163, 313421, 312679, 311937], 'precisions': [48.332871789485075, 29.056444845750605, 22.410843069090024, 18.943568733430148], 'bp': 1.0, 'sys_len': 314163, 'ref_len': 313587}\n"
     ]
    }
   ],
   "source": [
    "# Original Sections SacreBleu Results\n",
    "CP_sacrebleu_result_final = calc_sacrebleu(gold_references=CP_references.copy(), \n",
    "                                    model_generations=CP_generations.copy(),\n",
    "                                    truncation=False,\n",
    "                                    model_tokenizer=None\n",
    "                                    )\n",
    "\n",
    "print(CP_sacrebleu_result_final)"
   ]
  },
  {
   "cell_type": "code",
   "execution_count": 54,
   "metadata": {
    "colab": {
     "base_uri": "https://localhost:8080/",
     "height": 154,
     "referenced_widgets": [
      "f1dec279714e475dbcb86fd7eda43c3d",
      "b0a0ce8518974fb98cc86c387cbacbc8",
      "e7c3c122785f477ea4274e9744fa4489",
      "4fa84d56e55f4b8c89d8588f79c0e532",
      "3a2b30a829f543078b5f9fa25cc3b8f9",
      "26a1d657607245b7b86a016ab044257b",
      "4fa60bdffb26419fae9fe2b3c8e1909e",
      "b1535d19b9a3430da83594d9da6b5e06",
      "4017c6884e194fb5953fe891b9e1b0aa",
      "889483b2c8d4409794c4502f1d60b055",
      "ae73f5bc0c31416dbdf62a503e7bf330",
      "a054abb57a60437c92816568f0fdbea5",
      "eb969d12a84e4e09a3b54dd65dc52d0a",
      "f21f639991e04b02aa40eeb60bbc9731",
      "e0be466bafd14e41a69223df832b5839",
      "653b8a276dfb4f7fbe6f1aa73aff94f3"
     ]
    },
    "id": "Bl1D-8Zu2eum",
    "outputId": "8380a076-2079-4177-abf4-4d750c08584b"
   },
   "outputs": [
    {
     "data": {
      "application/vnd.jupyter.widget-view+json": {
       "model_id": "f1dec279714e475dbcb86fd7eda43c3d",
       "version_major": 2,
       "version_minor": 0
      },
      "text/plain": [
       "HBox(children=(FloatProgress(value=0.0, description='Downloading', max=2488.0, style=ProgressStyle(description…"
      ]
     },
     "metadata": {
      "tags": []
     },
     "output_type": "display_data"
    },
    {
     "name": "stdout",
     "output_type": "stream",
     "text": [
      "\n"
     ]
    },
    {
     "data": {
      "application/vnd.jupyter.widget-view+json": {
       "model_id": "4017c6884e194fb5953fe891b9e1b0aa",
       "version_major": 2,
       "version_minor": 0
      },
      "text/plain": [
       "HBox(children=(FloatProgress(value=0.0, description='Downloading', max=1554.0, style=ProgressStyle(description…"
      ]
     },
     "metadata": {
      "tags": []
     },
     "output_type": "display_data"
    },
    {
     "name": "stdout",
     "output_type": "stream",
     "text": [
      "\n",
      "{'bleu': 0.3115594423336759, 'precisions': [0.5188168090656124, 0.32787853272606987, 0.2600697208421399, 0.22189148517471186], 'brevity_penalty': 0.9898093578205754, 'length_ratio': 0.9898609314359638, 'translation_length': 183639, 'reference_length': 185520}\n"
     ]
    }
   ],
   "source": [
    "# Truncated Sections BlEU Results\n",
    "CP_trun_bleu_result_final = calc_bleu(gold_references=new_CP_references.copy(), \n",
    "                                    model_generations=new_CP_generations.copy(),\n",
    "                                    truncation=False,\n",
    "                                    model_tokenizer=None\n",
    "                                    )\n",
    "\n",
    "print(CP_trun_bleu_result_final)"
   ]
  },
  {
   "cell_type": "code",
   "execution_count": 55,
   "metadata": {
    "colab": {
     "base_uri": "https://localhost:8080/"
    },
    "id": "J-mJzqZ82be7",
    "outputId": "52e148e0-911c-4c04-e813-2a74ad28a572"
   },
   "outputs": [
    {
     "name": "stdout",
     "output_type": "stream",
     "text": [
      "{'bleu': 0.2742287000989337, 'precisions': [0.4788702739122548, 0.2876156768516414, 0.22281497780150247, 0.1882957133441658], 'brevity_penalty': 0.9946243636378755, 'length_ratio': 0.9946387607289223, 'translation_length': 308712, 'reference_length': 310376}\n"
     ]
    }
   ],
   "source": [
    "# Original Sections BlEU Results\n",
    "CP_bleu_result_final = calc_bleu(gold_references=CP_references.copy(), \n",
    "                                    model_generations=CP_generations.copy(),\n",
    "                                    truncation=False,\n",
    "                                    model_tokenizer=None\n",
    "                                    )\n",
    "\n",
    "print(CP_bleu_result_final)"
   ]
  },
  {
   "cell_type": "code",
   "execution_count": null,
   "metadata": {
    "id": "-5Zi9wLI2bVI"
   },
   "outputs": [],
   "source": [
    ""
   ]
  },
  {
   "cell_type": "code",
   "execution_count": null,
   "metadata": {
    "id": "TFBEy1z-2IBQ"
   },
   "outputs": [],
   "source": [
    ""
   ]
  },
  {
   "cell_type": "code",
   "execution_count": null,
   "metadata": {
    "id": "Z87Gnzo41L2L"
   },
   "outputs": [],
   "source": [
    ""
   ]
  },
  {
   "cell_type": "markdown",
   "metadata": {
    "id": "i1XXGOm86s_Q"
   },
   "source": [
    "## Calculating metrics for each section separately"
   ]
  },
  {
   "cell_type": "code",
   "execution_count": 56,
   "metadata": {
    "colab": {
     "base_uri": "https://localhost:8080/"
    },
    "id": "g77QTOU77UVW",
    "outputId": "6c460d38-0acb-4c3d-a734-a849ecdbf06b"
   },
   "outputs": [
    {
     "name": "stdout",
     "output_type": "stream",
     "text": [
      "Num. of sections truncated:  14\n",
      "Num. of sections truncated:  3\n",
      "Num. of sections truncated:  123\n",
      "Num. of sections truncated:  123\n",
      "Num. of sections truncated:  69\n",
      "Num. of sections truncated:  46\n",
      "Num. of sections truncated:  89\n",
      "Num. of sections truncated:  90\n",
      "Num. of sections truncated:  0\n",
      "Num. of sections truncated:  0\n",
      "Num. of sections truncated:  17\n",
      "Num. of sections truncated:  27\n"
     ]
    }
   ],
   "source": [
    "# 1\n",
    "new_content_planner_ref_1 = truncate_content_planner_reference(section_references=content_planner_ref_1)\n",
    "new_content_planner_gen_section_1 = truncate_content_planner_generations(section_generations=content_planner_gen_section_1)\n",
    "\n",
    "# 2\n",
    "new_content_planner_ref_2 = truncate_content_planner_reference(section_references=content_planner_ref_2)\n",
    "new_content_planner_gen_section_2 = truncate_content_planner_generations(section_generations=content_planner_gen_section_2)\n",
    "\n",
    "# 3\n",
    "new_content_planner_ref_3 = truncate_content_planner_reference(section_references=content_planner_ref_3)\n",
    "new_content_planner_gen_section_3 = truncate_content_planner_generations(section_generations=content_planner_gen_section_3)\n",
    "\n",
    "# 4\n",
    "new_content_planner_ref_4 = truncate_content_planner_reference(section_references=content_planner_ref_4)\n",
    "new_content_planner_gen_section_4 = truncate_content_planner_generations(section_generations=content_planner_gen_section_4)\n",
    "\n",
    "# 5\n",
    "new_content_planner_ref_5 = truncate_content_planner_reference(section_references=content_planner_ref_5)\n",
    "new_content_planner_gen_section_5 = truncate_content_planner_generations(section_generations=content_planner_gen_section_5)\n",
    "\n",
    "# 6\n",
    "new_content_planner_ref_6 = truncate_content_planner_reference(section_references=content_planner_ref_6)\n",
    "new_content_planner_gen_section_6 = truncate_content_planner_generations(section_generations=content_planner_gen_section_6)"
   ]
  },
  {
   "cell_type": "markdown",
   "metadata": {
    "id": "6oq8WDeBtayo"
   },
   "source": [
    "# Calculate metrics"
   ]
  },
  {
   "cell_type": "markdown",
   "metadata": {
    "id": "G3PJWLqQwryl"
   },
   "source": [
    "### Generations and references Unchanged"
   ]
  },
  {
   "cell_type": "code",
   "execution_count": null,
   "metadata": {
    "id": "gKmkIolsw9C7"
   },
   "outputs": [],
   "source": [
    "CP_sacrebleu_results = {\n",
    "    'section 1': None,\n",
    "    'section 2': None,\n",
    "    'section 3': None,\n",
    "    'section 4': None,\n",
    "    'section 5': None,\n",
    "    'section 6': None\n",
    "}"
   ]
  },
  {
   "cell_type": "code",
   "execution_count": null,
   "metadata": {
    "colab": {
     "base_uri": "https://localhost:8080/"
    },
    "id": "UEPg34hMw9C8",
    "outputId": "fa339a84-de1e-4fdd-ad81-d8fc6c739f23"
   },
   "outputs": [
    {
     "name": "stderr",
     "output_type": "stream",
     "text": [
      "That's 100 lines that end in a tokenized period ('.')\n",
      "It looks like you forgot to detokenize your test data, which may hurt your score.\n",
      "If you insist your data is detokenized, or don't care, you can suppress this message with '--force'.\n",
      "That's 100 lines that end in a tokenized period ('.')\n",
      "It looks like you forgot to detokenize your test data, which may hurt your score.\n",
      "If you insist your data is detokenized, or don't care, you can suppress this message with '--force'.\n",
      "That's 100 lines that end in a tokenized period ('.')\n",
      "It looks like you forgot to detokenize your test data, which may hurt your score.\n",
      "If you insist your data is detokenized, or don't care, you can suppress this message with '--force'.\n"
     ]
    }
   ],
   "source": [
    "# 1\n",
    "CP_sacrebleu_result_1 = calc_sacrebleu(gold_references=content_planner_ref_1.copy(), \n",
    "                                    model_generations=content_planner_gen_section_1.copy(),\n",
    "                                    truncation=False,\n",
    "                                    model_tokenizer=None\n",
    "                                    )\n",
    "CP_sacrebleu_results['section 1'] = CP_sacrebleu_result_1\n",
    "\n",
    "# 2\n",
    "CP_sacrebleu_result_2 = calc_sacrebleu(gold_references=content_planner_ref_2.copy(), \n",
    "                                    model_generations=content_planner_gen_section_2.copy(),\n",
    "                                    truncation=False,\n",
    "                                    model_tokenizer=None\n",
    "                                    )\n",
    "CP_sacrebleu_results['section 2'] = CP_sacrebleu_result_2\n",
    "\n",
    "# 3\n",
    "CP_sacrebleu_result_3 = calc_sacrebleu(gold_references=content_planner_ref_3.copy(), \n",
    "                                    model_generations=content_planner_gen_section_3.copy(),\n",
    "                                    truncation=False,\n",
    "                                    model_tokenizer=None\n",
    "                                    )\n",
    "CP_sacrebleu_results['section 3'] = CP_sacrebleu_result_3\n",
    "\n",
    "# 4\n",
    "CP_sacrebleu_result_4 = calc_sacrebleu(gold_references=content_planner_ref_4.copy(), \n",
    "                                    model_generations=content_planner_gen_section_4.copy(),\n",
    "                                    truncation=False,\n",
    "                                    model_tokenizer=None\n",
    "                                    )\n",
    "CP_sacrebleu_results['section 4'] = CP_sacrebleu_result_4\n",
    "\n",
    "# 5\n",
    "CP_sacrebleu_result_5 = calc_sacrebleu(gold_references=content_planner_ref_5.copy(), \n",
    "                                    model_generations=content_planner_gen_section_5.copy(),\n",
    "                                    truncation=False,\n",
    "                                    model_tokenizer=None\n",
    "                                    )\n",
    "CP_sacrebleu_results['section 5'] = CP_sacrebleu_result_5\n",
    "\n",
    "# 6\n",
    "CP_sacrebleu_result_6 = calc_sacrebleu(gold_references=content_planner_ref_6.copy(), \n",
    "                                    model_generations=content_planner_gen_section_6.copy(),\n",
    "                                    truncation=False,\n",
    "                                    model_tokenizer=None\n",
    "                                    )\n",
    "CP_sacrebleu_results['section 6'] = CP_sacrebleu_result_6"
   ]
  },
  {
   "cell_type": "code",
   "execution_count": null,
   "metadata": {
    "colab": {
     "base_uri": "https://localhost:8080/"
    },
    "id": "6LklhTNsw9C9",
    "outputId": "79d83d36-fc38-40b4-e85a-09c490390561"
   },
   "outputs": [
    {
     "name": "stdout",
     "output_type": "stream",
     "text": [
      "33.93171335697557\n",
      "24.283563136152395\n",
      "25.656890826985226\n",
      "26.186036561192484\n",
      "49.912002663064875\n",
      "22.136802152070857\n"
     ]
    },
    {
     "data": {
      "text/plain": [
       "[None, None, None, None, None, None]"
      ]
     },
     "execution_count": 87,
     "metadata": {
      "tags": []
     },
     "output_type": "execute_result"
    }
   ],
   "source": [
    "[print(CP_sacrebleu_results[sec_res]['score']) for sec_res in CP_sacrebleu_results]"
   ]
  },
  {
   "cell_type": "code",
   "execution_count": null,
   "metadata": {
    "id": "rwsFMd60w9C9"
   },
   "outputs": [],
   "source": [
    "CP_sacrebleu_results_list = [CP_sacrebleu_results[_]['score'] for _ in CP_sacrebleu_results]"
   ]
  },
  {
   "cell_type": "code",
   "execution_count": null,
   "metadata": {
    "colab": {
     "base_uri": "https://localhost:8080/"
    },
    "id": "LBjzi6gDw9C-",
    "outputId": "f6b536de-c275-4c62-da4c-5a884f7470aa"
   },
   "outputs": [
    {
     "name": "stdout",
     "output_type": "stream",
     "text": [
      "Average - Content_Planner_sacrebleu_results:  30.351168116073566\n",
      "Std - Content_Planner_sacrebleu_results:  9.479124000632142\n"
     ]
    }
   ],
   "source": [
    "print(\"Average - Content_Planner_sacrebleu_results: \", np.mean(CP_sacrebleu_results_list))\n",
    "print(\"Std - Content_Planner_sacrebleu_results: \", np.std(CP_sacrebleu_results_list))"
   ]
  },
  {
   "cell_type": "code",
   "execution_count": null,
   "metadata": {
    "id": "3OOccag6ybfX"
   },
   "outputs": [],
   "source": [
    ""
   ]
  },
  {
   "cell_type": "markdown",
   "metadata": {
    "id": "_LYzwHG6bj0e"
   },
   "source": [
    "### Truncated with T5 tokenizer"
   ]
  },
  {
   "cell_type": "code",
   "execution_count": null,
   "metadata": {
    "id": "OhX0tu8AcXIV"
   },
   "outputs": [],
   "source": [
    "CP_trun_sacrebleu_results = {\n",
    "    'section 1': None,\n",
    "    'section 2': None,\n",
    "    'section 3': None,\n",
    "    'section 4': None,\n",
    "    'section 5': None,\n",
    "    'section 6': None\n",
    "}"
   ]
  },
  {
   "cell_type": "code",
   "execution_count": null,
   "metadata": {
    "colab": {
     "base_uri": "https://localhost:8080/"
    },
    "id": "OV1-xIV9By1Q",
    "outputId": "fbcdc783-5049-4404-c6ac-165032e8165d"
   },
   "outputs": [
    {
     "name": "stderr",
     "output_type": "stream",
     "text": [
      "That's 100 lines that end in a tokenized period ('.')\n",
      "It looks like you forgot to detokenize your test data, which may hurt your score.\n",
      "If you insist your data is detokenized, or don't care, you can suppress this message with '--force'.\n",
      "That's 100 lines that end in a tokenized period ('.')\n",
      "It looks like you forgot to detokenize your test data, which may hurt your score.\n",
      "If you insist your data is detokenized, or don't care, you can suppress this message with '--force'.\n"
     ]
    }
   ],
   "source": [
    "# 1\n",
    "CP_trun_sacrebleu_result_1 = calc_sacrebleu(gold_references=new_content_planner_ref_1.copy(), \n",
    "                                    model_generations=new_content_planner_gen_section_1.copy(),\n",
    "                                    truncation=False,\n",
    "                                    model_tokenizer=None\n",
    "                                    )\n",
    "CP_trun_sacrebleu_results['section 1'] = CP_trun_sacrebleu_result_1\n",
    "\n",
    "# 2\n",
    "CP_trun_sacrebleu_result_2 = calc_sacrebleu(gold_references=new_content_planner_ref_2.copy(), \n",
    "                                    model_generations=new_content_planner_gen_section_2.copy(),\n",
    "                                    truncation=False,\n",
    "                                    model_tokenizer=None\n",
    "                                    )\n",
    "CP_trun_sacrebleu_results['section 2'] = CP_trun_sacrebleu_result_2\n",
    "\n",
    "# 3\n",
    "CP_trun_sacrebleu_result_3 = calc_sacrebleu(gold_references=new_content_planner_ref_3.copy(), \n",
    "                                    model_generations=new_content_planner_gen_section_3.copy(),\n",
    "                                    truncation=False,\n",
    "                                    model_tokenizer=None\n",
    "                                    )\n",
    "CP_trun_sacrebleu_results['section 3'] = CP_trun_sacrebleu_result_3\n",
    "\n",
    "# 4\n",
    "CP_trun_sacrebleu_result_4 = calc_sacrebleu(gold_references=new_content_planner_ref_4.copy(), \n",
    "                                    model_generations=new_content_planner_gen_section_4.copy(),\n",
    "                                    truncation=False,\n",
    "                                    model_tokenizer=None\n",
    "                                    )\n",
    "CP_trun_sacrebleu_results['section 4'] = CP_trun_sacrebleu_result_4\n",
    "\n",
    "# 5\n",
    "CP_trun_sacrebleu_result_5 = calc_sacrebleu(gold_references=new_content_planner_ref_5.copy(), \n",
    "                                    model_generations=new_content_planner_gen_section_5.copy(),\n",
    "                                    truncation=False,\n",
    "                                    model_tokenizer=None\n",
    "                                    )\n",
    "CP_trun_sacrebleu_results['section 5'] = CP_trun_sacrebleu_result_5\n",
    "\n",
    "# 6\n",
    "CP_trun_sacrebleu_result_6 = calc_sacrebleu(gold_references=new_content_planner_ref_6.copy(), \n",
    "                                    model_generations=new_content_planner_gen_section_6.copy(),\n",
    "                                    truncation=False,\n",
    "                                    model_tokenizer=None\n",
    "                                    )\n",
    "CP_trun_sacrebleu_results['section 6'] = CP_trun_sacrebleu_result_6"
   ]
  },
  {
   "cell_type": "code",
   "execution_count": null,
   "metadata": {
    "colab": {
     "base_uri": "https://localhost:8080/"
    },
    "id": "SKgUG1uBwElu",
    "outputId": "ee2503a0-a65e-4d3f-e94b-d30d5cbc2a97"
   },
   "outputs": [
    {
     "name": "stdout",
     "output_type": "stream",
     "text": [
      "33.08692682330122\n",
      "31.025031767978952\n",
      "27.827920465001228\n",
      "33.777062223425986\n",
      "49.912002663064875\n",
      "29.084590087025642\n"
     ]
    },
    {
     "data": {
      "text/plain": [
       "[None, None, None, None, None, None]"
      ]
     },
     "execution_count": 82,
     "metadata": {
      "tags": []
     },
     "output_type": "execute_result"
    }
   ],
   "source": [
    "[print(CP_trun_sacrebleu_results[sec_res]['score']) for sec_res in CP_trun_sacrebleu_results]"
   ]
  },
  {
   "cell_type": "code",
   "execution_count": null,
   "metadata": {
    "id": "8JPOoIOZt0L6"
   },
   "outputs": [],
   "source": [
    "CP_trun_sacrebleu_results_list = [CP_trun_sacrebleu_results[_]['score'] for _ in CP_trun_sacrebleu_results]"
   ]
  },
  {
   "cell_type": "code",
   "execution_count": null,
   "metadata": {
    "colab": {
     "base_uri": "https://localhost:8080/"
    },
    "id": "3OKmSItkvnKv",
    "outputId": "fd680c86-e1ec-4b07-fa10-e97c3feacc86"
   },
   "outputs": [
    {
     "name": "stdout",
     "output_type": "stream",
     "text": [
      "Average - Content_Planner_trun_sacrebleu_results:  34.11892233829965\n",
      "Std - Content_Planner_trun_sacrebleu_results:  7.360894803767474\n"
     ]
    }
   ],
   "source": [
    "print(\"Average - Content_Planner_trun_sacrebleu_results: \", np.mean(CP_trun_sacrebleu_results_list))\n",
    "print(\"Std - Content_Planner_trun_sacrebleu_results: \", np.std(CP_trun_sacrebleu_results_list))"
   ]
  },
  {
   "cell_type": "markdown",
   "metadata": {
    "id": "zjwlVepw7hx4"
   },
   "source": [
    "## BLEU scores"
   ]
  },
  {
   "cell_type": "code",
   "execution_count": 58,
   "metadata": {
    "id": "0pejvoWb7jvj"
   },
   "outputs": [],
   "source": [
    "CP_bleu_results = {\n",
    "    'section 1': None,\n",
    "    'section 2': None,\n",
    "    'section 3': None,\n",
    "    'section 4': None,\n",
    "    'section 5': None,\n",
    "    'section 6': None\n",
    "}"
   ]
  },
  {
   "cell_type": "code",
   "execution_count": 59,
   "metadata": {
    "id": "L6M1O2KT7jvt"
   },
   "outputs": [],
   "source": [
    "# 1\n",
    "CP_bleu_result_1 = calc_bleu(gold_references=content_planner_ref_1.copy(), \n",
    "                                    model_generations=content_planner_gen_section_1.copy(),\n",
    "                                    truncation=False,\n",
    "                                    model_tokenizer=None\n",
    "                                    )\n",
    "CP_bleu_results['section 1'] = CP_bleu_result_1\n",
    "\n",
    "# 2\n",
    "CP_bleu_result_2 = calc_bleu(gold_references=content_planner_ref_2.copy(), \n",
    "                                    model_generations=content_planner_gen_section_2.copy(),\n",
    "                                    truncation=False,\n",
    "                                    model_tokenizer=None\n",
    "                                    )\n",
    "CP_bleu_results['section 2'] = CP_bleu_result_2\n",
    "\n",
    "# 3\n",
    "CP_bleu_result_3 = calc_bleu(gold_references=content_planner_ref_3.copy(), \n",
    "                                    model_generations=content_planner_gen_section_3.copy(),\n",
    "                                    truncation=False,\n",
    "                                    model_tokenizer=None\n",
    "                                    )\n",
    "CP_bleu_results['section 3'] = CP_bleu_result_3\n",
    "\n",
    "# 4\n",
    "CP_bleu_result_4 = calc_bleu(gold_references=content_planner_ref_4.copy(), \n",
    "                                    model_generations=content_planner_gen_section_4.copy(),\n",
    "                                    truncation=False,\n",
    "                                    model_tokenizer=None\n",
    "                                    )\n",
    "CP_bleu_results['section 4'] = CP_bleu_result_4\n",
    "\n",
    "# 5\n",
    "CP_bleu_result_5 = calc_bleu(gold_references=content_planner_ref_5.copy(), \n",
    "                                    model_generations=content_planner_gen_section_5.copy(),\n",
    "                                    truncation=False,\n",
    "                                    model_tokenizer=None\n",
    "                                    )\n",
    "CP_bleu_results['section 5'] = CP_bleu_result_5\n",
    "\n",
    "# 6\n",
    "CP_bleu_result_6 = calc_bleu(gold_references=content_planner_ref_6.copy(), \n",
    "                                    model_generations=content_planner_gen_section_6.copy(),\n",
    "                                    truncation=False,\n",
    "                                    model_tokenizer=None\n",
    "                                    )\n",
    "CP_bleu_results['section 6'] = CP_bleu_result_6"
   ]
  },
  {
   "cell_type": "code",
   "execution_count": 60,
   "metadata": {
    "colab": {
     "base_uri": "https://localhost:8080/"
    },
    "id": "HOprYaIS7jvu",
    "outputId": "eb1f1f6b-cbae-41ef-a28f-c6d90e5ea321"
   },
   "outputs": [
    {
     "name": "stdout",
     "output_type": "stream",
     "text": [
      "0.34042072035461646\n",
      "0.23840965231186811\n",
      "0.25533202628951335\n",
      "0.2580059556571986\n",
      "0.4971176027529728\n",
      "0.21598187899648028\n"
     ]
    },
    {
     "data": {
      "text/plain": [
       "[None, None, None, None, None, None]"
      ]
     },
     "execution_count": 60,
     "metadata": {
      "tags": []
     },
     "output_type": "execute_result"
    }
   ],
   "source": [
    "[print(CP_bleu_results[sec_res]['bleu']) for sec_res in CP_bleu_results]"
   ]
  },
  {
   "cell_type": "code",
   "execution_count": 62,
   "metadata": {
    "id": "b_Dm01zH7jvu"
   },
   "outputs": [],
   "source": [
    "CP_bleu_results_list = [CP_bleu_results[_]['bleu'] for _ in CP_bleu_results]"
   ]
  },
  {
   "cell_type": "code",
   "execution_count": 65,
   "metadata": {
    "colab": {
     "base_uri": "https://localhost:8080/"
    },
    "id": "yhAOa3Pt7jvv",
    "outputId": "2941ba2f-51f1-4c88-890a-7dd117146d52"
   },
   "outputs": [
    {
     "name": "stdout",
     "output_type": "stream",
     "text": [
      "Average - Content_Planner_bleu_results:  0.30087797272710826\n"
     ]
    }
   ],
   "source": [
    "print(\"Average - Content_Planner_bleu_results: \", np.mean(CP_bleu_results_list))"
   ]
  },
  {
   "cell_type": "markdown",
   "metadata": {
    "id": "nNCCU_HM84w-"
   },
   "source": [
    "### BLEU Truncated"
   ]
  },
  {
   "cell_type": "code",
   "execution_count": 74,
   "metadata": {
    "id": "DlQ_eWBE9BNS"
   },
   "outputs": [],
   "source": [
    "CP_trun_bleu_results = {\n",
    "    'section 1': None,\n",
    "    'section 2': None,\n",
    "    'section 3': None,\n",
    "    'section 4': None,\n",
    "    'section 5': None,\n",
    "    'section 6': None\n",
    "}"
   ]
  },
  {
   "cell_type": "code",
   "execution_count": 75,
   "metadata": {
    "id": "d88G99R49BNT"
   },
   "outputs": [],
   "source": [
    "# 1\n",
    "CP_trun_bleu_result_1 = calc_bleu(gold_references=new_content_planner_ref_1.copy(), \n",
    "                                    model_generations=new_content_planner_gen_section_1.copy(),\n",
    "                                    truncation=False,\n",
    "                                    model_tokenizer=None\n",
    "                                    )\n",
    "CP_trun_bleu_results['section 1'] = CP_trun_bleu_result_1\n",
    "\n",
    "# 2\n",
    "CP_trun_bleu_result_2 = calc_bleu(gold_references=new_content_planner_ref_2.copy(), \n",
    "                                    model_generations=new_content_planner_gen_section_2.copy(),\n",
    "                                    truncation=False,\n",
    "                                    model_tokenizer=None\n",
    "                                    )\n",
    "CP_trun_bleu_results['section 2'] = CP_trun_bleu_result_2\n",
    "\n",
    "# 3\n",
    "CP_trun_bleu_result_3 = calc_bleu(gold_references=new_content_planner_ref_3.copy(), \n",
    "                                    model_generations=new_content_planner_gen_section_3.copy(),\n",
    "                                    truncation=False,\n",
    "                                    model_tokenizer=None\n",
    "                                    )\n",
    "CP_trun_bleu_results['section 3'] = CP_trun_bleu_result_3\n",
    "\n",
    "# 4\n",
    "CP_trun_bleu_result_4 = calc_bleu(gold_references=new_content_planner_ref_4.copy(), \n",
    "                                    model_generations=new_content_planner_gen_section_4.copy(),\n",
    "                                    truncation=False,\n",
    "                                    model_tokenizer=None\n",
    "                                    )\n",
    "CP_trun_bleu_results['section 4'] = CP_trun_bleu_result_4\n",
    "\n",
    "# 5\n",
    "CP_trun_bleu_result_5 = calc_bleu(gold_references=new_content_planner_ref_5.copy(), \n",
    "                                    model_generations=new_content_planner_gen_section_5.copy(),\n",
    "                                    truncation=False,\n",
    "                                    model_tokenizer=None\n",
    "                                    )\n",
    "CP_trun_bleu_results['section 5'] = CP_trun_bleu_result_5\n",
    "\n",
    "# 6\n",
    "CP_trun_bleu_result_6 = calc_bleu(gold_references=new_content_planner_ref_6.copy(), \n",
    "                                    model_generations=new_content_planner_gen_section_6.copy(),\n",
    "                                    truncation=False,\n",
    "                                    model_tokenizer=None\n",
    "                                    )\n",
    "CP_trun_bleu_results['section 6'] = CP_trun_bleu_result_6"
   ]
  },
  {
   "cell_type": "code",
   "execution_count": 76,
   "metadata": {
    "colab": {
     "base_uri": "https://localhost:8080/"
    },
    "id": "HXrNc88_9BNU",
    "outputId": "59e4b233-89fd-488b-bf24-ac41b365c79b"
   },
   "outputs": [
    {
     "name": "stdout",
     "output_type": "stream",
     "text": [
      "0.3180841515970607\n",
      "0.28875685763392\n",
      "0.25855276281275813\n",
      "0.29951294727398386\n",
      "0.4971176027529728\n",
      "0.282126122374654\n"
     ]
    },
    {
     "data": {
      "text/plain": [
       "[None, None, None, None, None, None]"
      ]
     },
     "execution_count": 76,
     "metadata": {
      "tags": []
     },
     "output_type": "execute_result"
    }
   ],
   "source": [
    "[print(CP_trun_bleu_results[sec_res]['bleu']) for sec_res in CP_trun_bleu_results]"
   ]
  },
  {
   "cell_type": "code",
   "execution_count": 77,
   "metadata": {
    "id": "taGTJNwv9BNU"
   },
   "outputs": [],
   "source": [
    "CP_trun_bleu_results_list = [CP_trun_bleu_results[_]['bleu'] for _ in CP_trun_bleu_results]"
   ]
  },
  {
   "cell_type": "code",
   "execution_count": 78,
   "metadata": {
    "colab": {
     "base_uri": "https://localhost:8080/"
    },
    "id": "TOfowQnS9BNV",
    "outputId": "7cd0e366-be2a-412f-b23e-39c92dfd5c56"
   },
   "outputs": [
    {
     "name": "stdout",
     "output_type": "stream",
     "text": [
      "Average - Content_Planner_bleu_results:  0.32402507407422493\n"
     ]
    }
   ],
   "source": [
    "print(\"Average - Content_Planner_bleu_results: \", np.mean(CP_trun_bleu_results_list))"
   ]
  },
  {
   "cell_type": "code",
   "execution_count": null,
   "metadata": {
    "id": "wU1Jl0O-v0uL"
   },
   "outputs": [],
   "source": [
    ""
   ]
  },
  {
   "cell_type": "code",
   "execution_count": null,
   "metadata": {
    "id": "NlSxWZ8fvm7C"
   },
   "outputs": [],
   "source": [
    ""
   ]
  },
  {
   "cell_type": "code",
   "execution_count": null,
   "metadata": {
    "id": "EJOj_TQjslXS"
   },
   "outputs": [],
   "source": [
    ""
   ]
  },
  {
   "cell_type": "code",
   "execution_count": null,
   "metadata": {
    "id": "Qh2fj1CislRN"
   },
   "outputs": [],
   "source": [
    ""
   ]
  },
  {
   "cell_type": "code",
   "execution_count": null,
   "metadata": {
    "id": "3fOqFlyLslNa"
   },
   "outputs": [],
   "source": [
    ""
   ]
  },
  {
   "cell_type": "code",
   "execution_count": null,
   "metadata": {
    "id": "ukpMSGnnslGJ"
   },
   "outputs": [],
   "source": [
    ""
   ]
  },
  {
   "cell_type": "code",
   "execution_count": null,
   "metadata": {
    "id": "6wMBAt3psk9S"
   },
   "outputs": [],
   "source": [
    ""
   ]
  },
  {
   "cell_type": "code",
   "execution_count": null,
   "metadata": {
    "id": "O44XJZwMsb95"
   },
   "outputs": [],
   "source": [
    ""
   ]
  }
 ],
 "metadata": {
  "colab": {
   "collapsed_sections": [],
   "name": "[bayer]HF_BLUE_calculations_CP_final.ipynb",
   "provenance": [],
   "toc_visible": true
  },
  "kernelspec": {
   "display_name": "Python 3",
   "name": "python3"
  },
  "language_info": {
   "name": "python"
  },
  "widgets": {
   "application/vnd.jupyter.widget-state+json": {
    "05476c7ebbd8440b8eaaed8f7db7686e": {
     "model_module": "@jupyter-widgets/controls",
     "model_name": "HTMLModel",
     "state": {
      "_dom_classes": [],
      "_model_module": "@jupyter-widgets/controls",
      "_model_module_version": "1.5.0",
      "_model_name": "HTMLModel",
      "_view_count": null,
      "_view_module": "@jupyter-widgets/controls",
      "_view_module_version": "1.5.0",
      "_view_name": "HTMLView",
      "description": "",
      "description_tooltip": null,
      "layout": "IPY_MODEL_2d3e6faf95ec4f45a66c7df256ec96f3",
      "placeholder": "​",
      "style": "IPY_MODEL_9630189c2f074940a360fbb8ff6ac825",
      "value": " 456k/456k [00:00&lt;00:00, 814kB/s]"
     }
    },
    "09f88f2ea9b84006b6528b421eeeb699": {
     "model_module": "@jupyter-widgets/base",
     "model_name": "LayoutModel",
     "state": {
      "_model_module": "@jupyter-widgets/base",
      "_model_module_version": "1.2.0",
      "_model_name": "LayoutModel",
      "_view_count": null,
      "_view_module": "@jupyter-widgets/base",
      "_view_module_version": "1.2.0",
      "_view_name": "LayoutView",
      "align_content": null,
      "align_items": null,
      "align_self": null,
      "border": null,
      "bottom": null,
      "display": null,
      "flex": null,
      "flex_flow": null,
      "grid_area": null,
      "grid_auto_columns": null,
      "grid_auto_flow": null,
      "grid_auto_rows": null,
      "grid_column": null,
      "grid_gap": null,
      "grid_row": null,
      "grid_template_areas": null,
      "grid_template_columns": null,
      "grid_template_rows": null,
      "height": null,
      "justify_content": null,
      "justify_items": null,
      "left": null,
      "margin": null,
      "max_height": null,
      "max_width": null,
      "min_height": null,
      "min_width": null,
      "object_fit": null,
      "object_position": null,
      "order": null,
      "overflow": null,
      "overflow_x": null,
      "overflow_y": null,
      "padding": null,
      "right": null,
      "top": null,
      "visibility": null,
      "width": null
     }
    },
    "1397aaab783d46c99277bc7c4c4ed400": {
     "model_module": "@jupyter-widgets/controls",
     "model_name": "DescriptionStyleModel",
     "state": {
      "_model_module": "@jupyter-widgets/controls",
      "_model_module_version": "1.5.0",
      "_model_name": "DescriptionStyleModel",
      "_view_count": null,
      "_view_module": "@jupyter-widgets/base",
      "_view_module_version": "1.2.0",
      "_view_name": "StyleView",
      "description_width": ""
     }
    },
    "25c0be709c2b484a8ad4c56f7c63b26a": {
     "model_module": "@jupyter-widgets/base",
     "model_name": "LayoutModel",
     "state": {
      "_model_module": "@jupyter-widgets/base",
      "_model_module_version": "1.2.0",
      "_model_name": "LayoutModel",
      "_view_count": null,
      "_view_module": "@jupyter-widgets/base",
      "_view_module_version": "1.2.0",
      "_view_name": "LayoutView",
      "align_content": null,
      "align_items": null,
      "align_self": null,
      "border": null,
      "bottom": null,
      "display": null,
      "flex": null,
      "flex_flow": null,
      "grid_area": null,
      "grid_auto_columns": null,
      "grid_auto_flow": null,
      "grid_auto_rows": null,
      "grid_column": null,
      "grid_gap": null,
      "grid_row": null,
      "grid_template_areas": null,
      "grid_template_columns": null,
      "grid_template_rows": null,
      "height": null,
      "justify_content": null,
      "justify_items": null,
      "left": null,
      "margin": null,
      "max_height": null,
      "max_width": null,
      "min_height": null,
      "min_width": null,
      "object_fit": null,
      "object_position": null,
      "order": null,
      "overflow": null,
      "overflow_x": null,
      "overflow_y": null,
      "padding": null,
      "right": null,
      "top": null,
      "visibility": null,
      "width": null
     }
    },
    "26a1d657607245b7b86a016ab044257b": {
     "model_module": "@jupyter-widgets/base",
     "model_name": "LayoutModel",
     "state": {
      "_model_module": "@jupyter-widgets/base",
      "_model_module_version": "1.2.0",
      "_model_name": "LayoutModel",
      "_view_count": null,
      "_view_module": "@jupyter-widgets/base",
      "_view_module_version": "1.2.0",
      "_view_name": "LayoutView",
      "align_content": null,
      "align_items": null,
      "align_self": null,
      "border": null,
      "bottom": null,
      "display": null,
      "flex": null,
      "flex_flow": null,
      "grid_area": null,
      "grid_auto_columns": null,
      "grid_auto_flow": null,
      "grid_auto_rows": null,
      "grid_column": null,
      "grid_gap": null,
      "grid_row": null,
      "grid_template_areas": null,
      "grid_template_columns": null,
      "grid_template_rows": null,
      "height": null,
      "justify_content": null,
      "justify_items": null,
      "left": null,
      "margin": null,
      "max_height": null,
      "max_width": null,
      "min_height": null,
      "min_width": null,
      "object_fit": null,
      "object_position": null,
      "order": null,
      "overflow": null,
      "overflow_x": null,
      "overflow_y": null,
      "padding": null,
      "right": null,
      "top": null,
      "visibility": null,
      "width": null
     }
    },
    "2d3e6faf95ec4f45a66c7df256ec96f3": {
     "model_module": "@jupyter-widgets/base",
     "model_name": "LayoutModel",
     "state": {
      "_model_module": "@jupyter-widgets/base",
      "_model_module_version": "1.2.0",
      "_model_name": "LayoutModel",
      "_view_count": null,
      "_view_module": "@jupyter-widgets/base",
      "_view_module_version": "1.2.0",
      "_view_name": "LayoutView",
      "align_content": null,
      "align_items": null,
      "align_self": null,
      "border": null,
      "bottom": null,
      "display": null,
      "flex": null,
      "flex_flow": null,
      "grid_area": null,
      "grid_auto_columns": null,
      "grid_auto_flow": null,
      "grid_auto_rows": null,
      "grid_column": null,
      "grid_gap": null,
      "grid_row": null,
      "grid_template_areas": null,
      "grid_template_columns": null,
      "grid_template_rows": null,
      "height": null,
      "justify_content": null,
      "justify_items": null,
      "left": null,
      "margin": null,
      "max_height": null,
      "max_width": null,
      "min_height": null,
      "min_width": null,
      "object_fit": null,
      "object_position": null,
      "order": null,
      "overflow": null,
      "overflow_x": null,
      "overflow_y": null,
      "padding": null,
      "right": null,
      "top": null,
      "visibility": null,
      "width": null
     }
    },
    "2e46c0d7f8d14b1e9bf3ffa111f2743b": {
     "model_module": "@jupyter-widgets/base",
     "model_name": "LayoutModel",
     "state": {
      "_model_module": "@jupyter-widgets/base",
      "_model_module_version": "1.2.0",
      "_model_name": "LayoutModel",
      "_view_count": null,
      "_view_module": "@jupyter-widgets/base",
      "_view_module_version": "1.2.0",
      "_view_name": "LayoutView",
      "align_content": null,
      "align_items": null,
      "align_self": null,
      "border": null,
      "bottom": null,
      "display": null,
      "flex": null,
      "flex_flow": null,
      "grid_area": null,
      "grid_auto_columns": null,
      "grid_auto_flow": null,
      "grid_auto_rows": null,
      "grid_column": null,
      "grid_gap": null,
      "grid_row": null,
      "grid_template_areas": null,
      "grid_template_columns": null,
      "grid_template_rows": null,
      "height": null,
      "justify_content": null,
      "justify_items": null,
      "left": null,
      "margin": null,
      "max_height": null,
      "max_width": null,
      "min_height": null,
      "min_width": null,
      "object_fit": null,
      "object_position": null,
      "order": null,
      "overflow": null,
      "overflow_x": null,
      "overflow_y": null,
      "padding": null,
      "right": null,
      "top": null,
      "visibility": null,
      "width": null
     }
    },
    "307e95bd915a424888fd7ac5092a14ac": {
     "model_module": "@jupyter-widgets/controls",
     "model_name": "ProgressStyleModel",
     "state": {
      "_model_module": "@jupyter-widgets/controls",
      "_model_module_version": "1.5.0",
      "_model_name": "ProgressStyleModel",
      "_view_count": null,
      "_view_module": "@jupyter-widgets/base",
      "_view_module_version": "1.2.0",
      "_view_name": "StyleView",
      "bar_color": null,
      "description_width": "initial"
     }
    },
    "3a2b30a829f543078b5f9fa25cc3b8f9": {
     "model_module": "@jupyter-widgets/controls",
     "model_name": "ProgressStyleModel",
     "state": {
      "_model_module": "@jupyter-widgets/controls",
      "_model_module_version": "1.5.0",
      "_model_name": "ProgressStyleModel",
      "_view_count": null,
      "_view_module": "@jupyter-widgets/base",
      "_view_module_version": "1.2.0",
      "_view_name": "StyleView",
      "bar_color": null,
      "description_width": "initial"
     }
    },
    "3f54592e479248a6a35d424eaf16415a": {
     "model_module": "@jupyter-widgets/controls",
     "model_name": "DescriptionStyleModel",
     "state": {
      "_model_module": "@jupyter-widgets/controls",
      "_model_module_version": "1.5.0",
      "_model_name": "DescriptionStyleModel",
      "_view_count": null,
      "_view_module": "@jupyter-widgets/base",
      "_view_module_version": "1.2.0",
      "_view_name": "StyleView",
      "description_width": ""
     }
    },
    "4017c6884e194fb5953fe891b9e1b0aa": {
     "model_module": "@jupyter-widgets/controls",
     "model_name": "HBoxModel",
     "state": {
      "_dom_classes": [],
      "_model_module": "@jupyter-widgets/controls",
      "_model_module_version": "1.5.0",
      "_model_name": "HBoxModel",
      "_view_count": null,
      "_view_module": "@jupyter-widgets/controls",
      "_view_module_version": "1.5.0",
      "_view_name": "HBoxView",
      "box_style": "",
      "children": [
       "IPY_MODEL_ae73f5bc0c31416dbdf62a503e7bf330",
       "IPY_MODEL_a054abb57a60437c92816568f0fdbea5"
      ],
      "layout": "IPY_MODEL_889483b2c8d4409794c4502f1d60b055"
     }
    },
    "414ae630f7d3464cb4b7799926f47804": {
     "model_module": "@jupyter-widgets/controls",
     "model_name": "FloatProgressModel",
     "state": {
      "_dom_classes": [],
      "_model_module": "@jupyter-widgets/controls",
      "_model_module_version": "1.5.0",
      "_model_name": "FloatProgressModel",
      "_view_count": null,
      "_view_module": "@jupyter-widgets/controls",
      "_view_module_version": "1.5.0",
      "_view_name": "ProgressView",
      "bar_style": "success",
      "description": "Downloading: 100%",
      "description_tooltip": null,
      "layout": "IPY_MODEL_6f34f93321c54776a43f2411e037a4a2",
      "max": 898823,
      "min": 0,
      "orientation": "horizontal",
      "style": "IPY_MODEL_aacdd342007f4180af6e9937ab43c2f0",
      "value": 898823
     }
    },
    "45f10babeeae4cb283c17490ef28d233": {
     "model_module": "@jupyter-widgets/base",
     "model_name": "LayoutModel",
     "state": {
      "_model_module": "@jupyter-widgets/base",
      "_model_module_version": "1.2.0",
      "_model_name": "LayoutModel",
      "_view_count": null,
      "_view_module": "@jupyter-widgets/base",
      "_view_module_version": "1.2.0",
      "_view_name": "LayoutView",
      "align_content": null,
      "align_items": null,
      "align_self": null,
      "border": null,
      "bottom": null,
      "display": null,
      "flex": null,
      "flex_flow": null,
      "grid_area": null,
      "grid_auto_columns": null,
      "grid_auto_flow": null,
      "grid_auto_rows": null,
      "grid_column": null,
      "grid_gap": null,
      "grid_row": null,
      "grid_template_areas": null,
      "grid_template_columns": null,
      "grid_template_rows": null,
      "height": null,
      "justify_content": null,
      "justify_items": null,
      "left": null,
      "margin": null,
      "max_height": null,
      "max_width": null,
      "min_height": null,
      "min_width": null,
      "object_fit": null,
      "object_position": null,
      "order": null,
      "overflow": null,
      "overflow_x": null,
      "overflow_y": null,
      "padding": null,
      "right": null,
      "top": null,
      "visibility": null,
      "width": null
     }
    },
    "47889115403540abb43ff21e79dcfddb": {
     "model_module": "@jupyter-widgets/controls",
     "model_name": "HTMLModel",
     "state": {
      "_dom_classes": [],
      "_model_module": "@jupyter-widgets/controls",
      "_model_module_version": "1.5.0",
      "_model_name": "HTMLModel",
      "_view_count": null,
      "_view_module": "@jupyter-widgets/controls",
      "_view_module_version": "1.5.0",
      "_view_name": "HTMLView",
      "description": "",
      "description_tooltip": null,
      "layout": "IPY_MODEL_ef3d0ec29b4048258ed54c1202dc0267",
      "placeholder": "​",
      "style": "IPY_MODEL_3f54592e479248a6a35d424eaf16415a",
      "value": " 899k/899k [00:00&lt;00:00, 1.11MB/s]"
     }
    },
    "4fa60bdffb26419fae9fe2b3c8e1909e": {
     "model_module": "@jupyter-widgets/controls",
     "model_name": "DescriptionStyleModel",
     "state": {
      "_model_module": "@jupyter-widgets/controls",
      "_model_module_version": "1.5.0",
      "_model_name": "DescriptionStyleModel",
      "_view_count": null,
      "_view_module": "@jupyter-widgets/base",
      "_view_module_version": "1.2.0",
      "_view_name": "StyleView",
      "description_width": ""
     }
    },
    "4fa84d56e55f4b8c89d8588f79c0e532": {
     "model_module": "@jupyter-widgets/controls",
     "model_name": "HTMLModel",
     "state": {
      "_dom_classes": [],
      "_model_module": "@jupyter-widgets/controls",
      "_model_module_version": "1.5.0",
      "_model_name": "HTMLModel",
      "_view_count": null,
      "_view_module": "@jupyter-widgets/controls",
      "_view_module_version": "1.5.0",
      "_view_name": "HTMLView",
      "description": "",
      "description_tooltip": null,
      "layout": "IPY_MODEL_b1535d19b9a3430da83594d9da6b5e06",
      "placeholder": "​",
      "style": "IPY_MODEL_4fa60bdffb26419fae9fe2b3c8e1909e",
      "value": " 6.08k/? [00:00&lt;00:00, 7.85kB/s]"
     }
    },
    "503123e4837a471a822bd5483c939b43": {
     "model_module": "@jupyter-widgets/controls",
     "model_name": "FloatProgressModel",
     "state": {
      "_dom_classes": [],
      "_model_module": "@jupyter-widgets/controls",
      "_model_module_version": "1.5.0",
      "_model_name": "FloatProgressModel",
      "_view_count": null,
      "_view_module": "@jupyter-widgets/controls",
      "_view_module_version": "1.5.0",
      "_view_name": "ProgressView",
      "bar_style": "success",
      "description": "Downloading: 100%",
      "description_tooltip": null,
      "layout": "IPY_MODEL_25c0be709c2b484a8ad4c56f7c63b26a",
      "max": 791656,
      "min": 0,
      "orientation": "horizontal",
      "style": "IPY_MODEL_c12c9c263ebd47c8abb460845c5b5c90",
      "value": 791656
     }
    },
    "5cb0f771a9c545c883fc2a36c4de5499": {
     "model_module": "@jupyter-widgets/controls",
     "model_name": "HTMLModel",
     "state": {
      "_dom_classes": [],
      "_model_module": "@jupyter-widgets/controls",
      "_model_module_version": "1.5.0",
      "_model_name": "HTMLModel",
      "_view_count": null,
      "_view_module": "@jupyter-widgets/controls",
      "_view_module_version": "1.5.0",
      "_view_name": "HTMLView",
      "description": "",
      "description_tooltip": null,
      "layout": "IPY_MODEL_d59b0b8b07974c98b6a1da766dc60ca6",
      "placeholder": "​",
      "style": "IPY_MODEL_a388e19743954929bee14699d4e3e54f",
      "value": " 1.36M/1.36M [00:00&lt;00:00, 7.12MB/s]"
     }
    },
    "61c2322317d9418890ded99d4b629021": {
     "model_module": "@jupyter-widgets/controls",
     "model_name": "FloatProgressModel",
     "state": {
      "_dom_classes": [],
      "_model_module": "@jupyter-widgets/controls",
      "_model_module_version": "1.5.0",
      "_model_name": "FloatProgressModel",
      "_view_count": null,
      "_view_module": "@jupyter-widgets/controls",
      "_view_module_version": "1.5.0",
      "_view_name": "ProgressView",
      "bar_style": "success",
      "description": "Downloading: 100%",
      "description_tooltip": null,
      "layout": "IPY_MODEL_d7c48b4f6cc7488eb0cb2740f71db33b",
      "max": 1389353,
      "min": 0,
      "orientation": "horizontal",
      "style": "IPY_MODEL_770b8145687d46ebb7795ffdce804d67",
      "value": 1389353
     }
    },
    "623e2e8534af4b2a8a10f2ec2f660f53": {
     "model_module": "@jupyter-widgets/controls",
     "model_name": "HTMLModel",
     "state": {
      "_dom_classes": [],
      "_model_module": "@jupyter-widgets/controls",
      "_model_module_version": "1.5.0",
      "_model_name": "HTMLModel",
      "_view_count": null,
      "_view_module": "@jupyter-widgets/controls",
      "_view_module_version": "1.5.0",
      "_view_name": "HTMLView",
      "description": "",
      "description_tooltip": null,
      "layout": "IPY_MODEL_45f10babeeae4cb283c17490ef28d233",
      "placeholder": "​",
      "style": "IPY_MODEL_d3b438d175274625a204090076422bbf",
      "value": " 1.39M/1.39M [00:00&lt;00:00, 4.53MB/s]"
     }
    },
    "63471d410e8a4f69b1c6654492eb3c79": {
     "model_module": "@jupyter-widgets/base",
     "model_name": "LayoutModel",
     "state": {
      "_model_module": "@jupyter-widgets/base",
      "_model_module_version": "1.2.0",
      "_model_name": "LayoutModel",
      "_view_count": null,
      "_view_module": "@jupyter-widgets/base",
      "_view_module_version": "1.2.0",
      "_view_name": "LayoutView",
      "align_content": null,
      "align_items": null,
      "align_self": null,
      "border": null,
      "bottom": null,
      "display": null,
      "flex": null,
      "flex_flow": null,
      "grid_area": null,
      "grid_auto_columns": null,
      "grid_auto_flow": null,
      "grid_auto_rows": null,
      "grid_column": null,
      "grid_gap": null,
      "grid_row": null,
      "grid_template_areas": null,
      "grid_template_columns": null,
      "grid_template_rows": null,
      "height": null,
      "justify_content": null,
      "justify_items": null,
      "left": null,
      "margin": null,
      "max_height": null,
      "max_width": null,
      "min_height": null,
      "min_width": null,
      "object_fit": null,
      "object_position": null,
      "order": null,
      "overflow": null,
      "overflow_x": null,
      "overflow_y": null,
      "padding": null,
      "right": null,
      "top": null,
      "visibility": null,
      "width": null
     }
    },
    "653b8a276dfb4f7fbe6f1aa73aff94f3": {
     "model_module": "@jupyter-widgets/base",
     "model_name": "LayoutModel",
     "state": {
      "_model_module": "@jupyter-widgets/base",
      "_model_module_version": "1.2.0",
      "_model_name": "LayoutModel",
      "_view_count": null,
      "_view_module": "@jupyter-widgets/base",
      "_view_module_version": "1.2.0",
      "_view_name": "LayoutView",
      "align_content": null,
      "align_items": null,
      "align_self": null,
      "border": null,
      "bottom": null,
      "display": null,
      "flex": null,
      "flex_flow": null,
      "grid_area": null,
      "grid_auto_columns": null,
      "grid_auto_flow": null,
      "grid_auto_rows": null,
      "grid_column": null,
      "grid_gap": null,
      "grid_row": null,
      "grid_template_areas": null,
      "grid_template_columns": null,
      "grid_template_rows": null,
      "height": null,
      "justify_content": null,
      "justify_items": null,
      "left": null,
      "margin": null,
      "max_height": null,
      "max_width": null,
      "min_height": null,
      "min_width": null,
      "object_fit": null,
      "object_position": null,
      "order": null,
      "overflow": null,
      "overflow_x": null,
      "overflow_y": null,
      "padding": null,
      "right": null,
      "top": null,
      "visibility": null,
      "width": null
     }
    },
    "6bbd34318c7441c0a35d139b8fecf5be": {
     "model_module": "@jupyter-widgets/controls",
     "model_name": "HBoxModel",
     "state": {
      "_dom_classes": [],
      "_model_module": "@jupyter-widgets/controls",
      "_model_module_version": "1.5.0",
      "_model_name": "HBoxModel",
      "_view_count": null,
      "_view_module": "@jupyter-widgets/controls",
      "_view_module_version": "1.5.0",
      "_view_name": "HBoxView",
      "box_style": "",
      "children": [
       "IPY_MODEL_414ae630f7d3464cb4b7799926f47804",
       "IPY_MODEL_47889115403540abb43ff21e79dcfddb"
      ],
      "layout": "IPY_MODEL_63471d410e8a4f69b1c6654492eb3c79"
     }
    },
    "6d2d672f0bb24a71b58b687d10897ab4": {
     "model_module": "@jupyter-widgets/base",
     "model_name": "LayoutModel",
     "state": {
      "_model_module": "@jupyter-widgets/base",
      "_model_module_version": "1.2.0",
      "_model_name": "LayoutModel",
      "_view_count": null,
      "_view_module": "@jupyter-widgets/base",
      "_view_module_version": "1.2.0",
      "_view_name": "LayoutView",
      "align_content": null,
      "align_items": null,
      "align_self": null,
      "border": null,
      "bottom": null,
      "display": null,
      "flex": null,
      "flex_flow": null,
      "grid_area": null,
      "grid_auto_columns": null,
      "grid_auto_flow": null,
      "grid_auto_rows": null,
      "grid_column": null,
      "grid_gap": null,
      "grid_row": null,
      "grid_template_areas": null,
      "grid_template_columns": null,
      "grid_template_rows": null,
      "height": null,
      "justify_content": null,
      "justify_items": null,
      "left": null,
      "margin": null,
      "max_height": null,
      "max_width": null,
      "min_height": null,
      "min_width": null,
      "object_fit": null,
      "object_position": null,
      "order": null,
      "overflow": null,
      "overflow_x": null,
      "overflow_y": null,
      "padding": null,
      "right": null,
      "top": null,
      "visibility": null,
      "width": null
     }
    },
    "6f34f93321c54776a43f2411e037a4a2": {
     "model_module": "@jupyter-widgets/base",
     "model_name": "LayoutModel",
     "state": {
      "_model_module": "@jupyter-widgets/base",
      "_model_module_version": "1.2.0",
      "_model_name": "LayoutModel",
      "_view_count": null,
      "_view_module": "@jupyter-widgets/base",
      "_view_module_version": "1.2.0",
      "_view_name": "LayoutView",
      "align_content": null,
      "align_items": null,
      "align_self": null,
      "border": null,
      "bottom": null,
      "display": null,
      "flex": null,
      "flex_flow": null,
      "grid_area": null,
      "grid_auto_columns": null,
      "grid_auto_flow": null,
      "grid_auto_rows": null,
      "grid_column": null,
      "grid_gap": null,
      "grid_row": null,
      "grid_template_areas": null,
      "grid_template_columns": null,
      "grid_template_rows": null,
      "height": null,
      "justify_content": null,
      "justify_items": null,
      "left": null,
      "margin": null,
      "max_height": null,
      "max_width": null,
      "min_height": null,
      "min_width": null,
      "object_fit": null,
      "object_position": null,
      "order": null,
      "overflow": null,
      "overflow_x": null,
      "overflow_y": null,
      "padding": null,
      "right": null,
      "top": null,
      "visibility": null,
      "width": null
     }
    },
    "73106b9f60314dd9a84140532ac76846": {
     "model_module": "@jupyter-widgets/controls",
     "model_name": "HBoxModel",
     "state": {
      "_dom_classes": [],
      "_model_module": "@jupyter-widgets/controls",
      "_model_module_version": "1.5.0",
      "_model_name": "HBoxModel",
      "_view_count": null,
      "_view_module": "@jupyter-widgets/controls",
      "_view_module_version": "1.5.0",
      "_view_name": "HBoxView",
      "box_style": "",
      "children": [
       "IPY_MODEL_503123e4837a471a822bd5483c939b43",
       "IPY_MODEL_f4b9274475304aac8b808760d2286d4e"
      ],
      "layout": "IPY_MODEL_2e46c0d7f8d14b1e9bf3ffa111f2743b"
     }
    },
    "770b8145687d46ebb7795ffdce804d67": {
     "model_module": "@jupyter-widgets/controls",
     "model_name": "ProgressStyleModel",
     "state": {
      "_model_module": "@jupyter-widgets/controls",
      "_model_module_version": "1.5.0",
      "_model_name": "ProgressStyleModel",
      "_view_count": null,
      "_view_module": "@jupyter-widgets/base",
      "_view_module_version": "1.2.0",
      "_view_name": "StyleView",
      "bar_color": null,
      "description_width": "initial"
     }
    },
    "889483b2c8d4409794c4502f1d60b055": {
     "model_module": "@jupyter-widgets/base",
     "model_name": "LayoutModel",
     "state": {
      "_model_module": "@jupyter-widgets/base",
      "_model_module_version": "1.2.0",
      "_model_name": "LayoutModel",
      "_view_count": null,
      "_view_module": "@jupyter-widgets/base",
      "_view_module_version": "1.2.0",
      "_view_name": "LayoutView",
      "align_content": null,
      "align_items": null,
      "align_self": null,
      "border": null,
      "bottom": null,
      "display": null,
      "flex": null,
      "flex_flow": null,
      "grid_area": null,
      "grid_auto_columns": null,
      "grid_auto_flow": null,
      "grid_auto_rows": null,
      "grid_column": null,
      "grid_gap": null,
      "grid_row": null,
      "grid_template_areas": null,
      "grid_template_columns": null,
      "grid_template_rows": null,
      "height": null,
      "justify_content": null,
      "justify_items": null,
      "left": null,
      "margin": null,
      "max_height": null,
      "max_width": null,
      "min_height": null,
      "min_width": null,
      "object_fit": null,
      "object_position": null,
      "order": null,
      "overflow": null,
      "overflow_x": null,
      "overflow_y": null,
      "padding": null,
      "right": null,
      "top": null,
      "visibility": null,
      "width": null
     }
    },
    "9401e92f88f8401185e92a8c547324f2": {
     "model_module": "@jupyter-widgets/controls",
     "model_name": "FloatProgressModel",
     "state": {
      "_dom_classes": [],
      "_model_module": "@jupyter-widgets/controls",
      "_model_module_version": "1.5.0",
      "_model_name": "FloatProgressModel",
      "_view_count": null,
      "_view_module": "@jupyter-widgets/controls",
      "_view_module_version": "1.5.0",
      "_view_name": "ProgressView",
      "bar_style": "success",
      "description": "Downloading: 100%",
      "description_tooltip": null,
      "layout": "IPY_MODEL_09f88f2ea9b84006b6528b421eeeb699",
      "max": 456318,
      "min": 0,
      "orientation": "horizontal",
      "style": "IPY_MODEL_307e95bd915a424888fd7ac5092a14ac",
      "value": 456318
     }
    },
    "9630189c2f074940a360fbb8ff6ac825": {
     "model_module": "@jupyter-widgets/controls",
     "model_name": "DescriptionStyleModel",
     "state": {
      "_model_module": "@jupyter-widgets/controls",
      "_model_module_version": "1.5.0",
      "_model_name": "DescriptionStyleModel",
      "_view_count": null,
      "_view_module": "@jupyter-widgets/base",
      "_view_module_version": "1.2.0",
      "_view_name": "StyleView",
      "description_width": ""
     }
    },
    "980acef0b68f4fb8b38090b363721a2c": {
     "model_module": "@jupyter-widgets/controls",
     "model_name": "HBoxModel",
     "state": {
      "_dom_classes": [],
      "_model_module": "@jupyter-widgets/controls",
      "_model_module_version": "1.5.0",
      "_model_name": "HBoxModel",
      "_view_count": null,
      "_view_module": "@jupyter-widgets/controls",
      "_view_module_version": "1.5.0",
      "_view_name": "HBoxView",
      "box_style": "",
      "children": [
       "IPY_MODEL_9401e92f88f8401185e92a8c547324f2",
       "IPY_MODEL_05476c7ebbd8440b8eaaed8f7db7686e"
      ],
      "layout": "IPY_MODEL_a01940c4095f4b3aa2c6e3bb4f261714"
     }
    },
    "a01940c4095f4b3aa2c6e3bb4f261714": {
     "model_module": "@jupyter-widgets/base",
     "model_name": "LayoutModel",
     "state": {
      "_model_module": "@jupyter-widgets/base",
      "_model_module_version": "1.2.0",
      "_model_name": "LayoutModel",
      "_view_count": null,
      "_view_module": "@jupyter-widgets/base",
      "_view_module_version": "1.2.0",
      "_view_name": "LayoutView",
      "align_content": null,
      "align_items": null,
      "align_self": null,
      "border": null,
      "bottom": null,
      "display": null,
      "flex": null,
      "flex_flow": null,
      "grid_area": null,
      "grid_auto_columns": null,
      "grid_auto_flow": null,
      "grid_auto_rows": null,
      "grid_column": null,
      "grid_gap": null,
      "grid_row": null,
      "grid_template_areas": null,
      "grid_template_columns": null,
      "grid_template_rows": null,
      "height": null,
      "justify_content": null,
      "justify_items": null,
      "left": null,
      "margin": null,
      "max_height": null,
      "max_width": null,
      "min_height": null,
      "min_width": null,
      "object_fit": null,
      "object_position": null,
      "order": null,
      "overflow": null,
      "overflow_x": null,
      "overflow_y": null,
      "padding": null,
      "right": null,
      "top": null,
      "visibility": null,
      "width": null
     }
    },
    "a054abb57a60437c92816568f0fdbea5": {
     "model_module": "@jupyter-widgets/controls",
     "model_name": "HTMLModel",
     "state": {
      "_dom_classes": [],
      "_model_module": "@jupyter-widgets/controls",
      "_model_module_version": "1.5.0",
      "_model_name": "HTMLModel",
      "_view_count": null,
      "_view_module": "@jupyter-widgets/controls",
      "_view_module_version": "1.5.0",
      "_view_name": "HTMLView",
      "description": "",
      "description_tooltip": null,
      "layout": "IPY_MODEL_653b8a276dfb4f7fbe6f1aa73aff94f3",
      "placeholder": "​",
      "style": "IPY_MODEL_e0be466bafd14e41a69223df832b5839",
      "value": " 4.07k/? [00:01&lt;00:00, 3.24kB/s]"
     }
    },
    "a388e19743954929bee14699d4e3e54f": {
     "model_module": "@jupyter-widgets/controls",
     "model_name": "DescriptionStyleModel",
     "state": {
      "_model_module": "@jupyter-widgets/controls",
      "_model_module_version": "1.5.0",
      "_model_name": "DescriptionStyleModel",
      "_view_count": null,
      "_view_module": "@jupyter-widgets/base",
      "_view_module_version": "1.2.0",
      "_view_name": "StyleView",
      "description_width": ""
     }
    },
    "aa5be53297fb4d81bdd502a059b1b92a": {
     "model_module": "@jupyter-widgets/base",
     "model_name": "LayoutModel",
     "state": {
      "_model_module": "@jupyter-widgets/base",
      "_model_module_version": "1.2.0",
      "_model_name": "LayoutModel",
      "_view_count": null,
      "_view_module": "@jupyter-widgets/base",
      "_view_module_version": "1.2.0",
      "_view_name": "LayoutView",
      "align_content": null,
      "align_items": null,
      "align_self": null,
      "border": null,
      "bottom": null,
      "display": null,
      "flex": null,
      "flex_flow": null,
      "grid_area": null,
      "grid_auto_columns": null,
      "grid_auto_flow": null,
      "grid_auto_rows": null,
      "grid_column": null,
      "grid_gap": null,
      "grid_row": null,
      "grid_template_areas": null,
      "grid_template_columns": null,
      "grid_template_rows": null,
      "height": null,
      "justify_content": null,
      "justify_items": null,
      "left": null,
      "margin": null,
      "max_height": null,
      "max_width": null,
      "min_height": null,
      "min_width": null,
      "object_fit": null,
      "object_position": null,
      "order": null,
      "overflow": null,
      "overflow_x": null,
      "overflow_y": null,
      "padding": null,
      "right": null,
      "top": null,
      "visibility": null,
      "width": null
     }
    },
    "aacdd342007f4180af6e9937ab43c2f0": {
     "model_module": "@jupyter-widgets/controls",
     "model_name": "ProgressStyleModel",
     "state": {
      "_model_module": "@jupyter-widgets/controls",
      "_model_module_version": "1.5.0",
      "_model_name": "ProgressStyleModel",
      "_view_count": null,
      "_view_module": "@jupyter-widgets/base",
      "_view_module_version": "1.2.0",
      "_view_name": "StyleView",
      "bar_color": null,
      "description_width": "initial"
     }
    },
    "ae73f5bc0c31416dbdf62a503e7bf330": {
     "model_module": "@jupyter-widgets/controls",
     "model_name": "FloatProgressModel",
     "state": {
      "_dom_classes": [],
      "_model_module": "@jupyter-widgets/controls",
      "_model_module_version": "1.5.0",
      "_model_name": "FloatProgressModel",
      "_view_count": null,
      "_view_module": "@jupyter-widgets/controls",
      "_view_module_version": "1.5.0",
      "_view_name": "ProgressView",
      "bar_style": "success",
      "description": "Downloading: ",
      "description_tooltip": null,
      "layout": "IPY_MODEL_f21f639991e04b02aa40eeb60bbc9731",
      "max": 1554,
      "min": 0,
      "orientation": "horizontal",
      "style": "IPY_MODEL_eb969d12a84e4e09a3b54dd65dc52d0a",
      "value": 1554
     }
    },
    "b0a0ce8518974fb98cc86c387cbacbc8": {
     "model_module": "@jupyter-widgets/base",
     "model_name": "LayoutModel",
     "state": {
      "_model_module": "@jupyter-widgets/base",
      "_model_module_version": "1.2.0",
      "_model_name": "LayoutModel",
      "_view_count": null,
      "_view_module": "@jupyter-widgets/base",
      "_view_module_version": "1.2.0",
      "_view_name": "LayoutView",
      "align_content": null,
      "align_items": null,
      "align_self": null,
      "border": null,
      "bottom": null,
      "display": null,
      "flex": null,
      "flex_flow": null,
      "grid_area": null,
      "grid_auto_columns": null,
      "grid_auto_flow": null,
      "grid_auto_rows": null,
      "grid_column": null,
      "grid_gap": null,
      "grid_row": null,
      "grid_template_areas": null,
      "grid_template_columns": null,
      "grid_template_rows": null,
      "height": null,
      "justify_content": null,
      "justify_items": null,
      "left": null,
      "margin": null,
      "max_height": null,
      "max_width": null,
      "min_height": null,
      "min_width": null,
      "object_fit": null,
      "object_position": null,
      "order": null,
      "overflow": null,
      "overflow_x": null,
      "overflow_y": null,
      "padding": null,
      "right": null,
      "top": null,
      "visibility": null,
      "width": null
     }
    },
    "b1535d19b9a3430da83594d9da6b5e06": {
     "model_module": "@jupyter-widgets/base",
     "model_name": "LayoutModel",
     "state": {
      "_model_module": "@jupyter-widgets/base",
      "_model_module_version": "1.2.0",
      "_model_name": "LayoutModel",
      "_view_count": null,
      "_view_module": "@jupyter-widgets/base",
      "_view_module_version": "1.2.0",
      "_view_name": "LayoutView",
      "align_content": null,
      "align_items": null,
      "align_self": null,
      "border": null,
      "bottom": null,
      "display": null,
      "flex": null,
      "flex_flow": null,
      "grid_area": null,
      "grid_auto_columns": null,
      "grid_auto_flow": null,
      "grid_auto_rows": null,
      "grid_column": null,
      "grid_gap": null,
      "grid_row": null,
      "grid_template_areas": null,
      "grid_template_columns": null,
      "grid_template_rows": null,
      "height": null,
      "justify_content": null,
      "justify_items": null,
      "left": null,
      "margin": null,
      "max_height": null,
      "max_width": null,
      "min_height": null,
      "min_width": null,
      "object_fit": null,
      "object_position": null,
      "order": null,
      "overflow": null,
      "overflow_x": null,
      "overflow_y": null,
      "padding": null,
      "right": null,
      "top": null,
      "visibility": null,
      "width": null
     }
    },
    "b25abe48ea194d088806f2bae1391553": {
     "model_module": "@jupyter-widgets/controls",
     "model_name": "FloatProgressModel",
     "state": {
      "_dom_classes": [],
      "_model_module": "@jupyter-widgets/controls",
      "_model_module_version": "1.5.0",
      "_model_name": "FloatProgressModel",
      "_view_count": null,
      "_view_module": "@jupyter-widgets/controls",
      "_view_module_version": "1.5.0",
      "_view_name": "ProgressView",
      "bar_style": "success",
      "description": "Downloading: 100%",
      "description_tooltip": null,
      "layout": "IPY_MODEL_b538dc23cb91456488886cce22296042",
      "max": 1355863,
      "min": 0,
      "orientation": "horizontal",
      "style": "IPY_MODEL_c471d926c06540a3bec3ff59c1916cb9",
      "value": 1355863
     }
    },
    "b538dc23cb91456488886cce22296042": {
     "model_module": "@jupyter-widgets/base",
     "model_name": "LayoutModel",
     "state": {
      "_model_module": "@jupyter-widgets/base",
      "_model_module_version": "1.2.0",
      "_model_name": "LayoutModel",
      "_view_count": null,
      "_view_module": "@jupyter-widgets/base",
      "_view_module_version": "1.2.0",
      "_view_name": "LayoutView",
      "align_content": null,
      "align_items": null,
      "align_self": null,
      "border": null,
      "bottom": null,
      "display": null,
      "flex": null,
      "flex_flow": null,
      "grid_area": null,
      "grid_auto_columns": null,
      "grid_auto_flow": null,
      "grid_auto_rows": null,
      "grid_column": null,
      "grid_gap": null,
      "grid_row": null,
      "grid_template_areas": null,
      "grid_template_columns": null,
      "grid_template_rows": null,
      "height": null,
      "justify_content": null,
      "justify_items": null,
      "left": null,
      "margin": null,
      "max_height": null,
      "max_width": null,
      "min_height": null,
      "min_width": null,
      "object_fit": null,
      "object_position": null,
      "order": null,
      "overflow": null,
      "overflow_x": null,
      "overflow_y": null,
      "padding": null,
      "right": null,
      "top": null,
      "visibility": null,
      "width": null
     }
    },
    "b801ee7799984ddfb8799616ccc58f34": {
     "model_module": "@jupyter-widgets/controls",
     "model_name": "HBoxModel",
     "state": {
      "_dom_classes": [],
      "_model_module": "@jupyter-widgets/controls",
      "_model_module_version": "1.5.0",
      "_model_name": "HBoxModel",
      "_view_count": null,
      "_view_module": "@jupyter-widgets/controls",
      "_view_module_version": "1.5.0",
      "_view_name": "HBoxView",
      "box_style": "",
      "children": [
       "IPY_MODEL_b25abe48ea194d088806f2bae1391553",
       "IPY_MODEL_5cb0f771a9c545c883fc2a36c4de5499"
      ],
      "layout": "IPY_MODEL_aa5be53297fb4d81bdd502a059b1b92a"
     }
    },
    "c12c9c263ebd47c8abb460845c5b5c90": {
     "model_module": "@jupyter-widgets/controls",
     "model_name": "ProgressStyleModel",
     "state": {
      "_model_module": "@jupyter-widgets/controls",
      "_model_module_version": "1.5.0",
      "_model_name": "ProgressStyleModel",
      "_view_count": null,
      "_view_module": "@jupyter-widgets/base",
      "_view_module_version": "1.2.0",
      "_view_name": "StyleView",
      "bar_color": null,
      "description_width": "initial"
     }
    },
    "c471d926c06540a3bec3ff59c1916cb9": {
     "model_module": "@jupyter-widgets/controls",
     "model_name": "ProgressStyleModel",
     "state": {
      "_model_module": "@jupyter-widgets/controls",
      "_model_module_version": "1.5.0",
      "_model_name": "ProgressStyleModel",
      "_view_count": null,
      "_view_module": "@jupyter-widgets/base",
      "_view_module_version": "1.2.0",
      "_view_name": "StyleView",
      "bar_color": null,
      "description_width": "initial"
     }
    },
    "cb5d4aadb8e24adbbe577ede4819c8dc": {
     "model_module": "@jupyter-widgets/base",
     "model_name": "LayoutModel",
     "state": {
      "_model_module": "@jupyter-widgets/base",
      "_model_module_version": "1.2.0",
      "_model_name": "LayoutModel",
      "_view_count": null,
      "_view_module": "@jupyter-widgets/base",
      "_view_module_version": "1.2.0",
      "_view_name": "LayoutView",
      "align_content": null,
      "align_items": null,
      "align_self": null,
      "border": null,
      "bottom": null,
      "display": null,
      "flex": null,
      "flex_flow": null,
      "grid_area": null,
      "grid_auto_columns": null,
      "grid_auto_flow": null,
      "grid_auto_rows": null,
      "grid_column": null,
      "grid_gap": null,
      "grid_row": null,
      "grid_template_areas": null,
      "grid_template_columns": null,
      "grid_template_rows": null,
      "height": null,
      "justify_content": null,
      "justify_items": null,
      "left": null,
      "margin": null,
      "max_height": null,
      "max_width": null,
      "min_height": null,
      "min_width": null,
      "object_fit": null,
      "object_position": null,
      "order": null,
      "overflow": null,
      "overflow_x": null,
      "overflow_y": null,
      "padding": null,
      "right": null,
      "top": null,
      "visibility": null,
      "width": null
     }
    },
    "d3b438d175274625a204090076422bbf": {
     "model_module": "@jupyter-widgets/controls",
     "model_name": "DescriptionStyleModel",
     "state": {
      "_model_module": "@jupyter-widgets/controls",
      "_model_module_version": "1.5.0",
      "_model_name": "DescriptionStyleModel",
      "_view_count": null,
      "_view_module": "@jupyter-widgets/base",
      "_view_module_version": "1.2.0",
      "_view_name": "StyleView",
      "description_width": ""
     }
    },
    "d59b0b8b07974c98b6a1da766dc60ca6": {
     "model_module": "@jupyter-widgets/base",
     "model_name": "LayoutModel",
     "state": {
      "_model_module": "@jupyter-widgets/base",
      "_model_module_version": "1.2.0",
      "_model_name": "LayoutModel",
      "_view_count": null,
      "_view_module": "@jupyter-widgets/base",
      "_view_module_version": "1.2.0",
      "_view_name": "LayoutView",
      "align_content": null,
      "align_items": null,
      "align_self": null,
      "border": null,
      "bottom": null,
      "display": null,
      "flex": null,
      "flex_flow": null,
      "grid_area": null,
      "grid_auto_columns": null,
      "grid_auto_flow": null,
      "grid_auto_rows": null,
      "grid_column": null,
      "grid_gap": null,
      "grid_row": null,
      "grid_template_areas": null,
      "grid_template_columns": null,
      "grid_template_rows": null,
      "height": null,
      "justify_content": null,
      "justify_items": null,
      "left": null,
      "margin": null,
      "max_height": null,
      "max_width": null,
      "min_height": null,
      "min_width": null,
      "object_fit": null,
      "object_position": null,
      "order": null,
      "overflow": null,
      "overflow_x": null,
      "overflow_y": null,
      "padding": null,
      "right": null,
      "top": null,
      "visibility": null,
      "width": null
     }
    },
    "d74ae5fd3b7349b08c37793ed2a28377": {
     "model_module": "@jupyter-widgets/controls",
     "model_name": "HBoxModel",
     "state": {
      "_dom_classes": [],
      "_model_module": "@jupyter-widgets/controls",
      "_model_module_version": "1.5.0",
      "_model_name": "HBoxModel",
      "_view_count": null,
      "_view_module": "@jupyter-widgets/controls",
      "_view_module_version": "1.5.0",
      "_view_name": "HBoxView",
      "box_style": "",
      "children": [
       "IPY_MODEL_61c2322317d9418890ded99d4b629021",
       "IPY_MODEL_623e2e8534af4b2a8a10f2ec2f660f53"
      ],
      "layout": "IPY_MODEL_cb5d4aadb8e24adbbe577ede4819c8dc"
     }
    },
    "d7c48b4f6cc7488eb0cb2740f71db33b": {
     "model_module": "@jupyter-widgets/base",
     "model_name": "LayoutModel",
     "state": {
      "_model_module": "@jupyter-widgets/base",
      "_model_module_version": "1.2.0",
      "_model_name": "LayoutModel",
      "_view_count": null,
      "_view_module": "@jupyter-widgets/base",
      "_view_module_version": "1.2.0",
      "_view_name": "LayoutView",
      "align_content": null,
      "align_items": null,
      "align_self": null,
      "border": null,
      "bottom": null,
      "display": null,
      "flex": null,
      "flex_flow": null,
      "grid_area": null,
      "grid_auto_columns": null,
      "grid_auto_flow": null,
      "grid_auto_rows": null,
      "grid_column": null,
      "grid_gap": null,
      "grid_row": null,
      "grid_template_areas": null,
      "grid_template_columns": null,
      "grid_template_rows": null,
      "height": null,
      "justify_content": null,
      "justify_items": null,
      "left": null,
      "margin": null,
      "max_height": null,
      "max_width": null,
      "min_height": null,
      "min_width": null,
      "object_fit": null,
      "object_position": null,
      "order": null,
      "overflow": null,
      "overflow_x": null,
      "overflow_y": null,
      "padding": null,
      "right": null,
      "top": null,
      "visibility": null,
      "width": null
     }
    },
    "e0be466bafd14e41a69223df832b5839": {
     "model_module": "@jupyter-widgets/controls",
     "model_name": "DescriptionStyleModel",
     "state": {
      "_model_module": "@jupyter-widgets/controls",
      "_model_module_version": "1.5.0",
      "_model_name": "DescriptionStyleModel",
      "_view_count": null,
      "_view_module": "@jupyter-widgets/base",
      "_view_module_version": "1.2.0",
      "_view_name": "StyleView",
      "description_width": ""
     }
    },
    "e7c3c122785f477ea4274e9744fa4489": {
     "model_module": "@jupyter-widgets/controls",
     "model_name": "FloatProgressModel",
     "state": {
      "_dom_classes": [],
      "_model_module": "@jupyter-widgets/controls",
      "_model_module_version": "1.5.0",
      "_model_name": "FloatProgressModel",
      "_view_count": null,
      "_view_module": "@jupyter-widgets/controls",
      "_view_module_version": "1.5.0",
      "_view_name": "ProgressView",
      "bar_style": "success",
      "description": "Downloading: ",
      "description_tooltip": null,
      "layout": "IPY_MODEL_26a1d657607245b7b86a016ab044257b",
      "max": 2488,
      "min": 0,
      "orientation": "horizontal",
      "style": "IPY_MODEL_3a2b30a829f543078b5f9fa25cc3b8f9",
      "value": 2488
     }
    },
    "eb969d12a84e4e09a3b54dd65dc52d0a": {
     "model_module": "@jupyter-widgets/controls",
     "model_name": "ProgressStyleModel",
     "state": {
      "_model_module": "@jupyter-widgets/controls",
      "_model_module_version": "1.5.0",
      "_model_name": "ProgressStyleModel",
      "_view_count": null,
      "_view_module": "@jupyter-widgets/base",
      "_view_module_version": "1.2.0",
      "_view_name": "StyleView",
      "bar_color": null,
      "description_width": "initial"
     }
    },
    "ef3d0ec29b4048258ed54c1202dc0267": {
     "model_module": "@jupyter-widgets/base",
     "model_name": "LayoutModel",
     "state": {
      "_model_module": "@jupyter-widgets/base",
      "_model_module_version": "1.2.0",
      "_model_name": "LayoutModel",
      "_view_count": null,
      "_view_module": "@jupyter-widgets/base",
      "_view_module_version": "1.2.0",
      "_view_name": "LayoutView",
      "align_content": null,
      "align_items": null,
      "align_self": null,
      "border": null,
      "bottom": null,
      "display": null,
      "flex": null,
      "flex_flow": null,
      "grid_area": null,
      "grid_auto_columns": null,
      "grid_auto_flow": null,
      "grid_auto_rows": null,
      "grid_column": null,
      "grid_gap": null,
      "grid_row": null,
      "grid_template_areas": null,
      "grid_template_columns": null,
      "grid_template_rows": null,
      "height": null,
      "justify_content": null,
      "justify_items": null,
      "left": null,
      "margin": null,
      "max_height": null,
      "max_width": null,
      "min_height": null,
      "min_width": null,
      "object_fit": null,
      "object_position": null,
      "order": null,
      "overflow": null,
      "overflow_x": null,
      "overflow_y": null,
      "padding": null,
      "right": null,
      "top": null,
      "visibility": null,
      "width": null
     }
    },
    "f1dec279714e475dbcb86fd7eda43c3d": {
     "model_module": "@jupyter-widgets/controls",
     "model_name": "HBoxModel",
     "state": {
      "_dom_classes": [],
      "_model_module": "@jupyter-widgets/controls",
      "_model_module_version": "1.5.0",
      "_model_name": "HBoxModel",
      "_view_count": null,
      "_view_module": "@jupyter-widgets/controls",
      "_view_module_version": "1.5.0",
      "_view_name": "HBoxView",
      "box_style": "",
      "children": [
       "IPY_MODEL_e7c3c122785f477ea4274e9744fa4489",
       "IPY_MODEL_4fa84d56e55f4b8c89d8588f79c0e532"
      ],
      "layout": "IPY_MODEL_b0a0ce8518974fb98cc86c387cbacbc8"
     }
    },
    "f21f639991e04b02aa40eeb60bbc9731": {
     "model_module": "@jupyter-widgets/base",
     "model_name": "LayoutModel",
     "state": {
      "_model_module": "@jupyter-widgets/base",
      "_model_module_version": "1.2.0",
      "_model_name": "LayoutModel",
      "_view_count": null,
      "_view_module": "@jupyter-widgets/base",
      "_view_module_version": "1.2.0",
      "_view_name": "LayoutView",
      "align_content": null,
      "align_items": null,
      "align_self": null,
      "border": null,
      "bottom": null,
      "display": null,
      "flex": null,
      "flex_flow": null,
      "grid_area": null,
      "grid_auto_columns": null,
      "grid_auto_flow": null,
      "grid_auto_rows": null,
      "grid_column": null,
      "grid_gap": null,
      "grid_row": null,
      "grid_template_areas": null,
      "grid_template_columns": null,
      "grid_template_rows": null,
      "height": null,
      "justify_content": null,
      "justify_items": null,
      "left": null,
      "margin": null,
      "max_height": null,
      "max_width": null,
      "min_height": null,
      "min_width": null,
      "object_fit": null,
      "object_position": null,
      "order": null,
      "overflow": null,
      "overflow_x": null,
      "overflow_y": null,
      "padding": null,
      "right": null,
      "top": null,
      "visibility": null,
      "width": null
     }
    },
    "f4b9274475304aac8b808760d2286d4e": {
     "model_module": "@jupyter-widgets/controls",
     "model_name": "HTMLModel",
     "state": {
      "_dom_classes": [],
      "_model_module": "@jupyter-widgets/controls",
      "_model_module_version": "1.5.0",
      "_model_name": "HTMLModel",
      "_view_count": null,
      "_view_module": "@jupyter-widgets/controls",
      "_view_module_version": "1.5.0",
      "_view_name": "HTMLView",
      "description": "",
      "description_tooltip": null,
      "layout": "IPY_MODEL_6d2d672f0bb24a71b58b687d10897ab4",
      "placeholder": "​",
      "style": "IPY_MODEL_1397aaab783d46c99277bc7c4c4ed400",
      "value": " 792k/792k [00:01&lt;00:00, 534kB/s]"
     }
    }
   }
  }
 },
 "nbformat": 4,
 "nbformat_minor": 0
}
