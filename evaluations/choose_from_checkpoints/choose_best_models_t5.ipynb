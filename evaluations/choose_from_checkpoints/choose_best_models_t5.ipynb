{
 "cells": [
  {
   "cell_type": "markdown",
   "metadata": {},
   "source": [
    "Choose T5 model from checkpoints based on ROUGE-2 score.    \n",
    "\n",
    "Find out which **beam_search** worked the best."
   ]
  },
  {
   "cell_type": "code",
   "execution_count": 1,
   "metadata": {},
   "outputs": [],
   "source": [
    "import os\n",
    "\n",
    "# use metrics from HF\n",
    "import datasets"
   ]
  },
  {
   "cell_type": "code",
   "execution_count": 2,
   "metadata": {},
   "outputs": [
    {
     "data": {
      "text/plain": [
       "['accuracy',\n",
       " 'bertscore',\n",
       " 'bleu',\n",
       " 'bleurt',\n",
       " 'comet',\n",
       " 'coval',\n",
       " 'f1',\n",
       " 'gleu',\n",
       " 'glue',\n",
       " 'indic_glue',\n",
       " 'meteor',\n",
       " 'precision',\n",
       " 'recall',\n",
       " 'rouge',\n",
       " 'sacrebleu',\n",
       " 'sari',\n",
       " 'seqeval',\n",
       " 'squad',\n",
       " 'squad_v2',\n",
       " 'super_glue',\n",
       " 'wer',\n",
       " 'xnli']"
      ]
     },
     "execution_count": 2,
     "metadata": {},
     "output_type": "execute_result"
    }
   ],
   "source": [
    "# list availbale metrics\n",
    "\n",
    "from datasets import list_metrics\n",
    "metrics_list = list_metrics()\n",
    "\n",
    "metrics_list"
   ]
  },
  {
   "cell_type": "code",
   "execution_count": 3,
   "metadata": {},
   "outputs": [],
   "source": [
    "# load rouge metric\n",
    "metric = datasets.load_metric('rouge')"
   ]
  },
  {
   "cell_type": "code",
   "execution_count": 4,
   "metadata": {},
   "outputs": [
    {
     "data": {
      "text/plain": [
       "{'rouge1': 77.7778, 'rouge2': 62.5, 'rougeL': 77.7778, 'rougeLsum': 77.7778}"
      ]
     },
     "execution_count": 4,
     "metadata": {},
     "output_type": "execute_result"
    }
   ],
   "source": [
    "# example\n",
    "test1 = ['this is test and I believe it works']\n",
    "test2 = ['this is test and I hope it works well enough']\n",
    "\n",
    "metric.add_batch(predictions=test1, references=test2)\n",
    "\n",
    "# computer the rouge score\n",
    "res = metric.compute()\n",
    "\n",
    "{k: round(v.mid.fmeasure * 100, 4) for k, v in res.items()}"
   ]
  },
  {
   "cell_type": "code",
   "execution_count": null,
   "metadata": {},
   "outputs": [],
   "source": []
  },
  {
   "cell_type": "code",
   "execution_count": null,
   "metadata": {},
   "outputs": [],
   "source": []
  },
  {
   "cell_type": "code",
   "execution_count": 5,
   "metadata": {},
   "outputs": [],
   "source": [
    "def calc_rouge_t5(PATH_ORIGINAL, PATH_GENERATED):\n",
    "    \"\"\"\n",
    "    PATH_ORIGINAL - target test generations\n",
    "    PATH_GENERATED - path to the generated sections\n",
    "    \"\"\"\n",
    "    \n",
    "    # read references\n",
    "    with open(PATH_ORIGINAL) as f:\n",
    "        gold_references = [line.strip() for line in f]\n",
    "    \n",
    "    # read candidates\n",
    "    with open(PATH_GENERATED) as f:\n",
    "        current_candidates = [line.strip() for line in f]\n",
    "\n",
    "    # check same length\n",
    "    assert len(current_candidates) == len(gold_references)\n",
    "\n",
    "    ### calculate ROUGE scores\n",
    "\n",
    "    # add pairs of predictions/reference to a temporary and memory efficient cache table (HF)\n",
    "    metric.add_batch(predictions=current_candidates, references=gold_references)\n",
    "\n",
    "    # length of a Metric object will return the number of examples (predictions or predictions/references pair)\n",
    "    assert len(metric) == len(current_candidates)\n",
    "\n",
    "    # gathers all the cached predictions and references to compute the metric score\n",
    "    final_score = metric.compute()\n",
    "\n",
    "    # logging\n",
    "    # print(PATH_GENERATED, \" ~~~ \", {k: round(v.mid.fmeasure * 100, 4) for k, v in final_score.items()})\n",
    "\n",
    "    final_rouge_scores = {k: round(v.mid.fmeasure * 100, 4) for k, v in final_score.items()}\n",
    "\n",
    "    # get only the rouge2\n",
    "    rouge2 = final_rouge_scores['rouge2']\n",
    "    \n",
    "    return {PATH_GENERATED: (rouge2, final_rouge_scores)}"
   ]
  },
  {
   "cell_type": "code",
   "execution_count": 6,
   "metadata": {},
   "outputs": [],
   "source": [
    "PATH_ORIGINAL = '/home/ruslan_yermakov/nlg-ra/T5_experiments/T5_plain/input_data/test.target'"
   ]
  },
  {
   "cell_type": "code",
   "execution_count": 7,
   "metadata": {},
   "outputs": [],
   "source": [
    "# keep results of different bart models(checkpints) and beam_size\n",
    "t5_all_results = []"
   ]
  },
  {
   "cell_type": "code",
   "execution_count": 8,
   "metadata": {},
   "outputs": [
    {
     "name": "stdout",
     "output_type": "stream",
     "text": [
      "{'/home/ruslan_yermakov/nlg-ra/T5_experiments/T5_plain/hp_1e_3_1/test_generations_beam_1.txt': (35.8582, {'rouge1': 49.0801, 'rouge2': 35.8582, 'rougeL': 42.0133, 'rougeLsum': 42.0334})}\n",
      "{'/home/ruslan_yermakov/nlg-ra/T5_experiments/T5_plain/hp_1e_3_1/test_generations_beam_10.txt': (31.3907, {'rouge1': 46.609, 'rouge2': 31.3907, 'rougeL': 37.1173, 'rougeLsum': 37.1775})}\n",
      "{'/home/ruslan_yermakov/nlg-ra/T5_experiments/T5_plain/hp_1e_3_1/test_generations_beam_5.txt': (32.7242, {'rouge1': 47.8031, 'rouge2': 32.7242, 'rougeL': 38.6072, 'rougeLsum': 38.6208})}\n"
     ]
    }
   ],
   "source": [
    "# T5 hp_1e_3_1 outputs final\n",
    "\n",
    "PATH_GENERATED = '/home/ruslan_yermakov/nlg-ra/T5_experiments/T5_plain/hp_1e_3_1/test_generations_beam_1.txt'\n",
    "\n",
    "res = calc_rouge_t5(PATH_ORIGINAL, PATH_GENERATED)\n",
    "print(res)\n",
    "\n",
    "t5_all_results.append(res)\n",
    "\n",
    "\n",
    "PATH_GENERATED = '/home/ruslan_yermakov/nlg-ra/T5_experiments/T5_plain/hp_1e_3_1/test_generations_beam_10.txt'\n",
    "\n",
    "res = calc_rouge_t5(PATH_ORIGINAL, PATH_GENERATED)\n",
    "print(res)\n",
    "\n",
    "t5_all_results.append(res)\n",
    "\n",
    "\n",
    "PATH_GENERATED = '/home/ruslan_yermakov/nlg-ra/T5_experiments/T5_plain/hp_1e_3_1/test_generations_beam_5.txt'\n",
    "\n",
    "res = calc_rouge_t5(PATH_ORIGINAL, PATH_GENERATED)\n",
    "print(res)\n",
    "\n",
    "t5_all_results.append(res)"
   ]
  },
  {
   "cell_type": "markdown",
   "metadata": {},
   "source": [
    "ROUGE-score results when running ./run_eval:    \n",
    "\n",
    "\"Beam_size 1\": {\"rouge1\": 49.9203, \"rouge2\": 36.5194, \"rougeL\": 42.626, \"rougeLsum\": 48.9432, \"n_obs\": 742, \"runtime\": 344, \"seconds_per_sample\": 0.4636}   \n",
    "\n",
    "\"Beam_size 10\": {\"rouge1\": 47.4838, \"rouge2\": 31.7817, \"rougeL\": 37.6113, \"rougeLsum\": 46.0008, \"n_obs\": 742, \"runtime\": 1650, \"seconds_per_sample\": 2.2237}   \n",
    "\n",
    "\"Beam_size 5\": {\"rouge1\": 48.6738, \"rouge2\": 33.2454, \"rougeL\": 39.1518, \"rougeLsum\": 47.3546, \"n_obs\": 742, \"runtime\": 844, \"seconds_per_sample\": 1.1375}    \n",
    "\n",
    "\n",
    "**Note**: Results a bit different...."
   ]
  },
  {
   "cell_type": "code",
   "execution_count": 10,
   "metadata": {},
   "outputs": [
    {
     "name": "stdout",
     "output_type": "stream",
     "text": [
      "{'/home/ruslan_yermakov/nlg-ra/T5_experiments/T5_plain/hp_1e_3_1/checkpoint-2000/test_generations_beam_1.txt': (34.5407, {'rouge1': 48.5086, 'rouge2': 34.5407, 'rougeL': 40.9011, 'rougeLsum': 40.9303})}\n",
      "{'/home/ruslan_yermakov/nlg-ra/T5_experiments/T5_plain/hp_1e_3_1/checkpoint-2000/test_generations_beam_10.txt': (31.6091, {'rouge1': 46.9026, 'rouge2': 31.6091, 'rougeL': 37.3589, 'rougeLsum': 37.3751})}\n",
      "{'/home/ruslan_yermakov/nlg-ra/T5_experiments/T5_plain/hp_1e_3_1/checkpoint-2000/test_generations_beam_5.txt': (32.3363, {'rouge1': 47.6245, 'rouge2': 32.3363, 'rougeL': 38.2515, 'rougeLsum': 38.2648})}\n"
     ]
    }
   ],
   "source": [
    "# T5 hp_1e_3_1 outputs checkpoint-2000\n",
    "\n",
    "PATH_GENERATED = '/home/ruslan_yermakov/nlg-ra/T5_experiments/T5_plain/hp_1e_3_1/checkpoint-2000/test_generations_beam_1.txt'\n",
    "\n",
    "res = calc_rouge_t5(PATH_ORIGINAL, PATH_GENERATED)\n",
    "print(res)\n",
    "\n",
    "t5_all_results.append(res)\n",
    "\n",
    "\n",
    "PATH_GENERATED = '/home/ruslan_yermakov/nlg-ra/T5_experiments/T5_plain/hp_1e_3_1/checkpoint-2000/test_generations_beam_10.txt'\n",
    "\n",
    "res = calc_rouge_t5(PATH_ORIGINAL, PATH_GENERATED)\n",
    "print(res)\n",
    "\n",
    "t5_all_results.append(res)\n",
    "\n",
    "\n",
    "PATH_GENERATED = '/home/ruslan_yermakov/nlg-ra/T5_experiments/T5_plain/hp_1e_3_1/checkpoint-2000/test_generations_beam_5.txt'\n",
    "\n",
    "res = calc_rouge_t5(PATH_ORIGINAL, PATH_GENERATED)\n",
    "print(res)\n",
    "\n",
    "t5_all_results.append(res)"
   ]
  },
  {
   "cell_type": "code",
   "execution_count": 12,
   "metadata": {},
   "outputs": [
    {
     "name": "stdout",
     "output_type": "stream",
     "text": [
      "{'/home/ruslan_yermakov/nlg-ra/T5_experiments/T5_plain/hp_5e_5_1/test_generations_beam_1.txt': (29.8581, {'rouge1': 46.0089, 'rouge2': 29.8581, 'rougeL': 36.7163, 'rougeLsum': 36.6954})}\n",
      "{'/home/ruslan_yermakov/nlg-ra/T5_experiments/T5_plain/hp_5e_5_1/test_generations_beam_10.txt': (29.7606, {'rouge1': 46.4836, 'rouge2': 29.7606, 'rougeL': 35.8134, 'rougeLsum': 35.8189})}\n",
      "{'/home/ruslan_yermakov/nlg-ra/T5_experiments/T5_plain/hp_5e_5_1/test_generations_beam_5.txt': (29.9955, {'rouge1': 47.0268, 'rouge2': 29.9955, 'rougeL': 36.1874, 'rougeLsum': 36.1776})}\n"
     ]
    }
   ],
   "source": [
    "# T5 hp_5e_5_1 outputs final\n",
    "\n",
    "PATH_GENERATED = '/home/ruslan_yermakov/nlg-ra/T5_experiments/T5_plain/hp_5e_5_1/test_generations_beam_1.txt'\n",
    "\n",
    "res = calc_rouge_t5(PATH_ORIGINAL, PATH_GENERATED)\n",
    "print(res)\n",
    "\n",
    "t5_all_results.append(res)\n",
    "\n",
    "\n",
    "PATH_GENERATED = '/home/ruslan_yermakov/nlg-ra/T5_experiments/T5_plain/hp_5e_5_1/test_generations_beam_10.txt'\n",
    "\n",
    "res = calc_rouge_t5(PATH_ORIGINAL, PATH_GENERATED)\n",
    "print(res)\n",
    "\n",
    "t5_all_results.append(res)\n",
    "\n",
    "\n",
    "PATH_GENERATED = '/home/ruslan_yermakov/nlg-ra/T5_experiments/T5_plain/hp_5e_5_1/test_generations_beam_5.txt'\n",
    "\n",
    "res = calc_rouge_t5(PATH_ORIGINAL, PATH_GENERATED)\n",
    "print(res)\n",
    "\n",
    "t5_all_results.append(res)"
   ]
  },
  {
   "cell_type": "code",
   "execution_count": 14,
   "metadata": {},
   "outputs": [
    {
     "name": "stdout",
     "output_type": "stream",
     "text": [
      "{'/home/ruslan_yermakov/nlg-ra/T5_experiments/T5_plain/hp_5e_5_1/checkpoint-1000/test_generations_beam_1.txt': (28.4462, {'rouge1': 44.7807, 'rouge2': 28.4462, 'rougeL': 35.5207, 'rougeLsum': 35.5078})}\n",
      "{'/home/ruslan_yermakov/nlg-ra/T5_experiments/T5_plain/hp_5e_5_1/checkpoint-1000/test_generations_beam_10.txt': (29.4525, {'rouge1': 46.0201, 'rouge2': 29.4525, 'rougeL': 35.3518, 'rougeLsum': 35.3531})}\n",
      "{'/home/ruslan_yermakov/nlg-ra/T5_experiments/T5_plain/hp_5e_5_1/checkpoint-1000/test_generations_beam_5.txt': (29.6051, {'rouge1': 46.3869, 'rouge2': 29.6051, 'rougeL': 35.7923, 'rougeLsum': 35.7673})}\n"
     ]
    }
   ],
   "source": [
    "# T5 hp_5e_5_1 outputs checkpoint-1000\n",
    "\n",
    "PATH_GENERATED = '/home/ruslan_yermakov/nlg-ra/T5_experiments/T5_plain/hp_5e_5_1/checkpoint-1000/test_generations_beam_1.txt'\n",
    "\n",
    "res = calc_rouge_t5(PATH_ORIGINAL, PATH_GENERATED)\n",
    "print(res)\n",
    "\n",
    "t5_all_results.append(res)\n",
    "\n",
    "\n",
    "PATH_GENERATED = '/home/ruslan_yermakov/nlg-ra/T5_experiments/T5_plain/hp_5e_5_1/checkpoint-1000/test_generations_beam_10.txt'\n",
    "\n",
    "res = calc_rouge_t5(PATH_ORIGINAL, PATH_GENERATED)\n",
    "print(res)\n",
    "\n",
    "t5_all_results.append(res)\n",
    "\n",
    "\n",
    "PATH_GENERATED = '/home/ruslan_yermakov/nlg-ra/T5_experiments/T5_plain/hp_5e_5_1/checkpoint-1000/test_generations_beam_5.txt'\n",
    "\n",
    "res = calc_rouge_t5(PATH_ORIGINAL, PATH_GENERATED)\n",
    "print(res)\n",
    "\n",
    "t5_all_results.append(res)"
   ]
  },
  {
   "cell_type": "code",
   "execution_count": 15,
   "metadata": {},
   "outputs": [
    {
     "name": "stdout",
     "output_type": "stream",
     "text": [
      "{'/home/ruslan_yermakov/nlg-ra/T5_experiments/T5_plain/hp_1e_5_1_1/test_generations_beam_1.txt': (27.5561, {'rouge1': 44.2003, 'rouge2': 27.5561, 'rougeL': 34.3786, 'rougeLsum': 34.3755})}\n",
      "{'/home/ruslan_yermakov/nlg-ra/T5_experiments/T5_plain/hp_1e_5_1_1/test_generations_beam_10.txt': (29.1512, {'rouge1': 45.8374, 'rouge2': 29.1512, 'rougeL': 35.0529, 'rougeLsum': 35.0477})}\n",
      "{'/home/ruslan_yermakov/nlg-ra/T5_experiments/T5_plain/hp_1e_5_1_1/test_generations_beam_5.txt': (29.1522, {'rouge1': 46.0351, 'rouge2': 29.1522, 'rougeL': 35.2759, 'rougeLsum': 35.2766})}\n"
     ]
    }
   ],
   "source": [
    "# T5 hp_1e_5_1_1 outputs final\n",
    "\n",
    "PATH_GENERATED = '/home/ruslan_yermakov/nlg-ra/T5_experiments/T5_plain/hp_1e_5_1_1/test_generations_beam_1.txt'\n",
    "\n",
    "res = calc_rouge_t5(PATH_ORIGINAL, PATH_GENERATED)\n",
    "print(res)\n",
    "\n",
    "t5_all_results.append(res)\n",
    "\n",
    "\n",
    "PATH_GENERATED = '/home/ruslan_yermakov/nlg-ra/T5_experiments/T5_plain/hp_1e_5_1_1/test_generations_beam_10.txt'\n",
    "\n",
    "res = calc_rouge_t5(PATH_ORIGINAL, PATH_GENERATED)\n",
    "print(res)\n",
    "\n",
    "t5_all_results.append(res)\n",
    "\n",
    "\n",
    "PATH_GENERATED = '/home/ruslan_yermakov/nlg-ra/T5_experiments/T5_plain/hp_1e_5_1_1/test_generations_beam_5.txt'\n",
    "\n",
    "res = calc_rouge_t5(PATH_ORIGINAL, PATH_GENERATED)\n",
    "print(res)\n",
    "\n",
    "t5_all_results.append(res)"
   ]
  },
  {
   "cell_type": "code",
   "execution_count": 16,
   "metadata": {},
   "outputs": [
    {
     "data": {
      "text/plain": [
       "15"
      ]
     },
     "execution_count": 16,
     "metadata": {},
     "output_type": "execute_result"
    }
   ],
   "source": [
    "len(t5_all_results)"
   ]
  },
  {
   "cell_type": "code",
   "execution_count": 17,
   "metadata": {},
   "outputs": [],
   "source": [
    "def _sorting_fun_rouge1(result):\n",
    "    for key in result:\n",
    "        return result[key][1]['rouge1']\n",
    "\n",
    "def _sorting_fun_rouge2(result):\n",
    "    for key in result:\n",
    "        return result[key][1]['rouge2']\n",
    "    \n",
    "def _sorting_fun_rougeL(result):\n",
    "    for key in result:\n",
    "        return result[key][1]['rougeL']\n",
    "\n",
    "def _sorting_fun_rougeLsum(result):\n",
    "    for key in result:\n",
    "        return result[key][1]['rougeLsum']"
   ]
  },
  {
   "cell_type": "code",
   "execution_count": 18,
   "metadata": {},
   "outputs": [
    {
     "name": "stdout",
     "output_type": "stream",
     "text": [
      "Best generated text according to ROUGE-1:  {'/home/ruslan_yermakov/nlg-ra/T5_experiments/T5_plain/hp_1e_3_1/test_generations_beam_1.txt': (35.8582, {'rouge1': 49.0801, 'rouge2': 35.8582, 'rougeL': 42.0133, 'rougeLsum': 42.0334})}\n"
     ]
    }
   ],
   "source": [
    "print('Best generated text according to ROUGE-1: ', sorted(t5_all_results, key=_sorting_fun_rouge1, reverse=True)[0])"
   ]
  },
  {
   "cell_type": "code",
   "execution_count": 19,
   "metadata": {},
   "outputs": [
    {
     "name": "stdout",
     "output_type": "stream",
     "text": [
      "Best generated text according to ROUGE-2:  {'/home/ruslan_yermakov/nlg-ra/T5_experiments/T5_plain/hp_1e_3_1/test_generations_beam_1.txt': (35.8582, {'rouge1': 49.0801, 'rouge2': 35.8582, 'rougeL': 42.0133, 'rougeLsum': 42.0334})}\n"
     ]
    }
   ],
   "source": [
    "print('Best generated text according to ROUGE-2: ', sorted(t5_all_results, key=_sorting_fun_rouge2, reverse=True)[0])"
   ]
  },
  {
   "cell_type": "code",
   "execution_count": 20,
   "metadata": {},
   "outputs": [
    {
     "name": "stdout",
     "output_type": "stream",
     "text": [
      "Best generated text according to ROUGE-L:  {'/home/ruslan_yermakov/nlg-ra/T5_experiments/T5_plain/hp_1e_3_1/test_generations_beam_1.txt': (35.8582, {'rouge1': 49.0801, 'rouge2': 35.8582, 'rougeL': 42.0133, 'rougeLsum': 42.0334})}\n"
     ]
    }
   ],
   "source": [
    "print('Best generated text according to ROUGE-L: ', sorted(t5_all_results, key=_sorting_fun_rougeL, reverse=True)[0])"
   ]
  },
  {
   "cell_type": "code",
   "execution_count": 21,
   "metadata": {},
   "outputs": [
    {
     "name": "stdout",
     "output_type": "stream",
     "text": [
      "Best generated text according to ROUGE-Lsum:  {'/home/ruslan_yermakov/nlg-ra/T5_experiments/T5_plain/hp_1e_3_1/test_generations_beam_1.txt': (35.8582, {'rouge1': 49.0801, 'rouge2': 35.8582, 'rougeL': 42.0133, 'rougeLsum': 42.0334})}\n"
     ]
    }
   ],
   "source": [
    "print('Best generated text according to ROUGE-Lsum: ', sorted(t5_all_results, key=_sorting_fun_rougeLsum, reverse=True)[0])"
   ]
  },
  {
   "cell_type": "code",
   "execution_count": null,
   "metadata": {},
   "outputs": [],
   "source": []
  }
 ],
 "metadata": {
  "kernelspec": {
   "display_name": "t5_text2text",
   "language": "python",
   "name": "t5_text2text"
  },
  "language_info": {
   "codemirror_mode": {
    "name": "ipython",
    "version": 3
   },
   "file_extension": ".py",
   "mimetype": "text/x-python",
   "name": "python",
   "nbconvert_exporter": "python",
   "pygments_lexer": "ipython3",
   "version": "3.7.9"
  }
 },
 "nbformat": 4,
 "nbformat_minor": 2
}
