{
 "cells": [
  {
   "cell_type": "code",
   "execution_count": 12,
   "metadata": {},
   "outputs": [],
   "source": [
    "import tensorflow as tf\n",
    "\n",
    "from bleurt import score"
   ]
  },
  {
   "cell_type": "code",
   "execution_count": null,
   "metadata": {},
   "outputs": [],
   "source": [
    "# run this line to avoid bugs\n",
    "# https://github.com/google-research/bleurt/issues/7\n",
    "tf.compat.v1.flags.DEFINE_string('f','','')"
   ]
  },
  {
   "cell_type": "code",
   "execution_count": 26,
   "metadata": {},
   "outputs": [],
   "source": [
    "# checkpoint = \"bleurt/test_checkpoint\"\n",
    "\n",
    "checkpoint_default = \"/home/ruslan_yermakov/nlg-ra/evaluations/bleurt/bleurt/test_checkpoint\"\n",
    "\n",
    "\n",
    "checkpoint_large = '/home/ruslan_yermakov/nlg-ra/evaluations/bleurt/bleurt/test_checkpoint/bleurt-large-512'"
   ]
  },
  {
   "cell_type": "code",
   "execution_count": 27,
   "metadata": {},
   "outputs": [],
   "source": [
    "references = [\"This is a test, Ben.\"]\n",
    "candidates = [\"This is the test, Ruslan.\"]"
   ]
  },
  {
   "cell_type": "code",
   "execution_count": 28,
   "metadata": {},
   "outputs": [
    {
     "name": "stdout",
     "output_type": "stream",
     "text": [
      "INFO:tensorflow:Reading checkpoint /home/ruslan_yermakov/nlg-ra/evaluations/bleurt/bleurt/test_checkpoint/bleurt-large-512.\n",
      "INFO:tensorflow:Config file found, reading.\n",
      "INFO:tensorflow:Will load checkpoint bert_custom\n",
      "INFO:tensorflow:Performs basic checks...\n",
      "INFO:tensorflow:... name:bert_custom\n",
      "INFO:tensorflow:... vocab_file:vocab.txt\n",
      "INFO:tensorflow:... bert_config_file:bert_config.json\n",
      "INFO:tensorflow:... do_lower_case:True\n",
      "INFO:tensorflow:... max_seq_length:512\n",
      "INFO:tensorflow:Creating BLEURT scorer.\n",
      "INFO:tensorflow:Loading model...\n",
      "INFO:tensorflow:BLEURT initialized.\n",
      "[-0.13007938861846924]\n"
     ]
    }
   ],
   "source": [
    "# scorer = score.BleurtScorer(checkpoint=None)\n",
    "scorer = score.BleurtScorer(checkpoint=checkpoint_large)\n",
    "\n",
    "scores = scorer.score(references, candidates)\n",
    "\n",
    "assert type(scores) == list and len(scores) == 1\n",
    "print(scores)"
   ]
  },
  {
   "cell_type": "code",
   "execution_count": 29,
   "metadata": {},
   "outputs": [
    {
     "name": "stdout",
     "output_type": "stream",
     "text": [
      "INFO:tensorflow:Reading checkpoint /home/ruslan_yermakov/nlg-ra/evaluations/bleurt/bleurt/test_checkpoint/bleurt-large-512.\n",
      "INFO:tensorflow:Config file found, reading.\n",
      "INFO:tensorflow:Will load checkpoint bert_custom\n",
      "INFO:tensorflow:Performs basic checks...\n",
      "INFO:tensorflow:... name:bert_custom\n",
      "INFO:tensorflow:... vocab_file:vocab.txt\n",
      "INFO:tensorflow:... bert_config_file:bert_config.json\n",
      "INFO:tensorflow:... do_lower_case:True\n",
      "INFO:tensorflow:... max_seq_length:512\n",
      "INFO:tensorflow:Creating BLEURT scorer.\n",
      "INFO:tensorflow:Loading model...\n",
      "INFO:tensorflow:BLEURT initialized.\n"
     ]
    },
    {
     "data": {
      "text/plain": [
       "[-1.155488133430481, 0.5667375326156616]"
      ]
     },
     "execution_count": 29,
     "metadata": {},
     "output_type": "execute_result"
    }
   ],
   "source": [
    "references = ['This is a test.', 'This is surely a test']\n",
    "candidates = ['This is also a text', 'This could be a test']\n",
    "# checkpoint = 'C:/bleurt/bleurt/checkpoints/bleurt-tiny-512'\n",
    "scorer = score.BleurtScorer(checkpoint=checkpoint_large)\n",
    "scorer.score(references, candidates, batch_size = 2)"
   ]
  },
  {
   "cell_type": "code",
   "execution_count": null,
   "metadata": {},
   "outputs": [],
   "source": []
  },
  {
   "cell_type": "code",
   "execution_count": null,
   "metadata": {},
   "outputs": [],
   "source": []
  },
  {
   "cell_type": "code",
   "execution_count": null,
   "metadata": {},
   "outputs": [],
   "source": [
    "checkpoint_base = '/home/ruslan_yermakov/nlg-ra/evaluations/bleurt/bleurt-base-512'"
   ]
  },
  {
   "cell_type": "code",
   "execution_count": null,
   "metadata": {},
   "outputs": [],
   "source": [
    "references = [\"This is a test, Ben.\"]\n",
    "candidates = [\"This is the test, Ruslan.\"]\n",
    "\n",
    "\n",
    "scorer = score.BleurtScorer(checkpoint=checkpoint_base)\n",
    "scores = scorer.score(references, candidates)\n",
    "print(scores)"
   ]
  }
 ],
 "metadata": {
  "kernelspec": {
   "display_name": "t5_text2text",
   "language": "python",
   "name": "t5_text2text"
  },
  "language_info": {
   "codemirror_mode": {
    "name": "ipython",
    "version": 3
   },
   "file_extension": ".py",
   "mimetype": "text/x-python",
   "name": "python",
   "nbconvert_exporter": "python",
   "pygments_lexer": "ipython3",
   "version": "3.7.9"
  }
 },
 "nbformat": 4,
 "nbformat_minor": 2
}
