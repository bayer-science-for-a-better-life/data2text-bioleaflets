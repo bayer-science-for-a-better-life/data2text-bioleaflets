{
 "cells": [
  {
   "cell_type": "code",
   "execution_count": 1,
   "metadata": {},
   "outputs": [],
   "source": [
    "import pickle\n",
    "\n",
    "from data_preparation.EMA_documents import SectionLeaflet, Leaflet\n",
    "from helpers.entity_recognition import highlight_entities, unique_entities"
   ]
  },
  {
   "cell_type": "code",
   "execution_count": 2,
   "metadata": {},
   "outputs": [],
   "source": [
    "# load array of objects, where object - class Leaflet\n",
    "with open(\"datasets/LeafletsDataset_section1_NER_outputs.dat\", \"rb\") as f:\n",
    "    loaded_package_leaflets = pickle.load(f)"
   ]
  },
  {
   "cell_type": "code",
   "execution_count": 10,
   "metadata": {},
   "outputs": [],
   "source": [
    "leaflet_example = loaded_package_leaflets[567]\n",
    "\n",
    "section1_content = leaflet_example.section1.section_content\n",
    "section1_entities = leaflet_example.section1.entity_recognition"
   ]
  },
  {
   "cell_type": "code",
   "execution_count": 11,
   "metadata": {},
   "outputs": [
    {
     "data": {
      "text/html": [
       "<span style=\"background-color:rgba(135,206,250,1);\"><span style=\"background-color:rgba(135,206,250,1);\"><span style=\"background-color:rgba(135,206,250,1);\">synflorix</span></span></span> is a <span style=\"background-color:rgba(135,206,250,1);\"><span style=\"background-color:rgba(135,206,250,1);\">pneumococcal conjugate <span style=\"background-color:rgba(135,206,250,1);\">vaccine</span></span></span>. your doctor or nurse will inject your child with this <span style=\"background-color:rgba(135,206,250,1);\">vaccine</span>. it is used to help protect your child from 6 weeks up to 5 y<span style=\"background-color:rgba(135,206,250,1);\">ear</span>s of age against: a <span style=\"background-color:rgba(135,206,250,1);\"><span style=\"background-color:rgba(135,206,250,1);\"><span style=\"background-color:rgba(135,206,250,1);\">bacteria</span></span></span> called ‘streptococcus <span style=\"background-color:rgba(135,206,250,1);\"><span style=\"background-color:rgba(135,206,250,1);\">pneumonia</span>e’</span>. this <span style=\"background-color:rgba(135,206,250,1);\"><span style=\"background-color:rgba(135,206,250,1);\"><span style=\"background-color:rgba(135,206,250,1);\">bacteria</span></span></span> can cause serious <span style=\"background-color:rgba(135,206,250,1);\">illnesses</span> including <span style=\"background-color:rgba(135,206,250,1);\">meningitis</span>, <span style=\"background-color:rgba(135,206,250,1);\">sepsis</span> and <span style=\"background-color:rgba(135,206,250,1);\">bacteraemia</span> (<span style=\"background-color:rgba(135,206,250,1);\"><span style=\"background-color:rgba(135,206,250,1);\"><span style=\"background-color:rgba(135,206,250,1);\">bacteria</span></span></span> in <span style=\"background-color:rgba(135,206,250,1);\">blood stream</span>) as well as <span style=\"background-color:rgba(135,206,250,1);\">ear</span> infection or <span style=\"background-color:rgba(135,206,250,1);\">pneumonia</span>. how <span style=\"background-color:rgba(135,206,250,1);\"><span style=\"background-color:rgba(135,206,250,1);\"><span style=\"background-color:rgba(135,206,250,1);\">synflorix</span></span></span> works <span style=\"background-color:rgba(135,206,250,1);\"><span style=\"background-color:rgba(135,206,250,1);\"><span style=\"background-color:rgba(135,206,250,1);\">synflorix</span></span></span> helps your body to make its own antibodies. the antibodies form a part of the <span style=\"background-color:rgba(135,206,250,1);\">immune system</span> that will protect your child against these diseases."
      ],
      "text/plain": [
       "<IPython.core.display.HTML object>"
      ]
     },
     "metadata": {},
     "output_type": "display_data"
    }
   ],
   "source": [
    "highlight_entities(section1_content, section1_entities)"
   ]
  },
  {
   "cell_type": "code",
   "execution_count": 12,
   "metadata": {},
   "outputs": [
    {
     "data": {
      "text/plain": [
       "{'bacteraemia',\n",
       " 'bacteria',\n",
       " 'blood stream',\n",
       " 'ear',\n",
       " 'ear infection',\n",
       " 'illnesses',\n",
       " 'immune system',\n",
       " 'meningitis',\n",
       " 'pneumococcal conjugate vaccine',\n",
       " 'pneumonia',\n",
       " 'pneumoniae’',\n",
       " 'sepsis',\n",
       " 'synflorix',\n",
       " 'vaccine'}"
      ]
     },
     "execution_count": 12,
     "metadata": {},
     "output_type": "execute_result"
    }
   ],
   "source": [
    "unique_entities(section1_entities)"
   ]
  },
  {
   "cell_type": "code",
   "execution_count": null,
   "metadata": {},
   "outputs": [],
   "source": []
  },
  {
   "cell_type": "code",
   "execution_count": null,
   "metadata": {},
   "outputs": [],
   "source": []
  }
 ],
 "metadata": {
  "kernelspec": {
   "display_name": "Python 3",
   "language": "python",
   "name": "python3"
  },
  "language_info": {
   "codemirror_mode": {
    "name": "ipython",
    "version": 3
   },
   "file_extension": ".py",
   "mimetype": "text/x-python",
   "name": "python",
   "nbconvert_exporter": "python",
   "pygments_lexer": "ipython3",
   "version": "3.6.10"
  }
 },
 "nbformat": 4,
 "nbformat_minor": 2
}
